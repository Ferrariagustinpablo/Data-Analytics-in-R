{
  "nbformat": 4,
  "nbformat_minor": 0,
  "metadata": {
    "colab": {
      "name": "Case Study: Joins on Stack Overflow Dataset DataCamp - R",
      "provenance": [],
      "collapsed_sections": [],
      "toc_visible": true,
      "include_colab_link": true
    },
    "kernelspec": {
      "name": "ir",
      "display_name": "R"
    }
  },
  "cells": [
    {
      "cell_type": "markdown",
      "metadata": {
        "id": "view-in-github",
        "colab_type": "text"
      },
      "source": [
        "<a href=\"https://colab.research.google.com/github/Ferrariagustinpablo/Data-Analytics-in-R/blob/main/Case_Study_Joins_on_Stack_Overflow_Dataset_DataCamp_R.ipynb\" target=\"_parent\"><img src=\"https://colab.research.google.com/assets/colab-badge.svg\" alt=\"Open In Colab\"/></a>"
      ]
    },
    {
      "cell_type": "markdown",
      "metadata": {
        "id": "cYE7mEi2ky38"
      },
      "source": [
        "# Import libraries"
      ]
    },
    {
      "cell_type": "code",
      "metadata": {
        "id": "RoD2lzL9Z3f_"
      },
      "source": [
        "# Load\n",
        "library(dplyr)\n",
        "library(ggplot2)\n",
        "library(tidyr)\n",
        "library(ggplot2)\n",
        "library(forcats) # for use of fct_reorder"
      ],
      "execution_count": 47,
      "outputs": []
    },
    {
      "cell_type": "markdown",
      "metadata": {
        "id": "0H6SOZ20oe7z"
      },
      "source": [
        "# Importings"
      ]
    },
    {
      "cell_type": "code",
      "metadata": {
        "colab": {
          "base_uri": "https://localhost:8080/"
        },
        "id": "ZgM4EBqqMfXv",
        "outputId": "eca87fb4-7a93-4259-cca9-b2a61bd16cad"
      },
      "source": [
        "# Reading datasets\n",
        "questions = readRDS(\"/content/questions.rds\")\n",
        "str(questions)\n",
        "\n",
        "question_tags = readRDS(\"/content/question_tags.rds\")\n",
        "str(question_tags)\n",
        "\n",
        "tags = readRDS(\"/content/tags.rds\")\n",
        "str(tags)\n",
        "\n",
        "answers = readRDS(\"/content/answers.rds\")\n",
        "str(answers)"
      ],
      "execution_count": 48,
      "outputs": [
        {
          "output_type": "stream",
          "text": [
            "spec_tbl_df [294,735 × 3] (S3: spec_tbl_df/tbl_df/tbl/data.frame)\n",
            " $ id           : int [1:294735] 22557677 22557707 22558084 22558395 22558613 22558677 22558887 22559180 22559312 22559322 ...\n",
            " $ creation_date: Date[1:294735], format: \"2014-03-21\" \"2014-03-21\" ...\n",
            " $ score        : int [1:294735] 1 2 2 2 0 2 8 1 0 2 ...\n",
            "tibble [497,153 × 2] (S3: tbl_df/tbl/data.frame)\n",
            " $ question_id: int [1:497153] 22557677 22557677 22557677 22557677 22558084 22558084 22558395 22558395 22558395 22558395 ...\n",
            " $ tag_id     : int [1:497153] 18 139 16088 1672 6419 92764 5569 134 9412 18621 ...\n",
            "spec_tbl_df [48,299 × 2] (S3: spec_tbl_df/tbl_df/tbl/data.frame)\n",
            " $ id      : num [1:48299] 124399 124402 124404 124405 124407 ...\n",
            " $ tag_name: chr [1:48299] \"laravel-dusk\" \"spring-cloud-vault-config\" \"spring-vault\" \"apache-bahir\" ...\n",
            " - attr(*, \"spec\")=List of 3\n",
            "  ..$ cols   :List of 2\n",
            "  .. ..$ Id     : list()\n",
            "  .. .. ..- attr(*, \"class\")= chr [1:2] \"collector_double\" \"collector\"\n",
            "  .. ..$ TagName: list()\n",
            "  .. .. ..- attr(*, \"class\")= chr [1:2] \"collector_character\" \"collector\"\n",
            "  ..$ default: list()\n",
            "  .. ..- attr(*, \"class\")= chr [1:2] \"collector_guess\" \"collector\"\n",
            "  ..$ skip   : num 1\n",
            "  ..- attr(*, \"class\")= chr \"col_spec\"\n",
            "spec_tbl_df [380,643 × 4] (S3: spec_tbl_df/tbl_df/tbl/data.frame)\n",
            " $ id           : int [1:380643] 39143713 39143869 39143935 39144014 39144252 39144375 39144430 39144625 39144794 39145033 ...\n",
            " $ creation_date: Date[1:380643], format: \"2016-08-25\" \"2016-08-25\" ...\n",
            " $ question_id  : int [1:380643] 39143518 39143518 39142481 39024390 39096741 39143885 39144077 39142728 39043648 39133170 ...\n",
            " $ score        : int [1:380643] 3 1 0 0 6 5 0 1 0 1 ...\n"
          ],
          "name": "stdout"
        }
      ]
    },
    {
      "cell_type": "markdown",
      "metadata": {
        "id": "497UvQa904ra"
      },
      "source": [
        "# Create a merged dataframe"
      ]
    },
    {
      "cell_type": "code",
      "metadata": {
        "id": "cyr-1Kexl2AO"
      },
      "source": [
        "# Join the questions and question_tags tables\n",
        "merged <- questions %>%\n",
        "  left_join(question_tags, by = c(\"id\" = \"question_id\")) %>%\n",
        "  left_join(tags, by = c(\"tag_id\" = \"id\")) %>%\n",
        "  replace_na(list(tag_name = \"only-r\", tag_id= 0))"
      ],
      "execution_count": 49,
      "outputs": []
    },
    {
      "cell_type": "markdown",
      "metadata": {
        "id": "olReEXTWomFH"
      },
      "source": [
        "# Comparing scores across tags"
      ]
    },
    {
      "cell_type": "code",
      "metadata": {
        "colab": {
          "base_uri": "https://localhost:8080/",
          "height": 219
        },
        "id": "irWKL2nBoqo0",
        "outputId": "af7dac16-8e3c-4e97-e876-a25f3bb24d92"
      },
      "source": [
        "merged %>%\n",
        "\t# Group by tag_name\n",
        "\tgroup_by(tag_name) %>%\n",
        "\t# Get mean score and num_questions\n",
        "\tsummarize(score = mean(score),\n",
        "          \t  num_questions = n()) %>%\n",
        "\t# Sort num_questions in descending order\n",
        "\tarrange(desc(num_questions)) %>%\n",
        "  head(4)"
      ],
      "execution_count": 50,
      "outputs": [
        {
          "output_type": "display_data",
          "data": {
            "text/plain": [
              "  tag_name  score    num_questions\n",
              "1 only-r    1.257926 48541        \n",
              "2 ggplot2   2.613433 28228        \n",
              "3 dataframe 2.314348 18874        \n",
              "4 shiny     1.453689 14219        "
            ],
            "text/latex": "A tibble: 4 × 3\n\\begin{tabular}{lll}\n tag\\_name & score & num\\_questions\\\\\n <chr> & <dbl> & <int>\\\\\n\\hline\n\t only-r    & 1.257926 & 48541\\\\\n\t ggplot2   & 2.613433 & 28228\\\\\n\t dataframe & 2.314348 & 18874\\\\\n\t shiny     & 1.453689 & 14219\\\\\n\\end{tabular}\n",
            "text/markdown": "\nA tibble: 4 × 3\n\n| tag_name &lt;chr&gt; | score &lt;dbl&gt; | num_questions &lt;int&gt; |\n|---|---|---|\n| only-r    | 1.257926 | 48541 |\n| ggplot2   | 2.613433 | 28228 |\n| dataframe | 2.314348 | 18874 |\n| shiny     | 1.453689 | 14219 |\n\n",
            "text/html": [
              "<table class=\"dataframe\">\n",
              "<caption>A tibble: 4 × 3</caption>\n",
              "<thead>\n",
              "\t<tr><th scope=col>tag_name</th><th scope=col>score</th><th scope=col>num_questions</th></tr>\n",
              "\t<tr><th scope=col>&lt;chr&gt;</th><th scope=col>&lt;dbl&gt;</th><th scope=col>&lt;int&gt;</th></tr>\n",
              "</thead>\n",
              "<tbody>\n",
              "\t<tr><td>only-r   </td><td>1.257926</td><td>48541</td></tr>\n",
              "\t<tr><td>ggplot2  </td><td>2.613433</td><td>28228</td></tr>\n",
              "\t<tr><td>dataframe</td><td>2.314348</td><td>18874</td></tr>\n",
              "\t<tr><td>shiny    </td><td>1.453689</td><td>14219</td></tr>\n",
              "</tbody>\n",
              "</table>\n"
            ]
          },
          "metadata": {
            "tags": []
          }
        }
      ]
    },
    {
      "cell_type": "markdown",
      "metadata": {
        "id": "Q_0jSrXopDkQ"
      },
      "source": [
        "# What tags never appear on R questions? Use anti_join"
      ]
    },
    {
      "cell_type": "code",
      "metadata": {
        "colab": {
          "base_uri": "https://localhost:8080/",
          "height": 35
        },
        "id": "ROmKFqUepF_u",
        "outputId": "25b14df3-aa16-4f46-c1bb-33897b1a0a87"
      },
      "source": [
        "# Using a join, filter for tags that are never on an R question\n",
        "tags %>%\n",
        "  anti_join(question_tags, by = c(\"id\" = \"tag_id\")) %>%\n",
        "  dim()"
      ],
      "execution_count": 51,
      "outputs": [
        {
          "output_type": "display_data",
          "data": {
            "text/plain": [
              "[1] 40459     2"
            ],
            "text/latex": "\\begin{enumerate*}\n\\item 40459\n\\item 2\n\\end{enumerate*}\n",
            "text/markdown": "1. 40459\n2. 2\n\n\n",
            "text/html": [
              "<style>\n",
              ".list-inline {list-style: none; margin:0; padding: 0}\n",
              ".list-inline>li {display: inline-block}\n",
              ".list-inline>li:not(:last-child)::after {content: \"\\00b7\"; padding: 0 .5ex}\n",
              "</style>\n",
              "<ol class=list-inline><li>40459</li><li>2</li></ol>\n"
            ]
          },
          "metadata": {
            "tags": []
          }
        }
      ]
    },
    {
      "cell_type": "markdown",
      "metadata": {
        "id": "4EdWpBhfEnCO"
      },
      "source": [
        "# Finding gaps between questions and answers"
      ]
    },
    {
      "cell_type": "code",
      "metadata": {
        "colab": {
          "base_uri": "https://localhost:8080/",
          "height": 158
        },
        "id": "zx2qkKJjEj3G",
        "outputId": "c489cc48-5f41-4a20-f789-c907787ffe73"
      },
      "source": [
        "questions %>%\n",
        "\t# Inner join questions and answers with proper suffixes\n",
        "\tinner_join(answers, by = c(\"id\" = \"question_id\"), suffix = c(\"_question\", \"_answer\")) %>%\n",
        "\t# Subtract creation_date_question from creation_date_answer to create gap\n",
        "\tmutate(date_gap = as.integer(creation_date_answer - creation_date_question)) %>%\n",
        "  head(2)"
      ],
      "execution_count": 52,
      "outputs": [
        {
          "output_type": "display_data",
          "data": {
            "text/plain": [
              "  id       creation_date_question score_question id_answer creation_date_answer\n",
              "1 22557677 2014-03-21             1              22560670  2014-03-21          \n",
              "2 22557707 2014-03-21             2              22558516  2014-03-21          \n",
              "  score_answer date_gap\n",
              "1 2            0       \n",
              "2 1            0       "
            ],
            "text/latex": "A spec\\_tbl\\_df: 2 × 7\n\\begin{tabular}{lllllll}\n id & creation\\_date\\_question & score\\_question & id\\_answer & creation\\_date\\_answer & score\\_answer & date\\_gap\\\\\n <int> & <date> & <int> & <int> & <date> & <int> & <int>\\\\\n\\hline\n\t 22557677 & 2014-03-21 & 1 & 22560670 & 2014-03-21 & 2 & 0\\\\\n\t 22557707 & 2014-03-21 & 2 & 22558516 & 2014-03-21 & 1 & 0\\\\\n\\end{tabular}\n",
            "text/markdown": "\nA spec_tbl_df: 2 × 7\n\n| id &lt;int&gt; | creation_date_question &lt;date&gt; | score_question &lt;int&gt; | id_answer &lt;int&gt; | creation_date_answer &lt;date&gt; | score_answer &lt;int&gt; | date_gap &lt;int&gt; |\n|---|---|---|---|---|---|---|\n| 22557677 | 2014-03-21 | 1 | 22560670 | 2014-03-21 | 2 | 0 |\n| 22557707 | 2014-03-21 | 2 | 22558516 | 2014-03-21 | 1 | 0 |\n\n",
            "text/html": [
              "<table class=\"dataframe\">\n",
              "<caption>A spec_tbl_df: 2 × 7</caption>\n",
              "<thead>\n",
              "\t<tr><th scope=col>id</th><th scope=col>creation_date_question</th><th scope=col>score_question</th><th scope=col>id_answer</th><th scope=col>creation_date_answer</th><th scope=col>score_answer</th><th scope=col>date_gap</th></tr>\n",
              "\t<tr><th scope=col>&lt;int&gt;</th><th scope=col>&lt;date&gt;</th><th scope=col>&lt;int&gt;</th><th scope=col>&lt;int&gt;</th><th scope=col>&lt;date&gt;</th><th scope=col>&lt;int&gt;</th><th scope=col>&lt;int&gt;</th></tr>\n",
              "</thead>\n",
              "<tbody>\n",
              "\t<tr><td>22557677</td><td>2014-03-21</td><td>1</td><td>22560670</td><td>2014-03-21</td><td>2</td><td>0</td></tr>\n",
              "\t<tr><td>22557707</td><td>2014-03-21</td><td>2</td><td>22558516</td><td>2014-03-21</td><td>1</td><td>0</td></tr>\n",
              "</tbody>\n",
              "</table>\n"
            ]
          },
          "metadata": {
            "tags": []
          }
        }
      ]
    },
    {
      "cell_type": "markdown",
      "metadata": {
        "id": "mLBnY1LxFyvy"
      },
      "source": [
        "# Joining question and answer counts"
      ]
    },
    {
      "cell_type": "code",
      "metadata": {
        "id": "imKz8PYVFuzP"
      },
      "source": [
        "# Count and sort the question id column in the answers table\n",
        "answer_counts <- answers %>%\n",
        "\tcount(question_id, sort = TRUE)"
      ],
      "execution_count": 54,
      "outputs": []
    },
    {
      "cell_type": "code",
      "metadata": {
        "colab": {
          "base_uri": "https://localhost:8080/",
          "height": 158
        },
        "id": "y-rWBml9F4Hc",
        "outputId": "6f9f7599-d00e-4371-9977-23822762d021"
      },
      "source": [
        "# Combine the answer_counts and questions tables\n",
        "questions %>%\n",
        "\tleft_join(answer_counts, by = c(\"id\" = \"question_id\")) %>%\n",
        "\t# Replace the NAs in the n column\n",
        "\treplace_na(list(n = 0)) %>%\n",
        "  head(2)"
      ],
      "execution_count": 55,
      "outputs": [
        {
          "output_type": "display_data",
          "data": {
            "text/plain": [
              "  id       creation_date score n\n",
              "1 22557677 2014-03-21    1     1\n",
              "2 22557707 2014-03-21    2     2"
            ],
            "text/latex": "A spec\\_tbl\\_df: 2 × 4\n\\begin{tabular}{llll}\n id & creation\\_date & score & n\\\\\n <int> & <date> & <int> & <dbl>\\\\\n\\hline\n\t 22557677 & 2014-03-21 & 1 & 1\\\\\n\t 22557707 & 2014-03-21 & 2 & 2\\\\\n\\end{tabular}\n",
            "text/markdown": "\nA spec_tbl_df: 2 × 4\n\n| id &lt;int&gt; | creation_date &lt;date&gt; | score &lt;int&gt; | n &lt;dbl&gt; |\n|---|---|---|---|\n| 22557677 | 2014-03-21 | 1 | 1 |\n| 22557707 | 2014-03-21 | 2 | 2 |\n\n",
            "text/html": [
              "<table class=\"dataframe\">\n",
              "<caption>A spec_tbl_df: 2 × 4</caption>\n",
              "<thead>\n",
              "\t<tr><th scope=col>id</th><th scope=col>creation_date</th><th scope=col>score</th><th scope=col>n</th></tr>\n",
              "\t<tr><th scope=col>&lt;int&gt;</th><th scope=col>&lt;date&gt;</th><th scope=col>&lt;int&gt;</th><th scope=col>&lt;dbl&gt;</th></tr>\n",
              "</thead>\n",
              "<tbody>\n",
              "\t<tr><td>22557677</td><td>2014-03-21</td><td>1</td><td>1</td></tr>\n",
              "\t<tr><td>22557707</td><td>2014-03-21</td><td>2</td><td>2</td></tr>\n",
              "</tbody>\n",
              "</table>\n"
            ]
          },
          "metadata": {
            "tags": []
          }
        }
      ]
    },
    {
      "cell_type": "markdown",
      "metadata": {
        "id": "0Atn-UDvIB-I"
      },
      "source": [
        "# Binding rows (like append in python)"
      ]
    },
    {
      "cell_type": "code",
      "metadata": {
        "colab": {
          "base_uri": "https://localhost:8080/",
          "height": 69
        },
        "id": "ExrpoYAFIG0z",
        "outputId": "890e0e7a-ddca-487f-c4f4-70fe84cb4cb6"
      },
      "source": [
        "dim(questions)\n",
        "dim(answers)\n",
        "\n",
        "# Binding rows.\n",
        "questions %>%\n",
        "  bind_rows(answers) %>%\n",
        "  dim()"
      ],
      "execution_count": 62,
      "outputs": [
        {
          "output_type": "display_data",
          "data": {
            "text/plain": [
              "[1] 294735      3"
            ],
            "text/latex": "\\begin{enumerate*}\n\\item 294735\n\\item 3\n\\end{enumerate*}\n",
            "text/markdown": "1. 294735\n2. 3\n\n\n",
            "text/html": [
              "<style>\n",
              ".list-inline {list-style: none; margin:0; padding: 0}\n",
              ".list-inline>li {display: inline-block}\n",
              ".list-inline>li:not(:last-child)::after {content: \"\\00b7\"; padding: 0 .5ex}\n",
              "</style>\n",
              "<ol class=list-inline><li>294735</li><li>3</li></ol>\n"
            ]
          },
          "metadata": {
            "tags": []
          }
        },
        {
          "output_type": "display_data",
          "data": {
            "text/plain": [
              "[1] 380643      4"
            ],
            "text/latex": "\\begin{enumerate*}\n\\item 380643\n\\item 4\n\\end{enumerate*}\n",
            "text/markdown": "1. 380643\n2. 4\n\n\n",
            "text/html": [
              "<style>\n",
              ".list-inline {list-style: none; margin:0; padding: 0}\n",
              ".list-inline>li {display: inline-block}\n",
              ".list-inline>li:not(:last-child)::after {content: \"\\00b7\"; padding: 0 .5ex}\n",
              "</style>\n",
              "<ol class=list-inline><li>380643</li><li>4</li></ol>\n"
            ]
          },
          "metadata": {
            "tags": []
          }
        },
        {
          "output_type": "display_data",
          "data": {
            "text/plain": [
              "[1] 675378      4"
            ],
            "text/latex": "\\begin{enumerate*}\n\\item 675378\n\\item 4\n\\end{enumerate*}\n",
            "text/markdown": "1. 675378\n2. 4\n\n\n",
            "text/html": [
              "<style>\n",
              ".list-inline {list-style: none; margin:0; padding: 0}\n",
              ".list-inline>li {display: inline-block}\n",
              ".list-inline>li:not(:last-child)::after {content: \"\\00b7\"; padding: 0 .5ex}\n",
              "</style>\n",
              "<ol class=list-inline><li>675378</li><li>4</li></ol>\n"
            ]
          },
          "metadata": {
            "tags": []
          }
        }
      ]
    }
  ]
}