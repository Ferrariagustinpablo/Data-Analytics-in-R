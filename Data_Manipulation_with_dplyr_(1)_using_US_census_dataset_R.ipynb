{
  "nbformat": 4,
  "nbformat_minor": 0,
  "metadata": {
    "colab": {
      "name": "Data Manipulation with dplyr (1) using US census dataset - R",
      "provenance": [],
      "collapsed_sections": [],
      "toc_visible": true,
      "include_colab_link": true
    },
    "kernelspec": {
      "name": "ir",
      "display_name": "R"
    }
  },
  "cells": [
    {
      "cell_type": "markdown",
      "metadata": {
        "id": "view-in-github",
        "colab_type": "text"
      },
      "source": [
        "<a href=\"https://colab.research.google.com/github/Ferrariagustinpablo/Data-Analytics-in-R/blob/main/Data_Manipulation_with_dplyr_(1)_using_US_census_dataset_R.ipynb\" target=\"_parent\"><img src=\"https://colab.research.google.com/assets/colab-badge.svg\" alt=\"Open In Colab\"/></a>"
      ]
    },
    {
      "cell_type": "markdown",
      "metadata": {
        "id": "cYE7mEi2ky38"
      },
      "source": [
        "# Import libraries"
      ]
    },
    {
      "cell_type": "code",
      "metadata": {
        "id": "RoD2lzL9Z3f_"
      },
      "source": [
        "# Load\n",
        "library(dplyr)\n",
        "library(ggplot2)"
      ],
      "execution_count": 16,
      "outputs": []
    },
    {
      "cell_type": "code",
      "metadata": {
        "colab": {
          "base_uri": "https://localhost:8080/"
        },
        "id": "ZgM4EBqqMfXv",
        "outputId": "eebbfdd5-cc85-4a62-bdb5-8e544a61edb4"
      },
      "source": [
        "counties = readRDS(\"/content/counties.rds\")\n",
        "str(counties)"
      ],
      "execution_count": 22,
      "outputs": [
        {
          "output_type": "stream",
          "text": [
            "spec_tbl_df [3,138 × 40] (S3: spec_tbl_df/tbl_df/tbl/data.frame)\n",
            " $ census_id         : chr [1:3138] \"1001\" \"1003\" \"1005\" \"1007\" ...\n",
            " $ state             : chr [1:3138] \"Alabama\" \"Alabama\" \"Alabama\" \"Alabama\" ...\n",
            " $ county            : chr [1:3138] \"Autauga\" \"Baldwin\" \"Barbour\" \"Bibb\" ...\n",
            " $ region            : chr [1:3138] \"South\" \"South\" \"South\" \"South\" ...\n",
            " $ metro             : chr [1:3138] \"Metro\" \"Metro\" \"Nonmetro\" \"Metro\" ...\n",
            " $ population        : num [1:3138] 55221 195121 26932 22604 57710 ...\n",
            " $ men               : num [1:3138] 26745 95314 14497 12073 28512 ...\n",
            " $ women             : num [1:3138] 28476 99807 12435 10531 29198 ...\n",
            " $ hispanic          : num [1:3138] 2.6 4.5 4.6 2.2 8.6 4.4 1.2 3.5 0.4 1.5 ...\n",
            " $ white             : num [1:3138] 75.8 83.1 46.2 74.5 87.9 22.2 53.3 73 57.3 91.7 ...\n",
            " $ black             : num [1:3138] 18.5 9.5 46.7 21.4 1.5 70.7 43.8 20.3 40.3 4.8 ...\n",
            " $ native            : num [1:3138] 0.4 0.6 0.2 0.4 0.3 1.2 0.1 0.2 0.2 0.6 ...\n",
            " $ asian             : num [1:3138] 1 0.7 0.4 0.1 0.1 0.2 0.4 0.9 0.8 0.3 ...\n",
            " $ pacific           : num [1:3138] 0 0 0 0 0 0 0 0 0 0 ...\n",
            " $ citizens          : num [1:3138] 40725 147695 20714 17495 42345 ...\n",
            " $ income            : num [1:3138] 51281 50254 32964 38678 45813 ...\n",
            " $ income_err        : num [1:3138] 2391 1263 2973 3995 3141 ...\n",
            " $ income_per_cap    : num [1:3138] 24974 27317 16824 18431 20532 ...\n",
            " $ income_per_cap_err: num [1:3138] 1080 711 798 1618 708 ...\n",
            " $ poverty           : num [1:3138] 12.9 13.4 26.7 16.8 16.7 24.6 25.4 20.5 21.6 19.2 ...\n",
            " $ child_poverty     : num [1:3138] 18.6 19.2 45.3 27.9 27.2 38.4 39.2 31.6 37.2 30.1 ...\n",
            " $ professional      : num [1:3138] 33.2 33.1 26.8 21.5 28.5 18.8 27.5 27.3 23.3 29.3 ...\n",
            " $ service           : num [1:3138] 17 17.7 16.1 17.9 14.1 15 16.6 17.7 14.5 16 ...\n",
            " $ office            : num [1:3138] 24.2 27.1 23.1 17.8 23.9 19.7 21.9 24.2 26.3 19.5 ...\n",
            " $ construction      : num [1:3138] 8.6 10.8 10.8 19 13.5 20.1 10.3 10.5 11.5 13.7 ...\n",
            " $ production        : num [1:3138] 17.1 11.2 23.1 23.7 19.9 26.4 23.7 20.4 24.4 21.5 ...\n",
            " $ drive             : num [1:3138] 87.5 84.7 83.8 83.2 84.9 74.9 84.5 85.3 85.1 83.9 ...\n",
            " $ carpool           : num [1:3138] 8.8 8.8 10.9 13.5 11.2 14.9 12.4 9.4 11.9 12.1 ...\n",
            " $ transit           : num [1:3138] 0.1 0.1 0.4 0.5 0.4 0.7 0 0.2 0.2 0.2 ...\n",
            " $ walk              : num [1:3138] 0.5 1 1.8 0.6 0.9 5 0.8 1.2 0.3 0.6 ...\n",
            " $ other_transp      : num [1:3138] 1.3 1.4 1.5 1.5 0.4 1.7 0.6 1.2 0.4 0.7 ...\n",
            " $ work_at_home      : num [1:3138] 1.8 3.9 1.6 0.7 2.3 2.8 1.7 2.7 2.1 2.5 ...\n",
            " $ mean_commute      : num [1:3138] 26.5 26.4 24.1 28.8 34.9 27.5 24.6 24.1 25.1 27.4 ...\n",
            " $ employed          : num [1:3138] 23986 85953 8597 8294 22189 ...\n",
            " $ private_work      : num [1:3138] 73.6 81.5 71.8 76.8 82 79.5 77.4 74.1 85.1 73.1 ...\n",
            " $ public_work       : num [1:3138] 20.9 12.3 20.8 16.1 13.5 15.1 16.2 20.8 12.1 18.5 ...\n",
            " $ self_employed     : num [1:3138] 5.5 5.8 7.3 6.7 4.2 5.4 6.2 5 2.8 7.9 ...\n",
            " $ family_work       : num [1:3138] 0 0.4 0.1 0.4 0.4 0 0.2 0.1 0 0.5 ...\n",
            " $ unemployment      : num [1:3138] 7.6 7.5 17.6 8.3 7.7 18 10.9 12.3 8.9 7.9 ...\n",
            " $ land_area         : num [1:3138] 594 1590 885 623 645 ...\n"
          ],
          "name": "stdout"
        }
      ]
    },
    {
      "cell_type": "markdown",
      "metadata": {
        "id": "zNH7OHp8Ozr4"
      },
      "source": [
        "# Select()"
      ]
    },
    {
      "cell_type": "code",
      "metadata": {
        "colab": {
          "base_uri": "https://localhost:8080/",
          "height": 281
        },
        "id": "iuPQvZPcNf21",
        "outputId": "f87682f1-a28f-4e28-c1dc-c3bf02e5e267"
      },
      "source": [
        "# Only select some rows\n",
        "counties_selected <- counties %>%\n",
        "  select(state, region, county, population, private_work, public_work, self_employed, unemployment, walk)\n",
        "\n",
        "head(counties_selected)"
      ],
      "execution_count": 106,
      "outputs": [
        {
          "output_type": "display_data",
          "data": {
            "text/plain": [
              "  state   region county  population private_work public_work self_employed\n",
              "1 Alabama South  Autauga  55221     73.6         20.9        5.5          \n",
              "2 Alabama South  Baldwin 195121     81.5         12.3        5.8          \n",
              "3 Alabama South  Barbour  26932     71.8         20.8        7.3          \n",
              "4 Alabama South  Bibb     22604     76.8         16.1        6.7          \n",
              "5 Alabama South  Blount   57710     82.0         13.5        4.2          \n",
              "6 Alabama South  Bullock  10678     79.5         15.1        5.4          \n",
              "  unemployment walk\n",
              "1  7.6         0.5 \n",
              "2  7.5         1.0 \n",
              "3 17.6         1.8 \n",
              "4  8.3         0.6 \n",
              "5  7.7         0.9 \n",
              "6 18.0         5.0 "
            ],
            "text/latex": "A spec\\_tbl\\_df: 6 × 9\n\\begin{tabular}{lllllllll}\n state & region & county & population & private\\_work & public\\_work & self\\_employed & unemployment & walk\\\\\n <chr> & <chr> & <chr> & <dbl> & <dbl> & <dbl> & <dbl> & <dbl> & <dbl>\\\\\n\\hline\n\t Alabama & South & Autauga &  55221 & 73.6 & 20.9 & 5.5 &  7.6 & 0.5\\\\\n\t Alabama & South & Baldwin & 195121 & 81.5 & 12.3 & 5.8 &  7.5 & 1.0\\\\\n\t Alabama & South & Barbour &  26932 & 71.8 & 20.8 & 7.3 & 17.6 & 1.8\\\\\n\t Alabama & South & Bibb    &  22604 & 76.8 & 16.1 & 6.7 &  8.3 & 0.6\\\\\n\t Alabama & South & Blount  &  57710 & 82.0 & 13.5 & 4.2 &  7.7 & 0.9\\\\\n\t Alabama & South & Bullock &  10678 & 79.5 & 15.1 & 5.4 & 18.0 & 5.0\\\\\n\\end{tabular}\n",
            "text/markdown": "\nA spec_tbl_df: 6 × 9\n\n| state &lt;chr&gt; | region &lt;chr&gt; | county &lt;chr&gt; | population &lt;dbl&gt; | private_work &lt;dbl&gt; | public_work &lt;dbl&gt; | self_employed &lt;dbl&gt; | unemployment &lt;dbl&gt; | walk &lt;dbl&gt; |\n|---|---|---|---|---|---|---|---|---|\n| Alabama | South | Autauga |  55221 | 73.6 | 20.9 | 5.5 |  7.6 | 0.5 |\n| Alabama | South | Baldwin | 195121 | 81.5 | 12.3 | 5.8 |  7.5 | 1.0 |\n| Alabama | South | Barbour |  26932 | 71.8 | 20.8 | 7.3 | 17.6 | 1.8 |\n| Alabama | South | Bibb    |  22604 | 76.8 | 16.1 | 6.7 |  8.3 | 0.6 |\n| Alabama | South | Blount  |  57710 | 82.0 | 13.5 | 4.2 |  7.7 | 0.9 |\n| Alabama | South | Bullock |  10678 | 79.5 | 15.1 | 5.4 | 18.0 | 5.0 |\n\n",
            "text/html": [
              "<table class=\"dataframe\">\n",
              "<caption>A spec_tbl_df: 6 × 9</caption>\n",
              "<thead>\n",
              "\t<tr><th scope=col>state</th><th scope=col>region</th><th scope=col>county</th><th scope=col>population</th><th scope=col>private_work</th><th scope=col>public_work</th><th scope=col>self_employed</th><th scope=col>unemployment</th><th scope=col>walk</th></tr>\n",
              "\t<tr><th scope=col>&lt;chr&gt;</th><th scope=col>&lt;chr&gt;</th><th scope=col>&lt;chr&gt;</th><th scope=col>&lt;dbl&gt;</th><th scope=col>&lt;dbl&gt;</th><th scope=col>&lt;dbl&gt;</th><th scope=col>&lt;dbl&gt;</th><th scope=col>&lt;dbl&gt;</th><th scope=col>&lt;dbl&gt;</th></tr>\n",
              "</thead>\n",
              "<tbody>\n",
              "\t<tr><td>Alabama</td><td>South</td><td>Autauga</td><td> 55221</td><td>73.6</td><td>20.9</td><td>5.5</td><td> 7.6</td><td>0.5</td></tr>\n",
              "\t<tr><td>Alabama</td><td>South</td><td>Baldwin</td><td>195121</td><td>81.5</td><td>12.3</td><td>5.8</td><td> 7.5</td><td>1.0</td></tr>\n",
              "\t<tr><td>Alabama</td><td>South</td><td>Barbour</td><td> 26932</td><td>71.8</td><td>20.8</td><td>7.3</td><td>17.6</td><td>1.8</td></tr>\n",
              "\t<tr><td>Alabama</td><td>South</td><td>Bibb   </td><td> 22604</td><td>76.8</td><td>16.1</td><td>6.7</td><td> 8.3</td><td>0.6</td></tr>\n",
              "\t<tr><td>Alabama</td><td>South</td><td>Blount </td><td> 57710</td><td>82.0</td><td>13.5</td><td>4.2</td><td> 7.7</td><td>0.9</td></tr>\n",
              "\t<tr><td>Alabama</td><td>South</td><td>Bullock</td><td> 10678</td><td>79.5</td><td>15.1</td><td>5.4</td><td>18.0</td><td>5.0</td></tr>\n",
              "</tbody>\n",
              "</table>\n"
            ]
          },
          "metadata": {
            "tags": []
          }
        }
      ]
    },
    {
      "cell_type": "markdown",
      "metadata": {
        "id": "NjXDtY2wNuK6"
      },
      "source": [
        "# arrange: sorts data"
      ]
    },
    {
      "cell_type": "code",
      "metadata": {
        "colab": {
          "base_uri": "https://localhost:8080/",
          "height": 189
        },
        "id": "9mL373LUNyCO",
        "outputId": "6922391a-cb70-403d-ec28-f7a36fc6e21e"
      },
      "source": [
        "# Sort data by population descending.\n",
        "counties_selected %>%\n",
        "  arrange(desc(population)) %>%\n",
        "  head(3)"
      ],
      "execution_count": 34,
      "outputs": [
        {
          "output_type": "display_data",
          "data": {
            "text/plain": [
              "  state      county      population private_work public_work self_employed\n",
              "1 California Los Angeles 10038388   79.0         11.5        9.4          \n",
              "2 Illinois   Cook         5236393   83.9         11.5        4.5          \n",
              "3 Texas      Harris       4356362   83.4         10.1        6.3          \n",
              "  unemployment\n",
              "1 10.0        \n",
              "2 10.7        \n",
              "3  7.5        "
            ],
            "text/latex": "A spec\\_tbl\\_df: 3 × 7\n\\begin{tabular}{lllllll}\n state & county & population & private\\_work & public\\_work & self\\_employed & unemployment\\\\\n <chr> & <chr> & <dbl> & <dbl> & <dbl> & <dbl> & <dbl>\\\\\n\\hline\n\t California & Los Angeles & 10038388 & 79.0 & 11.5 & 9.4 & 10.0\\\\\n\t Illinois   & Cook        &  5236393 & 83.9 & 11.5 & 4.5 & 10.7\\\\\n\t Texas      & Harris      &  4356362 & 83.4 & 10.1 & 6.3 &  7.5\\\\\n\\end{tabular}\n",
            "text/markdown": "\nA spec_tbl_df: 3 × 7\n\n| state &lt;chr&gt; | county &lt;chr&gt; | population &lt;dbl&gt; | private_work &lt;dbl&gt; | public_work &lt;dbl&gt; | self_employed &lt;dbl&gt; | unemployment &lt;dbl&gt; |\n|---|---|---|---|---|---|---|\n| California | Los Angeles | 10038388 | 79.0 | 11.5 | 9.4 | 10.0 |\n| Illinois   | Cook        |  5236393 | 83.9 | 11.5 | 4.5 | 10.7 |\n| Texas      | Harris      |  4356362 | 83.4 | 10.1 | 6.3 |  7.5 |\n\n",
            "text/html": [
              "<table class=\"dataframe\">\n",
              "<caption>A spec_tbl_df: 3 × 7</caption>\n",
              "<thead>\n",
              "\t<tr><th scope=col>state</th><th scope=col>county</th><th scope=col>population</th><th scope=col>private_work</th><th scope=col>public_work</th><th scope=col>self_employed</th><th scope=col>unemployment</th></tr>\n",
              "\t<tr><th scope=col>&lt;chr&gt;</th><th scope=col>&lt;chr&gt;</th><th scope=col>&lt;dbl&gt;</th><th scope=col>&lt;dbl&gt;</th><th scope=col>&lt;dbl&gt;</th><th scope=col>&lt;dbl&gt;</th><th scope=col>&lt;dbl&gt;</th></tr>\n",
              "</thead>\n",
              "<tbody>\n",
              "\t<tr><td>California</td><td>Los Angeles</td><td>10038388</td><td>79.0</td><td>11.5</td><td>9.4</td><td>10.0</td></tr>\n",
              "\t<tr><td>Illinois  </td><td>Cook       </td><td> 5236393</td><td>83.9</td><td>11.5</td><td>4.5</td><td>10.7</td></tr>\n",
              "\t<tr><td>Texas     </td><td>Harris     </td><td> 4356362</td><td>83.4</td><td>10.1</td><td>6.3</td><td> 7.5</td></tr>\n",
              "</tbody>\n",
              "</table>\n"
            ]
          },
          "metadata": {
            "tags": []
          }
        }
      ]
    },
    {
      "cell_type": "markdown",
      "metadata": {
        "id": "OkQSi3FbP_E6"
      },
      "source": [
        "# Filter"
      ]
    },
    {
      "cell_type": "code",
      "metadata": {
        "colab": {
          "base_uri": "https://localhost:8080/",
          "height": 373
        },
        "id": "DVBBDl9sQABX",
        "outputId": "a84785a8-c7ed-44e0-f50c-5484ac52dbed"
      },
      "source": [
        "# Filter for counties in the state of California that have a population above 1000000\n",
        "counties_selected %>%\n",
        "  filter(state == \"California\", population > 1000000)\n",
        "  "
      ],
      "execution_count": 36,
      "outputs": [
        {
          "output_type": "display_data",
          "data": {
            "text/plain": [
              "  state      county         population private_work public_work self_employed\n",
              "1 California Alameda         1584983   78.7         13.8        7.4          \n",
              "2 California Contra Costa    1096068   77.5         13.6        8.7          \n",
              "3 California Los Angeles    10038388   79.0         11.5        9.4          \n",
              "4 California Orange          3116069   81.8         10.2        7.8          \n",
              "5 California Riverside       2298032   77.1         14.9        7.8          \n",
              "6 California Sacramento      1465832   70.8         21.8        7.3          \n",
              "7 California San Bernardino  2094769   76.4         16.7        6.7          \n",
              "8 California San Diego       3223096   77.3         14.8        7.7          \n",
              "9 California Santa Clara     1868149   84.3          9.3        6.4          \n",
              "  unemployment\n",
              "1  8.3        \n",
              "2  8.8        \n",
              "3 10.0        \n",
              "4  7.6        \n",
              "5 12.9        \n",
              "6 11.8        \n",
              "7 12.6        \n",
              "8  8.7        \n",
              "9  7.7        "
            ],
            "text/latex": "A spec\\_tbl\\_df: 9 × 7\n\\begin{tabular}{lllllll}\n state & county & population & private\\_work & public\\_work & self\\_employed & unemployment\\\\\n <chr> & <chr> & <dbl> & <dbl> & <dbl> & <dbl> & <dbl>\\\\\n\\hline\n\t California & Alameda        &  1584983 & 78.7 & 13.8 & 7.4 &  8.3\\\\\n\t California & Contra Costa   &  1096068 & 77.5 & 13.6 & 8.7 &  8.8\\\\\n\t California & Los Angeles    & 10038388 & 79.0 & 11.5 & 9.4 & 10.0\\\\\n\t California & Orange         &  3116069 & 81.8 & 10.2 & 7.8 &  7.6\\\\\n\t California & Riverside      &  2298032 & 77.1 & 14.9 & 7.8 & 12.9\\\\\n\t California & Sacramento     &  1465832 & 70.8 & 21.8 & 7.3 & 11.8\\\\\n\t California & San Bernardino &  2094769 & 76.4 & 16.7 & 6.7 & 12.6\\\\\n\t California & San Diego      &  3223096 & 77.3 & 14.8 & 7.7 &  8.7\\\\\n\t California & Santa Clara    &  1868149 & 84.3 &  9.3 & 6.4 &  7.7\\\\\n\\end{tabular}\n",
            "text/markdown": "\nA spec_tbl_df: 9 × 7\n\n| state &lt;chr&gt; | county &lt;chr&gt; | population &lt;dbl&gt; | private_work &lt;dbl&gt; | public_work &lt;dbl&gt; | self_employed &lt;dbl&gt; | unemployment &lt;dbl&gt; |\n|---|---|---|---|---|---|---|\n| California | Alameda        |  1584983 | 78.7 | 13.8 | 7.4 |  8.3 |\n| California | Contra Costa   |  1096068 | 77.5 | 13.6 | 8.7 |  8.8 |\n| California | Los Angeles    | 10038388 | 79.0 | 11.5 | 9.4 | 10.0 |\n| California | Orange         |  3116069 | 81.8 | 10.2 | 7.8 |  7.6 |\n| California | Riverside      |  2298032 | 77.1 | 14.9 | 7.8 | 12.9 |\n| California | Sacramento     |  1465832 | 70.8 | 21.8 | 7.3 | 11.8 |\n| California | San Bernardino |  2094769 | 76.4 | 16.7 | 6.7 | 12.6 |\n| California | San Diego      |  3223096 | 77.3 | 14.8 | 7.7 |  8.7 |\n| California | Santa Clara    |  1868149 | 84.3 |  9.3 | 6.4 |  7.7 |\n\n",
            "text/html": [
              "<table class=\"dataframe\">\n",
              "<caption>A spec_tbl_df: 9 × 7</caption>\n",
              "<thead>\n",
              "\t<tr><th scope=col>state</th><th scope=col>county</th><th scope=col>population</th><th scope=col>private_work</th><th scope=col>public_work</th><th scope=col>self_employed</th><th scope=col>unemployment</th></tr>\n",
              "\t<tr><th scope=col>&lt;chr&gt;</th><th scope=col>&lt;chr&gt;</th><th scope=col>&lt;dbl&gt;</th><th scope=col>&lt;dbl&gt;</th><th scope=col>&lt;dbl&gt;</th><th scope=col>&lt;dbl&gt;</th><th scope=col>&lt;dbl&gt;</th></tr>\n",
              "</thead>\n",
              "<tbody>\n",
              "\t<tr><td>California</td><td>Alameda       </td><td> 1584983</td><td>78.7</td><td>13.8</td><td>7.4</td><td> 8.3</td></tr>\n",
              "\t<tr><td>California</td><td>Contra Costa  </td><td> 1096068</td><td>77.5</td><td>13.6</td><td>8.7</td><td> 8.8</td></tr>\n",
              "\t<tr><td>California</td><td>Los Angeles   </td><td>10038388</td><td>79.0</td><td>11.5</td><td>9.4</td><td>10.0</td></tr>\n",
              "\t<tr><td>California</td><td>Orange        </td><td> 3116069</td><td>81.8</td><td>10.2</td><td>7.8</td><td> 7.6</td></tr>\n",
              "\t<tr><td>California</td><td>Riverside     </td><td> 2298032</td><td>77.1</td><td>14.9</td><td>7.8</td><td>12.9</td></tr>\n",
              "\t<tr><td>California</td><td>Sacramento    </td><td> 1465832</td><td>70.8</td><td>21.8</td><td>7.3</td><td>11.8</td></tr>\n",
              "\t<tr><td>California</td><td>San Bernardino</td><td> 2094769</td><td>76.4</td><td>16.7</td><td>6.7</td><td>12.6</td></tr>\n",
              "\t<tr><td>California</td><td>San Diego     </td><td> 3223096</td><td>77.3</td><td>14.8</td><td>7.7</td><td> 8.7</td></tr>\n",
              "\t<tr><td>California</td><td>Santa Clara   </td><td> 1868149</td><td>84.3</td><td> 9.3</td><td>6.4</td><td> 7.7</td></tr>\n",
              "</tbody>\n",
              "</table>\n"
            ]
          },
          "metadata": {
            "tags": []
          }
        }
      ]
    },
    {
      "cell_type": "code",
      "metadata": {
        "colab": {
          "base_uri": "https://localhost:8080/",
          "height": 250
        },
        "id": "F2rI0ajMQWpQ",
        "outputId": "2b4a02bf-04f4-4724-ddbf-c80214e3b107"
      },
      "source": [
        "# Filter top 5 counties with unemployment that have more than 100000 in pop\n",
        "unemp <- counties_selected %>%\n",
        "  filter(population > 100000) %>%\n",
        "  arrange(desc(unemployment))\n",
        "\n",
        "# Display head  \n",
        "head(unemp, 5)"
      ],
      "execution_count": 49,
      "outputs": [
        {
          "output_type": "display_data",
          "data": {
            "text/plain": [
              "  state      county     population private_work public_work self_employed\n",
              "1 Arizona    Navajo      107656    61.1         31.3        7.4          \n",
              "2 California Imperial    178206    66.6         27.8        5.2          \n",
              "3 California Merced      263885    76.7         16.2        7.0          \n",
              "4 California Stanislaus  527367    78.9         14.2        6.8          \n",
              "5 Michigan   Wayne      1778969    86.1         10.0        3.8          \n",
              "  unemployment\n",
              "1 19.8        \n",
              "2 17.4        \n",
              "3 16.2        \n",
              "4 15.2        \n",
              "5 14.9        "
            ],
            "text/latex": "A spec\\_tbl\\_df: 5 × 7\n\\begin{tabular}{lllllll}\n state & county & population & private\\_work & public\\_work & self\\_employed & unemployment\\\\\n <chr> & <chr> & <dbl> & <dbl> & <dbl> & <dbl> & <dbl>\\\\\n\\hline\n\t Arizona    & Navajo     &  107656 & 61.1 & 31.3 & 7.4 & 19.8\\\\\n\t California & Imperial   &  178206 & 66.6 & 27.8 & 5.2 & 17.4\\\\\n\t California & Merced     &  263885 & 76.7 & 16.2 & 7.0 & 16.2\\\\\n\t California & Stanislaus &  527367 & 78.9 & 14.2 & 6.8 & 15.2\\\\\n\t Michigan   & Wayne      & 1778969 & 86.1 & 10.0 & 3.8 & 14.9\\\\\n\\end{tabular}\n",
            "text/markdown": "\nA spec_tbl_df: 5 × 7\n\n| state &lt;chr&gt; | county &lt;chr&gt; | population &lt;dbl&gt; | private_work &lt;dbl&gt; | public_work &lt;dbl&gt; | self_employed &lt;dbl&gt; | unemployment &lt;dbl&gt; |\n|---|---|---|---|---|---|---|\n| Arizona    | Navajo     |  107656 | 61.1 | 31.3 | 7.4 | 19.8 |\n| California | Imperial   |  178206 | 66.6 | 27.8 | 5.2 | 17.4 |\n| California | Merced     |  263885 | 76.7 | 16.2 | 7.0 | 16.2 |\n| California | Stanislaus |  527367 | 78.9 | 14.2 | 6.8 | 15.2 |\n| Michigan   | Wayne      | 1778969 | 86.1 | 10.0 | 3.8 | 14.9 |\n\n",
            "text/html": [
              "<table class=\"dataframe\">\n",
              "<caption>A spec_tbl_df: 5 × 7</caption>\n",
              "<thead>\n",
              "\t<tr><th scope=col>state</th><th scope=col>county</th><th scope=col>population</th><th scope=col>private_work</th><th scope=col>public_work</th><th scope=col>self_employed</th><th scope=col>unemployment</th></tr>\n",
              "\t<tr><th scope=col>&lt;chr&gt;</th><th scope=col>&lt;chr&gt;</th><th scope=col>&lt;dbl&gt;</th><th scope=col>&lt;dbl&gt;</th><th scope=col>&lt;dbl&gt;</th><th scope=col>&lt;dbl&gt;</th><th scope=col>&lt;dbl&gt;</th></tr>\n",
              "</thead>\n",
              "<tbody>\n",
              "\t<tr><td>Arizona   </td><td>Navajo    </td><td> 107656</td><td>61.1</td><td>31.3</td><td>7.4</td><td>19.8</td></tr>\n",
              "\t<tr><td>California</td><td>Imperial  </td><td> 178206</td><td>66.6</td><td>27.8</td><td>5.2</td><td>17.4</td></tr>\n",
              "\t<tr><td>California</td><td>Merced    </td><td> 263885</td><td>76.7</td><td>16.2</td><td>7.0</td><td>16.2</td></tr>\n",
              "\t<tr><td>California</td><td>Stanislaus</td><td> 527367</td><td>78.9</td><td>14.2</td><td>6.8</td><td>15.2</td></tr>\n",
              "\t<tr><td>Michigan  </td><td>Wayne     </td><td>1778969</td><td>86.1</td><td>10.0</td><td>3.8</td><td>14.9</td></tr>\n",
              "</tbody>\n",
              "</table>\n"
            ]
          },
          "metadata": {
            "tags": []
          }
        }
      ]
    },
    {
      "cell_type": "markdown",
      "metadata": {
        "id": "n6eG2rl4QmYQ"
      },
      "source": [
        "# Mutate"
      ]
    },
    {
      "cell_type": "code",
      "metadata": {
        "colab": {
          "base_uri": "https://localhost:8080/",
          "height": 189
        },
        "id": "MqJs1tIIRCUw",
        "outputId": "12d20483-7216-4ee4-a8de-7007a1be9f8b"
      },
      "source": [
        "# Add new column of estimated unemployed people.\n",
        "unemp %>%\n",
        "  mutate(unemployed_pop = round(unemployment*population/100)) %>%\n",
        "  arrange(desc(unemployed_pop)) %>%\n",
        "  head(3)"
      ],
      "execution_count": 57,
      "outputs": [
        {
          "output_type": "display_data",
          "data": {
            "text/plain": [
              "  state      county      population private_work public_work self_employed\n",
              "1 California Los Angeles 10038388   79.0         11.5        9.4          \n",
              "2 Illinois   Cook         5236393   83.9         11.5        4.5          \n",
              "3 Texas      Harris       4356362   83.4         10.1        6.3          \n",
              "  unemployment unemployed_pop\n",
              "1 10.0         1003839       \n",
              "2 10.7          560294       \n",
              "3  7.5          326727       "
            ],
            "text/latex": "A spec\\_tbl\\_df: 3 × 8\n\\begin{tabular}{llllllll}\n state & county & population & private\\_work & public\\_work & self\\_employed & unemployment & unemployed\\_pop\\\\\n <chr> & <chr> & <dbl> & <dbl> & <dbl> & <dbl> & <dbl> & <dbl>\\\\\n\\hline\n\t California & Los Angeles & 10038388 & 79.0 & 11.5 & 9.4 & 10.0 & 1003839\\\\\n\t Illinois   & Cook        &  5236393 & 83.9 & 11.5 & 4.5 & 10.7 &  560294\\\\\n\t Texas      & Harris      &  4356362 & 83.4 & 10.1 & 6.3 &  7.5 &  326727\\\\\n\\end{tabular}\n",
            "text/markdown": "\nA spec_tbl_df: 3 × 8\n\n| state &lt;chr&gt; | county &lt;chr&gt; | population &lt;dbl&gt; | private_work &lt;dbl&gt; | public_work &lt;dbl&gt; | self_employed &lt;dbl&gt; | unemployment &lt;dbl&gt; | unemployed_pop &lt;dbl&gt; |\n|---|---|---|---|---|---|---|---|\n| California | Los Angeles | 10038388 | 79.0 | 11.5 | 9.4 | 10.0 | 1003839 |\n| Illinois   | Cook        |  5236393 | 83.9 | 11.5 | 4.5 | 10.7 |  560294 |\n| Texas      | Harris      |  4356362 | 83.4 | 10.1 | 6.3 |  7.5 |  326727 |\n\n",
            "text/html": [
              "<table class=\"dataframe\">\n",
              "<caption>A spec_tbl_df: 3 × 8</caption>\n",
              "<thead>\n",
              "\t<tr><th scope=col>state</th><th scope=col>county</th><th scope=col>population</th><th scope=col>private_work</th><th scope=col>public_work</th><th scope=col>self_employed</th><th scope=col>unemployment</th><th scope=col>unemployed_pop</th></tr>\n",
              "\t<tr><th scope=col>&lt;chr&gt;</th><th scope=col>&lt;chr&gt;</th><th scope=col>&lt;dbl&gt;</th><th scope=col>&lt;dbl&gt;</th><th scope=col>&lt;dbl&gt;</th><th scope=col>&lt;dbl&gt;</th><th scope=col>&lt;dbl&gt;</th><th scope=col>&lt;dbl&gt;</th></tr>\n",
              "</thead>\n",
              "<tbody>\n",
              "\t<tr><td>California</td><td>Los Angeles</td><td>10038388</td><td>79.0</td><td>11.5</td><td>9.4</td><td>10.0</td><td>1003839</td></tr>\n",
              "\t<tr><td>Illinois  </td><td>Cook       </td><td> 5236393</td><td>83.9</td><td>11.5</td><td>4.5</td><td>10.7</td><td> 560294</td></tr>\n",
              "\t<tr><td>Texas     </td><td>Harris     </td><td> 4356362</td><td>83.4</td><td>10.1</td><td>6.3</td><td> 7.5</td><td> 326727</td></tr>\n",
              "</tbody>\n",
              "</table>\n"
            ]
          },
          "metadata": {
            "tags": []
          }
        }
      ]
    },
    {
      "cell_type": "markdown",
      "metadata": {
        "id": "lXJrLMrlSDrp"
      },
      "source": [
        "# select, mutate, filter and arrange"
      ]
    },
    {
      "cell_type": "code",
      "metadata": {
        "colab": {
          "base_uri": "https://localhost:8080/",
          "height": 281
        },
        "id": "2lXyzMHBQmF8",
        "outputId": "e307af38-ecc1-49a6-c72b-c13a77c3294a"
      },
      "source": [
        "counties %>%\n",
        "  # Select the five columns \n",
        "  select(state, county, population, men, women) %>%\n",
        "  # Add the proportion_men variable\n",
        "  mutate(proportion_men = men / population) %>%\n",
        "  # Filter for population of at least 10,000\n",
        "  filter(population >= 10000) %>% \n",
        "  # Arrange proportion of men in descending order \n",
        "  arrange(desc(proportion_men)) %>%\n",
        "  head()"
      ],
      "execution_count": 59,
      "outputs": [
        {
          "output_type": "display_data",
          "data": {
            "text/plain": [
              "  state      county         population men   women proportion_men\n",
              "1 Virginia   Sussex         11864       8130  3734 0.6852664     \n",
              "2 California Lassen         32645      21818 10827 0.6683412     \n",
              "3 Georgia    Chattahoochee  11914       7940  3974 0.6664428     \n",
              "4 Louisiana  West Feliciana 15415      10228  5187 0.6635096     \n",
              "5 Florida    Union          15191       9830  5361 0.6470937     \n",
              "6 Texas      Jones          19978      12652  7326 0.6332966     "
            ],
            "text/latex": "A spec\\_tbl\\_df: 6 × 6\n\\begin{tabular}{llllll}\n state & county & population & men & women & proportion\\_men\\\\\n <chr> & <chr> & <dbl> & <dbl> & <dbl> & <dbl>\\\\\n\\hline\n\t Virginia   & Sussex         & 11864 &  8130 &  3734 & 0.6852664\\\\\n\t California & Lassen         & 32645 & 21818 & 10827 & 0.6683412\\\\\n\t Georgia    & Chattahoochee  & 11914 &  7940 &  3974 & 0.6664428\\\\\n\t Louisiana  & West Feliciana & 15415 & 10228 &  5187 & 0.6635096\\\\\n\t Florida    & Union          & 15191 &  9830 &  5361 & 0.6470937\\\\\n\t Texas      & Jones          & 19978 & 12652 &  7326 & 0.6332966\\\\\n\\end{tabular}\n",
            "text/markdown": "\nA spec_tbl_df: 6 × 6\n\n| state &lt;chr&gt; | county &lt;chr&gt; | population &lt;dbl&gt; | men &lt;dbl&gt; | women &lt;dbl&gt; | proportion_men &lt;dbl&gt; |\n|---|---|---|---|---|---|\n| Virginia   | Sussex         | 11864 |  8130 |  3734 | 0.6852664 |\n| California | Lassen         | 32645 | 21818 | 10827 | 0.6683412 |\n| Georgia    | Chattahoochee  | 11914 |  7940 |  3974 | 0.6664428 |\n| Louisiana  | West Feliciana | 15415 | 10228 |  5187 | 0.6635096 |\n| Florida    | Union          | 15191 |  9830 |  5361 | 0.6470937 |\n| Texas      | Jones          | 19978 | 12652 |  7326 | 0.6332966 |\n\n",
            "text/html": [
              "<table class=\"dataframe\">\n",
              "<caption>A spec_tbl_df: 6 × 6</caption>\n",
              "<thead>\n",
              "\t<tr><th scope=col>state</th><th scope=col>county</th><th scope=col>population</th><th scope=col>men</th><th scope=col>women</th><th scope=col>proportion_men</th></tr>\n",
              "\t<tr><th scope=col>&lt;chr&gt;</th><th scope=col>&lt;chr&gt;</th><th scope=col>&lt;dbl&gt;</th><th scope=col>&lt;dbl&gt;</th><th scope=col>&lt;dbl&gt;</th><th scope=col>&lt;dbl&gt;</th></tr>\n",
              "</thead>\n",
              "<tbody>\n",
              "\t<tr><td>Virginia  </td><td>Sussex        </td><td>11864</td><td> 8130</td><td> 3734</td><td>0.6852664</td></tr>\n",
              "\t<tr><td>California</td><td>Lassen        </td><td>32645</td><td>21818</td><td>10827</td><td>0.6683412</td></tr>\n",
              "\t<tr><td>Georgia   </td><td>Chattahoochee </td><td>11914</td><td> 7940</td><td> 3974</td><td>0.6664428</td></tr>\n",
              "\t<tr><td>Louisiana </td><td>West Feliciana</td><td>15415</td><td>10228</td><td> 5187</td><td>0.6635096</td></tr>\n",
              "\t<tr><td>Florida   </td><td>Union         </td><td>15191</td><td> 9830</td><td> 5361</td><td>0.6470937</td></tr>\n",
              "\t<tr><td>Texas     </td><td>Jones         </td><td>19978</td><td>12652</td><td> 7326</td><td>0.6332966</td></tr>\n",
              "</tbody>\n",
              "</table>\n"
            ]
          },
          "metadata": {
            "tags": []
          }
        }
      ]
    },
    {
      "cell_type": "markdown",
      "metadata": {
        "id": "IVA7jS_-XV50"
      },
      "source": [
        "# Count how many counties has each state"
      ]
    },
    {
      "cell_type": "code",
      "metadata": {
        "colab": {
          "base_uri": "https://localhost:8080/",
          "height": 281
        },
        "id": "-BnBiuPoXYsv",
        "outputId": "f3b826a5-0df8-47a1-98b4-fa7514a9198c"
      },
      "source": [
        "counties %>%\n",
        "  count(state, sort=T) %>%\n",
        "  head()"
      ],
      "execution_count": 62,
      "outputs": [
        {
          "output_type": "display_data",
          "data": {
            "text/plain": [
              "  state    n  \n",
              "1 Texas    253\n",
              "2 Georgia  159\n",
              "3 Virginia 133\n",
              "4 Kentucky 120\n",
              "5 Missouri 115\n",
              "6 Kansas   105"
            ],
            "text/latex": "A spec\\_tbl\\_df: 6 × 2\n\\begin{tabular}{ll}\n state & n\\\\\n <chr> & <int>\\\\\n\\hline\n\t Texas    & 253\\\\\n\t Georgia  & 159\\\\\n\t Virginia & 133\\\\\n\t Kentucky & 120\\\\\n\t Missouri & 115\\\\\n\t Kansas   & 105\\\\\n\\end{tabular}\n",
            "text/markdown": "\nA spec_tbl_df: 6 × 2\n\n| state &lt;chr&gt; | n &lt;int&gt; |\n|---|---|\n| Texas    | 253 |\n| Georgia  | 159 |\n| Virginia | 133 |\n| Kentucky | 120 |\n| Missouri | 115 |\n| Kansas   | 105 |\n\n",
            "text/html": [
              "<table class=\"dataframe\">\n",
              "<caption>A spec_tbl_df: 6 × 2</caption>\n",
              "<thead>\n",
              "\t<tr><th scope=col>state</th><th scope=col>n</th></tr>\n",
              "\t<tr><th scope=col>&lt;chr&gt;</th><th scope=col>&lt;int&gt;</th></tr>\n",
              "</thead>\n",
              "<tbody>\n",
              "\t<tr><td>Texas   </td><td>253</td></tr>\n",
              "\t<tr><td>Georgia </td><td>159</td></tr>\n",
              "\t<tr><td>Virginia</td><td>133</td></tr>\n",
              "\t<tr><td>Kentucky</td><td>120</td></tr>\n",
              "\t<tr><td>Missouri</td><td>115</td></tr>\n",
              "\t<tr><td>Kansas  </td><td>105</td></tr>\n",
              "</tbody>\n",
              "</table>\n"
            ]
          },
          "metadata": {
            "tags": []
          }
        }
      ]
    },
    {
      "cell_type": "markdown",
      "metadata": {
        "id": "g-WfFUW0YMmR"
      },
      "source": [
        "# Count Weighted by another variable"
      ]
    },
    {
      "cell_type": "code",
      "metadata": {
        "colab": {
          "base_uri": "https://localhost:8080/",
          "height": 189
        },
        "id": "5tqNs9J_X-4Y",
        "outputId": "3a78672b-64e0-4c24-aa76-71f075d74ac9"
      },
      "source": [
        "counties %>%\n",
        "  count(state, wt = citizens, sort = TRUE) %>%\n",
        "  head(3)"
      ],
      "execution_count": 68,
      "outputs": [
        {
          "output_type": "display_data",
          "data": {
            "text/plain": [
              "  state      n       \n",
              "1 California 24280349\n",
              "2 Texas      16864864\n",
              "3 Florida    13933052"
            ],
            "text/latex": "A spec\\_tbl\\_df: 3 × 2\n\\begin{tabular}{ll}\n state & n\\\\\n <chr> & <dbl>\\\\\n\\hline\n\t California & 24280349\\\\\n\t Texas      & 16864864\\\\\n\t Florida    & 13933052\\\\\n\\end{tabular}\n",
            "text/markdown": "\nA spec_tbl_df: 3 × 2\n\n| state &lt;chr&gt; | n &lt;dbl&gt; |\n|---|---|\n| California | 24280349 |\n| Texas      | 16864864 |\n| Florida    | 13933052 |\n\n",
            "text/html": [
              "<table class=\"dataframe\">\n",
              "<caption>A spec_tbl_df: 3 × 2</caption>\n",
              "<thead>\n",
              "\t<tr><th scope=col>state</th><th scope=col>n</th></tr>\n",
              "\t<tr><th scope=col>&lt;chr&gt;</th><th scope=col>&lt;dbl&gt;</th></tr>\n",
              "</thead>\n",
              "<tbody>\n",
              "\t<tr><td>California</td><td>24280349</td></tr>\n",
              "\t<tr><td>Texas     </td><td>16864864</td></tr>\n",
              "\t<tr><td>Florida   </td><td>13933052</td></tr>\n",
              "</tbody>\n",
              "</table>\n"
            ]
          },
          "metadata": {
            "tags": []
          }
        }
      ]
    },
    {
      "cell_type": "markdown",
      "metadata": {
        "id": "a-3RK1r-vfcw"
      },
      "source": [
        "# Exercises"
      ]
    },
    {
      "cell_type": "markdown",
      "metadata": {
        "id": "3YnofbnyYvO8"
      },
      "source": [
        "## \"What are the US states where the most people walk to work?\""
      ]
    },
    {
      "cell_type": "code",
      "metadata": {
        "colab": {
          "base_uri": "https://localhost:8080/",
          "height": 189
        },
        "id": "C5sZUovpYwkE",
        "outputId": "f98c084e-4cbe-4e5d-c8e9-80658844ed2d"
      },
      "source": [
        "counties %>%\n",
        "  select(region, state, population, walk) %>%\n",
        "  mutate(population_walk = population * walk / 100) %>%\n",
        "  # Count weighted by the new column\n",
        "  count(state, wt = population_walk, sort = TRUE) %>%\n",
        "  head(3)"
      ],
      "execution_count": 77,
      "outputs": [
        {
          "output_type": "display_data",
          "data": {
            "text/plain": [
              "  state        n        \n",
              "1 New York     1237938.2\n",
              "2 California   1017963.7\n",
              "3 Pennsylvania  505397.2"
            ],
            "text/latex": "A spec\\_tbl\\_df: 3 × 2\n\\begin{tabular}{ll}\n state & n\\\\\n <chr> & <dbl>\\\\\n\\hline\n\t New York     & 1237938.2\\\\\n\t California   & 1017963.7\\\\\n\t Pennsylvania &  505397.2\\\\\n\\end{tabular}\n",
            "text/markdown": "\nA spec_tbl_df: 3 × 2\n\n| state &lt;chr&gt; | n &lt;dbl&gt; |\n|---|---|\n| New York     | 1237938.2 |\n| California   | 1017963.7 |\n| Pennsylvania |  505397.2 |\n\n",
            "text/html": [
              "<table class=\"dataframe\">\n",
              "<caption>A spec_tbl_df: 3 × 2</caption>\n",
              "<thead>\n",
              "\t<tr><th scope=col>state</th><th scope=col>n</th></tr>\n",
              "\t<tr><th scope=col>&lt;chr&gt;</th><th scope=col>&lt;dbl&gt;</th></tr>\n",
              "</thead>\n",
              "<tbody>\n",
              "\t<tr><td>New York    </td><td>1237938.2</td></tr>\n",
              "\t<tr><td>California  </td><td>1017963.7</td></tr>\n",
              "\t<tr><td>Pennsylvania</td><td> 505397.2</td></tr>\n",
              "</tbody>\n",
              "</table>\n"
            ]
          },
          "metadata": {
            "tags": []
          }
        }
      ]
    },
    {
      "cell_type": "code",
      "metadata": {
        "colab": {
          "base_uri": "https://localhost:8080/",
          "height": 189
        },
        "id": "446C7ItsZRUr",
        "outputId": "7e3b9f3d-4fb3-45b9-eca7-09fc581b06eb"
      },
      "source": [
        "# or using group_by and summarize\n",
        "counties %>%\n",
        "  select(region, state, population, walk) %>%\n",
        "  mutate(population_walk = population * walk / 100) %>%\n",
        "  group_by(state) %>%\n",
        "  summarize(pop_walk = sum(population_walk)) %>% \n",
        "  arrange(desc(state)) %>%\n",
        "  head(3)"
      ],
      "execution_count": 81,
      "outputs": [
        {
          "output_type": "display_data",
          "data": {
            "text/plain": [
              "  state         pop_walk \n",
              "1 Wyoming        21981.33\n",
              "2 Wisconsin     190405.65\n",
              "3 West Virginia  51493.53"
            ],
            "text/latex": "A tibble: 3 × 2\n\\begin{tabular}{ll}\n state & pop\\_walk\\\\\n <chr> & <dbl>\\\\\n\\hline\n\t Wyoming       &  21981.33\\\\\n\t Wisconsin     & 190405.65\\\\\n\t West Virginia &  51493.53\\\\\n\\end{tabular}\n",
            "text/markdown": "\nA tibble: 3 × 2\n\n| state &lt;chr&gt; | pop_walk &lt;dbl&gt; |\n|---|---|\n| Wyoming       |  21981.33 |\n| Wisconsin     | 190405.65 |\n| West Virginia |  51493.53 |\n\n",
            "text/html": [
              "<table class=\"dataframe\">\n",
              "<caption>A tibble: 3 × 2</caption>\n",
              "<thead>\n",
              "\t<tr><th scope=col>state</th><th scope=col>pop_walk</th></tr>\n",
              "\t<tr><th scope=col>&lt;chr&gt;</th><th scope=col>&lt;dbl&gt;</th></tr>\n",
              "</thead>\n",
              "<tbody>\n",
              "\t<tr><td>Wyoming      </td><td> 21981.33</td></tr>\n",
              "\t<tr><td>Wisconsin    </td><td>190405.65</td></tr>\n",
              "\t<tr><td>West Virginia</td><td> 51493.53</td></tr>\n",
              "</tbody>\n",
              "</table>\n"
            ]
          },
          "metadata": {
            "tags": []
          }
        }
      ]
    },
    {
      "cell_type": "markdown",
      "metadata": {
        "id": "VkNlBMtKlQ3a"
      },
      "source": [
        "## Extract top 2 states by density"
      ]
    },
    {
      "cell_type": "code",
      "metadata": {
        "colab": {
          "base_uri": "https://localhost:8080/",
          "height": 158
        },
        "id": "HMa-v7jvarM8",
        "outputId": "f4248f1c-ad9b-4ef4-a184-fc691f0cad00"
      },
      "source": [
        "# groupby and add a density column\n",
        "counties %>%\n",
        "  group_by(state) %>%\n",
        "  summarize(total_area = sum(land_area), total_population = sum(population)) %>%\n",
        "  mutate(density_pop = total_population / total_area ) %>%\n",
        "  arrange(desc(density_pop)) %>%\n",
        "  head()"
      ],
      "execution_count": 91,
      "outputs": [
        {
          "output_type": "display_data",
          "data": {
            "text/plain": [
              "  state        total_area total_population density_pop\n",
              "1 New Jersey   7354.22    8904413          1210.790   \n",
              "2 Rhode Island 1033.82    1053661          1019.192   "
            ],
            "text/latex": "A tibble: 2 × 4\n\\begin{tabular}{llll}\n state & total\\_area & total\\_population & density\\_pop\\\\\n <chr> & <dbl> & <dbl> & <dbl>\\\\\n\\hline\n\t New Jersey   & 7354.22 & 8904413 & 1210.790\\\\\n\t Rhode Island & 1033.82 & 1053661 & 1019.192\\\\\n\\end{tabular}\n",
            "text/markdown": "\nA tibble: 2 × 4\n\n| state &lt;chr&gt; | total_area &lt;dbl&gt; | total_population &lt;dbl&gt; | density_pop &lt;dbl&gt; |\n|---|---|---|---|\n| New Jersey   | 7354.22 | 8904413 | 1210.790 |\n| Rhode Island | 1033.82 | 1053661 | 1019.192 |\n\n",
            "text/html": [
              "<table class=\"dataframe\">\n",
              "<caption>A tibble: 2 × 4</caption>\n",
              "<thead>\n",
              "\t<tr><th scope=col>state</th><th scope=col>total_area</th><th scope=col>total_population</th><th scope=col>density_pop</th></tr>\n",
              "\t<tr><th scope=col>&lt;chr&gt;</th><th scope=col>&lt;dbl&gt;</th><th scope=col>&lt;dbl&gt;</th><th scope=col>&lt;dbl&gt;</th></tr>\n",
              "</thead>\n",
              "<tbody>\n",
              "\t<tr><td>New Jersey  </td><td>7354.22</td><td>8904413</td><td>1210.790</td></tr>\n",
              "\t<tr><td>Rhode Island</td><td>1033.82</td><td>1053661</td><td>1019.192</td></tr>\n",
              "</tbody>\n",
              "</table>\n"
            ]
          },
          "metadata": {
            "tags": []
          }
        }
      ]
    },
    {
      "cell_type": "markdown",
      "metadata": {
        "id": "0oRXUT37bdRm"
      },
      "source": [
        "Looks like New Jersey and Rhode Island are the “most crowded” of the US states, with more than a thousand people per square mile"
      ]
    },
    {
      "cell_type": "markdown",
      "metadata": {
        "id": "YdBrrRiHlXkE"
      },
      "source": [
        "## Extract top 2 counties by unemploymet in each state "
      ]
    },
    {
      "cell_type": "code",
      "metadata": {
        "colab": {
          "base_uri": "https://localhost:8080/",
          "height": 1000
        },
        "id": "2KojmG7lbeF6",
        "outputId": "1ecdc2bc-b31d-438f-887f-b9595a3d6bdf"
      },
      "source": [
        "counties %>%\n",
        "  group_by(state) %>%\n",
        "  top_n(2, unemployment)"
      ],
      "execution_count": 99,
      "outputs": [
        {
          "output_type": "display_data",
          "data": {
            "text/plain": [
              "    census_id state          county                    region        metro   \n",
              "1   1035      Alabama        Conecuh                   South         Nonmetro\n",
              "2   1131      Alabama        Wilcox                    South         Nonmetro\n",
              "3   2188      Alaska         Northwest Arctic Borough  West          Nonmetro\n",
              "4   2290      Alaska         Yukon-Koyukuk Census Area West          Nonmetro\n",
              "5   4001      Arizona        Apache                    West          Nonmetro\n",
              "6   4017      Arizona        Navajo                    West          Nonmetro\n",
              "7   5041      Arkansas       Desha                     South         Nonmetro\n",
              "8   5107      Arkansas       Phillips                  South         Nonmetro\n",
              "9   6025      California     Imperial                  West          Metro   \n",
              "10  6047      California     Merced                    West          Metro   \n",
              "11  8025      Colorado       Crowley                   West          Nonmetro\n",
              "12  8055      Colorado       Huerfano                  West          Nonmetro\n",
              "13  9003      Connecticut    Hartford                  Northeast     Metro   \n",
              "14  9009      Connecticut    New Haven                 Northeast     Metro   \n",
              "15  9015      Connecticut    Windham                   Northeast     Metro   \n",
              "16  10001     Delaware       Kent                      South         Metro   \n",
              "17  10005     Delaware       Sussex                    South         Metro   \n",
              "18  12047     Florida        Hamilton                  South         Nonmetro\n",
              "19  12059     Florida        Holmes                    South         Nonmetro\n",
              "20  13061     Georgia        Clay                      South         Nonmetro\n",
              "21  13269     Georgia        Taylor                    South         Nonmetro\n",
              "22  15001     Hawaii         Hawaii                    West          Nonmetro\n",
              "23  15009     Hawaii         Maui                      West          Metro   \n",
              "24  16045     Idaho          Gem                       West          Metro   \n",
              "25  16079     Idaho          Shoshone                  West          Nonmetro\n",
              "26  17069     Illinois       Hardin                    North Central Nonmetro\n",
              "27  17153     Illinois       Pulaski                   North Central Nonmetro\n",
              "28  18041     Indiana        Fayette                   North Central Nonmetro\n",
              "29  18149     Indiana        Starke                    North Central Nonmetro\n",
              "30  19111     Iowa           Lee                       North Central Nonmetro\n",
              "⋮   ⋮         ⋮              ⋮                         ⋮             ⋮       \n",
              "75  41025     Oregon         Harney                    West          Nonmetro\n",
              "76  41031     Oregon         Jefferson                 West          Nonmetro\n",
              "77  42089     Pennsylvania   Monroe                    Northeast     Metro   \n",
              "78  42101     Pennsylvania   Philadelphia              Northeast     Metro   \n",
              "79  44003     Rhode Island   Kent                      Northeast     Metro   \n",
              "80  44007     Rhode Island   Providence                Northeast     Metro   \n",
              "81  45005     South Carolina Allendale                 South         Nonmetro\n",
              "82  45027     South Carolina Clarendon                 South         Nonmetro\n",
              "83  46031     South Dakota   Corson                    North Central Nonmetro\n",
              "84  46137     South Dakota   Ziebach                   North Central Nonmetro\n",
              "85  47069     Tennessee      Hardeman                  South         Nonmetro\n",
              "86  47121     Tennessee      Meigs                     South         Nonmetro\n",
              "87  48047     Texas          Brooks                    South         Nonmetro\n",
              "88  48247     Texas          Jim Hogg                  South         Nonmetro\n",
              "89  49017     Utah           Garfield                  West          Nonmetro\n",
              "90  49021     Utah           Iron                      West          Nonmetro\n",
              "91  50009     Vermont        Essex                     Northeast     Nonmetro\n",
              "92  50013     Vermont        Grand Isle                Northeast     Metro   \n",
              "93  51595     Virginia       Emporia city              South         Nonmetro\n",
              "94  51620     Virginia       Franklin city             South         Nonmetro\n",
              "95  53027     Washington     Grays Harbor              West          Nonmetro\n",
              "96  53045     Washington     Mason                     West          Nonmetro\n",
              "97  54013     West Virginia  Calhoun                   South         Nonmetro\n",
              "98  54101     West Virginia  Webster                   South         Nonmetro\n",
              "99  55001     Wisconsin      Adams                     North Central Nonmetro\n",
              "100 55041     Wisconsin      Forest                    North Central Nonmetro\n",
              "101 55078     Wisconsin      Menominee                 North Central Nonmetro\n",
              "102 56013     Wyoming        Fremont                   West          Nonmetro\n",
              "103 56015     Wyoming        Goshen                    West          Nonmetro\n",
              "104 56043     Wyoming        Washakie                  West          Nonmetro\n",
              "    population men    women  hispanic white ⋯ other_transp work_at_home\n",
              "1    12865       6176   6689  1.6     51.0  ⋯  0.3          1.3        \n",
              "2    11235       5376   5859  0.6     27.4  ⋯  0.9          4.2        \n",
              "3     7732       4165   3567  1.8     11.8  ⋯ 21.2          4.6        \n",
              "4     5644       3038   2606  1.9     21.8  ⋯ 20.1          4.9        \n",
              "5    72124      35663  36461  6.3     19.3  ⋯  1.4          6.3        \n",
              "6   107656      53984  53672 11.1     42.6  ⋯  2.3          7.3        \n",
              "7    12379       5741   6638  4.6     46.4  ⋯  3.5          1.3        \n",
              "8    20391       9529  10862  1.6     35.2  ⋯  1.3          2.8        \n",
              "9   178206      91167  87039 81.8     12.6  ⋯  2.4          4.0        \n",
              "10  263885     133152 130733 56.9     29.9  ⋯  3.4          3.9        \n",
              "11    5551       3145   2406 30.2     61.1  ⋯  0.5          2.3        \n",
              "12    6502       3290   3212 34.6     64.2  ⋯  1.2          5.6        \n",
              "13  896943     434784 462159 16.6     63.9  ⋯  1.2          3.6        \n",
              "14  862224     415679 446545 16.4     65.4  ⋯  1.3          3.7        \n",
              "15  117470      58212  59258 10.5     84.1  ⋯  0.8          3.5        \n",
              "16  169509      81716  87793  6.5     63.7  ⋯  1.0          3.6        \n",
              "17  207302     100782 106520  9.2     74.8  ⋯  1.6          4.9        \n",
              "18   14395       8671   5724  9.2     54.9  ⋯  2.5          3.7        \n",
              "19   19635      10501   9134  2.7     87.3  ⋯  0.4          2.7        \n",
              "20    3104       1510   1594  4.9     31.6  ⋯  0.6          6.8        \n",
              "21    8401       4036   4365  2.3     58.4  ⋯  1.9          3.1        \n",
              "22  191482      95939  95543 12.2     30.8  ⋯  2.2          7.7        \n",
              "23  160863      80790  80073 10.8     31.4  ⋯  3.2          6.1        \n",
              "24   16731       8390   8341  8.0     88.4  ⋯  2.2         10.0        \n",
              "25   12571       6324   6247  3.3     92.4  ⋯  1.9          5.7        \n",
              "26    4228       2184   2044  1.8     96.0  ⋯  1.4          6.2        \n",
              "27    5871       2868   3003  1.8     63.5  ⋯  1.9          4.2        \n",
              "28   23773      11747  12026  1.0     96.0  ⋯  1.7          2.4        \n",
              "29   23117      11395  11722  3.5     94.6  ⋯  0.8          2.6        \n",
              "30   35369      17767  17602  3.3     91.0  ⋯  1.5          2.5        \n",
              "⋮   ⋮          ⋮      ⋮      ⋮        ⋮     ⋱ ⋮            ⋮           \n",
              "75     7229      3632   3597  4.6     87.8  ⋯ 2.0          12.6        \n",
              "76    22061     11313  10748 19.6     60.6  ⋯ 3.0           4.0        \n",
              "77   167881     82806  85075 14.2     68.5  ⋯ 0.7           5.1        \n",
              "78  1555072    734521 820551 13.4     35.8  ⋯ 3.3           3.1        \n",
              "79   164958     79650  85308  4.0     90.2  ⋯ 0.4           2.7        \n",
              "80   630459    305247 325212 20.3     64.0  ⋯ 1.9           3.0        \n",
              "81     9838      5225   4613  2.8     23.2  ⋯ 0.5           3.4        \n",
              "82    34178     16759  17419  2.9     47.1  ⋯ 1.1           2.6        \n",
              "83     4149      2123   2026  0.6     30.9  ⋯ 1.5          19.0        \n",
              "84     2833      1391   1442  3.7     23.7  ⋯ 1.7          20.0        \n",
              "85    26253     14297  11956  1.5     55.1  ⋯ 0.3           5.3        \n",
              "86    11716      5755   5961  1.4     94.9  ⋯ 0.7           1.8        \n",
              "87     7221      3744   3477 92.9      5.1  ⋯ 0.1           3.1        \n",
              "88     5239      2651   2588 91.9      6.6  ⋯ 0.0           1.0        \n",
              "89     5069      2637   2432  5.6     90.2  ⋯ 2.1           4.5        \n",
              "90    47139     23588  23551  8.1     86.6  ⋯ 1.7           2.8        \n",
              "91     6207      3111   3096  1.2     95.9  ⋯ 0.6           7.3        \n",
              "92     6952      3419   3533  1.7     93.6  ⋯ 0.7           7.5        \n",
              "93     5672      2605   3067  3.0     39.2  ⋯ 0.9           2.9        \n",
              "94     8457      3766   4691  1.0     38.2  ⋯ 0.4           3.5        \n",
              "95    71419     36748  34671  9.6     80.1  ⋯ 2.0           3.9        \n",
              "96    60791     31476  29315  8.7     81.9  ⋯ 1.3           3.7        \n",
              "97     7557      3783   3774  1.0     97.3  ⋯ 1.1           1.0        \n",
              "98     8927      4387   4540  0.3     97.7  ⋯ 2.4           3.5        \n",
              "99    20451     11033   9418  3.8     90.6  ⋯ 1.7           4.7        \n",
              "100    9150      4647   4503  2.0     81.0  ⋯ 1.1           6.5        \n",
              "101    4451      2185   2266  5.5     10.5  ⋯ 0.1           4.9        \n",
              "102   40755     20358  20397  6.6     70.5  ⋯ 2.0           6.3        \n",
              "103   13544      7180   6364 10.4     86.5  ⋯ 1.5           7.2        \n",
              "104    8400      4144   4256 14.0     82.4  ⋯ 2.8           4.5        \n",
              "    mean_commute employed private_work public_work self_employed family_work\n",
              "1   29.7           3718   77.8         13.0         8.3          0.8        \n",
              "2   22.6           2838   68.9         26.0         5.1          0.0        \n",
              "3    7.4           2593   54.0         43.7         2.1          0.2        \n",
              "4    8.6           2077   33.3         61.7         5.1          0.0        \n",
              "5   28.8          18334   50.2         45.0         4.7          0.1        \n",
              "6   22.3          31955   61.1         31.3         7.4          0.3        \n",
              "7   19.2           4355   69.9         25.7         4.5          0.0        \n",
              "8   19.5           6932   69.4         23.6         7.0          0.0        \n",
              "9   21.3          58391   66.6         27.8         5.2          0.4        \n",
              "10  26.1          96170   76.7         16.2         7.0          0.2        \n",
              "11  21.9           1457   66.7         27.3         6.0          0.0        \n",
              "12  22.0           2211   63.2         24.2        12.2          0.5        \n",
              "13  22.7         439719   80.7         14.2         4.8          0.2        \n",
              "14  24.4         419901   81.2         13.2         5.4          0.2        \n",
              "15  26.0          58842   77.8         16.3         5.5          0.4        \n",
              "16  26.1          75246   73.4         22.4         3.9          0.3        \n",
              "17  25.0          90239   78.8         14.7         6.4          0.1        \n",
              "18  22.4           3966   65.9         24.5         8.8          0.8        \n",
              "19  30.0           6118   71.5         22.3         6.1          0.1        \n",
              "20  29.7            848   70.2         20.8         7.7          1.4        \n",
              "21  28.7           2869   67.0         25.3         7.7          0.0        \n",
              "22  25.1          82124   69.7         19.4        10.3          0.5        \n",
              "23  21.3          81619   75.7         15.1         8.8          0.4        \n",
              "24  27.2           5789   67.2         20.5        10.8          1.5        \n",
              "25  18.4           4992   76.9         15.8         6.8          0.4        \n",
              "26  25.2           1493   75.4         18.4         5.7          0.5        \n",
              "27  25.8           1935   71.4         22.5         6.0          0.1        \n",
              "28  26.1           9245   85.3          9.4         5.0          0.2        \n",
              "29  29.3           9583   83.4         11.2         5.3          0.1        \n",
              "30  17.9          16414   81.1         12.7         5.8          0.4        \n",
              "⋮   ⋮            ⋮        ⋮            ⋮           ⋮             ⋮          \n",
              "75  16.0           2901   53.4         29.5        16.2          1.0        \n",
              "76  19.7           8167   69.9         23.3         6.7          0.1        \n",
              "77  38.7          76767   81.0         14.1         4.8          0.1        \n",
              "78  32.5         640661   82.9         13.0         4.0          0.1        \n",
              "79  24.5          86274   82.6         12.7         4.6          0.1        \n",
              "80  23.9         301318   84.6         11.3         4.1          0.1        \n",
              "81  27.5           2866   73.3         21.9         4.8          0.0        \n",
              "82  28.9          11443   75.4         17.8         6.8          0.0        \n",
              "83  19.7           1240   36.1         40.8        21.5          1.5        \n",
              "84  19.6            948   40.9         41.7        16.6          0.8        \n",
              "85  28.2           8256   70.7         22.0         7.2          0.0        \n",
              "86  30.1           3907   81.2         12.6         6.3          0.0        \n",
              "87  20.3           2416   72.8         20.9         6.3          0.0        \n",
              "88  32.4           1786   56.8         30.7        11.7          0.8        \n",
              "89  14.1           2000   70.8         20.1         8.9          0.3        \n",
              "90  18.0          19636   74.6         20.9         4.5          0.0        \n",
              "91  26.3           2683   70.6         17.8        11.1          0.5        \n",
              "92  33.8           3697   78.2         11.7         9.8          0.3        \n",
              "93  20.7           2074   74.1         22.6         3.3          0.0        \n",
              "94  24.2           3429   63.9         28.9         6.3          0.9        \n",
              "95  24.2          26197   71.2         21.7         7.0          0.2        \n",
              "96  31.4          22155   64.5         25.9         9.5          0.1        \n",
              "97  32.9           2511   77.6         17.6         3.3          1.5        \n",
              "98  27.0           2945   79.7         15.4         4.7          0.2        \n",
              "99  28.7           7457   80.0         12.6         7.3          0.2        \n",
              "100 21.4           3559   64.0         25.3        10.6          0.0        \n",
              "101 17.3           1403   36.8         59.1         3.7          0.4        \n",
              "102 18.5          18736   61.8         28.3         9.4          0.5        \n",
              "103 19.2           6080   61.1         27.8        10.9          0.3        \n",
              "104 12.3           3892   70.5         21.5         7.6          0.5        \n",
              "    unemployment land_area\n",
              "1   22.6            850.16\n",
              "2   20.8            888.50\n",
              "3   21.9          35572.58\n",
              "4   18.2         145504.79\n",
              "5   18.2          11197.52\n",
              "6   19.8           9950.42\n",
              "7   17.7            768.15\n",
              "8   18.1            695.66\n",
              "9   17.4           4176.60\n",
              "10  16.2           1934.97\n",
              "11  27.0            787.42\n",
              "12  15.0           1591.00\n",
              "13   9.3            735.10\n",
              "14   9.5            604.51\n",
              "15   9.3            512.91\n",
              "16   8.4            586.18\n",
              "17   8.0            936.08\n",
              "18  15.8            513.79\n",
              "19  15.4            478.78\n",
              "20  19.2            195.38\n",
              "21  20.6            376.69\n",
              "22   8.1           4028.42\n",
              "23   6.9           1161.52\n",
              "24  14.2            560.90\n",
              "25  11.8           2629.67\n",
              "26  18.1            177.53\n",
              "27  16.2            199.19\n",
              "28  12.1            215.01\n",
              "29  11.5            309.13\n",
              "30   8.7            517.52\n",
              "⋮   ⋮            ⋮        \n",
              "75  16.1         10133.17 \n",
              "76  14.4          1780.79 \n",
              "77  12.0           608.29 \n",
              "78  13.9           134.10 \n",
              "79   8.2           168.53 \n",
              "80   9.5           409.50 \n",
              "81  22.6           408.09 \n",
              "82  16.2           606.94 \n",
              "83  29.4          2469.69 \n",
              "84  27.4          1961.27 \n",
              "85  18.7           667.77 \n",
              "86  15.0           195.12 \n",
              "87  19.8           943.36 \n",
              "88  16.5          1136.14 \n",
              "89   8.6          5175.12 \n",
              "90  10.5          3296.68 \n",
              "91   9.4           663.60 \n",
              "92   7.4            81.81 \n",
              "93  19.1             6.89 \n",
              "94  13.7             8.21 \n",
              "95  14.3          1902.03 \n",
              "96  12.9           959.42 \n",
              "97  18.1           279.25 \n",
              "98  14.8           553.47 \n",
              "99  10.1           645.65 \n",
              "100 10.1          1014.07 \n",
              "101 14.8           357.61 \n",
              "102  7.8          9183.81 \n",
              "103  6.8          2225.39 \n",
              "104  6.8          2238.55 "
            ],
            "text/latex": "A grouped\\_df: 104 × 40\n\\begin{tabular}{lllllllllllllllllllll}\n census\\_id & state & county & region & metro & population & men & women & hispanic & white & ⋯ & other\\_transp & work\\_at\\_home & mean\\_commute & employed & private\\_work & public\\_work & self\\_employed & family\\_work & unemployment & land\\_area\\\\\n <chr> & <chr> & <chr> & <chr> & <chr> & <dbl> & <dbl> & <dbl> & <dbl> & <dbl> & ⋯ & <dbl> & <dbl> & <dbl> & <dbl> & <dbl> & <dbl> & <dbl> & <dbl> & <dbl> & <dbl>\\\\\n\\hline\n\t 1035  & Alabama     & Conecuh                   & South         & Nonmetro &  12865 &   6176 &   6689 &  1.6 & 51.0 & ⋯ &  0.3 &  1.3 & 29.7 &   3718 & 77.8 & 13.0 &  8.3 & 0.8 & 22.6 &    850.16\\\\\n\t 1131  & Alabama     & Wilcox                    & South         & Nonmetro &  11235 &   5376 &   5859 &  0.6 & 27.4 & ⋯ &  0.9 &  4.2 & 22.6 &   2838 & 68.9 & 26.0 &  5.1 & 0.0 & 20.8 &    888.50\\\\\n\t 2188  & Alaska      & Northwest Arctic Borough  & West          & Nonmetro &   7732 &   4165 &   3567 &  1.8 & 11.8 & ⋯ & 21.2 &  4.6 &  7.4 &   2593 & 54.0 & 43.7 &  2.1 & 0.2 & 21.9 &  35572.58\\\\\n\t 2290  & Alaska      & Yukon-Koyukuk Census Area & West          & Nonmetro &   5644 &   3038 &   2606 &  1.9 & 21.8 & ⋯ & 20.1 &  4.9 &  8.6 &   2077 & 33.3 & 61.7 &  5.1 & 0.0 & 18.2 & 145504.79\\\\\n\t 4001  & Arizona     & Apache                    & West          & Nonmetro &  72124 &  35663 &  36461 &  6.3 & 19.3 & ⋯ &  1.4 &  6.3 & 28.8 &  18334 & 50.2 & 45.0 &  4.7 & 0.1 & 18.2 &  11197.52\\\\\n\t 4017  & Arizona     & Navajo                    & West          & Nonmetro & 107656 &  53984 &  53672 & 11.1 & 42.6 & ⋯ &  2.3 &  7.3 & 22.3 &  31955 & 61.1 & 31.3 &  7.4 & 0.3 & 19.8 &   9950.42\\\\\n\t 5041  & Arkansas    & Desha                     & South         & Nonmetro &  12379 &   5741 &   6638 &  4.6 & 46.4 & ⋯ &  3.5 &  1.3 & 19.2 &   4355 & 69.9 & 25.7 &  4.5 & 0.0 & 17.7 &    768.15\\\\\n\t 5107  & Arkansas    & Phillips                  & South         & Nonmetro &  20391 &   9529 &  10862 &  1.6 & 35.2 & ⋯ &  1.3 &  2.8 & 19.5 &   6932 & 69.4 & 23.6 &  7.0 & 0.0 & 18.1 &    695.66\\\\\n\t 6025  & California  & Imperial                  & West          & Metro    & 178206 &  91167 &  87039 & 81.8 & 12.6 & ⋯ &  2.4 &  4.0 & 21.3 &  58391 & 66.6 & 27.8 &  5.2 & 0.4 & 17.4 &   4176.60\\\\\n\t 6047  & California  & Merced                    & West          & Metro    & 263885 & 133152 & 130733 & 56.9 & 29.9 & ⋯ &  3.4 &  3.9 & 26.1 &  96170 & 76.7 & 16.2 &  7.0 & 0.2 & 16.2 &   1934.97\\\\\n\t 8025  & Colorado    & Crowley                   & West          & Nonmetro &   5551 &   3145 &   2406 & 30.2 & 61.1 & ⋯ &  0.5 &  2.3 & 21.9 &   1457 & 66.7 & 27.3 &  6.0 & 0.0 & 27.0 &    787.42\\\\\n\t 8055  & Colorado    & Huerfano                  & West          & Nonmetro &   6502 &   3290 &   3212 & 34.6 & 64.2 & ⋯ &  1.2 &  5.6 & 22.0 &   2211 & 63.2 & 24.2 & 12.2 & 0.5 & 15.0 &   1591.00\\\\\n\t 9003  & Connecticut & Hartford                  & Northeast     & Metro    & 896943 & 434784 & 462159 & 16.6 & 63.9 & ⋯ &  1.2 &  3.6 & 22.7 & 439719 & 80.7 & 14.2 &  4.8 & 0.2 &  9.3 &    735.10\\\\\n\t 9009  & Connecticut & New Haven                 & Northeast     & Metro    & 862224 & 415679 & 446545 & 16.4 & 65.4 & ⋯ &  1.3 &  3.7 & 24.4 & 419901 & 81.2 & 13.2 &  5.4 & 0.2 &  9.5 &    604.51\\\\\n\t 9015  & Connecticut & Windham                   & Northeast     & Metro    & 117470 &  58212 &  59258 & 10.5 & 84.1 & ⋯ &  0.8 &  3.5 & 26.0 &  58842 & 77.8 & 16.3 &  5.5 & 0.4 &  9.3 &    512.91\\\\\n\t 10001 & Delaware    & Kent                      & South         & Metro    & 169509 &  81716 &  87793 &  6.5 & 63.7 & ⋯ &  1.0 &  3.6 & 26.1 &  75246 & 73.4 & 22.4 &  3.9 & 0.3 &  8.4 &    586.18\\\\\n\t 10005 & Delaware    & Sussex                    & South         & Metro    & 207302 & 100782 & 106520 &  9.2 & 74.8 & ⋯ &  1.6 &  4.9 & 25.0 &  90239 & 78.8 & 14.7 &  6.4 & 0.1 &  8.0 &    936.08\\\\\n\t 12047 & Florida     & Hamilton                  & South         & Nonmetro &  14395 &   8671 &   5724 &  9.2 & 54.9 & ⋯ &  2.5 &  3.7 & 22.4 &   3966 & 65.9 & 24.5 &  8.8 & 0.8 & 15.8 &    513.79\\\\\n\t 12059 & Florida     & Holmes                    & South         & Nonmetro &  19635 &  10501 &   9134 &  2.7 & 87.3 & ⋯ &  0.4 &  2.7 & 30.0 &   6118 & 71.5 & 22.3 &  6.1 & 0.1 & 15.4 &    478.78\\\\\n\t 13061 & Georgia     & Clay                      & South         & Nonmetro &   3104 &   1510 &   1594 &  4.9 & 31.6 & ⋯ &  0.6 &  6.8 & 29.7 &    848 & 70.2 & 20.8 &  7.7 & 1.4 & 19.2 &    195.38\\\\\n\t 13269 & Georgia     & Taylor                    & South         & Nonmetro &   8401 &   4036 &   4365 &  2.3 & 58.4 & ⋯ &  1.9 &  3.1 & 28.7 &   2869 & 67.0 & 25.3 &  7.7 & 0.0 & 20.6 &    376.69\\\\\n\t 15001 & Hawaii      & Hawaii                    & West          & Nonmetro & 191482 &  95939 &  95543 & 12.2 & 30.8 & ⋯ &  2.2 &  7.7 & 25.1 &  82124 & 69.7 & 19.4 & 10.3 & 0.5 &  8.1 &   4028.42\\\\\n\t 15009 & Hawaii      & Maui                      & West          & Metro    & 160863 &  80790 &  80073 & 10.8 & 31.4 & ⋯ &  3.2 &  6.1 & 21.3 &  81619 & 75.7 & 15.1 &  8.8 & 0.4 &  6.9 &   1161.52\\\\\n\t 16045 & Idaho       & Gem                       & West          & Metro    &  16731 &   8390 &   8341 &  8.0 & 88.4 & ⋯ &  2.2 & 10.0 & 27.2 &   5789 & 67.2 & 20.5 & 10.8 & 1.5 & 14.2 &    560.90\\\\\n\t 16079 & Idaho       & Shoshone                  & West          & Nonmetro &  12571 &   6324 &   6247 &  3.3 & 92.4 & ⋯ &  1.9 &  5.7 & 18.4 &   4992 & 76.9 & 15.8 &  6.8 & 0.4 & 11.8 &   2629.67\\\\\n\t 17069 & Illinois    & Hardin                    & North Central & Nonmetro &   4228 &   2184 &   2044 &  1.8 & 96.0 & ⋯ &  1.4 &  6.2 & 25.2 &   1493 & 75.4 & 18.4 &  5.7 & 0.5 & 18.1 &    177.53\\\\\n\t 17153 & Illinois    & Pulaski                   & North Central & Nonmetro &   5871 &   2868 &   3003 &  1.8 & 63.5 & ⋯ &  1.9 &  4.2 & 25.8 &   1935 & 71.4 & 22.5 &  6.0 & 0.1 & 16.2 &    199.19\\\\\n\t 18041 & Indiana     & Fayette                   & North Central & Nonmetro &  23773 &  11747 &  12026 &  1.0 & 96.0 & ⋯ &  1.7 &  2.4 & 26.1 &   9245 & 85.3 &  9.4 &  5.0 & 0.2 & 12.1 &    215.01\\\\\n\t 18149 & Indiana     & Starke                    & North Central & Nonmetro &  23117 &  11395 &  11722 &  3.5 & 94.6 & ⋯ &  0.8 &  2.6 & 29.3 &   9583 & 83.4 & 11.2 &  5.3 & 0.1 & 11.5 &    309.13\\\\\n\t 19111 & Iowa        & Lee                       & North Central & Nonmetro &  35369 &  17767 &  17602 &  3.3 & 91.0 & ⋯ &  1.5 &  2.5 & 17.9 &  16414 & 81.1 & 12.7 &  5.8 & 0.4 &  8.7 &    517.52\\\\\n\t ⋮ & ⋮ & ⋮ & ⋮ & ⋮ & ⋮ & ⋮ & ⋮ & ⋮ & ⋮ & ⋱ & ⋮ & ⋮ & ⋮ & ⋮ & ⋮ & ⋮ & ⋮ & ⋮ & ⋮ & ⋮\\\\\n\t 41025 & Oregon         & Harney        & West          & Nonmetro &    7229 &   3632 &   3597 &  4.6 & 87.8 & ⋯ & 2.0 & 12.6 & 16.0 &   2901 & 53.4 & 29.5 & 16.2 & 1.0 & 16.1 & 10133.17\\\\\n\t 41031 & Oregon         & Jefferson     & West          & Nonmetro &   22061 &  11313 &  10748 & 19.6 & 60.6 & ⋯ & 3.0 &  4.0 & 19.7 &   8167 & 69.9 & 23.3 &  6.7 & 0.1 & 14.4 &  1780.79\\\\\n\t 42089 & Pennsylvania   & Monroe        & Northeast     & Metro    &  167881 &  82806 &  85075 & 14.2 & 68.5 & ⋯ & 0.7 &  5.1 & 38.7 &  76767 & 81.0 & 14.1 &  4.8 & 0.1 & 12.0 &   608.29\\\\\n\t 42101 & Pennsylvania   & Philadelphia  & Northeast     & Metro    & 1555072 & 734521 & 820551 & 13.4 & 35.8 & ⋯ & 3.3 &  3.1 & 32.5 & 640661 & 82.9 & 13.0 &  4.0 & 0.1 & 13.9 &   134.10\\\\\n\t 44003 & Rhode Island   & Kent          & Northeast     & Metro    &  164958 &  79650 &  85308 &  4.0 & 90.2 & ⋯ & 0.4 &  2.7 & 24.5 &  86274 & 82.6 & 12.7 &  4.6 & 0.1 &  8.2 &   168.53\\\\\n\t 44007 & Rhode Island   & Providence    & Northeast     & Metro    &  630459 & 305247 & 325212 & 20.3 & 64.0 & ⋯ & 1.9 &  3.0 & 23.9 & 301318 & 84.6 & 11.3 &  4.1 & 0.1 &  9.5 &   409.50\\\\\n\t 45005 & South Carolina & Allendale     & South         & Nonmetro &    9838 &   5225 &   4613 &  2.8 & 23.2 & ⋯ & 0.5 &  3.4 & 27.5 &   2866 & 73.3 & 21.9 &  4.8 & 0.0 & 22.6 &   408.09\\\\\n\t 45027 & South Carolina & Clarendon     & South         & Nonmetro &   34178 &  16759 &  17419 &  2.9 & 47.1 & ⋯ & 1.1 &  2.6 & 28.9 &  11443 & 75.4 & 17.8 &  6.8 & 0.0 & 16.2 &   606.94\\\\\n\t 46031 & South Dakota   & Corson        & North Central & Nonmetro &    4149 &   2123 &   2026 &  0.6 & 30.9 & ⋯ & 1.5 & 19.0 & 19.7 &   1240 & 36.1 & 40.8 & 21.5 & 1.5 & 29.4 &  2469.69\\\\\n\t 46137 & South Dakota   & Ziebach       & North Central & Nonmetro &    2833 &   1391 &   1442 &  3.7 & 23.7 & ⋯ & 1.7 & 20.0 & 19.6 &    948 & 40.9 & 41.7 & 16.6 & 0.8 & 27.4 &  1961.27\\\\\n\t 47069 & Tennessee      & Hardeman      & South         & Nonmetro &   26253 &  14297 &  11956 &  1.5 & 55.1 & ⋯ & 0.3 &  5.3 & 28.2 &   8256 & 70.7 & 22.0 &  7.2 & 0.0 & 18.7 &   667.77\\\\\n\t 47121 & Tennessee      & Meigs         & South         & Nonmetro &   11716 &   5755 &   5961 &  1.4 & 94.9 & ⋯ & 0.7 &  1.8 & 30.1 &   3907 & 81.2 & 12.6 &  6.3 & 0.0 & 15.0 &   195.12\\\\\n\t 48047 & Texas          & Brooks        & South         & Nonmetro &    7221 &   3744 &   3477 & 92.9 &  5.1 & ⋯ & 0.1 &  3.1 & 20.3 &   2416 & 72.8 & 20.9 &  6.3 & 0.0 & 19.8 &   943.36\\\\\n\t 48247 & Texas          & Jim Hogg      & South         & Nonmetro &    5239 &   2651 &   2588 & 91.9 &  6.6 & ⋯ & 0.0 &  1.0 & 32.4 &   1786 & 56.8 & 30.7 & 11.7 & 0.8 & 16.5 &  1136.14\\\\\n\t 49017 & Utah           & Garfield      & West          & Nonmetro &    5069 &   2637 &   2432 &  5.6 & 90.2 & ⋯ & 2.1 &  4.5 & 14.1 &   2000 & 70.8 & 20.1 &  8.9 & 0.3 &  8.6 &  5175.12\\\\\n\t 49021 & Utah           & Iron          & West          & Nonmetro &   47139 &  23588 &  23551 &  8.1 & 86.6 & ⋯ & 1.7 &  2.8 & 18.0 &  19636 & 74.6 & 20.9 &  4.5 & 0.0 & 10.5 &  3296.68\\\\\n\t 50009 & Vermont        & Essex         & Northeast     & Nonmetro &    6207 &   3111 &   3096 &  1.2 & 95.9 & ⋯ & 0.6 &  7.3 & 26.3 &   2683 & 70.6 & 17.8 & 11.1 & 0.5 &  9.4 &   663.60\\\\\n\t 50013 & Vermont        & Grand Isle    & Northeast     & Metro    &    6952 &   3419 &   3533 &  1.7 & 93.6 & ⋯ & 0.7 &  7.5 & 33.8 &   3697 & 78.2 & 11.7 &  9.8 & 0.3 &  7.4 &    81.81\\\\\n\t 51595 & Virginia       & Emporia city  & South         & Nonmetro &    5672 &   2605 &   3067 &  3.0 & 39.2 & ⋯ & 0.9 &  2.9 & 20.7 &   2074 & 74.1 & 22.6 &  3.3 & 0.0 & 19.1 &     6.89\\\\\n\t 51620 & Virginia       & Franklin city & South         & Nonmetro &    8457 &   3766 &   4691 &  1.0 & 38.2 & ⋯ & 0.4 &  3.5 & 24.2 &   3429 & 63.9 & 28.9 &  6.3 & 0.9 & 13.7 &     8.21\\\\\n\t 53027 & Washington     & Grays Harbor  & West          & Nonmetro &   71419 &  36748 &  34671 &  9.6 & 80.1 & ⋯ & 2.0 &  3.9 & 24.2 &  26197 & 71.2 & 21.7 &  7.0 & 0.2 & 14.3 &  1902.03\\\\\n\t 53045 & Washington     & Mason         & West          & Nonmetro &   60791 &  31476 &  29315 &  8.7 & 81.9 & ⋯ & 1.3 &  3.7 & 31.4 &  22155 & 64.5 & 25.9 &  9.5 & 0.1 & 12.9 &   959.42\\\\\n\t 54013 & West Virginia  & Calhoun       & South         & Nonmetro &    7557 &   3783 &   3774 &  1.0 & 97.3 & ⋯ & 1.1 &  1.0 & 32.9 &   2511 & 77.6 & 17.6 &  3.3 & 1.5 & 18.1 &   279.25\\\\\n\t 54101 & West Virginia  & Webster       & South         & Nonmetro &    8927 &   4387 &   4540 &  0.3 & 97.7 & ⋯ & 2.4 &  3.5 & 27.0 &   2945 & 79.7 & 15.4 &  4.7 & 0.2 & 14.8 &   553.47\\\\\n\t 55001 & Wisconsin      & Adams         & North Central & Nonmetro &   20451 &  11033 &   9418 &  3.8 & 90.6 & ⋯ & 1.7 &  4.7 & 28.7 &   7457 & 80.0 & 12.6 &  7.3 & 0.2 & 10.1 &   645.65\\\\\n\t 55041 & Wisconsin      & Forest        & North Central & Nonmetro &    9150 &   4647 &   4503 &  2.0 & 81.0 & ⋯ & 1.1 &  6.5 & 21.4 &   3559 & 64.0 & 25.3 & 10.6 & 0.0 & 10.1 &  1014.07\\\\\n\t 55078 & Wisconsin      & Menominee     & North Central & Nonmetro &    4451 &   2185 &   2266 &  5.5 & 10.5 & ⋯ & 0.1 &  4.9 & 17.3 &   1403 & 36.8 & 59.1 &  3.7 & 0.4 & 14.8 &   357.61\\\\\n\t 56013 & Wyoming        & Fremont       & West          & Nonmetro &   40755 &  20358 &  20397 &  6.6 & 70.5 & ⋯ & 2.0 &  6.3 & 18.5 &  18736 & 61.8 & 28.3 &  9.4 & 0.5 &  7.8 &  9183.81\\\\\n\t 56015 & Wyoming        & Goshen        & West          & Nonmetro &   13544 &   7180 &   6364 & 10.4 & 86.5 & ⋯ & 1.5 &  7.2 & 19.2 &   6080 & 61.1 & 27.8 & 10.9 & 0.3 &  6.8 &  2225.39\\\\\n\t 56043 & Wyoming        & Washakie      & West          & Nonmetro &    8400 &   4144 &   4256 & 14.0 & 82.4 & ⋯ & 2.8 &  4.5 & 12.3 &   3892 & 70.5 & 21.5 &  7.6 & 0.5 &  6.8 &  2238.55\\\\\n\\end{tabular}\n",
            "text/markdown": "\nA grouped_df: 104 × 40\n\n| census_id &lt;chr&gt; | state &lt;chr&gt; | county &lt;chr&gt; | region &lt;chr&gt; | metro &lt;chr&gt; | population &lt;dbl&gt; | men &lt;dbl&gt; | women &lt;dbl&gt; | hispanic &lt;dbl&gt; | white &lt;dbl&gt; | ⋯ ⋯ | other_transp &lt;dbl&gt; | work_at_home &lt;dbl&gt; | mean_commute &lt;dbl&gt; | employed &lt;dbl&gt; | private_work &lt;dbl&gt; | public_work &lt;dbl&gt; | self_employed &lt;dbl&gt; | family_work &lt;dbl&gt; | unemployment &lt;dbl&gt; | land_area &lt;dbl&gt; |\n|---|---|---|---|---|---|---|---|---|---|---|---|---|---|---|---|---|---|---|---|---|\n| 1035  | Alabama     | Conecuh                   | South         | Nonmetro |  12865 |   6176 |   6689 |  1.6 | 51.0 | ⋯ |  0.3 |  1.3 | 29.7 |   3718 | 77.8 | 13.0 |  8.3 | 0.8 | 22.6 |    850.16 |\n| 1131  | Alabama     | Wilcox                    | South         | Nonmetro |  11235 |   5376 |   5859 |  0.6 | 27.4 | ⋯ |  0.9 |  4.2 | 22.6 |   2838 | 68.9 | 26.0 |  5.1 | 0.0 | 20.8 |    888.50 |\n| 2188  | Alaska      | Northwest Arctic Borough  | West          | Nonmetro |   7732 |   4165 |   3567 |  1.8 | 11.8 | ⋯ | 21.2 |  4.6 |  7.4 |   2593 | 54.0 | 43.7 |  2.1 | 0.2 | 21.9 |  35572.58 |\n| 2290  | Alaska      | Yukon-Koyukuk Census Area | West          | Nonmetro |   5644 |   3038 |   2606 |  1.9 | 21.8 | ⋯ | 20.1 |  4.9 |  8.6 |   2077 | 33.3 | 61.7 |  5.1 | 0.0 | 18.2 | 145504.79 |\n| 4001  | Arizona     | Apache                    | West          | Nonmetro |  72124 |  35663 |  36461 |  6.3 | 19.3 | ⋯ |  1.4 |  6.3 | 28.8 |  18334 | 50.2 | 45.0 |  4.7 | 0.1 | 18.2 |  11197.52 |\n| 4017  | Arizona     | Navajo                    | West          | Nonmetro | 107656 |  53984 |  53672 | 11.1 | 42.6 | ⋯ |  2.3 |  7.3 | 22.3 |  31955 | 61.1 | 31.3 |  7.4 | 0.3 | 19.8 |   9950.42 |\n| 5041  | Arkansas    | Desha                     | South         | Nonmetro |  12379 |   5741 |   6638 |  4.6 | 46.4 | ⋯ |  3.5 |  1.3 | 19.2 |   4355 | 69.9 | 25.7 |  4.5 | 0.0 | 17.7 |    768.15 |\n| 5107  | Arkansas    | Phillips                  | South         | Nonmetro |  20391 |   9529 |  10862 |  1.6 | 35.2 | ⋯ |  1.3 |  2.8 | 19.5 |   6932 | 69.4 | 23.6 |  7.0 | 0.0 | 18.1 |    695.66 |\n| 6025  | California  | Imperial                  | West          | Metro    | 178206 |  91167 |  87039 | 81.8 | 12.6 | ⋯ |  2.4 |  4.0 | 21.3 |  58391 | 66.6 | 27.8 |  5.2 | 0.4 | 17.4 |   4176.60 |\n| 6047  | California  | Merced                    | West          | Metro    | 263885 | 133152 | 130733 | 56.9 | 29.9 | ⋯ |  3.4 |  3.9 | 26.1 |  96170 | 76.7 | 16.2 |  7.0 | 0.2 | 16.2 |   1934.97 |\n| 8025  | Colorado    | Crowley                   | West          | Nonmetro |   5551 |   3145 |   2406 | 30.2 | 61.1 | ⋯ |  0.5 |  2.3 | 21.9 |   1457 | 66.7 | 27.3 |  6.0 | 0.0 | 27.0 |    787.42 |\n| 8055  | Colorado    | Huerfano                  | West          | Nonmetro |   6502 |   3290 |   3212 | 34.6 | 64.2 | ⋯ |  1.2 |  5.6 | 22.0 |   2211 | 63.2 | 24.2 | 12.2 | 0.5 | 15.0 |   1591.00 |\n| 9003  | Connecticut | Hartford                  | Northeast     | Metro    | 896943 | 434784 | 462159 | 16.6 | 63.9 | ⋯ |  1.2 |  3.6 | 22.7 | 439719 | 80.7 | 14.2 |  4.8 | 0.2 |  9.3 |    735.10 |\n| 9009  | Connecticut | New Haven                 | Northeast     | Metro    | 862224 | 415679 | 446545 | 16.4 | 65.4 | ⋯ |  1.3 |  3.7 | 24.4 | 419901 | 81.2 | 13.2 |  5.4 | 0.2 |  9.5 |    604.51 |\n| 9015  | Connecticut | Windham                   | Northeast     | Metro    | 117470 |  58212 |  59258 | 10.5 | 84.1 | ⋯ |  0.8 |  3.5 | 26.0 |  58842 | 77.8 | 16.3 |  5.5 | 0.4 |  9.3 |    512.91 |\n| 10001 | Delaware    | Kent                      | South         | Metro    | 169509 |  81716 |  87793 |  6.5 | 63.7 | ⋯ |  1.0 |  3.6 | 26.1 |  75246 | 73.4 | 22.4 |  3.9 | 0.3 |  8.4 |    586.18 |\n| 10005 | Delaware    | Sussex                    | South         | Metro    | 207302 | 100782 | 106520 |  9.2 | 74.8 | ⋯ |  1.6 |  4.9 | 25.0 |  90239 | 78.8 | 14.7 |  6.4 | 0.1 |  8.0 |    936.08 |\n| 12047 | Florida     | Hamilton                  | South         | Nonmetro |  14395 |   8671 |   5724 |  9.2 | 54.9 | ⋯ |  2.5 |  3.7 | 22.4 |   3966 | 65.9 | 24.5 |  8.8 | 0.8 | 15.8 |    513.79 |\n| 12059 | Florida     | Holmes                    | South         | Nonmetro |  19635 |  10501 |   9134 |  2.7 | 87.3 | ⋯ |  0.4 |  2.7 | 30.0 |   6118 | 71.5 | 22.3 |  6.1 | 0.1 | 15.4 |    478.78 |\n| 13061 | Georgia     | Clay                      | South         | Nonmetro |   3104 |   1510 |   1594 |  4.9 | 31.6 | ⋯ |  0.6 |  6.8 | 29.7 |    848 | 70.2 | 20.8 |  7.7 | 1.4 | 19.2 |    195.38 |\n| 13269 | Georgia     | Taylor                    | South         | Nonmetro |   8401 |   4036 |   4365 |  2.3 | 58.4 | ⋯ |  1.9 |  3.1 | 28.7 |   2869 | 67.0 | 25.3 |  7.7 | 0.0 | 20.6 |    376.69 |\n| 15001 | Hawaii      | Hawaii                    | West          | Nonmetro | 191482 |  95939 |  95543 | 12.2 | 30.8 | ⋯ |  2.2 |  7.7 | 25.1 |  82124 | 69.7 | 19.4 | 10.3 | 0.5 |  8.1 |   4028.42 |\n| 15009 | Hawaii      | Maui                      | West          | Metro    | 160863 |  80790 |  80073 | 10.8 | 31.4 | ⋯ |  3.2 |  6.1 | 21.3 |  81619 | 75.7 | 15.1 |  8.8 | 0.4 |  6.9 |   1161.52 |\n| 16045 | Idaho       | Gem                       | West          | Metro    |  16731 |   8390 |   8341 |  8.0 | 88.4 | ⋯ |  2.2 | 10.0 | 27.2 |   5789 | 67.2 | 20.5 | 10.8 | 1.5 | 14.2 |    560.90 |\n| 16079 | Idaho       | Shoshone                  | West          | Nonmetro |  12571 |   6324 |   6247 |  3.3 | 92.4 | ⋯ |  1.9 |  5.7 | 18.4 |   4992 | 76.9 | 15.8 |  6.8 | 0.4 | 11.8 |   2629.67 |\n| 17069 | Illinois    | Hardin                    | North Central | Nonmetro |   4228 |   2184 |   2044 |  1.8 | 96.0 | ⋯ |  1.4 |  6.2 | 25.2 |   1493 | 75.4 | 18.4 |  5.7 | 0.5 | 18.1 |    177.53 |\n| 17153 | Illinois    | Pulaski                   | North Central | Nonmetro |   5871 |   2868 |   3003 |  1.8 | 63.5 | ⋯ |  1.9 |  4.2 | 25.8 |   1935 | 71.4 | 22.5 |  6.0 | 0.1 | 16.2 |    199.19 |\n| 18041 | Indiana     | Fayette                   | North Central | Nonmetro |  23773 |  11747 |  12026 |  1.0 | 96.0 | ⋯ |  1.7 |  2.4 | 26.1 |   9245 | 85.3 |  9.4 |  5.0 | 0.2 | 12.1 |    215.01 |\n| 18149 | Indiana     | Starke                    | North Central | Nonmetro |  23117 |  11395 |  11722 |  3.5 | 94.6 | ⋯ |  0.8 |  2.6 | 29.3 |   9583 | 83.4 | 11.2 |  5.3 | 0.1 | 11.5 |    309.13 |\n| 19111 | Iowa        | Lee                       | North Central | Nonmetro |  35369 |  17767 |  17602 |  3.3 | 91.0 | ⋯ |  1.5 |  2.5 | 17.9 |  16414 | 81.1 | 12.7 |  5.8 | 0.4 |  8.7 |    517.52 |\n| ⋮ | ⋮ | ⋮ | ⋮ | ⋮ | ⋮ | ⋮ | ⋮ | ⋮ | ⋮ | ⋱ | ⋮ | ⋮ | ⋮ | ⋮ | ⋮ | ⋮ | ⋮ | ⋮ | ⋮ | ⋮ |\n| 41025 | Oregon         | Harney        | West          | Nonmetro |    7229 |   3632 |   3597 |  4.6 | 87.8 | ⋯ | 2.0 | 12.6 | 16.0 |   2901 | 53.4 | 29.5 | 16.2 | 1.0 | 16.1 | 10133.17 |\n| 41031 | Oregon         | Jefferson     | West          | Nonmetro |   22061 |  11313 |  10748 | 19.6 | 60.6 | ⋯ | 3.0 |  4.0 | 19.7 |   8167 | 69.9 | 23.3 |  6.7 | 0.1 | 14.4 |  1780.79 |\n| 42089 | Pennsylvania   | Monroe        | Northeast     | Metro    |  167881 |  82806 |  85075 | 14.2 | 68.5 | ⋯ | 0.7 |  5.1 | 38.7 |  76767 | 81.0 | 14.1 |  4.8 | 0.1 | 12.0 |   608.29 |\n| 42101 | Pennsylvania   | Philadelphia  | Northeast     | Metro    | 1555072 | 734521 | 820551 | 13.4 | 35.8 | ⋯ | 3.3 |  3.1 | 32.5 | 640661 | 82.9 | 13.0 |  4.0 | 0.1 | 13.9 |   134.10 |\n| 44003 | Rhode Island   | Kent          | Northeast     | Metro    |  164958 |  79650 |  85308 |  4.0 | 90.2 | ⋯ | 0.4 |  2.7 | 24.5 |  86274 | 82.6 | 12.7 |  4.6 | 0.1 |  8.2 |   168.53 |\n| 44007 | Rhode Island   | Providence    | Northeast     | Metro    |  630459 | 305247 | 325212 | 20.3 | 64.0 | ⋯ | 1.9 |  3.0 | 23.9 | 301318 | 84.6 | 11.3 |  4.1 | 0.1 |  9.5 |   409.50 |\n| 45005 | South Carolina | Allendale     | South         | Nonmetro |    9838 |   5225 |   4613 |  2.8 | 23.2 | ⋯ | 0.5 |  3.4 | 27.5 |   2866 | 73.3 | 21.9 |  4.8 | 0.0 | 22.6 |   408.09 |\n| 45027 | South Carolina | Clarendon     | South         | Nonmetro |   34178 |  16759 |  17419 |  2.9 | 47.1 | ⋯ | 1.1 |  2.6 | 28.9 |  11443 | 75.4 | 17.8 |  6.8 | 0.0 | 16.2 |   606.94 |\n| 46031 | South Dakota   | Corson        | North Central | Nonmetro |    4149 |   2123 |   2026 |  0.6 | 30.9 | ⋯ | 1.5 | 19.0 | 19.7 |   1240 | 36.1 | 40.8 | 21.5 | 1.5 | 29.4 |  2469.69 |\n| 46137 | South Dakota   | Ziebach       | North Central | Nonmetro |    2833 |   1391 |   1442 |  3.7 | 23.7 | ⋯ | 1.7 | 20.0 | 19.6 |    948 | 40.9 | 41.7 | 16.6 | 0.8 | 27.4 |  1961.27 |\n| 47069 | Tennessee      | Hardeman      | South         | Nonmetro |   26253 |  14297 |  11956 |  1.5 | 55.1 | ⋯ | 0.3 |  5.3 | 28.2 |   8256 | 70.7 | 22.0 |  7.2 | 0.0 | 18.7 |   667.77 |\n| 47121 | Tennessee      | Meigs         | South         | Nonmetro |   11716 |   5755 |   5961 |  1.4 | 94.9 | ⋯ | 0.7 |  1.8 | 30.1 |   3907 | 81.2 | 12.6 |  6.3 | 0.0 | 15.0 |   195.12 |\n| 48047 | Texas          | Brooks        | South         | Nonmetro |    7221 |   3744 |   3477 | 92.9 |  5.1 | ⋯ | 0.1 |  3.1 | 20.3 |   2416 | 72.8 | 20.9 |  6.3 | 0.0 | 19.8 |   943.36 |\n| 48247 | Texas          | Jim Hogg      | South         | Nonmetro |    5239 |   2651 |   2588 | 91.9 |  6.6 | ⋯ | 0.0 |  1.0 | 32.4 |   1786 | 56.8 | 30.7 | 11.7 | 0.8 | 16.5 |  1136.14 |\n| 49017 | Utah           | Garfield      | West          | Nonmetro |    5069 |   2637 |   2432 |  5.6 | 90.2 | ⋯ | 2.1 |  4.5 | 14.1 |   2000 | 70.8 | 20.1 |  8.9 | 0.3 |  8.6 |  5175.12 |\n| 49021 | Utah           | Iron          | West          | Nonmetro |   47139 |  23588 |  23551 |  8.1 | 86.6 | ⋯ | 1.7 |  2.8 | 18.0 |  19636 | 74.6 | 20.9 |  4.5 | 0.0 | 10.5 |  3296.68 |\n| 50009 | Vermont        | Essex         | Northeast     | Nonmetro |    6207 |   3111 |   3096 |  1.2 | 95.9 | ⋯ | 0.6 |  7.3 | 26.3 |   2683 | 70.6 | 17.8 | 11.1 | 0.5 |  9.4 |   663.60 |\n| 50013 | Vermont        | Grand Isle    | Northeast     | Metro    |    6952 |   3419 |   3533 |  1.7 | 93.6 | ⋯ | 0.7 |  7.5 | 33.8 |   3697 | 78.2 | 11.7 |  9.8 | 0.3 |  7.4 |    81.81 |\n| 51595 | Virginia       | Emporia city  | South         | Nonmetro |    5672 |   2605 |   3067 |  3.0 | 39.2 | ⋯ | 0.9 |  2.9 | 20.7 |   2074 | 74.1 | 22.6 |  3.3 | 0.0 | 19.1 |     6.89 |\n| 51620 | Virginia       | Franklin city | South         | Nonmetro |    8457 |   3766 |   4691 |  1.0 | 38.2 | ⋯ | 0.4 |  3.5 | 24.2 |   3429 | 63.9 | 28.9 |  6.3 | 0.9 | 13.7 |     8.21 |\n| 53027 | Washington     | Grays Harbor  | West          | Nonmetro |   71419 |  36748 |  34671 |  9.6 | 80.1 | ⋯ | 2.0 |  3.9 | 24.2 |  26197 | 71.2 | 21.7 |  7.0 | 0.2 | 14.3 |  1902.03 |\n| 53045 | Washington     | Mason         | West          | Nonmetro |   60791 |  31476 |  29315 |  8.7 | 81.9 | ⋯ | 1.3 |  3.7 | 31.4 |  22155 | 64.5 | 25.9 |  9.5 | 0.1 | 12.9 |   959.42 |\n| 54013 | West Virginia  | Calhoun       | South         | Nonmetro |    7557 |   3783 |   3774 |  1.0 | 97.3 | ⋯ | 1.1 |  1.0 | 32.9 |   2511 | 77.6 | 17.6 |  3.3 | 1.5 | 18.1 |   279.25 |\n| 54101 | West Virginia  | Webster       | South         | Nonmetro |    8927 |   4387 |   4540 |  0.3 | 97.7 | ⋯ | 2.4 |  3.5 | 27.0 |   2945 | 79.7 | 15.4 |  4.7 | 0.2 | 14.8 |   553.47 |\n| 55001 | Wisconsin      | Adams         | North Central | Nonmetro |   20451 |  11033 |   9418 |  3.8 | 90.6 | ⋯ | 1.7 |  4.7 | 28.7 |   7457 | 80.0 | 12.6 |  7.3 | 0.2 | 10.1 |   645.65 |\n| 55041 | Wisconsin      | Forest        | North Central | Nonmetro |    9150 |   4647 |   4503 |  2.0 | 81.0 | ⋯ | 1.1 |  6.5 | 21.4 |   3559 | 64.0 | 25.3 | 10.6 | 0.0 | 10.1 |  1014.07 |\n| 55078 | Wisconsin      | Menominee     | North Central | Nonmetro |    4451 |   2185 |   2266 |  5.5 | 10.5 | ⋯ | 0.1 |  4.9 | 17.3 |   1403 | 36.8 | 59.1 |  3.7 | 0.4 | 14.8 |   357.61 |\n| 56013 | Wyoming        | Fremont       | West          | Nonmetro |   40755 |  20358 |  20397 |  6.6 | 70.5 | ⋯ | 2.0 |  6.3 | 18.5 |  18736 | 61.8 | 28.3 |  9.4 | 0.5 |  7.8 |  9183.81 |\n| 56015 | Wyoming        | Goshen        | West          | Nonmetro |   13544 |   7180 |   6364 | 10.4 | 86.5 | ⋯ | 1.5 |  7.2 | 19.2 |   6080 | 61.1 | 27.8 | 10.9 | 0.3 |  6.8 |  2225.39 |\n| 56043 | Wyoming        | Washakie      | West          | Nonmetro |    8400 |   4144 |   4256 | 14.0 | 82.4 | ⋯ | 2.8 |  4.5 | 12.3 |   3892 | 70.5 | 21.5 |  7.6 | 0.5 |  6.8 |  2238.55 |\n\n",
            "text/html": [
              "<table class=\"dataframe\">\n",
              "<caption>A grouped_df: 104 × 40</caption>\n",
              "<thead>\n",
              "\t<tr><th scope=col>census_id</th><th scope=col>state</th><th scope=col>county</th><th scope=col>region</th><th scope=col>metro</th><th scope=col>population</th><th scope=col>men</th><th scope=col>women</th><th scope=col>hispanic</th><th scope=col>white</th><th scope=col>⋯</th><th scope=col>other_transp</th><th scope=col>work_at_home</th><th scope=col>mean_commute</th><th scope=col>employed</th><th scope=col>private_work</th><th scope=col>public_work</th><th scope=col>self_employed</th><th scope=col>family_work</th><th scope=col>unemployment</th><th scope=col>land_area</th></tr>\n",
              "\t<tr><th scope=col>&lt;chr&gt;</th><th scope=col>&lt;chr&gt;</th><th scope=col>&lt;chr&gt;</th><th scope=col>&lt;chr&gt;</th><th scope=col>&lt;chr&gt;</th><th scope=col>&lt;dbl&gt;</th><th scope=col>&lt;dbl&gt;</th><th scope=col>&lt;dbl&gt;</th><th scope=col>&lt;dbl&gt;</th><th scope=col>&lt;dbl&gt;</th><th scope=col>⋯</th><th scope=col>&lt;dbl&gt;</th><th scope=col>&lt;dbl&gt;</th><th scope=col>&lt;dbl&gt;</th><th scope=col>&lt;dbl&gt;</th><th scope=col>&lt;dbl&gt;</th><th scope=col>&lt;dbl&gt;</th><th scope=col>&lt;dbl&gt;</th><th scope=col>&lt;dbl&gt;</th><th scope=col>&lt;dbl&gt;</th><th scope=col>&lt;dbl&gt;</th></tr>\n",
              "</thead>\n",
              "<tbody>\n",
              "\t<tr><td>1035 </td><td>Alabama    </td><td>Conecuh                  </td><td>South        </td><td>Nonmetro</td><td> 12865</td><td>  6176</td><td>  6689</td><td> 1.6</td><td>51.0</td><td>⋯</td><td> 0.3</td><td> 1.3</td><td>29.7</td><td>  3718</td><td>77.8</td><td>13.0</td><td> 8.3</td><td>0.8</td><td>22.6</td><td>   850.16</td></tr>\n",
              "\t<tr><td>1131 </td><td>Alabama    </td><td>Wilcox                   </td><td>South        </td><td>Nonmetro</td><td> 11235</td><td>  5376</td><td>  5859</td><td> 0.6</td><td>27.4</td><td>⋯</td><td> 0.9</td><td> 4.2</td><td>22.6</td><td>  2838</td><td>68.9</td><td>26.0</td><td> 5.1</td><td>0.0</td><td>20.8</td><td>   888.50</td></tr>\n",
              "\t<tr><td>2188 </td><td>Alaska     </td><td>Northwest Arctic Borough </td><td>West         </td><td>Nonmetro</td><td>  7732</td><td>  4165</td><td>  3567</td><td> 1.8</td><td>11.8</td><td>⋯</td><td>21.2</td><td> 4.6</td><td> 7.4</td><td>  2593</td><td>54.0</td><td>43.7</td><td> 2.1</td><td>0.2</td><td>21.9</td><td> 35572.58</td></tr>\n",
              "\t<tr><td>2290 </td><td>Alaska     </td><td>Yukon-Koyukuk Census Area</td><td>West         </td><td>Nonmetro</td><td>  5644</td><td>  3038</td><td>  2606</td><td> 1.9</td><td>21.8</td><td>⋯</td><td>20.1</td><td> 4.9</td><td> 8.6</td><td>  2077</td><td>33.3</td><td>61.7</td><td> 5.1</td><td>0.0</td><td>18.2</td><td>145504.79</td></tr>\n",
              "\t<tr><td>4001 </td><td>Arizona    </td><td>Apache                   </td><td>West         </td><td>Nonmetro</td><td> 72124</td><td> 35663</td><td> 36461</td><td> 6.3</td><td>19.3</td><td>⋯</td><td> 1.4</td><td> 6.3</td><td>28.8</td><td> 18334</td><td>50.2</td><td>45.0</td><td> 4.7</td><td>0.1</td><td>18.2</td><td> 11197.52</td></tr>\n",
              "\t<tr><td>4017 </td><td>Arizona    </td><td>Navajo                   </td><td>West         </td><td>Nonmetro</td><td>107656</td><td> 53984</td><td> 53672</td><td>11.1</td><td>42.6</td><td>⋯</td><td> 2.3</td><td> 7.3</td><td>22.3</td><td> 31955</td><td>61.1</td><td>31.3</td><td> 7.4</td><td>0.3</td><td>19.8</td><td>  9950.42</td></tr>\n",
              "\t<tr><td>5041 </td><td>Arkansas   </td><td>Desha                    </td><td>South        </td><td>Nonmetro</td><td> 12379</td><td>  5741</td><td>  6638</td><td> 4.6</td><td>46.4</td><td>⋯</td><td> 3.5</td><td> 1.3</td><td>19.2</td><td>  4355</td><td>69.9</td><td>25.7</td><td> 4.5</td><td>0.0</td><td>17.7</td><td>   768.15</td></tr>\n",
              "\t<tr><td>5107 </td><td>Arkansas   </td><td>Phillips                 </td><td>South        </td><td>Nonmetro</td><td> 20391</td><td>  9529</td><td> 10862</td><td> 1.6</td><td>35.2</td><td>⋯</td><td> 1.3</td><td> 2.8</td><td>19.5</td><td>  6932</td><td>69.4</td><td>23.6</td><td> 7.0</td><td>0.0</td><td>18.1</td><td>   695.66</td></tr>\n",
              "\t<tr><td>6025 </td><td>California </td><td>Imperial                 </td><td>West         </td><td>Metro   </td><td>178206</td><td> 91167</td><td> 87039</td><td>81.8</td><td>12.6</td><td>⋯</td><td> 2.4</td><td> 4.0</td><td>21.3</td><td> 58391</td><td>66.6</td><td>27.8</td><td> 5.2</td><td>0.4</td><td>17.4</td><td>  4176.60</td></tr>\n",
              "\t<tr><td>6047 </td><td>California </td><td>Merced                   </td><td>West         </td><td>Metro   </td><td>263885</td><td>133152</td><td>130733</td><td>56.9</td><td>29.9</td><td>⋯</td><td> 3.4</td><td> 3.9</td><td>26.1</td><td> 96170</td><td>76.7</td><td>16.2</td><td> 7.0</td><td>0.2</td><td>16.2</td><td>  1934.97</td></tr>\n",
              "\t<tr><td>8025 </td><td>Colorado   </td><td>Crowley                  </td><td>West         </td><td>Nonmetro</td><td>  5551</td><td>  3145</td><td>  2406</td><td>30.2</td><td>61.1</td><td>⋯</td><td> 0.5</td><td> 2.3</td><td>21.9</td><td>  1457</td><td>66.7</td><td>27.3</td><td> 6.0</td><td>0.0</td><td>27.0</td><td>   787.42</td></tr>\n",
              "\t<tr><td>8055 </td><td>Colorado   </td><td>Huerfano                 </td><td>West         </td><td>Nonmetro</td><td>  6502</td><td>  3290</td><td>  3212</td><td>34.6</td><td>64.2</td><td>⋯</td><td> 1.2</td><td> 5.6</td><td>22.0</td><td>  2211</td><td>63.2</td><td>24.2</td><td>12.2</td><td>0.5</td><td>15.0</td><td>  1591.00</td></tr>\n",
              "\t<tr><td>9003 </td><td>Connecticut</td><td>Hartford                 </td><td>Northeast    </td><td>Metro   </td><td>896943</td><td>434784</td><td>462159</td><td>16.6</td><td>63.9</td><td>⋯</td><td> 1.2</td><td> 3.6</td><td>22.7</td><td>439719</td><td>80.7</td><td>14.2</td><td> 4.8</td><td>0.2</td><td> 9.3</td><td>   735.10</td></tr>\n",
              "\t<tr><td>9009 </td><td>Connecticut</td><td>New Haven                </td><td>Northeast    </td><td>Metro   </td><td>862224</td><td>415679</td><td>446545</td><td>16.4</td><td>65.4</td><td>⋯</td><td> 1.3</td><td> 3.7</td><td>24.4</td><td>419901</td><td>81.2</td><td>13.2</td><td> 5.4</td><td>0.2</td><td> 9.5</td><td>   604.51</td></tr>\n",
              "\t<tr><td>9015 </td><td>Connecticut</td><td>Windham                  </td><td>Northeast    </td><td>Metro   </td><td>117470</td><td> 58212</td><td> 59258</td><td>10.5</td><td>84.1</td><td>⋯</td><td> 0.8</td><td> 3.5</td><td>26.0</td><td> 58842</td><td>77.8</td><td>16.3</td><td> 5.5</td><td>0.4</td><td> 9.3</td><td>   512.91</td></tr>\n",
              "\t<tr><td>10001</td><td>Delaware   </td><td>Kent                     </td><td>South        </td><td>Metro   </td><td>169509</td><td> 81716</td><td> 87793</td><td> 6.5</td><td>63.7</td><td>⋯</td><td> 1.0</td><td> 3.6</td><td>26.1</td><td> 75246</td><td>73.4</td><td>22.4</td><td> 3.9</td><td>0.3</td><td> 8.4</td><td>   586.18</td></tr>\n",
              "\t<tr><td>10005</td><td>Delaware   </td><td>Sussex                   </td><td>South        </td><td>Metro   </td><td>207302</td><td>100782</td><td>106520</td><td> 9.2</td><td>74.8</td><td>⋯</td><td> 1.6</td><td> 4.9</td><td>25.0</td><td> 90239</td><td>78.8</td><td>14.7</td><td> 6.4</td><td>0.1</td><td> 8.0</td><td>   936.08</td></tr>\n",
              "\t<tr><td>12047</td><td>Florida    </td><td>Hamilton                 </td><td>South        </td><td>Nonmetro</td><td> 14395</td><td>  8671</td><td>  5724</td><td> 9.2</td><td>54.9</td><td>⋯</td><td> 2.5</td><td> 3.7</td><td>22.4</td><td>  3966</td><td>65.9</td><td>24.5</td><td> 8.8</td><td>0.8</td><td>15.8</td><td>   513.79</td></tr>\n",
              "\t<tr><td>12059</td><td>Florida    </td><td>Holmes                   </td><td>South        </td><td>Nonmetro</td><td> 19635</td><td> 10501</td><td>  9134</td><td> 2.7</td><td>87.3</td><td>⋯</td><td> 0.4</td><td> 2.7</td><td>30.0</td><td>  6118</td><td>71.5</td><td>22.3</td><td> 6.1</td><td>0.1</td><td>15.4</td><td>   478.78</td></tr>\n",
              "\t<tr><td>13061</td><td>Georgia    </td><td>Clay                     </td><td>South        </td><td>Nonmetro</td><td>  3104</td><td>  1510</td><td>  1594</td><td> 4.9</td><td>31.6</td><td>⋯</td><td> 0.6</td><td> 6.8</td><td>29.7</td><td>   848</td><td>70.2</td><td>20.8</td><td> 7.7</td><td>1.4</td><td>19.2</td><td>   195.38</td></tr>\n",
              "\t<tr><td>13269</td><td>Georgia    </td><td>Taylor                   </td><td>South        </td><td>Nonmetro</td><td>  8401</td><td>  4036</td><td>  4365</td><td> 2.3</td><td>58.4</td><td>⋯</td><td> 1.9</td><td> 3.1</td><td>28.7</td><td>  2869</td><td>67.0</td><td>25.3</td><td> 7.7</td><td>0.0</td><td>20.6</td><td>   376.69</td></tr>\n",
              "\t<tr><td>15001</td><td>Hawaii     </td><td>Hawaii                   </td><td>West         </td><td>Nonmetro</td><td>191482</td><td> 95939</td><td> 95543</td><td>12.2</td><td>30.8</td><td>⋯</td><td> 2.2</td><td> 7.7</td><td>25.1</td><td> 82124</td><td>69.7</td><td>19.4</td><td>10.3</td><td>0.5</td><td> 8.1</td><td>  4028.42</td></tr>\n",
              "\t<tr><td>15009</td><td>Hawaii     </td><td>Maui                     </td><td>West         </td><td>Metro   </td><td>160863</td><td> 80790</td><td> 80073</td><td>10.8</td><td>31.4</td><td>⋯</td><td> 3.2</td><td> 6.1</td><td>21.3</td><td> 81619</td><td>75.7</td><td>15.1</td><td> 8.8</td><td>0.4</td><td> 6.9</td><td>  1161.52</td></tr>\n",
              "\t<tr><td>16045</td><td>Idaho      </td><td>Gem                      </td><td>West         </td><td>Metro   </td><td> 16731</td><td>  8390</td><td>  8341</td><td> 8.0</td><td>88.4</td><td>⋯</td><td> 2.2</td><td>10.0</td><td>27.2</td><td>  5789</td><td>67.2</td><td>20.5</td><td>10.8</td><td>1.5</td><td>14.2</td><td>   560.90</td></tr>\n",
              "\t<tr><td>16079</td><td>Idaho      </td><td>Shoshone                 </td><td>West         </td><td>Nonmetro</td><td> 12571</td><td>  6324</td><td>  6247</td><td> 3.3</td><td>92.4</td><td>⋯</td><td> 1.9</td><td> 5.7</td><td>18.4</td><td>  4992</td><td>76.9</td><td>15.8</td><td> 6.8</td><td>0.4</td><td>11.8</td><td>  2629.67</td></tr>\n",
              "\t<tr><td>17069</td><td>Illinois   </td><td>Hardin                   </td><td>North Central</td><td>Nonmetro</td><td>  4228</td><td>  2184</td><td>  2044</td><td> 1.8</td><td>96.0</td><td>⋯</td><td> 1.4</td><td> 6.2</td><td>25.2</td><td>  1493</td><td>75.4</td><td>18.4</td><td> 5.7</td><td>0.5</td><td>18.1</td><td>   177.53</td></tr>\n",
              "\t<tr><td>17153</td><td>Illinois   </td><td>Pulaski                  </td><td>North Central</td><td>Nonmetro</td><td>  5871</td><td>  2868</td><td>  3003</td><td> 1.8</td><td>63.5</td><td>⋯</td><td> 1.9</td><td> 4.2</td><td>25.8</td><td>  1935</td><td>71.4</td><td>22.5</td><td> 6.0</td><td>0.1</td><td>16.2</td><td>   199.19</td></tr>\n",
              "\t<tr><td>18041</td><td>Indiana    </td><td>Fayette                  </td><td>North Central</td><td>Nonmetro</td><td> 23773</td><td> 11747</td><td> 12026</td><td> 1.0</td><td>96.0</td><td>⋯</td><td> 1.7</td><td> 2.4</td><td>26.1</td><td>  9245</td><td>85.3</td><td> 9.4</td><td> 5.0</td><td>0.2</td><td>12.1</td><td>   215.01</td></tr>\n",
              "\t<tr><td>18149</td><td>Indiana    </td><td>Starke                   </td><td>North Central</td><td>Nonmetro</td><td> 23117</td><td> 11395</td><td> 11722</td><td> 3.5</td><td>94.6</td><td>⋯</td><td> 0.8</td><td> 2.6</td><td>29.3</td><td>  9583</td><td>83.4</td><td>11.2</td><td> 5.3</td><td>0.1</td><td>11.5</td><td>   309.13</td></tr>\n",
              "\t<tr><td>19111</td><td>Iowa       </td><td>Lee                      </td><td>North Central</td><td>Nonmetro</td><td> 35369</td><td> 17767</td><td> 17602</td><td> 3.3</td><td>91.0</td><td>⋯</td><td> 1.5</td><td> 2.5</td><td>17.9</td><td> 16414</td><td>81.1</td><td>12.7</td><td> 5.8</td><td>0.4</td><td> 8.7</td><td>   517.52</td></tr>\n",
              "\t<tr><td>⋮</td><td>⋮</td><td>⋮</td><td>⋮</td><td>⋮</td><td>⋮</td><td>⋮</td><td>⋮</td><td>⋮</td><td>⋮</td><td>⋱</td><td>⋮</td><td>⋮</td><td>⋮</td><td>⋮</td><td>⋮</td><td>⋮</td><td>⋮</td><td>⋮</td><td>⋮</td><td>⋮</td></tr>\n",
              "\t<tr><td>41025</td><td>Oregon        </td><td>Harney       </td><td>West         </td><td>Nonmetro</td><td>   7229</td><td>  3632</td><td>  3597</td><td> 4.6</td><td>87.8</td><td>⋯</td><td>2.0</td><td>12.6</td><td>16.0</td><td>  2901</td><td>53.4</td><td>29.5</td><td>16.2</td><td>1.0</td><td>16.1</td><td>10133.17</td></tr>\n",
              "\t<tr><td>41031</td><td>Oregon        </td><td>Jefferson    </td><td>West         </td><td>Nonmetro</td><td>  22061</td><td> 11313</td><td> 10748</td><td>19.6</td><td>60.6</td><td>⋯</td><td>3.0</td><td> 4.0</td><td>19.7</td><td>  8167</td><td>69.9</td><td>23.3</td><td> 6.7</td><td>0.1</td><td>14.4</td><td> 1780.79</td></tr>\n",
              "\t<tr><td>42089</td><td>Pennsylvania  </td><td>Monroe       </td><td>Northeast    </td><td>Metro   </td><td> 167881</td><td> 82806</td><td> 85075</td><td>14.2</td><td>68.5</td><td>⋯</td><td>0.7</td><td> 5.1</td><td>38.7</td><td> 76767</td><td>81.0</td><td>14.1</td><td> 4.8</td><td>0.1</td><td>12.0</td><td>  608.29</td></tr>\n",
              "\t<tr><td>42101</td><td>Pennsylvania  </td><td>Philadelphia </td><td>Northeast    </td><td>Metro   </td><td>1555072</td><td>734521</td><td>820551</td><td>13.4</td><td>35.8</td><td>⋯</td><td>3.3</td><td> 3.1</td><td>32.5</td><td>640661</td><td>82.9</td><td>13.0</td><td> 4.0</td><td>0.1</td><td>13.9</td><td>  134.10</td></tr>\n",
              "\t<tr><td>44003</td><td>Rhode Island  </td><td>Kent         </td><td>Northeast    </td><td>Metro   </td><td> 164958</td><td> 79650</td><td> 85308</td><td> 4.0</td><td>90.2</td><td>⋯</td><td>0.4</td><td> 2.7</td><td>24.5</td><td> 86274</td><td>82.6</td><td>12.7</td><td> 4.6</td><td>0.1</td><td> 8.2</td><td>  168.53</td></tr>\n",
              "\t<tr><td>44007</td><td>Rhode Island  </td><td>Providence   </td><td>Northeast    </td><td>Metro   </td><td> 630459</td><td>305247</td><td>325212</td><td>20.3</td><td>64.0</td><td>⋯</td><td>1.9</td><td> 3.0</td><td>23.9</td><td>301318</td><td>84.6</td><td>11.3</td><td> 4.1</td><td>0.1</td><td> 9.5</td><td>  409.50</td></tr>\n",
              "\t<tr><td>45005</td><td>South Carolina</td><td>Allendale    </td><td>South        </td><td>Nonmetro</td><td>   9838</td><td>  5225</td><td>  4613</td><td> 2.8</td><td>23.2</td><td>⋯</td><td>0.5</td><td> 3.4</td><td>27.5</td><td>  2866</td><td>73.3</td><td>21.9</td><td> 4.8</td><td>0.0</td><td>22.6</td><td>  408.09</td></tr>\n",
              "\t<tr><td>45027</td><td>South Carolina</td><td>Clarendon    </td><td>South        </td><td>Nonmetro</td><td>  34178</td><td> 16759</td><td> 17419</td><td> 2.9</td><td>47.1</td><td>⋯</td><td>1.1</td><td> 2.6</td><td>28.9</td><td> 11443</td><td>75.4</td><td>17.8</td><td> 6.8</td><td>0.0</td><td>16.2</td><td>  606.94</td></tr>\n",
              "\t<tr><td>46031</td><td>South Dakota  </td><td>Corson       </td><td>North Central</td><td>Nonmetro</td><td>   4149</td><td>  2123</td><td>  2026</td><td> 0.6</td><td>30.9</td><td>⋯</td><td>1.5</td><td>19.0</td><td>19.7</td><td>  1240</td><td>36.1</td><td>40.8</td><td>21.5</td><td>1.5</td><td>29.4</td><td> 2469.69</td></tr>\n",
              "\t<tr><td>46137</td><td>South Dakota  </td><td>Ziebach      </td><td>North Central</td><td>Nonmetro</td><td>   2833</td><td>  1391</td><td>  1442</td><td> 3.7</td><td>23.7</td><td>⋯</td><td>1.7</td><td>20.0</td><td>19.6</td><td>   948</td><td>40.9</td><td>41.7</td><td>16.6</td><td>0.8</td><td>27.4</td><td> 1961.27</td></tr>\n",
              "\t<tr><td>47069</td><td>Tennessee     </td><td>Hardeman     </td><td>South        </td><td>Nonmetro</td><td>  26253</td><td> 14297</td><td> 11956</td><td> 1.5</td><td>55.1</td><td>⋯</td><td>0.3</td><td> 5.3</td><td>28.2</td><td>  8256</td><td>70.7</td><td>22.0</td><td> 7.2</td><td>0.0</td><td>18.7</td><td>  667.77</td></tr>\n",
              "\t<tr><td>47121</td><td>Tennessee     </td><td>Meigs        </td><td>South        </td><td>Nonmetro</td><td>  11716</td><td>  5755</td><td>  5961</td><td> 1.4</td><td>94.9</td><td>⋯</td><td>0.7</td><td> 1.8</td><td>30.1</td><td>  3907</td><td>81.2</td><td>12.6</td><td> 6.3</td><td>0.0</td><td>15.0</td><td>  195.12</td></tr>\n",
              "\t<tr><td>48047</td><td>Texas         </td><td>Brooks       </td><td>South        </td><td>Nonmetro</td><td>   7221</td><td>  3744</td><td>  3477</td><td>92.9</td><td> 5.1</td><td>⋯</td><td>0.1</td><td> 3.1</td><td>20.3</td><td>  2416</td><td>72.8</td><td>20.9</td><td> 6.3</td><td>0.0</td><td>19.8</td><td>  943.36</td></tr>\n",
              "\t<tr><td>48247</td><td>Texas         </td><td>Jim Hogg     </td><td>South        </td><td>Nonmetro</td><td>   5239</td><td>  2651</td><td>  2588</td><td>91.9</td><td> 6.6</td><td>⋯</td><td>0.0</td><td> 1.0</td><td>32.4</td><td>  1786</td><td>56.8</td><td>30.7</td><td>11.7</td><td>0.8</td><td>16.5</td><td> 1136.14</td></tr>\n",
              "\t<tr><td>49017</td><td>Utah          </td><td>Garfield     </td><td>West         </td><td>Nonmetro</td><td>   5069</td><td>  2637</td><td>  2432</td><td> 5.6</td><td>90.2</td><td>⋯</td><td>2.1</td><td> 4.5</td><td>14.1</td><td>  2000</td><td>70.8</td><td>20.1</td><td> 8.9</td><td>0.3</td><td> 8.6</td><td> 5175.12</td></tr>\n",
              "\t<tr><td>49021</td><td>Utah          </td><td>Iron         </td><td>West         </td><td>Nonmetro</td><td>  47139</td><td> 23588</td><td> 23551</td><td> 8.1</td><td>86.6</td><td>⋯</td><td>1.7</td><td> 2.8</td><td>18.0</td><td> 19636</td><td>74.6</td><td>20.9</td><td> 4.5</td><td>0.0</td><td>10.5</td><td> 3296.68</td></tr>\n",
              "\t<tr><td>50009</td><td>Vermont       </td><td>Essex        </td><td>Northeast    </td><td>Nonmetro</td><td>   6207</td><td>  3111</td><td>  3096</td><td> 1.2</td><td>95.9</td><td>⋯</td><td>0.6</td><td> 7.3</td><td>26.3</td><td>  2683</td><td>70.6</td><td>17.8</td><td>11.1</td><td>0.5</td><td> 9.4</td><td>  663.60</td></tr>\n",
              "\t<tr><td>50013</td><td>Vermont       </td><td>Grand Isle   </td><td>Northeast    </td><td>Metro   </td><td>   6952</td><td>  3419</td><td>  3533</td><td> 1.7</td><td>93.6</td><td>⋯</td><td>0.7</td><td> 7.5</td><td>33.8</td><td>  3697</td><td>78.2</td><td>11.7</td><td> 9.8</td><td>0.3</td><td> 7.4</td><td>   81.81</td></tr>\n",
              "\t<tr><td>51595</td><td>Virginia      </td><td>Emporia city </td><td>South        </td><td>Nonmetro</td><td>   5672</td><td>  2605</td><td>  3067</td><td> 3.0</td><td>39.2</td><td>⋯</td><td>0.9</td><td> 2.9</td><td>20.7</td><td>  2074</td><td>74.1</td><td>22.6</td><td> 3.3</td><td>0.0</td><td>19.1</td><td>    6.89</td></tr>\n",
              "\t<tr><td>51620</td><td>Virginia      </td><td>Franklin city</td><td>South        </td><td>Nonmetro</td><td>   8457</td><td>  3766</td><td>  4691</td><td> 1.0</td><td>38.2</td><td>⋯</td><td>0.4</td><td> 3.5</td><td>24.2</td><td>  3429</td><td>63.9</td><td>28.9</td><td> 6.3</td><td>0.9</td><td>13.7</td><td>    8.21</td></tr>\n",
              "\t<tr><td>53027</td><td>Washington    </td><td>Grays Harbor </td><td>West         </td><td>Nonmetro</td><td>  71419</td><td> 36748</td><td> 34671</td><td> 9.6</td><td>80.1</td><td>⋯</td><td>2.0</td><td> 3.9</td><td>24.2</td><td> 26197</td><td>71.2</td><td>21.7</td><td> 7.0</td><td>0.2</td><td>14.3</td><td> 1902.03</td></tr>\n",
              "\t<tr><td>53045</td><td>Washington    </td><td>Mason        </td><td>West         </td><td>Nonmetro</td><td>  60791</td><td> 31476</td><td> 29315</td><td> 8.7</td><td>81.9</td><td>⋯</td><td>1.3</td><td> 3.7</td><td>31.4</td><td> 22155</td><td>64.5</td><td>25.9</td><td> 9.5</td><td>0.1</td><td>12.9</td><td>  959.42</td></tr>\n",
              "\t<tr><td>54013</td><td>West Virginia </td><td>Calhoun      </td><td>South        </td><td>Nonmetro</td><td>   7557</td><td>  3783</td><td>  3774</td><td> 1.0</td><td>97.3</td><td>⋯</td><td>1.1</td><td> 1.0</td><td>32.9</td><td>  2511</td><td>77.6</td><td>17.6</td><td> 3.3</td><td>1.5</td><td>18.1</td><td>  279.25</td></tr>\n",
              "\t<tr><td>54101</td><td>West Virginia </td><td>Webster      </td><td>South        </td><td>Nonmetro</td><td>   8927</td><td>  4387</td><td>  4540</td><td> 0.3</td><td>97.7</td><td>⋯</td><td>2.4</td><td> 3.5</td><td>27.0</td><td>  2945</td><td>79.7</td><td>15.4</td><td> 4.7</td><td>0.2</td><td>14.8</td><td>  553.47</td></tr>\n",
              "\t<tr><td>55001</td><td>Wisconsin     </td><td>Adams        </td><td>North Central</td><td>Nonmetro</td><td>  20451</td><td> 11033</td><td>  9418</td><td> 3.8</td><td>90.6</td><td>⋯</td><td>1.7</td><td> 4.7</td><td>28.7</td><td>  7457</td><td>80.0</td><td>12.6</td><td> 7.3</td><td>0.2</td><td>10.1</td><td>  645.65</td></tr>\n",
              "\t<tr><td>55041</td><td>Wisconsin     </td><td>Forest       </td><td>North Central</td><td>Nonmetro</td><td>   9150</td><td>  4647</td><td>  4503</td><td> 2.0</td><td>81.0</td><td>⋯</td><td>1.1</td><td> 6.5</td><td>21.4</td><td>  3559</td><td>64.0</td><td>25.3</td><td>10.6</td><td>0.0</td><td>10.1</td><td> 1014.07</td></tr>\n",
              "\t<tr><td>55078</td><td>Wisconsin     </td><td>Menominee    </td><td>North Central</td><td>Nonmetro</td><td>   4451</td><td>  2185</td><td>  2266</td><td> 5.5</td><td>10.5</td><td>⋯</td><td>0.1</td><td> 4.9</td><td>17.3</td><td>  1403</td><td>36.8</td><td>59.1</td><td> 3.7</td><td>0.4</td><td>14.8</td><td>  357.61</td></tr>\n",
              "\t<tr><td>56013</td><td>Wyoming       </td><td>Fremont      </td><td>West         </td><td>Nonmetro</td><td>  40755</td><td> 20358</td><td> 20397</td><td> 6.6</td><td>70.5</td><td>⋯</td><td>2.0</td><td> 6.3</td><td>18.5</td><td> 18736</td><td>61.8</td><td>28.3</td><td> 9.4</td><td>0.5</td><td> 7.8</td><td> 9183.81</td></tr>\n",
              "\t<tr><td>56015</td><td>Wyoming       </td><td>Goshen       </td><td>West         </td><td>Nonmetro</td><td>  13544</td><td>  7180</td><td>  6364</td><td>10.4</td><td>86.5</td><td>⋯</td><td>1.5</td><td> 7.2</td><td>19.2</td><td>  6080</td><td>61.1</td><td>27.8</td><td>10.9</td><td>0.3</td><td> 6.8</td><td> 2225.39</td></tr>\n",
              "\t<tr><td>56043</td><td>Wyoming       </td><td>Washakie     </td><td>West         </td><td>Nonmetro</td><td>   8400</td><td>  4144</td><td>  4256</td><td>14.0</td><td>82.4</td><td>⋯</td><td>2.8</td><td> 4.5</td><td>12.3</td><td>  3892</td><td>70.5</td><td>21.5</td><td> 7.6</td><td>0.5</td><td> 6.8</td><td> 2238.55</td></tr>\n",
              "</tbody>\n",
              "</table>\n"
            ]
          },
          "metadata": {
            "tags": []
          }
        }
      ]
    },
    {
      "cell_type": "markdown",
      "metadata": {
        "id": "h5H3jo0GnXSx"
      },
      "source": [
        "## Group by region and find the greatest number of citizens who walk to work"
      ]
    },
    {
      "cell_type": "code",
      "metadata": {
        "colab": {
          "base_uri": "https://localhost:8080/",
          "height": 254
        },
        "id": "b_HXeGv9nXtH",
        "outputId": "23d3525b-1001-45f8-b9c7-d908181ba09e"
      },
      "source": [
        "# Group by region and find the greatest number of citizens who walk to work\n",
        "counties_selected %>%\n",
        "  group_by(region) %>%\n",
        "  top_n(1, walk)"
      ],
      "execution_count": 121,
      "outputs": [
        {
          "output_type": "display_data",
          "data": {
            "text/plain": [
              "  state        region        county                 population private_work\n",
              "1 Alaska       West          Aleutians East Borough    3304    78.6        \n",
              "2 New York     Northeast     New York               1629507    83.6        \n",
              "3 North Dakota North Central McIntosh                  2759    62.7        \n",
              "4 Virginia     South         Lexington city            7071    80.3        \n",
              "  public_work self_employed unemployment walk\n",
              "1 15.4         5.9          2.9          71.2\n",
              "2  8.5         7.8          7.5          20.7\n",
              "3 16.6        19.5          1.2          17.5\n",
              "4 14.9         4.8          2.7          31.7"
            ],
            "text/latex": "A grouped\\_df: 4 × 9\n\\begin{tabular}{lllllllll}\n state & region & county & population & private\\_work & public\\_work & self\\_employed & unemployment & walk\\\\\n <chr> & <chr> & <chr> & <dbl> & <dbl> & <dbl> & <dbl> & <dbl> & <dbl>\\\\\n\\hline\n\t Alaska       & West          & Aleutians East Borough &    3304 & 78.6 & 15.4 &  5.9 & 2.9 & 71.2\\\\\n\t New York     & Northeast     & New York               & 1629507 & 83.6 &  8.5 &  7.8 & 7.5 & 20.7\\\\\n\t North Dakota & North Central & McIntosh               &    2759 & 62.7 & 16.6 & 19.5 & 1.2 & 17.5\\\\\n\t Virginia     & South         & Lexington city         &    7071 & 80.3 & 14.9 &  4.8 & 2.7 & 31.7\\\\\n\\end{tabular}\n",
            "text/markdown": "\nA grouped_df: 4 × 9\n\n| state &lt;chr&gt; | region &lt;chr&gt; | county &lt;chr&gt; | population &lt;dbl&gt; | private_work &lt;dbl&gt; | public_work &lt;dbl&gt; | self_employed &lt;dbl&gt; | unemployment &lt;dbl&gt; | walk &lt;dbl&gt; |\n|---|---|---|---|---|---|---|---|---|\n| Alaska       | West          | Aleutians East Borough |    3304 | 78.6 | 15.4 |  5.9 | 2.9 | 71.2 |\n| New York     | Northeast     | New York               | 1629507 | 83.6 |  8.5 |  7.8 | 7.5 | 20.7 |\n| North Dakota | North Central | McIntosh               |    2759 | 62.7 | 16.6 | 19.5 | 1.2 | 17.5 |\n| Virginia     | South         | Lexington city         |    7071 | 80.3 | 14.9 |  4.8 | 2.7 | 31.7 |\n\n",
            "text/html": [
              "<table class=\"dataframe\">\n",
              "<caption>A grouped_df: 4 × 9</caption>\n",
              "<thead>\n",
              "\t<tr><th scope=col>state</th><th scope=col>region</th><th scope=col>county</th><th scope=col>population</th><th scope=col>private_work</th><th scope=col>public_work</th><th scope=col>self_employed</th><th scope=col>unemployment</th><th scope=col>walk</th></tr>\n",
              "\t<tr><th scope=col>&lt;chr&gt;</th><th scope=col>&lt;chr&gt;</th><th scope=col>&lt;chr&gt;</th><th scope=col>&lt;dbl&gt;</th><th scope=col>&lt;dbl&gt;</th><th scope=col>&lt;dbl&gt;</th><th scope=col>&lt;dbl&gt;</th><th scope=col>&lt;dbl&gt;</th><th scope=col>&lt;dbl&gt;</th></tr>\n",
              "</thead>\n",
              "<tbody>\n",
              "\t<tr><td>Alaska      </td><td>West         </td><td>Aleutians East Borough</td><td>   3304</td><td>78.6</td><td>15.4</td><td> 5.9</td><td>2.9</td><td>71.2</td></tr>\n",
              "\t<tr><td>New York    </td><td>Northeast    </td><td>New York              </td><td>1629507</td><td>83.6</td><td> 8.5</td><td> 7.8</td><td>7.5</td><td>20.7</td></tr>\n",
              "\t<tr><td>North Dakota</td><td>North Central</td><td>McIntosh              </td><td>   2759</td><td>62.7</td><td>16.6</td><td>19.5</td><td>1.2</td><td>17.5</td></tr>\n",
              "\t<tr><td>Virginia    </td><td>South        </td><td>Lexington city        </td><td>   7071</td><td>80.3</td><td>14.9</td><td> 4.8</td><td>2.7</td><td>31.7</td></tr>\n",
              "</tbody>\n",
              "</table>\n"
            ]
          },
          "metadata": {
            "tags": []
          }
        }
      ]
    },
    {
      "cell_type": "markdown",
      "metadata": {
        "id": "R-roC0hSn2l8"
      },
      "source": [
        "## Finding the highest-income state in each region"
      ]
    },
    {
      "cell_type": "code",
      "metadata": {
        "colab": {
          "base_uri": "https://localhost:8080/",
          "height": 254
        },
        "id": "2RZly6d2n3TK",
        "outputId": "38ffaa43-78b6-4bf6-947b-16a6cd4e3007"
      },
      "source": [
        "counties %>%\n",
        "  select(region, state, county, population, income) %>%\n",
        "  group_by(region, state) %>% \n",
        "  summarize(mean_income = mean(income)) %>%\n",
        "  top_n(1,mean_income)"
      ],
      "execution_count": 122,
      "outputs": [
        {
          "output_type": "stream",
          "text": [
            "`summarise()` has grouped output by 'region'. You can override using the `.groups` argument.\n",
            "\n"
          ],
          "name": "stderr"
        },
        {
          "output_type": "display_data",
          "data": {
            "text/plain": [
              "  region        state        mean_income\n",
              "1 North Central North Dakota 55574.87   \n",
              "2 Northeast     New Jersey   73014.10   \n",
              "3 South         Maryland     69200.38   \n",
              "4 West          Alaska       65124.54   "
            ],
            "text/latex": "A grouped\\_df: 4 × 3\n\\begin{tabular}{lll}\n region & state & mean\\_income\\\\\n <chr> & <chr> & <dbl>\\\\\n\\hline\n\t North Central & North Dakota & 55574.87\\\\\n\t Northeast     & New Jersey   & 73014.10\\\\\n\t South         & Maryland     & 69200.38\\\\\n\t West          & Alaska       & 65124.54\\\\\n\\end{tabular}\n",
            "text/markdown": "\nA grouped_df: 4 × 3\n\n| region &lt;chr&gt; | state &lt;chr&gt; | mean_income &lt;dbl&gt; |\n|---|---|---|\n| North Central | North Dakota | 55574.87 |\n| Northeast     | New Jersey   | 73014.10 |\n| South         | Maryland     | 69200.38 |\n| West          | Alaska       | 65124.54 |\n\n",
            "text/html": [
              "<table class=\"dataframe\">\n",
              "<caption>A grouped_df: 4 × 3</caption>\n",
              "<thead>\n",
              "\t<tr><th scope=col>region</th><th scope=col>state</th><th scope=col>mean_income</th></tr>\n",
              "\t<tr><th scope=col>&lt;chr&gt;</th><th scope=col>&lt;chr&gt;</th><th scope=col>&lt;dbl&gt;</th></tr>\n",
              "</thead>\n",
              "<tbody>\n",
              "\t<tr><td>North Central</td><td>North Dakota</td><td>55574.87</td></tr>\n",
              "\t<tr><td>Northeast    </td><td>New Jersey  </td><td>73014.10</td></tr>\n",
              "\t<tr><td>South        </td><td>Maryland    </td><td>69200.38</td></tr>\n",
              "\t<tr><td>West         </td><td>Alaska      </td><td>65124.54</td></tr>\n",
              "</tbody>\n",
              "</table>\n"
            ]
          },
          "metadata": {
            "tags": []
          }
        }
      ]
    },
    {
      "cell_type": "markdown",
      "metadata": {
        "id": "CIOowjQasGh5"
      },
      "source": [
        "## In how many states do more people live in metro areas than non-metro areas?"
      ]
    },
    {
      "cell_type": "code",
      "metadata": {
        "colab": {
          "base_uri": "https://localhost:8080/",
          "height": 193
        },
        "id": "AOOg-r_EsHxj",
        "outputId": "3b71278d-d08c-4ce9-d30d-e7fde5136161"
      },
      "source": [
        "# a) Find the total population for each combination of state and metro\n",
        "counties %>%\n",
        "  group_by(state, metro) %>%\n",
        "  summarize(total_pop = sum(population)) %>%\n",
        "  head(2)"
      ],
      "execution_count": 128,
      "outputs": [
        {
          "output_type": "stream",
          "text": [
            "`summarise()` has grouped output by 'state'. You can override using the `.groups` argument.\n",
            "\n"
          ],
          "name": "stderr"
        },
        {
          "output_type": "display_data",
          "data": {
            "text/plain": [
              "  state   metro    total_pop\n",
              "1 Alabama Metro    3671377  \n",
              "2 Alabama Nonmetro 1159243  "
            ],
            "text/latex": "A grouped\\_df: 2 × 3\n\\begin{tabular}{lll}\n state & metro & total\\_pop\\\\\n <chr> & <chr> & <dbl>\\\\\n\\hline\n\t Alabama & Metro    & 3671377\\\\\n\t Alabama & Nonmetro & 1159243\\\\\n\\end{tabular}\n",
            "text/markdown": "\nA grouped_df: 2 × 3\n\n| state &lt;chr&gt; | metro &lt;chr&gt; | total_pop &lt;dbl&gt; |\n|---|---|---|\n| Alabama | Metro    | 3671377 |\n| Alabama | Nonmetro | 1159243 |\n\n",
            "text/html": [
              "<table class=\"dataframe\">\n",
              "<caption>A grouped_df: 2 × 3</caption>\n",
              "<thead>\n",
              "\t<tr><th scope=col>state</th><th scope=col>metro</th><th scope=col>total_pop</th></tr>\n",
              "\t<tr><th scope=col>&lt;chr&gt;</th><th scope=col>&lt;chr&gt;</th><th scope=col>&lt;dbl&gt;</th></tr>\n",
              "</thead>\n",
              "<tbody>\n",
              "\t<tr><td>Alabama</td><td>Metro   </td><td>3671377</td></tr>\n",
              "\t<tr><td>Alabama</td><td>Nonmetro</td><td>1159243</td></tr>\n",
              "</tbody>\n",
              "</table>\n"
            ]
          },
          "metadata": {
            "tags": []
          }
        }
      ]
    },
    {
      "cell_type": "code",
      "metadata": {
        "colab": {
          "base_uri": "https://localhost:8080/",
          "height": 193
        },
        "id": "tIxBOeR2s3v-",
        "outputId": "802c2af4-2405-4538-a987-286ae6a2119f"
      },
      "source": [
        "# Extract the most populated row from each state, which will be either Metro or Nonmetro.\n",
        "counties %>%\n",
        "  group_by(state, metro) %>%\n",
        "  summarize(total_pop = sum(population)) %>%\n",
        "  top_n(1, total_pop) %>% \n",
        "  head(2)\n"
      ],
      "execution_count": 130,
      "outputs": [
        {
          "output_type": "stream",
          "text": [
            "`summarise()` has grouped output by 'state'. You can override using the `.groups` argument.\n",
            "\n"
          ],
          "name": "stderr"
        },
        {
          "output_type": "display_data",
          "data": {
            "text/plain": [
              "  state   metro total_pop\n",
              "1 Alabama Metro 3671377  \n",
              "2 Alaska  Metro  494990  "
            ],
            "text/latex": "A grouped\\_df: 2 × 3\n\\begin{tabular}{lll}\n state & metro & total\\_pop\\\\\n <chr> & <chr> & <dbl>\\\\\n\\hline\n\t Alabama & Metro & 3671377\\\\\n\t Alaska  & Metro &  494990\\\\\n\\end{tabular}\n",
            "text/markdown": "\nA grouped_df: 2 × 3\n\n| state &lt;chr&gt; | metro &lt;chr&gt; | total_pop &lt;dbl&gt; |\n|---|---|---|\n| Alabama | Metro | 3671377 |\n| Alaska  | Metro |  494990 |\n\n",
            "text/html": [
              "<table class=\"dataframe\">\n",
              "<caption>A grouped_df: 2 × 3</caption>\n",
              "<thead>\n",
              "\t<tr><th scope=col>state</th><th scope=col>metro</th><th scope=col>total_pop</th></tr>\n",
              "\t<tr><th scope=col>&lt;chr&gt;</th><th scope=col>&lt;chr&gt;</th><th scope=col>&lt;dbl&gt;</th></tr>\n",
              "</thead>\n",
              "<tbody>\n",
              "\t<tr><td>Alabama</td><td>Metro</td><td>3671377</td></tr>\n",
              "\t<tr><td>Alaska </td><td>Metro</td><td> 494990</td></tr>\n",
              "</tbody>\n",
              "</table>\n"
            ]
          },
          "metadata": {
            "tags": []
          }
        }
      ]
    },
    {
      "cell_type": "code",
      "metadata": {
        "colab": {
          "base_uri": "https://localhost:8080/",
          "height": 193
        },
        "id": "mLE2Ahu9sZ92",
        "outputId": "677d43c6-b9cc-4012-b367-c33451e5f68f"
      },
      "source": [
        "# Ungroup, then count how often Metro or Nonmetro appears to see how many states have more people living in those areas.\n",
        "\n",
        "counties %>%\n",
        "  group_by(state, metro) %>%\n",
        "  summarize(total_pop = sum(population)) %>%\n",
        "  top_n(1, total_pop) %>% \n",
        "  ungroup() %>%\n",
        "  count(metro)"
      ],
      "execution_count": 132,
      "outputs": [
        {
          "output_type": "stream",
          "text": [
            "`summarise()` has grouped output by 'state'. You can override using the `.groups` argument.\n",
            "\n"
          ],
          "name": "stderr"
        },
        {
          "output_type": "display_data",
          "data": {
            "text/plain": [
              "  metro    n \n",
              "1 Metro    44\n",
              "2 Nonmetro  6"
            ],
            "text/latex": "A tibble: 2 × 2\n\\begin{tabular}{ll}\n metro & n\\\\\n <chr> & <int>\\\\\n\\hline\n\t Metro    & 44\\\\\n\t Nonmetro &  6\\\\\n\\end{tabular}\n",
            "text/markdown": "\nA tibble: 2 × 2\n\n| metro &lt;chr&gt; | n &lt;int&gt; |\n|---|---|\n| Metro    | 44 |\n| Nonmetro |  6 |\n\n",
            "text/html": [
              "<table class=\"dataframe\">\n",
              "<caption>A tibble: 2 × 2</caption>\n",
              "<thead>\n",
              "\t<tr><th scope=col>metro</th><th scope=col>n</th></tr>\n",
              "\t<tr><th scope=col>&lt;chr&gt;</th><th scope=col>&lt;int&gt;</th></tr>\n",
              "</thead>\n",
              "<tbody>\n",
              "\t<tr><td>Metro   </td><td>44</td></tr>\n",
              "\t<tr><td>Nonmetro</td><td> 6</td></tr>\n",
              "</tbody>\n",
              "</table>\n"
            ]
          },
          "metadata": {
            "tags": []
          }
        }
      ]
    }
  ]
}