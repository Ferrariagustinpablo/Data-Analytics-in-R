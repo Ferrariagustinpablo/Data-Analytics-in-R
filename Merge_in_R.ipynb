{
  "nbformat": 4,
  "nbformat_minor": 0,
  "metadata": {
    "colab": {
      "name": "Merge in R",
      "provenance": [],
      "collapsed_sections": [],
      "toc_visible": true,
      "include_colab_link": true
    },
    "kernelspec": {
      "name": "ir",
      "display_name": "R"
    }
  },
  "cells": [
    {
      "cell_type": "markdown",
      "metadata": {
        "id": "view-in-github",
        "colab_type": "text"
      },
      "source": [
        "<a href=\"https://colab.research.google.com/github/Ferrariagustinpablo/Data-Analytics-in-R/blob/main/Merge_in_R.ipynb\" target=\"_parent\"><img src=\"https://colab.research.google.com/assets/colab-badge.svg\" alt=\"Open In Colab\"/></a>"
      ]
    },
    {
      "cell_type": "markdown",
      "metadata": {
        "id": "cYE7mEi2ky38"
      },
      "source": [
        "# Import libraries"
      ]
    },
    {
      "cell_type": "code",
      "metadata": {
        "colab": {
          "base_uri": "https://localhost:8080/"
        },
        "id": "bvU9BFjrWGM0",
        "outputId": "810d1aa2-8067-4cf0-c21b-7c17602abeb3"
      },
      "source": [
        "install.packages(\"data.table\")"
      ],
      "execution_count": 1,
      "outputs": [
        {
          "output_type": "stream",
          "text": [
            "Installing package into ‘/usr/local/lib/R/site-library’\n",
            "(as ‘lib’ is unspecified)\n",
            "\n"
          ],
          "name": "stderr"
        }
      ]
    },
    {
      "cell_type": "code",
      "metadata": {
        "colab": {
          "base_uri": "https://localhost:8080/"
        },
        "id": "pN-qJav9Wb5y",
        "outputId": "90b25bc0-5c93-4c88-c71e-3ec5ed56e75c"
      },
      "source": [
        "install.packages(\"bikeshare14\")"
      ],
      "execution_count": 2,
      "outputs": [
        {
          "output_type": "stream",
          "text": [
            "Installing package into ‘/usr/local/lib/R/site-library’\n",
            "(as ‘lib’ is unspecified)\n",
            "\n"
          ],
          "name": "stderr"
        }
      ]
    },
    {
      "cell_type": "code",
      "metadata": {
        "id": "RoD2lzL9Z3f_",
        "colab": {
          "base_uri": "https://localhost:8080/"
        },
        "outputId": "68bcec04-600e-4033-9af7-345f06dac3e8"
      },
      "source": [
        "# Load\n",
        "library(dplyr)\n",
        "library(ggplot2)\n",
        "library(tidyr)\n",
        "\n",
        "# Specially in this notebook we are going to use data tables\n",
        "library(data.table)\n",
        "library(bikeshare14)"
      ],
      "execution_count": 3,
      "outputs": [
        {
          "output_type": "stream",
          "text": [
            "\n",
            "Attaching package: ‘dplyr’\n",
            "\n",
            "\n",
            "The following objects are masked from ‘package:stats’:\n",
            "\n",
            "    filter, lag\n",
            "\n",
            "\n",
            "The following objects are masked from ‘package:base’:\n",
            "\n",
            "    intersect, setdiff, setequal, union\n",
            "\n",
            "\n",
            "\n",
            "Attaching package: ‘data.table’\n",
            "\n",
            "\n",
            "The following objects are masked from ‘package:dplyr’:\n",
            "\n",
            "    between, first, last\n",
            "\n",
            "\n"
          ],
          "name": "stderr"
        }
      ]
    },
    {
      "cell_type": "markdown",
      "metadata": {
        "id": "Y7CS-L73LFL5"
      },
      "source": [
        "# merge()"
      ]
    },
    {
      "cell_type": "markdown",
      "metadata": {
        "id": "SqCcAHVNJatq"
      },
      "source": [
        "## Inner and Full join"
      ]
    },
    {
      "cell_type": "code",
      "metadata": {
        "id": "sIWY4qmVJXQ4"
      },
      "source": [
        "# Inner join netflix and imdb\n",
        "merge(netflix, imdb, by = \"title\")"
      ],
      "execution_count": null,
      "outputs": []
    },
    {
      "cell_type": "code",
      "metadata": {
        "id": "_vAvqDbBJe-Y"
      },
      "source": [
        "# Full join netflix and imdb\n",
        "merge(netflix, imdb, by = \"title\", all = TRUE)"
      ],
      "execution_count": null,
      "outputs": []
    },
    {
      "cell_type": "markdown",
      "metadata": {
        "id": "m5g2Rk33J-Ur"
      },
      "source": [
        "## Left and Right join"
      ]
    },
    {
      "cell_type": "code",
      "metadata": {
        "id": "nVpvAQw-KAnU"
      },
      "source": [
        "# Left join imdb to netflix\n",
        "merge(netflix, imdb, by = \"title\", all.x = TRUE)\n",
        "\n",
        "# Right join imdb to netflix\n",
        "merge(netflix, imdb, by = \"title\", all.y = TRUE)"
      ],
      "execution_count": null,
      "outputs": []
    },
    {
      "cell_type": "markdown",
      "metadata": {
        "id": "RaDZsk-qLAvl"
      },
      "source": [
        "# Merge with Data.table synthax\n",
        "\n",
        "DT[i, on]"
      ]
    },
    {
      "cell_type": "markdown",
      "metadata": {
        "id": "PiHKsFe3MIyM"
      },
      "source": [
        "## Right join"
      ]
    },
    {
      "cell_type": "code",
      "metadata": {
        "id": "zH6MHA8CNNgJ"
      },
      "source": [
        "# Right join population to capitals using data.table syntax\n",
        "capitals[population, on = .(city)]\n",
        "\n",
        "# Right join using merge\n",
        "merge(capitals, population, by = \"city\", all.y = TRUE)"
      ],
      "execution_count": null,
      "outputs": []
    },
    {
      "cell_type": "markdown",
      "metadata": {
        "id": "07HSQv1NNuEG"
      },
      "source": [
        "## Inner / Outer join"
      ]
    },
    {
      "cell_type": "code",
      "metadata": {
        "id": "fajcsPWDNXyu"
      },
      "source": [
        "# Inner join with the data.table syntax\n",
        "capitals[population, on = .(city), nomatch = 0]"
      ],
      "execution_count": null,
      "outputs": []
    },
    {
      "cell_type": "markdown",
      "metadata": {
        "id": "b8tzOBglS2WG"
      },
      "source": [
        "# Anti-joins\n",
        "Anti-joins are useful when you want to filter rows in one table not found in the other."
      ]
    },
    {
      "cell_type": "code",
      "metadata": {
        "id": "4sTyDVvSS5o8"
      },
      "source": [
        "# Anti-join capitals to population\n",
        "population[!capitals, on = .(city)]"
      ],
      "execution_count": null,
      "outputs": []
    },
    {
      "cell_type": "markdown",
      "metadata": {
        "id": "p8iL2qt9VO1L"
      },
      "source": [
        "# Joining and computing with j"
      ]
    },
    {
      "cell_type": "markdown",
      "metadata": {
        "id": "vAVGig-sVTxA"
      },
      "source": [
        "Using the j argument to compute information from the result of the join will allow you to quickly ask and answer questions about your data. "
      ]
    },
    {
      "cell_type": "code",
      "metadata": {
        "id": "G6MtZiPbVOdp"
      },
      "source": [
        "# Join and sum\n",
        "population[capitals, on = .(city), nomatch = 0,\n",
        "           j = sum(percentage)]"
      ],
      "execution_count": null,
      "outputs": []
    },
    {
      "cell_type": "markdown",
      "metadata": {
        "id": "RMiW_kzOWBb6"
      },
      "source": [
        "# .EACHI\n",
        "\n",
        "by = .EACHI will calculate the number of matches in the left data.table for each row in the right data.table."
      ]
    },
    {
      "cell_type": "code",
      "metadata": {
        "id": "CD8E4u_rWBMW"
      },
      "source": [
        "# How many continents is each country listed in?\n",
        "continents[life_exp, on = .(country), .N, \n",
        "           by = .EACHI]"
      ],
      "execution_count": null,
      "outputs": []
    },
    {
      "cell_type": "markdown",
      "metadata": {
        "id": "giscEftHYSPD"
      },
      "source": [
        "# Chaining "
      ]
    },
    {
      "cell_type": "code",
      "metadata": {
        "id": "RhQuXrTjXYSG"
      },
      "source": [
        "# Calculate average life expectancy per continent:\n",
        "continents[life_exp, on = .(country), \n",
        "                                  nomatch = 0][, j = mean(years), \n",
        "                                               by = .(continent)]"
      ],
      "execution_count": null,
      "outputs": []
    },
    {
      "cell_type": "markdown",
      "metadata": {
        "id": "ONJTjhdOZh9S"
      },
      "source": [
        "# merging with different key names"
      ]
    },
    {
      "cell_type": "markdown",
      "metadata": {
        "id": "zLaJf1kHblIw"
      },
      "source": [
        "## data.table syntax"
      ]
    },
    {
      "cell_type": "code",
      "metadata": {
        "id": "eR3OYuI2YVtr"
      },
      "source": [
        "# What are the correct join key columns?\n",
        "students[guardians, on = .(guardian = name), nomatch = 0]\n",
        "\n",
        "\n",
        "#or\n",
        "\n",
        "\n",
        "# Identify and set the keys\n",
        "join_key <- c(\"topic\" = \"subject\")\n",
        "\n",
        "# Right join\n",
        "teachers[locations, on = join_key]"
      ],
      "execution_count": null,
      "outputs": []
    },
    {
      "cell_type": "markdown",
      "metadata": {
        "id": "k8IkjF7lbn-5"
      },
      "source": [
        "## merge syntax with suffixes"
      ]
    },
    {
      "cell_type": "code",
      "metadata": {
        "id": "kj2cVCahbqf9"
      },
      "source": [
        "merge(x=parents, y=students, by.x=\"name\", by.y=\"student\", suffixes= c(\"parent\", \"child\"))"
      ],
      "execution_count": null,
      "outputs": []
    },
    {
      "cell_type": "code",
      "metadata": {
        "id": "M0WbYGsOcXV3"
      },
      "source": [
        "# Left join with suffixes\n",
        "merge(capital_pop, area, by = \"state\", all.x = TRUE, suffixes = c(\".pop\", \".area\"))"
      ],
      "execution_count": null,
      "outputs": []
    },
    {
      "cell_type": "markdown",
      "metadata": {
        "id": "XphWm7Q0a8fK"
      },
      "source": [
        "# merging with more than one feature"
      ]
    },
    {
      "cell_type": "markdown",
      "metadata": {
        "id": "5Lk3K1uPagcN"
      },
      "source": [
        "## Changing key datatype to merge"
      ]
    },
    {
      "cell_type": "code",
      "metadata": {
        "id": "y2qZSOW_afYW"
      },
      "source": [
        "\n",
        "# Right join\n",
        "subjects[locations, on = .(subject, semester)]\n",
        "\n",
        "# Fix the column class\n",
        "locations[, semester := as.integer(semester)]\n",
        "\n",
        "# Right join\n",
        "subjects[locations, on = .(subject, semester)]"
      ],
      "execution_count": null,
      "outputs": []
    },
    {
      "cell_type": "markdown",
      "metadata": {
        "id": "IsmLfWM8cd_C"
      },
      "source": [
        "# Transforming dataFrame to Data.table"
      ]
    },
    {
      "cell_type": "code",
      "metadata": {
        "id": "JJ_mXSPKch8l"
      },
      "source": [
        "# Convert netflix to a data.table\n",
        "netflix_dt <- as.data.table(netflix, keep.rownames = \"series\")"
      ],
      "execution_count": null,
      "outputs": []
    },
    {
      "cell_type": "markdown",
      "metadata": {
        "id": "tz3kQ2e0d93s"
      },
      "source": [
        "# Handling duplicates"
      ]
    },
    {
      "cell_type": "markdown",
      "metadata": {
        "id": "VVsDzmXamgtw"
      },
      "source": [
        "## unique()"
      ]
    },
    {
      "cell_type": "code",
      "metadata": {
        "id": "GU4-GRaXmIM9"
      },
      "source": [
        "# Keep only the last probe for each gene\n",
        "heart_3 <- unique(heart_2, by = \"gene\", fromLast = TRUE)\n"
      ],
      "execution_count": null,
      "outputs": []
    },
    {
      "cell_type": "markdown",
      "metadata": {
        "id": "zxTnZH0ZnAaE"
      },
      "source": [
        "## duplicated()"
      ]
    },
    {
      "cell_type": "code",
      "metadata": {
        "id": "2LSdSg5dnBy4"
      },
      "source": [
        "heart <- heart[!duplicated(heart, by=\"gene\", fromLast = TRUE)]"
      ],
      "execution_count": null,
      "outputs": []
    },
    {
      "cell_type": "markdown",
      "metadata": {
        "id": "YOtBulFzoCsd"
      },
      "source": [
        "# Concatenating"
      ]
    },
    {
      "cell_type": "markdown",
      "metadata": {
        "id": "tQdwpwhnsbQr"
      },
      "source": [
        "## rbind()"
      ]
    },
    {
      "cell_type": "code",
      "metadata": {
        "id": "nP7-f_pNoEGN"
      },
      "source": [
        "# Concatenate case numbers from weeks 50 and 51\n",
        "rbind(ebola_W50, ebola_W51)\n",
        "\n",
        "# ebola_W52 lacks one of the columns\n",
        "rbind(ebola_W50, ebola_W51, ebola_W52, fill = TRUE)"
      ],
      "execution_count": null,
      "outputs": []
    },
    {
      "cell_type": "markdown",
      "metadata": {
        "id": "bn9Kqf3YtsLn"
      },
      "source": [
        "## rbindlist()"
      ]
    },
    {
      "cell_type": "code",
      "metadata": {
        "id": "okVzTQcCtrhw"
      },
      "source": [
        "gdp_all_3 <- rbindlist(gdp, idcol = \"continent\", use.names = TRUE)"
      ],
      "execution_count": null,
      "outputs": []
    },
    {
      "cell_type": "markdown",
      "metadata": {
        "id": "WZfXTo5buFMc"
      },
      "source": [
        "# Set operations: rows in both datasets."
      ]
    },
    {
      "cell_type": "markdown",
      "metadata": {
        "id": "rA_sqbury4Lf"
      },
      "source": [
        "## fintersect, funion and fsetdiff"
      ]
    },
    {
      "cell_type": "code",
      "metadata": {
        "id": "gEAG27nzuKYE"
      },
      "source": [
        "# Obtain countries in both Asia and Europe\n",
        "fintersect(gdp$asia, gdp$europe)"
      ],
      "execution_count": null,
      "outputs": []
    },
    {
      "cell_type": "markdown",
      "metadata": {
        "id": "fHJ7sjKRyM_Z"
      },
      "source": [
        "containing all countries in either Europe or Asia, with each country appearing only once in the result.\n",
        "\n",
        "The difference between funion and rbindlist is tha funion gives a dataset without duplicates."
      ]
    },
    {
      "cell_type": "code",
      "metadata": {
        "id": "DKUTEM0wyMaq"
      },
      "source": [
        "# Get all countries in either Asia or Europe\n",
        "funion(gdp$asia, gdp$europe)"
      ],
      "execution_count": null,
      "outputs": []
    },
    {
      "cell_type": "code",
      "metadata": {
        "id": "ak4Ye6HNyRL5"
      },
      "source": [
        "# Which countries are in Africa but not considered part of the middle east?\n",
        "fsetdiff(gdp$africa, middle_east)\n",
        "\n",
        "# Which countries are in Asia but not considered part of the middle east?\n",
        "fsetdiff(gdp$asia, middle_east)\n",
        "\n",
        "# Which countries are in Europe but not considered part of the middle east?\n",
        "fsetdiff(gdp$europe, middle_east)\n",
        "\n",
        "\n",
        "# OR make it in just one line (gdp is a list by continents):\n",
        "lapply(gdp, fsetdiff, middle_east)"
      ],
      "execution_count": null,
      "outputs": []
    },
    {
      "cell_type": "markdown",
      "metadata": {
        "id": "2IpC_X6xzn2j"
      },
      "source": [
        "# From wide to long format"
      ]
    },
    {
      "cell_type": "markdown",
      "metadata": {
        "id": "QsK6eMBuz8hc"
      },
      "source": [
        "measure.vars specify columns to stack"
      ]
    },
    {
      "cell_type": "code",
      "metadata": {
        "id": "KuetVlH2zaAd"
      },
      "source": [
        "# melt\n",
        "melt(gdp_per_capita, id.vars = \"year\")\n",
        "\n",
        "# With column rename\n",
        "melt(gdp_per_capita, id.vars = \"year\", \n",
        "     variable.name = \"country\", value.name = \"gdp_pc\")"
      ],
      "execution_count": null,
      "outputs": []
    },
    {
      "cell_type": "markdown",
      "metadata": {
        "id": "SsmdACvg08Tq"
      },
      "source": [
        "By default the \"variable\" column in the result will be a factor. You can change this by setting variable.factor = FALSE."
      ]
    },
    {
      "cell_type": "code",
      "metadata": {
        "id": "p1kDhoHi010F"
      },
      "source": [
        "# Modify the code\n",
        "melt(ebola_wide, measure.vars = c(\"Week_50\", \"Week_51\"), \n",
        "     variable.name = \"period\", value.name = \"cases\", \n",
        "     id.vars = \"Location\")"
      ],
      "execution_count": null,
      "outputs": []
    },
    {
      "cell_type": "markdown",
      "metadata": {
        "id": "Uv0PdyFx2EQy"
      },
      "source": [
        "Using id.vars together with measure.vars keeps only those columns in the result."
      ]
    },
    {
      "cell_type": "markdown",
      "metadata": {
        "id": "u8p5ppaw2vqa"
      },
      "source": [
        "# From long to wide (data.table)"
      ]
    },
    {
      "cell_type": "code",
      "metadata": {
        "id": "r7EK0pTW2yBC"
      },
      "source": [
        "# Split the population column by year\n",
        "dcast(gdp_oceania, formula = country ~ year, value.var = \"population\")"
      ],
      "execution_count": null,
      "outputs": []
    },
    {
      "cell_type": "code",
      "metadata": {
        "id": "Jno1oQj05AWc"
      },
      "source": [
        "# Reshape from wide to long format\n",
        "wide <- dcast(gdp_oceania, formula = country ~ year, value.var = c(\"gdp\", \"population\"))\n",
        "\n",
        "# convert to a matrix\n",
        "as.matrix(wide, rownames = \"country\")"
      ],
      "execution_count": null,
      "outputs": []
    }
  ]
}