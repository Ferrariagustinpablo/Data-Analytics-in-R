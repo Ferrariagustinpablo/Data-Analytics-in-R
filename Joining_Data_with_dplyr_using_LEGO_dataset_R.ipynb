{
  "nbformat": 4,
  "nbformat_minor": 0,
  "metadata": {
    "colab": {
      "name": "Joining Data with dplyr using LEGO dataset - R",
      "provenance": [],
      "collapsed_sections": [],
      "toc_visible": true,
      "include_colab_link": true
    },
    "kernelspec": {
      "name": "ir",
      "display_name": "R"
    }
  },
  "cells": [
    {
      "cell_type": "markdown",
      "metadata": {
        "id": "view-in-github",
        "colab_type": "text"
      },
      "source": [
        "<a href=\"https://colab.research.google.com/github/Ferrariagustinpablo/Data-Analytics-in-R/blob/main/Joining_Data_with_dplyr_using_LEGO_dataset_R.ipynb\" target=\"_parent\"><img src=\"https://colab.research.google.com/assets/colab-badge.svg\" alt=\"Open In Colab\"/></a>"
      ]
    },
    {
      "cell_type": "markdown",
      "metadata": {
        "id": "cYE7mEi2ky38"
      },
      "source": [
        "# Import libraries"
      ]
    },
    {
      "cell_type": "code",
      "metadata": {
        "id": "RoD2lzL9Z3f_"
      },
      "source": [
        "# Load\n",
        "library(dplyr)\n",
        "library(ggplot2)\n",
        "library(tidyr)\n",
        "library(ggplot2)\n",
        "library(forcats) # for use of fct_reorder"
      ],
      "execution_count": 131,
      "outputs": []
    },
    {
      "cell_type": "markdown",
      "metadata": {
        "id": "497UvQa904ra"
      },
      "source": [
        "# Joining parts and part categories"
      ]
    },
    {
      "cell_type": "code",
      "metadata": {
        "colab": {
          "base_uri": "https://localhost:8080/"
        },
        "id": "ZgM4EBqqMfXv",
        "outputId": "e7887f41-6752-4853-ef9a-b8d6478313c1"
      },
      "source": [
        "# Reading parts dataset\n",
        "parts = read.csv(\"/content/parts.csv\")\n",
        "str(parts)\n",
        "\n",
        "# Reading parts_categories dataset\n",
        "part_categories = read.csv(\"/content/part_categories.csv\")\n",
        "str(part_categories)"
      ],
      "execution_count": 7,
      "outputs": [
        {
          "output_type": "stream",
          "text": [
            "'data.frame':\t35214 obs. of  4 variables:\n",
            " $ part_num        : chr  \"004229\" \"004284\" \"004285\" \"004490\" ...\n",
            " $ name            : chr  \"Sticker Sheet for Set 295-1\" \"Sticker Sheet for Set 723-2\" \"Sticker Sheet for Set 725-2\" \"Sticker Sheet for Set 365-1\" ...\n",
            " $ part_cat_id     : int  58 58 58 58 58 58 58 58 58 17 ...\n",
            " $ part_material_id: int  1 1 1 1 1 1 1 1 1 1 ...\n",
            "'data.frame':\t65 obs. of  2 variables:\n",
            " $ id  : int  1 3 4 5 6 7 8 9 11 12 ...\n",
            " $ name: chr  \"Baseplates\" \"Bricks Sloped\" \"Duplo, Quatro and Primo\" \"Bricks Special\" ...\n"
          ],
          "name": "stdout"
        }
      ]
    },
    {
      "cell_type": "markdown",
      "metadata": {
        "id": "KfBvd4xC1v_E"
      },
      "source": [
        "## Inner Join"
      ]
    },
    {
      "cell_type": "code",
      "metadata": {
        "colab": {
          "base_uri": "https://localhost:8080/",
          "height": 158
        },
        "id": "2a9EtC5L1dV3",
        "outputId": "c7ac9731-4279-4b46-9137-8d7139fafc3f"
      },
      "source": [
        "# Inner Join.\n",
        "parts %>% \n",
        "\tinner_join(part_categories, by = c(\"part_cat_id\" = \"id\")) %>%\n",
        "  head(2)"
      ],
      "execution_count": 8,
      "outputs": [
        {
          "output_type": "display_data",
          "data": {
            "text/plain": [
              "  part_num name.x                      part_cat_id part_material_id name.y  \n",
              "1 004229   Sticker Sheet for Set 295-1 58          1                Stickers\n",
              "2 004284   Sticker Sheet for Set 723-2 58          1                Stickers"
            ],
            "text/latex": "A data.frame: 2 × 5\n\\begin{tabular}{r|lllll}\n  & part\\_num & name.x & part\\_cat\\_id & part\\_material\\_id & name.y\\\\\n  & <chr> & <chr> & <int> & <int> & <chr>\\\\\n\\hline\n\t1 & 004229 & Sticker Sheet for Set 295-1 & 58 & 1 & Stickers\\\\\n\t2 & 004284 & Sticker Sheet for Set 723-2 & 58 & 1 & Stickers\\\\\n\\end{tabular}\n",
            "text/markdown": "\nA data.frame: 2 × 5\n\n| <!--/--> | part_num &lt;chr&gt; | name.x &lt;chr&gt; | part_cat_id &lt;int&gt; | part_material_id &lt;int&gt; | name.y &lt;chr&gt; |\n|---|---|---|---|---|---|\n| 1 | 004229 | Sticker Sheet for Set 295-1 | 58 | 1 | Stickers |\n| 2 | 004284 | Sticker Sheet for Set 723-2 | 58 | 1 | Stickers |\n\n",
            "text/html": [
              "<table class=\"dataframe\">\n",
              "<caption>A data.frame: 2 × 5</caption>\n",
              "<thead>\n",
              "\t<tr><th></th><th scope=col>part_num</th><th scope=col>name.x</th><th scope=col>part_cat_id</th><th scope=col>part_material_id</th><th scope=col>name.y</th></tr>\n",
              "\t<tr><th></th><th scope=col>&lt;chr&gt;</th><th scope=col>&lt;chr&gt;</th><th scope=col>&lt;int&gt;</th><th scope=col>&lt;int&gt;</th><th scope=col>&lt;chr&gt;</th></tr>\n",
              "</thead>\n",
              "<tbody>\n",
              "\t<tr><th scope=row>1</th><td>004229</td><td>Sticker Sheet for Set 295-1</td><td>58</td><td>1</td><td>Stickers</td></tr>\n",
              "\t<tr><th scope=row>2</th><td>004284</td><td>Sticker Sheet for Set 723-2</td><td>58</td><td>1</td><td>Stickers</td></tr>\n",
              "</tbody>\n",
              "</table>\n"
            ]
          },
          "metadata": {
            "tags": []
          }
        }
      ]
    },
    {
      "cell_type": "markdown",
      "metadata": {
        "id": "90ig_2or11ZG"
      },
      "source": [
        "## Inner Join adding suffixes"
      ]
    },
    {
      "cell_type": "code",
      "metadata": {
        "colab": {
          "base_uri": "https://localhost:8080/",
          "height": 158
        },
        "id": "aAX7uii71337",
        "outputId": "cf0d237d-0544-4a71-98a9-a25a3a396e10"
      },
      "source": [
        "# Inner Join.\n",
        "parts %>% \n",
        "\tinner_join(part_categories, by = c(\"part_cat_id\" = \"id\"), suffix = c(\"_part\", \"_category\")) %>%\n",
        "  head(2)"
      ],
      "execution_count": 9,
      "outputs": [
        {
          "output_type": "display_data",
          "data": {
            "text/plain": [
              "  part_num name_part                   part_cat_id part_material_id\n",
              "1 004229   Sticker Sheet for Set 295-1 58          1               \n",
              "2 004284   Sticker Sheet for Set 723-2 58          1               \n",
              "  name_category\n",
              "1 Stickers     \n",
              "2 Stickers     "
            ],
            "text/latex": "A data.frame: 2 × 5\n\\begin{tabular}{r|lllll}\n  & part\\_num & name\\_part & part\\_cat\\_id & part\\_material\\_id & name\\_category\\\\\n  & <chr> & <chr> & <int> & <int> & <chr>\\\\\n\\hline\n\t1 & 004229 & Sticker Sheet for Set 295-1 & 58 & 1 & Stickers\\\\\n\t2 & 004284 & Sticker Sheet for Set 723-2 & 58 & 1 & Stickers\\\\\n\\end{tabular}\n",
            "text/markdown": "\nA data.frame: 2 × 5\n\n| <!--/--> | part_num &lt;chr&gt; | name_part &lt;chr&gt; | part_cat_id &lt;int&gt; | part_material_id &lt;int&gt; | name_category &lt;chr&gt; |\n|---|---|---|---|---|---|\n| 1 | 004229 | Sticker Sheet for Set 295-1 | 58 | 1 | Stickers |\n| 2 | 004284 | Sticker Sheet for Set 723-2 | 58 | 1 | Stickers |\n\n",
            "text/html": [
              "<table class=\"dataframe\">\n",
              "<caption>A data.frame: 2 × 5</caption>\n",
              "<thead>\n",
              "\t<tr><th></th><th scope=col>part_num</th><th scope=col>name_part</th><th scope=col>part_cat_id</th><th scope=col>part_material_id</th><th scope=col>name_category</th></tr>\n",
              "\t<tr><th></th><th scope=col>&lt;chr&gt;</th><th scope=col>&lt;chr&gt;</th><th scope=col>&lt;int&gt;</th><th scope=col>&lt;int&gt;</th><th scope=col>&lt;chr&gt;</th></tr>\n",
              "</thead>\n",
              "<tbody>\n",
              "\t<tr><th scope=row>1</th><td>004229</td><td>Sticker Sheet for Set 295-1</td><td>58</td><td>1</td><td>Stickers</td></tr>\n",
              "\t<tr><th scope=row>2</th><td>004284</td><td>Sticker Sheet for Set 723-2</td><td>58</td><td>1</td><td>Stickers</td></tr>\n",
              "</tbody>\n",
              "</table>\n"
            ]
          },
          "metadata": {
            "tags": []
          }
        }
      ]
    },
    {
      "cell_type": "markdown",
      "metadata": {
        "id": "I2XNUsv03BqF"
      },
      "source": [
        "# Joining parts and inventory_parts"
      ]
    },
    {
      "cell_type": "code",
      "metadata": {
        "colab": {
          "base_uri": "https://localhost:8080/"
        },
        "id": "UQNj8KIS3JBr",
        "outputId": "77ca7aa4-b8bd-4724-9640-4900ff64106d"
      },
      "source": [
        "# Display columns of parts\n",
        "str(parts)\n",
        "\n",
        "# Reading inventory_parts dataset\n",
        "inventory_parts = read.csv(\"/content/inventory_parts.csv\")\n",
        "str(inventory_parts)"
      ],
      "execution_count": 10,
      "outputs": [
        {
          "output_type": "stream",
          "text": [
            "'data.frame':\t35214 obs. of  4 variables:\n",
            " $ part_num        : chr  \"004229\" \"004284\" \"004285\" \"004490\" ...\n",
            " $ name            : chr  \"Sticker Sheet for Set 295-1\" \"Sticker Sheet for Set 723-2\" \"Sticker Sheet for Set 725-2\" \"Sticker Sheet for Set 365-1\" ...\n",
            " $ part_cat_id     : int  58 58 58 58 58 58 58 58 58 17 ...\n",
            " $ part_material_id: int  1 1 1 1 1 1 1 1 1 1 ...\n",
            "'data.frame':\t815847 obs. of  5 variables:\n",
            " $ inventory_id: int  1 1 1 1 3 3 3 3 3 3 ...\n",
            " $ part_num    : chr  \"48379c01\" \"48395\" \"mcsport6\" \"paddle\" ...\n",
            " $ color_id    : int  72 7 25 0 78 47 29 2 15 15 ...\n",
            " $ quantity    : int  1 1 1 1 1 1 1 1 1 2 ...\n",
            " $ is_spare    : chr  \"f\" \"f\" \"f\" \"f\" ...\n"
          ],
          "name": "stdout"
        }
      ]
    },
    {
      "cell_type": "code",
      "metadata": {
        "colab": {
          "base_uri": "https://localhost:8080/",
          "height": 35
        },
        "id": "op1bB1e33Y82",
        "outputId": "7765171b-9b59-440e-f058-e4607eb0c2b5"
      },
      "source": [
        "# I can join by part_num\n",
        "parts %>%\n",
        "\tinner_join(inventory_parts, by = \"part_num\") %>%\n",
        "  dim()\n",
        "\n",
        "# one-to-many relationship exists between these two tables."
      ],
      "execution_count": 11,
      "outputs": [
        {
          "output_type": "display_data",
          "data": {
            "text/plain": [
              "[1] 815847      8"
            ],
            "text/latex": "\\begin{enumerate*}\n\\item 815847\n\\item 8\n\\end{enumerate*}\n",
            "text/markdown": "1. 815847\n2. 8\n\n\n",
            "text/html": [
              "<style>\n",
              ".list-inline {list-style: none; margin:0; padding: 0}\n",
              ".list-inline>li {display: inline-block}\n",
              ".list-inline>li:not(:last-child)::after {content: \"\\00b7\"; padding: 0 .5ex}\n",
              "</style>\n",
              "<ol class=list-inline><li>815847</li><li>8</li></ol>\n"
            ]
          },
          "metadata": {
            "tags": []
          }
        }
      ]
    },
    {
      "cell_type": "markdown",
      "metadata": {
        "id": "6zRMtl3W5FJQ"
      },
      "source": [
        "# What's the most common color?"
      ]
    },
    {
      "cell_type": "code",
      "metadata": {
        "colab": {
          "base_uri": "https://localhost:8080/"
        },
        "id": "A45mmfBv5fcO",
        "outputId": "8d269da0-e2a3-4bb0-8194-07c986f58e44"
      },
      "source": [
        "# Reading inventory dataset\n",
        "inventories = read.csv(\"//content/inventories.csv\")\n",
        "str(inventories)\n",
        "\n",
        "# Reading colors dataset\n",
        "colors = read.csv(\"/content/colors.csv\")\n",
        "str(colors)\n",
        "\n",
        "# Reading sets dataset\n",
        "sets = read.csv(\"/content/sets.csv\")\n",
        "str(sets)"
      ],
      "execution_count": 12,
      "outputs": [
        {
          "output_type": "stream",
          "text": [
            "'data.frame':\t15990 obs. of  3 variables:\n",
            " $ id     : int  1 3 4 15 16 17 19 21 22 25 ...\n",
            " $ version: int  1 1 1 1 1 1 1 1 1 1 ...\n",
            " $ set_num: chr  \"7922-1\" \"3931-1\" \"6942-1\" \"5158-1\" ...\n",
            "'data.frame':\t184 obs. of  4 variables:\n",
            " $ id      : int  -1 0 1 2 3 4 5 6 7 8 ...\n",
            " $ name    : chr  \"[Unknown]\" \"Black\" \"Blue\" \"Green\" ...\n",
            " $ rgb     : chr  \"0033B2\" \"05131D\" \"0055BF\" \"237841\" ...\n",
            " $ is_trans: chr  \"f\" \"f\" \"f\" \"f\" ...\n",
            "'data.frame':\t15666 obs. of  5 variables:\n",
            " $ set_num  : chr  \"001-1\" \"0011-2\" \"0011-3\" \"0012-1\" ...\n",
            " $ name     : chr  \"Gears\" \"Town Mini-Figures\" \"Castle 2 for 1 Bonus Offer\" \"Space Mini-Figures\" ...\n",
            " $ year     : int  1965 1978 1987 1979 1979 1979 1979 1978 1965 1966 ...\n",
            " $ theme_id : int  1 84 199 143 143 143 143 186 1 366 ...\n",
            " $ num_parts: int  43 12 0 12 12 12 18 15 3 403 ...\n"
          ],
          "name": "stdout"
        }
      ]
    },
    {
      "cell_type": "markdown",
      "metadata": {
        "id": "nOEJ6-Pw5Xrn"
      },
      "source": [
        "## Multiple joins sets, inv, inv_parts and colors."
      ]
    },
    {
      "cell_type": "code",
      "metadata": {
        "id": "Bll3cs8F5F3K"
      },
      "source": [
        "# Inner join for the colors table\n",
        "df <- sets %>%\n",
        "\tinner_join(inventories, by = \"set_num\") %>%\n",
        "\tinner_join(inventory_parts, by = c(\"id\" = \"inventory_id\")) %>%\n",
        "\tinner_join(colors, by = c(\"color_id\" = \"id\"), suffix = c(\"_set\", \"_color\"))"
      ],
      "execution_count": 13,
      "outputs": []
    },
    {
      "cell_type": "markdown",
      "metadata": {
        "id": "MlFuwiHQ7e3v"
      },
      "source": [
        "## Top 5 common colors with count()"
      ]
    },
    {
      "cell_type": "code",
      "metadata": {
        "colab": {
          "base_uri": "https://localhost:8080/",
          "height": 250
        },
        "id": "LRUqCO0J7D21",
        "outputId": "f2743a33-d2d1-475f-866b-620e2189c3e1"
      },
      "source": [
        "# Top 5 common colors\n",
        "df %>%\n",
        "  count(name_color, sort=TRUE) %>%\n",
        "  head(5)"
      ],
      "execution_count": 14,
      "outputs": [
        {
          "output_type": "display_data",
          "data": {
            "text/plain": [
              "  name_color        n     \n",
              "1 Black             151078\n",
              "2 White              92820\n",
              "3 Light Bluish Gray  82331\n",
              "4 Red                67427\n",
              "5 Dark Bluish Gray   63107"
            ],
            "text/latex": "A data.frame: 5 × 2\n\\begin{tabular}{r|ll}\n  & name\\_color & n\\\\\n  & <chr> & <int>\\\\\n\\hline\n\t1 & Black             & 151078\\\\\n\t2 & White             &  92820\\\\\n\t3 & Light Bluish Gray &  82331\\\\\n\t4 & Red               &  67427\\\\\n\t5 & Dark Bluish Gray  &  63107\\\\\n\\end{tabular}\n",
            "text/markdown": "\nA data.frame: 5 × 2\n\n| <!--/--> | name_color &lt;chr&gt; | n &lt;int&gt; |\n|---|---|---|\n| 1 | Black             | 151078 |\n| 2 | White             |  92820 |\n| 3 | Light Bluish Gray |  82331 |\n| 4 | Red               |  67427 |\n| 5 | Dark Bluish Gray  |  63107 |\n\n",
            "text/html": [
              "<table class=\"dataframe\">\n",
              "<caption>A data.frame: 5 × 2</caption>\n",
              "<thead>\n",
              "\t<tr><th></th><th scope=col>name_color</th><th scope=col>n</th></tr>\n",
              "\t<tr><th></th><th scope=col>&lt;chr&gt;</th><th scope=col>&lt;int&gt;</th></tr>\n",
              "</thead>\n",
              "<tbody>\n",
              "\t<tr><th scope=row>1</th><td>Black            </td><td>151078</td></tr>\n",
              "\t<tr><th scope=row>2</th><td>White            </td><td> 92820</td></tr>\n",
              "\t<tr><th scope=row>3</th><td>Light Bluish Gray</td><td> 82331</td></tr>\n",
              "\t<tr><th scope=row>4</th><td>Red              </td><td> 67427</td></tr>\n",
              "\t<tr><th scope=row>5</th><td>Dark Bluish Gray </td><td> 63107</td></tr>\n",
              "</tbody>\n",
              "</table>\n"
            ]
          },
          "metadata": {
            "tags": []
          }
        }
      ]
    },
    {
      "cell_type": "markdown",
      "metadata": {
        "id": "ExmG9ly_9J7m"
      },
      "source": [
        "# Difference between datasets"
      ]
    },
    {
      "cell_type": "markdown",
      "metadata": {
        "id": "jBq4AXD59Mdx"
      },
      "source": [
        "## Example Batmobile and Batwing"
      ]
    },
    {
      "cell_type": "code",
      "metadata": {
        "colab": {
          "base_uri": "https://localhost:8080/",
          "height": 158
        },
        "id": "vg09CF4U-77-",
        "outputId": "912b5147-5458-4306-c8bb-35f8b739fcec"
      },
      "source": [
        "# Inner join \n",
        "inventory_joined <- inventories %>%\n",
        "\tinner_join(inventory_parts, by = c(\"id\" = \"inventory_id\")) %>%\n",
        "  select(-id, -version) # removing columns we won't use\n",
        "\n",
        "head(inventory_joined, 2)"
      ],
      "execution_count": 15,
      "outputs": [
        {
          "output_type": "display_data",
          "data": {
            "text/plain": [
              "  set_num part_num color_id quantity is_spare\n",
              "1 7922-1  48379c01 72       1        f       \n",
              "2 7922-1  48395     7       1        f       "
            ],
            "text/latex": "A data.frame: 2 × 5\n\\begin{tabular}{r|lllll}\n  & set\\_num & part\\_num & color\\_id & quantity & is\\_spare\\\\\n  & <chr> & <chr> & <int> & <int> & <chr>\\\\\n\\hline\n\t1 & 7922-1 & 48379c01 & 72 & 1 & f\\\\\n\t2 & 7922-1 & 48395    &  7 & 1 & f\\\\\n\\end{tabular}\n",
            "text/markdown": "\nA data.frame: 2 × 5\n\n| <!--/--> | set_num &lt;chr&gt; | part_num &lt;chr&gt; | color_id &lt;int&gt; | quantity &lt;int&gt; | is_spare &lt;chr&gt; |\n|---|---|---|---|---|---|\n| 1 | 7922-1 | 48379c01 | 72 | 1 | f |\n| 2 | 7922-1 | 48395    |  7 | 1 | f |\n\n",
            "text/html": [
              "<table class=\"dataframe\">\n",
              "<caption>A data.frame: 2 × 5</caption>\n",
              "<thead>\n",
              "\t<tr><th></th><th scope=col>set_num</th><th scope=col>part_num</th><th scope=col>color_id</th><th scope=col>quantity</th><th scope=col>is_spare</th></tr>\n",
              "\t<tr><th></th><th scope=col>&lt;chr&gt;</th><th scope=col>&lt;chr&gt;</th><th scope=col>&lt;int&gt;</th><th scope=col>&lt;int&gt;</th><th scope=col>&lt;chr&gt;</th></tr>\n",
              "</thead>\n",
              "<tbody>\n",
              "\t<tr><th scope=row>1</th><td>7922-1</td><td>48379c01</td><td>72</td><td>1</td><td>f</td></tr>\n",
              "\t<tr><th scope=row>2</th><td>7922-1</td><td>48395   </td><td> 7</td><td>1</td><td>f</td></tr>\n",
              "</tbody>\n",
              "</table>\n"
            ]
          },
          "metadata": {
            "tags": []
          }
        }
      ]
    },
    {
      "cell_type": "markdown",
      "metadata": {
        "id": "gqzBNl3IFgo-"
      },
      "source": [
        "## Filter with string pattern"
      ]
    },
    {
      "cell_type": "code",
      "metadata": {
        "colab": {
          "base_uri": "https://localhost:8080/",
          "height": 165
        },
        "id": "9OnBkiWU7K5Y",
        "outputId": "a9f7327e-0656-44e5-c3fd-e1531d977c9d"
      },
      "source": [
        "# Find out what set_num is Batwing\n",
        "df %>%\n",
        "  filter(grepl(pattern = \"Batwing\", x=name_set)) %>%\n",
        "  head(1)"
      ],
      "execution_count": 16,
      "outputs": [
        {
          "output_type": "display_data",
          "data": {
            "text/plain": [
              "  set_num name_set          year theme_id num_parts id    version part_num\n",
              "1 10823-1 Batwing Adventure 2017 653      28        19553 1       12592c02\n",
              "  color_id quantity is_spare name_color rgb    is_trans\n",
              "1 0        1        f        Black      05131D f       "
            ],
            "text/latex": "A data.frame: 1 × 14\n\\begin{tabular}{r|llllllllllllll}\n  & set\\_num & name\\_set & year & theme\\_id & num\\_parts & id & version & part\\_num & color\\_id & quantity & is\\_spare & name\\_color & rgb & is\\_trans\\\\\n  & <chr> & <chr> & <int> & <int> & <int> & <int> & <int> & <chr> & <int> & <int> & <chr> & <chr> & <chr> & <chr>\\\\\n\\hline\n\t1 & 10823-1 & Batwing Adventure & 2017 & 653 & 28 & 19553 & 1 & 12592c02 & 0 & 1 & f & Black & 05131D & f\\\\\n\\end{tabular}\n",
            "text/markdown": "\nA data.frame: 1 × 14\n\n| <!--/--> | set_num &lt;chr&gt; | name_set &lt;chr&gt; | year &lt;int&gt; | theme_id &lt;int&gt; | num_parts &lt;int&gt; | id &lt;int&gt; | version &lt;int&gt; | part_num &lt;chr&gt; | color_id &lt;int&gt; | quantity &lt;int&gt; | is_spare &lt;chr&gt; | name_color &lt;chr&gt; | rgb &lt;chr&gt; | is_trans &lt;chr&gt; |\n|---|---|---|---|---|---|---|---|---|---|---|---|---|---|---|\n| 1 | 10823-1 | Batwing Adventure | 2017 | 653 | 28 | 19553 | 1 | 12592c02 | 0 | 1 | f | Black | 05131D | f |\n\n",
            "text/html": [
              "<table class=\"dataframe\">\n",
              "<caption>A data.frame: 1 × 14</caption>\n",
              "<thead>\n",
              "\t<tr><th></th><th scope=col>set_num</th><th scope=col>name_set</th><th scope=col>year</th><th scope=col>theme_id</th><th scope=col>num_parts</th><th scope=col>id</th><th scope=col>version</th><th scope=col>part_num</th><th scope=col>color_id</th><th scope=col>quantity</th><th scope=col>is_spare</th><th scope=col>name_color</th><th scope=col>rgb</th><th scope=col>is_trans</th></tr>\n",
              "\t<tr><th></th><th scope=col>&lt;chr&gt;</th><th scope=col>&lt;chr&gt;</th><th scope=col>&lt;int&gt;</th><th scope=col>&lt;int&gt;</th><th scope=col>&lt;int&gt;</th><th scope=col>&lt;int&gt;</th><th scope=col>&lt;int&gt;</th><th scope=col>&lt;chr&gt;</th><th scope=col>&lt;int&gt;</th><th scope=col>&lt;int&gt;</th><th scope=col>&lt;chr&gt;</th><th scope=col>&lt;chr&gt;</th><th scope=col>&lt;chr&gt;</th><th scope=col>&lt;chr&gt;</th></tr>\n",
              "</thead>\n",
              "<tbody>\n",
              "\t<tr><th scope=row>1</th><td>10823-1</td><td>Batwing Adventure</td><td>2017</td><td>653</td><td>28</td><td>19553</td><td>1</td><td>12592c02</td><td>0</td><td>1</td><td>f</td><td>Black</td><td>05131D</td><td>f</td></tr>\n",
              "</tbody>\n",
              "</table>\n"
            ]
          },
          "metadata": {
            "tags": []
          }
        }
      ]
    },
    {
      "cell_type": "code",
      "metadata": {
        "colab": {
          "base_uri": "https://localhost:8080/",
          "height": 237
        },
        "id": "GWgrjRnG9QVn",
        "outputId": "8dfdfa43-c3d5-495b-a44f-5a8e925b6adb"
      },
      "source": [
        "# Create two datasets\n",
        "batmobile <- inventory_joined %>%\n",
        "  filter(set_num == \"7784-1\")\n",
        "\n",
        "batwing <- inventory_joined %>%\n",
        "  filter(set_num == \"30301-1\")\n",
        "\n",
        "head(batmobile,1)\n",
        "head(batwing,1)"
      ],
      "execution_count": 17,
      "outputs": [
        {
          "output_type": "display_data",
          "data": {
            "text/plain": [
              "  set_num part_num color_id quantity is_spare\n",
              "1 7784-1  2339     0        12       f       "
            ],
            "text/latex": "A data.frame: 1 × 5\n\\begin{tabular}{r|lllll}\n  & set\\_num & part\\_num & color\\_id & quantity & is\\_spare\\\\\n  & <chr> & <chr> & <int> & <int> & <chr>\\\\\n\\hline\n\t1 & 7784-1 & 2339 & 0 & 12 & f\\\\\n\\end{tabular}\n",
            "text/markdown": "\nA data.frame: 1 × 5\n\n| <!--/--> | set_num &lt;chr&gt; | part_num &lt;chr&gt; | color_id &lt;int&gt; | quantity &lt;int&gt; | is_spare &lt;chr&gt; |\n|---|---|---|---|---|---|\n| 1 | 7784-1 | 2339 | 0 | 12 | f |\n\n",
            "text/html": [
              "<table class=\"dataframe\">\n",
              "<caption>A data.frame: 1 × 5</caption>\n",
              "<thead>\n",
              "\t<tr><th></th><th scope=col>set_num</th><th scope=col>part_num</th><th scope=col>color_id</th><th scope=col>quantity</th><th scope=col>is_spare</th></tr>\n",
              "\t<tr><th></th><th scope=col>&lt;chr&gt;</th><th scope=col>&lt;chr&gt;</th><th scope=col>&lt;int&gt;</th><th scope=col>&lt;int&gt;</th><th scope=col>&lt;chr&gt;</th></tr>\n",
              "</thead>\n",
              "<tbody>\n",
              "\t<tr><th scope=row>1</th><td>7784-1</td><td>2339</td><td>0</td><td>12</td><td>f</td></tr>\n",
              "</tbody>\n",
              "</table>\n"
            ]
          },
          "metadata": {
            "tags": []
          }
        },
        {
          "output_type": "display_data",
          "data": {
            "text/plain": [
              "  set_num part_num color_id quantity is_spare\n",
              "1 30301-1 10247    14       1        f       "
            ],
            "text/latex": "A data.frame: 1 × 5\n\\begin{tabular}{r|lllll}\n  & set\\_num & part\\_num & color\\_id & quantity & is\\_spare\\\\\n  & <chr> & <chr> & <int> & <int> & <chr>\\\\\n\\hline\n\t1 & 30301-1 & 10247 & 14 & 1 & f\\\\\n\\end{tabular}\n",
            "text/markdown": "\nA data.frame: 1 × 5\n\n| <!--/--> | set_num &lt;chr&gt; | part_num &lt;chr&gt; | color_id &lt;int&gt; | quantity &lt;int&gt; | is_spare &lt;chr&gt; |\n|---|---|---|---|---|---|\n| 1 | 30301-1 | 10247 | 14 | 1 | f |\n\n",
            "text/html": [
              "<table class=\"dataframe\">\n",
              "<caption>A data.frame: 1 × 5</caption>\n",
              "<thead>\n",
              "\t<tr><th></th><th scope=col>set_num</th><th scope=col>part_num</th><th scope=col>color_id</th><th scope=col>quantity</th><th scope=col>is_spare</th></tr>\n",
              "\t<tr><th></th><th scope=col>&lt;chr&gt;</th><th scope=col>&lt;chr&gt;</th><th scope=col>&lt;int&gt;</th><th scope=col>&lt;int&gt;</th><th scope=col>&lt;chr&gt;</th></tr>\n",
              "</thead>\n",
              "<tbody>\n",
              "\t<tr><th scope=row>1</th><td>30301-1</td><td>10247</td><td>14</td><td>1</td><td>f</td></tr>\n",
              "</tbody>\n",
              "</table>\n"
            ]
          },
          "metadata": {
            "tags": []
          }
        }
      ]
    },
    {
      "cell_type": "markdown",
      "metadata": {
        "id": "vJnt7WV-A45P"
      },
      "source": [
        "## What parts are in common between batmobiles"
      ]
    },
    {
      "cell_type": "code",
      "metadata": {
        "colab": {
          "base_uri": "https://localhost:8080/",
          "height": 281
        },
        "id": "WXuaV3NhCRfS",
        "outputId": "1be9dfdc-52f3-4bd5-b9a7-cd06cf3fd541"
      },
      "source": [
        "# Combine both\n",
        "bat_inner = batmobile %>%\n",
        "  inner_join(batwing, by = c(\"part_num\", \"color_id\"), suffix = c(\"_batmobile\", \"_batwing\")) %>%\n",
        "  select(part_num, quantity_batmobile, quantity_batwing, color_id)\n",
        "\n",
        "head(bat_inner)"
      ],
      "execution_count": 59,
      "outputs": [
        {
          "output_type": "display_data",
          "data": {
            "text/plain": [
              "  part_num quantity_batmobile quantity_batwing color_id\n",
              "1 3020      3                 1                72      \n",
              "2 3832      4                 1                 0      \n",
              "3 43722     1                 2                 0      \n",
              "4 43723     1                 2                 0      \n",
              "5 54200    10                 1                 0      \n",
              "6 54200    10                 2                 0      "
            ],
            "text/latex": "A data.frame: 6 × 4\n\\begin{tabular}{r|llll}\n  & part\\_num & quantity\\_batmobile & quantity\\_batwing & color\\_id\\\\\n  & <chr> & <int> & <int> & <int>\\\\\n\\hline\n\t1 & 3020  &  3 & 1 & 72\\\\\n\t2 & 3832  &  4 & 1 &  0\\\\\n\t3 & 43722 &  1 & 2 &  0\\\\\n\t4 & 43723 &  1 & 2 &  0\\\\\n\t5 & 54200 & 10 & 1 &  0\\\\\n\t6 & 54200 & 10 & 2 &  0\\\\\n\\end{tabular}\n",
            "text/markdown": "\nA data.frame: 6 × 4\n\n| <!--/--> | part_num &lt;chr&gt; | quantity_batmobile &lt;int&gt; | quantity_batwing &lt;int&gt; | color_id &lt;int&gt; |\n|---|---|---|---|---|\n| 1 | 3020  |  3 | 1 | 72 |\n| 2 | 3832  |  4 | 1 |  0 |\n| 3 | 43722 |  1 | 2 |  0 |\n| 4 | 43723 |  1 | 2 |  0 |\n| 5 | 54200 | 10 | 1 |  0 |\n| 6 | 54200 | 10 | 2 |  0 |\n\n",
            "text/html": [
              "<table class=\"dataframe\">\n",
              "<caption>A data.frame: 6 × 4</caption>\n",
              "<thead>\n",
              "\t<tr><th></th><th scope=col>part_num</th><th scope=col>quantity_batmobile</th><th scope=col>quantity_batwing</th><th scope=col>color_id</th></tr>\n",
              "\t<tr><th></th><th scope=col>&lt;chr&gt;</th><th scope=col>&lt;int&gt;</th><th scope=col>&lt;int&gt;</th><th scope=col>&lt;int&gt;</th></tr>\n",
              "</thead>\n",
              "<tbody>\n",
              "\t<tr><th scope=row>1</th><td>3020 </td><td> 3</td><td>1</td><td>72</td></tr>\n",
              "\t<tr><th scope=row>2</th><td>3832 </td><td> 4</td><td>1</td><td> 0</td></tr>\n",
              "\t<tr><th scope=row>3</th><td>43722</td><td> 1</td><td>2</td><td> 0</td></tr>\n",
              "\t<tr><th scope=row>4</th><td>43723</td><td> 1</td><td>2</td><td> 0</td></tr>\n",
              "\t<tr><th scope=row>5</th><td>54200</td><td>10</td><td>1</td><td> 0</td></tr>\n",
              "\t<tr><th scope=row>6</th><td>54200</td><td>10</td><td>2</td><td> 0</td></tr>\n",
              "</tbody>\n",
              "</table>\n"
            ]
          },
          "metadata": {
            "tags": []
          }
        }
      ]
    },
    {
      "cell_type": "code",
      "metadata": {
        "colab": {
          "base_uri": "https://localhost:8080/",
          "height": 158
        },
        "id": "8KTnloUF8r63",
        "outputId": "a2fab4c9-6024-46c0-ea5f-44ee642eed0b"
      },
      "source": [
        "head(batmobile,2)"
      ],
      "execution_count": 64,
      "outputs": [
        {
          "output_type": "display_data",
          "data": {
            "text/plain": [
              "  set_num part_num color_id quantity is_spare\n",
              "1 7784-1  2339     0        12       f       \n",
              "2 7784-1  2357     0         6       f       "
            ],
            "text/latex": "A data.frame: 2 × 5\n\\begin{tabular}{r|lllll}\n  & set\\_num & part\\_num & color\\_id & quantity & is\\_spare\\\\\n  & <chr> & <chr> & <int> & <int> & <chr>\\\\\n\\hline\n\t1 & 7784-1 & 2339 & 0 & 12 & f\\\\\n\t2 & 7784-1 & 2357 & 0 &  6 & f\\\\\n\\end{tabular}\n",
            "text/markdown": "\nA data.frame: 2 × 5\n\n| <!--/--> | set_num &lt;chr&gt; | part_num &lt;chr&gt; | color_id &lt;int&gt; | quantity &lt;int&gt; | is_spare &lt;chr&gt; |\n|---|---|---|---|---|---|\n| 1 | 7784-1 | 2339 | 0 | 12 | f |\n| 2 | 7784-1 | 2357 | 0 |  6 | f |\n\n",
            "text/html": [
              "<table class=\"dataframe\">\n",
              "<caption>A data.frame: 2 × 5</caption>\n",
              "<thead>\n",
              "\t<tr><th></th><th scope=col>set_num</th><th scope=col>part_num</th><th scope=col>color_id</th><th scope=col>quantity</th><th scope=col>is_spare</th></tr>\n",
              "\t<tr><th></th><th scope=col>&lt;chr&gt;</th><th scope=col>&lt;chr&gt;</th><th scope=col>&lt;int&gt;</th><th scope=col>&lt;int&gt;</th><th scope=col>&lt;chr&gt;</th></tr>\n",
              "</thead>\n",
              "<tbody>\n",
              "\t<tr><th scope=row>1</th><td>7784-1</td><td>2339</td><td>0</td><td>12</td><td>f</td></tr>\n",
              "\t<tr><th scope=row>2</th><td>7784-1</td><td>2357</td><td>0</td><td> 6</td><td>f</td></tr>\n",
              "</tbody>\n",
              "</table>\n"
            ]
          },
          "metadata": {
            "tags": []
          }
        }
      ]
    },
    {
      "cell_type": "code",
      "metadata": {
        "colab": {
          "base_uri": "https://localhost:8080/",
          "height": 193
        },
        "id": "ke4gr4Mw_vH9",
        "outputId": "f08ae124-dc4b-47ae-a258-8b2d0958915b"
      },
      "source": [
        "batmobile %>%\n",
        "  group_by(part_num, color_id) %>%\n",
        "  summarize(sum(quantity)) %>%\n",
        "  head(2)"
      ],
      "execution_count": 68,
      "outputs": [
        {
          "output_type": "stream",
          "text": [
            "`summarise()` has grouped output by 'part_num'. You can override using the `.groups` argument.\n",
            "\n"
          ],
          "name": "stderr"
        },
        {
          "output_type": "display_data",
          "data": {
            "text/plain": [
              "  part_num color_id sum(quantity)\n",
              "1 2339     0        12           \n",
              "2 2357     0         6           "
            ],
            "text/latex": "A grouped\\_df: 2 × 3\n\\begin{tabular}{lll}\n part\\_num & color\\_id & sum(quantity)\\\\\n <chr> & <int> & <int>\\\\\n\\hline\n\t 2339 & 0 & 12\\\\\n\t 2357 & 0 &  6\\\\\n\\end{tabular}\n",
            "text/markdown": "\nA grouped_df: 2 × 3\n\n| part_num &lt;chr&gt; | color_id &lt;int&gt; | sum(quantity) &lt;int&gt; |\n|---|---|---|\n| 2339 | 0 | 12 |\n| 2357 | 0 |  6 |\n\n",
            "text/html": [
              "<table class=\"dataframe\">\n",
              "<caption>A grouped_df: 2 × 3</caption>\n",
              "<thead>\n",
              "\t<tr><th scope=col>part_num</th><th scope=col>color_id</th><th scope=col>sum(quantity)</th></tr>\n",
              "\t<tr><th scope=col>&lt;chr&gt;</th><th scope=col>&lt;int&gt;</th><th scope=col>&lt;int&gt;</th></tr>\n",
              "</thead>\n",
              "<tbody>\n",
              "\t<tr><td>2339</td><td>0</td><td>12</td></tr>\n",
              "\t<tr><td>2357</td><td>0</td><td> 6</td></tr>\n",
              "</tbody>\n",
              "</table>\n"
            ]
          },
          "metadata": {
            "tags": []
          }
        }
      ]
    },
    {
      "cell_type": "markdown",
      "metadata": {
        "id": "tWp3Yq4wGiJg"
      },
      "source": [
        "## How many part_num are different?"
      ]
    },
    {
      "cell_type": "code",
      "metadata": {
        "colab": {
          "base_uri": "https://localhost:8080/",
          "height": 35
        },
        "id": "qQzB3MOy9T0s",
        "outputId": "484ab30f-dc16-48c7-85b8-2670c3e28287"
      },
      "source": [
        "# Combine both\n",
        "batmobile %>%\n",
        "  full_join(batwing, by = c(\"part_num\", \"color_id\"), suffix = c(\"_batmobile\", \"_batwing\")) %>%\n",
        "  select(part_num, quantity_batmobile, quantity_batwing) %>%\n",
        "  filter(is.na(quantity_batmobile)|is.na(quantity_batwing)) %>%\n",
        "  dim()"
      ],
      "execution_count": 19,
      "outputs": [
        {
          "output_type": "display_data",
          "data": {
            "text/plain": [
              "[1] 189   3"
            ],
            "text/latex": "\\begin{enumerate*}\n\\item 189\n\\item 3\n\\end{enumerate*}\n",
            "text/markdown": "1. 189\n2. 3\n\n\n",
            "text/html": [
              "<style>\n",
              ".list-inline {list-style: none; margin:0; padding: 0}\n",
              ".list-inline>li {display: inline-block}\n",
              ".list-inline>li:not(:last-child)::after {content: \"\\00b7\"; padding: 0 .5ex}\n",
              "</style>\n",
              "<ol class=list-inline><li>189</li><li>3</li></ol>\n"
            ]
          },
          "metadata": {
            "tags": []
          }
        }
      ]
    },
    {
      "cell_type": "markdown",
      "metadata": {
        "id": "9lJbGWx42w-g"
      },
      "source": [
        "# Join table with itself when hierarchical"
      ]
    },
    {
      "cell_type": "code",
      "metadata": {
        "colab": {
          "base_uri": "https://localhost:8080/",
          "height": 281
        },
        "id": "P6YP2lXV06Sv",
        "outputId": "5bf72501-9add-48a8-f094-540d1bd40bdc"
      },
      "source": [
        "# Reading themes dataset\n",
        "themes = read.csv(\"/content/themes.csv\")\n",
        "head(themes)"
      ],
      "execution_count": 49,
      "outputs": [
        {
          "output_type": "display_data",
          "data": {
            "text/plain": [
              "  id name           parent_id\n",
              "1 1  Technic        NA       \n",
              "2 2  Arctic Technic  1       \n",
              "3 3  Competition     1       \n",
              "4 4  Expert Builder  1       \n",
              "5 5  Model           1       \n",
              "6 6  Airport         5       "
            ],
            "text/latex": "A data.frame: 6 × 3\n\\begin{tabular}{r|lll}\n  & id & name & parent\\_id\\\\\n  & <int> & <chr> & <int>\\\\\n\\hline\n\t1 & 1 & Technic        & NA\\\\\n\t2 & 2 & Arctic Technic &  1\\\\\n\t3 & 3 & Competition    &  1\\\\\n\t4 & 4 & Expert Builder &  1\\\\\n\t5 & 5 & Model          &  1\\\\\n\t6 & 6 & Airport        &  5\\\\\n\\end{tabular}\n",
            "text/markdown": "\nA data.frame: 6 × 3\n\n| <!--/--> | id &lt;int&gt; | name &lt;chr&gt; | parent_id &lt;int&gt; |\n|---|---|---|---|\n| 1 | 1 | Technic        | NA |\n| 2 | 2 | Arctic Technic |  1 |\n| 3 | 3 | Competition    |  1 |\n| 4 | 4 | Expert Builder |  1 |\n| 5 | 5 | Model          |  1 |\n| 6 | 6 | Airport        |  5 |\n\n",
            "text/html": [
              "<table class=\"dataframe\">\n",
              "<caption>A data.frame: 6 × 3</caption>\n",
              "<thead>\n",
              "\t<tr><th></th><th scope=col>id</th><th scope=col>name</th><th scope=col>parent_id</th></tr>\n",
              "\t<tr><th></th><th scope=col>&lt;int&gt;</th><th scope=col>&lt;chr&gt;</th><th scope=col>&lt;int&gt;</th></tr>\n",
              "</thead>\n",
              "<tbody>\n",
              "\t<tr><th scope=row>1</th><td>1</td><td>Technic       </td><td>NA</td></tr>\n",
              "\t<tr><th scope=row>2</th><td>2</td><td>Arctic Technic</td><td> 1</td></tr>\n",
              "\t<tr><th scope=row>3</th><td>3</td><td>Competition   </td><td> 1</td></tr>\n",
              "\t<tr><th scope=row>4</th><td>4</td><td>Expert Builder</td><td> 1</td></tr>\n",
              "\t<tr><th scope=row>5</th><td>5</td><td>Model         </td><td> 1</td></tr>\n",
              "\t<tr><th scope=row>6</th><td>6</td><td>Airport       </td><td> 5</td></tr>\n",
              "</tbody>\n",
              "</table>\n"
            ]
          },
          "metadata": {
            "tags": []
          }
        }
      ]
    },
    {
      "cell_type": "code",
      "metadata": {
        "colab": {
          "base_uri": "https://localhost:8080/",
          "height": 219
        },
        "id": "sJuAQX813SjV",
        "outputId": "ee35d626-0884-4c1c-dd6b-4d5664ecc484"
      },
      "source": [
        "themes_hierarchical <- themes %>% \n",
        "\t# Inner join the themes table\n",
        "\tinner_join(themes, by = c(\"id\" = \"parent_id\"), suffix = c(\"_parent\", \"_child\"))\n",
        "\n",
        "head(themes_hierarchical,4)"
      ],
      "execution_count": 51,
      "outputs": [
        {
          "output_type": "display_data",
          "data": {
            "text/plain": [
              "  id name_parent parent_id id_child name_child    \n",
              "1 1  Technic     NA        2        Arctic Technic\n",
              "2 1  Technic     NA        3        Competition   \n",
              "3 1  Technic     NA        4        Expert Builder\n",
              "4 1  Technic     NA        5        Model         "
            ],
            "text/latex": "A data.frame: 4 × 5\n\\begin{tabular}{r|lllll}\n  & id & name\\_parent & parent\\_id & id\\_child & name\\_child\\\\\n  & <int> & <chr> & <int> & <int> & <chr>\\\\\n\\hline\n\t1 & 1 & Technic & NA & 2 & Arctic Technic\\\\\n\t2 & 1 & Technic & NA & 3 & Competition   \\\\\n\t3 & 1 & Technic & NA & 4 & Expert Builder\\\\\n\t4 & 1 & Technic & NA & 5 & Model         \\\\\n\\end{tabular}\n",
            "text/markdown": "\nA data.frame: 4 × 5\n\n| <!--/--> | id &lt;int&gt; | name_parent &lt;chr&gt; | parent_id &lt;int&gt; | id_child &lt;int&gt; | name_child &lt;chr&gt; |\n|---|---|---|---|---|---|\n| 1 | 1 | Technic | NA | 2 | Arctic Technic |\n| 2 | 1 | Technic | NA | 3 | Competition    |\n| 3 | 1 | Technic | NA | 4 | Expert Builder |\n| 4 | 1 | Technic | NA | 5 | Model          |\n\n",
            "text/html": [
              "<table class=\"dataframe\">\n",
              "<caption>A data.frame: 4 × 5</caption>\n",
              "<thead>\n",
              "\t<tr><th></th><th scope=col>id</th><th scope=col>name_parent</th><th scope=col>parent_id</th><th scope=col>id_child</th><th scope=col>name_child</th></tr>\n",
              "\t<tr><th></th><th scope=col>&lt;int&gt;</th><th scope=col>&lt;chr&gt;</th><th scope=col>&lt;int&gt;</th><th scope=col>&lt;int&gt;</th><th scope=col>&lt;chr&gt;</th></tr>\n",
              "</thead>\n",
              "<tbody>\n",
              "\t<tr><th scope=row>1</th><td>1</td><td>Technic</td><td>NA</td><td>2</td><td>Arctic Technic</td></tr>\n",
              "\t<tr><th scope=row>2</th><td>1</td><td>Technic</td><td>NA</td><td>3</td><td>Competition   </td></tr>\n",
              "\t<tr><th scope=row>3</th><td>1</td><td>Technic</td><td>NA</td><td>4</td><td>Expert Builder</td></tr>\n",
              "\t<tr><th scope=row>4</th><td>1</td><td>Technic</td><td>NA</td><td>5</td><td>Model         </td></tr>\n",
              "</tbody>\n",
              "</table>\n"
            ]
          },
          "metadata": {
            "tags": []
          }
        }
      ]
    },
    {
      "cell_type": "code",
      "metadata": {
        "colab": {
          "base_uri": "https://localhost:8080/",
          "height": 158
        },
        "id": "60Ys2pzt4OGW",
        "outputId": "67f07b58-6c02-48f3-a746-5a9e4a85807b"
      },
      "source": [
        "# how many themes have still parent_id\n",
        "themes_hierarchical %>%\n",
        "  count(is.na(parent_id))"
      ],
      "execution_count": 52,
      "outputs": [
        {
          "output_type": "display_data",
          "data": {
            "text/plain": [
              "  is.na(parent_id) n  \n",
              "1 FALSE            149\n",
              "2  TRUE            379"
            ],
            "text/latex": "A data.frame: 2 × 2\n\\begin{tabular}{ll}\n is.na(parent\\_id) & n\\\\\n <lgl> & <int>\\\\\n\\hline\n\t FALSE & 149\\\\\n\t  TRUE & 379\\\\\n\\end{tabular}\n",
            "text/markdown": "\nA data.frame: 2 × 2\n\n| is.na(parent_id) &lt;lgl&gt; | n &lt;int&gt; |\n|---|---|\n| FALSE | 149 |\n|  TRUE | 379 |\n\n",
            "text/html": [
              "<table class=\"dataframe\">\n",
              "<caption>A data.frame: 2 × 2</caption>\n",
              "<thead>\n",
              "\t<tr><th scope=col>is.na(parent_id)</th><th scope=col>n</th></tr>\n",
              "\t<tr><th scope=col>&lt;lgl&gt;</th><th scope=col>&lt;int&gt;</th></tr>\n",
              "</thead>\n",
              "<tbody>\n",
              "\t<tr><td>FALSE</td><td>149</td></tr>\n",
              "\t<tr><td> TRUE</td><td>379</td></tr>\n",
              "</tbody>\n",
              "</table>\n"
            ]
          },
          "metadata": {
            "tags": []
          }
        }
      ]
    },
    {
      "cell_type": "markdown",
      "metadata": {
        "id": "TKRGIN-Q6amj"
      },
      "source": [
        "## Twice inner_join"
      ]
    },
    {
      "cell_type": "code",
      "metadata": {
        "colab": {
          "base_uri": "https://localhost:8080/",
          "height": 35
        },
        "id": "UgAAVuP34qwc",
        "outputId": "6ebe4479-c682-4442-fc64-47c15a226e6d"
      },
      "source": [
        "# There are 149 Themes with parents_id\n",
        "themes %>% \n",
        "  inner_join(themes, by = c(\"id\" = \"parent_id\"), suffix = c(\"_parent\", \"_child\")) %>%\n",
        "  inner_join(themes, by = c(\"id_child\" = \"parent_id\"), suffix = c(\"_parent\", \"_grandchild\")) %>%\n",
        "  dim()"
      ],
      "execution_count": 55,
      "outputs": [
        {
          "output_type": "display_data",
          "data": {
            "text/plain": [
              "[1] 149   7"
            ],
            "text/latex": "\\begin{enumerate*}\n\\item 149\n\\item 7\n\\end{enumerate*}\n",
            "text/markdown": "1. 149\n2. 7\n\n\n",
            "text/html": [
              "<style>\n",
              ".list-inline {list-style: none; margin:0; padding: 0}\n",
              ".list-inline>li {display: inline-block}\n",
              ".list-inline>li:not(:last-child)::after {content: \"\\00b7\"; padding: 0 .5ex}\n",
              "</style>\n",
              "<ol class=list-inline><li>149</li><li>7</li></ol>\n"
            ]
          },
          "metadata": {
            "tags": []
          }
        }
      ]
    },
    {
      "cell_type": "markdown",
      "metadata": {
        "id": "LknJWralAwS5"
      },
      "source": [
        "# Semi-join"
      ]
    },
    {
      "cell_type": "markdown",
      "metadata": {
        "id": "RT5QGVBmCn8R"
      },
      "source": [
        "Semi and Anti join are **filtering joins.**\n",
        "\n",
        "If we want to filter keeping columns as the right table, but only observations in both datasets."
      ]
    },
    {
      "cell_type": "code",
      "metadata": {
        "colab": {
          "base_uri": "https://localhost:8080/",
          "height": 311
        },
        "id": "-bClWWczBGC-",
        "outputId": "008a1a5f-57c4-4f4c-9f13-3da3dc030569"
      },
      "source": [
        "batmobile %>%\n",
        "  semi_join(batwing, by= c(\"color_id\", \"part_num\"))"
      ],
      "execution_count": 69,
      "outputs": [
        {
          "output_type": "display_data",
          "data": {
            "text/plain": [
              "  set_num part_num color_id quantity is_spare\n",
              "1 7784-1  3020     72        3       f       \n",
              "2 7784-1  3832      0        4       f       \n",
              "3 7784-1  43722     0        1       f       \n",
              "4 7784-1  43723     0        1       f       \n",
              "5 7784-1  54200     0       10       f       \n",
              "6 7784-1  54383     0        1       f       \n",
              "7 7784-1  54384     0        1       f       "
            ],
            "text/latex": "A data.frame: 7 × 5\n\\begin{tabular}{lllll}\n set\\_num & part\\_num & color\\_id & quantity & is\\_spare\\\\\n <chr> & <chr> & <int> & <int> & <chr>\\\\\n\\hline\n\t 7784-1 & 3020  & 72 &  3 & f\\\\\n\t 7784-1 & 3832  &  0 &  4 & f\\\\\n\t 7784-1 & 43722 &  0 &  1 & f\\\\\n\t 7784-1 & 43723 &  0 &  1 & f\\\\\n\t 7784-1 & 54200 &  0 & 10 & f\\\\\n\t 7784-1 & 54383 &  0 &  1 & f\\\\\n\t 7784-1 & 54384 &  0 &  1 & f\\\\\n\\end{tabular}\n",
            "text/markdown": "\nA data.frame: 7 × 5\n\n| set_num &lt;chr&gt; | part_num &lt;chr&gt; | color_id &lt;int&gt; | quantity &lt;int&gt; | is_spare &lt;chr&gt; |\n|---|---|---|---|---|\n| 7784-1 | 3020  | 72 |  3 | f |\n| 7784-1 | 3832  |  0 |  4 | f |\n| 7784-1 | 43722 |  0 |  1 | f |\n| 7784-1 | 43723 |  0 |  1 | f |\n| 7784-1 | 54200 |  0 | 10 | f |\n| 7784-1 | 54383 |  0 |  1 | f |\n| 7784-1 | 54384 |  0 |  1 | f |\n\n",
            "text/html": [
              "<table class=\"dataframe\">\n",
              "<caption>A data.frame: 7 × 5</caption>\n",
              "<thead>\n",
              "\t<tr><th scope=col>set_num</th><th scope=col>part_num</th><th scope=col>color_id</th><th scope=col>quantity</th><th scope=col>is_spare</th></tr>\n",
              "\t<tr><th scope=col>&lt;chr&gt;</th><th scope=col>&lt;chr&gt;</th><th scope=col>&lt;int&gt;</th><th scope=col>&lt;int&gt;</th><th scope=col>&lt;chr&gt;</th></tr>\n",
              "</thead>\n",
              "<tbody>\n",
              "\t<tr><td>7784-1</td><td>3020 </td><td>72</td><td> 3</td><td>f</td></tr>\n",
              "\t<tr><td>7784-1</td><td>3832 </td><td> 0</td><td> 4</td><td>f</td></tr>\n",
              "\t<tr><td>7784-1</td><td>43722</td><td> 0</td><td> 1</td><td>f</td></tr>\n",
              "\t<tr><td>7784-1</td><td>43723</td><td> 0</td><td> 1</td><td>f</td></tr>\n",
              "\t<tr><td>7784-1</td><td>54200</td><td> 0</td><td>10</td><td>f</td></tr>\n",
              "\t<tr><td>7784-1</td><td>54383</td><td> 0</td><td> 1</td><td>f</td></tr>\n",
              "\t<tr><td>7784-1</td><td>54384</td><td> 0</td><td> 1</td><td>f</td></tr>\n",
              "</tbody>\n",
              "</table>\n"
            ]
          },
          "metadata": {
            "tags": []
          }
        }
      ]
    },
    {
      "cell_type": "markdown",
      "metadata": {
        "id": "BduQZHsDCy76"
      },
      "source": [
        "# Anti-join\n",
        "\n",
        "Opposite of Semi-join"
      ]
    },
    {
      "cell_type": "markdown",
      "metadata": {
        "id": "rnqW9LmbEdGg"
      },
      "source": [
        "## Are there any sets not in inventory?"
      ]
    },
    {
      "cell_type": "code",
      "metadata": {
        "colab": {
          "base_uri": "https://localhost:8080/",
          "height": 35
        },
        "id": "RfOWo-UMC2JR",
        "outputId": "0a4abca7-1239-4780-db26-8fce71d93b52"
      },
      "source": [
        "sets %>%\n",
        "  anti_join(inventories, by=c(\"set_num\")) %>%\n",
        "  dim()\n",
        "\n",
        "# All sets are in inventory."
      ],
      "execution_count": 82,
      "outputs": [
        {
          "output_type": "display_data",
          "data": {
            "text/plain": [
              "[1] 0 5"
            ],
            "text/latex": "\\begin{enumerate*}\n\\item 0\n\\item 5\n\\end{enumerate*}\n",
            "text/markdown": "1. 0\n2. 5\n\n\n",
            "text/html": [
              "<style>\n",
              ".list-inline {list-style: none; margin:0; padding: 0}\n",
              ".list-inline>li {display: inline-block}\n",
              ".list-inline>li:not(:last-child)::after {content: \"\\00b7\"; padding: 0 .5ex}\n",
              "</style>\n",
              "<ol class=list-inline><li>0</li><li>5</li></ol>\n"
            ]
          },
          "metadata": {
            "tags": []
          }
        }
      ]
    },
    {
      "cell_type": "markdown",
      "metadata": {
        "id": "ka4LtbpdF9nc"
      },
      "source": [
        "# Which set is missing version 1?"
      ]
    },
    {
      "cell_type": "markdown",
      "metadata": {
        "id": "8dUi42m9Gxwy"
      },
      "source": [
        "anti_join is a great tool for finding problems like this."
      ]
    },
    {
      "cell_type": "code",
      "metadata": {
        "colab": {
          "base_uri": "https://localhost:8080/",
          "height": 158
        },
        "id": "3Op4xoTrGUSU",
        "outputId": "a1a11a4d-bed6-4212-9913-47539c69d8ed"
      },
      "source": [
        "head(inventories,2)"
      ],
      "execution_count": 85,
      "outputs": [
        {
          "output_type": "display_data",
          "data": {
            "text/plain": [
              "  id version set_num\n",
              "1 1  1       7922-1 \n",
              "2 3  1       3931-1 "
            ],
            "text/latex": "A data.frame: 2 × 3\n\\begin{tabular}{r|lll}\n  & id & version & set\\_num\\\\\n  & <int> & <int> & <chr>\\\\\n\\hline\n\t1 & 1 & 1 & 7922-1\\\\\n\t2 & 3 & 1 & 3931-1\\\\\n\\end{tabular}\n",
            "text/markdown": "\nA data.frame: 2 × 3\n\n| <!--/--> | id &lt;int&gt; | version &lt;int&gt; | set_num &lt;chr&gt; |\n|---|---|---|---|\n| 1 | 1 | 1 | 7922-1 |\n| 2 | 3 | 1 | 3931-1 |\n\n",
            "text/html": [
              "<table class=\"dataframe\">\n",
              "<caption>A data.frame: 2 × 3</caption>\n",
              "<thead>\n",
              "\t<tr><th></th><th scope=col>id</th><th scope=col>version</th><th scope=col>set_num</th></tr>\n",
              "\t<tr><th></th><th scope=col>&lt;int&gt;</th><th scope=col>&lt;int&gt;</th><th scope=col>&lt;chr&gt;</th></tr>\n",
              "</thead>\n",
              "<tbody>\n",
              "\t<tr><th scope=row>1</th><td>1</td><td>1</td><td>7922-1</td></tr>\n",
              "\t<tr><th scope=row>2</th><td>3</td><td>1</td><td>3931-1</td></tr>\n",
              "</tbody>\n",
              "</table>\n"
            ]
          },
          "metadata": {
            "tags": []
          }
        }
      ]
    },
    {
      "cell_type": "code",
      "metadata": {
        "colab": {
          "base_uri": "https://localhost:8080/",
          "height": 189
        },
        "id": "xSwUGGdGGCh1",
        "outputId": "5ec56cf0-b5ef-400e-f67e-7d036da7240a"
      },
      "source": [
        "# Use filter() to extract version 1 \n",
        "version_1_inv <- inventories %>%\n",
        "  filter(version == 1)\n",
        "\n",
        "# Use anti_join() to find which set is missing a version 1\n",
        "sets %>%\n",
        "  anti_join(version_1_inv, by = \"set_num\")"
      ],
      "execution_count": 86,
      "outputs": [
        {
          "output_type": "display_data",
          "data": {
            "text/plain": [
              "  set_num name                       year theme_id num_parts\n",
              "1 10261-1 Roller Coaster             2018 673      4124     \n",
              "2 10875-1 Cargo Train                2018 634       105     \n",
              "3 76081-1 The Milano vs. The Abilisk 2017 483       461     "
            ],
            "text/latex": "A data.frame: 3 × 5\n\\begin{tabular}{lllll}\n set\\_num & name & year & theme\\_id & num\\_parts\\\\\n <chr> & <chr> & <int> & <int> & <int>\\\\\n\\hline\n\t 10261-1 & Roller Coaster             & 2018 & 673 & 4124\\\\\n\t 10875-1 & Cargo Train                & 2018 & 634 &  105\\\\\n\t 76081-1 & The Milano vs. The Abilisk & 2017 & 483 &  461\\\\\n\\end{tabular}\n",
            "text/markdown": "\nA data.frame: 3 × 5\n\n| set_num &lt;chr&gt; | name &lt;chr&gt; | year &lt;int&gt; | theme_id &lt;int&gt; | num_parts &lt;int&gt; |\n|---|---|---|---|---|\n| 10261-1 | Roller Coaster             | 2018 | 673 | 4124 |\n| 10875-1 | Cargo Train                | 2018 | 634 |  105 |\n| 76081-1 | The Milano vs. The Abilisk | 2017 | 483 |  461 |\n\n",
            "text/html": [
              "<table class=\"dataframe\">\n",
              "<caption>A data.frame: 3 × 5</caption>\n",
              "<thead>\n",
              "\t<tr><th scope=col>set_num</th><th scope=col>name</th><th scope=col>year</th><th scope=col>theme_id</th><th scope=col>num_parts</th></tr>\n",
              "\t<tr><th scope=col>&lt;chr&gt;</th><th scope=col>&lt;chr&gt;</th><th scope=col>&lt;int&gt;</th><th scope=col>&lt;int&gt;</th><th scope=col>&lt;int&gt;</th></tr>\n",
              "</thead>\n",
              "<tbody>\n",
              "\t<tr><td>10261-1</td><td>Roller Coaster            </td><td>2018</td><td>673</td><td>4124</td></tr>\n",
              "\t<tr><td>10875-1</td><td>Cargo Train               </td><td>2018</td><td>634</td><td> 105</td></tr>\n",
              "\t<tr><td>76081-1</td><td>The Milano vs. The Abilisk</td><td>2017</td><td>483</td><td> 461</td></tr>\n",
              "</tbody>\n",
              "</table>\n"
            ]
          },
          "metadata": {
            "tags": []
          }
        }
      ]
    },
    {
      "cell_type": "markdown",
      "metadata": {
        "id": "mMI3ARihLm0e"
      },
      "source": [
        "# Comparing colors "
      ]
    },
    {
      "cell_type": "code",
      "metadata": {
        "colab": {
          "base_uri": "https://localhost:8080/",
          "height": 189
        },
        "id": "A76J_gdtLv97",
        "outputId": "c1683635-3431-4886-c1b5-284c657c5c19"
      },
      "source": [
        "# Transform datasets to aggregate by color.\n",
        "batmobile_colors <- batmobile %>%\n",
        "  group_by(color_id) %>%\n",
        "  summarize(total= sum(quantity))\n",
        "\n",
        "batwing_colors <- batwing %>%\n",
        "  group_by(color_id) %>%\n",
        "  summarize(total= sum(quantity))\n",
        "\n",
        "head(batmobile_colors,3)"
      ],
      "execution_count": 104,
      "outputs": [
        {
          "output_type": "display_data",
          "data": {
            "text/plain": [
              "  color_id total\n",
              "1 0        543  \n",
              "2 1         33  \n",
              "3 4         16  "
            ],
            "text/latex": "A tibble: 3 × 2\n\\begin{tabular}{ll}\n color\\_id & total\\\\\n <int> & <int>\\\\\n\\hline\n\t 0 & 543\\\\\n\t 1 &  33\\\\\n\t 4 &  16\\\\\n\\end{tabular}\n",
            "text/markdown": "\nA tibble: 3 × 2\n\n| color_id &lt;int&gt; | total &lt;int&gt; |\n|---|---|\n| 0 | 543 |\n| 1 |  33 |\n| 4 |  16 |\n\n",
            "text/html": [
              "<table class=\"dataframe\">\n",
              "<caption>A tibble: 3 × 2</caption>\n",
              "<thead>\n",
              "\t<tr><th scope=col>color_id</th><th scope=col>total</th></tr>\n",
              "\t<tr><th scope=col>&lt;int&gt;</th><th scope=col>&lt;int&gt;</th></tr>\n",
              "</thead>\n",
              "<tbody>\n",
              "\t<tr><td>0</td><td>543</td></tr>\n",
              "\t<tr><td>1</td><td> 33</td></tr>\n",
              "\t<tr><td>4</td><td> 16</td></tr>\n",
              "</tbody>\n",
              "</table>\n"
            ]
          },
          "metadata": {
            "tags": []
          }
        }
      ]
    },
    {
      "cell_type": "markdown",
      "metadata": {
        "id": "yvujzc-GMhpo"
      },
      "source": [
        "## Full join with na replacement from tidyr."
      ]
    },
    {
      "cell_type": "code",
      "metadata": {
        "colab": {
          "base_uri": "https://localhost:8080/",
          "height": 281
        },
        "id": "lnVkKVoINx4V",
        "outputId": "28c30dc9-6ee4-4b81-b01a-d973becef97a"
      },
      "source": [
        "colors = read.csv(\"/content/colors.csv\")\n",
        "head(colors)"
      ],
      "execution_count": 102,
      "outputs": [
        {
          "output_type": "display_data",
          "data": {
            "text/plain": [
              "  id name           rgb    is_trans\n",
              "1 -1 [Unknown]      0033B2 f       \n",
              "2  0 Black          05131D f       \n",
              "3  1 Blue           0055BF f       \n",
              "4  2 Green          237841 f       \n",
              "5  3 Dark Turquoise 008F9B f       \n",
              "6  4 Red            C91A09 f       "
            ],
            "text/latex": "A data.frame: 6 × 4\n\\begin{tabular}{r|llll}\n  & id & name & rgb & is\\_trans\\\\\n  & <int> & <chr> & <chr> & <chr>\\\\\n\\hline\n\t1 & -1 & {[}Unknown{]}      & 0033B2 & f\\\\\n\t2 &  0 & Black          & 05131D & f\\\\\n\t3 &  1 & Blue           & 0055BF & f\\\\\n\t4 &  2 & Green          & 237841 & f\\\\\n\t5 &  3 & Dark Turquoise & 008F9B & f\\\\\n\t6 &  4 & Red            & C91A09 & f\\\\\n\\end{tabular}\n",
            "text/markdown": "\nA data.frame: 6 × 4\n\n| <!--/--> | id &lt;int&gt; | name &lt;chr&gt; | rgb &lt;chr&gt; | is_trans &lt;chr&gt; |\n|---|---|---|---|---|\n| 1 | -1 | [Unknown]      | 0033B2 | f |\n| 2 |  0 | Black          | 05131D | f |\n| 3 |  1 | Blue           | 0055BF | f |\n| 4 |  2 | Green          | 237841 | f |\n| 5 |  3 | Dark Turquoise | 008F9B | f |\n| 6 |  4 | Red            | C91A09 | f |\n\n",
            "text/html": [
              "<table class=\"dataframe\">\n",
              "<caption>A data.frame: 6 × 4</caption>\n",
              "<thead>\n",
              "\t<tr><th></th><th scope=col>id</th><th scope=col>name</th><th scope=col>rgb</th><th scope=col>is_trans</th></tr>\n",
              "\t<tr><th></th><th scope=col>&lt;int&gt;</th><th scope=col>&lt;chr&gt;</th><th scope=col>&lt;chr&gt;</th><th scope=col>&lt;chr&gt;</th></tr>\n",
              "</thead>\n",
              "<tbody>\n",
              "\t<tr><th scope=row>1</th><td>-1</td><td>[Unknown]     </td><td>0033B2</td><td>f</td></tr>\n",
              "\t<tr><th scope=row>2</th><td> 0</td><td>Black         </td><td>05131D</td><td>f</td></tr>\n",
              "\t<tr><th scope=row>3</th><td> 1</td><td>Blue          </td><td>0055BF</td><td>f</td></tr>\n",
              "\t<tr><th scope=row>4</th><td> 2</td><td>Green         </td><td>237841</td><td>f</td></tr>\n",
              "\t<tr><th scope=row>5</th><td> 3</td><td>Dark Turquoise</td><td>008F9B</td><td>f</td></tr>\n",
              "\t<tr><th scope=row>6</th><td> 4</td><td>Red           </td><td>C91A09</td><td>f</td></tr>\n",
              "</tbody>\n",
              "</table>\n"
            ]
          },
          "metadata": {
            "tags": []
          }
        }
      ]
    },
    {
      "cell_type": "code",
      "metadata": {
        "colab": {
          "base_uri": "https://localhost:8080/",
          "height": 281
        },
        "id": "WZ9MgHz1MPZk",
        "outputId": "4c3b5037-61b6-405d-abbe-4aad30ea7bb4"
      },
      "source": [
        "# Full join, use of replace_na from tidyr.\n",
        "bat_colors <- batmobile_colors %>%\n",
        "  full_join(batwing_colors, by=\"color_id\", suffix=c(\"_mobile\", \"_wing\")) %>%\n",
        "  replace_na(list(total_mobile=0, total_wing=0)) %>%\n",
        "  inner_join(colors, by=c(\"color_id\" = \"id\"))\n",
        "\n",
        "head(bat_colors)"
      ],
      "execution_count": 151,
      "outputs": [
        {
          "output_type": "display_data",
          "data": {
            "text/plain": [
              "  color_id total_mobile total_wing name      rgb    is_trans\n",
              "1  0       543          24         Black     05131D f       \n",
              "2  1        33           0         Blue      0055BF f       \n",
              "3  4        16           0         Red       C91A09 f       \n",
              "4 14        20           4         Yellow    F2CD37 f       \n",
              "5 15        16           0         White     FFFFFF f       \n",
              "6 36        15           0         Trans-Red C91A09 t       "
            ],
            "text/latex": "A tibble: 6 × 6\n\\begin{tabular}{llllll}\n color\\_id & total\\_mobile & total\\_wing & name & rgb & is\\_trans\\\\\n <int> & <dbl> & <dbl> & <chr> & <chr> & <chr>\\\\\n\\hline\n\t  0 & 543 & 24 & Black     & 05131D & f\\\\\n\t  1 &  33 &  0 & Blue      & 0055BF & f\\\\\n\t  4 &  16 &  0 & Red       & C91A09 & f\\\\\n\t 14 &  20 &  4 & Yellow    & F2CD37 & f\\\\\n\t 15 &  16 &  0 & White     & FFFFFF & f\\\\\n\t 36 &  15 &  0 & Trans-Red & C91A09 & t\\\\\n\\end{tabular}\n",
            "text/markdown": "\nA tibble: 6 × 6\n\n| color_id &lt;int&gt; | total_mobile &lt;dbl&gt; | total_wing &lt;dbl&gt; | name &lt;chr&gt; | rgb &lt;chr&gt; | is_trans &lt;chr&gt; |\n|---|---|---|---|---|---|\n|  0 | 543 | 24 | Black     | 05131D | f |\n|  1 |  33 |  0 | Blue      | 0055BF | f |\n|  4 |  16 |  0 | Red       | C91A09 | f |\n| 14 |  20 |  4 | Yellow    | F2CD37 | f |\n| 15 |  16 |  0 | White     | FFFFFF | f |\n| 36 |  15 |  0 | Trans-Red | C91A09 | t |\n\n",
            "text/html": [
              "<table class=\"dataframe\">\n",
              "<caption>A tibble: 6 × 6</caption>\n",
              "<thead>\n",
              "\t<tr><th scope=col>color_id</th><th scope=col>total_mobile</th><th scope=col>total_wing</th><th scope=col>name</th><th scope=col>rgb</th><th scope=col>is_trans</th></tr>\n",
              "\t<tr><th scope=col>&lt;int&gt;</th><th scope=col>&lt;dbl&gt;</th><th scope=col>&lt;dbl&gt;</th><th scope=col>&lt;chr&gt;</th><th scope=col>&lt;chr&gt;</th><th scope=col>&lt;chr&gt;</th></tr>\n",
              "</thead>\n",
              "<tbody>\n",
              "\t<tr><td> 0</td><td>543</td><td>24</td><td>Black    </td><td>05131D</td><td>f</td></tr>\n",
              "\t<tr><td> 1</td><td> 33</td><td> 0</td><td>Blue     </td><td>0055BF</td><td>f</td></tr>\n",
              "\t<tr><td> 4</td><td> 16</td><td> 0</td><td>Red      </td><td>C91A09</td><td>f</td></tr>\n",
              "\t<tr><td>14</td><td> 20</td><td> 4</td><td>Yellow   </td><td>F2CD37</td><td>f</td></tr>\n",
              "\t<tr><td>15</td><td> 16</td><td> 0</td><td>White    </td><td>FFFFFF</td><td>f</td></tr>\n",
              "\t<tr><td>36</td><td> 15</td><td> 0</td><td>Trans-Red</td><td>C91A09</td><td>t</td></tr>\n",
              "</tbody>\n",
              "</table>\n"
            ]
          },
          "metadata": {
            "tags": []
          }
        }
      ]
    },
    {
      "cell_type": "markdown",
      "metadata": {
        "id": "5OpyAkFrOkQp"
      },
      "source": [
        "## Most of the time we would want to compare as percentages\n",
        "\n",
        "Because each set has different number of pieces, we need to compare as relative values."
      ]
    },
    {
      "cell_type": "code",
      "metadata": {
        "colab": {
          "base_uri": "https://localhost:8080/",
          "height": 281
        },
        "id": "zzpuTW-fO24S",
        "outputId": "6df659aa-6127-4bf1-ebda-0e6ccdfd27a1"
      },
      "source": [
        "bat_colors = bat_colors %>%\n",
        "  mutate(pct_mobile = total_mobile / sum(total_mobile), \n",
        "          pct_wings = total_wing / sum(total_wing),\n",
        "          diff = pct_mobile - pct_wings, \n",
        "          rgb=paste(\"#\",rgb, sep=\"\")) # add \"#\" sign to convert to rgb\n",
        "\n",
        "head(bat_colors)"
      ],
      "execution_count": 152,
      "outputs": [
        {
          "output_type": "display_data",
          "data": {
            "text/plain": [
              "  color_id total_mobile total_wing name      rgb     is_trans pct_mobile\n",
              "1  0       543          24         Black     #05131D f        0.51615970\n",
              "2  1        33           0         Blue      #0055BF f        0.03136882\n",
              "3  4        16           0         Red       #C91A09 f        0.01520913\n",
              "4 14        20           4         Yellow    #F2CD37 f        0.01901141\n",
              "5 15        16           0         White     #FFFFFF f        0.01520913\n",
              "6 36        15           0         Trans-Red #C91A09 t        0.01425856\n",
              "  pct_wings  diff        \n",
              "1 0.51063830  0.005521398\n",
              "2 0.00000000  0.031368821\n",
              "3 0.00000000  0.015209125\n",
              "4 0.08510638 -0.066094976\n",
              "5 0.00000000  0.015209125\n",
              "6 0.00000000  0.014258555"
            ],
            "text/latex": "A tibble: 6 × 9\n\\begin{tabular}{lllllllll}\n color\\_id & total\\_mobile & total\\_wing & name & rgb & is\\_trans & pct\\_mobile & pct\\_wings & diff\\\\\n <int> & <dbl> & <dbl> & <chr> & <chr> & <chr> & <dbl> & <dbl> & <dbl>\\\\\n\\hline\n\t  0 & 543 & 24 & Black     & \\#05131D & f & 0.51615970 & 0.51063830 &  0.005521398\\\\\n\t  1 &  33 &  0 & Blue      & \\#0055BF & f & 0.03136882 & 0.00000000 &  0.031368821\\\\\n\t  4 &  16 &  0 & Red       & \\#C91A09 & f & 0.01520913 & 0.00000000 &  0.015209125\\\\\n\t 14 &  20 &  4 & Yellow    & \\#F2CD37 & f & 0.01901141 & 0.08510638 & -0.066094976\\\\\n\t 15 &  16 &  0 & White     & \\#FFFFFF & f & 0.01520913 & 0.00000000 &  0.015209125\\\\\n\t 36 &  15 &  0 & Trans-Red & \\#C91A09 & t & 0.01425856 & 0.00000000 &  0.014258555\\\\\n\\end{tabular}\n",
            "text/markdown": "\nA tibble: 6 × 9\n\n| color_id &lt;int&gt; | total_mobile &lt;dbl&gt; | total_wing &lt;dbl&gt; | name &lt;chr&gt; | rgb &lt;chr&gt; | is_trans &lt;chr&gt; | pct_mobile &lt;dbl&gt; | pct_wings &lt;dbl&gt; | diff &lt;dbl&gt; |\n|---|---|---|---|---|---|---|---|---|\n|  0 | 543 | 24 | Black     | #05131D | f | 0.51615970 | 0.51063830 |  0.005521398 |\n|  1 |  33 |  0 | Blue      | #0055BF | f | 0.03136882 | 0.00000000 |  0.031368821 |\n|  4 |  16 |  0 | Red       | #C91A09 | f | 0.01520913 | 0.00000000 |  0.015209125 |\n| 14 |  20 |  4 | Yellow    | #F2CD37 | f | 0.01901141 | 0.08510638 | -0.066094976 |\n| 15 |  16 |  0 | White     | #FFFFFF | f | 0.01520913 | 0.00000000 |  0.015209125 |\n| 36 |  15 |  0 | Trans-Red | #C91A09 | t | 0.01425856 | 0.00000000 |  0.014258555 |\n\n",
            "text/html": [
              "<table class=\"dataframe\">\n",
              "<caption>A tibble: 6 × 9</caption>\n",
              "<thead>\n",
              "\t<tr><th scope=col>color_id</th><th scope=col>total_mobile</th><th scope=col>total_wing</th><th scope=col>name</th><th scope=col>rgb</th><th scope=col>is_trans</th><th scope=col>pct_mobile</th><th scope=col>pct_wings</th><th scope=col>diff</th></tr>\n",
              "\t<tr><th scope=col>&lt;int&gt;</th><th scope=col>&lt;dbl&gt;</th><th scope=col>&lt;dbl&gt;</th><th scope=col>&lt;chr&gt;</th><th scope=col>&lt;chr&gt;</th><th scope=col>&lt;chr&gt;</th><th scope=col>&lt;dbl&gt;</th><th scope=col>&lt;dbl&gt;</th><th scope=col>&lt;dbl&gt;</th></tr>\n",
              "</thead>\n",
              "<tbody>\n",
              "\t<tr><td> 0</td><td>543</td><td>24</td><td>Black    </td><td>#05131D</td><td>f</td><td>0.51615970</td><td>0.51063830</td><td> 0.005521398</td></tr>\n",
              "\t<tr><td> 1</td><td> 33</td><td> 0</td><td>Blue     </td><td>#0055BF</td><td>f</td><td>0.03136882</td><td>0.00000000</td><td> 0.031368821</td></tr>\n",
              "\t<tr><td> 4</td><td> 16</td><td> 0</td><td>Red      </td><td>#C91A09</td><td>f</td><td>0.01520913</td><td>0.00000000</td><td> 0.015209125</td></tr>\n",
              "\t<tr><td>14</td><td> 20</td><td> 4</td><td>Yellow   </td><td>#F2CD37</td><td>f</td><td>0.01901141</td><td>0.08510638</td><td>-0.066094976</td></tr>\n",
              "\t<tr><td>15</td><td> 16</td><td> 0</td><td>White    </td><td>#FFFFFF</td><td>f</td><td>0.01520913</td><td>0.00000000</td><td> 0.015209125</td></tr>\n",
              "\t<tr><td>36</td><td> 15</td><td> 0</td><td>Trans-Red</td><td>#C91A09</td><td>t</td><td>0.01425856</td><td>0.00000000</td><td> 0.014258555</td></tr>\n",
              "</tbody>\n",
              "</table>\n"
            ]
          },
          "metadata": {
            "tags": []
          }
        }
      ]
    },
    {
      "cell_type": "markdown",
      "metadata": {
        "id": "hB3X73-oYbAz"
      },
      "source": [
        "## Create palette with RGB names and plot"
      ]
    },
    {
      "cell_type": "code",
      "metadata": {
        "id": "Q_2JcnHyUjMt"
      },
      "source": [
        "# create a palette\n",
        "color_palette <- setNames(bat_colors$rgb, bat_colors$name)"
      ],
      "execution_count": 154,
      "outputs": []
    },
    {
      "cell_type": "markdown",
      "metadata": {
        "id": "aiZZeNkKQBot"
      },
      "source": [
        "## Bar plot with colors by RGB"
      ]
    },
    {
      "cell_type": "code",
      "metadata": {
        "colab": {
          "base_uri": "https://localhost:8080/",
          "height": 437
        },
        "id": "GEl6GtVgYh05",
        "outputId": "707e4ff3-ded2-433d-c222-e55793bfd16c"
      },
      "source": [
        "# Create a horizontal bar plot with reordered axis.\n",
        "bat_colors %>%\n",
        "  mutate(name= fct_reorder(name, diff)) %>%\n",
        "  ggplot(aes(x=name, y=diff, fill=name)) + \n",
        "  geom_col() + \n",
        "  coord_flip() + \n",
        "  scale_fill_manual(values = color_palette, guide=FALSE) + \n",
        "  labs(x= \"Color name\", y = \"Difference\" , title=\"Comparing colors pieces between Batmobile and Batwing\")"
      ],
      "execution_count": 158,
      "outputs": [
        {
          "output_type": "display_data",
          "data": {
            "image/png": "[encoded data removed]",
            "text/plain": [
              "plot without title"
            ]
          },
          "metadata": {
            "tags": [],
            "image/png": {
              "width": 420,
              "height": 420
            }
          }
        }
      ]
    }
  ]
}