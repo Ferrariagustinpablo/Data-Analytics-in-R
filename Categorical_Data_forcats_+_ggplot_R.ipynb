{
  "nbformat": 4,
  "nbformat_minor": 0,
  "metadata": {
    "colab": {
      "name": "Categorical Data forcats + ggplot R",
      "provenance": [],
      "collapsed_sections": [],
      "toc_visible": true,
      "include_colab_link": true
    },
    "kernelspec": {
      "name": "ir",
      "display_name": "R"
    }
  },
  "cells": [
    {
      "cell_type": "markdown",
      "metadata": {
        "id": "view-in-github",
        "colab_type": "text"
      },
      "source": [
        "<a href=\"https://colab.research.google.com/github/Ferrariagustinpablo/Data-Analytics-in-R/blob/main/Categorical_Data_forcats_%2B_ggplot_R.ipynb\" target=\"_parent\"><img src=\"https://colab.research.google.com/assets/colab-badge.svg\" alt=\"Open In Colab\"/></a>"
      ]
    },
    {
      "cell_type": "markdown",
      "metadata": {
        "id": "eFMdmtrW-yfI"
      },
      "source": [
        "# Summary:\n",
        "\n",
        "\n",
        "Import libraries\n",
        "Import dataset\n",
        "\n",
        "Qualitative variables\n",
        "\n",
        "1) mutate_if(), summarise_if, mutate_all() and summarise_all\n",
        "2) gather() from tidyr takes a dataset from wide to long format.\n",
        "3) top_n() and pull()\n",
        "4) Extracting levels of a factor\n",
        "5) Forcats package for reordering categorical variables\n",
        "5)a) unordered Bar plot\n",
        "5)b) ordered levels by frequency: fct_infreq()\n",
        "5)c) order levels inside mutate by another variable (like mean_age)\n",
        "6) Reordering factors by inherent ordering\n",
        "6)a) fct_relevel()\n",
        "6)b) Tricks for fct_reorder\n",
        "7) Renaming factors with fct_recode()\n",
        "8) Collapsing levels with fct_collapse, fct_other and fct_lump\n",
        "8)a) fct_collapse and fct_other\n",
        "8)b) fct_lump\n",
        "9) Grouping and reshaping similar columns with select(contains) and gather()\n",
        "10) Summarizing data with count() and add_count()\n",
        "11) Mapping. Renaming from factors to numbers with if_else\n",
        "12) CASE_WHEN(): mapping with conditions\n",
        "12)a) case_when() with single variable\n",
        "12)b) case_when() two or more variables to map\n",
        "\n",
        "GGPLOT Tricks\n",
        "\n",
        "1) Editing plot text and showing percentages\n",
        "2) Reordering graphs and changing angles on axis\n"
      ]
    },
    {
      "cell_type": "markdown",
      "metadata": {
        "id": "cYE7mEi2ky38"
      },
      "source": [
        "# Import libraries"
      ]
    },
    {
      "cell_type": "code",
      "metadata": {
        "id": "RoD2lzL9Z3f_",
        "colab": {
          "base_uri": "https://localhost:8080/"
        },
        "outputId": "82a8bee0-8e35-4fc9-9ab4-fa56a1dfcf7f"
      },
      "source": [
        "# Load  \n",
        "library(dplyr)\n",
        "library(ggplot2)\n",
        "library(tidyr)\n",
        "library(forcats)\n",
        "library(stringr)"
      ],
      "execution_count": 2,
      "outputs": [
        {
          "output_type": "stream",
          "text": [
            "\n",
            "Attaching package: ‘dplyr’\n",
            "\n",
            "\n",
            "The following objects are masked from ‘package:stats’:\n",
            "\n",
            "    filter, lag\n",
            "\n",
            "\n",
            "The following objects are masked from ‘package:base’:\n",
            "\n",
            "    intersect, setdiff, setequal, union\n",
            "\n",
            "\n"
          ],
          "name": "stderr"
        }
      ]
    },
    {
      "cell_type": "markdown",
      "metadata": {
        "id": "65wxPAClVQcX"
      },
      "source": [
        "# Import dataset"
      ]
    },
    {
      "cell_type": "markdown",
      "metadata": {
        "id": "Uec-gAl4AFNr"
      },
      "source": [
        "# Qualitative variables"
      ]
    },
    {
      "cell_type": "markdown",
      "metadata": {
        "id": "ESHIDv4J6yyk"
      },
      "source": [
        "There are two ways R can represent qualitative variables: as factors or as characters"
      ]
    },
    {
      "cell_type": "code",
      "metadata": {
        "colab": {
          "base_uri": "https://localhost:8080/"
        },
        "id": "dKtlgDYuR0Xc",
        "outputId": "615049c8-d1a2-421b-c08a-258c1c8e7d51"
      },
      "source": [
        "multiple_choice_responses = read.csv(\"/content/multipleChoiceResponses.csv\")\n",
        "str(multiple_choice_responses)"
      ],
      "execution_count": 128,
      "outputs": [
        {
          "output_type": "stream",
          "text": [
            "'data.frame':\t16716 obs. of  228 variables:\n",
            " $ GenderSelect                               : chr  \"Non-binary, genderqueer, or gender non-conforming\" \"Female\" \"Male\" \"Male\" ...\n",
            " $ Country                                    : chr  \"\" \"United States\" \"Canada\" \"United States\" ...\n",
            " $ Age                                        : int  NA 30 28 56 38 46 35 22 43 33 ...\n",
            " $ EmploymentStatus                           : chr  \"Employed full-time\" \"Not employed, but looking for work\" \"Not employed, but looking for work\" \"Independent contractor, freelancer, or self-employed\" ...\n",
            " $ StudentStatus                              : chr  \"\" \"\" \"\" \"\" ...\n",
            " $ LearningDataScience                        : chr  \"\" \"\" \"\" \"\" ...\n",
            " $ CodeWriter                                 : chr  \"Yes\" \"\" \"\" \"Yes\" ...\n",
            " $ CareerSwitcher                             : chr  \"\" \"\" \"\" \"\" ...\n",
            " $ CurrentJobTitleSelect                      : chr  \"DBA/Database Engineer\" \"\" \"\" \"Operations Research Practitioner\" ...\n",
            " $ TitleFit                                   : chr  \"Fine\" \"\" \"\" \"Poorly\" ...\n",
            " $ CurrentEmployerType                        : chr  \"Employed by a company that doesn't perform advanced analytics,Employed by non-profit or NGO\" \"\" \"\" \"Self-employed\" ...\n",
            " $ MLToolNextYearSelect                       : chr  \"SAS Base\" \"Python\" \"Amazon Web services\" \"TensorFlow\" ...\n",
            " $ MLMethodNextYearSelect                     : chr  \"Random Forests\" \"Random Forests\" \"Deep learning\" \"Neural Nets\" ...\n",
            " $ LanguageRecommendationSelect               : chr  \"F#\" \"Python\" \"R\" \"Python\" ...\n",
            " $ PublicDatasetsSelect                       : chr  \"Dataset aggregator/platform (i.e. Socrata/Kaggle Datasets/data.world/etc.),University/Non-profit research group websites,Other\" \"Dataset aggregator/platform (i.e. Socrata/Kaggle Datasets/data.world/etc.)\" \"Dataset aggregator/platform (i.e. Socrata/Kaggle Datasets/data.world/etc.)\" \"I collect my own data (e.g. web-scraping)\" ...\n",
            " $ LearningPlatformSelect                     : chr  \"College/University,Conferences,Podcasts,Trade book\" \"Kaggle\" \"Arxiv,College/University,Kaggle,Online courses,YouTube Videos\" \"Blogs,College/University,Conferences,Friends network,Official documentation,Online courses,Personal Projects\" ...\n",
            " $ LearningPlatformUsefulnessArxiv            : chr  \"\" \"\" \"Very useful\" \"\" ...\n",
            " $ LearningPlatformUsefulnessBlogs            : chr  \"\" \"\" \"\" \"Very useful\" ...\n",
            " $ LearningPlatformUsefulnessCollege          : chr  \"\" \"\" \"Somewhat useful\" \"Very useful\" ...\n",
            " $ LearningPlatformUsefulnessCompany          : chr  \"\" \"\" \"\" \"\" ...\n",
            " $ LearningPlatformUsefulnessConferences      : chr  \"Very useful\" \"\" \"\" \"Very useful\" ...\n",
            " $ LearningPlatformUsefulnessFriends          : chr  \"\" \"\" \"\" \"Very useful\" ...\n",
            " $ LearningPlatformUsefulnessKaggle           : chr  \"\" \"Somewhat useful\" \"Somewhat useful\" \"\" ...\n",
            " $ LearningPlatformUsefulnessNewsletters      : chr  \"\" \"\" \"\" \"\" ...\n",
            " $ LearningPlatformUsefulnessCommunities      : chr  \"\" \"\" \"\" \"\" ...\n",
            " $ LearningPlatformUsefulnessDocumentation    : chr  \"\" \"\" \"\" \"Very useful\" ...\n",
            " $ LearningPlatformUsefulnessCourses          : chr  \"\" \"\" \"Very useful\" \"Very useful\" ...\n",
            " $ LearningPlatformUsefulnessProjects         : chr  \"\" \"\" \"\" \"Very useful\" ...\n",
            " $ LearningPlatformUsefulnessPodcasts         : chr  \"Very useful\" \"\" \"\" \"\" ...\n",
            " $ LearningPlatformUsefulnessSO               : chr  \"\" \"\" \"\" \"\" ...\n",
            " $ LearningPlatformUsefulnessTextbook         : chr  \"\" \"\" \"\" \"\" ...\n",
            " $ LearningPlatformUsefulnessTradeBook        : chr  \"Somewhat useful\" \"\" \"\" \"\" ...\n",
            " $ LearningPlatformUsefulnessTutoring         : chr  \"\" \"\" \"\" \"\" ...\n",
            " $ LearningPlatformUsefulnessYouTube          : chr  \"\" \"\" \"Very useful\" \"\" ...\n",
            " $ BlogsPodcastsNewslettersSelect             : chr  \"Becoming a Data Scientist Podcast,Data Machina Newsletter,O'Reilly Data Newsletter,Partially Derivative Podcast\"| __truncated__ \"Becoming a Data Scientist Podcast,Siraj Raval YouTube Channel\" \"FastML Blog,No Free Hunch Blog,Talking Machines Podcast\" \"KDnuggets Blog\" ...\n",
            " $ LearningDataScienceTime                    : chr  \"\" \"1-2 years\" \"1-2 years\" \"\" ...\n",
            " $ JobSkillImportanceBigData                  : chr  \"\" \"\" \"Necessary\" \"\" ...\n",
            " $ JobSkillImportanceDegree                   : chr  \"\" \"Nice to have\" \"\" \"\" ...\n",
            " $ JobSkillImportanceStats                    : chr  \"\" \"Unnecessary\" \"\" \"\" ...\n",
            " $ JobSkillImportanceEnterpriseTools          : chr  \"\" \"\" \"\" \"\" ...\n",
            " $ JobSkillImportancePython                   : chr  \"\" \"Unnecessary\" \"\" \"\" ...\n",
            " $ JobSkillImportanceR                        : chr  \"\" \"\" \"Necessary\" \"\" ...\n",
            " $ JobSkillImportanceSQL                      : chr  \"\" \"Necessary\" \"\" \"\" ...\n",
            " $ JobSkillImportanceKaggleRanking            : chr  \"\" \"\" \"\" \"\" ...\n",
            " $ JobSkillImportanceMOOC                     : chr  \"\" \"\" \"\" \"\" ...\n",
            " $ JobSkillImportanceVisualizations           : chr  \"\" \"\" \"\" \"\" ...\n",
            " $ JobSkillImportanceOtherSelect1             : chr  \"\" \"\" \"\" \"\" ...\n",
            " $ JobSkillImportanceOtherSelect2             : chr  \"\" \"\" \"\" \"\" ...\n",
            " $ JobSkillImportanceOtherSelect3             : chr  \"\" \"\" \"\" \"\" ...\n",
            " $ CoursePlatformSelect                       : chr  \"\" \"\" \"Coursera,edX\" \"\" ...\n",
            " $ HardwarePersonalProjectsSelect             : chr  \"\" \"\" \"Basic laptop (Macbook)\" \"\" ...\n",
            " $ TimeSpentStudying                          : chr  \"\" \"2 - 10 hours\" \"2 - 10 hours\" \"\" ...\n",
            " $ ProveKnowledgeSelect                       : chr  \"\" \"Master's degree\" \"Github Portfolio\" \"\" ...\n",
            " $ DataScienceIdentitySelect                  : chr  \"Yes\" \"Yes\" \"Yes\" \"Yes\" ...\n",
            " $ FormalEducation                            : chr  \"Bachelor's degree\" \"Master's degree\" \"Master's degree\" \"Master's degree\" ...\n",
            " $ MajorSelect                                : chr  \"Management information systems\" \"Computer Science\" \"Engineering (non-computer focused)\" \"Mathematics or statistics\" ...\n",
            " $ Tenure                                     : chr  \"More than 10 years\" \"Less than a year\" \"3 to 5 years\" \"More than 10 years\" ...\n",
            " $ PastJobTitlesSelect                        : chr  \"Predictive Modeler,Programmer,Researcher\" \"Software Developer/Software Engineer\" \"Data Scientist,Machine Learning Engineer\" \"Business Analyst,Operations Research Practitioner,Predictive Modeler,Programmer,Other\" ...\n",
            " $ FirstTrainingSelect                        : chr  \"University courses\" \"University courses\" \"University courses\" \"University courses\" ...\n",
            " $ LearningCategorySelftTaught                : num  0 10 20 30 60 45 40 0 70 10 ...\n",
            " $ LearningCategoryOnlineCourses              : num  0 30 50 0 5 25 0 40 0 70 ...\n",
            " $ LearningCategoryWork                       : num  100 0 0 40 5 20 0 0 30 15 ...\n",
            " $ LearningCategoryUniversity                 : num  0 30 30 30 30 0 50 50 0 0 ...\n",
            " $ LearningCategoryKaggle                     : num  0 30 0 0 0 10 10 10 0 5 ...\n",
            " $ LearningCategoryOther                      : num  0 0 0 0 0 0 0 0 0 0 ...\n",
            " $ MLSkillsSelect                             : chr  \"Computer Vision,Natural Language Processing,Supervised Machine Learning (Tabular Data),Time Series\" \"Computer Vision,Supervised Machine Learning (Tabular Data),Unsupervised Learning\" \"Adversarial Learning,Computer Vision,Natural Language Processing\" \"Recommendation Engines,Reinforcement learning,Supervised Machine Learning (Tabular Data),Survival Analysis,Time\"| __truncated__ ...\n",
            " $ MLTechniquesSelect                         : chr  \"Evolutionary Approaches,Neural Networks - GANs,Neural Networks - RNNs\" \"Bayesian Techniques,Decision Trees - Gradient Boosted Machines,Decision Trees - Random Forests,Logistic Regress\"| __truncated__ \"Decision Trees - Random Forests,Ensemble Methods,Neural Networks - CNNs,Support Vector Machines (SVMs)\" \"Bayesian Techniques,Decision Trees - Gradient Boosted Machines,Decision Trees - Random Forests,Ensemble Methods\"| __truncated__ ...\n",
            " $ ParentsEducation                           : chr  \"A doctoral degree\" \"A bachelor's degree\" \"A bachelor's degree\" \"High school\" ...\n",
            " $ EmployerIndustry                           : chr  \"Internet-based\" \"\" \"\" \"Mix of fields\" ...\n",
            " $ EmployerSize                               : chr  \"100 to 499 employees\" \"\" \"\" \"\" ...\n",
            " $ EmployerSizeChange                         : chr  \"Increased slightly\" \"\" \"\" \"\" ...\n",
            " $ EmployerMLTime                             : chr  \"3-5 years\" \"\" \"\" \"\" ...\n",
            " $ EmployerSearchMethod                       : chr  \"I visited the company's Web site and found a job listing there\" \"\" \"\" \"\" ...\n",
            " $ UniversityImportance                       : chr  \"Not very important\" \"\" \"\" \"Very important\" ...\n",
            " $ JobFunctionSelect                          : chr  \"Build prototypes to explore applying machine learning to new areas\" \"\" \"\" \"Analyze and understand data to influence product or business decisions\" ...\n",
            " $ WorkHardwareSelect                         : chr  \"Gaming Laptop (Laptop + CUDA capable GPU),Workstation + Cloud service\" \"\" \"\" \"Laptop + Cloud service (AWS, Azure, GCE ...)\" ...\n",
            " $ WorkDataTypeSelect                         : chr  \"Text data,Relational data\" \"\" \"\" \"Relational data\" ...\n",
            " $ WorkProductionFrequency                    : chr  \"Rarely\" \"\" \"\" \"Always\" ...\n",
            " $ WorkDatasetSize                            : chr  \"10GB\" \"\" \"\" \"1GB\" ...\n",
            " $ WorkAlgorithmsSelect                       : chr  \"Neural Networks,Random Forests,RNNs\" \"\" \"\" \"Bayesian Techniques,Decision Trees,Random Forests,Regression/Logistic Regression\" ...\n",
            " $ WorkToolsSelect                            : chr  \"Amazon Web services,Oracle Data Mining/ Oracle R Enterprise,Perl\" \"\" \"\" \"Amazon Machine Learning,Amazon Web services,Cloudera,Hadoop/Hive/Pig,Impala,Java,Mathematica,MATLAB/Octave,Micr\"| __truncated__ ...\n",
            " $ WorkToolsFrequencyAmazonML                 : chr  \"\" \"\" \"\" \"Rarely\" ...\n",
            " $ WorkToolsFrequencyAWS                      : chr  \"Rarely\" \"\" \"\" \"Often\" ...\n",
            " $ WorkToolsFrequencyAngoss                   : chr  \"\" \"\" \"\" \"\" ...\n",
            " $ WorkToolsFrequencyC                        : chr  \"\" \"\" \"\" \"\" ...\n",
            " $ WorkToolsFrequencyCloudera                 : chr  \"\" \"\" \"\" \"Rarely\" ...\n",
            " $ WorkToolsFrequencyDataRobot                : chr  \"\" \"\" \"\" \"\" ...\n",
            " $ WorkToolsFrequencyFlume                    : chr  \"\" \"\" \"\" \"\" ...\n",
            " $ WorkToolsFrequencyGCP                      : chr  \"\" \"\" \"\" \"\" ...\n",
            " $ WorkToolsFrequencyHadoop                   : chr  \"\" \"\" \"\" \"Rarely\" ...\n",
            " $ WorkToolsFrequencyIBMCognos                : chr  \"\" \"\" \"\" \"\" ...\n",
            " $ WorkToolsFrequencyIBMSPSSModeler           : chr  \"\" \"\" \"\" \"\" ...\n",
            " $ WorkToolsFrequencyIBMSPSSStatistics        : chr  \"\" \"\" \"\" \"\" ...\n",
            " $ WorkToolsFrequencyIBMWatson                : chr  \"\" \"\" \"\" \"\" ...\n",
            " $ WorkToolsFrequencyImpala                   : chr  \"\" \"\" \"\" \"Rarely\" ...\n",
            " $ WorkToolsFrequencyJava                     : chr  \"\" \"\" \"\" \"Rarely\" ...\n",
            " $ WorkToolsFrequencyJulia                    : chr  \"\" \"\" \"\" \"\" ...\n",
            " $ WorkToolsFrequencyJupyter                  : chr  \"\" \"\" \"\" \"\" ...\n",
            " $ WorkToolsFrequencyKNIMECommercial          : chr  \"\" \"\" \"\" \"\" ...\n",
            "  [list output truncated]\n"
          ],
          "name": "stdout"
        }
      ]
    },
    {
      "cell_type": "markdown",
      "metadata": {
        "id": "2RqMQl3FARHm"
      },
      "source": [
        "## 1) mutate_if(), summarise_if, mutate_all() and summarise_all"
      ]
    },
    {
      "cell_type": "markdown",
      "metadata": {
        "id": "J7JS7ZUeCdGo"
      },
      "source": [
        "There are more handy functions - summarise_at() and mutate_at(). These let you select columns by name-based select helpers."
      ]
    },
    {
      "cell_type": "code",
      "metadata": {
        "id": "Ze27HOAJAnvG"
      },
      "source": [
        "# Change all the character columns to factors\n",
        "responses_as_factors <- multiple_choice_responses %>% \n",
        "  mutate_if(is.character, as.factor)"
      ],
      "execution_count": 68,
      "outputs": []
    },
    {
      "cell_type": "code",
      "metadata": {
        "colab": {
          "base_uri": "https://localhost:8080/",
          "height": 147
        },
        "id": "HFyzjlFkAbs_",
        "outputId": "98c3700a-0864-4e15-f203-c73089aceacb"
      },
      "source": [
        "responses_as_factors %>% \n",
        "  # apply the function nlevels to each column\n",
        "  summarise_all(nlevels)"
      ],
      "execution_count": 69,
      "outputs": [
        {
          "output_type": "display_data",
          "data": {
            "text/plain": [
              "  GenderSelect Country Age EmploymentStatus StudentStatus LearningDataScience\n",
              "1 5            53      0   7                3             4                  \n",
              "  CodeWriter CareerSwitcher CurrentJobTitleSelect TitleFit ⋯\n",
              "1 3          3              17                    4        ⋯\n",
              "  JobFactorExperienceLevel JobFactorDepartment JobFactorTitle\n",
              "1 4                        4                   4             \n",
              "  JobFactorCompanyFunding JobFactorImpact JobFactorRemote JobFactorIndustry\n",
              "1 4                       4               4               4                \n",
              "  JobFactorLeaderReputation JobFactorDiversity JobFactorPublishingOpportunity\n",
              "1 4                         4                  4                             "
            ],
            "text/latex": "A data.frame: 1 × 228\n\\begin{tabular}{lllllllllllllllllllll}\n GenderSelect & Country & Age & EmploymentStatus & StudentStatus & LearningDataScience & CodeWriter & CareerSwitcher & CurrentJobTitleSelect & TitleFit & ⋯ & JobFactorExperienceLevel & JobFactorDepartment & JobFactorTitle & JobFactorCompanyFunding & JobFactorImpact & JobFactorRemote & JobFactorIndustry & JobFactorLeaderReputation & JobFactorDiversity & JobFactorPublishingOpportunity\\\\\n <int> & <int> & <int> & <int> & <int> & <int> & <int> & <int> & <int> & <int> & ⋯ & <int> & <int> & <int> & <int> & <int> & <int> & <int> & <int> & <int> & <int>\\\\\n\\hline\n\t 5 & 53 & 0 & 7 & 3 & 4 & 3 & 3 & 17 & 4 & ⋯ & 4 & 4 & 4 & 4 & 4 & 4 & 4 & 4 & 4 & 4\\\\\n\\end{tabular}\n",
            "text/markdown": "\nA data.frame: 1 × 228\n\n| GenderSelect &lt;int&gt; | Country &lt;int&gt; | Age &lt;int&gt; | EmploymentStatus &lt;int&gt; | StudentStatus &lt;int&gt; | LearningDataScience &lt;int&gt; | CodeWriter &lt;int&gt; | CareerSwitcher &lt;int&gt; | CurrentJobTitleSelect &lt;int&gt; | TitleFit &lt;int&gt; | ⋯ ⋯ | JobFactorExperienceLevel &lt;int&gt; | JobFactorDepartment &lt;int&gt; | JobFactorTitle &lt;int&gt; | JobFactorCompanyFunding &lt;int&gt; | JobFactorImpact &lt;int&gt; | JobFactorRemote &lt;int&gt; | JobFactorIndustry &lt;int&gt; | JobFactorLeaderReputation &lt;int&gt; | JobFactorDiversity &lt;int&gt; | JobFactorPublishingOpportunity &lt;int&gt; |\n|---|---|---|---|---|---|---|---|---|---|---|---|---|---|---|---|---|---|---|---|---|\n| 5 | 53 | 0 | 7 | 3 | 4 | 3 | 3 | 17 | 4 | ⋯ | 4 | 4 | 4 | 4 | 4 | 4 | 4 | 4 | 4 | 4 |\n\n",
            "text/html": [
              "<table class=\"dataframe\">\n",
              "<caption>A data.frame: 1 × 228</caption>\n",
              "<thead>\n",
              "\t<tr><th scope=col>GenderSelect</th><th scope=col>Country</th><th scope=col>Age</th><th scope=col>EmploymentStatus</th><th scope=col>StudentStatus</th><th scope=col>LearningDataScience</th><th scope=col>CodeWriter</th><th scope=col>CareerSwitcher</th><th scope=col>CurrentJobTitleSelect</th><th scope=col>TitleFit</th><th scope=col>⋯</th><th scope=col>JobFactorExperienceLevel</th><th scope=col>JobFactorDepartment</th><th scope=col>JobFactorTitle</th><th scope=col>JobFactorCompanyFunding</th><th scope=col>JobFactorImpact</th><th scope=col>JobFactorRemote</th><th scope=col>JobFactorIndustry</th><th scope=col>JobFactorLeaderReputation</th><th scope=col>JobFactorDiversity</th><th scope=col>JobFactorPublishingOpportunity</th></tr>\n",
              "\t<tr><th scope=col>&lt;int&gt;</th><th scope=col>&lt;int&gt;</th><th scope=col>&lt;int&gt;</th><th scope=col>&lt;int&gt;</th><th scope=col>&lt;int&gt;</th><th scope=col>&lt;int&gt;</th><th scope=col>&lt;int&gt;</th><th scope=col>&lt;int&gt;</th><th scope=col>&lt;int&gt;</th><th scope=col>&lt;int&gt;</th><th scope=col>⋯</th><th scope=col>&lt;int&gt;</th><th scope=col>&lt;int&gt;</th><th scope=col>&lt;int&gt;</th><th scope=col>&lt;int&gt;</th><th scope=col>&lt;int&gt;</th><th scope=col>&lt;int&gt;</th><th scope=col>&lt;int&gt;</th><th scope=col>&lt;int&gt;</th><th scope=col>&lt;int&gt;</th><th scope=col>&lt;int&gt;</th></tr>\n",
              "</thead>\n",
              "<tbody>\n",
              "\t<tr><td>5</td><td>53</td><td>0</td><td>7</td><td>3</td><td>4</td><td>3</td><td>3</td><td>17</td><td>4</td><td>⋯</td><td>4</td><td>4</td><td>4</td><td>4</td><td>4</td><td>4</td><td>4</td><td>4</td><td>4</td><td>4</td></tr>\n",
              "</tbody>\n",
              "</table>\n"
            ]
          },
          "metadata": {
            "tags": []
          }
        }
      ]
    },
    {
      "cell_type": "markdown",
      "metadata": {
        "id": "j7YehCxkBTqj"
      },
      "source": [
        "## 2) gather() from tidyr takes a dataset from wide to long format."
      ]
    },
    {
      "cell_type": "code",
      "metadata": {
        "colab": {
          "base_uri": "https://localhost:8080/",
          "height": 219
        },
        "id": "FhNOlEZ4BYXj",
        "outputId": "16f5e8bf-b643-4edf-b2bb-b463cd46ee67"
      },
      "source": [
        "number_of_levels <- responses_as_factors %>% \n",
        "  # apply the function nlevels to each column\n",
        "  summarise_all(nlevels) %>%\n",
        "  # change the dataset from wide to long\n",
        "  gather(variable, num_levels)\n",
        "\n",
        "head(number_of_levels,4)"
      ],
      "execution_count": 70,
      "outputs": [
        {
          "output_type": "display_data",
          "data": {
            "text/plain": [
              "  variable         num_levels\n",
              "1 GenderSelect      5        \n",
              "2 Country          53        \n",
              "3 Age               0        \n",
              "4 EmploymentStatus  7        "
            ],
            "text/latex": "A data.frame: 4 × 2\n\\begin{tabular}{r|ll}\n  & variable & num\\_levels\\\\\n  & <chr> & <int>\\\\\n\\hline\n\t1 & GenderSelect     &  5\\\\\n\t2 & Country          & 53\\\\\n\t3 & Age              &  0\\\\\n\t4 & EmploymentStatus &  7\\\\\n\\end{tabular}\n",
            "text/markdown": "\nA data.frame: 4 × 2\n\n| <!--/--> | variable &lt;chr&gt; | num_levels &lt;int&gt; |\n|---|---|---|\n| 1 | GenderSelect     |  5 |\n| 2 | Country          | 53 |\n| 3 | Age              |  0 |\n| 4 | EmploymentStatus |  7 |\n\n",
            "text/html": [
              "<table class=\"dataframe\">\n",
              "<caption>A data.frame: 4 × 2</caption>\n",
              "<thead>\n",
              "\t<tr><th></th><th scope=col>variable</th><th scope=col>num_levels</th></tr>\n",
              "\t<tr><th></th><th scope=col>&lt;chr&gt;</th><th scope=col>&lt;int&gt;</th></tr>\n",
              "</thead>\n",
              "<tbody>\n",
              "\t<tr><th scope=row>1</th><td>GenderSelect    </td><td> 5</td></tr>\n",
              "\t<tr><th scope=row>2</th><td>Country         </td><td>53</td></tr>\n",
              "\t<tr><th scope=row>3</th><td>Age             </td><td> 0</td></tr>\n",
              "\t<tr><th scope=row>4</th><td>EmploymentStatus</td><td> 7</td></tr>\n",
              "</tbody>\n",
              "</table>\n"
            ]
          },
          "metadata": {
            "tags": []
          }
        }
      ]
    },
    {
      "cell_type": "markdown",
      "metadata": {
        "id": "YePeCztAEEp7"
      },
      "source": [
        "## 3) top_n() and pull()"
      ]
    },
    {
      "cell_type": "code",
      "metadata": {
        "colab": {
          "base_uri": "https://localhost:8080/",
          "height": 189
        },
        "id": "qndAoVijEJhz",
        "outputId": "35fc0a64-fa46-4e59-b308-3d7f0636f003"
      },
      "source": [
        "# Select the 3 rows with the highest number of levels \n",
        "number_of_levels %>%\n",
        "    top_n(3, num_levels)"
      ],
      "execution_count": 71,
      "outputs": [
        {
          "output_type": "display_data",
          "data": {
            "text/plain": [
              "  variable               num_levels\n",
              "1 LearningPlatformSelect 5363      \n",
              "2 WorkToolsSelect        5249      \n",
              "3 WorkMethodsSelect      6191      "
            ],
            "text/latex": "A data.frame: 3 × 2\n\\begin{tabular}{ll}\n variable & num\\_levels\\\\\n <chr> & <int>\\\\\n\\hline\n\t LearningPlatformSelect & 5363\\\\\n\t WorkToolsSelect        & 5249\\\\\n\t WorkMethodsSelect      & 6191\\\\\n\\end{tabular}\n",
            "text/markdown": "\nA data.frame: 3 × 2\n\n| variable &lt;chr&gt; | num_levels &lt;int&gt; |\n|---|---|\n| LearningPlatformSelect | 5363 |\n| WorkToolsSelect        | 5249 |\n| WorkMethodsSelect      | 6191 |\n\n",
            "text/html": [
              "<table class=\"dataframe\">\n",
              "<caption>A data.frame: 3 × 2</caption>\n",
              "<thead>\n",
              "\t<tr><th scope=col>variable</th><th scope=col>num_levels</th></tr>\n",
              "\t<tr><th scope=col>&lt;chr&gt;</th><th scope=col>&lt;int&gt;</th></tr>\n",
              "</thead>\n",
              "<tbody>\n",
              "\t<tr><td>LearningPlatformSelect</td><td>5363</td></tr>\n",
              "\t<tr><td>WorkToolsSelect       </td><td>5249</td></tr>\n",
              "\t<tr><td>WorkMethodsSelect     </td><td>6191</td></tr>\n",
              "</tbody>\n",
              "</table>\n"
            ]
          },
          "metadata": {
            "tags": []
          }
        }
      ]
    },
    {
      "cell_type": "code",
      "metadata": {
        "colab": {
          "base_uri": "https://localhost:8080/",
          "height": 35
        },
        "id": "7y2KFze5D4GX",
        "outputId": "91e2de71-2377-41d1-aab8-e9a182725120"
      },
      "source": [
        "number_of_levels %>%\n",
        "\t# filter for where the column called variable equals CurrentJobTitleSelect\n",
        "    filter(variable == \"CurrentJobTitleSelect\") %>%\n",
        "\t# pull num_levels\n",
        "    pull(num_levels)"
      ],
      "execution_count": 72,
      "outputs": [
        {
          "output_type": "display_data",
          "data": {
            "text/plain": [
              "[1] 17"
            ],
            "text/latex": "17",
            "text/markdown": "17",
            "text/html": [
              "17"
            ]
          },
          "metadata": {
            "tags": []
          }
        }
      ]
    },
    {
      "cell_type": "markdown",
      "metadata": {
        "id": "P2pfhjSQLCNu"
      },
      "source": [
        "## 4) Extracting levels of a factor "
      ]
    },
    {
      "cell_type": "code",
      "metadata": {
        "colab": {
          "base_uri": "https://localhost:8080/",
          "height": 69
        },
        "id": "bM6rO2rvLBsv",
        "outputId": "45c72569-4044-47c9-98cd-484efcfd2912"
      },
      "source": [
        "responses_as_factors %>%\n",
        "    # pull CurrentJobTitleSelect\n",
        "    pull(CurrentJobTitleSelect) %>%\n",
        "    # get the values of the levels\n",
        "    levels()"
      ],
      "execution_count": 73,
      "outputs": [
        {
          "output_type": "display_data",
          "data": {
            "text/plain": [
              " [1] \"\"                                    \n",
              " [2] \"Business Analyst\"                    \n",
              " [3] \"Computer Scientist\"                  \n",
              " [4] \"Data Analyst\"                        \n",
              " [5] \"Data Miner\"                          \n",
              " [6] \"Data Scientist\"                      \n",
              " [7] \"DBA/Database Engineer\"               \n",
              " [8] \"Engineer\"                            \n",
              " [9] \"Machine Learning Engineer\"           \n",
              "[10] \"Operations Research Practitioner\"    \n",
              "[11] \"Other\"                               \n",
              "[12] \"Predictive Modeler\"                  \n",
              "[13] \"Programmer\"                          \n",
              "[14] \"Researcher\"                          \n",
              "[15] \"Scientist/Researcher\"                \n",
              "[16] \"Software Developer/Software Engineer\"\n",
              "[17] \"Statistician\"                        "
            ],
            "text/latex": "\\begin{enumerate*}\n\\item ''\n\\item 'Business Analyst'\n\\item 'Computer Scientist'\n\\item 'Data Analyst'\n\\item 'Data Miner'\n\\item 'Data Scientist'\n\\item 'DBA/Database Engineer'\n\\item 'Engineer'\n\\item 'Machine Learning Engineer'\n\\item 'Operations Research Practitioner'\n\\item 'Other'\n\\item 'Predictive Modeler'\n\\item 'Programmer'\n\\item 'Researcher'\n\\item 'Scientist/Researcher'\n\\item 'Software Developer/Software Engineer'\n\\item 'Statistician'\n\\end{enumerate*}\n",
            "text/markdown": "1. ''\n2. 'Business Analyst'\n3. 'Computer Scientist'\n4. 'Data Analyst'\n5. 'Data Miner'\n6. 'Data Scientist'\n7. 'DBA/Database Engineer'\n8. 'Engineer'\n9. 'Machine Learning Engineer'\n10. 'Operations Research Practitioner'\n11. 'Other'\n12. 'Predictive Modeler'\n13. 'Programmer'\n14. 'Researcher'\n15. 'Scientist/Researcher'\n16. 'Software Developer/Software Engineer'\n17. 'Statistician'\n\n\n",
            "text/html": [
              "<style>\n",
              ".list-inline {list-style: none; margin:0; padding: 0}\n",
              ".list-inline>li {display: inline-block}\n",
              ".list-inline>li:not(:last-child)::after {content: \"\\00b7\"; padding: 0 .5ex}\n",
              "</style>\n",
              "<ol class=list-inline><li>''</li><li>'Business Analyst'</li><li>'Computer Scientist'</li><li>'Data Analyst'</li><li>'Data Miner'</li><li>'Data Scientist'</li><li>'DBA/Database Engineer'</li><li>'Engineer'</li><li>'Machine Learning Engineer'</li><li>'Operations Research Practitioner'</li><li>'Other'</li><li>'Predictive Modeler'</li><li>'Programmer'</li><li>'Researcher'</li><li>'Scientist/Researcher'</li><li>'Software Developer/Software Engineer'</li><li>'Statistician'</li></ol>\n"
            ]
          },
          "metadata": {
            "tags": []
          }
        }
      ]
    },
    {
      "cell_type": "code",
      "metadata": {
        "colab": {
          "base_uri": "https://localhost:8080/",
          "height": 69
        },
        "id": "nR3FR-LdLHr1",
        "outputId": "9fa96a2d-048f-41d9-e848-3d667a20c714"
      },
      "source": [
        "# or\n",
        "levels(responses_as_factors$CurrentJobTitleSelect)"
      ],
      "execution_count": 74,
      "outputs": [
        {
          "output_type": "display_data",
          "data": {
            "text/plain": [
              " [1] \"\"                                    \n",
              " [2] \"Business Analyst\"                    \n",
              " [3] \"Computer Scientist\"                  \n",
              " [4] \"Data Analyst\"                        \n",
              " [5] \"Data Miner\"                          \n",
              " [6] \"Data Scientist\"                      \n",
              " [7] \"DBA/Database Engineer\"               \n",
              " [8] \"Engineer\"                            \n",
              " [9] \"Machine Learning Engineer\"           \n",
              "[10] \"Operations Research Practitioner\"    \n",
              "[11] \"Other\"                               \n",
              "[12] \"Predictive Modeler\"                  \n",
              "[13] \"Programmer\"                          \n",
              "[14] \"Researcher\"                          \n",
              "[15] \"Scientist/Researcher\"                \n",
              "[16] \"Software Developer/Software Engineer\"\n",
              "[17] \"Statistician\"                        "
            ],
            "text/latex": "\\begin{enumerate*}\n\\item ''\n\\item 'Business Analyst'\n\\item 'Computer Scientist'\n\\item 'Data Analyst'\n\\item 'Data Miner'\n\\item 'Data Scientist'\n\\item 'DBA/Database Engineer'\n\\item 'Engineer'\n\\item 'Machine Learning Engineer'\n\\item 'Operations Research Practitioner'\n\\item 'Other'\n\\item 'Predictive Modeler'\n\\item 'Programmer'\n\\item 'Researcher'\n\\item 'Scientist/Researcher'\n\\item 'Software Developer/Software Engineer'\n\\item 'Statistician'\n\\end{enumerate*}\n",
            "text/markdown": "1. ''\n2. 'Business Analyst'\n3. 'Computer Scientist'\n4. 'Data Analyst'\n5. 'Data Miner'\n6. 'Data Scientist'\n7. 'DBA/Database Engineer'\n8. 'Engineer'\n9. 'Machine Learning Engineer'\n10. 'Operations Research Practitioner'\n11. 'Other'\n12. 'Predictive Modeler'\n13. 'Programmer'\n14. 'Researcher'\n15. 'Scientist/Researcher'\n16. 'Software Developer/Software Engineer'\n17. 'Statistician'\n\n\n",
            "text/html": [
              "<style>\n",
              ".list-inline {list-style: none; margin:0; padding: 0}\n",
              ".list-inline>li {display: inline-block}\n",
              ".list-inline>li:not(:last-child)::after {content: \"\\00b7\"; padding: 0 .5ex}\n",
              "</style>\n",
              "<ol class=list-inline><li>''</li><li>'Business Analyst'</li><li>'Computer Scientist'</li><li>'Data Analyst'</li><li>'Data Miner'</li><li>'Data Scientist'</li><li>'DBA/Database Engineer'</li><li>'Engineer'</li><li>'Machine Learning Engineer'</li><li>'Operations Research Practitioner'</li><li>'Other'</li><li>'Predictive Modeler'</li><li>'Programmer'</li><li>'Researcher'</li><li>'Scientist/Researcher'</li><li>'Software Developer/Software Engineer'</li><li>'Statistician'</li></ol>\n"
            ]
          },
          "metadata": {
            "tags": []
          }
        }
      ]
    },
    {
      "cell_type": "code",
      "metadata": {
        "colab": {
          "base_uri": "https://localhost:8080/",
          "height": 35
        },
        "id": "fIKCKzZ8LpdC",
        "outputId": "a4166907-bf11-4a27-9d64-5940221f9918"
      },
      "source": [
        "# to know only number of levels\n",
        "nlevels(responses_as_factors$CurrentJobTitleSelect)"
      ],
      "execution_count": 75,
      "outputs": [
        {
          "output_type": "display_data",
          "data": {
            "text/plain": [
              "[1] 17"
            ],
            "text/latex": "17",
            "text/markdown": "17",
            "text/html": [
              "17"
            ]
          },
          "metadata": {
            "tags": []
          }
        }
      ]
    },
    {
      "cell_type": "markdown",
      "metadata": {
        "id": "_EwGpF9kNCjU"
      },
      "source": [
        "## 5) Forcats package for reordering categorical variables"
      ]
    },
    {
      "cell_type": "markdown",
      "metadata": {
        "id": "N5g5A1GrNRpW"
      },
      "source": [
        "### 5)a) unordered Bar plot "
      ]
    },
    {
      "cell_type": "code",
      "metadata": {
        "colab": {
          "base_uri": "https://localhost:8080/",
          "height": 857
        },
        "id": "tUfVWSAcNKRa",
        "outputId": "6aa2e91a-3b22-4e71-e6d5-7f2b345bf205"
      },
      "source": [
        "# Make a bar plot\n",
        "ggplot(multiple_choice_responses, aes(y = EmployerIndustry)) + \n",
        "    geom_bar() \n",
        "\n",
        "#or\n",
        "\n",
        "# Make a bar plot\n",
        "ggplot(multiple_choice_responses, aes(x = EmployerIndustry)) + \n",
        "    geom_bar() + \n",
        "    # flip the coordinates\n",
        "    coord_flip()"
      ],
      "execution_count": 76,
      "outputs": [
        {
          "output_type": "display_data",
          "data": {
            "image/png": "[encoded data removed]",
            "text/plain": [
              "plot without title"
            ]
          },
          "metadata": {
            "tags": [],
            "image/png": {
              "width": 420,
              "height": 420
            }
          }
        },
        {
          "output_type": "display_data",
          "data": {
            "image/png": "[encoded data removed]",
            "text/plain": [
              "plot without title"
            ]
          },
          "metadata": {
            "tags": [],
            "image/png": {
              "width": 420,
              "height": 420
            }
          }
        }
      ]
    },
    {
      "cell_type": "markdown",
      "metadata": {
        "id": "2cjnAhHfNYiE"
      },
      "source": [
        "### 5)b) ordered levels by frequency: fct_infreq()"
      ]
    },
    {
      "cell_type": "code",
      "metadata": {
        "id": "WKev5ST8NxJW"
      },
      "source": [
        "library(forcats)"
      ],
      "execution_count": 77,
      "outputs": []
    },
    {
      "cell_type": "code",
      "metadata": {
        "colab": {
          "base_uri": "https://localhost:8080/",
          "height": 437
        },
        "id": "J2IpL1PINkfX",
        "outputId": "b4a393ad-81b5-40cb-a7a4-16d4ac4c4f2e"
      },
      "source": [
        "# Make a bar plot \n",
        "ggplot(multiple_choice_responses, aes(x = fct_infreq(EmployerIndustry))) + \n",
        "    geom_bar() + \n",
        "    # flip the coordinates\n",
        "    coord_flip()"
      ],
      "execution_count": 78,
      "outputs": [
        {
          "output_type": "display_data",
          "data": {
            "image/png": "[encoded data removed]",
            "text/plain": [
              "plot without title"
            ]
          },
          "metadata": {
            "tags": [],
            "image/png": {
              "width": 420,
              "height": 420
            }
          }
        }
      ]
    },
    {
      "cell_type": "code",
      "metadata": {
        "colab": {
          "base_uri": "https://localhost:8080/",
          "height": 437
        },
        "id": "uts-c-GdOQmD",
        "outputId": "e50445b4-9c04-44f2-d78a-6582364be97b"
      },
      "source": [
        "# Make a bar plot \n",
        "ggplot(multiple_choice_responses, aes(x = fct_rev(fct_infreq(EmployerIndustry)))) + \n",
        "    geom_bar() + \n",
        "    # flip the coordinates\n",
        "    coord_flip()"
      ],
      "execution_count": 79,
      "outputs": [
        {
          "output_type": "display_data",
          "data": {
            "image/png": "[encoded data removed]",
            "text/plain": [
              "plot without title"
            ]
          },
          "metadata": {
            "tags": [],
            "image/png": {
              "width": 420,
              "height": 420
            }
          }
        }
      ]
    },
    {
      "cell_type": "markdown",
      "metadata": {
        "id": "_mdRsgCQPkx5"
      },
      "source": [
        "### 5)c) order levels inside mutate by another variable (like mean_age)"
      ]
    },
    {
      "cell_type": "markdown",
      "metadata": {
        "id": "ZFPVzSrtS8g4"
      },
      "source": [
        "### fct_reorder"
      ]
    },
    {
      "cell_type": "code",
      "metadata": {
        "colab": {
          "base_uri": "https://localhost:8080/",
          "height": 618
        },
        "id": "hhga5udmOiQk",
        "outputId": "91fded9f-8f9b-4ca7-cfb7-3d86f76e8810"
      },
      "source": [
        "industry_age <- multiple_choice_responses %>%\n",
        "  # remove NAs\n",
        "  filter(!is.na(EmployerIndustry) & !is.na(Age)) %>%\n",
        "  # get mean_age by EmployerIndustry\n",
        "  group_by(EmployerIndustry) %>%\n",
        "  summarise(mean_age = mean(Age)) %>%\n",
        "  # reorder EmployerIndustry by mean_age \n",
        "  mutate(EmployerIndustry = fct_reorder(EmployerIndustry, mean_age))\n",
        "\n",
        "industry_age"
      ],
      "execution_count": 80,
      "outputs": [
        {
          "output_type": "display_data",
          "data": {
            "text/plain": [
              "   EmployerIndustry                 mean_age\n",
              "1                                   29.64275\n",
              "2  Academic                         34.67181\n",
              "3  CRM/Marketing                    33.07050\n",
              "4  Financial                        33.44494\n",
              "5  Government                       37.02904\n",
              "6  Hospitality/Entertainment/Sports 32.56643\n",
              "7  Insurance                        34.50993\n",
              "8  Internet-based                   32.43036\n",
              "9  Manufacturing                    36.04136\n",
              "10 Military/Security                35.82836\n",
              "11 Mix of fields                    33.76727\n",
              "12 Non-profit                       34.61310\n",
              "13 Other                            35.17405\n",
              "14 Pharmaceutical                   34.73913\n",
              "15 Retail                           32.46082\n",
              "16 Technology                       32.16330\n",
              "17 Telecommunications               34.69576"
            ],
            "text/latex": "A tibble: 17 × 2\n\\begin{tabular}{ll}\n EmployerIndustry & mean\\_age\\\\\n <fct> & <dbl>\\\\\n\\hline\n\t                                  & 29.64275\\\\\n\t Academic                         & 34.67181\\\\\n\t CRM/Marketing                    & 33.07050\\\\\n\t Financial                        & 33.44494\\\\\n\t Government                       & 37.02904\\\\\n\t Hospitality/Entertainment/Sports & 32.56643\\\\\n\t Insurance                        & 34.50993\\\\\n\t Internet-based                   & 32.43036\\\\\n\t Manufacturing                    & 36.04136\\\\\n\t Military/Security                & 35.82836\\\\\n\t Mix of fields                    & 33.76727\\\\\n\t Non-profit                       & 34.61310\\\\\n\t Other                            & 35.17405\\\\\n\t Pharmaceutical                   & 34.73913\\\\\n\t Retail                           & 32.46082\\\\\n\t Technology                       & 32.16330\\\\\n\t Telecommunications               & 34.69576\\\\\n\\end{tabular}\n",
            "text/markdown": "\nA tibble: 17 × 2\n\n| EmployerIndustry &lt;fct&gt; | mean_age &lt;dbl&gt; |\n|---|---|\n| <!----> | 29.64275 |\n| Academic                         | 34.67181 |\n| CRM/Marketing                    | 33.07050 |\n| Financial                        | 33.44494 |\n| Government                       | 37.02904 |\n| Hospitality/Entertainment/Sports | 32.56643 |\n| Insurance                        | 34.50993 |\n| Internet-based                   | 32.43036 |\n| Manufacturing                    | 36.04136 |\n| Military/Security                | 35.82836 |\n| Mix of fields                    | 33.76727 |\n| Non-profit                       | 34.61310 |\n| Other                            | 35.17405 |\n| Pharmaceutical                   | 34.73913 |\n| Retail                           | 32.46082 |\n| Technology                       | 32.16330 |\n| Telecommunications               | 34.69576 |\n\n",
            "text/html": [
              "<table class=\"dataframe\">\n",
              "<caption>A tibble: 17 × 2</caption>\n",
              "<thead>\n",
              "\t<tr><th scope=col>EmployerIndustry</th><th scope=col>mean_age</th></tr>\n",
              "\t<tr><th scope=col>&lt;fct&gt;</th><th scope=col>&lt;dbl&gt;</th></tr>\n",
              "</thead>\n",
              "<tbody>\n",
              "\t<tr><td>                                </td><td>29.64275</td></tr>\n",
              "\t<tr><td>Academic                        </td><td>34.67181</td></tr>\n",
              "\t<tr><td>CRM/Marketing                   </td><td>33.07050</td></tr>\n",
              "\t<tr><td>Financial                       </td><td>33.44494</td></tr>\n",
              "\t<tr><td>Government                      </td><td>37.02904</td></tr>\n",
              "\t<tr><td>Hospitality/Entertainment/Sports</td><td>32.56643</td></tr>\n",
              "\t<tr><td>Insurance                       </td><td>34.50993</td></tr>\n",
              "\t<tr><td>Internet-based                  </td><td>32.43036</td></tr>\n",
              "\t<tr><td>Manufacturing                   </td><td>36.04136</td></tr>\n",
              "\t<tr><td>Military/Security               </td><td>35.82836</td></tr>\n",
              "\t<tr><td>Mix of fields                   </td><td>33.76727</td></tr>\n",
              "\t<tr><td>Non-profit                      </td><td>34.61310</td></tr>\n",
              "\t<tr><td>Other                           </td><td>35.17405</td></tr>\n",
              "\t<tr><td>Pharmaceutical                  </td><td>34.73913</td></tr>\n",
              "\t<tr><td>Retail                          </td><td>32.46082</td></tr>\n",
              "\t<tr><td>Technology                      </td><td>32.16330</td></tr>\n",
              "\t<tr><td>Telecommunications              </td><td>34.69576</td></tr>\n",
              "</tbody>\n",
              "</table>\n"
            ]
          },
          "metadata": {
            "tags": []
          }
        }
      ]
    },
    {
      "cell_type": "code",
      "metadata": {
        "colab": {
          "base_uri": "https://localhost:8080/",
          "height": 437
        },
        "id": "qgVAOQZAP3JL",
        "outputId": "397a8da9-9547-457a-d665-96c36473c1de"
      },
      "source": [
        "industry_age %>%\n",
        "  ggplot(aes(x = EmployerIndustry, y = mean_age)) + \n",
        "    geom_point() + \n",
        "    coord_flip()"
      ],
      "execution_count": 81,
      "outputs": [
        {
          "output_type": "display_data",
          "data": {
            "image/png": "[encoded data removed]",
            "text/plain": [
              "plot without title"
            ]
          },
          "metadata": {
            "tags": [],
            "image/png": {
              "width": 420,
              "height": 420
            }
          }
        }
      ]
    },
    {
      "cell_type": "markdown",
      "metadata": {
        "id": "kT5REsUKRfJF"
      },
      "source": [
        "## 6) Reordering factors by inherent ordering"
      ]
    },
    {
      "cell_type": "markdown",
      "metadata": {
        "id": "fR44ki0KS4bc"
      },
      "source": [
        "### 6)a) fct_relevel()"
      ]
    },
    {
      "cell_type": "code",
      "metadata": {
        "colab": {
          "base_uri": "https://localhost:8080/",
          "height": 35
        },
        "id": "WajJ6tYQQXSd",
        "outputId": "2cccf748-83d1-4578-be40-9348df168303"
      },
      "source": [
        "# Get the levels of WorkInternalVsExternalTools\n",
        "levels(multiple_choice_responses$WorkInternalVsExternalTools)"
      ],
      "execution_count": 82,
      "outputs": [
        {
          "output_type": "display_data",
          "data": {
            "text/plain": [
              "NULL"
            ]
          },
          "metadata": {
            "tags": []
          }
        }
      ]
    },
    {
      "cell_type": "code",
      "metadata": {
        "colab": {
          "base_uri": "https://localhost:8080/",
          "height": 52
        },
        "id": "LekrK75NSapM",
        "outputId": "f4209d6b-3223-4cdd-cea9-6f379619ab1f"
      },
      "source": [
        "unique(multiple_choice_responses$WorkInternalVsExternalTools)"
      ],
      "execution_count": 83,
      "outputs": [
        {
          "output_type": "display_data",
          "data": {
            "text/plain": [
              "[1] \"Do not know\"                                  \n",
              "[2] \"\"                                             \n",
              "[3] \"Entirely internal\"                            \n",
              "[4] \"Approximately half internal and half external\"\n",
              "[5] \"More internal than external\"                  \n",
              "[6] \"More external than internal\"                  \n",
              "[7] \"Entirely external\"                            "
            ],
            "text/latex": "\\begin{enumerate*}\n\\item 'Do not know'\n\\item ''\n\\item 'Entirely internal'\n\\item 'Approximately half internal and half external'\n\\item 'More internal than external'\n\\item 'More external than internal'\n\\item 'Entirely external'\n\\end{enumerate*}\n",
            "text/markdown": "1. 'Do not know'\n2. ''\n3. 'Entirely internal'\n4. 'Approximately half internal and half external'\n5. 'More internal than external'\n6. 'More external than internal'\n7. 'Entirely external'\n\n\n",
            "text/html": [
              "<style>\n",
              ".list-inline {list-style: none; margin:0; padding: 0}\n",
              ".list-inline>li {display: inline-block}\n",
              ".list-inline>li:not(:last-child)::after {content: \"\\00b7\"; padding: 0 .5ex}\n",
              "</style>\n",
              "<ol class=list-inline><li>'Do not know'</li><li>''</li><li>'Entirely internal'</li><li>'Approximately half internal and half external'</li><li>'More internal than external'</li><li>'More external than internal'</li><li>'Entirely external'</li></ol>\n"
            ]
          },
          "metadata": {
            "tags": []
          }
        }
      ]
    },
    {
      "cell_type": "code",
      "metadata": {
        "id": "AQCwig0ESU9A"
      },
      "source": [
        "# Manually change the order of the levels to go from internal to external, with \"Do not know\" last \n",
        "mc_responses_reordered <- multiple_choice_responses %>%\n",
        "    mutate(WorkInternalVsExternalTools = fct_relevel(WorkInternalVsExternalTools, \n",
        "    \"Entirely internal\", \"More internal than external\", \n",
        "    \"Approximately half internal and half external\", \n",
        "    \"More external than internal\", \"Entirely external\", \n",
        "    \"Do not know\"))"
      ],
      "execution_count": 84,
      "outputs": []
    },
    {
      "cell_type": "code",
      "metadata": {
        "colab": {
          "base_uri": "https://localhost:8080/",
          "height": 437
        },
        "id": "24gQAQ7oSsvb",
        "outputId": "41a1a82e-5f92-4ef8-fbac-ccbb86dac5c1"
      },
      "source": [
        "# Make a bar plot of the responses\n",
        "ggplot(mc_responses_reordered, aes(WorkInternalVsExternalTools)) + \n",
        "    geom_bar() + \n",
        "    coord_flip()"
      ],
      "execution_count": 85,
      "outputs": [
        {
          "output_type": "display_data",
          "data": {
            "image/png": "[encoded data removed]",
            "text/plain": [
              "plot without title"
            ]
          },
          "metadata": {
            "tags": [],
            "image/png": {
              "width": 420,
              "height": 420
            }
          }
        }
      ]
    },
    {
      "cell_type": "markdown",
      "metadata": {
        "id": "qG65cYrnTM5u"
      },
      "source": [
        "### 6)b) Tricks for fct_reorder"
      ]
    },
    {
      "cell_type": "markdown",
      "metadata": {
        "id": "NYFH5V2bTWOe"
      },
      "source": [
        "the name of each level had to be written out to explicitly reorder the factor. But sometimes you have many levels and only need to move one. Instead of writing out all the levels, you can use some helper arguments in fct_relevel() to save you some typing."
      ]
    },
    {
      "cell_type": "code",
      "metadata": {
        "colab": {
          "base_uri": "https://localhost:8080/",
          "height": 52
        },
        "id": "FgGzBMyfTQQp",
        "outputId": "d71236f9-5055-4721-98fd-16f975d8ea48"
      },
      "source": [
        "multiple_choice_responses %>%\n",
        "    # Move \"I did not complete any formal education past high school\" and \"Some college/university study without earning a bachelor's degree\" to the front\n",
        "    mutate(FormalEducation = fct_relevel(FormalEducation, \n",
        "    \"I did not complete any formal education past high school\", \n",
        "    \"Some college/university study without earning a bachelor's degree\")) %>%\n",
        "    # Move \"I prefer not to answer\" to be the last level.\n",
        "    mutate(FormalEducation = fct_relevel(FormalEducation, \"I prefer not to answer\", after = Inf)) %>%\n",
        "    # Move \"Doctoral degree\" to be after the 5th level\n",
        "    mutate(FormalEducation = fct_relevel(FormalEducation, \"Doctoral degree\", after = 5)) %>%\n",
        "    # Examine the new level order\n",
        "    pull(FormalEducation) %>%\n",
        "    levels()"
      ],
      "execution_count": 86,
      "outputs": [
        {
          "output_type": "display_data",
          "data": {
            "text/plain": [
              "[1] \"I did not complete any formal education past high school\"         \n",
              "[2] \"Some college/university study without earning a bachelor's degree\"\n",
              "[3] \"\"                                                                 \n",
              "[4] \"Bachelor's degree\"                                                \n",
              "[5] \"Master's degree\"                                                  \n",
              "[6] \"Doctoral degree\"                                                  \n",
              "[7] \"Professional degree\"                                              \n",
              "[8] \"I prefer not to answer\"                                           "
            ],
            "text/latex": "\\begin{enumerate*}\n\\item 'I did not complete any formal education past high school'\n\\item 'Some college/university study without earning a bachelor\\textbackslash{}'s degree'\n\\item ''\n\\item 'Bachelor\\textbackslash{}'s degree'\n\\item 'Master\\textbackslash{}'s degree'\n\\item 'Doctoral degree'\n\\item 'Professional degree'\n\\item 'I prefer not to answer'\n\\end{enumerate*}\n",
            "text/markdown": "1. 'I did not complete any formal education past high school'\n2. 'Some college/university study without earning a bachelor\\'s degree'\n3. ''\n4. 'Bachelor\\'s degree'\n5. 'Master\\'s degree'\n6. 'Doctoral degree'\n7. 'Professional degree'\n8. 'I prefer not to answer'\n\n\n",
            "text/html": [
              "<style>\n",
              ".list-inline {list-style: none; margin:0; padding: 0}\n",
              ".list-inline>li {display: inline-block}\n",
              ".list-inline>li:not(:last-child)::after {content: \"\\00b7\"; padding: 0 .5ex}\n",
              "</style>\n",
              "<ol class=list-inline><li>'I did not complete any formal education past high school'</li><li>'Some college/university study without earning a bachelor\\'s degree'</li><li>''</li><li>'Bachelor\\'s degree'</li><li>'Master\\'s degree'</li><li>'Doctoral degree'</li><li>'Professional degree'</li><li>'I prefer not to answer'</li></ol>\n"
            ]
          },
          "metadata": {
            "tags": []
          }
        }
      ]
    },
    {
      "cell_type": "markdown",
      "metadata": {
        "id": "JYKgYaCST1Gg"
      },
      "source": [
        "## 7) Renaming factors with fct_recode()"
      ]
    },
    {
      "cell_type": "code",
      "metadata": {
        "colab": {
          "base_uri": "https://localhost:8080/",
          "height": 437
        },
        "id": "SHWfk7ZKU_IG",
        "outputId": "d678b21f-e22b-4c07-987a-e8d30f95db49"
      },
      "source": [
        "multiple_choice_responses %>%\n",
        "    # rename the appropriate levels to \"High school\" and \"Some college\"\n",
        "    mutate(FormalEducation = fct_recode(FormalEducation, \n",
        "    \"High school\" = \"I did not complete any formal education past high school\", \n",
        "    \"Some college\" = \"Some college/university study without earning a bachelor's degree\")) %>%\n",
        "    # make a bar plot of FormalEducation\n",
        "    ggplot(aes(x = FormalEducation)) + \n",
        "    geom_bar()"
      ],
      "execution_count": 24,
      "outputs": [
        {
          "output_type": "display_data",
          "data": {
            "image/png": "[encoded data removed]",
            "text/plain": [
              "plot without title"
            ]
          },
          "metadata": {
            "tags": [],
            "image/png": {
              "width": 420,
              "height": 420
            }
          }
        }
      ]
    },
    {
      "cell_type": "markdown",
      "metadata": {
        "id": "Y91D3y0VVadx"
      },
      "source": [
        "## 8) Collapsing levels with fct_collapse, fct_other and fct_lump"
      ]
    },
    {
      "cell_type": "markdown",
      "metadata": {
        "id": "N7h3n117W9u4"
      },
      "source": [
        "### 8)a) fct_collapse and fct_other"
      ]
    },
    {
      "cell_type": "code",
      "metadata": {
        "id": "UdBnT_0kWFBv",
        "colab": {
          "base_uri": "https://localhost:8080/",
          "height": 219
        },
        "outputId": "5e5e5d83-517b-4494-abad-2faea657c9d5"
      },
      "source": [
        "multiple_choice_responses %>%\n",
        "    # Create new variable, grouped_titles, by collapsing levels in CurrentJobTitleSelect\n",
        "    mutate(grouped_titles = fct_collapse(CurrentJobTitleSelect, \n",
        "        \"Computer Scientist\" = c(\"Programmer\", \"Software Developer/Software Engineer\"), \n",
        "        \"Researcher\" = \"Scientist/Researcher\", \n",
        "        \"Data Analyst/Scientist/Engineer\" = c(\"DBA/Database Engineer\", \"Data Scientist\", \n",
        "                                          \"Business Analyst\", \"Data Analyst\", \n",
        "                                          \"Data Miner\", \"Predictive Modeler\"))) %>%\n",
        "    # Keep all the new titles and turn every other title into \"Other\"\n",
        "    mutate(grouped_titles = fct_other(grouped_titles, \n",
        "                                      keep = c(\"Computer Scientist\", \n",
        "                                               \"Researcher\", \n",
        "                                               \"Data Analyst/Scientist/Engineer\"))) %>% \n",
        "    # Get a count of the grouped titles\n",
        "    count(grouped_titles)"
      ],
      "execution_count": 87,
      "outputs": [
        {
          "output_type": "display_data",
          "data": {
            "text/plain": [
              "  grouped_titles                  n   \n",
              "1 Data Analyst/Scientist/Engineer 4928\n",
              "2 Computer Scientist              2556\n",
              "3 Researcher                      1597\n",
              "4 Other                           7635"
            ],
            "text/latex": "A data.frame: 4 × 2\n\\begin{tabular}{ll}\n grouped\\_titles & n\\\\\n <fct> & <int>\\\\\n\\hline\n\t Data Analyst/Scientist/Engineer & 4928\\\\\n\t Computer Scientist              & 2556\\\\\n\t Researcher                      & 1597\\\\\n\t Other                           & 7635\\\\\n\\end{tabular}\n",
            "text/markdown": "\nA data.frame: 4 × 2\n\n| grouped_titles &lt;fct&gt; | n &lt;int&gt; |\n|---|---|\n| Data Analyst/Scientist/Engineer | 4928 |\n| Computer Scientist              | 2556 |\n| Researcher                      | 1597 |\n| Other                           | 7635 |\n\n",
            "text/html": [
              "<table class=\"dataframe\">\n",
              "<caption>A data.frame: 4 × 2</caption>\n",
              "<thead>\n",
              "\t<tr><th scope=col>grouped_titles</th><th scope=col>n</th></tr>\n",
              "\t<tr><th scope=col>&lt;fct&gt;</th><th scope=col>&lt;int&gt;</th></tr>\n",
              "</thead>\n",
              "<tbody>\n",
              "\t<tr><td>Data Analyst/Scientist/Engineer</td><td>4928</td></tr>\n",
              "\t<tr><td>Computer Scientist             </td><td>2556</td></tr>\n",
              "\t<tr><td>Researcher                     </td><td>1597</td></tr>\n",
              "\t<tr><td>Other                          </td><td>7635</td></tr>\n",
              "</tbody>\n",
              "</table>\n"
            ]
          },
          "metadata": {
            "tags": []
          }
        }
      ]
    },
    {
      "cell_type": "markdown",
      "metadata": {
        "id": "KZ1nnf6bXJbB"
      },
      "source": [
        "### 8)b) fct_lump"
      ]
    },
    {
      "cell_type": "markdown",
      "metadata": {
        "id": "3YtVJeE9Xoqc"
      },
      "source": [
        "using fct_lump with prop and n"
      ]
    },
    {
      "cell_type": "code",
      "metadata": {
        "id": "_w7G7cutXJD2",
        "colab": {
          "base_uri": "https://localhost:8080/",
          "height": 219
        },
        "outputId": "9e49752f-38fc-493c-8e61-6b5f4b593042"
      },
      "source": [
        "multiple_choice_responses %>%\n",
        "  # remove NAs of MLMethodNextYearSelect\n",
        "  filter(!is.na(MLMethodNextYearSelect)) %>%\n",
        "  # create ml_method, which lumps all those with less than 5% of people into \"Other\"\n",
        "  mutate(ml_method = fct_lump(MLMethodNextYearSelect, prop = .05)) %>%\n",
        "  # count the frequency of your new variable, sorted in descending order\n",
        "  count(ml_method, sort = TRUE)"
      ],
      "execution_count": 88,
      "outputs": [
        {
          "output_type": "display_data",
          "data": {
            "text/plain": [
              "  ml_method     n   \n",
              "1               5883\n",
              "2 Other         5085\n",
              "3 Deep learning 4362\n",
              "4 Neural Nets   1386"
            ],
            "text/latex": "A data.frame: 4 × 2\n\\begin{tabular}{ll}\n ml\\_method & n\\\\\n <fct> & <int>\\\\\n\\hline\n\t               & 5883\\\\\n\t Other         & 5085\\\\\n\t Deep learning & 4362\\\\\n\t Neural Nets   & 1386\\\\\n\\end{tabular}\n",
            "text/markdown": "\nA data.frame: 4 × 2\n\n| ml_method &lt;fct&gt; | n &lt;int&gt; |\n|---|---|\n| <!----> | 5883 |\n| Other         | 5085 |\n| Deep learning | 4362 |\n| Neural Nets   | 1386 |\n\n",
            "text/html": [
              "<table class=\"dataframe\">\n",
              "<caption>A data.frame: 4 × 2</caption>\n",
              "<thead>\n",
              "\t<tr><th scope=col>ml_method</th><th scope=col>n</th></tr>\n",
              "\t<tr><th scope=col>&lt;fct&gt;</th><th scope=col>&lt;int&gt;</th></tr>\n",
              "</thead>\n",
              "<tbody>\n",
              "\t<tr><td>             </td><td>5883</td></tr>\n",
              "\t<tr><td>Other        </td><td>5085</td></tr>\n",
              "\t<tr><td>Deep learning</td><td>4362</td></tr>\n",
              "\t<tr><td>Neural Nets  </td><td>1386</td></tr>\n",
              "</tbody>\n",
              "</table>\n"
            ]
          },
          "metadata": {
            "tags": []
          }
        }
      ]
    },
    {
      "cell_type": "code",
      "metadata": {
        "id": "Hfb5t_-2XhKk",
        "colab": {
          "base_uri": "https://localhost:8080/",
          "height": 281
        },
        "outputId": "cf6b9e3e-12e7-4e44-ac27-894f5b3431be"
      },
      "source": [
        "multiple_choice_responses %>%\n",
        "  # remove NAs \n",
        "  filter(!is.na(MLMethodNextYearSelect)) %>%\n",
        "  # create ml_method, retaining the 5 most common methods and renaming others \"other method\" \n",
        "  mutate(ml_method = fct_lump(MLMethodNextYearSelect, n = 5, other_level = \"other method\")) %>%\n",
        "  # count the frequency of your new variable, sorted in descending order\n",
        "  count(ml_method, sort = TRUE)"
      ],
      "execution_count": 89,
      "outputs": [
        {
          "output_type": "display_data",
          "data": {
            "text/plain": [
              "  ml_method            n   \n",
              "1                      5883\n",
              "2 Deep learning        4362\n",
              "3 other method         3894\n",
              "4 Neural Nets          1386\n",
              "5 Time Series Analysis  680\n",
              "6 Bayesian Methods      511"
            ],
            "text/latex": "A data.frame: 6 × 2\n\\begin{tabular}{ll}\n ml\\_method & n\\\\\n <fct> & <int>\\\\\n\\hline\n\t                      & 5883\\\\\n\t Deep learning        & 4362\\\\\n\t other method         & 3894\\\\\n\t Neural Nets          & 1386\\\\\n\t Time Series Analysis &  680\\\\\n\t Bayesian Methods     &  511\\\\\n\\end{tabular}\n",
            "text/markdown": "\nA data.frame: 6 × 2\n\n| ml_method &lt;fct&gt; | n &lt;int&gt; |\n|---|---|\n| <!----> | 5883 |\n| Deep learning        | 4362 |\n| other method         | 3894 |\n| Neural Nets          | 1386 |\n| Time Series Analysis |  680 |\n| Bayesian Methods     |  511 |\n\n",
            "text/html": [
              "<table class=\"dataframe\">\n",
              "<caption>A data.frame: 6 × 2</caption>\n",
              "<thead>\n",
              "\t<tr><th scope=col>ml_method</th><th scope=col>n</th></tr>\n",
              "\t<tr><th scope=col>&lt;fct&gt;</th><th scope=col>&lt;int&gt;</th></tr>\n",
              "</thead>\n",
              "<tbody>\n",
              "\t<tr><td>                    </td><td>5883</td></tr>\n",
              "\t<tr><td>Deep learning       </td><td>4362</td></tr>\n",
              "\t<tr><td>other method        </td><td>3894</td></tr>\n",
              "\t<tr><td>Neural Nets         </td><td>1386</td></tr>\n",
              "\t<tr><td>Time Series Analysis</td><td> 680</td></tr>\n",
              "\t<tr><td>Bayesian Methods    </td><td> 511</td></tr>\n",
              "</tbody>\n",
              "</table>\n"
            ]
          },
          "metadata": {
            "tags": []
          }
        }
      ]
    },
    {
      "cell_type": "markdown",
      "metadata": {
        "id": "bUjIeR8KYaIy"
      },
      "source": [
        "## 9) Grouping and reshaping similar columns with select(contains) and gather()\n"
      ]
    },
    {
      "cell_type": "code",
      "metadata": {
        "colab": {
          "base_uri": "https://localhost:8080/",
          "height": 301
        },
        "id": "w73PElUgb0eK",
        "outputId": "57c9551f-afee-4252-f8fa-135eafa85cc3"
      },
      "source": [
        "multiple_choice_responses %>%\n",
        "  # select columns with LearningPlatformUsefulness in title\n",
        "  select(contains(\"LearningPlatformUsefulness\")) %>%\n",
        "  head()"
      ],
      "execution_count": 90,
      "outputs": [
        {
          "output_type": "display_data",
          "data": {
            "text/plain": [
              "  LearningPlatformUsefulnessArxiv LearningPlatformUsefulnessBlogs\n",
              "1                                                                \n",
              "2                                                                \n",
              "3 Very useful                                                    \n",
              "4                                 Very useful                    \n",
              "5 Very useful                                                    \n",
              "6                                                                \n",
              "  LearningPlatformUsefulnessCollege LearningPlatformUsefulnessCompany\n",
              "1                                                                    \n",
              "2                                                                    \n",
              "3 Somewhat useful                                                    \n",
              "4 Very useful                                                        \n",
              "5                                                                    \n",
              "6                                                                    \n",
              "  LearningPlatformUsefulnessConferences LearningPlatformUsefulnessFriends\n",
              "1 Very useful                                                            \n",
              "2                                                                        \n",
              "3                                                                        \n",
              "4 Very useful                           Very useful                      \n",
              "5 Somewhat useful                                                        \n",
              "6                                                                        \n",
              "  LearningPlatformUsefulnessKaggle LearningPlatformUsefulnessNewsletters\n",
              "1                                                                       \n",
              "2 Somewhat useful                                                       \n",
              "3 Somewhat useful                                                       \n",
              "4                                                                       \n",
              "5 Somewhat useful                                                       \n",
              "6 Very useful                                                           \n",
              "  LearningPlatformUsefulnessCommunities LearningPlatformUsefulnessDocumentation\n",
              "1                                                                              \n",
              "2                                                                              \n",
              "3                                                                              \n",
              "4                                       Very useful                            \n",
              "5                                                                              \n",
              "6                                                                              \n",
              "  LearningPlatformUsefulnessCourses LearningPlatformUsefulnessProjects\n",
              "1                                                                     \n",
              "2                                                                     \n",
              "3 Very useful                                                         \n",
              "4 Very useful                       Very useful                       \n",
              "5                                                                     \n",
              "6 Very useful                                                         \n",
              "  LearningPlatformUsefulnessPodcasts LearningPlatformUsefulnessSO\n",
              "1 Very useful                                                    \n",
              "2                                                                \n",
              "3                                                                \n",
              "4                                                                \n",
              "5                                                                \n",
              "6                                    Very useful                 \n",
              "  LearningPlatformUsefulnessTextbook LearningPlatformUsefulnessTradeBook\n",
              "1                                    Somewhat useful                    \n",
              "2                                                                       \n",
              "3                                                                       \n",
              "4                                                                       \n",
              "5 Somewhat useful                                                       \n",
              "6 Very useful                                                           \n",
              "  LearningPlatformUsefulnessTutoring LearningPlatformUsefulnessYouTube\n",
              "1                                                                     \n",
              "2                                                                     \n",
              "3                                    Very useful                      \n",
              "4                                                                     \n",
              "5                                                                     \n",
              "6                                                                     "
            ],
            "text/latex": "A data.frame: 6 × 18\n\\begin{tabular}{r|llllllllllllllllll}\n  & LearningPlatformUsefulnessArxiv & LearningPlatformUsefulnessBlogs & LearningPlatformUsefulnessCollege & LearningPlatformUsefulnessCompany & LearningPlatformUsefulnessConferences & LearningPlatformUsefulnessFriends & LearningPlatformUsefulnessKaggle & LearningPlatformUsefulnessNewsletters & LearningPlatformUsefulnessCommunities & LearningPlatformUsefulnessDocumentation & LearningPlatformUsefulnessCourses & LearningPlatformUsefulnessProjects & LearningPlatformUsefulnessPodcasts & LearningPlatformUsefulnessSO & LearningPlatformUsefulnessTextbook & LearningPlatformUsefulnessTradeBook & LearningPlatformUsefulnessTutoring & LearningPlatformUsefulnessYouTube\\\\\n  & <chr> & <chr> & <chr> & <chr> & <chr> & <chr> & <chr> & <chr> & <chr> & <chr> & <chr> & <chr> & <chr> & <chr> & <chr> & <chr> & <chr> & <chr>\\\\\n\\hline\n\t1 &             &             &                 &  & Very useful     &             &                 &  &  &             &             &             & Very useful &             &                 & Somewhat useful &  &            \\\\\n\t2 &             &             &                 &  &                 &             & Somewhat useful &  &  &             &             &             &             &             &                 &                 &  &            \\\\\n\t3 & Very useful &             & Somewhat useful &  &                 &             & Somewhat useful &  &  &             & Very useful &             &             &             &                 &                 &  & Very useful\\\\\n\t4 &             & Very useful & Very useful     &  & Very useful     & Very useful &                 &  &  & Very useful & Very useful & Very useful &             &             &                 &                 &  &            \\\\\n\t5 & Very useful &             &                 &  & Somewhat useful &             & Somewhat useful &  &  &             &             &             &             &             & Somewhat useful &                 &  &            \\\\\n\t6 &             &             &                 &  &                 &             & Very useful     &  &  &             & Very useful &             &             & Very useful & Very useful     &                 &  &            \\\\\n\\end{tabular}\n",
            "text/markdown": "\nA data.frame: 6 × 18\n\n| <!--/--> | LearningPlatformUsefulnessArxiv &lt;chr&gt; | LearningPlatformUsefulnessBlogs &lt;chr&gt; | LearningPlatformUsefulnessCollege &lt;chr&gt; | LearningPlatformUsefulnessCompany &lt;chr&gt; | LearningPlatformUsefulnessConferences &lt;chr&gt; | LearningPlatformUsefulnessFriends &lt;chr&gt; | LearningPlatformUsefulnessKaggle &lt;chr&gt; | LearningPlatformUsefulnessNewsletters &lt;chr&gt; | LearningPlatformUsefulnessCommunities &lt;chr&gt; | LearningPlatformUsefulnessDocumentation &lt;chr&gt; | LearningPlatformUsefulnessCourses &lt;chr&gt; | LearningPlatformUsefulnessProjects &lt;chr&gt; | LearningPlatformUsefulnessPodcasts &lt;chr&gt; | LearningPlatformUsefulnessSO &lt;chr&gt; | LearningPlatformUsefulnessTextbook &lt;chr&gt; | LearningPlatformUsefulnessTradeBook &lt;chr&gt; | LearningPlatformUsefulnessTutoring &lt;chr&gt; | LearningPlatformUsefulnessYouTube &lt;chr&gt; |\n|---|---|---|---|---|---|---|---|---|---|---|---|---|---|---|---|---|---|---|\n| 1 | <!----> | <!----> | <!----> | <!----> | Very useful     | <!----> | <!----> | <!----> | <!----> | <!----> | <!----> | <!----> | Very useful | <!----> | <!----> | Somewhat useful | <!----> | <!----> |\n| 2 | <!----> | <!----> | <!----> | <!----> | <!----> | <!----> | Somewhat useful | <!----> | <!----> | <!----> | <!----> | <!----> | <!----> | <!----> | <!----> | <!----> | <!----> | <!----> |\n| 3 | Very useful | <!----> | Somewhat useful | <!----> | <!----> | <!----> | Somewhat useful | <!----> | <!----> | <!----> | Very useful | <!----> | <!----> | <!----> | <!----> | <!----> | <!----> | Very useful |\n| 4 | <!----> | Very useful | Very useful     | <!----> | Very useful     | Very useful | <!----> | <!----> | <!----> | Very useful | Very useful | Very useful | <!----> | <!----> | <!----> | <!----> | <!----> | <!----> |\n| 5 | Very useful | <!----> | <!----> | <!----> | Somewhat useful | <!----> | Somewhat useful | <!----> | <!----> | <!----> | <!----> | <!----> | <!----> | <!----> | Somewhat useful | <!----> | <!----> | <!----> |\n| 6 | <!----> | <!----> | <!----> | <!----> | <!----> | <!----> | Very useful     | <!----> | <!----> | <!----> | Very useful | <!----> | <!----> | Very useful | Very useful     | <!----> | <!----> | <!----> |\n\n",
            "text/html": [
              "<table class=\"dataframe\">\n",
              "<caption>A data.frame: 6 × 18</caption>\n",
              "<thead>\n",
              "\t<tr><th></th><th scope=col>LearningPlatformUsefulnessArxiv</th><th scope=col>LearningPlatformUsefulnessBlogs</th><th scope=col>LearningPlatformUsefulnessCollege</th><th scope=col>LearningPlatformUsefulnessCompany</th><th scope=col>LearningPlatformUsefulnessConferences</th><th scope=col>LearningPlatformUsefulnessFriends</th><th scope=col>LearningPlatformUsefulnessKaggle</th><th scope=col>LearningPlatformUsefulnessNewsletters</th><th scope=col>LearningPlatformUsefulnessCommunities</th><th scope=col>LearningPlatformUsefulnessDocumentation</th><th scope=col>LearningPlatformUsefulnessCourses</th><th scope=col>LearningPlatformUsefulnessProjects</th><th scope=col>LearningPlatformUsefulnessPodcasts</th><th scope=col>LearningPlatformUsefulnessSO</th><th scope=col>LearningPlatformUsefulnessTextbook</th><th scope=col>LearningPlatformUsefulnessTradeBook</th><th scope=col>LearningPlatformUsefulnessTutoring</th><th scope=col>LearningPlatformUsefulnessYouTube</th></tr>\n",
              "\t<tr><th></th><th scope=col>&lt;chr&gt;</th><th scope=col>&lt;chr&gt;</th><th scope=col>&lt;chr&gt;</th><th scope=col>&lt;chr&gt;</th><th scope=col>&lt;chr&gt;</th><th scope=col>&lt;chr&gt;</th><th scope=col>&lt;chr&gt;</th><th scope=col>&lt;chr&gt;</th><th scope=col>&lt;chr&gt;</th><th scope=col>&lt;chr&gt;</th><th scope=col>&lt;chr&gt;</th><th scope=col>&lt;chr&gt;</th><th scope=col>&lt;chr&gt;</th><th scope=col>&lt;chr&gt;</th><th scope=col>&lt;chr&gt;</th><th scope=col>&lt;chr&gt;</th><th scope=col>&lt;chr&gt;</th><th scope=col>&lt;chr&gt;</th></tr>\n",
              "</thead>\n",
              "<tbody>\n",
              "\t<tr><th scope=row>1</th><td>           </td><td>           </td><td>               </td><td></td><td>Very useful    </td><td>           </td><td>               </td><td></td><td></td><td>           </td><td>           </td><td>           </td><td>Very useful</td><td>           </td><td>               </td><td>Somewhat useful</td><td></td><td>           </td></tr>\n",
              "\t<tr><th scope=row>2</th><td>           </td><td>           </td><td>               </td><td></td><td>               </td><td>           </td><td>Somewhat useful</td><td></td><td></td><td>           </td><td>           </td><td>           </td><td>           </td><td>           </td><td>               </td><td>               </td><td></td><td>           </td></tr>\n",
              "\t<tr><th scope=row>3</th><td>Very useful</td><td>           </td><td>Somewhat useful</td><td></td><td>               </td><td>           </td><td>Somewhat useful</td><td></td><td></td><td>           </td><td>Very useful</td><td>           </td><td>           </td><td>           </td><td>               </td><td>               </td><td></td><td>Very useful</td></tr>\n",
              "\t<tr><th scope=row>4</th><td>           </td><td>Very useful</td><td>Very useful    </td><td></td><td>Very useful    </td><td>Very useful</td><td>               </td><td></td><td></td><td>Very useful</td><td>Very useful</td><td>Very useful</td><td>           </td><td>           </td><td>               </td><td>               </td><td></td><td>           </td></tr>\n",
              "\t<tr><th scope=row>5</th><td>Very useful</td><td>           </td><td>               </td><td></td><td>Somewhat useful</td><td>           </td><td>Somewhat useful</td><td></td><td></td><td>           </td><td>           </td><td>           </td><td>           </td><td>           </td><td>Somewhat useful</td><td>               </td><td></td><td>           </td></tr>\n",
              "\t<tr><th scope=row>6</th><td>           </td><td>           </td><td>               </td><td></td><td>               </td><td>           </td><td>Very useful    </td><td></td><td></td><td>           </td><td>Very useful</td><td>           </td><td>           </td><td>Very useful</td><td>Very useful    </td><td>               </td><td></td><td>           </td></tr>\n",
              "</tbody>\n",
              "</table>\n"
            ]
          },
          "metadata": {
            "tags": []
          }
        }
      ]
    },
    {
      "cell_type": "code",
      "metadata": {
        "id": "FX_XRCmNcV5l"
      },
      "source": [
        "multiple_choice_responses %>%\n",
        "  # select columns with LearningPlatformUsefulness in title\n",
        "  select(contains(\"LearningPlatformUsefulness\")) %>%\n",
        "  # change data from wide to long\n",
        "  gather(learning_platform, usefulness)"
      ],
      "execution_count": null,
      "outputs": []
    },
    {
      "cell_type": "code",
      "metadata": {
        "colab": {
          "base_uri": "https://localhost:8080/",
          "height": 219
        },
        "id": "wn50Rosbbeby",
        "outputId": "7c224618-129f-44ba-a0cc-3d8c772af0a2"
      },
      "source": [
        "learning_platform_usefulness <- multiple_choice_responses %>%\n",
        "  # select columns with LearningPlatformUsefulness in title\n",
        "  select(contains(\"LearningPlatformUsefulness\")) %>%\n",
        "  # change data from wide to long\n",
        "  gather(learning_platform, usefulness) %>%\n",
        "  # remove rows where usefulness is NA\n",
        "  filter(usefulness!='') %>%\n",
        "  # remove \"LearningPlatformUsefulness\" from each string in learning_platform \n",
        "  mutate(learning_platform = str_remove(learning_platform, \"LearningPlatformUsefulness\"))\n",
        "\n",
        "head(learning_platform_usefulness,4)"
      ],
      "execution_count": 96,
      "outputs": [
        {
          "output_type": "display_data",
          "data": {
            "text/plain": [
              "  learning_platform usefulness     \n",
              "1 Arxiv             Very useful    \n",
              "2 Arxiv             Very useful    \n",
              "3 Arxiv             Somewhat useful\n",
              "4 Arxiv             Somewhat useful"
            ],
            "text/latex": "A data.frame: 4 × 2\n\\begin{tabular}{r|ll}\n  & learning\\_platform & usefulness\\\\\n  & <chr> & <chr>\\\\\n\\hline\n\t1 & Arxiv & Very useful    \\\\\n\t2 & Arxiv & Very useful    \\\\\n\t3 & Arxiv & Somewhat useful\\\\\n\t4 & Arxiv & Somewhat useful\\\\\n\\end{tabular}\n",
            "text/markdown": "\nA data.frame: 4 × 2\n\n| <!--/--> | learning_platform &lt;chr&gt; | usefulness &lt;chr&gt; |\n|---|---|---|\n| 1 | Arxiv | Very useful     |\n| 2 | Arxiv | Very useful     |\n| 3 | Arxiv | Somewhat useful |\n| 4 | Arxiv | Somewhat useful |\n\n",
            "text/html": [
              "<table class=\"dataframe\">\n",
              "<caption>A data.frame: 4 × 2</caption>\n",
              "<thead>\n",
              "\t<tr><th></th><th scope=col>learning_platform</th><th scope=col>usefulness</th></tr>\n",
              "\t<tr><th></th><th scope=col>&lt;chr&gt;</th><th scope=col>&lt;chr&gt;</th></tr>\n",
              "</thead>\n",
              "<tbody>\n",
              "\t<tr><th scope=row>1</th><td>Arxiv</td><td>Very useful    </td></tr>\n",
              "\t<tr><th scope=row>2</th><td>Arxiv</td><td>Very useful    </td></tr>\n",
              "\t<tr><th scope=row>3</th><td>Arxiv</td><td>Somewhat useful</td></tr>\n",
              "\t<tr><th scope=row>4</th><td>Arxiv</td><td>Somewhat useful</td></tr>\n",
              "</tbody>\n",
              "</table>\n"
            ]
          },
          "metadata": {
            "tags": []
          }
        }
      ]
    },
    {
      "cell_type": "markdown",
      "metadata": {
        "id": "6_3P1dX4gHYl"
      },
      "source": [
        "## 10) Summarizing data with count() and add_count()"
      ]
    },
    {
      "cell_type": "code",
      "metadata": {
        "colab": {
          "base_uri": "https://localhost:8080/",
          "height": 281
        },
        "id": "4VKMTU79gbQE",
        "outputId": "020f6092-7611-43cd-da66-d3c45e1b4666"
      },
      "source": [
        "learning_platform_usefulness %>%\n",
        "  # change dataset to one row per learning_platform usefulness pair with number of entries for each\n",
        "  count(learning_platform, usefulness) %>%\n",
        "  head()"
      ],
      "execution_count": 97,
      "outputs": [
        {
          "output_type": "display_data",
          "data": {
            "text/plain": [
              "  learning_platform usefulness      n   \n",
              "1 Arxiv             Not Useful        37\n",
              "2 Arxiv             Somewhat useful 1038\n",
              "3 Arxiv             Very useful     1316\n",
              "4 Blogs             Not Useful        45\n",
              "5 Blogs             Somewhat useful 2406\n",
              "6 Blogs             Very useful     2314"
            ],
            "text/latex": "A data.frame: 6 × 3\n\\begin{tabular}{r|lll}\n  & learning\\_platform & usefulness & n\\\\\n  & <chr> & <chr> & <int>\\\\\n\\hline\n\t1 & Arxiv & Not Useful      &   37\\\\\n\t2 & Arxiv & Somewhat useful & 1038\\\\\n\t3 & Arxiv & Very useful     & 1316\\\\\n\t4 & Blogs & Not Useful      &   45\\\\\n\t5 & Blogs & Somewhat useful & 2406\\\\\n\t6 & Blogs & Very useful     & 2314\\\\\n\\end{tabular}\n",
            "text/markdown": "\nA data.frame: 6 × 3\n\n| <!--/--> | learning_platform &lt;chr&gt; | usefulness &lt;chr&gt; | n &lt;int&gt; |\n|---|---|---|---|\n| 1 | Arxiv | Not Useful      |   37 |\n| 2 | Arxiv | Somewhat useful | 1038 |\n| 3 | Arxiv | Very useful     | 1316 |\n| 4 | Blogs | Not Useful      |   45 |\n| 5 | Blogs | Somewhat useful | 2406 |\n| 6 | Blogs | Very useful     | 2314 |\n\n",
            "text/html": [
              "<table class=\"dataframe\">\n",
              "<caption>A data.frame: 6 × 3</caption>\n",
              "<thead>\n",
              "\t<tr><th></th><th scope=col>learning_platform</th><th scope=col>usefulness</th><th scope=col>n</th></tr>\n",
              "\t<tr><th></th><th scope=col>&lt;chr&gt;</th><th scope=col>&lt;chr&gt;</th><th scope=col>&lt;int&gt;</th></tr>\n",
              "</thead>\n",
              "<tbody>\n",
              "\t<tr><th scope=row>1</th><td>Arxiv</td><td>Not Useful     </td><td>  37</td></tr>\n",
              "\t<tr><th scope=row>2</th><td>Arxiv</td><td>Somewhat useful</td><td>1038</td></tr>\n",
              "\t<tr><th scope=row>3</th><td>Arxiv</td><td>Very useful    </td><td>1316</td></tr>\n",
              "\t<tr><th scope=row>4</th><td>Blogs</td><td>Not Useful     </td><td>  45</td></tr>\n",
              "\t<tr><th scope=row>5</th><td>Blogs</td><td>Somewhat useful</td><td>2406</td></tr>\n",
              "\t<tr><th scope=row>6</th><td>Blogs</td><td>Very useful    </td><td>2314</td></tr>\n",
              "</tbody>\n",
              "</table>\n"
            ]
          },
          "metadata": {
            "tags": []
          }
        }
      ]
    },
    {
      "cell_type": "code",
      "metadata": {
        "colab": {
          "base_uri": "https://localhost:8080/",
          "height": 281
        },
        "id": "eyxtsNILiyHG",
        "outputId": "946f9ac4-8c6c-43bc-8ba6-1e62f8303989"
      },
      "source": [
        "learning_platform_usefulness %>%\n",
        "  # change dataset to one row per learning_platform usefulness pair with number of entries for each\n",
        "  count(learning_platform, usefulness) %>%\n",
        "  # use add_count to create column with total number of answers for that learning_platform\n",
        "  add_count(learning_platform, wt = n, name='nn') %>%\n",
        "  head()"
      ],
      "execution_count": 98,
      "outputs": [
        {
          "output_type": "display_data",
          "data": {
            "text/plain": [
              "  learning_platform usefulness      n    nn  \n",
              "1 Arxiv             Not Useful        37 2391\n",
              "2 Arxiv             Somewhat useful 1038 2391\n",
              "3 Arxiv             Very useful     1316 2391\n",
              "4 Blogs             Not Useful        45 4765\n",
              "5 Blogs             Somewhat useful 2406 4765\n",
              "6 Blogs             Very useful     2314 4765"
            ],
            "text/latex": "A data.frame: 6 × 4\n\\begin{tabular}{r|llll}\n  & learning\\_platform & usefulness & n & nn\\\\\n  & <chr> & <chr> & <int> & <int>\\\\\n\\hline\n\t1 & Arxiv & Not Useful      &   37 & 2391\\\\\n\t2 & Arxiv & Somewhat useful & 1038 & 2391\\\\\n\t3 & Arxiv & Very useful     & 1316 & 2391\\\\\n\t4 & Blogs & Not Useful      &   45 & 4765\\\\\n\t5 & Blogs & Somewhat useful & 2406 & 4765\\\\\n\t6 & Blogs & Very useful     & 2314 & 4765\\\\\n\\end{tabular}\n",
            "text/markdown": "\nA data.frame: 6 × 4\n\n| <!--/--> | learning_platform &lt;chr&gt; | usefulness &lt;chr&gt; | n &lt;int&gt; | nn &lt;int&gt; |\n|---|---|---|---|---|\n| 1 | Arxiv | Not Useful      |   37 | 2391 |\n| 2 | Arxiv | Somewhat useful | 1038 | 2391 |\n| 3 | Arxiv | Very useful     | 1316 | 2391 |\n| 4 | Blogs | Not Useful      |   45 | 4765 |\n| 5 | Blogs | Somewhat useful | 2406 | 4765 |\n| 6 | Blogs | Very useful     | 2314 | 4765 |\n\n",
            "text/html": [
              "<table class=\"dataframe\">\n",
              "<caption>A data.frame: 6 × 4</caption>\n",
              "<thead>\n",
              "\t<tr><th></th><th scope=col>learning_platform</th><th scope=col>usefulness</th><th scope=col>n</th><th scope=col>nn</th></tr>\n",
              "\t<tr><th></th><th scope=col>&lt;chr&gt;</th><th scope=col>&lt;chr&gt;</th><th scope=col>&lt;int&gt;</th><th scope=col>&lt;int&gt;</th></tr>\n",
              "</thead>\n",
              "<tbody>\n",
              "\t<tr><th scope=row>1</th><td>Arxiv</td><td>Not Useful     </td><td>  37</td><td>2391</td></tr>\n",
              "\t<tr><th scope=row>2</th><td>Arxiv</td><td>Somewhat useful</td><td>1038</td><td>2391</td></tr>\n",
              "\t<tr><th scope=row>3</th><td>Arxiv</td><td>Very useful    </td><td>1316</td><td>2391</td></tr>\n",
              "\t<tr><th scope=row>4</th><td>Blogs</td><td>Not Useful     </td><td>  45</td><td>4765</td></tr>\n",
              "\t<tr><th scope=row>5</th><td>Blogs</td><td>Somewhat useful</td><td>2406</td><td>4765</td></tr>\n",
              "\t<tr><th scope=row>6</th><td>Blogs</td><td>Very useful    </td><td>2314</td><td>4765</td></tr>\n",
              "</tbody>\n",
              "</table>\n"
            ]
          },
          "metadata": {
            "tags": []
          }
        }
      ]
    },
    {
      "cell_type": "code",
      "metadata": {
        "colab": {
          "base_uri": "https://localhost:8080/",
          "height": 437
        },
        "id": "ZaKE9qX9jLhv",
        "outputId": "09487877-fa83-48c7-8556-52c2e59686b1"
      },
      "source": [
        "perc_useful_platform <- learning_platform_usefulness %>%\n",
        "  # change dataset to one row per learning_platform usefulness pair with number of entries for each\n",
        "  count(learning_platform, usefulness) %>%\n",
        "  # use add_count to create column with total number of answers for that learning_platform\n",
        "  add_count(learning_platform, wt = n, name='nn') %>%\n",
        "  # create a new column, perc, that is the percentage of people giving that response for that learning_platform\n",
        "  mutate(perc = n / nn)\n",
        "\n",
        "# create a line graph for each question with usefulness on x-axis and percentage of responses on y\n",
        "ggplot(perc_useful_platform, aes(x = usefulness, y = perc, color = usefulness)) + \n",
        "  geom_point() + \n",
        "  facet_wrap(~ learning_platform)"
      ],
      "execution_count": 99,
      "outputs": [
        {
          "output_type": "display_data",
          "data": {
            "image/png": "[encoded data removed]",
            "text/plain": [
              "plot without title"
            ]
          },
          "metadata": {
            "tags": [],
            "image/png": {
              "width": 420,
              "height": 420
            }
          }
        }
      ]
    },
    {
      "cell_type": "markdown",
      "metadata": {
        "id": "GfjfmVGBlErA"
      },
      "source": [
        "## 11) Mapping. Renaming from factors to numbers with if_else"
      ]
    },
    {
      "cell_type": "code",
      "metadata": {
        "id": "1H5_tVpDlEET",
        "colab": {
          "base_uri": "https://localhost:8080/",
          "height": 158
        },
        "outputId": "11f6d559-3e8d-4343-8fff-813c5b472f24"
      },
      "source": [
        "learning_platform_usefulness %>%\n",
        "    # If usefulness is \"Not Useful\", make 0, else 1 \n",
        "    mutate(usefulness = if_else(usefulness == \"Not Useful\", 0, 1)) %>%\n",
        "    head(2)"
      ],
      "execution_count": 100,
      "outputs": [
        {
          "output_type": "display_data",
          "data": {
            "text/plain": [
              "  learning_platform usefulness\n",
              "1 Arxiv             1         \n",
              "2 Arxiv             1         "
            ],
            "text/latex": "A data.frame: 2 × 2\n\\begin{tabular}{r|ll}\n  & learning\\_platform & usefulness\\\\\n  & <chr> & <dbl>\\\\\n\\hline\n\t1 & Arxiv & 1\\\\\n\t2 & Arxiv & 1\\\\\n\\end{tabular}\n",
            "text/markdown": "\nA data.frame: 2 × 2\n\n| <!--/--> | learning_platform &lt;chr&gt; | usefulness &lt;dbl&gt; |\n|---|---|---|\n| 1 | Arxiv | 1 |\n| 2 | Arxiv | 1 |\n\n",
            "text/html": [
              "<table class=\"dataframe\">\n",
              "<caption>A data.frame: 2 × 2</caption>\n",
              "<thead>\n",
              "\t<tr><th></th><th scope=col>learning_platform</th><th scope=col>usefulness</th></tr>\n",
              "\t<tr><th></th><th scope=col>&lt;chr&gt;</th><th scope=col>&lt;dbl&gt;</th></tr>\n",
              "</thead>\n",
              "<tbody>\n",
              "\t<tr><th scope=row>1</th><td>Arxiv</td><td>1</td></tr>\n",
              "\t<tr><th scope=row>2</th><td>Arxiv</td><td>1</td></tr>\n",
              "</tbody>\n",
              "</table>\n"
            ]
          },
          "metadata": {
            "tags": []
          }
        }
      ]
    },
    {
      "cell_type": "markdown",
      "metadata": {
        "id": "d1_-IQ79Lucx"
      },
      "source": [
        "## 12) CASE_WHEN(): mapping with conditions"
      ]
    },
    {
      "cell_type": "markdown",
      "metadata": {
        "id": "EM-TuDqRTQyf"
      },
      "source": [
        "### 12)a) case_when() with single variable\n"
      ]
    },
    {
      "cell_type": "markdown",
      "metadata": {
        "id": "Y11rwHRcTWus"
      },
      "source": [
        "check the min and max of the variable Age, removing NAs."
      ]
    },
    {
      "cell_type": "code",
      "metadata": {
        "colab": {
          "base_uri": "https://localhost:8080/",
          "height": 247
        },
        "id": "AZ70aPodLzZF",
        "outputId": "1078b593-f4ff-4458-9a36-786af59e7772"
      },
      "source": [
        "# Check the min age\n",
        "min(multiple_choice_responses$Age, na.rm = TRUE)\n",
        "\n",
        "# Check the max age\n",
        "max(multiple_choice_responses$Age, na.rm = TRUE)\n",
        "\n",
        "multiple_choice_responses %>%\n",
        "    # Filter for rows where Age is between 10 and 90\n",
        "    filter(between(Age, 10, 90)) %>%\n",
        "    head(2)"
      ],
      "execution_count": 101,
      "outputs": [
        {
          "output_type": "display_data",
          "data": {
            "text/plain": [
              "[1] 0"
            ],
            "text/latex": "0",
            "text/markdown": "0",
            "text/html": [
              "0"
            ]
          },
          "metadata": {
            "tags": []
          }
        },
        {
          "output_type": "display_data",
          "data": {
            "text/plain": [
              "[1] 100"
            ],
            "text/latex": "100",
            "text/markdown": "100",
            "text/html": [
              "100"
            ]
          },
          "metadata": {
            "tags": []
          }
        },
        {
          "output_type": "display_data",
          "data": {
            "text/plain": [
              "  GenderSelect Country       Age EmploymentStatus                  \n",
              "1 Female       United States 30  Not employed, but looking for work\n",
              "2 Male         Canada        28  Not employed, but looking for work\n",
              "  StudentStatus LearningDataScience CodeWriter CareerSwitcher\n",
              "1                                                            \n",
              "2                                                            \n",
              "  CurrentJobTitleSelect TitleFit ⋯ JobFactorExperienceLevel JobFactorDepartment\n",
              "1                                ⋯                                             \n",
              "2                                ⋯ Very Important           Very Important     \n",
              "  JobFactorTitle JobFactorCompanyFunding JobFactorImpact JobFactorRemote\n",
              "1                                                                       \n",
              "2 Very Important Very Important          Very Important  Very Important \n",
              "  JobFactorIndustry JobFactorLeaderReputation JobFactorDiversity\n",
              "1                   Somewhat important                          \n",
              "2 Very Important    Very Important            Very Important    \n",
              "  JobFactorPublishingOpportunity\n",
              "1                               \n",
              "2 Very Important                "
            ],
            "text/latex": "A data.frame: 2 × 228\n\\begin{tabular}{r|lllllllllllllllllllll}\n  & GenderSelect & Country & Age & EmploymentStatus & StudentStatus & LearningDataScience & CodeWriter & CareerSwitcher & CurrentJobTitleSelect & TitleFit & ⋯ & JobFactorExperienceLevel & JobFactorDepartment & JobFactorTitle & JobFactorCompanyFunding & JobFactorImpact & JobFactorRemote & JobFactorIndustry & JobFactorLeaderReputation & JobFactorDiversity & JobFactorPublishingOpportunity\\\\\n  & <chr> & <chr> & <int> & <chr> & <chr> & <chr> & <chr> & <chr> & <chr> & <chr> & ⋯ & <chr> & <chr> & <chr> & <chr> & <chr> & <chr> & <chr> & <chr> & <chr> & <chr>\\\\\n\\hline\n\t1 & Female & United States & 30 & Not employed, but looking for work &  &  &  &  &  &  & ⋯ &                &                &                &                &                &                &                & Somewhat important &                &               \\\\\n\t2 & Male   & Canada        & 28 & Not employed, but looking for work &  &  &  &  &  &  & ⋯ & Very Important & Very Important & Very Important & Very Important & Very Important & Very Important & Very Important & Very Important     & Very Important & Very Important\\\\\n\\end{tabular}\n",
            "text/markdown": "\nA data.frame: 2 × 228\n\n| <!--/--> | GenderSelect &lt;chr&gt; | Country &lt;chr&gt; | Age &lt;int&gt; | EmploymentStatus &lt;chr&gt; | StudentStatus &lt;chr&gt; | LearningDataScience &lt;chr&gt; | CodeWriter &lt;chr&gt; | CareerSwitcher &lt;chr&gt; | CurrentJobTitleSelect &lt;chr&gt; | TitleFit &lt;chr&gt; | ⋯ ⋯ | JobFactorExperienceLevel &lt;chr&gt; | JobFactorDepartment &lt;chr&gt; | JobFactorTitle &lt;chr&gt; | JobFactorCompanyFunding &lt;chr&gt; | JobFactorImpact &lt;chr&gt; | JobFactorRemote &lt;chr&gt; | JobFactorIndustry &lt;chr&gt; | JobFactorLeaderReputation &lt;chr&gt; | JobFactorDiversity &lt;chr&gt; | JobFactorPublishingOpportunity &lt;chr&gt; |\n|---|---|---|---|---|---|---|---|---|---|---|---|---|---|---|---|---|---|---|---|---|---|\n| 1 | Female | United States | 30 | Not employed, but looking for work | <!----> | <!----> | <!----> | <!----> | <!----> | <!----> | ⋯ | <!----> | <!----> | <!----> | <!----> | <!----> | <!----> | <!----> | Somewhat important | <!----> | <!----> |\n| 2 | Male   | Canada        | 28 | Not employed, but looking for work | <!----> | <!----> | <!----> | <!----> | <!----> | <!----> | ⋯ | Very Important | Very Important | Very Important | Very Important | Very Important | Very Important | Very Important | Very Important     | Very Important | Very Important |\n\n",
            "text/html": [
              "<table class=\"dataframe\">\n",
              "<caption>A data.frame: 2 × 228</caption>\n",
              "<thead>\n",
              "\t<tr><th></th><th scope=col>GenderSelect</th><th scope=col>Country</th><th scope=col>Age</th><th scope=col>EmploymentStatus</th><th scope=col>StudentStatus</th><th scope=col>LearningDataScience</th><th scope=col>CodeWriter</th><th scope=col>CareerSwitcher</th><th scope=col>CurrentJobTitleSelect</th><th scope=col>TitleFit</th><th scope=col>⋯</th><th scope=col>JobFactorExperienceLevel</th><th scope=col>JobFactorDepartment</th><th scope=col>JobFactorTitle</th><th scope=col>JobFactorCompanyFunding</th><th scope=col>JobFactorImpact</th><th scope=col>JobFactorRemote</th><th scope=col>JobFactorIndustry</th><th scope=col>JobFactorLeaderReputation</th><th scope=col>JobFactorDiversity</th><th scope=col>JobFactorPublishingOpportunity</th></tr>\n",
              "\t<tr><th></th><th scope=col>&lt;chr&gt;</th><th scope=col>&lt;chr&gt;</th><th scope=col>&lt;int&gt;</th><th scope=col>&lt;chr&gt;</th><th scope=col>&lt;chr&gt;</th><th scope=col>&lt;chr&gt;</th><th scope=col>&lt;chr&gt;</th><th scope=col>&lt;chr&gt;</th><th scope=col>&lt;chr&gt;</th><th scope=col>&lt;chr&gt;</th><th scope=col>⋯</th><th scope=col>&lt;chr&gt;</th><th scope=col>&lt;chr&gt;</th><th scope=col>&lt;chr&gt;</th><th scope=col>&lt;chr&gt;</th><th scope=col>&lt;chr&gt;</th><th scope=col>&lt;chr&gt;</th><th scope=col>&lt;chr&gt;</th><th scope=col>&lt;chr&gt;</th><th scope=col>&lt;chr&gt;</th><th scope=col>&lt;chr&gt;</th></tr>\n",
              "</thead>\n",
              "<tbody>\n",
              "\t<tr><th scope=row>1</th><td>Female</td><td>United States</td><td>30</td><td>Not employed, but looking for work</td><td></td><td></td><td></td><td></td><td></td><td></td><td>⋯</td><td>              </td><td>              </td><td>              </td><td>              </td><td>              </td><td>              </td><td>              </td><td>Somewhat important</td><td>              </td><td>              </td></tr>\n",
              "\t<tr><th scope=row>2</th><td>Male  </td><td>Canada       </td><td>28</td><td>Not employed, but looking for work</td><td></td><td></td><td></td><td></td><td></td><td></td><td>⋯</td><td>Very Important</td><td>Very Important</td><td>Very Important</td><td>Very Important</td><td>Very Important</td><td>Very Important</td><td>Very Important</td><td>Very Important    </td><td>Very Important</td><td>Very Important</td></tr>\n",
              "</tbody>\n",
              "</table>\n"
            ]
          },
          "metadata": {
            "tags": []
          }
        }
      ]
    },
    {
      "cell_type": "code",
      "metadata": {
        "colab": {
          "base_uri": "https://localhost:8080/",
          "height": 405
        },
        "id": "9LkqU4-WT6hb",
        "outputId": "d14c6d24-d708-4af7-a6e0-9b6e5ed93357"
      },
      "source": [
        "multiple_choice_responses %>%\n",
        "    # Filter for rows where Age is between 10 and 90\n",
        "    filter(between(Age, 10, 90)) %>%\n",
        "    # Create the generation variable based on age\n",
        "    mutate(generation = case_when(\n",
        "    between(Age, 10, 22) ~ \"Gen Z\", \n",
        "    between(Age, 23, 37) ~ \"Gen Y\", \n",
        "    between(Age, 38, 52) ~ \"Gen X\", \n",
        "    between(Age, 53, 71) ~ \"Baby Boomer\", \n",
        "    between(Age, 72, 90) ~ \"Silent\"\n",
        "    )) %>%\n",
        "    head()"
      ],
      "execution_count": 102,
      "outputs": [
        {
          "output_type": "display_data",
          "data": {
            "text/plain": [
              "  GenderSelect Country       Age\n",
              "1 Female       United States 30 \n",
              "2 Male         Canada        28 \n",
              "3 Male         United States 56 \n",
              "4 Male         Taiwan        38 \n",
              "5 Male         Brazil        46 \n",
              "6 Male         United States 35 \n",
              "  EmploymentStatus                                     StudentStatus\n",
              "1 Not employed, but looking for work                                \n",
              "2 Not employed, but looking for work                                \n",
              "3 Independent contractor, freelancer, or self-employed              \n",
              "4 Employed full-time                                                \n",
              "5 Employed full-time                                                \n",
              "6 Employed full-time                                                \n",
              "  LearningDataScience CodeWriter CareerSwitcher\n",
              "1                                              \n",
              "2                                              \n",
              "3                     Yes                      \n",
              "4                     Yes                      \n",
              "5                     Yes                      \n",
              "6                     Yes                      \n",
              "  CurrentJobTitleSelect            TitleFit ⋯ JobFactorDepartment\n",
              "1                                           ⋯                    \n",
              "2                                           ⋯ Very Important     \n",
              "3 Operations Research Practitioner Poorly   ⋯                    \n",
              "4 Computer Scientist               Fine     ⋯                    \n",
              "5 Data Scientist                   Fine     ⋯                    \n",
              "6 Computer Scientist               Fine     ⋯                    \n",
              "  JobFactorTitle JobFactorCompanyFunding JobFactorImpact JobFactorRemote\n",
              "1                                                                       \n",
              "2 Very Important Very Important          Very Important  Very Important \n",
              "3                                                                       \n",
              "4                                                                       \n",
              "5                                                                       \n",
              "6                                                                       \n",
              "  JobFactorIndustry JobFactorLeaderReputation JobFactorDiversity\n",
              "1                   Somewhat important                          \n",
              "2 Very Important    Very Important            Very Important    \n",
              "3                                                               \n",
              "4                                                               \n",
              "5                                                               \n",
              "6                                                               \n",
              "  JobFactorPublishingOpportunity generation \n",
              "1                                Gen Y      \n",
              "2 Very Important                 Gen Y      \n",
              "3                                Baby Boomer\n",
              "4                                Gen X      \n",
              "5                                Gen X      \n",
              "6                                Gen Y      "
            ],
            "text/latex": "A data.frame: 6 × 229\n\\begin{tabular}{r|lllllllllllllllllllll}\n  & GenderSelect & Country & Age & EmploymentStatus & StudentStatus & LearningDataScience & CodeWriter & CareerSwitcher & CurrentJobTitleSelect & TitleFit & ⋯ & JobFactorDepartment & JobFactorTitle & JobFactorCompanyFunding & JobFactorImpact & JobFactorRemote & JobFactorIndustry & JobFactorLeaderReputation & JobFactorDiversity & JobFactorPublishingOpportunity & generation\\\\\n  & <chr> & <chr> & <int> & <chr> & <chr> & <chr> & <chr> & <chr> & <chr> & <chr> & ⋯ & <chr> & <chr> & <chr> & <chr> & <chr> & <chr> & <chr> & <chr> & <chr> & <chr>\\\\\n\\hline\n\t1 & Female & United States & 30 & Not employed, but looking for work                   &  &  &     &  &                                  &        & ⋯ &                &                &                &                &                &                & Somewhat important &                &                & Gen Y      \\\\\n\t2 & Male   & Canada        & 28 & Not employed, but looking for work                   &  &  &     &  &                                  &        & ⋯ & Very Important & Very Important & Very Important & Very Important & Very Important & Very Important & Very Important     & Very Important & Very Important & Gen Y      \\\\\n\t3 & Male   & United States & 56 & Independent contractor, freelancer, or self-employed &  &  & Yes &  & Operations Research Practitioner & Poorly & ⋯ &                &                &                &                &                &                &                    &                &                & Baby Boomer\\\\\n\t4 & Male   & Taiwan        & 38 & Employed full-time                                   &  &  & Yes &  & Computer Scientist               & Fine   & ⋯ &                &                &                &                &                &                &                    &                &                & Gen X      \\\\\n\t5 & Male   & Brazil        & 46 & Employed full-time                                   &  &  & Yes &  & Data Scientist                   & Fine   & ⋯ &                &                &                &                &                &                &                    &                &                & Gen X      \\\\\n\t6 & Male   & United States & 35 & Employed full-time                                   &  &  & Yes &  & Computer Scientist               & Fine   & ⋯ &                &                &                &                &                &                &                    &                &                & Gen Y      \\\\\n\\end{tabular}\n",
            "text/markdown": "\nA data.frame: 6 × 229\n\n| <!--/--> | GenderSelect &lt;chr&gt; | Country &lt;chr&gt; | Age &lt;int&gt; | EmploymentStatus &lt;chr&gt; | StudentStatus &lt;chr&gt; | LearningDataScience &lt;chr&gt; | CodeWriter &lt;chr&gt; | CareerSwitcher &lt;chr&gt; | CurrentJobTitleSelect &lt;chr&gt; | TitleFit &lt;chr&gt; | ⋯ ⋯ | JobFactorDepartment &lt;chr&gt; | JobFactorTitle &lt;chr&gt; | JobFactorCompanyFunding &lt;chr&gt; | JobFactorImpact &lt;chr&gt; | JobFactorRemote &lt;chr&gt; | JobFactorIndustry &lt;chr&gt; | JobFactorLeaderReputation &lt;chr&gt; | JobFactorDiversity &lt;chr&gt; | JobFactorPublishingOpportunity &lt;chr&gt; | generation &lt;chr&gt; |\n|---|---|---|---|---|---|---|---|---|---|---|---|---|---|---|---|---|---|---|---|---|---|\n| 1 | Female | United States | 30 | Not employed, but looking for work                   | <!----> | <!----> | <!----> | <!----> | <!----> | <!----> | ⋯ | <!----> | <!----> | <!----> | <!----> | <!----> | <!----> | Somewhat important | <!----> | <!----> | Gen Y       |\n| 2 | Male   | Canada        | 28 | Not employed, but looking for work                   | <!----> | <!----> | <!----> | <!----> | <!----> | <!----> | ⋯ | Very Important | Very Important | Very Important | Very Important | Very Important | Very Important | Very Important     | Very Important | Very Important | Gen Y       |\n| 3 | Male   | United States | 56 | Independent contractor, freelancer, or self-employed | <!----> | <!----> | Yes | <!----> | Operations Research Practitioner | Poorly | ⋯ | <!----> | <!----> | <!----> | <!----> | <!----> | <!----> | <!----> | <!----> | <!----> | Baby Boomer |\n| 4 | Male   | Taiwan        | 38 | Employed full-time                                   | <!----> | <!----> | Yes | <!----> | Computer Scientist               | Fine   | ⋯ | <!----> | <!----> | <!----> | <!----> | <!----> | <!----> | <!----> | <!----> | <!----> | Gen X       |\n| 5 | Male   | Brazil        | 46 | Employed full-time                                   | <!----> | <!----> | Yes | <!----> | Data Scientist                   | Fine   | ⋯ | <!----> | <!----> | <!----> | <!----> | <!----> | <!----> | <!----> | <!----> | <!----> | Gen X       |\n| 6 | Male   | United States | 35 | Employed full-time                                   | <!----> | <!----> | Yes | <!----> | Computer Scientist               | Fine   | ⋯ | <!----> | <!----> | <!----> | <!----> | <!----> | <!----> | <!----> | <!----> | <!----> | Gen Y       |\n\n",
            "text/html": [
              "<table class=\"dataframe\">\n",
              "<caption>A data.frame: 6 × 229</caption>\n",
              "<thead>\n",
              "\t<tr><th></th><th scope=col>GenderSelect</th><th scope=col>Country</th><th scope=col>Age</th><th scope=col>EmploymentStatus</th><th scope=col>StudentStatus</th><th scope=col>LearningDataScience</th><th scope=col>CodeWriter</th><th scope=col>CareerSwitcher</th><th scope=col>CurrentJobTitleSelect</th><th scope=col>TitleFit</th><th scope=col>⋯</th><th scope=col>JobFactorDepartment</th><th scope=col>JobFactorTitle</th><th scope=col>JobFactorCompanyFunding</th><th scope=col>JobFactorImpact</th><th scope=col>JobFactorRemote</th><th scope=col>JobFactorIndustry</th><th scope=col>JobFactorLeaderReputation</th><th scope=col>JobFactorDiversity</th><th scope=col>JobFactorPublishingOpportunity</th><th scope=col>generation</th></tr>\n",
              "\t<tr><th></th><th scope=col>&lt;chr&gt;</th><th scope=col>&lt;chr&gt;</th><th scope=col>&lt;int&gt;</th><th scope=col>&lt;chr&gt;</th><th scope=col>&lt;chr&gt;</th><th scope=col>&lt;chr&gt;</th><th scope=col>&lt;chr&gt;</th><th scope=col>&lt;chr&gt;</th><th scope=col>&lt;chr&gt;</th><th scope=col>&lt;chr&gt;</th><th scope=col>⋯</th><th scope=col>&lt;chr&gt;</th><th scope=col>&lt;chr&gt;</th><th scope=col>&lt;chr&gt;</th><th scope=col>&lt;chr&gt;</th><th scope=col>&lt;chr&gt;</th><th scope=col>&lt;chr&gt;</th><th scope=col>&lt;chr&gt;</th><th scope=col>&lt;chr&gt;</th><th scope=col>&lt;chr&gt;</th><th scope=col>&lt;chr&gt;</th></tr>\n",
              "</thead>\n",
              "<tbody>\n",
              "\t<tr><th scope=row>1</th><td>Female</td><td>United States</td><td>30</td><td>Not employed, but looking for work                  </td><td></td><td></td><td>   </td><td></td><td>                                </td><td>      </td><td>⋯</td><td>              </td><td>              </td><td>              </td><td>              </td><td>              </td><td>              </td><td>Somewhat important</td><td>              </td><td>              </td><td>Gen Y      </td></tr>\n",
              "\t<tr><th scope=row>2</th><td>Male  </td><td>Canada       </td><td>28</td><td>Not employed, but looking for work                  </td><td></td><td></td><td>   </td><td></td><td>                                </td><td>      </td><td>⋯</td><td>Very Important</td><td>Very Important</td><td>Very Important</td><td>Very Important</td><td>Very Important</td><td>Very Important</td><td>Very Important    </td><td>Very Important</td><td>Very Important</td><td>Gen Y      </td></tr>\n",
              "\t<tr><th scope=row>3</th><td>Male  </td><td>United States</td><td>56</td><td>Independent contractor, freelancer, or self-employed</td><td></td><td></td><td>Yes</td><td></td><td>Operations Research Practitioner</td><td>Poorly</td><td>⋯</td><td>              </td><td>              </td><td>              </td><td>              </td><td>              </td><td>              </td><td>                  </td><td>              </td><td>              </td><td>Baby Boomer</td></tr>\n",
              "\t<tr><th scope=row>4</th><td>Male  </td><td>Taiwan       </td><td>38</td><td>Employed full-time                                  </td><td></td><td></td><td>Yes</td><td></td><td>Computer Scientist              </td><td>Fine  </td><td>⋯</td><td>              </td><td>              </td><td>              </td><td>              </td><td>              </td><td>              </td><td>                  </td><td>              </td><td>              </td><td>Gen X      </td></tr>\n",
              "\t<tr><th scope=row>5</th><td>Male  </td><td>Brazil       </td><td>46</td><td>Employed full-time                                  </td><td></td><td></td><td>Yes</td><td></td><td>Data Scientist                  </td><td>Fine  </td><td>⋯</td><td>              </td><td>              </td><td>              </td><td>              </td><td>              </td><td>              </td><td>                  </td><td>              </td><td>              </td><td>Gen X      </td></tr>\n",
              "\t<tr><th scope=row>6</th><td>Male  </td><td>United States</td><td>35</td><td>Employed full-time                                  </td><td></td><td></td><td>Yes</td><td></td><td>Computer Scientist              </td><td>Fine  </td><td>⋯</td><td>              </td><td>              </td><td>              </td><td>              </td><td>              </td><td>              </td><td>                  </td><td>              </td><td>              </td><td>Gen Y      </td></tr>\n",
              "</tbody>\n",
              "</table>\n"
            ]
          },
          "metadata": {
            "tags": []
          }
        }
      ]
    },
    {
      "cell_type": "markdown",
      "metadata": {
        "id": "2J5RvsZPUZ8p"
      },
      "source": [
        "Get a count of the number of people in each generation.\n",
        "\n"
      ]
    },
    {
      "cell_type": "code",
      "metadata": {
        "colab": {
          "base_uri": "https://localhost:8080/",
          "height": 250
        },
        "id": "nHRyWaCrUYTt",
        "outputId": "988b011e-b834-46f3-b265-761d2d5810f5"
      },
      "source": [
        "multiple_choice_responses %>%\n",
        "    # Filter for rows where Age is between 10 and 90\n",
        "    filter(between(Age, 10, 90)) %>%\n",
        "    # Create the generation variable based on age\n",
        "    mutate(generation = case_when(\n",
        "    between(Age, 10, 22) ~ \"Gen Z\", \n",
        "    between(Age, 23, 37) ~ \"Gen Y\", \n",
        "    between(Age, 38, 52) ~ \"Gen X\", \n",
        "    between(Age, 53, 71) ~ \"Baby Boomer\", \n",
        "    between(Age, 72, 90) ~ \"Silent\"\n",
        "    )) %>%\n",
        "    # Get a count of how many answers in each generation\n",
        "    count(generation)"
      ],
      "execution_count": 103,
      "outputs": [
        {
          "output_type": "display_data",
          "data": {
            "text/plain": [
              "  generation  n    \n",
              "1 Baby Boomer   832\n",
              "2 Gen X        3162\n",
              "3 Gen Y       10281\n",
              "4 Gen Z        2037\n",
              "5 Silent         37"
            ],
            "text/latex": "A data.frame: 5 × 2\n\\begin{tabular}{ll}\n generation & n\\\\\n <chr> & <int>\\\\\n\\hline\n\t Baby Boomer &   832\\\\\n\t Gen X       &  3162\\\\\n\t Gen Y       & 10281\\\\\n\t Gen Z       &  2037\\\\\n\t Silent      &    37\\\\\n\\end{tabular}\n",
            "text/markdown": "\nA data.frame: 5 × 2\n\n| generation &lt;chr&gt; | n &lt;int&gt; |\n|---|---|\n| Baby Boomer |   832 |\n| Gen X       |  3162 |\n| Gen Y       | 10281 |\n| Gen Z       |  2037 |\n| Silent      |    37 |\n\n",
            "text/html": [
              "<table class=\"dataframe\">\n",
              "<caption>A data.frame: 5 × 2</caption>\n",
              "<thead>\n",
              "\t<tr><th scope=col>generation</th><th scope=col>n</th></tr>\n",
              "\t<tr><th scope=col>&lt;chr&gt;</th><th scope=col>&lt;int&gt;</th></tr>\n",
              "</thead>\n",
              "<tbody>\n",
              "\t<tr><td>Baby Boomer</td><td>  832</td></tr>\n",
              "\t<tr><td>Gen X      </td><td> 3162</td></tr>\n",
              "\t<tr><td>Gen Y      </td><td>10281</td></tr>\n",
              "\t<tr><td>Gen Z      </td><td> 2037</td></tr>\n",
              "\t<tr><td>Silent     </td><td>   37</td></tr>\n",
              "</tbody>\n",
              "</table>\n"
            ]
          },
          "metadata": {
            "tags": []
          }
        }
      ]
    },
    {
      "cell_type": "markdown",
      "metadata": {
        "id": "mr-nTovXVsQW"
      },
      "source": [
        "### 12)b) case_when() two or more variables to map"
      ]
    },
    {
      "cell_type": "markdown",
      "metadata": {
        "id": "bZRzx98NY90f"
      },
      "source": [
        "#### Cleaning JobSatisfaction"
      ]
    },
    {
      "cell_type": "code",
      "metadata": {
        "colab": {
          "base_uri": "https://localhost:8080/",
          "height": 35
        },
        "id": "imuIirjlYrAn",
        "outputId": "619a47e0-4dfc-4560-e5b7-aa09258bb4b3"
      },
      "source": [
        "unique(multiple_choice_responses$JobSatisfaction)"
      ],
      "execution_count": 129,
      "outputs": [
        {
          "output_type": "display_data",
          "data": {
            "text/plain": [
              " [1] \"5\"                       \"\"                       \n",
              " [3] \"10 - Highly Satisfied\"   \"2\"                      \n",
              " [5] \"8\"                       \"7\"                      \n",
              " [7] \"6\"                       \"9\"                      \n",
              " [9] \"1 - Highly Dissatisfied\" \"I prefer not to share\"  \n",
              "[11] \"3\"                       \"4\"                      "
            ],
            "text/latex": "\\begin{enumerate*}\n\\item '5'\n\\item ''\n\\item '10 - Highly Satisfied'\n\\item '2'\n\\item '8'\n\\item '7'\n\\item '6'\n\\item '9'\n\\item '1 - Highly Dissatisfied'\n\\item 'I prefer not to share'\n\\item '3'\n\\item '4'\n\\end{enumerate*}\n",
            "text/markdown": "1. '5'\n2. ''\n3. '10 - Highly Satisfied'\n4. '2'\n5. '8'\n6. '7'\n7. '6'\n8. '9'\n9. '1 - Highly Dissatisfied'\n10. 'I prefer not to share'\n11. '3'\n12. '4'\n\n\n",
            "text/html": [
              "<style>\n",
              ".list-inline {list-style: none; margin:0; padding: 0}\n",
              ".list-inline>li {display: inline-block}\n",
              ".list-inline>li:not(:last-child)::after {content: \"\\00b7\"; padding: 0 .5ex}\n",
              "</style>\n",
              "<ol class=list-inline><li>'5'</li><li>''</li><li>'10 - Highly Satisfied'</li><li>'2'</li><li>'8'</li><li>'7'</li><li>'6'</li><li>'9'</li><li>'1 - Highly Dissatisfied'</li><li>'I prefer not to share'</li><li>'3'</li><li>'4'</li></ol>\n"
            ]
          },
          "metadata": {
            "tags": []
          }
        }
      ]
    },
    {
      "cell_type": "code",
      "metadata": {
        "id": "j91jO3MmZG50"
      },
      "source": [
        "multiple_choice_responses <- multiple_choice_responses %>%\n",
        "    # rename the appropriate levels to \"High school\" and \"Some college\"\n",
        "    mutate(JobSatisfaction = fct_recode(JobSatisfaction, \n",
        "    \"NA\" = '', \"NA\" = 'I prefer not to share',\n",
        "    \"10\" = '10 - Highly Satisfied', '1' = '1 - Highly Dissatisfied'))"
      ],
      "execution_count": 131,
      "outputs": []
    },
    {
      "cell_type": "code",
      "metadata": {
        "colab": {
          "base_uri": "https://localhost:8080/",
          "height": 35
        },
        "id": "fbhnVUTAWd1a",
        "outputId": "8389d8c2-f28a-4b29-95b7-a44938e87b13"
      },
      "source": [
        "dim(multiple_choice_responses)\n",
        "\n",
        "multiple_choice_responses <- multiple_choice_responses %>%\n",
        "  mutate(JobSatisfaction = as.numeric(JobSatisfaction)) %>%\n",
        "  filter(!is.na(JobSatisfaction))"
      ],
      "execution_count": 135,
      "outputs": [
        {
          "output_type": "display_data",
          "data": {
            "text/plain": [
              "[1] 16716   228"
            ],
            "text/latex": "\\begin{enumerate*}\n\\item 16716\n\\item 228\n\\end{enumerate*}\n",
            "text/markdown": "1. 16716\n2. 228\n\n\n",
            "text/html": [
              "<style>\n",
              ".list-inline {list-style: none; margin:0; padding: 0}\n",
              ".list-inline>li {display: inline-block}\n",
              ".list-inline>li:not(:last-child)::after {content: \"\\00b7\"; padding: 0 .5ex}\n",
              "</style>\n",
              "<ol class=list-inline><li>16716</li><li>228</li></ol>\n"
            ]
          },
          "metadata": {
            "tags": []
          }
        }
      ]
    },
    {
      "cell_type": "markdown",
      "metadata": {
        "id": "84OLxHFgarzl"
      },
      "source": [
        "#### mapping with case_when"
      ]
    },
    {
      "cell_type": "code",
      "metadata": {
        "colab": {
          "base_uri": "https://localhost:8080/",
          "height": 35
        },
        "id": "zn1GPWJPa0tw",
        "outputId": "81d21f35-c6d0-4e90-8c65-6e5a9caf5519"
      },
      "source": [
        "unique(multiple_choice_responses$DataScienceIdentitySelect)"
      ],
      "execution_count": 138,
      "outputs": [
        {
          "output_type": "display_data",
          "data": {
            "text/plain": [
              "[1] \"Yes\"                    \"No\"                     \"\"                      \n",
              "[4] \"Sort of (Explain more)\""
            ],
            "text/latex": "\\begin{enumerate*}\n\\item 'Yes'\n\\item 'No'\n\\item ''\n\\item 'Sort of (Explain more)'\n\\end{enumerate*}\n",
            "text/markdown": "1. 'Yes'\n2. 'No'\n3. ''\n4. 'Sort of (Explain more)'\n\n\n",
            "text/html": [
              "<style>\n",
              ".list-inline {list-style: none; margin:0; padding: 0}\n",
              ".list-inline>li {display: inline-block}\n",
              ".list-inline>li:not(:last-child)::after {content: \"\\00b7\"; padding: 0 .5ex}\n",
              "</style>\n",
              "<ol class=list-inline><li>'Yes'</li><li>'No'</li><li>''</li><li>'Sort of (Explain more)'</li></ol>\n"
            ]
          },
          "metadata": {
            "tags": []
          }
        }
      ]
    },
    {
      "cell_type": "code",
      "metadata": {
        "colab": {
          "base_uri": "https://localhost:8080/",
          "height": 219
        },
        "id": "Zi_7d2zAVwLa",
        "outputId": "1932b46b-df16-4cd6-dc03-eb7bcd28baa0"
      },
      "source": [
        "multiple_choice_responses %>%\n",
        "    # Filter out people who selected Data Scientist as their Job Title\n",
        "    filter(CurrentJobTitleSelect != \"Data Scientist\") %>%\n",
        "    # Create a new variable, job_identity\n",
        "    mutate(job_identity = case_when(\n",
        "        CurrentJobTitleSelect == \"Data Analyst\" & \n",
        "        DataScienceIdentitySelect == \"Yes\" ~ \"DS analysts\", \n",
        "        CurrentJobTitleSelect == \"Data Analyst\" & \n",
        "        DataScienceIdentitySelect %in% c(\"No\", \"Sort of (Explain more)\") ~ \"NDS analyst\", \n",
        "        CurrentJobTitleSelect != \"Data Analyst\" & \n",
        "        DataScienceIdentitySelect == \"Yes\" ~ \"DS non-analysts\", \n",
        "        TRUE ~ \"NDS non analysts\")) %>%\n",
        "    # Get the average job satisfaction by job_identity, removing NAs\n",
        "    group_by(job_identity) %>%\n",
        "    summarize(avg_js = mean(JobSatisfaction))"
      ],
      "execution_count": 136,
      "outputs": [
        {
          "output_type": "display_data",
          "data": {
            "text/plain": [
              "  job_identity     avg_js  \n",
              "1 DS analysts      5.303855\n",
              "2 DS non-analysts  4.052935\n",
              "3 NDS analyst      4.781250\n",
              "4 NDS non analysts 2.674012"
            ],
            "text/latex": "A tibble: 4 × 2\n\\begin{tabular}{ll}\n job\\_identity & avg\\_js\\\\\n <chr> & <dbl>\\\\\n\\hline\n\t DS analysts      & 5.303855\\\\\n\t DS non-analysts  & 4.052935\\\\\n\t NDS analyst      & 4.781250\\\\\n\t NDS non analysts & 2.674012\\\\\n\\end{tabular}\n",
            "text/markdown": "\nA tibble: 4 × 2\n\n| job_identity &lt;chr&gt; | avg_js &lt;dbl&gt; |\n|---|---|\n| DS analysts      | 5.303855 |\n| DS non-analysts  | 4.052935 |\n| NDS analyst      | 4.781250 |\n| NDS non analysts | 2.674012 |\n\n",
            "text/html": [
              "<table class=\"dataframe\">\n",
              "<caption>A tibble: 4 × 2</caption>\n",
              "<thead>\n",
              "\t<tr><th scope=col>job_identity</th><th scope=col>avg_js</th></tr>\n",
              "\t<tr><th scope=col>&lt;chr&gt;</th><th scope=col>&lt;dbl&gt;</th></tr>\n",
              "</thead>\n",
              "<tbody>\n",
              "\t<tr><td>DS analysts     </td><td>5.303855</td></tr>\n",
              "\t<tr><td>DS non-analysts </td><td>4.052935</td></tr>\n",
              "\t<tr><td>NDS analyst     </td><td>4.781250</td></tr>\n",
              "\t<tr><td>NDS non analysts</td><td>2.674012</td></tr>\n",
              "</tbody>\n",
              "</table>\n"
            ]
          },
          "metadata": {
            "tags": []
          }
        }
      ]
    },
    {
      "cell_type": "markdown",
      "metadata": {
        "id": "PUOzRY8FI1X6"
      },
      "source": [
        "# GGPLOT Tricks"
      ]
    },
    {
      "cell_type": "code",
      "metadata": {
        "id": "2VQkyNh-JNzH"
      },
      "source": [
        "usefulness_by_platform <- perc_useful_platform %>%\n",
        "  mutate(avg_usefulness = perc) %>%\n",
        "  select(learning_platform, avg_usefulness)"
      ],
      "execution_count": 40,
      "outputs": []
    },
    {
      "cell_type": "markdown",
      "metadata": {
        "id": "4hEyGowrK3Vy"
      },
      "source": [
        "## 1) Editing plot text and showing percentages\n"
      ]
    },
    {
      "cell_type": "code",
      "metadata": {
        "colab": {
          "base_uri": "https://localhost:8080/",
          "height": 437
        },
        "id": "pNNzIF8NI3JX",
        "outputId": "aca95753-7797-4206-9846-cd2ae68c2379"
      },
      "source": [
        "ggplot(usefulness_by_platform, aes(x = learning_platform, y = avg_usefulness)) + \n",
        "    geom_point() + \n",
        "    # rotate x-axis text by 90 degrees\n",
        "    theme(axis.text.x = element_text(angle = 90, hjust = 1)) + \n",
        "    # rename y and x axis labels\n",
        "    labs(x = \"Learning Platform\", y = \"Percent finding at least somewhat useful\") + \n",
        "    # change y axis scale to percentage\n",
        "    scale_y_continuous(labels = scales::percent)"
      ],
      "execution_count": 41,
      "outputs": [
        {
          "output_type": "display_data",
          "data": {
            "image/png": "[encoded data removed]",
            "text/plain": [
              "plot without title"
            ]
          },
          "metadata": {
            "tags": [],
            "image/png": {
              "width": 420,
              "height": 420
            }
          }
        }
      ]
    },
    {
      "cell_type": "markdown",
      "metadata": {
        "id": "omfa8Pt_LQNr"
      },
      "source": [
        "## 2) Reordering graphs and changing angles on axis\n"
      ]
    },
    {
      "cell_type": "code",
      "metadata": {
        "colab": {
          "base_uri": "https://localhost:8080/",
          "height": 437
        },
        "id": "coBAegkkLRIg",
        "outputId": "f5fbe179-6173-4ffc-9490-56f82e7a8bce"
      },
      "source": [
        "usefulness_by_platform %>%\n",
        "\t# reorder learning_platform by avg_usefulness\n",
        "\tmutate(learning_platform = fct_reorder(learning_platform, avg_usefulness)) %>%\n",
        "\t# reverse the order of learning_platform\n",
        "\tmutate(learning_platform = fct_rev(learning_platform)) %>%\n",
        "\tggplot(aes(x = learning_platform, y = avg_usefulness)) + \n",
        "    geom_point() + \n",
        "    theme(axis.text.x = element_text(angle = 90, hjust = 1)) + \n",
        "    labs(x = \"Learning Platform\", y = \"Percent finding at least somewhat useful\") + \n",
        "    scale_y_continuous(labels = scales::percent)"
      ],
      "execution_count": 42,
      "outputs": [
        {
          "output_type": "display_data",
          "data": {
            "image/png": "[encoded data removed]",
            "text/plain": [
              "plot without title"
            ]
          },
          "metadata": {
            "tags": [],
            "image/png": {
              "width": 420,
              "height": 420
            }
          }
        }
      ]
    },
    {
      "cell_type": "code",
      "metadata": {
        "id": "Az36g5WWTPYk"
      },
      "source": [
        ""
      ],
      "execution_count": null,
      "outputs": []
    }
  ]
}