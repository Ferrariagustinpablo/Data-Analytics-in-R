{
  "nbformat": 4,
  "nbformat_minor": 0,
  "metadata": {
    "colab": {
      "name": "Importing in R",
      "provenance": [],
      "collapsed_sections": [],
      "toc_visible": true,
      "include_colab_link": true
    },
    "kernelspec": {
      "name": "ir",
      "display_name": "R"
    }
  },
  "cells": [
    {
      "cell_type": "markdown",
      "metadata": {
        "id": "view-in-github",
        "colab_type": "text"
      },
      "source": [
        "<a href=\"https://colab.research.google.com/github/Ferrariagustinpablo/Data-Analytics-in-R/blob/main/Importing_in_R.ipynb\" target=\"_parent\"><img src=\"https://colab.research.google.com/assets/colab-badge.svg\" alt=\"Open In Colab\"/></a>"
      ]
    },
    {
      "cell_type": "markdown",
      "metadata": {
        "id": "cYE7mEi2ky38"
      },
      "source": [
        "# Import libraries"
      ]
    },
    {
      "cell_type": "code",
      "metadata": {
        "id": "RoD2lzL9Z3f_",
        "colab": {
          "base_uri": "https://localhost:8080/"
        },
        "outputId": "04bd5051-8e97-49bc-a229-ba2cccbdeabe"
      },
      "source": [
        "# Load\n",
        "library(dplyr)\n",
        "library(ggplot2)\n",
        "library(tidyr)"
      ],
      "execution_count": 1,
      "outputs": [
        {
          "output_type": "stream",
          "text": [
            "\n",
            "Attaching package: ‘dplyr’\n",
            "\n",
            "\n",
            "The following objects are masked from ‘package:stats’:\n",
            "\n",
            "    filter, lag\n",
            "\n",
            "\n",
            "The following objects are masked from ‘package:base’:\n",
            "\n",
            "    intersect, setdiff, setequal, union\n",
            "\n",
            "\n"
          ],
          "name": "stderr"
        }
      ]
    },
    {
      "cell_type": "code",
      "metadata": {
        "id": "mRitoKKcFchJ",
        "colab": {
          "base_uri": "https://localhost:8080/"
        },
        "outputId": "ad36d779-77a7-4153-caba-caa3e49bacd6"
      },
      "source": [
        "install.packages(\"data.table\")\n",
        "library(data.table)"
      ],
      "execution_count": 2,
      "outputs": [
        {
          "output_type": "stream",
          "text": [
            "Installing package into ‘/usr/local/lib/R/site-library’\n",
            "(as ‘lib’ is unspecified)\n",
            "\n",
            "\n",
            "Attaching package: ‘data.table’\n",
            "\n",
            "\n",
            "The following objects are masked from ‘package:dplyr’:\n",
            "\n",
            "    between, first, last\n",
            "\n",
            "\n"
          ],
          "name": "stderr"
        }
      ]
    },
    {
      "cell_type": "markdown",
      "metadata": {
        "id": "5hu2EU0WBibp"
      },
      "source": [
        "# Flat files"
      ]
    },
    {
      "cell_type": "markdown",
      "metadata": {
        "id": "Tk4YPJqPBSvJ"
      },
      "source": [
        "# CSV: read.csv"
      ]
    },
    {
      "cell_type": "code",
      "metadata": {
        "id": "aLSqTvcg7a_Y"
      },
      "source": [
        "# Import swimming_pools.csv: pools\n",
        "pools <- read.csv(\"swimming_pools.csv\")\n",
        "\n",
        "# Print the structure of pools\n",
        "str(pools)"
      ],
      "execution_count": null,
      "outputs": []
    },
    {
      "cell_type": "markdown",
      "metadata": {
        "id": "nTk2oCSVBVUC"
      },
      "source": [
        "## stringsAsFactors"
      ]
    },
    {
      "cell_type": "markdown",
      "metadata": {
        "id": "xhxq_pX_BSIe"
      },
      "source": [
        "With stringsAsFactors, you can tell R whether it should convert strings in the flat file to factors."
      ]
    },
    {
      "cell_type": "code",
      "metadata": {
        "id": "kyj0zyxGBWQv"
      },
      "source": [
        "pools <- read.csv(\"swimming_pools.csv\", stringsAsFactors = FALSE)"
      ],
      "execution_count": null,
      "outputs": []
    },
    {
      "cell_type": "markdown",
      "metadata": {
        "id": "-FcMRnKBBmtf"
      },
      "source": [
        "# TSV: read.delim()"
      ]
    },
    {
      "cell_type": "code",
      "metadata": {
        "id": "ItGLu8JgBsOM"
      },
      "source": [
        "read.delim(\"hotdogs.txt\", header = FALSE)"
      ],
      "execution_count": null,
      "outputs": []
    },
    {
      "cell_type": "markdown",
      "metadata": {
        "id": "0E-x6ID9B9Xf"
      },
      "source": [
        "# OTHER delimiters: read.table"
      ]
    },
    {
      "cell_type": "code",
      "metadata": {
        "id": "aE9OM9uQB-Cc"
      },
      "source": [
        "# Also for any delimiter\n",
        "read.table(path, sep = \"\\t\", \n",
        "                      col.names = c(\"type\", \"calories\", \"sodium\"))"
      ],
      "execution_count": null,
      "outputs": []
    },
    {
      "cell_type": "markdown",
      "metadata": {
        "id": "Icym19DJEm-f"
      },
      "source": [
        "# Other library for importing is: readr"
      ]
    },
    {
      "cell_type": "markdown",
      "metadata": {
        "id": "NUMoa4yCFKRz"
      },
      "source": [
        "# Efficient library for data.tables: fread()"
      ]
    },
    {
      "cell_type": "markdown",
      "metadata": {
        "id": "t_nrYMEyFvta"
      },
      "source": [
        "Works better and is super fast\n",
        "\n",
        "Also infers column types and separators"
      ]
    },
    {
      "cell_type": "code",
      "metadata": {
        "id": "hK6g2Q8zFQV2"
      },
      "source": [
        "install.packages(\"data.table\")\n",
        "library(data.table)\n",
        "\n",
        "fread(\"potatoes.csv\")"
      ],
      "execution_count": null,
      "outputs": []
    },
    {
      "cell_type": "code",
      "metadata": {
        "id": "N_t3sbOJF9GS"
      },
      "source": [
        "# Import columns 6 and 8 of potatoes.csv: potatoes\n",
        "potatoes <- fread(\"potatoes.csv\", select = c(6, 8))"
      ],
      "execution_count": null,
      "outputs": []
    },
    {
      "cell_type": "markdown",
      "metadata": {
        "id": "dXV_3j4TGblc"
      },
      "source": [
        "# Importing Excel: readxl"
      ]
    },
    {
      "cell_type": "code",
      "metadata": {
        "colab": {
          "base_uri": "https://localhost:8080/"
        },
        "id": "PJj5EAwZGfIT",
        "outputId": "6ab4d8d3-53a0-4d0c-b9c4-4c5213d3e0be"
      },
      "source": [
        "install.packages(\"readxl\")\n",
        "library(readxl)"
      ],
      "execution_count": null,
      "outputs": [
        {
          "output_type": "stream",
          "text": [
            "Installing package into ‘/usr/local/lib/R/site-library’\n",
            "(as ‘lib’ is unspecified)\n",
            "\n"
          ],
          "name": "stderr"
        }
      ]
    },
    {
      "cell_type": "code",
      "metadata": {
        "id": "-dZK55yLLlvD"
      },
      "source": [
        "# Print the names of all worksheets\n",
        "excel_sheets(\"urbanpop.xlsx\")\n"
      ],
      "execution_count": null,
      "outputs": []
    },
    {
      "cell_type": "code",
      "metadata": {
        "id": "PWxIiA_yMDr4"
      },
      "source": [
        "# Read the sheets, one by one\n",
        "pop_1 <- read_excel(\"urbanpop.xlsx\", sheet = 1)\n",
        "pop_2 <- read_excel(\"urbanpop.xlsx\", sheet = 2)"
      ],
      "execution_count": null,
      "outputs": []
    },
    {
      "cell_type": "code",
      "metadata": {
        "id": "JcqSqYjIMN-j"
      },
      "source": [
        "# Read all Excel sheets with lapply(): pop_list\n",
        "pop_list <- lapply(excel_sheets(\"urbanpop.xlsx\"), read_excel, path = \"urbanpop.xlsx\")"
      ],
      "execution_count": null,
      "outputs": []
    },
    {
      "cell_type": "markdown",
      "metadata": {
        "id": "qQOXL0rtNXvr"
      },
      "source": [
        "## name columns"
      ]
    },
    {
      "cell_type": "code",
      "metadata": {
        "id": "kN74eubaNFR1"
      },
      "source": [
        "# Import the first Excel sheet of urbanpop_nonames.xlsx (specify col_names): pop_b\n",
        "\n",
        "cols <- c(\"country\", paste0(\"year_\", 1960:1966))\n",
        "\n",
        "pop_b <- read_excel(\"urbanpop_nonames.xlsx\", col_names = cols)"
      ],
      "execution_count": null,
      "outputs": []
    },
    {
      "cell_type": "code",
      "metadata": {
        "id": "RvXqv8swNHRC"
      },
      "source": [
        "# Import the second sheet of urbanpop.xlsx, skipping the first 21 rows: urbanpop_sel\n",
        "urbanpop_sel <- read_excel(\"urbanpop.xlsx\", sheet = 2, col_names = FALSE, skip = 21)"
      ],
      "execution_count": null,
      "outputs": []
    },
    {
      "cell_type": "markdown",
      "metadata": {
        "id": "gKAZDKsePrAm"
      },
      "source": [
        "# Another package powerfull for coding in R and changing in excel: XLConnect"
      ]
    },
    {
      "cell_type": "markdown",
      "metadata": {
        "id": "JNBy4sLfP-sI"
      },
      "source": [
        "# Importing from databases RMySQL"
      ]
    },
    {
      "cell_type": "code",
      "metadata": {
        "colab": {
          "base_uri": "https://localhost:8080/"
        },
        "id": "skK6s-n0Qq0g",
        "outputId": "6a8411ab-5d19-4174-875a-686fa1fc8dae"
      },
      "source": [
        "install.packages(\"RMySQL\")\n",
        "library(DBI) # library(RMySQL) not requiered"
      ],
      "execution_count": null,
      "outputs": [
        {
          "output_type": "stream",
          "text": [
            "Installing package into ‘/usr/local/lib/R/site-library’\n",
            "(as ‘lib’ is unspecified)\n",
            "\n"
          ],
          "name": "stderr"
        }
      ]
    },
    {
      "cell_type": "markdown",
      "metadata": {
        "id": "IaMmtwgqRT7U"
      },
      "source": [
        "## Establish a connection\n",
        "\n",
        "The first step to import data from a SQL database is creating a connection to it. \n",
        "\n",
        "dbConnect() creates a connection between your R session and a SQL database. The first argument has to be a DBIdriver object, that specifies how connections are made and how data is mapped between R and the database. Specifically for MySQL databases, you can build such a driver with RMySQL::MySQL()."
      ]
    },
    {
      "cell_type": "code",
      "metadata": {
        "id": "XZLObP26QzmT"
      },
      "source": [
        "# Edit dbConnect() call\n",
        "con <- dbConnect(RMySQL::MySQL(), \n",
        "                 dbname = \"tweater\", \n",
        "                 host = \"courses.csrrinzqubik.us-east-1.rds.amazonaws.com\", \n",
        "                 port = 3306,\n",
        "                 user = \"student\",\n",
        "                 password = \"datacamp\")"
      ],
      "execution_count": null,
      "outputs": []
    },
    {
      "cell_type": "markdown",
      "metadata": {
        "id": "yoSr-F9zSWzw"
      },
      "source": [
        "you've successfully created the database connection"
      ]
    },
    {
      "cell_type": "markdown",
      "metadata": {
        "id": "077YVBgqSkRH"
      },
      "source": [
        "## List and import tables"
      ]
    },
    {
      "cell_type": "code",
      "metadata": {
        "colab": {
          "base_uri": "https://localhost:8080/",
          "height": 35
        },
        "id": "e-w6l7j-SXUP",
        "outputId": "97fab993-62c7-42cf-db42-477d95d04a26"
      },
      "source": [
        "dbListTables(con)"
      ],
      "execution_count": null,
      "outputs": [
        {
          "output_type": "display_data",
          "data": {
            "text/plain": [
              "[1] \"comments\" \"tweats\"   \"users\"   "
            ],
            "text/latex": "\\begin{enumerate*}\n\\item 'comments'\n\\item 'tweats'\n\\item 'users'\n\\end{enumerate*}\n",
            "text/markdown": "1. 'comments'\n2. 'tweats'\n3. 'users'\n\n\n",
            "text/html": [
              "<style>\n",
              ".list-inline {list-style: none; margin:0; padding: 0}\n",
              ".list-inline>li {display: inline-block}\n",
              ".list-inline>li:not(:last-child)::after {content: \"\\00b7\"; padding: 0 .5ex}\n",
              "</style>\n",
              "<ol class=list-inline><li>'comments'</li><li>'tweats'</li><li>'users'</li></ol>\n"
            ]
          },
          "metadata": {
            "tags": []
          }
        }
      ]
    },
    {
      "cell_type": "code",
      "metadata": {
        "colab": {
          "base_uri": "https://localhost:8080/",
          "height": 158
        },
        "id": "qCmzlX3ITHN2",
        "outputId": "2dd8011e-fa0c-4ca9-dda4-e051fd36b740"
      },
      "source": [
        "# Import the users table from tweater: users\n",
        "users <- dbReadTable(con, \"users\")\n",
        "\n",
        "# Print users\n",
        "head(users,2)"
      ],
      "execution_count": null,
      "outputs": [
        {
          "output_type": "display_data",
          "data": {
            "text/plain": [
              "  id name      login   \n",
              "1 1  elisabeth elismith\n",
              "2 2  mike      mikey   "
            ],
            "text/latex": "A data.frame: 2 × 3\n\\begin{tabular}{r|lll}\n  & id & name & login\\\\\n  & <dbl> & <chr> & <chr>\\\\\n\\hline\n\t1 & 1 & elisabeth & elismith\\\\\n\t2 & 2 & mike      & mikey   \\\\\n\\end{tabular}\n",
            "text/markdown": "\nA data.frame: 2 × 3\n\n| <!--/--> | id &lt;dbl&gt; | name &lt;chr&gt; | login &lt;chr&gt; |\n|---|---|---|---|\n| 1 | 1 | elisabeth | elismith |\n| 2 | 2 | mike      | mikey    |\n\n",
            "text/html": [
              "<table class=\"dataframe\">\n",
              "<caption>A data.frame: 2 × 3</caption>\n",
              "<thead>\n",
              "\t<tr><th></th><th scope=col>id</th><th scope=col>name</th><th scope=col>login</th></tr>\n",
              "\t<tr><th></th><th scope=col>&lt;dbl&gt;</th><th scope=col>&lt;chr&gt;</th><th scope=col>&lt;chr&gt;</th></tr>\n",
              "</thead>\n",
              "<tbody>\n",
              "\t<tr><th scope=row>1</th><td>1</td><td>elisabeth</td><td>elismith</td></tr>\n",
              "\t<tr><th scope=row>2</th><td>2</td><td>mike     </td><td>mikey   </td></tr>\n",
              "</tbody>\n",
              "</table>\n"
            ]
          },
          "metadata": {
            "tags": []
          }
        }
      ]
    },
    {
      "cell_type": "markdown",
      "metadata": {
        "id": "j-HEOYuhTdQc"
      },
      "source": [
        "Next to the users, we're also interested in the tweats and comments tables. However, separate dbReadTable() calls for each and every one of the tables in your database would mean a lot of code duplication"
      ]
    },
    {
      "cell_type": "markdown",
      "metadata": {
        "id": "deWCulc3Tezz"
      },
      "source": [
        "## Import all tables "
      ]
    },
    {
      "cell_type": "code",
      "metadata": {
        "colab": {
          "base_uri": "https://localhost:8080/",
          "height": 1000
        },
        "id": "Al1eQ2BiTgGw",
        "outputId": "456ceaca-2a15-494e-9ce1-99526fdfed20"
      },
      "source": [
        "# Get table names\n",
        "table_names <- dbListTables(con)\n",
        "\n",
        "# Import all tables\n",
        "tables <- lapply(table_names, dbReadTable, conn = con)\n",
        "\n",
        "# Print out tables\n",
        "tables"
      ],
      "execution_count": null,
      "outputs": [
        {
          "output_type": "display_data",
          "data": {
            "text/plain": [
              "[[1]]\n",
              "     id tweat_id user_id            message\n",
              "1  1022       87       7              nice!\n",
              "2  1000       77       7             great!\n",
              "3  1011       49       5            love it\n",
              "4  1012       87       1   awesome! thanks!\n",
              "5  1010       88       6              yuck!\n",
              "6  1026       77       4      not my thing!\n",
              "7  1004       49       1  this is fabulous!\n",
              "8  1030       75       6           so easy!\n",
              "9  1025       88       2             oh yes\n",
              "10 1007       49       3           serious?\n",
              "11 1020       77       1 couldn't be better\n",
              "12 1014       77       1       saved my day\n",
              "\n",
              "[[2]]\n",
              "  id user_id\n",
              "1 75       3\n",
              "2 88       4\n",
              "3 77       6\n",
              "4 87       5\n",
              "5 49       1\n",
              "6 24       7\n",
              "                                                                 post\n",
              "1                                       break egg. bake egg. eat egg.\n",
              "2                           wash strawberries. add ice. blend. enjoy.\n",
              "3                       2 slices of bread. add cheese. grill. heaven.\n",
              "4               open and crush avocado. add shrimps. perfect starter.\n",
              "5 nachos. add tomato sauce, minced meat and cheese. oven for 10 mins.\n",
              "6                              just eat an apple. simply and healthy.\n",
              "        date\n",
              "1 2015-09-05\n",
              "2 2015-09-14\n",
              "3 2015-09-21\n",
              "4 2015-09-22\n",
              "5 2015-09-22\n",
              "6 2015-09-24\n",
              "\n",
              "[[3]]\n",
              "  id      name     login\n",
              "1  1 elisabeth  elismith\n",
              "2  2      mike     mikey\n",
              "3  3      thea   teatime\n",
              "4  4    thomas tomatotom\n",
              "5  5    oliver olivander\n",
              "6  6      kate  katebenn\n",
              "7  7    anjali    lianja\n"
            ],
            "text/latex": "\\begin{enumerate}\n\\item A data.frame: 12 × 4\n\\begin{tabular}{llll}\n id & tweat\\_id & user\\_id & message\\\\\n <dbl> & <dbl> & <dbl> & <chr>\\\\\n\\hline\n\t 1022 & 87 & 7 & nice!             \\\\\n\t 1000 & 77 & 7 & great!            \\\\\n\t 1011 & 49 & 5 & love it           \\\\\n\t 1012 & 87 & 1 & awesome! thanks!  \\\\\n\t 1010 & 88 & 6 & yuck!             \\\\\n\t 1026 & 77 & 4 & not my thing!     \\\\\n\t 1004 & 49 & 1 & this is fabulous! \\\\\n\t 1030 & 75 & 6 & so easy!          \\\\\n\t 1025 & 88 & 2 & oh yes            \\\\\n\t 1007 & 49 & 3 & serious?          \\\\\n\t 1020 & 77 & 1 & couldn't be better\\\\\n\t 1014 & 77 & 1 & saved my day      \\\\\n\\end{tabular}\n\n\\item A data.frame: 6 × 4\n\\begin{tabular}{llll}\n id & user\\_id & post & date\\\\\n <dbl> & <dbl> & <chr> & <chr>\\\\\n\\hline\n\t 75 & 3 & break egg. bake egg. eat egg.                                       & 2015-09-05\\\\\n\t 88 & 4 & wash strawberries. add ice. blend. enjoy.                           & 2015-09-14\\\\\n\t 77 & 6 & 2 slices of bread. add cheese. grill. heaven.                       & 2015-09-21\\\\\n\t 87 & 5 & open and crush avocado. add shrimps. perfect starter.               & 2015-09-22\\\\\n\t 49 & 1 & nachos. add tomato sauce, minced meat and cheese. oven for 10 mins. & 2015-09-22\\\\\n\t 24 & 7 & just eat an apple. simply and healthy.                              & 2015-09-24\\\\\n\\end{tabular}\n\n\\item A data.frame: 7 × 3\n\\begin{tabular}{lll}\n id & name & login\\\\\n <dbl> & <chr> & <chr>\\\\\n\\hline\n\t 1 & elisabeth & elismith \\\\\n\t 2 & mike      & mikey    \\\\\n\t 3 & thea      & teatime  \\\\\n\t 4 & thomas    & tomatotom\\\\\n\t 5 & oliver    & olivander\\\\\n\t 6 & kate      & katebenn \\\\\n\t 7 & anjali    & lianja   \\\\\n\\end{tabular}\n\n\\end{enumerate}\n",
            "text/markdown": "1. \nA data.frame: 12 × 4\n\n| id &lt;dbl&gt; | tweat_id &lt;dbl&gt; | user_id &lt;dbl&gt; | message &lt;chr&gt; |\n|---|---|---|---|\n| 1022 | 87 | 7 | nice!              |\n| 1000 | 77 | 7 | great!             |\n| 1011 | 49 | 5 | love it            |\n| 1012 | 87 | 1 | awesome! thanks!   |\n| 1010 | 88 | 6 | yuck!              |\n| 1026 | 77 | 4 | not my thing!      |\n| 1004 | 49 | 1 | this is fabulous!  |\n| 1030 | 75 | 6 | so easy!           |\n| 1025 | 88 | 2 | oh yes             |\n| 1007 | 49 | 3 | serious?           |\n| 1020 | 77 | 1 | couldn't be better |\n| 1014 | 77 | 1 | saved my day       |\n\n\n2. \nA data.frame: 6 × 4\n\n| id &lt;dbl&gt; | user_id &lt;dbl&gt; | post &lt;chr&gt; | date &lt;chr&gt; |\n|---|---|---|---|\n| 75 | 3 | break egg. bake egg. eat egg.                                       | 2015-09-05 |\n| 88 | 4 | wash strawberries. add ice. blend. enjoy.                           | 2015-09-14 |\n| 77 | 6 | 2 slices of bread. add cheese. grill. heaven.                       | 2015-09-21 |\n| 87 | 5 | open and crush avocado. add shrimps. perfect starter.               | 2015-09-22 |\n| 49 | 1 | nachos. add tomato sauce, minced meat and cheese. oven for 10 mins. | 2015-09-22 |\n| 24 | 7 | just eat an apple. simply and healthy.                              | 2015-09-24 |\n\n\n3. \nA data.frame: 7 × 3\n\n| id &lt;dbl&gt; | name &lt;chr&gt; | login &lt;chr&gt; |\n|---|---|---|\n| 1 | elisabeth | elismith  |\n| 2 | mike      | mikey     |\n| 3 | thea      | teatime   |\n| 4 | thomas    | tomatotom |\n| 5 | oliver    | olivander |\n| 6 | kate      | katebenn  |\n| 7 | anjali    | lianja    |\n\n\n\n\n",
            "text/html": [
              "<ol>\n",
              "\t<li><table class=\"dataframe\">\n",
              "<caption>A data.frame: 12 × 4</caption>\n",
              "<thead>\n",
              "\t<tr><th scope=col>id</th><th scope=col>tweat_id</th><th scope=col>user_id</th><th scope=col>message</th></tr>\n",
              "\t<tr><th scope=col>&lt;dbl&gt;</th><th scope=col>&lt;dbl&gt;</th><th scope=col>&lt;dbl&gt;</th><th scope=col>&lt;chr&gt;</th></tr>\n",
              "</thead>\n",
              "<tbody>\n",
              "\t<tr><td>1022</td><td>87</td><td>7</td><td>nice!             </td></tr>\n",
              "\t<tr><td>1000</td><td>77</td><td>7</td><td>great!            </td></tr>\n",
              "\t<tr><td>1011</td><td>49</td><td>5</td><td>love it           </td></tr>\n",
              "\t<tr><td>1012</td><td>87</td><td>1</td><td>awesome! thanks!  </td></tr>\n",
              "\t<tr><td>1010</td><td>88</td><td>6</td><td>yuck!             </td></tr>\n",
              "\t<tr><td>1026</td><td>77</td><td>4</td><td>not my thing!     </td></tr>\n",
              "\t<tr><td>1004</td><td>49</td><td>1</td><td>this is fabulous! </td></tr>\n",
              "\t<tr><td>1030</td><td>75</td><td>6</td><td>so easy!          </td></tr>\n",
              "\t<tr><td>1025</td><td>88</td><td>2</td><td>oh yes            </td></tr>\n",
              "\t<tr><td>1007</td><td>49</td><td>3</td><td>serious?          </td></tr>\n",
              "\t<tr><td>1020</td><td>77</td><td>1</td><td>couldn't be better</td></tr>\n",
              "\t<tr><td>1014</td><td>77</td><td>1</td><td>saved my day      </td></tr>\n",
              "</tbody>\n",
              "</table>\n",
              "</li>\n",
              "\t<li><table class=\"dataframe\">\n",
              "<caption>A data.frame: 6 × 4</caption>\n",
              "<thead>\n",
              "\t<tr><th scope=col>id</th><th scope=col>user_id</th><th scope=col>post</th><th scope=col>date</th></tr>\n",
              "\t<tr><th scope=col>&lt;dbl&gt;</th><th scope=col>&lt;dbl&gt;</th><th scope=col>&lt;chr&gt;</th><th scope=col>&lt;chr&gt;</th></tr>\n",
              "</thead>\n",
              "<tbody>\n",
              "\t<tr><td>75</td><td>3</td><td>break egg. bake egg. eat egg.                                      </td><td>2015-09-05</td></tr>\n",
              "\t<tr><td>88</td><td>4</td><td>wash strawberries. add ice. blend. enjoy.                          </td><td>2015-09-14</td></tr>\n",
              "\t<tr><td>77</td><td>6</td><td>2 slices of bread. add cheese. grill. heaven.                      </td><td>2015-09-21</td></tr>\n",
              "\t<tr><td>87</td><td>5</td><td>open and crush avocado. add shrimps. perfect starter.              </td><td>2015-09-22</td></tr>\n",
              "\t<tr><td>49</td><td>1</td><td>nachos. add tomato sauce, minced meat and cheese. oven for 10 mins.</td><td>2015-09-22</td></tr>\n",
              "\t<tr><td>24</td><td>7</td><td>just eat an apple. simply and healthy.                             </td><td>2015-09-24</td></tr>\n",
              "</tbody>\n",
              "</table>\n",
              "</li>\n",
              "\t<li><table class=\"dataframe\">\n",
              "<caption>A data.frame: 7 × 3</caption>\n",
              "<thead>\n",
              "\t<tr><th scope=col>id</th><th scope=col>name</th><th scope=col>login</th></tr>\n",
              "\t<tr><th scope=col>&lt;dbl&gt;</th><th scope=col>&lt;chr&gt;</th><th scope=col>&lt;chr&gt;</th></tr>\n",
              "</thead>\n",
              "<tbody>\n",
              "\t<tr><td>1</td><td>elisabeth</td><td>elismith </td></tr>\n",
              "\t<tr><td>2</td><td>mike     </td><td>mikey    </td></tr>\n",
              "\t<tr><td>3</td><td>thea     </td><td>teatime  </td></tr>\n",
              "\t<tr><td>4</td><td>thomas   </td><td>tomatotom</td></tr>\n",
              "\t<tr><td>5</td><td>oliver   </td><td>olivander</td></tr>\n",
              "\t<tr><td>6</td><td>kate     </td><td>katebenn </td></tr>\n",
              "\t<tr><td>7</td><td>anjali   </td><td>lianja   </td></tr>\n",
              "</tbody>\n",
              "</table>\n",
              "</li>\n",
              "</ol>\n"
            ]
          },
          "metadata": {
            "tags": []
          }
        }
      ]
    },
    {
      "cell_type": "markdown",
      "metadata": {
        "id": "HtMLrKdVWoPV"
      },
      "source": [
        "## Direct query from R with SQL"
      ]
    },
    {
      "cell_type": "code",
      "metadata": {
        "id": "oIZyKPB7WsDg"
      },
      "source": [
        "# After connecting database:\n",
        "elisabeth <- dbGetQuery(con, \n",
        "               \"SELECT tweat_id FROM comments WHERE user_id = 1\")"
      ],
      "execution_count": null,
      "outputs": []
    },
    {
      "cell_type": "code",
      "metadata": {
        "colab": {
          "base_uri": "https://localhost:8080/",
          "height": 189
        },
        "id": "cDGnqnn2X6kf",
        "outputId": "77327ca3-10a7-44e3-d3ee-c688aadf284c"
      },
      "source": [
        "# Import post column of tweats where date is higher than '2015-09-21': latest\n",
        "latest <- dbGetQuery(con, \"SELECT post FROM tweats WHERE date > '2015-09-21'\")\n",
        "\n",
        "# Print latest\n",
        "latest"
      ],
      "execution_count": null,
      "outputs": [
        {
          "output_type": "display_data",
          "data": {
            "text/plain": [
              "  post                                                               \n",
              "1 open and crush avocado. add shrimps. perfect starter.              \n",
              "2 nachos. add tomato sauce, minced meat and cheese. oven for 10 mins.\n",
              "3 just eat an apple. simply and healthy.                             "
            ],
            "text/latex": "A data.frame: 3 × 1\n\\begin{tabular}{l}\n post\\\\\n <chr>\\\\\n\\hline\n\t open and crush avocado. add shrimps. perfect starter.              \\\\\n\t nachos. add tomato sauce, minced meat and cheese. oven for 10 mins.\\\\\n\t just eat an apple. simply and healthy.                             \\\\\n\\end{tabular}\n",
            "text/markdown": "\nA data.frame: 3 × 1\n\n| post &lt;chr&gt; |\n|---|\n| open and crush avocado. add shrimps. perfect starter.               |\n| nachos. add tomato sauce, minced meat and cheese. oven for 10 mins. |\n| just eat an apple. simply and healthy.                              |\n\n",
            "text/html": [
              "<table class=\"dataframe\">\n",
              "<caption>A data.frame: 3 × 1</caption>\n",
              "<thead>\n",
              "\t<tr><th scope=col>post</th></tr>\n",
              "\t<tr><th scope=col>&lt;chr&gt;</th></tr>\n",
              "</thead>\n",
              "<tbody>\n",
              "\t<tr><td>open and crush avocado. add shrimps. perfect starter.              </td></tr>\n",
              "\t<tr><td>nachos. add tomato sauce, minced meat and cheese. oven for 10 mins.</td></tr>\n",
              "\t<tr><td>just eat an apple. simply and healthy.                             </td></tr>\n",
              "</tbody>\n",
              "</table>\n"
            ]
          },
          "metadata": {
            "tags": []
          }
        }
      ]
    },
    {
      "cell_type": "markdown",
      "metadata": {
        "id": "440X_pAKbnnO"
      },
      "source": [
        "## Querying in chunks"
      ]
    },
    {
      "cell_type": "markdown",
      "metadata": {
        "id": "hwjo170YcmlQ"
      },
      "source": [
        "This is tedious to write, but it gives you the ability to fetch the query's result in chunks rather than all at once. You can do this by specifying the n argument inside dbFetch().\n",
        "\n",
        "remember this technique when you're struggling with huge databases"
      ]
    },
    {
      "cell_type": "code",
      "metadata": {
        "colab": {
          "base_uri": "https://localhost:8080/",
          "height": 329
        },
        "id": "KOUnIE9pbqX7",
        "outputId": "e81b6984-b414-402d-b8e0-aac11c594aa3"
      },
      "source": [
        "# Send query to the database\n",
        "res <- dbSendQuery(con, \"SELECT * FROM comments WHERE user_id > 4\")\n",
        "\n",
        "# Use dbFetch() twice\n",
        "dbFetch(res, n = 2)\n",
        "dbFetch(res)"
      ],
      "execution_count": null,
      "outputs": [
        {
          "output_type": "display_data",
          "data": {
            "text/plain": [
              "  id   tweat_id user_id message\n",
              "1 1022 87       7       nice!  \n",
              "2 1000 77       7       great! "
            ],
            "text/latex": "A data.frame: 2 × 4\n\\begin{tabular}{llll}\n id & tweat\\_id & user\\_id & message\\\\\n <dbl> & <dbl> & <dbl> & <chr>\\\\\n\\hline\n\t 1022 & 87 & 7 & nice! \\\\\n\t 1000 & 77 & 7 & great!\\\\\n\\end{tabular}\n",
            "text/markdown": "\nA data.frame: 2 × 4\n\n| id &lt;dbl&gt; | tweat_id &lt;dbl&gt; | user_id &lt;dbl&gt; | message &lt;chr&gt; |\n|---|---|---|---|\n| 1022 | 87 | 7 | nice!  |\n| 1000 | 77 | 7 | great! |\n\n",
            "text/html": [
              "<table class=\"dataframe\">\n",
              "<caption>A data.frame: 2 × 4</caption>\n",
              "<thead>\n",
              "\t<tr><th scope=col>id</th><th scope=col>tweat_id</th><th scope=col>user_id</th><th scope=col>message</th></tr>\n",
              "\t<tr><th scope=col>&lt;dbl&gt;</th><th scope=col>&lt;dbl&gt;</th><th scope=col>&lt;dbl&gt;</th><th scope=col>&lt;chr&gt;</th></tr>\n",
              "</thead>\n",
              "<tbody>\n",
              "\t<tr><td>1022</td><td>87</td><td>7</td><td>nice! </td></tr>\n",
              "\t<tr><td>1000</td><td>77</td><td>7</td><td>great!</td></tr>\n",
              "</tbody>\n",
              "</table>\n"
            ]
          },
          "metadata": {
            "tags": []
          }
        },
        {
          "output_type": "display_data",
          "data": {
            "text/plain": [
              "  id   tweat_id user_id message \n",
              "1 1011 49       5       love it \n",
              "2 1010 88       6       yuck!   \n",
              "3 1030 75       6       so easy!"
            ],
            "text/latex": "A data.frame: 3 × 4\n\\begin{tabular}{llll}\n id & tweat\\_id & user\\_id & message\\\\\n <dbl> & <dbl> & <dbl> & <chr>\\\\\n\\hline\n\t 1011 & 49 & 5 & love it \\\\\n\t 1010 & 88 & 6 & yuck!   \\\\\n\t 1030 & 75 & 6 & so easy!\\\\\n\\end{tabular}\n",
            "text/markdown": "\nA data.frame: 3 × 4\n\n| id &lt;dbl&gt; | tweat_id &lt;dbl&gt; | user_id &lt;dbl&gt; | message &lt;chr&gt; |\n|---|---|---|---|\n| 1011 | 49 | 5 | love it  |\n| 1010 | 88 | 6 | yuck!    |\n| 1030 | 75 | 6 | so easy! |\n\n",
            "text/html": [
              "<table class=\"dataframe\">\n",
              "<caption>A data.frame: 3 × 4</caption>\n",
              "<thead>\n",
              "\t<tr><th scope=col>id</th><th scope=col>tweat_id</th><th scope=col>user_id</th><th scope=col>message</th></tr>\n",
              "\t<tr><th scope=col>&lt;dbl&gt;</th><th scope=col>&lt;dbl&gt;</th><th scope=col>&lt;dbl&gt;</th><th scope=col>&lt;chr&gt;</th></tr>\n",
              "</thead>\n",
              "<tbody>\n",
              "\t<tr><td>1011</td><td>49</td><td>5</td><td>love it </td></tr>\n",
              "\t<tr><td>1010</td><td>88</td><td>6</td><td>yuck!   </td></tr>\n",
              "\t<tr><td>1030</td><td>75</td><td>6</td><td>so easy!</td></tr>\n",
              "</tbody>\n",
              "</table>\n"
            ]
          },
          "metadata": {
            "tags": []
          }
        }
      ]
    },
    {
      "cell_type": "code",
      "metadata": {
        "colab": {
          "base_uri": "https://localhost:8080/",
          "height": 35
        },
        "id": "gb8PuaJxcIb6",
        "outputId": "35c95883-7173-4a74-9309-1cb611001bc3"
      },
      "source": [
        "# Clear res\n",
        "dbClearResult(res)"
      ],
      "execution_count": null,
      "outputs": [
        {
          "output_type": "display_data",
          "data": {
            "text/plain": [
              "[1] TRUE"
            ],
            "text/latex": "TRUE",
            "text/markdown": "TRUE",
            "text/html": [
              "TRUE"
            ]
          },
          "metadata": {
            "tags": []
          }
        }
      ]
    },
    {
      "cell_type": "markdown",
      "metadata": {
        "id": "rwFAxnILjR7s"
      },
      "source": [
        "# Import flat files from the web\n"
      ]
    },
    {
      "cell_type": "markdown",
      "metadata": {
        "id": "pgwu3h6gnGCG"
      },
      "source": [
        "## http link .csv"
      ]
    },
    {
      "cell_type": "code",
      "metadata": {
        "id": "W1r8uGggjkJo"
      },
      "source": [
        "# Load the readr package\n",
        "library(readr)\n",
        "\n",
        "# Import the csv file: pools\n",
        "url_csv <- \"http://s3.amazonaws.com/assets.datacamp.com/production/course_1478/datasets/swimming_pools.csv\"\n",
        "pools <- read_csv(url_csv)\n",
        "\n",
        "# Import the txt file: potatoes\n",
        "url_delim <- \"http://s3.amazonaws.com/assets.datacamp.com/production/course_1478/datasets/potatoes.txt\"\n",
        "potatoes <- read_tsv(url_delim)\n",
        "\n",
        "# Print pools and potatoes\n",
        "pools\n",
        "potatoes"
      ],
      "execution_count": null,
      "outputs": []
    },
    {
      "cell_type": "markdown",
      "metadata": {
        "id": "OSNWV6jnnOff"
      },
      "source": [
        "## https link .csv"
      ]
    },
    {
      "cell_type": "code",
      "metadata": {
        "colab": {
          "base_uri": "https://localhost:8080/"
        },
        "id": "Ht1a6aNRkwju",
        "outputId": "77c9f431-29e5-48d2-8c94-3e475b25e7af"
      },
      "source": [
        "# https URL to the swimming_pools csv file.\n",
        "url_csv <- \"https://s3.amazonaws.com/assets.datacamp.com/production/course_1478/datasets/swimming_pools.csv\"\n",
        "\n",
        "# Import the file using read.csv(): pools1\n",
        "pools1 <- read.csv(url_csv)\n",
        "str(pools1)"
      ],
      "execution_count": 6,
      "outputs": [
        {
          "output_type": "stream",
          "text": [
            "'data.frame':\t20 obs. of  4 variables:\n",
            " $ Name     : chr  \"Acacia Ridge Leisure Centre\" \"Bellbowrie Pool\" \"Carole Park\" \"Centenary Pool (inner City)\" ...\n",
            " $ Address  : chr  \"1391 Beaudesert Road, Acacia Ridge\" \"Sugarwood Street, Bellbowrie\" \"Cnr Boundary Road and Waterford Road Wacol\" \"400 Gregory Terrace, Spring Hill\" ...\n",
            " $ Latitude : num  -27.6 -27.6 -27.6 -27.5 -27.4 ...\n",
            " $ Longitude: num  153 153 153 153 153 ...\n"
          ],
          "name": "stdout"
        }
      ]
    },
    {
      "cell_type": "markdown",
      "metadata": {
        "id": "d25ajLaOnPih"
      },
      "source": [
        "## http link .xls"
      ]
    },
    {
      "cell_type": "markdown",
      "metadata": {
        "id": "eNcft1KpnX2E"
      },
      "source": [
        "gdata can handle .xls files that are on the internet. readxl can't, at least not yet. The URL with which you'll be working is already available in the sample code. You will import it once using gdata and once with the readxl package via a workaround."
      ]
    },
    {
      "cell_type": "markdown",
      "metadata": {
        "id": "qVJMtIYgt4zB"
      },
      "source": [
        "readxl is not (yet?) able to deal with Excel files that are on the web. However, a simply workaround with download.file() fixes this."
      ]
    },
    {
      "cell_type": "code",
      "metadata": {
        "colab": {
          "base_uri": "https://localhost:8080/"
        },
        "id": "aX0VjqZCuG6m",
        "outputId": "1a97afec-97e0-451e-c3f3-73eb53fd9b6a"
      },
      "source": [
        "install.packages(\"gdata\")"
      ],
      "execution_count": 8,
      "outputs": [
        {
          "output_type": "stream",
          "text": [
            "Installing package into ‘/usr/local/lib/R/site-library’\n",
            "(as ‘lib’ is unspecified)\n",
            "\n",
            "also installing the dependency ‘gtools’\n",
            "\n",
            "\n"
          ],
          "name": "stderr"
        }
      ]
    },
    {
      "cell_type": "markdown",
      "metadata": {
        "id": "9qssThLLuhE0"
      },
      "source": [
        "### gdata or readxls after download.file()"
      ]
    },
    {
      "cell_type": "code",
      "metadata": {
        "colab": {
          "base_uri": "https://localhost:8080/"
        },
        "id": "yQarp8wNnUm7",
        "outputId": "5c89c83b-6ab1-4ebb-bf1e-f2ce36aedabf"
      },
      "source": [
        "# Load the readxl and gdata package\n",
        "library(readxl)\n",
        "library(gdata)\n",
        "\n",
        "# Specification of url: url_xls\n",
        "url_xls <- \"http://s3.amazonaws.com/assets.datacamp.com/production/course_1478/datasets/latitude.xls\"\n",
        "\n",
        "# Import the .xls file with gdata: excel_gdata\n",
        "excel_gdata <- read.xls(url_xls)\n",
        "\n",
        "# Download file behind URL, name it local_latitude.xls\n",
        "download.file(url_xls, destfile = \"local_latitude.xls\")\n",
        "\n",
        "# Import the local .xls file with readxl: excel_readxl\n",
        "excel_readxl <- read_excel(\"local_latitude.xls\")\n",
        "str(excel_readxl)"
      ],
      "execution_count": 10,
      "outputs": [
        {
          "output_type": "stream",
          "text": [
            "tibble [246 × 2] (S3: tbl_df/tbl/data.frame)\n",
            " $ country: chr [1:246] \"Afghanistan\" \"Akrotiri and Dhekelia\" \"Albania\" \"Algeria\" ...\n",
            " $ 1700   : num [1:246] 34.6 34.6 41.3 36.7 -14.3 ...\n"
          ],
          "name": "stdout"
        }
      ]
    },
    {
      "cell_type": "markdown",
      "metadata": {
        "id": "VHgNtm-Yuyun"
      },
      "source": [
        "## https link .RData"
      ]
    },
    {
      "cell_type": "markdown",
      "metadata": {
        "id": "lndJ_afgum9n"
      },
      "source": [
        "There's more: with download.file() you can download any kind of file from the web, using HTTP and HTTPS: images, executable files, but also .RData files. An RData file is very efficient format to store R data.\n",
        "\n",
        "You can load data from an RData file using the load() function"
      ]
    },
    {
      "cell_type": "code",
      "metadata": {
        "id": "YyR1UjAuuntc"
      },
      "source": [
        "# https URL to the wine RData file.\n",
        "url_rdata <- \"https://s3.amazonaws.com/assets.datacamp.com/production/course_1478/datasets/wine.RData\"\n",
        "\n",
        "# Download the wine file to your working directory\n",
        "download.file(url_rdata, destfile = \"wine_local.RData\")\n",
        "\n",
        "# Load the wine data into your workspace using load()\n",
        "load(\"wine_local.RData\")\n",
        "\n",
        "# Print out the summary of the wine data\n",
        "summary(wine)"
      ],
      "execution_count": null,
      "outputs": []
    },
    {
      "cell_type": "markdown",
      "metadata": {
        "id": "-YgWMXr4um4n"
      },
      "source": [
        "## http link JSON"
      ]
    },
    {
      "cell_type": "code",
      "metadata": {
        "colab": {
          "base_uri": "https://localhost:8080/",
          "height": 280
        },
        "id": "xdEVv1NGwFP0",
        "outputId": "5365e76f-c417-4a50-cbdb-64e4f2b7562f"
      },
      "source": [
        "# Load the httr package\n",
        "library(httr)\n",
        "\n",
        "# Get the url\n",
        "url <- \"http://www.omdbapi.com/?apikey=72bc447a&t=Annie+Hall&y=&plot=short&r=json\"\n",
        "resp <- GET(url)\n",
        "\n",
        "# Print resp\n",
        "resp\n",
        "\n",
        "# Print content of resp as text\n",
        "content(resp, as = \"text\")\n"
      ],
      "execution_count": 14,
      "outputs": [
        {
          "output_type": "display_data",
          "data": {
            "text/plain": [
              "Response [http://www.omdbapi.com/?apikey=72bc447a&t=Annie+Hall&y=&plot=short&r=json]\n",
              "  Date: 2021-04-05 15:59\n",
              "  Status: 200\n",
              "  Content-Type: application/json; charset=utf-8\n",
              "  Size: 1.05 kB\n"
            ]
          },
          "metadata": {
            "tags": []
          }
        },
        {
          "output_type": "display_data",
          "data": {
            "text/plain": [
              "[1] \"{\\\"Title\\\":\\\"Annie Hall\\\",\\\"Year\\\":\\\"1977\\\",\\\"Rated\\\":\\\"PG\\\",\\\"Released\\\":\\\"20 Apr 1977\\\",\\\"Runtime\\\":\\\"93 min\\\",\\\"Genre\\\":\\\"Comedy, Romance\\\",\\\"Director\\\":\\\"Woody Allen\\\",\\\"Writer\\\":\\\"Woody Allen, Marshall Brickman\\\",\\\"Actors\\\":\\\"Woody Allen, Diane Keaton, Tony Roberts, Carol Kane\\\",\\\"Plot\\\":\\\"Alvy Singer, a divorced Jewish comedian, reflects on his relationship with ex-lover Annie Hall, an aspiring nightclub singer, which ended abruptly just like his previous marriages.\\\",\\\"Language\\\":\\\"English, German\\\",\\\"Country\\\":\\\"USA\\\",\\\"Awards\\\":\\\"Won 4 Oscars. Another 26 wins & 8 nominations.\\\",\\\"Poster\\\":\\\"https://m.media-amazon.com/images/M/MV5BZDg1OGQ4YzgtM2Y2NS00NjA3LWFjYTctMDRlMDI3NWE1OTUyXkEyXkFqcGdeQXVyMjUzOTY1NTc@._V1_SX300.jpg\\\",\\\"Ratings\\\":[{\\\"Source\\\":\\\"Internet Movie Database\\\",\\\"Value\\\":\\\"8.0/10\\\"},{\\\"Source\\\":\\\"Rotten Tomatoes\\\",\\\"Value\\\":\\\"98%\\\"},{\\\"Source\\\":\\\"Metacritic\\\",\\\"Value\\\":\\\"92/100\\\"}],\\\"Metascore\\\":\\\"92\\\",\\\"imdbRating\\\":\\\"8.0\\\",\\\"imdbVotes\\\":\\\"252,992\\\",\\\"imdbID\\\":\\\"tt0075686\\\",\\\"Type\\\":\\\"movie\\\",\\\"DVD\\\":\\\"03 Sep 2015\\\",\\\"BoxOffice\\\":\\\"$38,251,425\\\",\\\"Production\\\":\\\"Rollins-Joffe Productions\\\",\\\"Website\\\":\\\"N/A\\\",\\\"Response\\\":\\\"True\\\"}\""
            ],
            "text/latex": "'\\{\"Title\":\"Annie Hall\",\"Year\":\"1977\",\"Rated\":\"PG\",\"Released\":\"20 Apr 1977\",\"Runtime\":\"93 min\",\"Genre\":\"Comedy, Romance\",\"Director\":\"Woody Allen\",\"Writer\":\"Woody Allen, Marshall Brickman\",\"Actors\":\"Woody Allen, Diane Keaton, Tony Roberts, Carol Kane\",\"Plot\":\"Alvy Singer, a divorced Jewish comedian, reflects on his relationship with ex-lover Annie Hall, an aspiring nightclub singer, which ended abruptly just like his previous marriages.\",\"Language\":\"English, German\",\"Country\":\"USA\",\"Awards\":\"Won 4 Oscars. Another 26 wins \\& 8 nominations.\",\"Poster\":\"https://m.media-amazon.com/images/M/MV5BZDg1OGQ4YzgtM2Y2NS00NjA3LWFjYTctMDRlMDI3NWE1OTUyXkEyXkFqcGdeQXVyMjUzOTY1NTc@.\\_V1\\_SX300.jpg\",\"Ratings\":{[}\\{\"Source\":\"Internet Movie Database\",\"Value\":\"8.0/10\"\\},\\{\"Source\":\"Rotten Tomatoes\",\"Value\":\"98\\%\"\\},\\{\"Source\":\"Metacritic\",\"Value\":\"92/100\"\\}{]},\"Metascore\":\"92\",\"imdbRating\":\"8.0\",\"imdbVotes\":\"252,992\",\"imdbID\":\"tt0075686\",\"Type\":\"movie\",\"DVD\":\"03 Sep 2015\",\"BoxOffice\":\"\\$38,251,425\",\"Production\":\"Rollins-Joffe Productions\",\"Website\":\"N/A\",\"Response\":\"True\"\\}'",
            "text/markdown": "'{\"Title\":\"Annie Hall\",\"Year\":\"1977\",\"Rated\":\"PG\",\"Released\":\"20 Apr 1977\",\"Runtime\":\"93 min\",\"Genre\":\"Comedy, Romance\",\"Director\":\"Woody Allen\",\"Writer\":\"Woody Allen, Marshall Brickman\",\"Actors\":\"Woody Allen, Diane Keaton, Tony Roberts, Carol Kane\",\"Plot\":\"Alvy Singer, a divorced Jewish comedian, reflects on his relationship with ex-lover Annie Hall, an aspiring nightclub singer, which ended abruptly just like his previous marriages.\",\"Language\":\"English, German\",\"Country\":\"USA\",\"Awards\":\"Won 4 Oscars. Another 26 wins &amp; 8 nominations.\",\"Poster\":\"https://m.media-amazon.com/images/M/MV5BZDg1OGQ4YzgtM2Y2NS00NjA3LWFjYTctMDRlMDI3NWE1OTUyXkEyXkFqcGdeQXVyMjUzOTY1NTc@._V1_SX300.jpg\",\"Ratings\":[{\"Source\":\"Internet Movie Database\",\"Value\":\"8.0/10\"},{\"Source\":\"Rotten Tomatoes\",\"Value\":\"98%\"},{\"Source\":\"Metacritic\",\"Value\":\"92/100\"}],\"Metascore\":\"92\",\"imdbRating\":\"8.0\",\"imdbVotes\":\"252,992\",\"imdbID\":\"tt0075686\",\"Type\":\"movie\",\"DVD\":\"03 Sep 2015\",\"BoxOffice\":\"$38,251,425\",\"Production\":\"Rollins-Joffe Productions\",\"Website\":\"N/A\",\"Response\":\"True\"}'",
            "text/html": [
              "'{\"Title\":\"Annie Hall\",\"Year\":\"1977\",\"Rated\":\"PG\",\"Released\":\"20 Apr 1977\",\"Runtime\":\"93 min\",\"Genre\":\"Comedy, Romance\",\"Director\":\"Woody Allen\",\"Writer\":\"Woody Allen, Marshall Brickman\",\"Actors\":\"Woody Allen, Diane Keaton, Tony Roberts, Carol Kane\",\"Plot\":\"Alvy Singer, a divorced Jewish comedian, reflects on his relationship with ex-lover Annie Hall, an aspiring nightclub singer, which ended abruptly just like his previous marriages.\",\"Language\":\"English, German\",\"Country\":\"USA\",\"Awards\":\"Won 4 Oscars. Another 26 wins &amp; 8 nominations.\",\"Poster\":\"https://m.media-amazon.com/images/M/MV5BZDg1OGQ4YzgtM2Y2NS00NjA3LWFjYTctMDRlMDI3NWE1OTUyXkEyXkFqcGdeQXVyMjUzOTY1NTc@._V1_SX300.jpg\",\"Ratings\":[{\"Source\":\"Internet Movie Database\",\"Value\":\"8.0/10\"},{\"Source\":\"Rotten Tomatoes\",\"Value\":\"98%\"},{\"Source\":\"Metacritic\",\"Value\":\"92/100\"}],\"Metascore\":\"92\",\"imdbRating\":\"8.0\",\"imdbVotes\":\"252,992\",\"imdbID\":\"tt0075686\",\"Type\":\"movie\",\"DVD\":\"03 Sep 2015\",\"BoxOffice\":\"$38,251,425\",\"Production\":\"Rollins-Joffe Productions\",\"Website\":\"N/A\",\"Response\":\"True\"}'"
            ]
          },
          "metadata": {
            "tags": []
          }
        }
      ]
    },
    {
      "cell_type": "code",
      "metadata": {
        "id": "DzZ5EcYRwk1V"
      },
      "source": [
        "# Convert the JSON to a named R list.\n",
        "content(resp)"
      ],
      "execution_count": null,
      "outputs": []
    },
    {
      "cell_type": "markdown",
      "metadata": {
        "id": "dErYmdL4yBWQ"
      },
      "source": [
        "# From JSON to R"
      ]
    },
    {
      "cell_type": "markdown",
      "metadata": {
        "id": "agOv00670SlT"
      },
      "source": [
        "## jsonlite"
      ]
    },
    {
      "cell_type": "markdown",
      "metadata": {
        "id": "RC5Z2huLynuW"
      },
      "source": [
        "fromJSON() can convert character strings that represent JSON data into a nicely structured R list. "
      ]
    },
    {
      "cell_type": "code",
      "metadata": {
        "colab": {
          "base_uri": "https://localhost:8080/"
        },
        "id": "EynWx7OByDIA",
        "outputId": "ea87ab08-1211-42e4-fce7-a97dea5fd5c8"
      },
      "source": [
        "# Load the jsonlite package\n",
        "library(jsonlite)\n",
        "\n",
        "# wine_json is a JSON\n",
        "wine_json <- '{\"name\":\"Chateau Migraine\", \"year\":1997, \"alcohol_pct\":12.4, \"color\":\"red\", \"awarded\":false}'\n",
        "\n",
        "# Convert wine_json into a list: wine\n",
        "wine <- fromJSON(wine_json)\n",
        "\n",
        "# Print structure of wine\n",
        "str(wine)"
      ],
      "execution_count": 16,
      "outputs": [
        {
          "output_type": "stream",
          "text": [
            "List of 5\n",
            " $ name       : chr \"Chateau Migraine\"\n",
            " $ year       : int 1997\n",
            " $ alcohol_pct: num 12.4\n",
            " $ color      : chr \"red\"\n",
            " $ awarded    : logi FALSE\n"
          ],
          "name": "stdout"
        }
      ]
    },
    {
      "cell_type": "markdown",
      "metadata": {
        "id": "eReB-BYZzGFg"
      },
      "source": [
        "fromJSON() also works if you pass a URL as a character string or the path to a local file that contains JSON data. Let's try this out on the Quandl API, where you can fetch all sorts of financial and economical data."
      ]
    },
    {
      "cell_type": "markdown",
      "metadata": {
        "id": "wULrTrp30OJw"
      },
      "source": [
        "## http link JSON"
      ]
    },
    {
      "cell_type": "code",
      "metadata": {
        "colab": {
          "base_uri": "https://localhost:8080/"
        },
        "id": "YhN56KDXzFnh",
        "outputId": "c5e88b07-a89d-4ac4-bce7-7079cbd24de7"
      },
      "source": [
        "# jsonlite is preloaded\n",
        "\n",
        "# Definition of quandl_url\n",
        "quandl_url <- \"https://www.quandl.com/api/v3/datasets/WIKI/FB/data.json?auth_token=i83asDsiWUUyfoypkgMz\"\n",
        "\n",
        "# Import Quandl data: quandl_data\n",
        "quandl_data <- fromJSON(quandl_url)\n",
        "\n",
        "# Print structure of quandl_data\n",
        "str(quandl_data)"
      ],
      "execution_count": 18,
      "outputs": [
        {
          "output_type": "stream",
          "text": [
            "List of 1\n",
            " $ dataset_data:List of 10\n",
            "  ..$ limit       : NULL\n",
            "  ..$ transform   : NULL\n",
            "  ..$ column_index: NULL\n",
            "  ..$ column_names: chr [1:13] \"Date\" \"Open\" \"High\" \"Low\" ...\n",
            "  ..$ start_date  : chr \"2012-05-18\"\n",
            "  ..$ end_date    : chr \"2018-03-27\"\n",
            "  ..$ frequency   : chr \"daily\"\n",
            "  ..$ data        : chr [1:1472, 1:13] \"2018-03-27\" \"2018-03-26\" \"2018-03-23\" \"2018-03-22\" ...\n",
            "  ..$ collapse    : NULL\n",
            "  ..$ order       : NULL\n"
          ],
          "name": "stdout"
        }
      ]
    },
    {
      "cell_type": "code",
      "metadata": {
        "colab": {
          "base_uri": "https://localhost:8080/",
          "height": 35
        },
        "id": "INS-eNbP0hFU",
        "outputId": "63174f07-d8c4-4b07-bc39-e5d553250087"
      },
      "source": [
        "class(quandl_data)"
      ],
      "execution_count": 19,
      "outputs": [
        {
          "output_type": "display_data",
          "data": {
            "text/plain": [
              "[1] \"list\""
            ],
            "text/latex": "'list'",
            "text/markdown": "'list'",
            "text/html": [
              "'list'"
            ]
          },
          "metadata": {
            "tags": []
          }
        }
      ]
    },
    {
      "cell_type": "markdown",
      "metadata": {
        "id": "6NDuUF9m0sK4"
      },
      "source": [
        "##  Interacting with OMDb API"
      ]
    },
    {
      "cell_type": "code",
      "metadata": {
        "colab": {
          "base_uri": "https://localhost:8080/",
          "height": 69
        },
        "id": "xGIPEv0Q0sdr",
        "outputId": "36a50ad9-4e57-40e1-d76e-344d99f2b293"
      },
      "source": [
        "# Definition of the URLs\n",
        "url_sw4 <- \"http://www.omdbapi.com/?apikey=72bc447a&i=tt0076759&r=json\"\n",
        "url_sw3 <- \"http://www.omdbapi.com/?apikey=72bc447a&i=tt0121766&r=json\"\n",
        "\n",
        "# Import two URLs with fromJSON(): sw4 and sw3\n",
        "sw4 <- fromJSON(url_sw4)\n",
        "sw3 <- fromJSON(url_sw3)\n",
        "\n",
        "# Print out the Title element of both lists\n",
        "sw4$Title\n",
        "sw3$Title\n",
        "\n",
        "# Is the release year of sw4 later than sw3?\n",
        "sw4$Year > sw3$Year"
      ],
      "execution_count": 20,
      "outputs": [
        {
          "output_type": "display_data",
          "data": {
            "text/plain": [
              "[1] \"Star Wars: Episode IV - A New Hope\""
            ],
            "text/latex": "'Star Wars: Episode IV - A New Hope'",
            "text/markdown": "'Star Wars: Episode IV - A New Hope'",
            "text/html": [
              "'Star Wars: Episode IV - A New Hope'"
            ]
          },
          "metadata": {
            "tags": []
          }
        },
        {
          "output_type": "display_data",
          "data": {
            "text/plain": [
              "[1] \"Star Wars: Episode III - Revenge of the Sith\""
            ],
            "text/latex": "'Star Wars: Episode III - Revenge of the Sith'",
            "text/markdown": "'Star Wars: Episode III - Revenge of the Sith'",
            "text/html": [
              "'Star Wars: Episode III - Revenge of the Sith'"
            ]
          },
          "metadata": {
            "tags": []
          }
        },
        {
          "output_type": "display_data",
          "data": {
            "text/plain": [
              "[1] FALSE"
            ],
            "text/latex": "FALSE",
            "text/markdown": "FALSE",
            "text/html": [
              "FALSE"
            ]
          },
          "metadata": {
            "tags": []
          }
        }
      ]
    }
  ]
}