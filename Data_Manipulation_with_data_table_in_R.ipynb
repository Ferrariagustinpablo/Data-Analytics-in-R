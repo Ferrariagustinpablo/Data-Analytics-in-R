{
  "nbformat": 4,
  "nbformat_minor": 0,
  "metadata": {
    "colab": {
      "name": "Data Manipulation with data.table in R",
      "provenance": [],
      "collapsed_sections": [],
      "toc_visible": true,
      "include_colab_link": true
    },
    "kernelspec": {
      "name": "ir",
      "display_name": "R"
    }
  },
  "cells": [
    {
      "cell_type": "markdown",
      "metadata": {
        "id": "view-in-github",
        "colab_type": "text"
      },
      "source": [
        "<a href=\"https://colab.research.google.com/github/Ferrariagustinpablo/Data-Analytics-in-R/blob/main/Data_Manipulation_with_data_table_in_R.ipynb\" target=\"_parent\"><img src=\"https://colab.research.google.com/assets/colab-badge.svg\" alt=\"Open In Colab\"/></a>"
      ]
    },
    {
      "cell_type": "markdown",
      "metadata": {
        "id": "cYE7mEi2ky38"
      },
      "source": [
        "# Import libraries"
      ]
    },
    {
      "cell_type": "code",
      "metadata": {
        "colab": {
          "base_uri": "https://localhost:8080/"
        },
        "id": "bvU9BFjrWGM0",
        "outputId": "8e76062b-1164-4f7b-b273-09d320d01e2c"
      },
      "source": [
        "install.packages(\"data.table\")"
      ],
      "execution_count": 1,
      "outputs": [
        {
          "output_type": "stream",
          "text": [
            "Installing package into ‘/usr/local/lib/R/site-library’\n",
            "(as ‘lib’ is unspecified)\n",
            "\n"
          ],
          "name": "stderr"
        }
      ]
    },
    {
      "cell_type": "code",
      "metadata": {
        "colab": {
          "base_uri": "https://localhost:8080/"
        },
        "id": "pN-qJav9Wb5y",
        "outputId": "3f998820-085a-46bd-e94d-3dc1c1780b85"
      },
      "source": [
        "install.packages(\"bikeshare14\")"
      ],
      "execution_count": 2,
      "outputs": [
        {
          "output_type": "stream",
          "text": [
            "Installing package into ‘/usr/local/lib/R/site-library’\n",
            "(as ‘lib’ is unspecified)\n",
            "\n"
          ],
          "name": "stderr"
        }
      ]
    },
    {
      "cell_type": "code",
      "metadata": {
        "id": "RoD2lzL9Z3f_",
        "colab": {
          "base_uri": "https://localhost:8080/"
        },
        "outputId": "474cd6b3-577e-49dd-e1ca-2df9b3f61a94"
      },
      "source": [
        "# Load\n",
        "library(dplyr)\n",
        "library(ggplot2)\n",
        "library(tidyr)\n",
        "\n",
        "# Specially in this notebook we are going to use data tables\n",
        "library(data.table)\n",
        "library(bikeshare14)"
      ],
      "execution_count": 3,
      "outputs": [
        {
          "output_type": "stream",
          "text": [
            "\n",
            "Attaching package: ‘dplyr’\n",
            "\n",
            "\n",
            "The following objects are masked from ‘package:stats’:\n",
            "\n",
            "    filter, lag\n",
            "\n",
            "\n",
            "The following objects are masked from ‘package:base’:\n",
            "\n",
            "    intersect, setdiff, setequal, union\n",
            "\n",
            "\n",
            "\n",
            "Attaching package: ‘data.table’\n",
            "\n",
            "\n",
            "The following objects are masked from ‘package:dplyr’:\n",
            "\n",
            "    between, first, last\n",
            "\n",
            "\n"
          ],
          "name": "stderr"
        }
      ]
    },
    {
      "cell_type": "markdown",
      "metadata": {
        "id": "_GewK6hfVFCO"
      },
      "source": [
        "# data.table differences from data.frame"
      ]
    },
    {
      "cell_type": "markdown",
      "metadata": {
        "id": "QPp0-xm9VK97"
      },
      "source": [
        "\n",
        "- A data.table is a data.frame. It inherits and builds on top of it.\n",
        "\n",
        "- data.tables never use or need row names."
      ]
    },
    {
      "cell_type": "markdown",
      "metadata": {
        "id": "cJAiotg4VfCn"
      },
      "source": [
        "# Creating a data.table"
      ]
    },
    {
      "cell_type": "code",
      "metadata": {
        "colab": {
          "base_uri": "https://localhost:8080/",
          "height": 206
        },
        "id": "fG948xQUVKGX",
        "outputId": "c5155060-e4b4-4546-f8c5-b5ff457160c9"
      },
      "source": [
        "# Create the data.table X\n",
        "X <- data.table(id = c(\"a\", \"b\", \"c\"), value = c(0.5, 1.0, 1.5))\n",
        "\n",
        "# View X\n",
        "X"
      ],
      "execution_count": 5,
      "outputs": [
        {
          "output_type": "display_data",
          "data": {
            "text/plain": [
              "  id value\n",
              "1 a  0.5  \n",
              "2 b  1.0  \n",
              "3 c  1.5  "
            ],
            "text/latex": "A data.table: 3 × 2\n\\begin{tabular}{ll}\n id & value\\\\\n <chr> & <dbl>\\\\\n\\hline\n\t a & 0.5\\\\\n\t b & 1.0\\\\\n\t c & 1.5\\\\\n\\end{tabular}\n",
            "text/markdown": "\nA data.table: 3 × 2\n\n| id &lt;chr&gt; | value &lt;dbl&gt; |\n|---|---|\n| a | 0.5 |\n| b | 1.0 |\n| c | 1.5 |\n\n",
            "text/html": [
              "<table class=\"dataframe\">\n",
              "<caption>A data.table: 3 × 2</caption>\n",
              "<thead>\n",
              "\t<tr><th scope=col>id</th><th scope=col>value</th></tr>\n",
              "\t<tr><th scope=col>&lt;chr&gt;</th><th scope=col>&lt;dbl&gt;</th></tr>\n",
              "</thead>\n",
              "<tbody>\n",
              "\t<tr><td>a</td><td>0.5</td></tr>\n",
              "\t<tr><td>b</td><td>1.0</td></tr>\n",
              "\t<tr><td>c</td><td>1.5</td></tr>\n",
              "</tbody>\n",
              "</table>\n"
            ]
          },
          "metadata": {
            "tags": []
          }
        }
      ]
    },
    {
      "cell_type": "markdown",
      "metadata": {
        "id": "Vx5F_fIZWkMD"
      },
      "source": [
        "# Importing bikes data"
      ]
    },
    {
      "cell_type": "markdown",
      "metadata": {
        "id": "bZ2uVfwmYPnm"
      },
      "source": [
        "## head and str"
      ]
    },
    {
      "cell_type": "code",
      "metadata": {
        "colab": {
          "base_uri": "https://localhost:8080/",
          "height": 455
        },
        "id": "ExwF83QdWp0K",
        "outputId": "f9bdd076-a533-4742-8773-73037ac4e997"
      },
      "source": [
        "# Head and columns summary.\n",
        "head(batrips,2)\n",
        "str(batrips)"
      ],
      "execution_count": 6,
      "outputs": [
        {
          "output_type": "display_data",
          "data": {
            "text/plain": [
              "  trip_id duration start_date          start_station           start_terminal\n",
              "1 139545  435      2014-01-01 00:14:00 San Francisco City Hall 58            \n",
              "2 139546  432      2014-01-01 00:14:00 San Francisco City Hall 58            \n",
              "  end_date            end_station     end_terminal bike_id subscription_type\n",
              "1 2014-01-01 00:21:00 Townsend at 7th 65           473     Subscriber       \n",
              "2 2014-01-01 00:21:00 Townsend at 7th 65           395     Subscriber       \n",
              "  zip_code\n",
              "1 94612   \n",
              "2 94107   "
            ],
            "text/latex": "A data.frame: 2 × 11\n\\begin{tabular}{r|lllllllllll}\n  & trip\\_id & duration & start\\_date & start\\_station & start\\_terminal & end\\_date & end\\_station & end\\_terminal & bike\\_id & subscription\\_type & zip\\_code\\\\\n  & <int> & <int> & <dttm> & <chr> & <int> & <dttm> & <chr> & <int> & <int> & <chr> & <chr>\\\\\n\\hline\n\t1 & 139545 & 435 & 2014-01-01 00:14:00 & San Francisco City Hall & 58 & 2014-01-01 00:21:00 & Townsend at 7th & 65 & 473 & Subscriber & 94612\\\\\n\t2 & 139546 & 432 & 2014-01-01 00:14:00 & San Francisco City Hall & 58 & 2014-01-01 00:21:00 & Townsend at 7th & 65 & 395 & Subscriber & 94107\\\\\n\\end{tabular}\n",
            "text/markdown": "\nA data.frame: 2 × 11\n\n| <!--/--> | trip_id &lt;int&gt; | duration &lt;int&gt; | start_date &lt;dttm&gt; | start_station &lt;chr&gt; | start_terminal &lt;int&gt; | end_date &lt;dttm&gt; | end_station &lt;chr&gt; | end_terminal &lt;int&gt; | bike_id &lt;int&gt; | subscription_type &lt;chr&gt; | zip_code &lt;chr&gt; |\n|---|---|---|---|---|---|---|---|---|---|---|---|\n| 1 | 139545 | 435 | 2014-01-01 00:14:00 | San Francisco City Hall | 58 | 2014-01-01 00:21:00 | Townsend at 7th | 65 | 473 | Subscriber | 94612 |\n| 2 | 139546 | 432 | 2014-01-01 00:14:00 | San Francisco City Hall | 58 | 2014-01-01 00:21:00 | Townsend at 7th | 65 | 395 | Subscriber | 94107 |\n\n",
            "text/html": [
              "<table class=\"dataframe\">\n",
              "<caption>A data.frame: 2 × 11</caption>\n",
              "<thead>\n",
              "\t<tr><th></th><th scope=col>trip_id</th><th scope=col>duration</th><th scope=col>start_date</th><th scope=col>start_station</th><th scope=col>start_terminal</th><th scope=col>end_date</th><th scope=col>end_station</th><th scope=col>end_terminal</th><th scope=col>bike_id</th><th scope=col>subscription_type</th><th scope=col>zip_code</th></tr>\n",
              "\t<tr><th></th><th scope=col>&lt;int&gt;</th><th scope=col>&lt;int&gt;</th><th scope=col>&lt;dttm&gt;</th><th scope=col>&lt;chr&gt;</th><th scope=col>&lt;int&gt;</th><th scope=col>&lt;dttm&gt;</th><th scope=col>&lt;chr&gt;</th><th scope=col>&lt;int&gt;</th><th scope=col>&lt;int&gt;</th><th scope=col>&lt;chr&gt;</th><th scope=col>&lt;chr&gt;</th></tr>\n",
              "</thead>\n",
              "<tbody>\n",
              "\t<tr><th scope=row>1</th><td>139545</td><td>435</td><td>2014-01-01 00:14:00</td><td>San Francisco City Hall</td><td>58</td><td>2014-01-01 00:21:00</td><td>Townsend at 7th</td><td>65</td><td>473</td><td>Subscriber</td><td>94612</td></tr>\n",
              "\t<tr><th scope=row>2</th><td>139546</td><td>432</td><td>2014-01-01 00:14:00</td><td>San Francisco City Hall</td><td>58</td><td>2014-01-01 00:21:00</td><td>Townsend at 7th</td><td>65</td><td>395</td><td>Subscriber</td><td>94107</td></tr>\n",
              "</tbody>\n",
              "</table>\n"
            ]
          },
          "metadata": {
            "tags": []
          }
        },
        {
          "output_type": "stream",
          "text": [
            "'data.frame':\t326339 obs. of  11 variables:\n",
            " $ trip_id          : int  139545 139546 139547 139549 139550 139551 139552 139553 139554 139555 ...\n",
            " $ duration         : int  435 432 1523 1620 1617 779 784 721 624 574 ...\n",
            " $ start_date       : POSIXct, format: \"2014-01-01 00:14:00\" \"2014-01-01 00:14:00\" ...\n",
            " $ start_station    : chr  \"San Francisco City Hall\" \"San Francisco City Hall\" \"Embarcadero at Sansome\" \"Steuart at Market\" ...\n",
            " $ start_terminal   : int  58 58 60 74 74 74 74 74 57 57 ...\n",
            " $ end_date         : POSIXct, format: \"2014-01-01 00:21:00\" \"2014-01-01 00:21:00\" ...\n",
            " $ end_station      : chr  \"Townsend at 7th\" \"Townsend at 7th\" \"Beale at Market\" \"Powell Street BART\" ...\n",
            " $ end_terminal     : int  65 65 56 39 39 46 46 46 68 68 ...\n",
            " $ bike_id          : int  473 395 331 605 453 335 580 563 358 365 ...\n",
            " $ subscription_type: chr  \"Subscriber\" \"Subscriber\" \"Subscriber\" \"Customer\" ...\n",
            " $ zip_code         : chr  \"94612\" \"94107\" \"94112\" \"92007\" ...\n"
          ],
          "name": "stdout"
        }
      ]
    },
    {
      "cell_type": "code",
      "metadata": {
        "id": "sEfpxh9LeTmm"
      },
      "source": [
        "# Transform df to data.table\n",
        "dt_batrips = as.data.table(batrips)"
      ],
      "execution_count": 7,
      "outputs": []
    },
    {
      "cell_type": "markdown",
      "metadata": {
        "id": "vBZQjiLYXYKF"
      },
      "source": [
        "## ncol, nrow, dim"
      ]
    },
    {
      "cell_type": "code",
      "metadata": {
        "colab": {
          "base_uri": "https://localhost:8080/",
          "height": 69
        },
        "id": "UywK7_uiXWwn",
        "outputId": "62f405a7-d167-48b8-8f27-9be7647bb030"
      },
      "source": [
        "# Get number of columns, rows and dim of batrips\n",
        "nrow(dt_batrips)\n",
        "ncol(dt_batrips)\n",
        "dim(dt_batrips)"
      ],
      "execution_count": 8,
      "outputs": [
        {
          "output_type": "display_data",
          "data": {
            "text/plain": [
              "[1] 326339"
            ],
            "text/latex": "326339",
            "text/markdown": "326339",
            "text/html": [
              "326339"
            ]
          },
          "metadata": {
            "tags": []
          }
        },
        {
          "output_type": "display_data",
          "data": {
            "text/plain": [
              "[1] 11"
            ],
            "text/latex": "11",
            "text/markdown": "11",
            "text/html": [
              "11"
            ]
          },
          "metadata": {
            "tags": []
          }
        },
        {
          "output_type": "display_data",
          "data": {
            "text/plain": [
              "[1] 326339     11"
            ],
            "text/latex": "\\begin{enumerate*}\n\\item 326339\n\\item 11\n\\end{enumerate*}\n",
            "text/markdown": "1. 326339\n2. 11\n\n\n",
            "text/html": [
              "<style>\n",
              ".list-inline {list-style: none; margin:0; padding: 0}\n",
              ".list-inline>li {display: inline-block}\n",
              ".list-inline>li:not(:last-child)::after {content: \"\\00b7\"; padding: 0 .5ex}\n",
              "</style>\n",
              "<ol class=list-inline><li>326339</li><li>11</li></ol>\n"
            ]
          },
          "metadata": {
            "tags": []
          }
        }
      ]
    },
    {
      "cell_type": "markdown",
      "metadata": {
        "id": "tAX1sqJCYRXQ"
      },
      "source": [
        "# Subsetting rows in data tables\n",
        "\n",
        "DT[i, j, by]"
      ]
    },
    {
      "cell_type": "code",
      "metadata": {
        "id": "e8uWuAYlXpKS"
      },
      "source": [
        "# Subset 3 and 4th row\n",
        "subset_34 = dt_batrips[3:4,]\n",
        "\n",
        "# Another way to subset rows in data.table. If data.Frame this would subset COLUMNS!\n",
        "subset_34_2 = dt_batrips[3:4]\n",
        "\n",
        "# Filter the 1st, 6th and 10th rows\n",
        "rows_1_6_10 = batrips[c(1, 6, 10)]\n",
        "\n",
        "# Subset everything except first 5 rows. \n",
        "not_5_rows = dt_batrips[-(1:5),]\n",
        "\n",
        "# Same as except using - or !\n",
        "not_5_rows_2 = dt_batrips[!(1:5),]\n",
        "\n",
        "# Select all rows except 1 through 5 and 10 through 15\n",
        "exclude_some = batrips[-c(1:5, 10:15)]\n",
        "\n",
        "# Return all but the last 10 rows\n",
        "all_except_last_10 = dt_batrips[1:(nrow(dt_batrips)-10),]\n",
        "\n",
        "# Or, instead of nrow() use .N\n",
        "all_except_last_10_N = dt_batrips[1:(.N-10)]"
      ],
      "execution_count": 9,
      "outputs": []
    },
    {
      "cell_type": "markdown",
      "metadata": {
        "id": "9W11Hl8fhafs"
      },
      "source": [
        "## Filtering with conditions\n",
        "\n",
        "In dataframe we need to use df$col_name cond, with data.tables just col_name and condition."
      ]
    },
    {
      "cell_type": "code",
      "metadata": {
        "colab": {
          "base_uri": "https://localhost:8080/",
          "height": 282
        },
        "id": "LSbtCyfShRkC",
        "outputId": "ed9b96e6-4a41-4cdd-e2f5-104e81a0d838"
      },
      "source": [
        "# Filter all rows where start_station is \"5th at Howard\"\n",
        "head(dt_batrips[start_station == \"5th at Howard\"],2)\n",
        "\n",
        "# Filter all rows where start_station is \"MLK Library\" AND duration > 1600\n",
        "trips_mlk_1600 = dt_batrips[start_station == \"MLK Library\" & duration > 1600]\n",
        "\n",
        "# Filter all rows where start_station is \"Ryland Park\" AND subscription_type is not \"Customer\"\n",
        "ryland_park_subscribers = dt_batrips[start_station == \"Ryland Park\" & subscription_type != \"Customer\"]"
      ],
      "execution_count": null,
      "outputs": [
        {
          "output_type": "display_data",
          "data": {
            "text/plain": [
              "  trip_id duration start_date          start_station start_terminal\n",
              "1 139554  624      2014-01-01 00:25:00 5th at Howard 57            \n",
              "2 139555  574      2014-01-01 00:25:00 5th at Howard 57            \n",
              "  end_date            end_station                                  \n",
              "1 2014-01-01 00:35:00 Yerba Buena Center of the Arts (3rd @ Howard)\n",
              "2 2014-01-01 00:35:00 Yerba Buena Center of the Arts (3rd @ Howard)\n",
              "  end_terminal bike_id subscription_type zip_code\n",
              "1 68           358     Customer          94941   \n",
              "2 68           365     Customer          94941   "
            ],
            "text/latex": "A data.table: 2 × 11\n\\begin{tabular}{lllllllllll}\n trip\\_id & duration & start\\_date & start\\_station & start\\_terminal & end\\_date & end\\_station & end\\_terminal & bike\\_id & subscription\\_type & zip\\_code\\\\\n <int> & <int> & <dttm> & <chr> & <int> & <dttm> & <chr> & <int> & <int> & <chr> & <chr>\\\\\n\\hline\n\t 139554 & 624 & 2014-01-01 00:25:00 & 5th at Howard & 57 & 2014-01-01 00:35:00 & Yerba Buena Center of the Arts (3rd @ Howard) & 68 & 358 & Customer & 94941\\\\\n\t 139555 & 574 & 2014-01-01 00:25:00 & 5th at Howard & 57 & 2014-01-01 00:35:00 & Yerba Buena Center of the Arts (3rd @ Howard) & 68 & 365 & Customer & 94941\\\\\n\\end{tabular}\n",
            "text/markdown": "\nA data.table: 2 × 11\n\n| trip_id &lt;int&gt; | duration &lt;int&gt; | start_date &lt;dttm&gt; | start_station &lt;chr&gt; | start_terminal &lt;int&gt; | end_date &lt;dttm&gt; | end_station &lt;chr&gt; | end_terminal &lt;int&gt; | bike_id &lt;int&gt; | subscription_type &lt;chr&gt; | zip_code &lt;chr&gt; |\n|---|---|---|---|---|---|---|---|---|---|---|\n| 139554 | 624 | 2014-01-01 00:25:00 | 5th at Howard | 57 | 2014-01-01 00:35:00 | Yerba Buena Center of the Arts (3rd @ Howard) | 68 | 358 | Customer | 94941 |\n| 139555 | 574 | 2014-01-01 00:25:00 | 5th at Howard | 57 | 2014-01-01 00:35:00 | Yerba Buena Center of the Arts (3rd @ Howard) | 68 | 365 | Customer | 94941 |\n\n",
            "text/html": [
              "<table class=\"dataframe\">\n",
              "<caption>A data.table: 2 × 11</caption>\n",
              "<thead>\n",
              "\t<tr><th scope=col>trip_id</th><th scope=col>duration</th><th scope=col>start_date</th><th scope=col>start_station</th><th scope=col>start_terminal</th><th scope=col>end_date</th><th scope=col>end_station</th><th scope=col>end_terminal</th><th scope=col>bike_id</th><th scope=col>subscription_type</th><th scope=col>zip_code</th></tr>\n",
              "\t<tr><th scope=col>&lt;int&gt;</th><th scope=col>&lt;int&gt;</th><th scope=col>&lt;dttm&gt;</th><th scope=col>&lt;chr&gt;</th><th scope=col>&lt;int&gt;</th><th scope=col>&lt;dttm&gt;</th><th scope=col>&lt;chr&gt;</th><th scope=col>&lt;int&gt;</th><th scope=col>&lt;int&gt;</th><th scope=col>&lt;chr&gt;</th><th scope=col>&lt;chr&gt;</th></tr>\n",
              "</thead>\n",
              "<tbody>\n",
              "\t<tr><td>139554</td><td>624</td><td>2014-01-01 00:25:00</td><td>5th at Howard</td><td>57</td><td>2014-01-01 00:35:00</td><td>Yerba Buena Center of the Arts (3rd @ Howard)</td><td>68</td><td>358</td><td>Customer</td><td>94941</td></tr>\n",
              "\t<tr><td>139555</td><td>574</td><td>2014-01-01 00:25:00</td><td>5th at Howard</td><td>57</td><td>2014-01-01 00:35:00</td><td>Yerba Buena Center of the Arts (3rd @ Howard)</td><td>68</td><td>365</td><td>Customer</td><td>94941</td></tr>\n",
              "</tbody>\n",
              "</table>\n"
            ]
          },
          "metadata": {
            "tags": []
          }
        }
      ]
    },
    {
      "cell_type": "markdown",
      "metadata": {
        "id": "nh3BzqlhjFuZ"
      },
      "source": [
        "## 3 functions makes data.table convenient subsetting"
      ]
    },
    {
      "cell_type": "markdown",
      "metadata": {
        "id": "9C4-m70BjVdw"
      },
      "source": [
        "### %like%\n",
        "\n",
        "instead of using grepl(pattern=\"regex\", x=dataframe)"
      ]
    },
    {
      "cell_type": "code",
      "metadata": {
        "colab": {
          "base_uri": "https://localhost:8080/",
          "height": 327
        },
        "id": "_6CTJ55GjLaG",
        "outputId": "0afca959-726b-4f9a-f7fb-86230db8259a"
      },
      "source": [
        "# Subset all rows where start_station starts with San Francisco\n",
        "head(dt_batrips[start_station %like% \"^San Francisco\"],1)\n",
        "\n",
        "# instead of using grepl(pattern=\"regex\", x=dataframe$col)\n",
        "head(batrips[grepl(\"^San Francisco\", batrips$start_station),],1)"
      ],
      "execution_count": null,
      "outputs": [
        {
          "output_type": "display_data",
          "data": {
            "text/plain": [
              "  trip_id duration start_date          start_station           start_terminal\n",
              "1 139545  435      2014-01-01 00:14:00 San Francisco City Hall 58            \n",
              "  end_date            end_station     end_terminal bike_id subscription_type\n",
              "1 2014-01-01 00:21:00 Townsend at 7th 65           473     Subscriber       \n",
              "  zip_code\n",
              "1 94612   "
            ],
            "text/latex": "A data.table: 1 × 11\n\\begin{tabular}{lllllllllll}\n trip\\_id & duration & start\\_date & start\\_station & start\\_terminal & end\\_date & end\\_station & end\\_terminal & bike\\_id & subscription\\_type & zip\\_code\\\\\n <int> & <int> & <dttm> & <chr> & <int> & <dttm> & <chr> & <int> & <int> & <chr> & <chr>\\\\\n\\hline\n\t 139545 & 435 & 2014-01-01 00:14:00 & San Francisco City Hall & 58 & 2014-01-01 00:21:00 & Townsend at 7th & 65 & 473 & Subscriber & 94612\\\\\n\\end{tabular}\n",
            "text/markdown": "\nA data.table: 1 × 11\n\n| trip_id &lt;int&gt; | duration &lt;int&gt; | start_date &lt;dttm&gt; | start_station &lt;chr&gt; | start_terminal &lt;int&gt; | end_date &lt;dttm&gt; | end_station &lt;chr&gt; | end_terminal &lt;int&gt; | bike_id &lt;int&gt; | subscription_type &lt;chr&gt; | zip_code &lt;chr&gt; |\n|---|---|---|---|---|---|---|---|---|---|---|\n| 139545 | 435 | 2014-01-01 00:14:00 | San Francisco City Hall | 58 | 2014-01-01 00:21:00 | Townsend at 7th | 65 | 473 | Subscriber | 94612 |\n\n",
            "text/html": [
              "<table class=\"dataframe\">\n",
              "<caption>A data.table: 1 × 11</caption>\n",
              "<thead>\n",
              "\t<tr><th scope=col>trip_id</th><th scope=col>duration</th><th scope=col>start_date</th><th scope=col>start_station</th><th scope=col>start_terminal</th><th scope=col>end_date</th><th scope=col>end_station</th><th scope=col>end_terminal</th><th scope=col>bike_id</th><th scope=col>subscription_type</th><th scope=col>zip_code</th></tr>\n",
              "\t<tr><th scope=col>&lt;int&gt;</th><th scope=col>&lt;int&gt;</th><th scope=col>&lt;dttm&gt;</th><th scope=col>&lt;chr&gt;</th><th scope=col>&lt;int&gt;</th><th scope=col>&lt;dttm&gt;</th><th scope=col>&lt;chr&gt;</th><th scope=col>&lt;int&gt;</th><th scope=col>&lt;int&gt;</th><th scope=col>&lt;chr&gt;</th><th scope=col>&lt;chr&gt;</th></tr>\n",
              "</thead>\n",
              "<tbody>\n",
              "\t<tr><td>139545</td><td>435</td><td>2014-01-01 00:14:00</td><td>San Francisco City Hall</td><td>58</td><td>2014-01-01 00:21:00</td><td>Townsend at 7th</td><td>65</td><td>473</td><td>Subscriber</td><td>94612</td></tr>\n",
              "</tbody>\n",
              "</table>\n"
            ]
          },
          "metadata": {
            "tags": []
          }
        },
        {
          "output_type": "display_data",
          "data": {
            "text/plain": [
              "  trip_id duration start_date          start_station           start_terminal\n",
              "1 139545  435      2014-01-01 00:14:00 San Francisco City Hall 58            \n",
              "  end_date            end_station     end_terminal bike_id subscription_type\n",
              "1 2014-01-01 00:21:00 Townsend at 7th 65           473     Subscriber       \n",
              "  zip_code\n",
              "1 94612   "
            ],
            "text/latex": "A data.frame: 1 × 11\n\\begin{tabular}{r|lllllllllll}\n  & trip\\_id & duration & start\\_date & start\\_station & start\\_terminal & end\\_date & end\\_station & end\\_terminal & bike\\_id & subscription\\_type & zip\\_code\\\\\n  & <int> & <int> & <dttm> & <chr> & <int> & <dttm> & <chr> & <int> & <int> & <chr> & <chr>\\\\\n\\hline\n\t1 & 139545 & 435 & 2014-01-01 00:14:00 & San Francisco City Hall & 58 & 2014-01-01 00:21:00 & Townsend at 7th & 65 & 473 & Subscriber & 94612\\\\\n\\end{tabular}\n",
            "text/markdown": "\nA data.frame: 1 × 11\n\n| <!--/--> | trip_id &lt;int&gt; | duration &lt;int&gt; | start_date &lt;dttm&gt; | start_station &lt;chr&gt; | start_terminal &lt;int&gt; | end_date &lt;dttm&gt; | end_station &lt;chr&gt; | end_terminal &lt;int&gt; | bike_id &lt;int&gt; | subscription_type &lt;chr&gt; | zip_code &lt;chr&gt; |\n|---|---|---|---|---|---|---|---|---|---|---|---|\n| 1 | 139545 | 435 | 2014-01-01 00:14:00 | San Francisco City Hall | 58 | 2014-01-01 00:21:00 | Townsend at 7th | 65 | 473 | Subscriber | 94612 |\n\n",
            "text/html": [
              "<table class=\"dataframe\">\n",
              "<caption>A data.frame: 1 × 11</caption>\n",
              "<thead>\n",
              "\t<tr><th></th><th scope=col>trip_id</th><th scope=col>duration</th><th scope=col>start_date</th><th scope=col>start_station</th><th scope=col>start_terminal</th><th scope=col>end_date</th><th scope=col>end_station</th><th scope=col>end_terminal</th><th scope=col>bike_id</th><th scope=col>subscription_type</th><th scope=col>zip_code</th></tr>\n",
              "\t<tr><th></th><th scope=col>&lt;int&gt;</th><th scope=col>&lt;int&gt;</th><th scope=col>&lt;dttm&gt;</th><th scope=col>&lt;chr&gt;</th><th scope=col>&lt;int&gt;</th><th scope=col>&lt;dttm&gt;</th><th scope=col>&lt;chr&gt;</th><th scope=col>&lt;int&gt;</th><th scope=col>&lt;int&gt;</th><th scope=col>&lt;chr&gt;</th><th scope=col>&lt;chr&gt;</th></tr>\n",
              "</thead>\n",
              "<tbody>\n",
              "\t<tr><th scope=row>1</th><td>139545</td><td>435</td><td>2014-01-01 00:14:00</td><td>San Francisco City Hall</td><td>58</td><td>2014-01-01 00:21:00</td><td>Townsend at 7th</td><td>65</td><td>473</td><td>Subscriber</td><td>94612</td></tr>\n",
              "</tbody>\n",
              "</table>\n"
            ]
          },
          "metadata": {
            "tags": []
          }
        }
      ]
    },
    {
      "cell_type": "code",
      "metadata": {
        "id": "lYPcGbrvlxru"
      },
      "source": [
        "# Filter all rows where end_station contains \"Market\"\n",
        "any_markets = dt_batrips[end_station %like% \"Market\"]\n",
        "\n",
        "# Filter all rows where end_station ends with \"Market\"\n",
        "end_markets = dt_batrips[end_station %like% \"Market$\"]"
      ],
      "execution_count": null,
      "outputs": []
    },
    {
      "cell_type": "markdown",
      "metadata": {
        "id": "YjZDXD5KknFs"
      },
      "source": [
        "### %between%\n",
        "\n",
        "instead of using df[df%row >= x, df%row <= x,]"
      ]
    },
    {
      "cell_type": "code",
      "metadata": {
        "colab": {
          "base_uri": "https://localhost:8080/",
          "height": 35
        },
        "id": "IGJKWWXyk-DV",
        "outputId": "0105c02a-8855-4159-8a9e-d872c1e8a06c"
      },
      "source": [
        "# duration between 2000 and 3000 INCLUDED.\n",
        "dim(dt_batrips[duration %between% c(2000,3000)])"
      ],
      "execution_count": null,
      "outputs": [
        {
          "output_type": "display_data",
          "data": {
            "text/plain": [
              "[1] 3600   11"
            ],
            "text/latex": "\\begin{enumerate*}\n\\item 3600\n\\item 11\n\\end{enumerate*}\n",
            "text/markdown": "1. 3600\n2. 11\n\n\n",
            "text/html": [
              "<style>\n",
              ".list-inline {list-style: none; margin:0; padding: 0}\n",
              ".list-inline>li {display: inline-block}\n",
              ".list-inline>li:not(:last-child)::after {content: \"\\00b7\"; padding: 0 .5ex}\n",
              "</style>\n",
              "<ol class=list-inline><li>3600</li><li>11</li></ol>\n"
            ]
          },
          "metadata": {
            "tags": []
          }
        }
      ]
    },
    {
      "cell_type": "markdown",
      "metadata": {
        "id": "sR-MZemDlbpn"
      },
      "source": [
        "### %in% and %chin%\n",
        "\n",
        "instead of using df[col_name %in% c(strings),]\n",
        "chin is much faster but only for characters."
      ]
    },
    {
      "cell_type": "code",
      "metadata": {
        "id": "yO1fex7RlpU_"
      },
      "source": [
        "# Using %in%\n",
        "# Filter all rows where trip_id is 588841, 139560, or 139562\n",
        "filter_trip_ids = dt_batrips[trip_id %in% c(588841, 139560, 139562)]\n",
        "\n",
        "# Using %chin%\n",
        "# Filter all rows with specific start stations\n",
        "two_stations = dt_batrips[start_station %chin% c(\"San Francisco City Hall\", \"Embarcadero at Sansome\")]"
      ],
      "execution_count": null,
      "outputs": []
    },
    {
      "cell_type": "markdown",
      "metadata": {
        "id": "Kg3eVx9Yoqsv"
      },
      "source": [
        "# Subsetting columns in data tables\n",
        "\n",
        "DT[i, j, by]"
      ]
    },
    {
      "cell_type": "markdown",
      "metadata": {
        "id": "3aDvHiROsBJ7"
      },
      "source": [
        "Filtering by column numbers is not a good practice. It should be done by name.\n",
        "\n",
        "If we filter only one row the class of the frame is still a data.table. If dataframe it become a vector."
      ]
    },
    {
      "cell_type": "code",
      "metadata": {
        "colab": {
          "base_uri": "https://localhost:8080/",
          "height": 457
        },
        "id": "nKIysO0GosDb",
        "outputId": "f40c716f-82f5-4a24-ad0e-be0aff1783c9"
      },
      "source": [
        "head(dt_batrips[,c(\"start_station\", \"duration\")],2)\n",
        "\n",
        "# Deselect start_terminal and end_terminal columns or use -\n",
        "drop_terminal_cols = dt_batrips[, !c(\"start_terminal\", \"end_terminal\")]\n",
        "\n",
        "# or instead of using a vector c(), use list with no quotes.\n",
        "head(dt_batrips[,list(start_station, dur=duration)],2)\n",
        "\n",
        "# .() same as list()\n",
        "head(dt_batrips[,.(start_station, dur=duration)],2)\n",
        "\n",
        "#If you don't wrap the column name either in quotes or inside list(), the result is a vector.\n",
        "head(dt_batrips[,start_station],2)"
      ],
      "execution_count": null,
      "outputs": [
        {
          "output_type": "display_data",
          "data": {
            "text/plain": [
              "  start_station           duration\n",
              "1 San Francisco City Hall 435     \n",
              "2 San Francisco City Hall 432     "
            ],
            "text/latex": "A data.table: 2 × 2\n\\begin{tabular}{ll}\n start\\_station & duration\\\\\n <chr> & <int>\\\\\n\\hline\n\t San Francisco City Hall & 435\\\\\n\t San Francisco City Hall & 432\\\\\n\\end{tabular}\n",
            "text/markdown": "\nA data.table: 2 × 2\n\n| start_station &lt;chr&gt; | duration &lt;int&gt; |\n|---|---|\n| San Francisco City Hall | 435 |\n| San Francisco City Hall | 432 |\n\n",
            "text/html": [
              "<table class=\"dataframe\">\n",
              "<caption>A data.table: 2 × 2</caption>\n",
              "<thead>\n",
              "\t<tr><th scope=col>start_station</th><th scope=col>duration</th></tr>\n",
              "\t<tr><th scope=col>&lt;chr&gt;</th><th scope=col>&lt;int&gt;</th></tr>\n",
              "</thead>\n",
              "<tbody>\n",
              "\t<tr><td>San Francisco City Hall</td><td>435</td></tr>\n",
              "\t<tr><td>San Francisco City Hall</td><td>432</td></tr>\n",
              "</tbody>\n",
              "</table>\n"
            ]
          },
          "metadata": {
            "tags": []
          }
        },
        {
          "output_type": "display_data",
          "data": {
            "text/plain": [
              "  start_station           dur\n",
              "1 San Francisco City Hall 435\n",
              "2 San Francisco City Hall 432"
            ],
            "text/latex": "A data.table: 2 × 2\n\\begin{tabular}{ll}\n start\\_station & dur\\\\\n <chr> & <int>\\\\\n\\hline\n\t San Francisco City Hall & 435\\\\\n\t San Francisco City Hall & 432\\\\\n\\end{tabular}\n",
            "text/markdown": "\nA data.table: 2 × 2\n\n| start_station &lt;chr&gt; | dur &lt;int&gt; |\n|---|---|\n| San Francisco City Hall | 435 |\n| San Francisco City Hall | 432 |\n\n",
            "text/html": [
              "<table class=\"dataframe\">\n",
              "<caption>A data.table: 2 × 2</caption>\n",
              "<thead>\n",
              "\t<tr><th scope=col>start_station</th><th scope=col>dur</th></tr>\n",
              "\t<tr><th scope=col>&lt;chr&gt;</th><th scope=col>&lt;int&gt;</th></tr>\n",
              "</thead>\n",
              "<tbody>\n",
              "\t<tr><td>San Francisco City Hall</td><td>435</td></tr>\n",
              "\t<tr><td>San Francisco City Hall</td><td>432</td></tr>\n",
              "</tbody>\n",
              "</table>\n"
            ]
          },
          "metadata": {
            "tags": []
          }
        },
        {
          "output_type": "display_data",
          "data": {
            "text/plain": [
              "  start_station           dur\n",
              "1 San Francisco City Hall 435\n",
              "2 San Francisco City Hall 432"
            ],
            "text/latex": "A data.table: 2 × 2\n\\begin{tabular}{ll}\n start\\_station & dur\\\\\n <chr> & <int>\\\\\n\\hline\n\t San Francisco City Hall & 435\\\\\n\t San Francisco City Hall & 432\\\\\n\\end{tabular}\n",
            "text/markdown": "\nA data.table: 2 × 2\n\n| start_station &lt;chr&gt; | dur &lt;int&gt; |\n|---|---|\n| San Francisco City Hall | 435 |\n| San Francisco City Hall | 432 |\n\n",
            "text/html": [
              "<table class=\"dataframe\">\n",
              "<caption>A data.table: 2 × 2</caption>\n",
              "<thead>\n",
              "\t<tr><th scope=col>start_station</th><th scope=col>dur</th></tr>\n",
              "\t<tr><th scope=col>&lt;chr&gt;</th><th scope=col>&lt;int&gt;</th></tr>\n",
              "</thead>\n",
              "<tbody>\n",
              "\t<tr><td>San Francisco City Hall</td><td>435</td></tr>\n",
              "\t<tr><td>San Francisco City Hall</td><td>432</td></tr>\n",
              "</tbody>\n",
              "</table>\n"
            ]
          },
          "metadata": {
            "tags": []
          }
        },
        {
          "output_type": "display_data",
          "data": {
            "text/plain": [
              "[1] \"San Francisco City Hall\" \"San Francisco City Hall\""
            ],
            "text/latex": "\\begin{enumerate*}\n\\item 'San Francisco City Hall'\n\\item 'San Francisco City Hall'\n\\end{enumerate*}\n",
            "text/markdown": "1. 'San Francisco City Hall'\n2. 'San Francisco City Hall'\n\n\n",
            "text/html": [
              "<style>\n",
              ".list-inline {list-style: none; margin:0; padding: 0}\n",
              ".list-inline>li {display: inline-block}\n",
              ".list-inline>li:not(:last-child)::after {content: \"\\00b7\"; padding: 0 .5ex}\n",
              "</style>\n",
              "<ol class=list-inline><li>'San Francisco City Hall'</li><li>'San Francisco City Hall'</li></ol>\n"
            ]
          },
          "metadata": {
            "tags": []
          }
        }
      ]
    },
    {
      "cell_type": "markdown",
      "metadata": {
        "id": "aJj8LwzyvQii"
      },
      "source": [
        "# Computing on columns"
      ]
    },
    {
      "cell_type": "markdown",
      "metadata": {
        "id": "XFA5t9jm6vXx"
      },
      "source": [
        "## Filtering rows, summarizing on columns"
      ]
    },
    {
      "cell_type": "code",
      "metadata": {
        "colab": {
          "base_uri": "https://localhost:8080/",
          "height": 52
        },
        "id": "lQ08FwPEvS8s",
        "outputId": "282a0647-925c-41e8-c28b-548f9e3959f5"
      },
      "source": [
        "# Calculate median duration using the j argument\n",
        "dt_batrips[, median(duration)]\n",
        "\n",
        "# Get median and sum of duration after filtering\n",
        "dt_batrips[end_station == \"Market at 10th\" & subscription_type == \"Subscriber\", c(median(duration), sum(duration))]"
      ],
      "execution_count": null,
      "outputs": [
        {
          "output_type": "display_data",
          "data": {
            "text/plain": [
              "[1] 511"
            ],
            "text/latex": "511",
            "text/markdown": "511",
            "text/html": [
              "511"
            ]
          },
          "metadata": {
            "tags": []
          }
        },
        {
          "output_type": "display_data",
          "data": {
            "text/plain": [
              "[1]     651 5265391"
            ],
            "text/latex": "\\begin{enumerate*}\n\\item 651\n\\item 5265391\n\\end{enumerate*}\n",
            "text/markdown": "1. 651\n2. 5265391\n\n\n",
            "text/html": [
              "<style>\n",
              ".list-inline {list-style: none; margin:0; padding: 0}\n",
              ".list-inline>li {display: inline-block}\n",
              ".list-inline>li:not(:last-child)::after {content: \"\\00b7\"; padding: 0 .5ex}\n",
              "</style>\n",
              "<ol class=list-inline><li>651</li><li>5265391</li></ol>\n"
            ]
          },
          "metadata": {
            "tags": []
          }
        }
      ]
    },
    {
      "cell_type": "code",
      "metadata": {
        "colab": {
          "base_uri": "https://localhost:8080/",
          "height": 127
        },
        "id": "Bt6ZLmio4hl6",
        "outputId": "340a072e-08c9-426b-9c5e-133c39187526"
      },
      "source": [
        "# Get median, sum and nrows after filtering with chin\n",
        "dt_batrips[end_station %chin% c(\"Market at 10th\", \"^San\"),.(median_dur = median(duration), sum_dur = sum(duration), count = .N)]"
      ],
      "execution_count": null,
      "outputs": [
        {
          "output_type": "display_data",
          "data": {
            "text/plain": [
              "  median_dur sum_dur  count\n",
              "1 683        11489582 8559 "
            ],
            "text/latex": "A data.table: 1 × 3\n\\begin{tabular}{lll}\n median\\_dur & sum\\_dur & count\\\\\n <int> & <int> & <int>\\\\\n\\hline\n\t 683 & 11489582 & 8559\\\\\n\\end{tabular}\n",
            "text/markdown": "\nA data.table: 1 × 3\n\n| median_dur &lt;int&gt; | sum_dur &lt;int&gt; | count &lt;int&gt; |\n|---|---|---|\n| 683 | 11489582 | 8559 |\n\n",
            "text/html": [
              "<table class=\"dataframe\">\n",
              "<caption>A data.table: 1 × 3</caption>\n",
              "<thead>\n",
              "\t<tr><th scope=col>median_dur</th><th scope=col>sum_dur</th><th scope=col>count</th></tr>\n",
              "\t<tr><th scope=col>&lt;int&gt;</th><th scope=col>&lt;int&gt;</th><th scope=col>&lt;int&gt;</th></tr>\n",
              "</thead>\n",
              "<tbody>\n",
              "\t<tr><td>683</td><td>11489582</td><td>8559</td></tr>\n",
              "</tbody>\n",
              "</table>\n"
            ]
          },
          "metadata": {
            "tags": []
          }
        }
      ]
    },
    {
      "cell_type": "markdown",
      "metadata": {
        "id": "dcQIRS-x6ofh"
      },
      "source": [
        "## Filtering rows and PLOTING"
      ]
    },
    {
      "cell_type": "code",
      "metadata": {
        "colab": {
          "base_uri": "https://localhost:8080/",
          "height": 911
        },
        "id": "Ky0lrn9J6bSX",
        "outputId": "e8da73b8-1589-4b44-b7ae-0364316f71e3"
      },
      "source": [
        "dt_batrips[start_station == \"Townsend at 7th\" & duration < 500, \n",
        "                          .(min_dur = min(duration), max_dur = max(duration))]\n",
        "\n",
        "# Plot the histogram of duration based on conditions\n",
        "dt_batrips[start_station == \"Townsend at 7th\" & duration < 500, hist(duration)]                          "
      ],
      "execution_count": null,
      "outputs": [
        {
          "output_type": "display_data",
          "data": {
            "text/plain": [
              "  min_dur max_dur\n",
              "1 62      499    "
            ],
            "text/latex": "A data.table: 1 × 2\n\\begin{tabular}{ll}\n min\\_dur & max\\_dur\\\\\n <int> & <int>\\\\\n\\hline\n\t 62 & 499\\\\\n\\end{tabular}\n",
            "text/markdown": "\nA data.table: 1 × 2\n\n| min_dur &lt;int&gt; | max_dur &lt;int&gt; |\n|---|---|\n| 62 | 499 |\n\n",
            "text/html": [
              "<table class=\"dataframe\">\n",
              "<caption>A data.table: 1 × 2</caption>\n",
              "<thead>\n",
              "\t<tr><th scope=col>min_dur</th><th scope=col>max_dur</th></tr>\n",
              "\t<tr><th scope=col>&lt;int&gt;</th><th scope=col>&lt;int&gt;</th></tr>\n",
              "</thead>\n",
              "<tbody>\n",
              "\t<tr><td>62</td><td>499</td></tr>\n",
              "</tbody>\n",
              "</table>\n"
            ]
          },
          "metadata": {
            "tags": []
          }
        },
        {
          "output_type": "display_data",
          "data": {
            "text/plain": [
              "$breaks\n",
              " [1]  50 100 150 200 250 300 350 400 450 500\n",
              "\n",
              "$counts\n",
              "[1]   28   15  792 2042  920  314  314  497  538\n",
              "\n",
              "$density\n",
              "[1] 1.025641e-04 5.494505e-05 2.901099e-03 7.479853e-03 3.369963e-03\n",
              "[6] 1.150183e-03 1.150183e-03 1.820513e-03 1.970696e-03\n",
              "\n",
              "$mids\n",
              "[1]  75 125 175 225 275 325 375 425 475\n",
              "\n",
              "$xname\n",
              "[1] \"duration\"\n",
              "\n",
              "$equidist\n",
              "[1] TRUE\n",
              "\n",
              "attr(,\"class\")\n",
              "[1] \"histogram\""
            ]
          },
          "metadata": {
            "tags": []
          }
        },
        {
          "output_type": "display_data",
          "data": {
            "image/png": "[encoded data removed]",
            "text/plain": [
              "Plot with title “Histogram of duration”"
            ]
          },
          "metadata": {
            "tags": [],
            "image/png": {
              "width": 420,
              "height": 420
            }
          }
        }
      ]
    },
    {
      "cell_type": "markdown",
      "metadata": {
        "id": "AVwt0BKjJrDs"
      },
      "source": [
        "# Groupwise Operations\n"
      ]
    },
    {
      "cell_type": "code",
      "metadata": {
        "colab": {
          "base_uri": "https://localhost:8080/",
          "height": 158
        },
        "id": "ys5Sf1eCJtwz",
        "outputId": "aeb1010b-0af1-4b4d-e869-e4c0d4bee22e"
      },
      "source": [
        "# Compute the mean duration for every start_station\n",
        "head(dt_batrips[, .(mean_duration = mean(duration)), by = start_station],2)"
      ],
      "execution_count": null,
      "outputs": [
        {
          "output_type": "display_data",
          "data": {
            "text/plain": [
              "  start_station           mean_duration\n",
              "1 San Francisco City Hall 1893.936     \n",
              "2 Embarcadero at Sansome  1418.182     "
            ],
            "text/latex": "A data.table: 2 × 2\n\\begin{tabular}{ll}\n start\\_station & mean\\_duration\\\\\n <chr> & <dbl>\\\\\n\\hline\n\t San Francisco City Hall & 1893.936\\\\\n\t Embarcadero at Sansome  & 1418.182\\\\\n\\end{tabular}\n",
            "text/markdown": "\nA data.table: 2 × 2\n\n| start_station &lt;chr&gt; | mean_duration &lt;dbl&gt; |\n|---|---|\n| San Francisco City Hall | 1893.936 |\n| Embarcadero at Sansome  | 1418.182 |\n\n",
            "text/html": [
              "<table class=\"dataframe\">\n",
              "<caption>A data.table: 2 × 2</caption>\n",
              "<thead>\n",
              "\t<tr><th scope=col>start_station</th><th scope=col>mean_duration</th></tr>\n",
              "\t<tr><th scope=col>&lt;chr&gt;</th><th scope=col>&lt;dbl&gt;</th></tr>\n",
              "</thead>\n",
              "<tbody>\n",
              "\t<tr><td>San Francisco City Hall</td><td>1893.936</td></tr>\n",
              "\t<tr><td>Embarcadero at Sansome </td><td>1418.182</td></tr>\n",
              "</tbody>\n",
              "</table>\n"
            ]
          },
          "metadata": {
            "tags": []
          }
        }
      ]
    },
    {
      "cell_type": "markdown",
      "metadata": {
        "id": "FLzNDe1GLgcn"
      },
      "source": [
        "## Grouping by two variables and computing on the fly"
      ]
    },
    {
      "cell_type": "code",
      "metadata": {
        "colab": {
          "base_uri": "https://localhost:8080/",
          "height": 189
        },
        "id": "hV2p97_9LkXX",
        "outputId": "b45fe8bd-f30f-4ebc-c6e5-7517c258049d"
      },
      "source": [
        "# Compute the mean duration grouped by start_station and month\n",
        "mean_start_station <- dt_batrips[, .(mean_duration = mean(duration)), by = .(start_station, month(start_date))]\n",
        "\n",
        "head(mean_start_station, 3)"
      ],
      "execution_count": null,
      "outputs": [
        {
          "output_type": "display_data",
          "data": {
            "text/plain": [
              "  start_station           month mean_duration\n",
              "1 San Francisco City Hall 1     1548.2591    \n",
              "2 Embarcadero at Sansome  1      952.1756    \n",
              "3 Steuart at Market       1      757.2448    "
            ],
            "text/latex": "A data.table: 3 × 3\n\\begin{tabular}{lll}\n start\\_station & month & mean\\_duration\\\\\n <chr> & <int> & <dbl>\\\\\n\\hline\n\t San Francisco City Hall & 1 & 1548.2591\\\\\n\t Embarcadero at Sansome  & 1 &  952.1756\\\\\n\t Steuart at Market       & 1 &  757.2448\\\\\n\\end{tabular}\n",
            "text/markdown": "\nA data.table: 3 × 3\n\n| start_station &lt;chr&gt; | month &lt;int&gt; | mean_duration &lt;dbl&gt; |\n|---|---|---|\n| San Francisco City Hall | 1 | 1548.2591 |\n| Embarcadero at Sansome  | 1 |  952.1756 |\n| Steuart at Market       | 1 |  757.2448 |\n\n",
            "text/html": [
              "<table class=\"dataframe\">\n",
              "<caption>A data.table: 3 × 3</caption>\n",
              "<thead>\n",
              "\t<tr><th scope=col>start_station</th><th scope=col>month</th><th scope=col>mean_duration</th></tr>\n",
              "\t<tr><th scope=col>&lt;chr&gt;</th><th scope=col>&lt;int&gt;</th><th scope=col>&lt;dbl&gt;</th></tr>\n",
              "</thead>\n",
              "<tbody>\n",
              "\t<tr><td>San Francisco City Hall</td><td>1</td><td>1548.2591</td></tr>\n",
              "\t<tr><td>Embarcadero at Sansome </td><td>1</td><td> 952.1756</td></tr>\n",
              "\t<tr><td>Steuart at Market      </td><td>1</td><td> 757.2448</td></tr>\n",
              "</tbody>\n",
              "</table>\n"
            ]
          },
          "metadata": {
            "tags": []
          }
        }
      ]
    },
    {
      "cell_type": "code",
      "metadata": {
        "id": "Xr4A3HzcMtB7"
      },
      "source": [
        "# Compute min and max duration grouped by start station, end station, and month\n",
        "aggregate_min_max <- dt_batrips[, .(min_duration = min(duration), max_duration = max(duration)), \n",
        "                             by = .(start_station, end_station, month(start_date))]"
      ],
      "execution_count": null,
      "outputs": []
    },
    {
      "cell_type": "markdown",
      "metadata": {
        "id": "TA9fE_yAlJoH"
      },
      "source": [
        "# Chaining [][][]"
      ]
    },
    {
      "cell_type": "markdown",
      "metadata": {
        "id": "CQLPPCC_n0CU"
      },
      "source": [
        "## Groupby and decrease order"
      ]
    },
    {
      "cell_type": "code",
      "metadata": {
        "colab": {
          "base_uri": "https://localhost:8080/",
          "height": 281
        },
        "id": "wjYDLFinkMOS",
        "outputId": "038c7723-d579-4419-c18d-fb5bd5c5619c"
      },
      "source": [
        "# Arrange the total trips grouped by start_station and end_station in decreasing order\n",
        "trips_dec <- dt_batrips[, .N, by = .(start_station, end_station)][order(-N)]\n",
        "\n",
        "head(trips_dec)"
      ],
      "execution_count": null,
      "outputs": [
        {
          "output_type": "display_data",
          "data": {
            "text/plain": [
              "  start_station                          \n",
              "1 Townsend at 7th                        \n",
              "2 San Francisco Caltrain 2 (330 Townsend)\n",
              "3 Harry Bridges Plaza (Ferry Building)   \n",
              "4 2nd at Townsend                        \n",
              "5 Market at 10th                         \n",
              "6 Harry Bridges Plaza (Ferry Building)   \n",
              "  end_station                              N   \n",
              "1 San Francisco Caltrain (Townsend at 4th) 3158\n",
              "2 Townsend at 7th                          2937\n",
              "3 Embarcadero at Sansome                   2826\n",
              "4 Harry Bridges Plaza (Ferry Building)     2330\n",
              "5 San Francisco Caltrain (Townsend at 4th) 2131\n",
              "6 2nd at Townsend                          2069"
            ],
            "text/latex": "A data.table: 6 × 3\n\\begin{tabular}{lll}\n start\\_station & end\\_station & N\\\\\n <chr> & <chr> & <int>\\\\\n\\hline\n\t Townsend at 7th                         & San Francisco Caltrain (Townsend at 4th) & 3158\\\\\n\t San Francisco Caltrain 2 (330 Townsend) & Townsend at 7th                          & 2937\\\\\n\t Harry Bridges Plaza (Ferry Building)    & Embarcadero at Sansome                   & 2826\\\\\n\t 2nd at Townsend                         & Harry Bridges Plaza (Ferry Building)     & 2330\\\\\n\t Market at 10th                          & San Francisco Caltrain (Townsend at 4th) & 2131\\\\\n\t Harry Bridges Plaza (Ferry Building)    & 2nd at Townsend                          & 2069\\\\\n\\end{tabular}\n",
            "text/markdown": "\nA data.table: 6 × 3\n\n| start_station &lt;chr&gt; | end_station &lt;chr&gt; | N &lt;int&gt; |\n|---|---|---|\n| Townsend at 7th                         | San Francisco Caltrain (Townsend at 4th) | 3158 |\n| San Francisco Caltrain 2 (330 Townsend) | Townsend at 7th                          | 2937 |\n| Harry Bridges Plaza (Ferry Building)    | Embarcadero at Sansome                   | 2826 |\n| 2nd at Townsend                         | Harry Bridges Plaza (Ferry Building)     | 2330 |\n| Market at 10th                          | San Francisco Caltrain (Townsend at 4th) | 2131 |\n| Harry Bridges Plaza (Ferry Building)    | 2nd at Townsend                          | 2069 |\n\n",
            "text/html": [
              "<table class=\"dataframe\">\n",
              "<caption>A data.table: 6 × 3</caption>\n",
              "<thead>\n",
              "\t<tr><th scope=col>start_station</th><th scope=col>end_station</th><th scope=col>N</th></tr>\n",
              "\t<tr><th scope=col>&lt;chr&gt;</th><th scope=col>&lt;chr&gt;</th><th scope=col>&lt;int&gt;</th></tr>\n",
              "</thead>\n",
              "<tbody>\n",
              "\t<tr><td>Townsend at 7th                        </td><td>San Francisco Caltrain (Townsend at 4th)</td><td>3158</td></tr>\n",
              "\t<tr><td>San Francisco Caltrain 2 (330 Townsend)</td><td>Townsend at 7th                         </td><td>2937</td></tr>\n",
              "\t<tr><td>Harry Bridges Plaza (Ferry Building)   </td><td>Embarcadero at Sansome                  </td><td>2826</td></tr>\n",
              "\t<tr><td>2nd at Townsend                        </td><td>Harry Bridges Plaza (Ferry Building)    </td><td>2330</td></tr>\n",
              "\t<tr><td>Market at 10th                         </td><td>San Francisco Caltrain (Townsend at 4th)</td><td>2131</td></tr>\n",
              "\t<tr><td>Harry Bridges Plaza (Ferry Building)   </td><td>2nd at Townsend                         </td><td>2069</td></tr>\n",
              "</tbody>\n",
              "</table>\n"
            ]
          },
          "metadata": {
            "tags": []
          }
        }
      ]
    },
    {
      "cell_type": "markdown",
      "metadata": {
        "id": "jgUmw5Mbn7-W"
      },
      "source": [
        "## most popular end station for every start station"
      ]
    },
    {
      "cell_type": "code",
      "metadata": {
        "colab": {
          "base_uri": "https://localhost:8080/",
          "height": 158
        },
        "id": "Loe44qq9moGe",
        "outputId": "43d16bb0-60fc-42b9-fd5f-3b2c5308595b"
      },
      "source": [
        "# Compute most popular end station for every start station using trips_dec\n",
        "# First it has to be ordered then summarize with and_station[1]\n",
        "popular_end_station <- trips_dec[, .(end_station = end_station[1]), by = start_station]\n",
        "popular_end_station[1:2]"
      ],
      "execution_count": null,
      "outputs": [
        {
          "output_type": "display_data",
          "data": {
            "text/plain": [
              "  start_station                          \n",
              "1 Townsend at 7th                        \n",
              "2 San Francisco Caltrain 2 (330 Townsend)\n",
              "  end_station                             \n",
              "1 San Francisco Caltrain (Townsend at 4th)\n",
              "2 Townsend at 7th                         "
            ],
            "text/latex": "A data.table: 2 × 2\n\\begin{tabular}{ll}\n start\\_station & end\\_station\\\\\n <chr> & <chr>\\\\\n\\hline\n\t Townsend at 7th                         & San Francisco Caltrain (Townsend at 4th)\\\\\n\t San Francisco Caltrain 2 (330 Townsend) & Townsend at 7th                         \\\\\n\\end{tabular}\n",
            "text/markdown": "\nA data.table: 2 × 2\n\n| start_station &lt;chr&gt; | end_station &lt;chr&gt; |\n|---|---|\n| Townsend at 7th                         | San Francisco Caltrain (Townsend at 4th) |\n| San Francisco Caltrain 2 (330 Townsend) | Townsend at 7th                          |\n\n",
            "text/html": [
              "<table class=\"dataframe\">\n",
              "<caption>A data.table: 2 × 2</caption>\n",
              "<thead>\n",
              "\t<tr><th scope=col>start_station</th><th scope=col>end_station</th></tr>\n",
              "\t<tr><th scope=col>&lt;chr&gt;</th><th scope=col>&lt;chr&gt;</th></tr>\n",
              "</thead>\n",
              "<tbody>\n",
              "\t<tr><td>Townsend at 7th                        </td><td>San Francisco Caltrain (Townsend at 4th)</td></tr>\n",
              "\t<tr><td>San Francisco Caltrain 2 (330 Townsend)</td><td>Townsend at 7th                         </td></tr>\n",
              "</tbody>\n",
              "</table>\n"
            ]
          },
          "metadata": {
            "tags": []
          }
        }
      ]
    },
    {
      "cell_type": "markdown",
      "metadata": {
        "id": "A3aL0yDHmRDU"
      },
      "source": [
        "## five most popular destinations"
      ]
    },
    {
      "cell_type": "code",
      "metadata": {
        "colab": {
          "base_uri": "https://localhost:8080/",
          "height": 250
        },
        "id": "UAdWPBNCmQwE",
        "outputId": "c13c3cf1-d74f-47c0-ec15-1be38ecc5dda"
      },
      "source": [
        "# Top five most popular destinations\n",
        "top_5 <- dt_batrips[, .N, by = end_station][order(-N)][1:5]\n",
        "top_5"
      ],
      "execution_count": null,
      "outputs": [
        {
          "output_type": "display_data",
          "data": {
            "text/plain": [
              "  end_station                              N    \n",
              "1 San Francisco Caltrain (Townsend at 4th) 33213\n",
              "2 Harry Bridges Plaza (Ferry Building)     15692\n",
              "3 San Francisco Caltrain 2 (330 Townsend)  15333\n",
              "4 Market at Sansome                        14816\n",
              "5 2nd at Townsend                          14064"
            ],
            "text/latex": "A data.table: 5 × 2\n\\begin{tabular}{ll}\n end\\_station & N\\\\\n <chr> & <int>\\\\\n\\hline\n\t San Francisco Caltrain (Townsend at 4th) & 33213\\\\\n\t Harry Bridges Plaza (Ferry Building)     & 15692\\\\\n\t San Francisco Caltrain 2 (330 Townsend)  & 15333\\\\\n\t Market at Sansome                        & 14816\\\\\n\t 2nd at Townsend                          & 14064\\\\\n\\end{tabular}\n",
            "text/markdown": "\nA data.table: 5 × 2\n\n| end_station &lt;chr&gt; | N &lt;int&gt; |\n|---|---|\n| San Francisco Caltrain (Townsend at 4th) | 33213 |\n| Harry Bridges Plaza (Ferry Building)     | 15692 |\n| San Francisco Caltrain 2 (330 Townsend)  | 15333 |\n| Market at Sansome                        | 14816 |\n| 2nd at Townsend                          | 14064 |\n\n",
            "text/html": [
              "<table class=\"dataframe\">\n",
              "<caption>A data.table: 5 × 2</caption>\n",
              "<thead>\n",
              "\t<tr><th scope=col>end_station</th><th scope=col>N</th></tr>\n",
              "\t<tr><th scope=col>&lt;chr&gt;</th><th scope=col>&lt;int&gt;</th></tr>\n",
              "</thead>\n",
              "<tbody>\n",
              "\t<tr><td>San Francisco Caltrain (Townsend at 4th)</td><td>33213</td></tr>\n",
              "\t<tr><td>Harry Bridges Plaza (Ferry Building)    </td><td>15692</td></tr>\n",
              "\t<tr><td>San Francisco Caltrain 2 (330 Townsend) </td><td>15333</td></tr>\n",
              "\t<tr><td>Market at Sansome                       </td><td>14816</td></tr>\n",
              "\t<tr><td>2nd at Townsend                         </td><td>14064</td></tr>\n",
              "</tbody>\n",
              "</table>\n"
            ]
          },
          "metadata": {
            "tags": []
          }
        }
      ]
    },
    {
      "cell_type": "code",
      "metadata": {
        "id": "Omu8GKC1otVF"
      },
      "source": [
        "dt_batrips"
      ],
      "execution_count": null,
      "outputs": []
    },
    {
      "cell_type": "markdown",
      "metadata": {
        "id": "jk4MdJvfoX4I"
      },
      "source": [
        "# Combining i,j and by"
      ]
    },
    {
      "cell_type": "markdown",
      "metadata": {
        "id": "IZboH5z5ocX5"
      },
      "source": [
        "## Find the first and last ride for each start_station"
      ]
    },
    {
      "cell_type": "code",
      "metadata": {
        "colab": {
          "base_uri": "https://localhost:8080/",
          "height": 158
        },
        "id": "gUgFD4cEohPm",
        "outputId": "fa73a1c7-55e8-4e2a-a3e7-2b6b674a40ed"
      },
      "source": [
        "# Simple\n",
        "dt_batrips[,.(min(start_date), max(start_date)),by=start_station][1:2]"
      ],
      "execution_count": null,
      "outputs": [
        {
          "output_type": "display_data",
          "data": {
            "text/plain": [
              "  start_station           V1                  V2                 \n",
              "1 San Francisco City Hall 2014-01-01 00:14:00 2014-12-31 22:06:00\n",
              "2 Embarcadero at Sansome  2014-01-01 00:17:00 2014-12-31 22:08:00"
            ],
            "text/latex": "A data.table: 2 × 3\n\\begin{tabular}{lll}\n start\\_station & V1 & V2\\\\\n <chr> & <dttm> & <dttm>\\\\\n\\hline\n\t San Francisco City Hall & 2014-01-01 00:14:00 & 2014-12-31 22:06:00\\\\\n\t Embarcadero at Sansome  & 2014-01-01 00:17:00 & 2014-12-31 22:08:00\\\\\n\\end{tabular}\n",
            "text/markdown": "\nA data.table: 2 × 3\n\n| start_station &lt;chr&gt; | V1 &lt;dttm&gt; | V2 &lt;dttm&gt; |\n|---|---|---|\n| San Francisco City Hall | 2014-01-01 00:14:00 | 2014-12-31 22:06:00 |\n| Embarcadero at Sansome  | 2014-01-01 00:17:00 | 2014-12-31 22:08:00 |\n\n",
            "text/html": [
              "<table class=\"dataframe\">\n",
              "<caption>A data.table: 2 × 3</caption>\n",
              "<thead>\n",
              "\t<tr><th scope=col>start_station</th><th scope=col>V1</th><th scope=col>V2</th></tr>\n",
              "\t<tr><th scope=col>&lt;chr&gt;</th><th scope=col>&lt;dttm&gt;</th><th scope=col>&lt;dttm&gt;</th></tr>\n",
              "</thead>\n",
              "<tbody>\n",
              "\t<tr><td>San Francisco City Hall</td><td>2014-01-01 00:14:00</td><td>2014-12-31 22:06:00</td></tr>\n",
              "\t<tr><td>Embarcadero at Sansome </td><td>2014-01-01 00:17:00</td><td>2014-12-31 22:08:00</td></tr>\n",
              "</tbody>\n",
              "</table>\n"
            ]
          },
          "metadata": {
            "tags": []
          }
        }
      ]
    },
    {
      "cell_type": "code",
      "metadata": {
        "colab": {
          "base_uri": "https://localhost:8080/",
          "height": 281
        },
        "id": "lm9sMx_Uoae5",
        "outputId": "dcb4c0b5-dd8b-478a-9a4c-51151167801a"
      },
      "source": [
        "# Find the first and last ride for each start_station\n",
        "first_last <- dt_batrips[order(start_date), \n",
        "                      .(start_date = start_date[c(1, .N)]), \n",
        "                      by = start_station]\n",
        "first_last[1:6]"
      ],
      "execution_count": null,
      "outputs": [
        {
          "output_type": "display_data",
          "data": {
            "text/plain": [
              "  start_station           start_date         \n",
              "1 San Francisco City Hall 2014-01-01 00:14:00\n",
              "2 San Francisco City Hall 2014-12-31 22:06:00\n",
              "3 Embarcadero at Sansome  2014-01-01 00:17:00\n",
              "4 Embarcadero at Sansome  2014-12-31 22:08:00\n",
              "5 Steuart at Market       2014-01-01 00:23:00\n",
              "6 Steuart at Market       2014-12-31 16:59:00"
            ],
            "text/latex": "A data.table: 6 × 2\n\\begin{tabular}{ll}\n start\\_station & start\\_date\\\\\n <chr> & <dttm>\\\\\n\\hline\n\t San Francisco City Hall & 2014-01-01 00:14:00\\\\\n\t San Francisco City Hall & 2014-12-31 22:06:00\\\\\n\t Embarcadero at Sansome  & 2014-01-01 00:17:00\\\\\n\t Embarcadero at Sansome  & 2014-12-31 22:08:00\\\\\n\t Steuart at Market       & 2014-01-01 00:23:00\\\\\n\t Steuart at Market       & 2014-12-31 16:59:00\\\\\n\\end{tabular}\n",
            "text/markdown": "\nA data.table: 6 × 2\n\n| start_station &lt;chr&gt; | start_date &lt;dttm&gt; |\n|---|---|\n| San Francisco City Hall | 2014-01-01 00:14:00 |\n| San Francisco City Hall | 2014-12-31 22:06:00 |\n| Embarcadero at Sansome  | 2014-01-01 00:17:00 |\n| Embarcadero at Sansome  | 2014-12-31 22:08:00 |\n| Steuart at Market       | 2014-01-01 00:23:00 |\n| Steuart at Market       | 2014-12-31 16:59:00 |\n\n",
            "text/html": [
              "<table class=\"dataframe\">\n",
              "<caption>A data.table: 6 × 2</caption>\n",
              "<thead>\n",
              "\t<tr><th scope=col>start_station</th><th scope=col>start_date</th></tr>\n",
              "\t<tr><th scope=col>&lt;chr&gt;</th><th scope=col>&lt;dttm&gt;</th></tr>\n",
              "</thead>\n",
              "<tbody>\n",
              "\t<tr><td>San Francisco City Hall</td><td>2014-01-01 00:14:00</td></tr>\n",
              "\t<tr><td>San Francisco City Hall</td><td>2014-12-31 22:06:00</td></tr>\n",
              "\t<tr><td>Embarcadero at Sansome </td><td>2014-01-01 00:17:00</td></tr>\n",
              "\t<tr><td>Embarcadero at Sansome </td><td>2014-12-31 22:08:00</td></tr>\n",
              "\t<tr><td>Steuart at Market      </td><td>2014-01-01 00:23:00</td></tr>\n",
              "\t<tr><td>Steuart at Market      </td><td>2014-12-31 16:59:00</td></tr>\n",
              "</tbody>\n",
              "</table>\n"
            ]
          },
          "metadata": {
            "tags": []
          }
        }
      ]
    },
    {
      "cell_type": "markdown",
      "metadata": {
        "id": "xVnRB2bYr9Kf"
      },
      "source": [
        "# .SD"
      ]
    },
    {
      "cell_type": "markdown",
      "metadata": {
        "id": "9INczcmGu1oc"
      },
      "source": [
        "For each month, find the row corresponding to the shortest trip (by using which.min() on duration).\n",
        "The result should contain the month, start_station, end_station, start_date, end_date, and duration columns.\n"
      ]
    },
    {
      "cell_type": "code",
      "metadata": {
        "colab": {
          "base_uri": "https://localhost:8080/",
          "height": 673
        },
        "id": "wr6qCTqAr_SA",
        "outputId": "df5e1ab0-be64-4e30-8562-4088a36f4a12"
      },
      "source": [
        "\n",
        "relevant_cols <- c(\"start_station\", \"end_station\", \n",
        "                   \"start_date\", \"end_date\", \"duration\")\n",
        "\n",
        "# Find the row corresponding to the shortest trip per month\n",
        "shortest <- dt_batrips[, .SD[which.min(duration)], \n",
        "                    by = month(start_date), \n",
        "                    .SDcols = relevant_cols]\n",
        "shortest"
      ],
      "execution_count": null,
      "outputs": [
        {
          "output_type": "display_data",
          "data": {
            "text/plain": [
              "   month start_station                                \n",
              "1   1    2nd at Townsend                              \n",
              "2   2    San Francisco Caltrain (Townsend at 4th)     \n",
              "3   3    Mechanics Plaza (Market at Battery)          \n",
              "4   4    South Van Ness at Market                     \n",
              "5   5    Market at 10th                               \n",
              "6   6    Powell Street BART                           \n",
              "7   7    Powell Street BART                           \n",
              "8   8    Broadway St at Battery St                    \n",
              "9   9    Civic Center BART (7th at Market)            \n",
              "10 10    Yerba Buena Center of the Arts (3rd @ Howard)\n",
              "11 11    Temporary Transbay Terminal (Howard at Beale)\n",
              "12 12    2nd at South Park                            \n",
              "   end_station                                   start_date         \n",
              "1  2nd at Townsend                               2014-01-21 13:01:00\n",
              "2  San Francisco Caltrain (Townsend at 4th)      2014-02-08 14:28:00\n",
              "3  Mechanics Plaza (Market at Battery)           2014-03-18 17:50:00\n",
              "4  South Van Ness at Market                      2014-04-12 04:28:00\n",
              "5  Market at 10th                                2014-05-14 20:11:00\n",
              "6  Powell Street BART                            2014-06-23 17:31:00\n",
              "7  Powell Street BART                            2014-07-14 14:09:00\n",
              "8  Broadway St at Battery St                     2014-08-15 15:15:00\n",
              "9  Civic Center BART (7th at Market)             2014-09-04 10:53:00\n",
              "10 Yerba Buena Center of the Arts (3rd @ Howard) 2014-10-04 19:21:00\n",
              "11 Temporary Transbay Terminal (Howard at Beale) 2014-11-07 09:45:00\n",
              "12 2nd at South Park                             2014-12-08 11:38:00\n",
              "   end_date            duration\n",
              "1  2014-01-21 13:02:00 60      \n",
              "2  2014-02-08 14:29:00 61      \n",
              "3  2014-03-18 17:51:00 60      \n",
              "4  2014-04-12 04:29:00 61      \n",
              "5  2014-05-14 20:12:00 60      \n",
              "6  2014-06-23 17:32:00 60      \n",
              "7  2014-07-14 14:10:00 60      \n",
              "8  2014-08-15 15:16:00 60      \n",
              "9  2014-09-04 10:54:00 60      \n",
              "10 2014-10-04 19:22:00 60      \n",
              "11 2014-11-07 09:46:00 60      \n",
              "12 2014-12-08 11:39:00 60      "
            ],
            "text/latex": "A data.table: 12 × 6\n\\begin{tabular}{llllll}\n month & start\\_station & end\\_station & start\\_date & end\\_date & duration\\\\\n <int> & <chr> & <chr> & <dttm> & <dttm> & <int>\\\\\n\\hline\n\t  1 & 2nd at Townsend                               & 2nd at Townsend                               & 2014-01-21 13:01:00 & 2014-01-21 13:02:00 & 60\\\\\n\t  2 & San Francisco Caltrain (Townsend at 4th)      & San Francisco Caltrain (Townsend at 4th)      & 2014-02-08 14:28:00 & 2014-02-08 14:29:00 & 61\\\\\n\t  3 & Mechanics Plaza (Market at Battery)           & Mechanics Plaza (Market at Battery)           & 2014-03-18 17:50:00 & 2014-03-18 17:51:00 & 60\\\\\n\t  4 & South Van Ness at Market                      & South Van Ness at Market                      & 2014-04-12 04:28:00 & 2014-04-12 04:29:00 & 61\\\\\n\t  5 & Market at 10th                                & Market at 10th                                & 2014-05-14 20:11:00 & 2014-05-14 20:12:00 & 60\\\\\n\t  6 & Powell Street BART                            & Powell Street BART                            & 2014-06-23 17:31:00 & 2014-06-23 17:32:00 & 60\\\\\n\t  7 & Powell Street BART                            & Powell Street BART                            & 2014-07-14 14:09:00 & 2014-07-14 14:10:00 & 60\\\\\n\t  8 & Broadway St at Battery St                     & Broadway St at Battery St                     & 2014-08-15 15:15:00 & 2014-08-15 15:16:00 & 60\\\\\n\t  9 & Civic Center BART (7th at Market)             & Civic Center BART (7th at Market)             & 2014-09-04 10:53:00 & 2014-09-04 10:54:00 & 60\\\\\n\t 10 & Yerba Buena Center of the Arts (3rd @ Howard) & Yerba Buena Center of the Arts (3rd @ Howard) & 2014-10-04 19:21:00 & 2014-10-04 19:22:00 & 60\\\\\n\t 11 & Temporary Transbay Terminal (Howard at Beale) & Temporary Transbay Terminal (Howard at Beale) & 2014-11-07 09:45:00 & 2014-11-07 09:46:00 & 60\\\\\n\t 12 & 2nd at South Park                             & 2nd at South Park                             & 2014-12-08 11:38:00 & 2014-12-08 11:39:00 & 60\\\\\n\\end{tabular}\n",
            "text/markdown": "\nA data.table: 12 × 6\n\n| month &lt;int&gt; | start_station &lt;chr&gt; | end_station &lt;chr&gt; | start_date &lt;dttm&gt; | end_date &lt;dttm&gt; | duration &lt;int&gt; |\n|---|---|---|---|---|---|\n|  1 | 2nd at Townsend                               | 2nd at Townsend                               | 2014-01-21 13:01:00 | 2014-01-21 13:02:00 | 60 |\n|  2 | San Francisco Caltrain (Townsend at 4th)      | San Francisco Caltrain (Townsend at 4th)      | 2014-02-08 14:28:00 | 2014-02-08 14:29:00 | 61 |\n|  3 | Mechanics Plaza (Market at Battery)           | Mechanics Plaza (Market at Battery)           | 2014-03-18 17:50:00 | 2014-03-18 17:51:00 | 60 |\n|  4 | South Van Ness at Market                      | South Van Ness at Market                      | 2014-04-12 04:28:00 | 2014-04-12 04:29:00 | 61 |\n|  5 | Market at 10th                                | Market at 10th                                | 2014-05-14 20:11:00 | 2014-05-14 20:12:00 | 60 |\n|  6 | Powell Street BART                            | Powell Street BART                            | 2014-06-23 17:31:00 | 2014-06-23 17:32:00 | 60 |\n|  7 | Powell Street BART                            | Powell Street BART                            | 2014-07-14 14:09:00 | 2014-07-14 14:10:00 | 60 |\n|  8 | Broadway St at Battery St                     | Broadway St at Battery St                     | 2014-08-15 15:15:00 | 2014-08-15 15:16:00 | 60 |\n|  9 | Civic Center BART (7th at Market)             | Civic Center BART (7th at Market)             | 2014-09-04 10:53:00 | 2014-09-04 10:54:00 | 60 |\n| 10 | Yerba Buena Center of the Arts (3rd @ Howard) | Yerba Buena Center of the Arts (3rd @ Howard) | 2014-10-04 19:21:00 | 2014-10-04 19:22:00 | 60 |\n| 11 | Temporary Transbay Terminal (Howard at Beale) | Temporary Transbay Terminal (Howard at Beale) | 2014-11-07 09:45:00 | 2014-11-07 09:46:00 | 60 |\n| 12 | 2nd at South Park                             | 2nd at South Park                             | 2014-12-08 11:38:00 | 2014-12-08 11:39:00 | 60 |\n\n",
            "text/html": [
              "<table class=\"dataframe\">\n",
              "<caption>A data.table: 12 × 6</caption>\n",
              "<thead>\n",
              "\t<tr><th scope=col>month</th><th scope=col>start_station</th><th scope=col>end_station</th><th scope=col>start_date</th><th scope=col>end_date</th><th scope=col>duration</th></tr>\n",
              "\t<tr><th scope=col>&lt;int&gt;</th><th scope=col>&lt;chr&gt;</th><th scope=col>&lt;chr&gt;</th><th scope=col>&lt;dttm&gt;</th><th scope=col>&lt;dttm&gt;</th><th scope=col>&lt;int&gt;</th></tr>\n",
              "</thead>\n",
              "<tbody>\n",
              "\t<tr><td> 1</td><td>2nd at Townsend                              </td><td>2nd at Townsend                              </td><td>2014-01-21 13:01:00</td><td>2014-01-21 13:02:00</td><td>60</td></tr>\n",
              "\t<tr><td> 2</td><td>San Francisco Caltrain (Townsend at 4th)     </td><td>San Francisco Caltrain (Townsend at 4th)     </td><td>2014-02-08 14:28:00</td><td>2014-02-08 14:29:00</td><td>61</td></tr>\n",
              "\t<tr><td> 3</td><td>Mechanics Plaza (Market at Battery)          </td><td>Mechanics Plaza (Market at Battery)          </td><td>2014-03-18 17:50:00</td><td>2014-03-18 17:51:00</td><td>60</td></tr>\n",
              "\t<tr><td> 4</td><td>South Van Ness at Market                     </td><td>South Van Ness at Market                     </td><td>2014-04-12 04:28:00</td><td>2014-04-12 04:29:00</td><td>61</td></tr>\n",
              "\t<tr><td> 5</td><td>Market at 10th                               </td><td>Market at 10th                               </td><td>2014-05-14 20:11:00</td><td>2014-05-14 20:12:00</td><td>60</td></tr>\n",
              "\t<tr><td> 6</td><td>Powell Street BART                           </td><td>Powell Street BART                           </td><td>2014-06-23 17:31:00</td><td>2014-06-23 17:32:00</td><td>60</td></tr>\n",
              "\t<tr><td> 7</td><td>Powell Street BART                           </td><td>Powell Street BART                           </td><td>2014-07-14 14:09:00</td><td>2014-07-14 14:10:00</td><td>60</td></tr>\n",
              "\t<tr><td> 8</td><td>Broadway St at Battery St                    </td><td>Broadway St at Battery St                    </td><td>2014-08-15 15:15:00</td><td>2014-08-15 15:16:00</td><td>60</td></tr>\n",
              "\t<tr><td> 9</td><td>Civic Center BART (7th at Market)            </td><td>Civic Center BART (7th at Market)            </td><td>2014-09-04 10:53:00</td><td>2014-09-04 10:54:00</td><td>60</td></tr>\n",
              "\t<tr><td>10</td><td>Yerba Buena Center of the Arts (3rd @ Howard)</td><td>Yerba Buena Center of the Arts (3rd @ Howard)</td><td>2014-10-04 19:21:00</td><td>2014-10-04 19:22:00</td><td>60</td></tr>\n",
              "\t<tr><td>11</td><td>Temporary Transbay Terminal (Howard at Beale)</td><td>Temporary Transbay Terminal (Howard at Beale)</td><td>2014-11-07 09:45:00</td><td>2014-11-07 09:46:00</td><td>60</td></tr>\n",
              "\t<tr><td>12</td><td>2nd at South Park                            </td><td>2nd at South Park                            </td><td>2014-12-08 11:38:00</td><td>2014-12-08 11:39:00</td><td>60</td></tr>\n",
              "</tbody>\n",
              "</table>\n"
            ]
          },
          "metadata": {
            "tags": []
          }
        }
      ]
    },
    {
      "cell_type": "markdown",
      "metadata": {
        "id": "pKmTT2dAvKh9"
      },
      "source": [
        "# Using .SD (II)\n",
        "You can also apply a single function to every column specified in .SDcols using lapply(). In this exercise, you will calculate the number of unique start stations and zip codes for each month using uniqueN(). uniqueN() returns the number of unique elements in a column/vector/data.table.# "
      ]
    },
    {
      "cell_type": "code",
      "metadata": {
        "colab": {
          "base_uri": "https://localhost:8080/",
          "height": 465
        },
        "id": "4S49j6QmvK1m",
        "outputId": "3344173e-d57b-442d-f4b0-28eb563a5597"
      },
      "source": [
        "# Find the total number of unique start stations and zip codes per month\n",
        "unique_station_month <- dt_batrips[, lapply(.SD, uniqueN), \n",
        "                                by = month(start_date), \n",
        "                                .SDcols = c(\"start_station\", \"zip_code\")]\n",
        "unique_station_month"
      ],
      "execution_count": null,
      "outputs": [
        {
          "output_type": "display_data",
          "data": {
            "text/plain": [
              "   month start_station zip_code\n",
              "1   1    68             710    \n",
              "2   2    69             591    \n",
              "3   3    69             894    \n",
              "4   4    70             895    \n",
              "5   5    70            1073    \n",
              "6   6    70            1028    \n",
              "7   7    70            1068    \n",
              "8   8    70            1184    \n",
              "9   9    70             971    \n",
              "10 10    70             991    \n",
              "11 11    70             769    \n",
              "12 12    68             586    "
            ],
            "text/latex": "A data.table: 12 × 3\n\\begin{tabular}{lll}\n month & start\\_station & zip\\_code\\\\\n <int> & <int> & <int>\\\\\n\\hline\n\t  1 & 68 &  710\\\\\n\t  2 & 69 &  591\\\\\n\t  3 & 69 &  894\\\\\n\t  4 & 70 &  895\\\\\n\t  5 & 70 & 1073\\\\\n\t  6 & 70 & 1028\\\\\n\t  7 & 70 & 1068\\\\\n\t  8 & 70 & 1184\\\\\n\t  9 & 70 &  971\\\\\n\t 10 & 70 &  991\\\\\n\t 11 & 70 &  769\\\\\n\t 12 & 68 &  586\\\\\n\\end{tabular}\n",
            "text/markdown": "\nA data.table: 12 × 3\n\n| month &lt;int&gt; | start_station &lt;int&gt; | zip_code &lt;int&gt; |\n|---|---|---|\n|  1 | 68 |  710 |\n|  2 | 69 |  591 |\n|  3 | 69 |  894 |\n|  4 | 70 |  895 |\n|  5 | 70 | 1073 |\n|  6 | 70 | 1028 |\n|  7 | 70 | 1068 |\n|  8 | 70 | 1184 |\n|  9 | 70 |  971 |\n| 10 | 70 |  991 |\n| 11 | 70 |  769 |\n| 12 | 68 |  586 |\n\n",
            "text/html": [
              "<table class=\"dataframe\">\n",
              "<caption>A data.table: 12 × 3</caption>\n",
              "<thead>\n",
              "\t<tr><th scope=col>month</th><th scope=col>start_station</th><th scope=col>zip_code</th></tr>\n",
              "\t<tr><th scope=col>&lt;int&gt;</th><th scope=col>&lt;int&gt;</th><th scope=col>&lt;int&gt;</th></tr>\n",
              "</thead>\n",
              "<tbody>\n",
              "\t<tr><td> 1</td><td>68</td><td> 710</td></tr>\n",
              "\t<tr><td> 2</td><td>69</td><td> 591</td></tr>\n",
              "\t<tr><td> 3</td><td>69</td><td> 894</td></tr>\n",
              "\t<tr><td> 4</td><td>70</td><td> 895</td></tr>\n",
              "\t<tr><td> 5</td><td>70</td><td>1073</td></tr>\n",
              "\t<tr><td> 6</td><td>70</td><td>1028</td></tr>\n",
              "\t<tr><td> 7</td><td>70</td><td>1068</td></tr>\n",
              "\t<tr><td> 8</td><td>70</td><td>1184</td></tr>\n",
              "\t<tr><td> 9</td><td>70</td><td> 971</td></tr>\n",
              "\t<tr><td>10</td><td>70</td><td> 991</td></tr>\n",
              "\t<tr><td>11</td><td>70</td><td> 769</td></tr>\n",
              "\t<tr><td>12</td><td>68</td><td> 586</td></tr>\n",
              "</tbody>\n",
              "</table>\n"
            ]
          },
          "metadata": {
            "tags": []
          }
        }
      ]
    },
    {
      "cell_type": "markdown",
      "metadata": {
        "id": "c2OHRZdPwuNQ"
      },
      "source": [
        "# Efficient way of updating columns\n",
        "\n",
        "data table uses a new operator := to add/update/delete columns"
      ]
    },
    {
      "cell_type": "code",
      "metadata": {
        "id": "0G6uSMecv88_",
        "colab": {
          "base_uri": "https://localhost:8080/",
          "height": 182
        },
        "outputId": "af8e9e6c-27e4-4097-cfe7-383e3a449651"
      },
      "source": [
        "head(dt_batrips,1)"
      ],
      "execution_count": 10,
      "outputs": [
        {
          "output_type": "display_data",
          "data": {
            "text/plain": [
              "  trip_id duration start_date          start_station           start_terminal\n",
              "1 139545  435      2014-01-01 00:14:00 San Francisco City Hall 58            \n",
              "  end_date            end_station     end_terminal bike_id subscription_type\n",
              "1 2014-01-01 00:21:00 Townsend at 7th 65           473     Subscriber       \n",
              "  zip_code\n",
              "1 94612   "
            ],
            "text/latex": "A data.table: 1 × 11\n\\begin{tabular}{lllllllllll}\n trip\\_id & duration & start\\_date & start\\_station & start\\_terminal & end\\_date & end\\_station & end\\_terminal & bike\\_id & subscription\\_type & zip\\_code\\\\\n <int> & <int> & <dttm> & <chr> & <int> & <dttm> & <chr> & <int> & <int> & <chr> & <chr>\\\\\n\\hline\n\t 139545 & 435 & 2014-01-01 00:14:00 & San Francisco City Hall & 58 & 2014-01-01 00:21:00 & Townsend at 7th & 65 & 473 & Subscriber & 94612\\\\\n\\end{tabular}\n",
            "text/markdown": "\nA data.table: 1 × 11\n\n| trip_id &lt;int&gt; | duration &lt;int&gt; | start_date &lt;dttm&gt; | start_station &lt;chr&gt; | start_terminal &lt;int&gt; | end_date &lt;dttm&gt; | end_station &lt;chr&gt; | end_terminal &lt;int&gt; | bike_id &lt;int&gt; | subscription_type &lt;chr&gt; | zip_code &lt;chr&gt; |\n|---|---|---|---|---|---|---|---|---|---|---|\n| 139545 | 435 | 2014-01-01 00:14:00 | San Francisco City Hall | 58 | 2014-01-01 00:21:00 | Townsend at 7th | 65 | 473 | Subscriber | 94612 |\n\n",
            "text/html": [
              "<table class=\"dataframe\">\n",
              "<caption>A data.table: 1 × 11</caption>\n",
              "<thead>\n",
              "\t<tr><th scope=col>trip_id</th><th scope=col>duration</th><th scope=col>start_date</th><th scope=col>start_station</th><th scope=col>start_terminal</th><th scope=col>end_date</th><th scope=col>end_station</th><th scope=col>end_terminal</th><th scope=col>bike_id</th><th scope=col>subscription_type</th><th scope=col>zip_code</th></tr>\n",
              "\t<tr><th scope=col>&lt;int&gt;</th><th scope=col>&lt;int&gt;</th><th scope=col>&lt;dttm&gt;</th><th scope=col>&lt;chr&gt;</th><th scope=col>&lt;int&gt;</th><th scope=col>&lt;dttm&gt;</th><th scope=col>&lt;chr&gt;</th><th scope=col>&lt;int&gt;</th><th scope=col>&lt;int&gt;</th><th scope=col>&lt;chr&gt;</th><th scope=col>&lt;chr&gt;</th></tr>\n",
              "</thead>\n",
              "<tbody>\n",
              "\t<tr><td>139545</td><td>435</td><td>2014-01-01 00:14:00</td><td>San Francisco City Hall</td><td>58</td><td>2014-01-01 00:21:00</td><td>Townsend at 7th</td><td>65</td><td>473</td><td>Subscriber</td><td>94612</td></tr>\n",
              "</tbody>\n",
              "</table>\n"
            ]
          },
          "metadata": {
            "tags": []
          }
        }
      ]
    },
    {
      "cell_type": "markdown",
      "metadata": {
        "id": "f2KdPE_loCps"
      },
      "source": [
        "## Adding a new column"
      ]
    },
    {
      "cell_type": "code",
      "metadata": {
        "id": "Wbkc3GrJoFHB"
      },
      "source": [
        "# Add a new column duration_hour to batrips by reference, by dividing the duration column by 3600.\n",
        "\n",
        "dt_batrips[, duration_hour := duration / 3600]"
      ],
      "execution_count": 11,
      "outputs": []
    },
    {
      "cell_type": "markdown",
      "metadata": {
        "id": "Hn744Go7pcWO"
      },
      "source": [
        "## Updating an observation"
      ]
    },
    {
      "cell_type": "markdown",
      "metadata": {
        "id": "pKVPgKvAqYX_"
      },
      "source": [
        "### One value"
      ]
    },
    {
      "cell_type": "code",
      "metadata": {
        "id": "mzUe22lDpiyQ"
      },
      "source": [
        "# Change duration in first row of start_station using the LHS := RHS form\n",
        "dt_batrips[1, duration := 622]"
      ],
      "execution_count": 13,
      "outputs": []
    },
    {
      "cell_type": "markdown",
      "metadata": {
        "id": "8jMSJa-Op_qc"
      },
      "source": [
        "Updating data.tables is incredibly useful when you are cleaning data. Instead of creating several objects and cluttering up your workspace, you can modify your original data.table directly. This is both cleaner and faster!"
      ]
    },
    {
      "cell_type": "markdown",
      "metadata": {
        "id": "FwsaBFrjqZqW"
      },
      "source": [
        "### Updating all rows, filtering and changing"
      ]
    },
    {
      "cell_type": "code",
      "metadata": {
        "id": "wlhQo1E3qqoG"
      },
      "source": [
        "# Replace negative duration values with NA\n",
        "dt_batrips[duration < 0, duration := NA]"
      ],
      "execution_count": null,
      "outputs": []
    },
    {
      "cell_type": "markdown",
      "metadata": {
        "id": "4MSoKS5EsS_r"
      },
      "source": [
        "## Adding columns by group"
      ]
    },
    {
      "cell_type": "markdown",
      "metadata": {
        "id": "QdmKjRJcskpa"
      },
      "source": [
        "Add a new column by reference called trips_N that is equal to the total number of trips for every start_station.\n"
      ]
    },
    {
      "cell_type": "code",
      "metadata": {
        "id": "ImVErn2TsVM6"
      },
      "source": [
        "# Add a new column equal to total trips for every start station\n",
        "dt_batrips[, trips_N := .N, by = start_station]"
      ],
      "execution_count": 16,
      "outputs": []
    },
    {
      "cell_type": "markdown",
      "metadata": {
        "id": "8L2h4e21tKcm"
      },
      "source": [
        "Add a new column by reference called duration_mean that is equal to the mean duration of trips for each unique combination of start_station and end_station."
      ]
    },
    {
      "cell_type": "code",
      "metadata": {
        "id": "2vv4mK4otLB7"
      },
      "source": [
        "# Add new column for every start_station and end_station\n",
        "dt_batrips[, duration_mean := mean(duration), by = .(start_station, end_station)]"
      ],
      "execution_count": 20,
      "outputs": []
    },
    {
      "cell_type": "markdown",
      "metadata": {
        "id": "gSHStbkvtzCQ"
      },
      "source": [
        "The format should be: DT[, new_col := expr, by = .(col_1, col_2)]"
      ]
    },
    {
      "cell_type": "markdown",
      "metadata": {
        "id": "OjkmCQxZt_-2"
      },
      "source": [
        "## Updating columns by group"
      ]
    },
    {
      "cell_type": "markdown",
      "metadata": {
        "id": "9zS9c9zyuIEG"
      },
      "source": [
        "Add a new column (mean_dur) by reference that is the mean duration of all trips grouped by month (based on start_date). Note that the duration column has missing values."
      ]
    },
    {
      "cell_type": "code",
      "metadata": {
        "id": "KHj8xpdRuCBg"
      },
      "source": [
        "# Calculate the mean duration for each month\n",
        "dt_batrips[, mean_dur := mean(duration, na.rm = TRUE), by = month(start_date)]"
      ],
      "execution_count": 23,
      "outputs": []
    },
    {
      "cell_type": "markdown",
      "metadata": {
        "id": "2WkEAqEmvPmE"
      },
      "source": [
        "If the column has missing values: mean(duration, na.rm = TRUE)"
      ]
    },
    {
      "cell_type": "markdown",
      "metadata": {
        "id": "PigTrUc8vlyQ"
      },
      "source": [
        "Chain a new data.table expression that replaces all missing values in duration with the corresponding mean_dur value."
      ]
    },
    {
      "cell_type": "code",
      "metadata": {
        "id": "ja6xlHIrvlkZ"
      },
      "source": [
        "# Replace NA values in duration with the mean value of duration for that month\n",
        "dt_batrips[, mean_dur := mean(duration, na.rm = TRUE), \n",
        "            by = month(start_date)][is.na(duration), duration := mean_dur]"
      ],
      "execution_count": 25,
      "outputs": []
    },
    {
      "cell_type": "markdown",
      "metadata": {
        "id": "AFiB-Pk4wX_1"
      },
      "source": [
        "## Check for na values in column"
      ]
    },
    {
      "cell_type": "code",
      "metadata": {
        "colab": {
          "base_uri": "https://localhost:8080/",
          "height": 35
        },
        "id": "0ucPTekwwN1T",
        "outputId": "1ffe0544-ac82-45f3-e43e-7dcf35a0a6c9"
      },
      "source": [
        "sum(is.na(dt_batrips$duration))"
      ],
      "execution_count": 28,
      "outputs": [
        {
          "output_type": "display_data",
          "data": {
            "text/plain": [
              "[1] 0"
            ],
            "text/latex": "0",
            "text/markdown": "0",
            "text/html": [
              "0"
            ]
          },
          "metadata": {
            "tags": []
          }
        }
      ]
    },
    {
      "cell_type": "markdown",
      "metadata": {
        "id": "XMudLAxHwge6"
      },
      "source": [
        "## Delete column"
      ]
    },
    {
      "cell_type": "code",
      "metadata": {
        "id": "Q2T1FCLbwfeQ"
      },
      "source": [
        "# Delete the mean_dur column by reference\n",
        "dt_batrips[, mean_dur := mean(duration, na.rm = TRUE), \n",
        "            by = month(start_date)][is.na(duration), \n",
        "            duration := mean_dur][, mean_dur := NULL]"
      ],
      "execution_count": 34,
      "outputs": []
    },
    {
      "cell_type": "markdown",
      "metadata": {
        "id": "MsImgY7mzyKi"
      },
      "source": [
        "## Adding multiple columns (LHS := RHS form)"
      ]
    },
    {
      "cell_type": "code",
      "metadata": {
        "id": "cIx44a52z5di"
      },
      "source": [
        "# Add columns using the LHS := RHS form\n",
        "dt_batrips[, c(\"mean_duration\", \n",
        "            \"median_duration\") := .(mean(duration), median(duration)), \n",
        "        by = start_station]"
      ],
      "execution_count": null,
      "outputs": []
    },
    {
      "cell_type": "markdown",
      "metadata": {
        "id": "VO3NtsEn0OHO"
      },
      "source": [
        "## Adding multiple columns (functional form)"
      ]
    },
    {
      "cell_type": "code",
      "metadata": {
        "id": "5oRltlcC0OSt"
      },
      "source": [
        "# Add columns using the functional form\n",
        "dt_batrips[, `:=`(mean_duration = mean(duration), \n",
        "               median_duration = median(duration)), \n",
        "        by = start_station]"
      ],
      "execution_count": null,
      "outputs": []
    },
    {
      "cell_type": "markdown",
      "metadata": {
        "id": "tdsLTSVk0su9"
      },
      "source": [
        "## Combining filtering and adding columns\n"
      ]
    },
    {
      "cell_type": "markdown",
      "metadata": {
        "id": "xYNcFX3l0yMH"
      },
      "source": [
        "For all rows where duration is greater than 600, group batrips by start_station and end_station to add a new column (mean_duration) by reference which calculates the mean duration of all trips."
      ]
    },
    {
      "cell_type": "code",
      "metadata": {
        "id": "1bWq2MND0yvd"
      },
      "source": [
        "# Add the mean_duration column\n",
        "dt_batrips[duration>600, mean_duration := mean(duration), by = .(start_station, end_station)]"
      ],
      "execution_count": 37,
      "outputs": []
    },
    {
      "cell_type": "code",
      "metadata": {
        "colab": {
          "base_uri": "https://localhost:8080/",
          "height": 182
        },
        "id": "Tq-AD_RMpBua",
        "outputId": "a806ec19-995b-4dd5-8a26-f59a3e3b58c4"
      },
      "source": [
        "head(dt_batrips,1)"
      ],
      "execution_count": 38,
      "outputs": [
        {
          "output_type": "display_data",
          "data": {
            "text/plain": [
              "  trip_id duration start_date          start_station           start_terminal\n",
              "1 139545  622      2014-01-01 00:14:00 San Francisco City Hall 58            \n",
              "  end_date            end_station     end_terminal bike_id subscription_type\n",
              "1 2014-01-01 00:21:00 Townsend at 7th 65           473     Subscriber       \n",
              "  zip_code duration_hour trips_N duration_mean mean_duration\n",
              "1 94612    0.1208333     2145    680.1818      1297.219     "
            ],
            "text/latex": "A data.table: 1 × 15\n\\begin{tabular}{lllllllllllllll}\n trip\\_id & duration & start\\_date & start\\_station & start\\_terminal & end\\_date & end\\_station & end\\_terminal & bike\\_id & subscription\\_type & zip\\_code & duration\\_hour & trips\\_N & duration\\_mean & mean\\_duration\\\\\n <int> & <int> & <dttm> & <chr> & <int> & <dttm> & <chr> & <int> & <int> & <chr> & <chr> & <dbl> & <int> & <dbl> & <dbl>\\\\\n\\hline\n\t 139545 & 622 & 2014-01-01 00:14:00 & San Francisco City Hall & 58 & 2014-01-01 00:21:00 & Townsend at 7th & 65 & 473 & Subscriber & 94612 & 0.1208333 & 2145 & 680.1818 & 1297.219\\\\\n\\end{tabular}\n",
            "text/markdown": "\nA data.table: 1 × 15\n\n| trip_id &lt;int&gt; | duration &lt;int&gt; | start_date &lt;dttm&gt; | start_station &lt;chr&gt; | start_terminal &lt;int&gt; | end_date &lt;dttm&gt; | end_station &lt;chr&gt; | end_terminal &lt;int&gt; | bike_id &lt;int&gt; | subscription_type &lt;chr&gt; | zip_code &lt;chr&gt; | duration_hour &lt;dbl&gt; | trips_N &lt;int&gt; | duration_mean &lt;dbl&gt; | mean_duration &lt;dbl&gt; |\n|---|---|---|---|---|---|---|---|---|---|---|---|---|---|---|\n| 139545 | 622 | 2014-01-01 00:14:00 | San Francisco City Hall | 58 | 2014-01-01 00:21:00 | Townsend at 7th | 65 | 473 | Subscriber | 94612 | 0.1208333 | 2145 | 680.1818 | 1297.219 |\n\n",
            "text/html": [
              "<table class=\"dataframe\">\n",
              "<caption>A data.table: 1 × 15</caption>\n",
              "<thead>\n",
              "\t<tr><th scope=col>trip_id</th><th scope=col>duration</th><th scope=col>start_date</th><th scope=col>start_station</th><th scope=col>start_terminal</th><th scope=col>end_date</th><th scope=col>end_station</th><th scope=col>end_terminal</th><th scope=col>bike_id</th><th scope=col>subscription_type</th><th scope=col>zip_code</th><th scope=col>duration_hour</th><th scope=col>trips_N</th><th scope=col>duration_mean</th><th scope=col>mean_duration</th></tr>\n",
              "\t<tr><th scope=col>&lt;int&gt;</th><th scope=col>&lt;int&gt;</th><th scope=col>&lt;dttm&gt;</th><th scope=col>&lt;chr&gt;</th><th scope=col>&lt;int&gt;</th><th scope=col>&lt;dttm&gt;</th><th scope=col>&lt;chr&gt;</th><th scope=col>&lt;int&gt;</th><th scope=col>&lt;int&gt;</th><th scope=col>&lt;chr&gt;</th><th scope=col>&lt;chr&gt;</th><th scope=col>&lt;dbl&gt;</th><th scope=col>&lt;int&gt;</th><th scope=col>&lt;dbl&gt;</th><th scope=col>&lt;dbl&gt;</th></tr>\n",
              "</thead>\n",
              "<tbody>\n",
              "\t<tr><td>139545</td><td>622</td><td>2014-01-01 00:14:00</td><td>San Francisco City Hall</td><td>58</td><td>2014-01-01 00:21:00</td><td>Townsend at 7th</td><td>65</td><td>473</td><td>Subscriber</td><td>94612</td><td>0.1208333</td><td>2145</td><td>680.1818</td><td>1297.219</td></tr>\n",
              "</tbody>\n",
              "</table>\n"
            ]
          },
          "metadata": {
            "tags": []
          }
        }
      ]
    },
    {
      "cell_type": "markdown",
      "metadata": {
        "id": "Fh85vw2j1W0U"
      },
      "source": [
        "# Importing flat filer super fast"
      ]
    },
    {
      "cell_type": "markdown",
      "metadata": {
        "id": "FqhiVnxG--7E"
      },
      "source": [
        "much faster than read.csv()"
      ]
    },
    {
      "cell_type": "code",
      "metadata": {
        "id": "ani0bq4L1Y5v"
      },
      "source": [
        "fread(\"batrips.csv\")"
      ],
      "execution_count": null,
      "outputs": []
    },
    {
      "cell_type": "markdown",
      "metadata": {
        "id": "qysA_C2q_P6P"
      },
      "source": [
        "## Import with only some features / rows"
      ]
    },
    {
      "cell_type": "code",
      "metadata": {
        "id": "3hpnhtEM_S9Q"
      },
      "source": [
        "# Select \"id\" and \"val\" columns\n",
        "select_columns <- fread(\"sample.csv\", select = c(\"id\", \"val\"))\n",
        "\n",
        "# Drop the \"val\" column\n",
        "drop_column <- fread(url, drop = \"val\")\n",
        "\n",
        "# Import only the first 3 rows\n",
        "only_data <- fread(\"sample.csv\", nrows = 3)\n",
        "\n",
        "# Skip the first 7 rows.\n",
        "only_metadata <- fread(\"sample.csv\", skip = 7)"
      ],
      "execution_count": null,
      "outputs": []
    },
    {
      "cell_type": "markdown",
      "metadata": {
        "id": "rvPlRJi6BPq3"
      },
      "source": [
        "## Specifying column classes\n"
      ]
    },
    {
      "cell_type": "code",
      "metadata": {
        "id": "zyQNcoKhBQW2"
      },
      "source": [
        "# Import using read.csv\n",
        "read.csv(\"sample.csv\", \n",
        "                   colClasses = c(rep(\"factor\", 4), \n",
        "                                  \"character\", \"integer\", \n",
        "                                  rep(\"numeric\", 4)))\n",
        "\n",
        "\n",
        "# Import using fread\n",
        "fread(\"sample.csv\", colClasses = list(factor = 1:4, numeric = 7:10))\n"
      ],
      "execution_count": null,
      "outputs": []
    },
    {
      "cell_type": "markdown",
      "metadata": {
        "id": "pugFpM2IB2X_"
      },
      "source": [
        "## Dealing with empty and incomplete lines"
      ]
    },
    {
      "cell_type": "code",
      "metadata": {
        "id": "qkvdBUxBB3FR"
      },
      "source": [
        "# Import the file correctly with all values.\n",
        "fread(\"sample.csv\", fill = TRUE)"
      ],
      "execution_count": null,
      "outputs": []
    },
    {
      "cell_type": "markdown",
      "metadata": {
        "id": "_PH0Q6HJCMeg"
      },
      "source": [
        "### Dealing with missing values\n"
      ]
    },
    {
      "cell_type": "code",
      "metadata": {
        "id": "X9X3d70wCNIY"
      },
      "source": [
        "fread(\"sample.csv\", na.strings = c(\"##\", \"999\"))"
      ],
      "execution_count": null,
      "outputs": []
    },
    {
      "cell_type": "markdown",
      "metadata": {
        "id": "ZMYdXTxoCYoP"
      },
      "source": [
        "# Data writing (Saving data)"
      ]
    },
    {
      "cell_type": "code",
      "metadata": {
        "id": "kzniDBn4Ca3-"
      },
      "source": [
        "# Write dt to fwrite.txt\n",
        "fwrite(dt, \"fwrite.txt\")"
      ],
      "execution_count": null,
      "outputs": []
    },
    {
      "cell_type": "markdown",
      "metadata": {
        "id": "9b71moW9Dc3a"
      },
      "source": [
        "## Saving Datetime in ISO format"
      ]
    },
    {
      "cell_type": "code",
      "metadata": {
        "id": "c8N_jhBtDf82"
      },
      "source": [
        "# Write batrips_dates to file using \"ISO\" format\n",
        "fwrite(batrips_dates, \"iso.txt\", dateTimeAs = \"ISO\")"
      ],
      "execution_count": null,
      "outputs": []
    },
    {
      "cell_type": "markdown",
      "metadata": {
        "id": "7WmDOhLzDjgW"
      },
      "source": [
        "## Or squash datetime format as only integers (removing hyphen, colon, etc)"
      ]
    },
    {
      "cell_type": "code",
      "metadata": {
        "id": "M5NwhjP8Dod0"
      },
      "source": [
        "# Write batrips_dates to file using \"squash\" format\n",
        "fwrite(batrips_dates, \"squash.txt\", dateTimeAs = \"squash\")"
      ],
      "execution_count": null,
      "outputs": []
    }
  ]
}