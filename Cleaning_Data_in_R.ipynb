{
  "nbformat": 4,
  "nbformat_minor": 0,
  "metadata": {
    "colab": {
      "name": "Cleaning Data in R",
      "provenance": [],
      "collapsed_sections": [],
      "toc_visible": true,
      "include_colab_link": true
    },
    "kernelspec": {
      "name": "ir",
      "display_name": "R"
    }
  },
  "cells": [
    {
      "cell_type": "markdown",
      "metadata": {
        "id": "view-in-github",
        "colab_type": "text"
      },
      "source": [
        "<a href=\"https://colab.research.google.com/github/Ferrariagustinpablo/Data-Analytics-in-R/blob/main/Cleaning_Data_in_R.ipynb\" target=\"_parent\"><img src=\"https://colab.research.google.com/assets/colab-badge.svg\" alt=\"Open In Colab\"/></a>"
      ]
    },
    {
      "cell_type": "markdown",
      "metadata": {
        "id": "eFMdmtrW-yfI"
      },
      "source": [
        "Import libraries\n",
        "\n",
        "Importing and analyzing variable data types\n",
        "\n",
        "1) Data Type constraints\n",
        "\n",
        "  From numeric to factor\n",
        "\n",
        "  From string to numeric (trimming) Using stringr library\n",
        "\n",
        "\n",
        "2) Range constrains\n",
        "\n",
        "  Checking limits with filter\n",
        "\n",
        "  Checking value limits with assertive library\n",
        "\n",
        "  Using replace\n",
        "\n",
        "  Date limits using lubridate\n",
        "\n",
        "3) Uniqueness constraints (duplicated data)\n",
        "\n",
        "  Full duplicates\n",
        "\n",
        "  Partial duplicates\n",
        "\n",
        "  Removing partial duplicates\n",
        "\n",
        "  Aggregating partial duplicates\n",
        "\n",
        "4) Checking membership\n",
        "\n",
        "  Membership control on dest_size\n",
        "\n",
        "  Solving categorical data inconsistency white space\n",
        "\n",
        "  Solving categorical data inconsistency upper and lower cases\n",
        "\n",
        "  Collapsing categories\n",
        "\n",
        "5) Cleaning text data\n",
        "\n",
        "  Formatting inconsistencies\n",
        "\n",
        "  Removing symbols\n",
        "\n",
        "  Replacing symbols\n",
        "\n",
        "  Checking id length (important with phones, zip codes, and others)\n",
        "\n",
        "6) Uniformity\n",
        "\n",
        "  Date Uniformity (parsing different formats)\n",
        "\n",
        "  accounts dataset\n",
        "\n",
        "7) Cross field validation\n",
        "\n",
        "  validating age of account with open date - today's date\n",
        "\n",
        "8) Missing data\n",
        "\n",
        "  Analyze: Missing ar random, Not ar random, completely at random?\n",
        "\n",
        "  Drop (Filter to drop NAs)\n",
        "\n",
        "  Dropping and Impute with aggregated measure\n",
        "\n",
        "  9) Membership problem in strings: Comparing Strings. Remaping using string distance\n",
        "\n",
        "  Zagat databse\n",
        "\n",
        "  Fixing typos with string distance\n",
        "\n",
        "10) When joins don't work because of difference in strings on keys.\n",
        "  RECLIN library\n",
        "\n",
        "  a) Generate pairs.\n",
        "\n",
        "    All pairs\n",
        "\n",
        "    Blocking by city\n",
        "\n",
        "  b) Comparing pairs\n",
        "\n",
        "  c) Select pairs\n",
        "\n",
        "  d) Link\n"
      ]
    },
    {
      "cell_type": "markdown",
      "metadata": {
        "id": "cYE7mEi2ky38"
      },
      "source": [
        "# Import libraries"
      ]
    },
    {
      "cell_type": "code",
      "metadata": {
        "id": "RoD2lzL9Z3f_",
        "colab": {
          "base_uri": "https://localhost:8080/"
        },
        "outputId": "4ca369df-6267-4d37-bbeb-d5f49b467ce3"
      },
      "source": [
        "# Load  \n",
        "library(dplyr)\n",
        "library(ggplot2)\n",
        "library(tidyr)"
      ],
      "execution_count": 1,
      "outputs": [
        {
          "output_type": "stream",
          "text": [
            "\n",
            "Attaching package: ‘dplyr’\n",
            "\n",
            "\n",
            "The following objects are masked from ‘package:stats’:\n",
            "\n",
            "    filter, lag\n",
            "\n",
            "\n",
            "The following objects are masked from ‘package:base’:\n",
            "\n",
            "    intersect, setdiff, setequal, union\n",
            "\n",
            "\n"
          ],
          "name": "stderr"
        }
      ]
    },
    {
      "cell_type": "code",
      "metadata": {
        "id": "mRitoKKcFchJ",
        "colab": {
          "base_uri": "https://localhost:8080/"
        },
        "outputId": "504569ff-dc27-4c72-efa8-f4a4e23e0ad4"
      },
      "source": [
        "install.packages(\"data.table\")\n",
        "library(data.table)"
      ],
      "execution_count": 2,
      "outputs": [
        {
          "output_type": "stream",
          "text": [
            "Installing package into ‘/usr/local/lib/R/site-library’\n",
            "(as ‘lib’ is unspecified)\n",
            "\n",
            "\n",
            "Attaching package: ‘data.table’\n",
            "\n",
            "\n",
            "The following objects are masked from ‘package:dplyr’:\n",
            "\n",
            "    between, first, last\n",
            "\n",
            "\n"
          ],
          "name": "stderr"
        }
      ]
    },
    {
      "cell_type": "markdown",
      "metadata": {
        "id": "Yhzmt9DuOT1T"
      },
      "source": [
        "# Importing and analyzing variable data types"
      ]
    },
    {
      "cell_type": "markdown",
      "metadata": {
        "id": "pGfN2HMfN5B4"
      },
      "source": [
        "Downloaded from https://assets.datacamp.com/production/repositories/5698/datasets/5d0ed31a0b5c3a63a75cfca7d12c7f7fec1c7521/bike_share_rides_ch1_1.rds"
      ]
    },
    {
      "cell_type": "code",
      "metadata": {
        "colab": {
          "base_uri": "https://localhost:8080/",
          "height": 473
        },
        "id": "MlfUF8CO8Hy2",
        "outputId": "3111fad7-feb6-4492-d4f9-b57edd24ace3"
      },
      "source": [
        "bike_share_rides = readRDS('/content/bike_share_rides_ch1_1.rds')\n",
        "\n",
        "str(bike_share_rides)\n",
        "head(bike_share_rides,2)"
      ],
      "execution_count": null,
      "outputs": [
        {
          "output_type": "stream",
          "text": [
            "tibble [35,229 × 10] (S3: tbl_df/tbl/data.frame)\n",
            " $ ride_id        : int [1:35229] 52797 54540 87695 45619 70832 96135 29928 83331 72424 25910 ...\n",
            " $ date           : chr [1:35229] \"2017-04-15\" \"2017-04-19\" \"2017-04-14\" \"2017-04-03\" ...\n",
            " $ duration       : chr [1:35229] \"1316.15 minutes\" \"8.13 minutes\" \"24.85 minutes\" \"6.35 minutes\" ...\n",
            " $ station_A_id   : num [1:35229] 67 21 16 58 16 6 5 16 5 81 ...\n",
            " $ station_A_name : chr [1:35229] \"San Francisco Caltrain Station 2  (Townsend St at 4th St)\" \"Montgomery St BART Station (Market St at 2nd St)\" \"Steuart St at Market St\" \"Market St at 10th St\" ...\n",
            " $ station_B_id   : num [1:35229] 89 64 355 368 81 66 350 91 62 81 ...\n",
            " $ station_B_name : chr [1:35229] \"Division St at Potrero Ave\" \"5th St at Brannan St\" \"23rd St at Tennessee St\" \"Myrtle St at Polk St\" ...\n",
            " $ bike_id        : num [1:35229] 1974 860 2263 1417 507 ...\n",
            " $ user_gender    : chr [1:35229] \"Male\" \"Male\" \"Male\" \"Male\" ...\n",
            " $ user_birth_year: num [1:35229] 1972 1986 1993 1981 1981 ...\n"
          ],
          "name": "stdout"
        },
        {
          "output_type": "display_data",
          "data": {
            "text/plain": [
              "  ride_id date       duration        station_A_id\n",
              "1 52797   2017-04-15 1316.15 minutes 67          \n",
              "2 54540   2017-04-19 8.13 minutes    21          \n",
              "  station_A_name                                            station_B_id\n",
              "1 San Francisco Caltrain Station 2  (Townsend St at 4th St) 89          \n",
              "2 Montgomery St BART Station (Market St at 2nd St)          64          \n",
              "  station_B_name             bike_id user_gender user_birth_year\n",
              "1 Division St at Potrero Ave 1974    Male        1972           \n",
              "2 5th St at Brannan St        860    Male        1986           "
            ],
            "text/latex": "A tibble: 2 × 10\n\\begin{tabular}{llllllllll}\n ride\\_id & date & duration & station\\_A\\_id & station\\_A\\_name & station\\_B\\_id & station\\_B\\_name & bike\\_id & user\\_gender & user\\_birth\\_year\\\\\n <int> & <chr> & <chr> & <dbl> & <chr> & <dbl> & <chr> & <dbl> & <chr> & <dbl>\\\\\n\\hline\n\t 52797 & 2017-04-15 & 1316.15 minutes & 67 & San Francisco Caltrain Station 2  (Townsend St at 4th St) & 89 & Division St at Potrero Ave & 1974 & Male & 1972\\\\\n\t 54540 & 2017-04-19 & 8.13 minutes    & 21 & Montgomery St BART Station (Market St at 2nd St)          & 64 & 5th St at Brannan St       &  860 & Male & 1986\\\\\n\\end{tabular}\n",
            "text/markdown": "\nA tibble: 2 × 10\n\n| ride_id &lt;int&gt; | date &lt;chr&gt; | duration &lt;chr&gt; | station_A_id &lt;dbl&gt; | station_A_name &lt;chr&gt; | station_B_id &lt;dbl&gt; | station_B_name &lt;chr&gt; | bike_id &lt;dbl&gt; | user_gender &lt;chr&gt; | user_birth_year &lt;dbl&gt; |\n|---|---|---|---|---|---|---|---|---|---|\n| 52797 | 2017-04-15 | 1316.15 minutes | 67 | San Francisco Caltrain Station 2  (Townsend St at 4th St) | 89 | Division St at Potrero Ave | 1974 | Male | 1972 |\n| 54540 | 2017-04-19 | 8.13 minutes    | 21 | Montgomery St BART Station (Market St at 2nd St)          | 64 | 5th St at Brannan St       |  860 | Male | 1986 |\n\n",
            "text/html": [
              "<table class=\"dataframe\">\n",
              "<caption>A tibble: 2 × 10</caption>\n",
              "<thead>\n",
              "\t<tr><th scope=col>ride_id</th><th scope=col>date</th><th scope=col>duration</th><th scope=col>station_A_id</th><th scope=col>station_A_name</th><th scope=col>station_B_id</th><th scope=col>station_B_name</th><th scope=col>bike_id</th><th scope=col>user_gender</th><th scope=col>user_birth_year</th></tr>\n",
              "\t<tr><th scope=col>&lt;int&gt;</th><th scope=col>&lt;chr&gt;</th><th scope=col>&lt;chr&gt;</th><th scope=col>&lt;dbl&gt;</th><th scope=col>&lt;chr&gt;</th><th scope=col>&lt;dbl&gt;</th><th scope=col>&lt;chr&gt;</th><th scope=col>&lt;dbl&gt;</th><th scope=col>&lt;chr&gt;</th><th scope=col>&lt;dbl&gt;</th></tr>\n",
              "</thead>\n",
              "<tbody>\n",
              "\t<tr><td>52797</td><td>2017-04-15</td><td>1316.15 minutes</td><td>67</td><td>San Francisco Caltrain Station 2  (Townsend St at 4th St)</td><td>89</td><td>Division St at Potrero Ave</td><td>1974</td><td>Male</td><td>1972</td></tr>\n",
              "\t<tr><td>54540</td><td>2017-04-19</td><td>8.13 minutes   </td><td>21</td><td>Montgomery St BART Station (Market St at 2nd St)         </td><td>64</td><td>5th St at Brannan St      </td><td> 860</td><td>Male</td><td>1986</td></tr>\n",
              "</tbody>\n",
              "</table>\n"
            ]
          },
          "metadata": {
            "tags": []
          }
        }
      ]
    },
    {
      "cell_type": "markdown",
      "metadata": {
        "id": "5vDbaKJamHUq"
      },
      "source": [
        "# 1) Data Type constraints"
      ]
    },
    {
      "cell_type": "markdown",
      "metadata": {
        "id": "YdoYVgV6QaSu"
      },
      "source": [
        "## From numeric to factor"
      ]
    },
    {
      "cell_type": "code",
      "metadata": {
        "colab": {
          "base_uri": "https://localhost:8080/",
          "height": 52
        },
        "id": "IgV62XTxPDYi",
        "outputId": "5cd4327f-f418-44ae-a0b6-f697cc3ded9b"
      },
      "source": [
        "# Summary of user_birth_year\n",
        "summary(bike_share_rides$user_birth_year)"
      ],
      "execution_count": null,
      "outputs": [
        {
          "output_type": "display_data",
          "data": {
            "text/plain": [
              "   Min. 1st Qu.  Median    Mean 3rd Qu.    Max. \n",
              "   1900    1979    1986    1984    1991    2001 "
            ]
          },
          "metadata": {
            "tags": []
          }
        }
      ]
    },
    {
      "cell_type": "markdown",
      "metadata": {
        "id": "tlru55eWOvnb"
      },
      "source": [
        "user_birth_year may not be useful as numeric. That's why it will be used to transform as a factor (categorical variable)"
      ]
    },
    {
      "cell_type": "code",
      "metadata": {
        "colab": {
          "base_uri": "https://localhost:8080/",
          "height": 173
        },
        "id": "-AYU_aRVOYus",
        "outputId": "8dd86270-1d4f-4eb4-9e6b-a19197e03f4b"
      },
      "source": [
        "# Convert user_birth_year to factor: user_birth_year_fct\n",
        "bike_share_rides <- bike_share_rides %>%\n",
        "  mutate(user_birth_year_fct = as.factor(user_birth_year))\n",
        "\n",
        "# Summary of user_birth_year_fct\n",
        "summary(bike_share_rides$user_birth_year_fct)"
      ],
      "execution_count": null,
      "outputs": [
        {
          "output_type": "display_data",
          "data": {
            "text/plain": [
              "1900 1902 1923 1931 1938 1939 1941 1942 1943 1945 1946 1947 1948 1949 1950 1951 \n",
              "   1    7    2   23    2    1    3   10    4   16    5   24    9   30   37   25 \n",
              "1952 1953 1954 1955 1956 1957 1958 1959 1960 1961 1962 1963 1964 1965 1966 1967 \n",
              "  70   49   65   66  112   62  156   99  196  161  256  237  245  349  225  363 \n",
              "1968 1969 1970 1971 1972 1973 1974 1975 1976 1977 1978 1979 1980 1981 1982 1983 \n",
              " 365  331  370  548  529  527  563  601  481  541  775  876  825 1016 1056 1262 \n",
              "1984 1985 1986 1987 1988 1989 1990 1991 1992 1993 1994 1995 1996 1997 1998 1999 \n",
              "1157 1318 1606 1672 2135 1872 2062 1582 1703 1498 1476 1185  813  358  365  348 \n",
              "2000 2001 \n",
              " 473   30 "
            ],
            "text/latex": "\\begin{description*}\n\\item[1900] 1\n\\item[1902] 7\n\\item[1923] 2\n\\item[1931] 23\n\\item[1938] 2\n\\item[1939] 1\n\\item[1941] 3\n\\item[1942] 10\n\\item[1943] 4\n\\item[1945] 16\n\\item[1946] 5\n\\item[1947] 24\n\\item[1948] 9\n\\item[1949] 30\n\\item[1950] 37\n\\item[1951] 25\n\\item[1952] 70\n\\item[1953] 49\n\\item[1954] 65\n\\item[1955] 66\n\\item[1956] 112\n\\item[1957] 62\n\\item[1958] 156\n\\item[1959] 99\n\\item[1960] 196\n\\item[1961] 161\n\\item[1962] 256\n\\item[1963] 237\n\\item[1964] 245\n\\item[1965] 349\n\\item[1966] 225\n\\item[1967] 363\n\\item[1968] 365\n\\item[1969] 331\n\\item[1970] 370\n\\item[1971] 548\n\\item[1972] 529\n\\item[1973] 527\n\\item[1974] 563\n\\item[1975] 601\n\\item[1976] 481\n\\item[1977] 541\n\\item[1978] 775\n\\item[1979] 876\n\\item[1980] 825\n\\item[1981] 1016\n\\item[1982] 1056\n\\item[1983] 1262\n\\item[1984] 1157\n\\item[1985] 1318\n\\item[1986] 1606\n\\item[1987] 1672\n\\item[1988] 2135\n\\item[1989] 1872\n\\item[1990] 2062\n\\item[1991] 1582\n\\item[1992] 1703\n\\item[1993] 1498\n\\item[1994] 1476\n\\item[1995] 1185\n\\item[1996] 813\n\\item[1997] 358\n\\item[1998] 365\n\\item[1999] 348\n\\item[2000] 473\n\\item[2001] 30\n\\end{description*}\n",
            "text/markdown": "1900\n:   11902\n:   71923\n:   21931\n:   231938\n:   21939\n:   11941\n:   31942\n:   101943\n:   41945\n:   161946\n:   51947\n:   241948\n:   91949\n:   301950\n:   371951\n:   251952\n:   701953\n:   491954\n:   651955\n:   661956\n:   1121957\n:   621958\n:   1561959\n:   991960\n:   1961961\n:   1611962\n:   2561963\n:   2371964\n:   2451965\n:   3491966\n:   2251967\n:   3631968\n:   3651969\n:   3311970\n:   3701971\n:   5481972\n:   5291973\n:   5271974\n:   5631975\n:   6011976\n:   4811977\n:   5411978\n:   7751979\n:   8761980\n:   8251981\n:   10161982\n:   10561983\n:   12621984\n:   11571985\n:   13181986\n:   16061987\n:   16721988\n:   21351989\n:   18721990\n:   20621991\n:   15821992\n:   17031993\n:   14981994\n:   14761995\n:   11851996\n:   8131997\n:   3581998\n:   3651999\n:   3482000\n:   4732001\n:   30\n\n",
            "text/html": [
              "<style>\n",
              ".dl-inline {width: auto; margin:0; padding: 0}\n",
              ".dl-inline>dt, .dl-inline>dd {float: none; width: auto; display: inline-block}\n",
              ".dl-inline>dt::after {content: \":\\0020\"; padding-right: .5ex}\n",
              ".dl-inline>dt:not(:first-of-type) {padding-left: .5ex}\n",
              "</style><dl class=dl-inline><dt>1900</dt><dd>1</dd><dt>1902</dt><dd>7</dd><dt>1923</dt><dd>2</dd><dt>1931</dt><dd>23</dd><dt>1938</dt><dd>2</dd><dt>1939</dt><dd>1</dd><dt>1941</dt><dd>3</dd><dt>1942</dt><dd>10</dd><dt>1943</dt><dd>4</dd><dt>1945</dt><dd>16</dd><dt>1946</dt><dd>5</dd><dt>1947</dt><dd>24</dd><dt>1948</dt><dd>9</dd><dt>1949</dt><dd>30</dd><dt>1950</dt><dd>37</dd><dt>1951</dt><dd>25</dd><dt>1952</dt><dd>70</dd><dt>1953</dt><dd>49</dd><dt>1954</dt><dd>65</dd><dt>1955</dt><dd>66</dd><dt>1956</dt><dd>112</dd><dt>1957</dt><dd>62</dd><dt>1958</dt><dd>156</dd><dt>1959</dt><dd>99</dd><dt>1960</dt><dd>196</dd><dt>1961</dt><dd>161</dd><dt>1962</dt><dd>256</dd><dt>1963</dt><dd>237</dd><dt>1964</dt><dd>245</dd><dt>1965</dt><dd>349</dd><dt>1966</dt><dd>225</dd><dt>1967</dt><dd>363</dd><dt>1968</dt><dd>365</dd><dt>1969</dt><dd>331</dd><dt>1970</dt><dd>370</dd><dt>1971</dt><dd>548</dd><dt>1972</dt><dd>529</dd><dt>1973</dt><dd>527</dd><dt>1974</dt><dd>563</dd><dt>1975</dt><dd>601</dd><dt>1976</dt><dd>481</dd><dt>1977</dt><dd>541</dd><dt>1978</dt><dd>775</dd><dt>1979</dt><dd>876</dd><dt>1980</dt><dd>825</dd><dt>1981</dt><dd>1016</dd><dt>1982</dt><dd>1056</dd><dt>1983</dt><dd>1262</dd><dt>1984</dt><dd>1157</dd><dt>1985</dt><dd>1318</dd><dt>1986</dt><dd>1606</dd><dt>1987</dt><dd>1672</dd><dt>1988</dt><dd>2135</dd><dt>1989</dt><dd>1872</dd><dt>1990</dt><dd>2062</dd><dt>1991</dt><dd>1582</dd><dt>1992</dt><dd>1703</dd><dt>1993</dt><dd>1498</dd><dt>1994</dt><dd>1476</dd><dt>1995</dt><dd>1185</dd><dt>1996</dt><dd>813</dd><dt>1997</dt><dd>358</dd><dt>1998</dt><dd>365</dd><dt>1999</dt><dd>348</dd><dt>2000</dt><dd>473</dd><dt>2001</dt><dd>30</dd></dl>\n"
            ]
          },
          "metadata": {
            "tags": []
          }
        }
      ]
    },
    {
      "cell_type": "markdown",
      "metadata": {
        "id": "bzVOcqhaQnII"
      },
      "source": [
        "## From string to numeric (trimming) Using stringr library"
      ]
    },
    {
      "cell_type": "code",
      "metadata": {
        "colab": {
          "base_uri": "https://localhost:8080/",
          "height": 35
        },
        "id": "uPY_lU3gQ_8z",
        "outputId": "ab9de5cb-4511-4555-fc88-c41fd9b7428f"
      },
      "source": [
        "bike_share_rides$duration[1]"
      ],
      "execution_count": null,
      "outputs": [
        {
          "output_type": "display_data",
          "data": {
            "text/plain": [
              "[1] \"1316.15 minutes\""
            ],
            "text/latex": "'1316.15 minutes'",
            "text/markdown": "'1316.15 minutes'",
            "text/html": [
              "'1316.15 minutes'"
            ]
          },
          "metadata": {
            "tags": []
          }
        }
      ]
    },
    {
      "cell_type": "markdown",
      "metadata": {
        "id": "m6nXAAgiREFI"
      },
      "source": [
        "We need to trimm word \"minutes\" to just leave numeric value."
      ]
    },
    {
      "cell_type": "code",
      "metadata": {
        "id": "INYFKjuyRN0N"
      },
      "source": [
        "library(stringr)"
      ],
      "execution_count": null,
      "outputs": []
    },
    {
      "cell_type": "code",
      "metadata": {
        "colab": {
          "base_uri": "https://localhost:8080/",
          "height": 35
        },
        "id": "eq7E462rQKgQ",
        "outputId": "00b192ea-56af-4093-a3ae-6549c14e0b8d"
      },
      "source": [
        "bike_share_rides <- bike_share_rides %>%\n",
        "  # Remove 'minutes' from duration: duration_trimmed\n",
        "  mutate(duration_mins = as.numeric(str_remove(duration, \"minutes\")))\n",
        "\n",
        "# Calculate mean duration\n",
        "mean(bike_share_rides$duration_mins)"
      ],
      "execution_count": null,
      "outputs": [
        {
          "output_type": "display_data",
          "data": {
            "text/plain": [
              "[1] 13.06214"
            ],
            "text/latex": "13.062140849868",
            "text/markdown": "13.062140849868",
            "text/html": [
              "13.062140849868"
            ]
          },
          "metadata": {
            "tags": []
          }
        }
      ]
    },
    {
      "cell_type": "markdown",
      "metadata": {
        "id": "TdgKFNB9WQJj"
      },
      "source": [
        "# 2) Range constrains\n",
        "\n",
        "Handling out of range values"
      ]
    },
    {
      "cell_type": "code",
      "metadata": {
        "colab": {
          "base_uri": "https://localhost:8080/",
          "height": 52
        },
        "id": "4sMV1s6CSGrM",
        "outputId": "4ef91f2e-1412-4206-9750-8ddb4a21861c"
      },
      "source": [
        "# Check minimum and max of duration\n",
        "summary(bike_share_rides$duration_mins)"
      ],
      "execution_count": null,
      "outputs": [
        {
          "output_type": "display_data",
          "data": {
            "text/plain": [
              "   Min. 1st Qu.  Median    Mean 3rd Qu.    Max. \n",
              "   1.02    6.78    9.83   13.06   14.22 1316.15 "
            ]
          },
          "metadata": {
            "tags": []
          }
        }
      ]
    },
    {
      "cell_type": "markdown",
      "metadata": {
        "id": "RLtx07MYWyyK"
      },
      "source": [
        "If values were out of range, we can:\n",
        "\n",
        "- Remove rows\n",
        "\n",
        "- Treat as NA and then impute \n",
        "\n",
        "- Replace out of range values with the range limit.\n",
        "\n",
        "- Other number based on domain knowledge."
      ]
    },
    {
      "cell_type": "markdown",
      "metadata": {
        "id": "wIWhORI_fDPj"
      },
      "source": [
        "Let's say in practice there can't be a bike rented more than 20 hours or 1200 minutes of duration."
      ]
    },
    {
      "cell_type": "markdown",
      "metadata": {
        "id": "mTwRv9zcgjFz"
      },
      "source": [
        "## Checking limits with filter"
      ]
    },
    {
      "cell_type": "code",
      "metadata": {
        "colab": {
          "base_uri": "https://localhost:8080/",
          "height": 145
        },
        "id": "uQaS72nTfgwd",
        "outputId": "24864682-1616-4c00-b2b0-bc24766e3590"
      },
      "source": [
        "# Are there observations with a duration higher than 1200?\n",
        "bike_share_rides %>%\n",
        "  filter(duration_mins>1200 | duration_mins<0) %>%\n",
        "  count()"
      ],
      "execution_count": null,
      "outputs": [
        {
          "output_type": "display_data",
          "data": {
            "text/plain": [
              "  n\n",
              "1 2"
            ],
            "text/latex": "A tibble: 1 × 1\n\\begin{tabular}{l}\n n\\\\\n <int>\\\\\n\\hline\n\t 2\\\\\n\\end{tabular}\n",
            "text/markdown": "\nA tibble: 1 × 1\n\n| n &lt;int&gt; |\n|---|\n| 2 |\n\n",
            "text/html": [
              "<table class=\"dataframe\">\n",
              "<caption>A tibble: 1 × 1</caption>\n",
              "<thead>\n",
              "\t<tr><th scope=col>n</th></tr>\n",
              "\t<tr><th scope=col>&lt;int&gt;</th></tr>\n",
              "</thead>\n",
              "<tbody>\n",
              "\t<tr><td>2</td></tr>\n",
              "</tbody>\n",
              "</table>\n"
            ]
          },
          "metadata": {
            "tags": []
          }
        }
      ]
    },
    {
      "cell_type": "markdown",
      "metadata": {
        "id": "HYdzdNQQgfXR"
      },
      "source": [
        "## Checking value limits with assertive library"
      ]
    },
    {
      "cell_type": "code",
      "metadata": {
        "colab": {
          "base_uri": "https://localhost:8080/"
        },
        "id": "RjnIj4nEgVAH",
        "outputId": "f37b0314-1482-4599-a480-b9c425ccea21"
      },
      "source": [
        "install.packages(\"assertive\")"
      ],
      "execution_count": null,
      "outputs": [
        {
          "output_type": "stream",
          "text": [
            "Installing package into ‘/usr/local/lib/R/site-library’\n",
            "(as ‘lib’ is unspecified)\n",
            "\n",
            "also installing the dependencies ‘assertive.base’, ‘assertive.properties’, ‘assertive.types’, ‘assertive.numbers’, ‘assertive.strings’, ‘assertive.datetimes’, ‘assertive.files’, ‘assertive.sets’, ‘assertive.matrices’, ‘assertive.models’, ‘assertive.data’, ‘assertive.data.uk’, ‘assertive.data.us’, ‘assertive.reflection’, ‘assertive.code’\n",
            "\n",
            "\n"
          ],
          "name": "stderr"
        }
      ]
    },
    {
      "cell_type": "code",
      "metadata": {
        "colab": {
          "base_uri": "https://localhost:8080/",
          "height": 287
        },
        "id": "wqKb6-iogmKI",
        "outputId": "344aeca2-1576-432b-a9b5-e822408db2db"
      },
      "source": [
        "library(assertive)\n",
        "\n",
        "assert_all_are_in_closed_range(bike_share_rides$duration_mins,lower=0, upper=1200)"
      ],
      "execution_count": null,
      "outputs": [
        {
          "output_type": "error",
          "ename": "ERROR",
          "evalue": "ignored",
          "traceback": [
            "Error in eval(expr, envir, enclos): is_in_closed_range : bike_share_rides$duration_mins are not all in the range [0,1200].\nThere were 2 failures:\n  Position   Value    Cause\n1        1 1316.15 too high\n2     7475 1290.37 too high\nTraceback:\n",
            "1. assert_all_are_in_closed_range(bike_share_rides$duration_mins, \n .     lower = 0, upper = 1200)",
            "2. assert_engine(is_in_closed_range, x, lower = lower, upper = upper, \n .     .xname = .xname, msg = msg, na_ignore = na_ignore, severity = severity)",
            "3. give_feedback(handler_type, msg, predicate_name)"
          ]
        }
      ]
    },
    {
      "cell_type": "markdown",
      "metadata": {
        "id": "E3Q8J9YifWln"
      },
      "source": [
        "## Using replace\n",
        "\n",
        "replace(variable, condition, new value)"
      ]
    },
    {
      "cell_type": "markdown",
      "metadata": {
        "id": "7cK-2gT1f7bh"
      },
      "source": [
        "Now we replace those 2 observations out of range with limit values"
      ]
    },
    {
      "cell_type": "code",
      "metadata": {
        "id": "Q6OlRR63fQw9"
      },
      "source": [
        "# duration_min_const: replace vals of duration_min > 1200 with 1200\n",
        "bike_share_rides <- bike_share_rides %>%\n",
        "  mutate(duration_min_const = replace(duration_mins, duration_mins > 1200, 1200))\n"
      ],
      "execution_count": null,
      "outputs": []
    },
    {
      "cell_type": "code",
      "metadata": {
        "colab": {
          "base_uri": "https://localhost:8080/"
        },
        "id": "3tgkoTvSiPyP",
        "outputId": "17359310-c4ba-4450-d6e6-9d856a1616b5"
      },
      "source": [
        "str(bike_share_rides)"
      ],
      "execution_count": null,
      "outputs": [
        {
          "output_type": "stream",
          "text": [
            "tibble [35,229 × 13] (S3: tbl_df/tbl/data.frame)\n",
            " $ ride_id            : int [1:35229] 52797 54540 87695 45619 70832 96135 29928 83331 72424 25910 ...\n",
            " $ date               : chr [1:35229] \"2017-04-15\" \"2017-04-19\" \"2017-04-14\" \"2017-04-03\" ...\n",
            " $ duration           : chr [1:35229] \"1316.15 minutes\" \"8.13 minutes\" \"24.85 minutes\" \"6.35 minutes\" ...\n",
            " $ station_A_id       : num [1:35229] 67 21 16 58 16 6 5 16 5 81 ...\n",
            " $ station_A_name     : chr [1:35229] \"San Francisco Caltrain Station 2  (Townsend St at 4th St)\" \"Montgomery St BART Station (Market St at 2nd St)\" \"Steuart St at Market St\" \"Market St at 10th St\" ...\n",
            " $ station_B_id       : num [1:35229] 89 64 355 368 81 66 350 91 62 81 ...\n",
            " $ station_B_name     : chr [1:35229] \"Division St at Potrero Ave\" \"5th St at Brannan St\" \"23rd St at Tennessee St\" \"Myrtle St at Polk St\" ...\n",
            " $ bike_id            : num [1:35229] 1974 860 2263 1417 507 ...\n",
            " $ user_gender        : chr [1:35229] \"Male\" \"Male\" \"Male\" \"Male\" ...\n",
            " $ user_birth_year    : num [1:35229] 1972 1986 1993 1981 1981 ...\n",
            " $ user_birth_year_fct: Factor w/ 66 levels \"1900\",\"1902\",..: 37 51 58 46 46 53 58 61 58 61 ...\n",
            " $ duration_mins      : num [1:35229] 1316.15 8.13 24.85 6.35 9.8 ...\n",
            " $ duration_min_const : num [1:35229] 1200 8.13 24.85 6.35 9.8 ...\n"
          ],
          "name": "stdout"
        }
      ]
    },
    {
      "cell_type": "markdown",
      "metadata": {
        "id": "An12JWmViUa5"
      },
      "source": [
        "## Date limits using lubridate"
      ]
    },
    {
      "cell_type": "code",
      "metadata": {
        "colab": {
          "base_uri": "https://localhost:8080/"
        },
        "id": "vSGUwfWXe-w6",
        "outputId": "9c694648-e0b1-4156-edea-24990fb8ac06"
      },
      "source": [
        "library(lubridate)\n",
        "# Convert date to Date type\n",
        "bike_share_rides <- bike_share_rides %>%\n",
        "  mutate(date = as.Date(date))\n",
        "\n",
        "# Filter for rides that occurred before or on today's date\n",
        "bike_share_rides_past <- bike_share_rides %>%\n",
        "  filter(date <= today())\n",
        "\n",
        "# Make sure all dates from bike_share_rides_past are in the past\n",
        "assert_all_are_in_past(bike_share_rides_past$date)"
      ],
      "execution_count": null,
      "outputs": [
        {
          "output_type": "stream",
          "text": [
            "Warning message:\n",
            "“Coercing bike_share_rides_past$date to class ‘POSIXct’.”\n"
          ],
          "name": "stderr"
        }
      ]
    },
    {
      "cell_type": "markdown",
      "metadata": {
        "id": "YKNz4iG0mE6R"
      },
      "source": [
        "# 3) Uniqueness constraints (duplicated data)"
      ]
    },
    {
      "cell_type": "markdown",
      "metadata": {
        "id": "tWLrP-nVmneq"
      },
      "source": [
        "## Full duplicates"
      ]
    },
    {
      "cell_type": "markdown",
      "metadata": {
        "id": "EkNSjxCZn5ot"
      },
      "source": [
        "duplicated() to detect duplicated rows.\n",
        "\n",
        "The distinct() function from dplyr will remove the duplicates, keeping only the first instance."
      ]
    },
    {
      "cell_type": "code",
      "metadata": {
        "colab": {
          "base_uri": "https://localhost:8080/",
          "height": 35
        },
        "id": "EUH1DE7El4b8",
        "outputId": "679c0996-0b77-441b-a82b-08aec58cea4d"
      },
      "source": [
        "# Count the number of full duplicates\n",
        "sum(duplicated(bike_share_rides))\n",
        "\n",
        "# Remove duplicates\n",
        "bike_share_rides_unique <- distinct(bike_share_rides)"
      ],
      "execution_count": null,
      "outputs": [
        {
          "output_type": "display_data",
          "data": {
            "text/plain": [
              "[1] 0"
            ],
            "text/latex": "0",
            "text/markdown": "0",
            "text/html": [
              "0"
            ]
          },
          "metadata": {
            "tags": []
          }
        }
      ]
    },
    {
      "cell_type": "markdown",
      "metadata": {
        "id": "Avy0dX8tmpNJ"
      },
      "source": [
        "## Partial duplicates\n",
        "\n",
        "Some columns may be different"
      ]
    },
    {
      "cell_type": "code",
      "metadata": {
        "colab": {
          "base_uri": "https://localhost:8080/",
          "height": 97
        },
        "id": "krDplkqCmq5O",
        "outputId": "7b608e48-f186-4e18-cd05-45f5b568cb21"
      },
      "source": [
        "# Find duplicated ride_ids\n",
        "bike_share_rides %>% \n",
        "  # Count the number of occurrences of each ride_id\n",
        "  count(ride_id) %>% \n",
        "  # Filter for rows with a count > 1\n",
        "  filter(n > 1)"
      ],
      "execution_count": null,
      "outputs": [
        {
          "output_type": "display_data",
          "data": {
            "text/plain": [
              "     ride_id n"
            ],
            "text/latex": "A tibble: 0 × 2\n\\begin{tabular}{ll}\n ride\\_id & n\\\\\n <int> & <int>\\\\\n\\hline\n\\end{tabular}\n",
            "text/markdown": "\nA tibble: 0 × 2\n\n| ride_id &lt;int&gt; | n &lt;int&gt; |\n|---|---|\n\n",
            "text/html": [
              "<table class=\"dataframe\">\n",
              "<caption>A tibble: 0 × 2</caption>\n",
              "<thead>\n",
              "\t<tr><th scope=col>ride_id</th><th scope=col>n</th></tr>\n",
              "\t<tr><th scope=col>&lt;int&gt;</th><th scope=col>&lt;int&gt;</th></tr>\n",
              "</thead>\n",
              "<tbody>\n",
              "</tbody>\n",
              "</table>\n"
            ]
          },
          "metadata": {
            "tags": []
          }
        }
      ]
    },
    {
      "cell_type": "markdown",
      "metadata": {
        "id": "2MuPoJuTpfUo"
      },
      "source": [
        "### Removing partial duplicates"
      ]
    },
    {
      "cell_type": "markdown",
      "metadata": {
        "id": "XerQWUOIqv0F"
      },
      "source": [
        ".keep_all = TRUE means we keep all columns in dataframe."
      ]
    },
    {
      "cell_type": "code",
      "metadata": {
        "id": "XI4eY6dVpb-m"
      },
      "source": [
        "# Remove full and partial duplicates\n",
        "bike_share_rides_unique <- bike_share_rides %>%\n",
        "  # Only based on ride_id instead of all cols\n",
        "  distinct(ride_id, .keep_all = TRUE)"
      ],
      "execution_count": null,
      "outputs": []
    },
    {
      "cell_type": "code",
      "metadata": {
        "id": "XpHbyintpkTG"
      },
      "source": [
        "# Remove full and partial duplicates base on two columns\n",
        "bike_share_rides_unique <- bike_share_rides %>%\n",
        "  # base on ride_id and station_A_id \n",
        "  distinct(ride_id, station_A_id, .keep_all = TRUE)\n"
      ],
      "execution_count": null,
      "outputs": []
    },
    {
      "cell_type": "markdown",
      "metadata": {
        "id": "-39XwcVoqmUH"
      },
      "source": [
        "### Aggregating partial duplicates\n",
        "Another way of handling partial duplicates is to compute a summary statistic of the values that differ between partial duplicates, such as mean, median, maximum, or minimum. This can come in handy when you're not sure how your data was collected and want an average, or if based on domain knowledge, you'd rather have too high of an estimate than too low of an estimate (or vice versa)."
      ]
    },
    {
      "cell_type": "code",
      "metadata": {
        "id": "gsf88hLnqoNI"
      },
      "source": [
        "bike_share_rides %>%\n",
        "  # Group by ride_id and date\n",
        "  group_by(ride_id, date) %>%\n",
        "  # Add duration_min_avg column\n",
        "  mutate(duration_min_avg = mean(duration_min)) %>%\n",
        "  # Remove duplicates based on ride_id and date, keep all cols\n",
        "  distinct(ride_id, date, .keep_all = TRUE) %>%\n",
        "  # Remove duration_min column\n",
        "  select(-duration_min)"
      ],
      "execution_count": null,
      "outputs": []
    },
    {
      "cell_type": "markdown",
      "metadata": {
        "id": "hVc7H1CJs1jH"
      },
      "source": [
        "# 4) Checking membership\n",
        "\n",
        "A valur that does not represent de set of possible factors."
      ]
    },
    {
      "cell_type": "markdown",
      "metadata": {
        "id": "A2srQbGEyybv"
      },
      "source": [
        "https://assets.datacamp.com/production/repositories/5698/datasets/d3e478e1482be254e824a801e18996ca482a6878/sfo_survey_ch2_1.rds"
      ]
    },
    {
      "cell_type": "code",
      "metadata": {
        "colab": {
          "base_uri": "https://localhost:8080/",
          "height": 438
        },
        "id": "9yMs3d7bs5b0",
        "outputId": "f9f91a8b-3df5-4767-cbcd-406e086a37db"
      },
      "source": [
        "sfo_survey = readRDS('/content/sfo_survey_ch2_1.rds')\n",
        "\n",
        "str(sfo_survey)\n",
        "head(sfo_survey,2)"
      ],
      "execution_count": null,
      "outputs": [
        {
          "output_type": "stream",
          "text": [
            "'data.frame':\t2809 obs. of  12 variables:\n",
            " $ id           : int  1842 1844 1840 1837 1833 3010 1838 1845 2097 1846 ...\n",
            " $ day          : chr  \"Monday\" \"Monday\" \"Monday\" \"Monday\" ...\n",
            " $ airline      : chr  \"TURKISH AIRLINES\" \"TURKISH AIRLINES\" \"TURKISH AIRLINES\" \"TURKISH AIRLINES\" ...\n",
            " $ destination  : chr  \"ISTANBUL\" \"ISTANBUL\" \"ISTANBUL\" \"ISTANBUL\" ...\n",
            " $ dest_region  : chr  \"Middle East\" \"Middle East\" \"Middle East\" \"Middle East\" ...\n",
            " $ dest_size    : chr  \"Hub\" \"Hub\" \"Hub\" \"Hub\" ...\n",
            " $ boarding_area: chr  \"Gates 91-102\" \"Gates 91-102\" \"Gates 91-102\" \"Gates 91-102\" ...\n",
            " $ dept_time    : chr  \"2018-12-31\" \"2018-12-31\" \"2018-12-31\" \"2018-12-31\" ...\n",
            " $ wait_min     : num  255 315 165 225 175 ...\n",
            " $ cleanliness  : chr  \"Average\" \"Somewhat clean\" \"Average\" \"Somewhat clean\" ...\n",
            " $ safety       : chr  \"Neutral\" \"Somewhat safe\" \"Somewhat safe\" \"Somewhat safe\" ...\n",
            " $ satisfaction : chr  \"Somewhat satsified\" \"Somewhat satsified\" \"Somewhat satsified\" \"Somewhat satsified\" ...\n"
          ],
          "name": "stdout"
        },
        {
          "output_type": "display_data",
          "data": {
            "text/plain": [
              "  id   day    airline          destination dest_region dest_size boarding_area\n",
              "1 1842 Monday TURKISH AIRLINES ISTANBUL    Middle East Hub       Gates 91-102 \n",
              "2 1844 Monday TURKISH AIRLINES ISTANBUL    Middle East Hub       Gates 91-102 \n",
              "  dept_time  wait_min cleanliness    safety        satisfaction      \n",
              "1 2018-12-31 255      Average        Neutral       Somewhat satsified\n",
              "2 2018-12-31 315      Somewhat clean Somewhat safe Somewhat satsified"
            ],
            "text/latex": "A data.frame: 2 × 12\n\\begin{tabular}{r|llllllllllll}\n  & id & day & airline & destination & dest\\_region & dest\\_size & boarding\\_area & dept\\_time & wait\\_min & cleanliness & safety & satisfaction\\\\\n  & <int> & <chr> & <chr> & <chr> & <chr> & <chr> & <chr> & <chr> & <dbl> & <chr> & <chr> & <chr>\\\\\n\\hline\n\t1 & 1842 & Monday & TURKISH AIRLINES & ISTANBUL & Middle East & Hub & Gates 91-102 & 2018-12-31 & 255 & Average        & Neutral       & Somewhat satsified\\\\\n\t2 & 1844 & Monday & TURKISH AIRLINES & ISTANBUL & Middle East & Hub & Gates 91-102 & 2018-12-31 & 315 & Somewhat clean & Somewhat safe & Somewhat satsified\\\\\n\\end{tabular}\n",
            "text/markdown": "\nA data.frame: 2 × 12\n\n| <!--/--> | id &lt;int&gt; | day &lt;chr&gt; | airline &lt;chr&gt; | destination &lt;chr&gt; | dest_region &lt;chr&gt; | dest_size &lt;chr&gt; | boarding_area &lt;chr&gt; | dept_time &lt;chr&gt; | wait_min &lt;dbl&gt; | cleanliness &lt;chr&gt; | safety &lt;chr&gt; | satisfaction &lt;chr&gt; |\n|---|---|---|---|---|---|---|---|---|---|---|---|---|\n| 1 | 1842 | Monday | TURKISH AIRLINES | ISTANBUL | Middle East | Hub | Gates 91-102 | 2018-12-31 | 255 | Average        | Neutral       | Somewhat satsified |\n| 2 | 1844 | Monday | TURKISH AIRLINES | ISTANBUL | Middle East | Hub | Gates 91-102 | 2018-12-31 | 315 | Somewhat clean | Somewhat safe | Somewhat satsified |\n\n",
            "text/html": [
              "<table class=\"dataframe\">\n",
              "<caption>A data.frame: 2 × 12</caption>\n",
              "<thead>\n",
              "\t<tr><th></th><th scope=col>id</th><th scope=col>day</th><th scope=col>airline</th><th scope=col>destination</th><th scope=col>dest_region</th><th scope=col>dest_size</th><th scope=col>boarding_area</th><th scope=col>dept_time</th><th scope=col>wait_min</th><th scope=col>cleanliness</th><th scope=col>safety</th><th scope=col>satisfaction</th></tr>\n",
              "\t<tr><th></th><th scope=col>&lt;int&gt;</th><th scope=col>&lt;chr&gt;</th><th scope=col>&lt;chr&gt;</th><th scope=col>&lt;chr&gt;</th><th scope=col>&lt;chr&gt;</th><th scope=col>&lt;chr&gt;</th><th scope=col>&lt;chr&gt;</th><th scope=col>&lt;chr&gt;</th><th scope=col>&lt;dbl&gt;</th><th scope=col>&lt;chr&gt;</th><th scope=col>&lt;chr&gt;</th><th scope=col>&lt;chr&gt;</th></tr>\n",
              "</thead>\n",
              "<tbody>\n",
              "\t<tr><th scope=row>1</th><td>1842</td><td>Monday</td><td>TURKISH AIRLINES</td><td>ISTANBUL</td><td>Middle East</td><td>Hub</td><td>Gates 91-102</td><td>2018-12-31</td><td>255</td><td>Average       </td><td>Neutral      </td><td>Somewhat satsified</td></tr>\n",
              "\t<tr><th scope=row>2</th><td>1844</td><td>Monday</td><td>TURKISH AIRLINES</td><td>ISTANBUL</td><td>Middle East</td><td>Hub</td><td>Gates 91-102</td><td>2018-12-31</td><td>315</td><td>Somewhat clean</td><td>Somewhat safe</td><td>Somewhat satsified</td></tr>\n",
              "</tbody>\n",
              "</table>\n"
            ]
          },
          "metadata": {
            "tags": []
          }
        }
      ]
    },
    {
      "cell_type": "markdown",
      "metadata": {
        "id": "hZ05tPI_zpae"
      },
      "source": [
        "## Membership control on dest_size"
      ]
    },
    {
      "cell_type": "code",
      "metadata": {
        "colab": {
          "base_uri": "https://localhost:8080/",
          "height": 311
        },
        "id": "CxRZWgqjznE7",
        "outputId": "ec6cf1d3-d8db-4218-d30c-205d1c51dca9"
      },
      "source": [
        "# Count the number of occurrences of dest_size\n",
        "sfo_survey %>%\n",
        "  count(dest_size)"
      ],
      "execution_count": null,
      "outputs": [
        {
          "output_type": "display_data",
          "data": {
            "text/plain": [
              "  dest_size n   \n",
              "1   Small      1\n",
              "2  Hub         1\n",
              "3 Hub       1756\n",
              "4 Large      143\n",
              "5 Large        1\n",
              "6 Medium     682\n",
              "7 Small      225"
            ],
            "text/latex": "A data.frame: 7 × 2\n\\begin{tabular}{ll}\n dest\\_size & n\\\\\n <chr> & <int>\\\\\n\\hline\n\t   Small   &    1\\\\\n\t  Hub      &    1\\\\\n\t Hub       & 1756\\\\\n\t Large     &  143\\\\\n\t Large     &    1\\\\\n\t Medium    &  682\\\\\n\t Small     &  225\\\\\n\\end{tabular}\n",
            "text/markdown": "\nA data.frame: 7 × 2\n\n| dest_size &lt;chr&gt; | n &lt;int&gt; |\n|---|---|\n|   Small   |    1 |\n|  Hub      |    1 |\n| Hub       | 1756 |\n| Large     |  143 |\n| Large     |    1 |\n| Medium    |  682 |\n| Small     |  225 |\n\n",
            "text/html": [
              "<table class=\"dataframe\">\n",
              "<caption>A data.frame: 7 × 2</caption>\n",
              "<thead>\n",
              "\t<tr><th scope=col>dest_size</th><th scope=col>n</th></tr>\n",
              "\t<tr><th scope=col>&lt;chr&gt;</th><th scope=col>&lt;int&gt;</th></tr>\n",
              "</thead>\n",
              "<tbody>\n",
              "\t<tr><td>  Small  </td><td>   1</td></tr>\n",
              "\t<tr><td> Hub     </td><td>   1</td></tr>\n",
              "\t<tr><td>Hub      </td><td>1756</td></tr>\n",
              "\t<tr><td>Large    </td><td> 143</td></tr>\n",
              "\t<tr><td>Large    </td><td>   1</td></tr>\n",
              "\t<tr><td>Medium   </td><td> 682</td></tr>\n",
              "\t<tr><td>Small    </td><td> 225</td></tr>\n",
              "</tbody>\n",
              "</table>\n"
            ]
          },
          "metadata": {
            "tags": []
          }
        }
      ]
    },
    {
      "cell_type": "markdown",
      "metadata": {
        "id": "QNQ6mGVCz6o9"
      },
      "source": [
        "Anti-joins can help you identify the rows that are causing issues, and semi-joins can remove the issue-causing rows."
      ]
    },
    {
      "cell_type": "code",
      "metadata": {
        "colab": {
          "base_uri": "https://localhost:8080/",
          "height": 219
        },
        "id": "ps7NVcG30Hyt",
        "outputId": "576b2838-3a5a-42a4-c2e7-264d4fcd723f"
      },
      "source": [
        "# Data Frame with factors\n",
        "dest_size = c(\"Small\", \"Medium\", \"Large\", \"Hub\")\n",
        "id = c(1,2,3,4)\n",
        "\n",
        "dest_sizes <- data.frame(dest_size, id)\n",
        "dest_sizes"
      ],
      "execution_count": null,
      "outputs": [
        {
          "output_type": "display_data",
          "data": {
            "text/plain": [
              "  dest_size id\n",
              "1 Small     1 \n",
              "2 Medium    2 \n",
              "3 Large     3 \n",
              "4 Hub       4 "
            ],
            "text/latex": "A data.frame: 4 × 2\n\\begin{tabular}{ll}\n dest\\_size & id\\\\\n <chr> & <dbl>\\\\\n\\hline\n\t Small  & 1\\\\\n\t Medium & 2\\\\\n\t Large  & 3\\\\\n\t Hub    & 4\\\\\n\\end{tabular}\n",
            "text/markdown": "\nA data.frame: 4 × 2\n\n| dest_size &lt;chr&gt; | id &lt;dbl&gt; |\n|---|---|\n| Small  | 1 |\n| Medium | 2 |\n| Large  | 3 |\n| Hub    | 4 |\n\n",
            "text/html": [
              "<table class=\"dataframe\">\n",
              "<caption>A data.frame: 4 × 2</caption>\n",
              "<thead>\n",
              "\t<tr><th scope=col>dest_size</th><th scope=col>id</th></tr>\n",
              "\t<tr><th scope=col>&lt;chr&gt;</th><th scope=col>&lt;dbl&gt;</th></tr>\n",
              "</thead>\n",
              "<tbody>\n",
              "\t<tr><td>Small </td><td>1</td></tr>\n",
              "\t<tr><td>Medium</td><td>2</td></tr>\n",
              "\t<tr><td>Large </td><td>3</td></tr>\n",
              "\t<tr><td>Hub   </td><td>4</td></tr>\n",
              "</tbody>\n",
              "</table>\n"
            ]
          },
          "metadata": {
            "tags": []
          }
        }
      ]
    },
    {
      "cell_type": "markdown",
      "metadata": {
        "id": "K23IMTbS18A1"
      },
      "source": [
        "Anti-join to filter rows causing issues."
      ]
    },
    {
      "cell_type": "code",
      "metadata": {
        "colab": {
          "base_uri": "https://localhost:8080/",
          "height": 261
        },
        "id": "Fr4ArQ0Vz7xu",
        "outputId": "ae930783-735e-42a3-b7c1-f2135964bcbd"
      },
      "source": [
        "# Find bad dest_size r  ows\n",
        "sfo_survey %>% \n",
        "  # Join with dest_sizes data frame to get bad dest_size rows\n",
        "  anti_join(dest_sizes, by = \"dest_size\")"
      ],
      "execution_count": null,
      "outputs": [
        {
          "output_type": "display_data",
          "data": {
            "text/plain": [
              "  id   day      airline     destination       dest_region   dest_size\n",
              "1  982 Friday   LUFTHANSA   MUNICH            Europe         Hub     \n",
              "2 2063 Thursday AMERICAN    PHILADELPHIA      East US       Large    \n",
              "3  777 Thursday UNITED INTL SAN JOSE DEL CABO Canada/Mexico   Small  \n",
              "  boarding_area dept_time  wait_min cleanliness    safety       \n",
              "1 Gates 91-102  2018-12-31 340      Average        Very safe    \n",
              "2 Gates 50-59   2018-12-31 117      Somewhat clean Somewhat safe\n",
              "3 Gates 91-102  2018-12-31 443      Somewhat clean Somewhat safe\n",
              "  satisfaction      \n",
              "1 Neutral           \n",
              "2 Somewhat satsified\n",
              "3 Somewhat satsified"
            ],
            "text/latex": "A data.frame: 3 × 12\n\\begin{tabular}{llllllllllll}\n id & day & airline & destination & dest\\_region & dest\\_size & boarding\\_area & dept\\_time & wait\\_min & cleanliness & safety & satisfaction\\\\\n <int> & <chr> & <chr> & <chr> & <chr> & <chr> & <chr> & <chr> & <dbl> & <chr> & <chr> & <chr>\\\\\n\\hline\n\t  982 & Friday   & LUFTHANSA   & MUNICH            & Europe        &  Hub      & Gates 91-102 & 2018-12-31 & 340 & Average        & Very safe     & Neutral           \\\\\n\t 2063 & Thursday & AMERICAN    & PHILADELPHIA      & East US       & Large     & Gates 50-59  & 2018-12-31 & 117 & Somewhat clean & Somewhat safe & Somewhat satsified\\\\\n\t  777 & Thursday & UNITED INTL & SAN JOSE DEL CABO & Canada/Mexico &   Small   & Gates 91-102 & 2018-12-31 & 443 & Somewhat clean & Somewhat safe & Somewhat satsified\\\\\n\\end{tabular}\n",
            "text/markdown": "\nA data.frame: 3 × 12\n\n| id &lt;int&gt; | day &lt;chr&gt; | airline &lt;chr&gt; | destination &lt;chr&gt; | dest_region &lt;chr&gt; | dest_size &lt;chr&gt; | boarding_area &lt;chr&gt; | dept_time &lt;chr&gt; | wait_min &lt;dbl&gt; | cleanliness &lt;chr&gt; | safety &lt;chr&gt; | satisfaction &lt;chr&gt; |\n|---|---|---|---|---|---|---|---|---|---|---|---|\n|  982 | Friday   | LUFTHANSA   | MUNICH            | Europe        |  Hub      | Gates 91-102 | 2018-12-31 | 340 | Average        | Very safe     | Neutral            |\n| 2063 | Thursday | AMERICAN    | PHILADELPHIA      | East US       | Large     | Gates 50-59  | 2018-12-31 | 117 | Somewhat clean | Somewhat safe | Somewhat satsified |\n|  777 | Thursday | UNITED INTL | SAN JOSE DEL CABO | Canada/Mexico |   Small   | Gates 91-102 | 2018-12-31 | 443 | Somewhat clean | Somewhat safe | Somewhat satsified |\n\n",
            "text/html": [
              "<table class=\"dataframe\">\n",
              "<caption>A data.frame: 3 × 12</caption>\n",
              "<thead>\n",
              "\t<tr><th scope=col>id</th><th scope=col>day</th><th scope=col>airline</th><th scope=col>destination</th><th scope=col>dest_region</th><th scope=col>dest_size</th><th scope=col>boarding_area</th><th scope=col>dept_time</th><th scope=col>wait_min</th><th scope=col>cleanliness</th><th scope=col>safety</th><th scope=col>satisfaction</th></tr>\n",
              "\t<tr><th scope=col>&lt;int&gt;</th><th scope=col>&lt;chr&gt;</th><th scope=col>&lt;chr&gt;</th><th scope=col>&lt;chr&gt;</th><th scope=col>&lt;chr&gt;</th><th scope=col>&lt;chr&gt;</th><th scope=col>&lt;chr&gt;</th><th scope=col>&lt;chr&gt;</th><th scope=col>&lt;dbl&gt;</th><th scope=col>&lt;chr&gt;</th><th scope=col>&lt;chr&gt;</th><th scope=col>&lt;chr&gt;</th></tr>\n",
              "</thead>\n",
              "<tbody>\n",
              "\t<tr><td> 982</td><td>Friday  </td><td>LUFTHANSA  </td><td>MUNICH           </td><td>Europe       </td><td> Hub     </td><td>Gates 91-102</td><td>2018-12-31</td><td>340</td><td>Average       </td><td>Very safe    </td><td>Neutral           </td></tr>\n",
              "\t<tr><td>2063</td><td>Thursday</td><td>AMERICAN   </td><td>PHILADELPHIA     </td><td>East US      </td><td>Large    </td><td>Gates 50-59 </td><td>2018-12-31</td><td>117</td><td>Somewhat clean</td><td>Somewhat safe</td><td>Somewhat satsified</td></tr>\n",
              "\t<tr><td> 777</td><td>Thursday</td><td>UNITED INTL</td><td>SAN JOSE DEL CABO</td><td>Canada/Mexico</td><td>  Small  </td><td>Gates 91-102</td><td>2018-12-31</td><td>443</td><td>Somewhat clean</td><td>Somewhat safe</td><td>Somewhat satsified</td></tr>\n",
              "</tbody>\n",
              "</table>\n"
            ]
          },
          "metadata": {
            "tags": []
          }
        }
      ]
    },
    {
      "cell_type": "markdown",
      "metadata": {
        "id": "sdDmlsyp2C8K"
      },
      "source": [
        "Semi-join to drop rows."
      ]
    },
    {
      "cell_type": "code",
      "metadata": {
        "colab": {
          "base_uri": "https://localhost:8080/",
          "height": 219
        },
        "id": "GCnQ_RBn2CIv",
        "outputId": "25481659-95c8-44de-c917-900c70003542"
      },
      "source": [
        "# Remove bad dest_size rows\n",
        "sfo_survey %>% \n",
        "  # Join with dest_sizes\n",
        "  semi_join(dest_sizes, by = \"dest_size\") %>%\n",
        "  # Count the number of each dest_size\n",
        "  count(dest_size)"
      ],
      "execution_count": null,
      "outputs": [
        {
          "output_type": "display_data",
          "data": {
            "text/plain": [
              "  dest_size n   \n",
              "1 Hub       1756\n",
              "2 Large      143\n",
              "3 Medium     682\n",
              "4 Small      225"
            ],
            "text/latex": "A data.frame: 4 × 2\n\\begin{tabular}{ll}\n dest\\_size & n\\\\\n <chr> & <int>\\\\\n\\hline\n\t Hub    & 1756\\\\\n\t Large  &  143\\\\\n\t Medium &  682\\\\\n\t Small  &  225\\\\\n\\end{tabular}\n",
            "text/markdown": "\nA data.frame: 4 × 2\n\n| dest_size &lt;chr&gt; | n &lt;int&gt; |\n|---|---|\n| Hub    | 1756 |\n| Large  |  143 |\n| Medium |  682 |\n| Small  |  225 |\n\n",
            "text/html": [
              "<table class=\"dataframe\">\n",
              "<caption>A data.frame: 4 × 2</caption>\n",
              "<thead>\n",
              "\t<tr><th scope=col>dest_size</th><th scope=col>n</th></tr>\n",
              "\t<tr><th scope=col>&lt;chr&gt;</th><th scope=col>&lt;int&gt;</th></tr>\n",
              "</thead>\n",
              "<tbody>\n",
              "\t<tr><td>Hub   </td><td>1756</td></tr>\n",
              "\t<tr><td>Large </td><td> 143</td></tr>\n",
              "\t<tr><td>Medium</td><td> 682</td></tr>\n",
              "\t<tr><td>Small </td><td> 225</td></tr>\n",
              "</tbody>\n",
              "</table>\n"
            ]
          },
          "metadata": {
            "tags": []
          }
        }
      ]
    },
    {
      "cell_type": "markdown",
      "metadata": {
        "id": "yg_bPdgz2dAG"
      },
      "source": [
        "## Solving categorical data inconsistency white space"
      ]
    },
    {
      "cell_type": "markdown",
      "metadata": {
        "id": "7xrMf7ST34Eo"
      },
      "source": [
        "Seems the categories in dest_size have inconsistent white space."
      ]
    },
    {
      "cell_type": "code",
      "metadata": {
        "id": "O8bFABDW2j-4"
      },
      "source": [
        "library(stringr)\n",
        "\n",
        "# Add new columns to sfo_survey\n",
        "sfo_survey <- sfo_survey %>%\n",
        "  # dest_size_trimmed: dest_size without whitespace\n",
        "  mutate(dest_size_trimmed = str_trim(dest_size))"
      ],
      "execution_count": null,
      "outputs": []
    },
    {
      "cell_type": "markdown",
      "metadata": {
        "id": "NkNirxAG4H3o"
      },
      "source": [
        "## Solving categorical data inconsistency upper and lower cases"
      ]
    },
    {
      "cell_type": "code",
      "metadata": {
        "id": "VChlOERm4lKx"
      },
      "source": [
        "library(stringr)\n",
        "\n",
        "# Add new columns to sfo_survey\n",
        "sfo_survey <- sfo_survey %>%\n",
        "  # cleanliness_lower: cleanliness converted to lowercase\n",
        "  mutate(cleanliness_lower = str_to_lower(cleanliness))"
      ],
      "execution_count": null,
      "outputs": []
    },
    {
      "cell_type": "markdown",
      "metadata": {
        "id": "YX99EMbo46ES"
      },
      "source": [
        "## Collapsing categories"
      ]
    },
    {
      "cell_type": "code",
      "metadata": {
        "colab": {
          "base_uri": "https://localhost:8080/",
          "height": 373
        },
        "id": "LXKNp2eo49mu",
        "outputId": "9ef4259b-847b-48c8-b75a-8fede23bdf80"
      },
      "source": [
        "# Count categories of dest_region\n",
        "sfo_survey %>%\n",
        "  count(dest_region)"
      ],
      "execution_count": null,
      "outputs": [
        {
          "output_type": "display_data",
          "data": {
            "text/plain": [
              "  dest_region           n  \n",
              "1 Asia                  260\n",
              "2 Australia/New Zealand  66\n",
              "3 Canada/Mexico         220\n",
              "4 Central/South America  29\n",
              "5 East US               498\n",
              "6 Europe                401\n",
              "7 Middle East            79\n",
              "8 Midwest US            281\n",
              "9 West US               975"
            ],
            "text/latex": "A data.frame: 9 × 2\n\\begin{tabular}{ll}\n dest\\_region & n\\\\\n <chr> & <int>\\\\\n\\hline\n\t Asia                  & 260\\\\\n\t Australia/New Zealand &  66\\\\\n\t Canada/Mexico         & 220\\\\\n\t Central/South America &  29\\\\\n\t East US               & 498\\\\\n\t Europe                & 401\\\\\n\t Middle East           &  79\\\\\n\t Midwest US            & 281\\\\\n\t West US               & 975\\\\\n\\end{tabular}\n",
            "text/markdown": "\nA data.frame: 9 × 2\n\n| dest_region &lt;chr&gt; | n &lt;int&gt; |\n|---|---|\n| Asia                  | 260 |\n| Australia/New Zealand |  66 |\n| Canada/Mexico         | 220 |\n| Central/South America |  29 |\n| East US               | 498 |\n| Europe                | 401 |\n| Middle East           |  79 |\n| Midwest US            | 281 |\n| West US               | 975 |\n\n",
            "text/html": [
              "<table class=\"dataframe\">\n",
              "<caption>A data.frame: 9 × 2</caption>\n",
              "<thead>\n",
              "\t<tr><th scope=col>dest_region</th><th scope=col>n</th></tr>\n",
              "\t<tr><th scope=col>&lt;chr&gt;</th><th scope=col>&lt;int&gt;</th></tr>\n",
              "</thead>\n",
              "<tbody>\n",
              "\t<tr><td>Asia                 </td><td>260</td></tr>\n",
              "\t<tr><td>Australia/New Zealand</td><td> 66</td></tr>\n",
              "\t<tr><td>Canada/Mexico        </td><td>220</td></tr>\n",
              "\t<tr><td>Central/South America</td><td> 29</td></tr>\n",
              "\t<tr><td>East US              </td><td>498</td></tr>\n",
              "\t<tr><td>Europe               </td><td>401</td></tr>\n",
              "\t<tr><td>Middle East          </td><td> 79</td></tr>\n",
              "\t<tr><td>Midwest US           </td><td>281</td></tr>\n",
              "\t<tr><td>West US              </td><td>975</td></tr>\n",
              "</tbody>\n",
              "</table>\n"
            ]
          },
          "metadata": {
            "tags": []
          }
        }
      ]
    },
    {
      "cell_type": "code",
      "metadata": {
        "id": "ust2WvHA5rBv"
      },
      "source": [
        "library(forcats)"
      ],
      "execution_count": null,
      "outputs": []
    },
    {
      "cell_type": "code",
      "metadata": {
        "colab": {
          "base_uri": "https://localhost:8080/",
          "height": 407
        },
        "id": "h1AvPQ6G5f2z",
        "outputId": "62c5cef7-f1f6-4e0f-9da1-964e40262c86"
      },
      "source": [
        "# Categories to map to Europe\n",
        "europe_categories <- c(\"EU\", \"eur\", \"Europ\")\n",
        "\n",
        "# Add a new col dest_region_collapsed\n",
        "sfo_survey %>%\n",
        "  # Map all categories in europe_categories to Europe\n",
        "  mutate(dest_region_collapsed = fct_collapse(dest_region, \n",
        "                                              Europe = europe_categories)) %>%\n",
        "  # Count categories of dest_region_collapsed\n",
        "  count(dest_region_collapsed)"
      ],
      "execution_count": null,
      "outputs": [
        {
          "output_type": "stream",
          "text": [
            "Warning message:\n",
            "“Unknown levels in `f`: EU, eur, Europ”\n"
          ],
          "name": "stderr"
        },
        {
          "output_type": "display_data",
          "data": {
            "text/plain": [
              "  dest_region_collapsed n  \n",
              "1 Asia                  260\n",
              "2 Australia/New Zealand  66\n",
              "3 Canada/Mexico         220\n",
              "4 Central/South America  29\n",
              "5 East US               498\n",
              "6 Europe                401\n",
              "7 Middle East            79\n",
              "8 Midwest US            281\n",
              "9 West US               975"
            ],
            "text/latex": "A data.frame: 9 × 2\n\\begin{tabular}{ll}\n dest\\_region\\_collapsed & n\\\\\n <fct> & <int>\\\\\n\\hline\n\t Asia                  & 260\\\\\n\t Australia/New Zealand &  66\\\\\n\t Canada/Mexico         & 220\\\\\n\t Central/South America &  29\\\\\n\t East US               & 498\\\\\n\t Europe                & 401\\\\\n\t Middle East           &  79\\\\\n\t Midwest US            & 281\\\\\n\t West US               & 975\\\\\n\\end{tabular}\n",
            "text/markdown": "\nA data.frame: 9 × 2\n\n| dest_region_collapsed &lt;fct&gt; | n &lt;int&gt; |\n|---|---|\n| Asia                  | 260 |\n| Australia/New Zealand |  66 |\n| Canada/Mexico         | 220 |\n| Central/South America |  29 |\n| East US               | 498 |\n| Europe                | 401 |\n| Middle East           |  79 |\n| Midwest US            | 281 |\n| West US               | 975 |\n\n",
            "text/html": [
              "<table class=\"dataframe\">\n",
              "<caption>A data.frame: 9 × 2</caption>\n",
              "<thead>\n",
              "\t<tr><th scope=col>dest_region_collapsed</th><th scope=col>n</th></tr>\n",
              "\t<tr><th scope=col>&lt;fct&gt;</th><th scope=col>&lt;int&gt;</th></tr>\n",
              "</thead>\n",
              "<tbody>\n",
              "\t<tr><td>Asia                 </td><td>260</td></tr>\n",
              "\t<tr><td>Australia/New Zealand</td><td> 66</td></tr>\n",
              "\t<tr><td>Canada/Mexico        </td><td>220</td></tr>\n",
              "\t<tr><td>Central/South America</td><td> 29</td></tr>\n",
              "\t<tr><td>East US              </td><td>498</td></tr>\n",
              "\t<tr><td>Europe               </td><td>401</td></tr>\n",
              "\t<tr><td>Middle East          </td><td> 79</td></tr>\n",
              "\t<tr><td>Midwest US           </td><td>281</td></tr>\n",
              "\t<tr><td>West US              </td><td>975</td></tr>\n",
              "</tbody>\n",
              "</table>\n"
            ]
          },
          "metadata": {
            "tags": []
          }
        }
      ]
    },
    {
      "cell_type": "markdown",
      "metadata": {
        "id": "7pdsjMZJ6MDf"
      },
      "source": [
        "# 5) Cleaning text data"
      ]
    },
    {
      "cell_type": "markdown",
      "metadata": {
        "id": "zu4M6Bvz6bsF"
      },
      "source": [
        "## Formatting inconsistencies"
      ]
    },
    {
      "cell_type": "code",
      "metadata": {
        "colab": {
          "base_uri": "https://localhost:8080/"
        },
        "id": "QsucUq8JAtcj",
        "outputId": "a3a774a5-7a28-4777-db7d-dd3fc74d7bc9"
      },
      "source": [
        "str(sfo_survey)"
      ],
      "execution_count": null,
      "outputs": [
        {
          "output_type": "stream",
          "text": [
            "'data.frame':\t2809 obs. of  14 variables:\n",
            " $ id               : int  1842 1844 1840 1837 1833 3010 1838 1845 2097 1846 ...\n",
            " $ day              : chr  \"Monday\" \"Monday\" \"Monday\" \"Monday\" ...\n",
            " $ airline          : chr  \"TURKISH AIRLINES\" \"TURKISH AIRLINES\" \"TURKISH AIRLINES\" \"TURKISH AIRLINES\" ...\n",
            " $ destination      : chr  \"ISTANBUL\" \"ISTANBUL\" \"ISTANBUL\" \"ISTANBUL\" ...\n",
            " $ dest_region      : chr  \"Middle East\" \"Middle East\" \"Middle East\" \"Middle East\" ...\n",
            " $ dest_size        : chr  \"Hub\" \"Hub\" \"Hub\" \"Hub\" ...\n",
            " $ boarding_area    : chr  \"Gates 91-102\" \"Gates 91-102\" \"Gates 91-102\" \"Gates 91-102\" ...\n",
            " $ dept_time        : chr  \"2018-12-31\" \"2018-12-31\" \"2018-12-31\" \"2018-12-31\" ...\n",
            " $ wait_min         : num  255 315 165 225 175 ...\n",
            " $ cleanliness      : chr  \"Average\" \"Somewhat clean\" \"Average\" \"Somewhat clean\" ...\n",
            " $ safety           : chr  \"Neutral\" \"Somewhat safe\" \"Somewhat safe\" \"Somewhat safe\" ...\n",
            " $ satisfaction     : chr  \"Somewhat satsified\" \"Somewhat satsified\" \"Somewhat satsified\" \"Somewhat satsified\" ...\n",
            " $ dest_size_trimmed: chr  \"Hub\" \"Hub\" \"Hub\" \"Hub\" ...\n",
            " $ cleanliness_lower: chr  \"average\" \"somewhat clean\" \"average\" \"somewhat clean\" ...\n"
          ],
          "name": "stdout"
        }
      ]
    },
    {
      "cell_type": "code",
      "metadata": {
        "id": "THDZUu6o6YTc"
      },
      "source": [
        "# Filter for rows with \"-\" or \"=\" in the phone column\n",
        "sfo_survey %>%\n",
        "  filter(str_detect(boarding_area, fixed(\"-\")) | str_detect(boarding_area, fixed(\"=\")))"
      ],
      "execution_count": null,
      "outputs": []
    },
    {
      "cell_type": "code",
      "metadata": {
        "id": "O-vDy3luCg1y"
      },
      "source": [
        "?str_remove_all"
      ],
      "execution_count": null,
      "outputs": []
    },
    {
      "cell_type": "markdown",
      "metadata": {
        "id": "jKj3zmXaCrjg"
      },
      "source": [
        "### Removing symbols"
      ]
    },
    {
      "cell_type": "code",
      "metadata": {
        "colab": {
          "base_uri": "https://localhost:8080/",
          "height": 797
        },
        "id": "fHHFFBn5B5z6",
        "outputId": "1ce8cca5-227c-450d-a4d0-d8c79f4e4be8"
      },
      "source": [
        "# Remove parentheses from phone column\n",
        "\n",
        "sfo_no_hyphen = sfo_survey %>% \n",
        "  mutate(removed = str_remove_all(boarding_area, fixed(\"-\")))\n",
        "\n",
        "sfo_no_hyphen$removed"
      ],
      "execution_count": null,
      "outputs": [
        {
          "output_type": "display_data",
          "data": {
            "text/plain": [
              "   [1] \"Gates 91102\" \"Gates 91102\" \"Gates 91102\" \"Gates 91102\" \"Gates 91102\"\n",
              "   [6] \"Gates 5059\"  \"Gates 91102\" \"Gates 91102\" \"Gates 91102\" \"Gates 91102\"\n",
              "  [11] \"Gates 91102\" \"Gates 91102\" \"Gates 91102\" \"Gates 91102\" \"Gates 91102\"\n",
              "  [16] \"Gates 112\"   \"Gates 91102\" \"Gates 7090\"  \"Gates 112\"   \"Gates 91102\"\n",
              "  [21] \"Gates 7090\"  \"Gates 5059\"  \"Gates 7090\"  \"Gates 6069\"  \"Gates 112\"  \n",
              "  [26] \"Gates 91102\" \"Gates 6069\"  \"Gates 7090\"  \"Gates 2039\"  \"Gates 2039\" \n",
              "  [31] \"Gates 91102\" \"Gates 91102\" \"Gates 5059\"  \"Gates 2039\"  \"Gates 91102\"\n",
              "  [36] \"Gates 91102\" \"Gates 91102\" \"Gates 5059\"  \"Gates 112\"   \"Gates 2039\" \n",
              "  [41] \"Gates 91102\" \"Gates 91102\" \"Gates 4048\"  \"Gates 112\"   \"Gates 7090\" \n",
              "  [46] \"Gates 112\"   \"Gates 7090\"  \"Gates 91102\" \"Gates 5059\"  \"Gates 91102\"\n",
              "  [51] \"Gates 91102\" \"Gates 112\"   \"Gates 112\"   \"Gates 112\"   \"Gates 5059\" \n",
              "  [56] \"Gates 112\"   \"Gates 7090\"  \"Gates 7090\"  \"Gates 2039\"  \"Gates 7090\" \n",
              "  [61] \"Gates 2039\"  \"Gates 4048\"  \"Gates 6069\"  \"Gates 5059\"  \"Gates 5059\" \n",
              "  [66] \"Gates 5059\"  \"Gates 91102\" \"Gates 2039\"  \"Gates 112\"   \"Gates 91102\"\n",
              "  [71] \"Gates 91102\" \"Gates 91102\" \"Gates 112\"   \"Gates 5059\"  \"Gates 5059\" \n",
              "  [76] \"Gates 5059\"  \"Gates 91102\" \"Gates 4048\"  \"Gates 2039\"  \"Gates 91102\"\n",
              "  [81] \"Gates 5059\"  \"Gates 91102\" \"Gates 7090\"  \"Gates 7090\"  \"Gates 91102\"\n",
              "  [86] \"Gates 91102\" \"Gates 7090\"  \"Gates 4048\"  \"Gates 2039\"  \"Gates 4048\" \n",
              "  [91] \"Gates 7090\"  \"Gates 5059\"  \"Gates 5059\"  \"Gates 5059\"  \"Gates 2039\" \n",
              "  [96] \"Gates 7090\"  \"Gates 91102\" \"Gates 4048\"  \"Gates 7090\"  \"Gates 7090\" \n",
              " [101] \"Gates 4048\"  \"Gates 7090\"  \"Gates 2039\"  \"Gates 5059\"  \"Gates 7090\" \n",
              " [106] \"Gates 7090\"  \"Gates 91102\" \"Gates 91102\" \"Gates 4048\"  \"Gates 91102\"\n",
              " [111] \"Gates 112\"   \"Gates 7090\"  \"Gates 91102\" \"Gates 5059\"  \"Gates 5059\" \n",
              " [116] \"Gates 112\"   \"Gates 112\"   \"Gates 6069\"  \"Gates 112\"   \"Gates 91102\"\n",
              " [121] \"Gates 91102\" \"Gates 112\"   \"Gates 7090\"  \"Gates 2039\"  \"Gates 2039\" \n",
              " [126] \"Gates 7090\"  \"Gates 112\"   \"Gates 112\"   \"Gates 4048\"  \"Gates 7090\" \n",
              " [131] \"Gates 5059\"  \"Gates 2039\"  \"Gates 91102\" \"Gates 112\"   \"Gates 6069\" \n",
              " [136] \"Gates 112\"   \"Gates 6069\"  \"Gates 91102\" \"Gates 5059\"  \"Gates 6069\" \n",
              " [141] \"Gates 112\"   \"Gates 2039\"  \"Gates 112\"   \"Gates 5059\"  \"Gates 112\"  \n",
              " [146] \"Gates 6069\"  \"Gates 112\"   \"Gates 91102\" \"Gates 5059\"  \"Gates 2039\" \n",
              " [151] \"Gates 91102\" \"Gates 5059\"  \"Gates 7090\"  \"Gates 112\"   \"Gates 91102\"\n",
              " [156] \"Gates 7090\"  \"Gates 112\"   \"Gates 5059\"  \"Gates 5059\"  \"Gates 112\"  \n",
              " [161] \"Gates 91102\" \"Gates 7090\"  \"Gates 2039\"  \"Gates 112\"   \"Gates 112\"  \n",
              " [166] \"Gates 112\"   \"Gates 7090\"  \"Gates 7090\"  \"Gates 91102\" \"Gates 112\"  \n",
              " [171] \"Gates 7090\"  \"Gates 91102\" \"Gates 7090\"  \"Gates 2039\"  \"Gates 7090\" \n",
              " [176] \"Gates 5059\"  \"Gates 2039\"  \"Gates 91102\" \"Gates 91102\" \"Gates 112\"  \n",
              " [181] \"Gates 7090\"  \"Gates 2039\"  \"Gates 112\"   \"Gates 91102\" \"Gates 91102\"\n",
              " [186] \"Gates 5059\"  \"Gates 2039\"  \"Gates 6069\"  \"Gates 5059\"  \"Gates 7090\" \n",
              " [191] \"Gates 112\"   \"Gates 112\"   \"Gates 7090\"  \"Gates 91102\" \"Gates 5059\" \n",
              " [196] \"Gates 7090\"  \"Gates 112\"   \"Gates 112\"   \"Gates 112\"   \"Gates 112\"  \n",
              " [201] \"Gates 7090\"  \"Gates 91102\" \"Gates 91102\" \"Gates 91102\" \"Gates 91102\"\n",
              " [206] \"Gates 7090\"  \"Gates 6069\"  \"Gates 112\"   \"Gates 91102\" \"Gates 91102\"\n",
              " [211] \"Gates 4048\"  \"Gates 5059\"  \"Gates 7090\"  \"Gates 6069\"  \"Gates 5059\" \n",
              " [216] \"Gates 112\"   \"Gates 6069\"  \"Gates 91102\" \"Gates 5059\"  \"Gates 7090\" \n",
              " [221] \"Gates 7090\"  \"Gates 112\"   \"Gates 2039\"  \"Gates 7090\"  \"Gates 4048\" \n",
              " [226] \"Gates 2039\"  \"Gates 5059\"  \"Gates 4048\"  \"Gates 2039\"  \"Gates 112\"  \n",
              " [231] \"Gates 5059\"  \"Gates 5059\"  \"Gates 2039\"  \"Gates 4048\"  \"Gates 7090\" \n",
              " [236] \"Gates 5059\"  \"Gates 7090\"  \"Gates 2039\"  \"Gates 7090\"  \"Gates 6069\" \n",
              " [241] \"Gates 5059\"  \"Gates 6069\"  \"Gates 112\"   \"Gates 4048\"  \"Gates 2039\" \n",
              " [246] \"Gates 91102\" \"Gates 5059\"  \"Gates 5059\"  \"Gates 4048\"  \"Gates 7090\" \n",
              " [251] \"Gates 5059\"  \"Gates 2039\"  \"Gates 5059\"  \"Gates 7090\"  \"Gates 91102\"\n",
              " [256] \"Gates 6069\"  \"Gates 5059\"  \"Gates 2039\"  \"Gates 2039\"  \"Gates 2039\" \n",
              " [261] \"Gates 7090\"  \"Gates 7090\"  \"Gates 91102\" \"Gates 5059\"  \"Gates 112\"  \n",
              " [266] \"Gates 7090\"  \"Gates 7090\"  \"Gates 112\"   \"Gates 2039\"  \"Gates 112\"  \n",
              " [271] \"Gates 91102\" \"Gates 5059\"  \"Gates 2039\"  \"Gates 91102\" \"Gates 2039\" \n",
              " [276] \"Gates 5059\"  \"Gates 112\"   \"Gates 5059\"  \"Gates 5059\"  \"Gates 2039\" \n",
              " [281] \"Gates 4048\"  \"Gates 2039\"  \"Gates 112\"   \"Gates 4048\"  \"Gates 91102\"\n",
              " [286] \"Gates 2039\"  \"Gates 4048\"  \"Gates 2039\"  \"Gates 7090\"  \"Gates 91102\"\n",
              " [291] \"Gates 91102\" \"Gates 5059\"  \"Gates 7090\"  \"Gates 91102\" \"Gates 91102\"\n",
              " [296] \"Gates 91102\" \"Gates 112\"   \"Gates 91102\" \"Gates 112\"   \"Gates 7090\" \n",
              " [301] \"Gates 91102\" \"Gates 5059\"  \"Gates 91102\" \"Gates 7090\"  \"Gates 5059\" \n",
              " [306] \"Gates 91102\" \"Gates 91102\" \"Gates 5059\"  \"Gates 5059\"  \"Gates 4048\" \n",
              " [311] \"Gates 2039\"  \"Gates 91102\" \"Gates 4048\"  \"Gates 7090\"  \"Gates 2039\" \n",
              " [316] \"Gates 112\"   \"Gates 91102\" \"Gates 112\"   \"Gates 5059\"  \"Gates 2039\" \n",
              " [321] \"Gates 2039\"  \"Gates 91102\" \"Gates 2039\"  \"Gates 5059\"  \"Gates 7090\" \n",
              " [326] \"Gates 2039\"  \"Gates 91102\" \"Gates 5059\"  \"Gates 2039\"  \"Gates 7090\" \n",
              " [331] \"Gates 6069\"  \"Gates 2039\"  \"Gates 7090\"  \"Gates 4048\"  \"Gates 7090\" \n",
              " [336] \"Gates 112\"   \"Gates 7090\"  \"Gates 7090\"  \"Gates 5059\"  \"Gates 2039\" \n",
              " [341] \"Gates 7090\"  \"Gates 112\"   \"Gates 7090\"  \"Gates 7090\"  \"Gates 7090\" \n",
              " [346] \"Gates 7090\"  \"Gates 2039\"  \"Gates 91102\" \"Gates 91102\" \"Gates 112\"  \n",
              " [351] \"Gates 112\"   \"Gates 7090\"  \"Gates 112\"   \"Gates 7090\"  \"Gates 112\"  \n",
              " [356] \"Gates 112\"   \"Gates 112\"   \"Gates 112\"   \"Gates 112\"   \"Gates 91102\"\n",
              " [361] \"Gates 5059\"  \"Gates 7090\"  \"Gates 4048\"  \"Gates 91102\" \"Gates 91102\"\n",
              " [366] \"Gates 2039\"  \"Gates 5059\"  \"Gates 112\"   \"Gates 6069\"  \"Gates 7090\" \n",
              " [371] \"Gates 91102\" \"Gates 112\"   \"Gates 91102\" \"Gates 4048\"  \"Gates 112\"  \n",
              " [376] \"Gates 2039\"  \"Gates 5059\"  \"Gates 112\"   \"Gates 7090\"  \"Gates 112\"  \n",
              " [381] \"Gates 112\"   \"Gates 5059\"  \"Gates 91102\" \"Gates 112\"   \"Gates 6069\" \n",
              " [386] \"Gates 112\"   \"Gates 91102\" \"Gates 6069\"  \"Gates 112\"   \"Gates 112\"  \n",
              " [391] \"Gates 2039\"  \"Gates 112\"   \"Gates 112\"   \"Gates 5059\"  \"Gates 112\"  \n",
              " [396] \"Gates 5059\"  \"Gates 6069\"  \"Gates 112\"   \"Gates 112\"   \"Gates 91102\"\n",
              " [401] \"Gates 91102\" \"Gates 2039\"  \"Gates 112\"   \"Gates 2039\"  \"Gates 91102\"\n",
              " [406] \"Gates 112\"   \"Gates 7090\"  \"Gates 7090\"  \"Gates 7090\"  \"Gates 5059\" \n",
              " [411] \"Gates 91102\" \"Gates 5059\"  \"Gates 112\"   \"Gates 112\"   \"Gates 112\"  \n",
              " [416] \"Gates 112\"   \"Gates 5059\"  \"Gates 5059\"  \"Gates 112\"   \"Gates 91102\"\n",
              " [421] \"Gates 112\"   \"Gates 112\"   \"Gates 7090\"  \"Gates 91102\" \"Gates 112\"  \n",
              " [426] \"Gates 112\"   \"Gates 112\"   \"Gates 2039\"  \"Gates 7090\"  \"Gates 112\"  \n",
              " [431] \"Gates 5059\"  \"Gates 4048\"  \"Gates 4048\"  \"Gates 91102\" \"Gates 4048\" \n",
              " [436] \"Gates 4048\"  \"Gates 112\"   \"Gates 112\"   \"Gates 91102\" \"Gates 112\"  \n",
              " [441] \"Gates 5059\"  \"Gates 6069\"  \"Gates 112\"   \"Gates 4048\"  \"Gates 7090\" \n",
              " [446] \"Gates 91102\" \"Gates 4048\"  \"Gates 4048\"  \"Gates 4048\"  \"Gates 7090\" \n",
              " [451] \"Gates 5059\"  \"Gates 112\"   \"Gates 5059\"  \"Gates 91102\" \"Gates 7090\" \n",
              " [456] \"Gates 7090\"  \"Gates 5059\"  \"Gates 112\"   \"Gates 91102\" \"Gates 112\"  \n",
              " [461] \"Gates 112\"   \"Gates 112\"   \"Gates 112\"   \"Gates 112\"   \"Gates 5059\" \n",
              " [466] \"Gates 91102\" \"Gates 112\"   \"Gates 91102\" \"Gates 2039\"  \"Gates 2039\" \n",
              " [471] \"Gates 5059\"  \"Gates 5059\"  \"Gates 7090\"  \"Gates 91102\" \"Gates 7090\" \n",
              " [476] \"Gates 2039\"  \"Gates 112\"   \"Gates 112\"   \"Gates 91102\" \"Gates 112\"  \n",
              " [481] \"Gates 112\"   \"Gates 112\"   \"Gates 91102\" \"Gates 5059\"  \"Gates 5059\" \n",
              " [486] \"Gates 112\"   \"Gates 112\"   \"Gates 5059\"  \"Gates 91102\" \"Gates 112\"  \n",
              " [491] \"Gates 112\"   \"Gates 2039\"  \"Gates 91102\" \"Gates 112\"   \"Gates 2039\" \n",
              " [496] \"Gates 5059\"  \"Gates 91102\" \"Gates 7090\"  \"Gates 4048\"  \"Gates 91102\"\n",
              " [501] \"Gates 4048\"  \"Gates 112\"   \"Gates 6069\"  \"Gates 5059\"  \"Gates 7090\" \n",
              " [506] \"Gates 5059\"  \"Gates 91102\" \"Gates 91102\" \"Gates 7090\"  \"Gates 2039\" \n",
              " [511] \"Gates 7090\"  \"Gates 4048\"  \"Gates 4048\"  \"Gates 2039\"  \"Gates 91102\"\n",
              " [516] \"Gates 2039\"  \"Gates 4048\"  \"Gates 4048\"  \"Gates 7090\"  \"Gates 112\"  \n",
              " [521] \"Gates 91102\" \"Gates 91102\" \"Gates 91102\" \"Gates 91102\" \"Gates 4048\" \n",
              " [526] \"Gates 112\"   \"Gates 4048\"  \"Gates 7090\"  \"Gates 7090\"  \"Gates 7090\" \n",
              " [531] \"Gates 2039\"  \"Gates 7090\"  \"Gates 112\"   \"Gates 5059\"  \"Gates 112\"  \n",
              " [536] \"Gates 5059\"  \"Gates 5059\"  \"Gates 112\"   \"Gates 2039\"  \"Gates 5059\" \n",
              " [541] \"Gates 5059\"  \"Gates 5059\"  \"Gates 5059\"  \"Gates 7090\"  \"Gates 91102\"\n",
              " [546] \"Gates 112\"   \"Gates 7090\"  \"Gates 91102\" \"Gates 91102\" \"Gates 91102\"\n",
              " [551] \"Gates 112\"   \"Gates 5059\"  \"Gates 4048\"  \"Gates 2039\"  \"Gates 5059\" \n",
              " [556] \"Gates 5059\"  \"Gates 2039\"  \"Gates 6069\"  \"Gates 5059\"  \"Gates 112\"  \n",
              " [561] \"Gates 112\"   \"Gates 91102\" \"Gates 112\"   \"Gates 91102\" \"Gates 91102\"\n",
              " [566] \"Gates 112\"   \"Gates 91102\" \"Gates 112\"   \"Gates 112\"   \"Gates 112\"  \n",
              " [571] \"Gates 7090\"  \"Gates 91102\" \"Gates 5059\"  \"Gates 6069\"  \"Gates 112\"  \n",
              " [576] \"Gates 112\"   \"Gates 2039\"  \"Gates 112\"   \"Gates 7090\"  \"Gates 4048\" \n",
              " [581] \"Gates 112\"   \"Gates 5059\"  \"Gates 112\"   \"Gates 91102\" \"Gates 5059\" \n",
              " [586] \"Gates 2039\"  \"Gates 91102\" \"Gates 4048\"  \"Gates 7090\"  \"Gates 6069\" \n",
              " [591] \"Gates 4048\"  \"Gates 4048\"  \"Gates 112\"   \"Gates 112\"   \"Gates 7090\" \n",
              " [596] \"Gates 91102\" \"Gates 5059\"  \"Gates 2039\"  \"Gates 5059\"  \"Gates 91102\"\n",
              " [601] \"Gates 2039\"  \"Gates 112\"   \"Gates 4048\"  \"Gates 5059\"  \"Gates 91102\"\n",
              " [606] \"Gates 5059\"  \"Gates 91102\" \"Gates 6069\"  \"Gates 112\"   \"Gates 112\"  \n",
              " [611] \"Gates 112\"   \"Gates 91102\" \"Gates 112\"   \"Gates 112\"   \"Gates 2039\" \n",
              " [616] \"Gates 112\"   \"Gates 5059\"  \"Gates 112\"   \"Gates 7090\"  \"Gates 112\"  \n",
              " [621] \"Gates 7090\"  \"Gates 4048\"  \"Gates 7090\"  \"Gates 112\"   \"Gates 4048\" \n",
              " [626] \"Gates 2039\"  \"Gates 2039\"  \"Gates 112\"   \"Gates 112\"   \"Gates 91102\"\n",
              " [631] \"Gates 6069\"  \"Gates 112\"   \"Gates 91102\" \"Gates 4048\"  \"Gates 91102\"\n",
              " [636] \"Gates 2039\"  \"Gates 91102\" \"Gates 112\"   \"Gates 5059\"  \"Gates 7090\" \n",
              " [641] \"Gates 91102\" \"Gates 7090\"  \"Gates 112\"   \"Gates 112\"   \"Gates 112\"  \n",
              " [646] \"Gates 112\"   \"Gates 112\"   \"Gates 7090\"  \"Gates 112\"   \"Gates 5059\" \n",
              " [651] \"Gates 112\"   \"Gates 91102\" \"Gates 91102\" \"Gates 5059\"  \"Gates 5059\" \n",
              " [656] \"Gates 7090\"  \"Gates 7090\"  \"Gates 5059\"  \"Gates 91102\" \"Gates 5059\" \n",
              " [661] \"Gates 5059\"  \"Gates 91102\" \"Gates 112\"   \"Gates 91102\" \"Gates 5059\" \n",
              " [666] \"Gates 91102\" \"Gates 112\"   \"Gates 2039\"  \"Gates 6069\"  \"Gates 7090\" \n",
              " [671] \"Gates 7090\"  \"Gates 5059\"  \"Gates 91102\" \"Gates 112\"   \"Gates 112\"  \n",
              " [676] \"Gates 4048\"  \"Gates 112\"   \"Gates 4048\"  \"Gates 112\"   \"Gates 2039\" \n",
              " [681] \"Gates 2039\"  \"Gates 7090\"  \"Gates 2039\"  \"Gates 5059\"  \"Gates 112\"  \n",
              " [686] \"Gates 112\"   \"Gates 5059\"  \"Gates 2039\"  \"Gates 112\"   \"Gates 91102\"\n",
              " [691] \"Gates 91102\" \"Gates 7090\"  \"Gates 5059\"  \"Gates 91102\" \"Gates 112\"  \n",
              " [696] \"Gates 7090\"  \"Gates 5059\"  \"Gates 5059\"  \"Gates 5059\"  \"Gates 91102\"\n",
              " [701] \"Gates 7090\"  \"Gates 112\"   \"Gates 112\"   \"Gates 5059\"  \"Gates 6069\" \n",
              " [706] \"Gates 112\"   \"Gates 91102\" \"Gates 112\"   \"Gates 112\"   \"Gates 112\"  \n",
              " [711] \"Gates 4048\"  \"Gates 5059\"  \"Gates 112\"   \"Gates 112\"   \"Gates 91102\"\n",
              " [716] \"Gates 2039\"  \"Gates 91102\" \"Gates 112\"   \"Gates 112\"   \"Gates 112\"  \n",
              " [721] \"Gates 5059\"  \"Gates 5059\"  \"Gates 7090\"  \"Gates 7090\"  \"Gates 5059\" \n",
              " [726] \"Gates 4048\"  \"Gates 2039\"  \"Gates 112\"   \"Gates 112\"   \"Gates 7090\" \n",
              " [731] \"Gates 4048\"  \"Gates 112\"   \"Gates 91102\" \"Gates 112\"   \"Gates 91102\"\n",
              " [736] \"Gates 5059\"  \"Gates 7090\"  \"Gates 91102\" \"Gates 91102\" \"Gates 112\"  \n",
              " [741] \"Gates 112\"   \"Gates 112\"   \"Gates 7090\"  \"Gates 5059\"  \"Gates 5059\" \n",
              " [746] \"Gates 112\"   \"Gates 7090\"  \"Gates 5059\"  \"Gates 112\"   \"Gates 7090\" \n",
              " [751] \"Gates 112\"   \"Gates 7090\"  \"Gates 91102\" \"Gates 5059\"  \"Gates 112\"  \n",
              " [756] \"Gates 112\"   \"Gates 6069\"  \"Gates 112\"   \"Gates 4048\"  \"Gates 112\"  \n",
              " [761] \"Gates 5059\"  \"Gates 91102\" \"Gates 112\"   \"Gates 7090\"  \"Gates 5059\" \n",
              " [766] \"Gates 91102\" \"Gates 91102\" \"Gates 112\"   \"Gates 112\"   \"Gates 112\"  \n",
              " [771] \"Gates 5059\"  \"Gates 112\"   \"Gates 5059\"  \"Gates 91102\" \"Gates 112\"  \n",
              " [776] \"Gates 112\"   \"Gates 112\"   \"Gates 4048\"  \"Gates 91102\" \"Gates 2039\" \n",
              " [781] \"Gates 91102\" \"Gates 112\"   \"Gates 7090\"  \"Gates 91102\" \"Gates 91102\"\n",
              " [786] \"Gates 91102\" \"Gates 7090\"  \"Gates 112\"   \"Gates 112\"   \"Gates 4048\" \n",
              " [791] \"Gates 91102\" \"Gates 5059\"  \"Gates 4048\"  \"Gates 112\"   \"Gates 112\"  \n",
              " [796] \"Gates 112\"   \"Gates 112\"   \"Gates 4048\"  \"Gates 112\"   \"Gates 112\"  \n",
              " [801] \"Gates 5059\"  \"Gates 5059\"  \"Gates 7090\"  \"Gates 2039\"  \"Gates 112\"  \n",
              " [806] \"Gates 7090\"  \"Gates 7090\"  \"Gates 91102\" \"Gates 2039\"  \"Gates 91102\"\n",
              " [811] \"Gates 7090\"  \"Gates 5059\"  \"Gates 112\"   \"Gates 7090\"  \"Gates 91102\"\n",
              " [816] \"Gates 112\"   \"Gates 4048\"  \"Gates 6069\"  \"Gates 5059\"  \"Gates 91102\"\n",
              " [821] \"Gates 91102\" \"Gates 6069\"  \"Gates 2039\"  \"Gates 6069\"  \"Gates 91102\"\n",
              " [826] \"Gates 7090\"  \"Gates 2039\"  \"Gates 91102\" \"Gates 91102\" \"Gates 2039\" \n",
              " [831] \"Gates 2039\"  \"Gates 2039\"  \"Gates 7090\"  \"Gates 91102\" \"Gates 6069\" \n",
              " [836] \"Gates 5059\"  \"Gates 5059\"  \"Gates 5059\"  \"Gates 4048\"  \"Gates 2039\" \n",
              " [841] \"Gates 91102\" \"Gates 7090\"  \"Gates 5059\"  \"Gates 112\"   \"Gates 112\"  \n",
              " [846] \"Gates 112\"   \"Gates 6069\"  \"Gates 4048\"  \"Gates 7090\"  \"Gates 6069\" \n",
              " [851] \"Gates 112\"   \"Gates 112\"   \"Gates 5059\"  \"Gates 5059\"  \"Gates 91102\"\n",
              " [856] \"Gates 4048\"  \"Gates 112\"   \"Gates 5059\"  \"Gates 112\"   \"Gates 4048\" \n",
              " [861] \"Gates 2039\"  \"Gates 91102\" \"Gates 4048\"  \"Gates 2039\"  \"Gates 6069\" \n",
              " [866] \"Gates 7090\"  \"Gates 7090\"  \"Gates 5059\"  \"Gates 2039\"  \"Gates 7090\" \n",
              " [871] \"Gates 7090\"  \"Gates 4048\"  \"Gates 4048\"  \"Gates 4048\"  \"Gates 112\"  \n",
              " [876] \"Gates 91102\" \"Gates 5059\"  \"Gates 7090\"  \"Gates 7090\"  \"Gates 112\"  \n",
              " [881] \"Gates 5059\"  \"Gates 2039\"  \"Gates 91102\" \"Gates 91102\" \"Gates 6069\" \n",
              " [886] \"Gates 91102\" \"Gates 4048\"  \"Gates 2039\"  \"Gates 6069\"  \"Gates 7090\" \n",
              " [891] \"Gates 91102\" \"Gates 112\"   \"Gates 91102\" \"Gates 112\"   \"Gates 91102\"\n",
              " [896] \"Gates 5059\"  \"Gates 91102\" \"Gates 6069\"  \"Gates 5059\"  \"Gates 7090\" \n",
              " [901] \"Gates 6069\"  \"Gates 91102\" \"Gates 112\"   \"Gates 2039\"  \"Gates 4048\" \n",
              " [906] \"Gates 112\"   \"Gates 4048\"  \"Gates 6069\"  \"Gates 91102\" \"Gates 91102\"\n",
              " [911] \"Gates 91102\" \"Gates 91102\" \"Gates 91102\" \"Gates 91102\" \"Gates 2039\" \n",
              " [916] \"Gates 5059\"  \"Gates 2039\"  \"Gates 7090\"  \"Gates 112\"   \"Gates 4048\" \n",
              " [921] \"Gates 91102\" \"Gates 112\"   \"Gates 7090\"  \"Gates 5059\"  \"Gates 112\"  \n",
              " [926] \"Gates 5059\"  \"Gates 4048\"  \"Gates 112\"   \"Gates 4048\"  \"Gates 5059\" \n",
              " [931] \"Gates 112\"   \"Gates 91102\" \"Gates 2039\"  \"Gates 91102\" \"Gates 7090\" \n",
              " [936] \"Gates 91102\" \"Gates 91102\" \"Gates 112\"   \"Gates 91102\" \"Gates 91102\"\n",
              " [941] \"Gates 91102\" \"Gates 4048\"  \"Gates 112\"   \"Gates 7090\"  \"Gates 91102\"\n",
              " [946] \"Gates 112\"   \"Gates 112\"   \"Gates 5059\"  \"Gates 112\"   \"Gates 112\"  \n",
              " [951] \"Gates 91102\" \"Gates 112\"   \"Gates 91102\" \"Gates 91102\" \"Gates 112\"  \n",
              " [956] \"Gates 91102\" \"Gates 112\"   \"Gates 112\"   \"Gates 91102\" \"Gates 5059\" \n",
              " [961] \"Gates 112\"   \"Gates 112\"   \"Gates 2039\"  \"Gates 91102\" \"Gates 7090\" \n",
              " [966] \"Gates 7090\"  \"Gates 7090\"  \"Gates 2039\"  \"Gates 91102\" \"Gates 7090\" \n",
              " [971] \"Gates 91102\" \"Gates 112\"   \"Gates 5059\"  \"Gates 112\"   \"Gates 112\"  \n",
              " [976] \"Gates 91102\" \"Gates 112\"   \"Gates 112\"   \"Gates 112\"   \"Gates 6069\" \n",
              " [981] \"Gates 7090\"  \"Gates 7090\"  \"Gates 7090\"  \"Gates 5059\"  \"Gates 7090\" \n",
              " [986] \"Gates 7090\"  \"Gates 7090\"  \"Gates 5059\"  \"Gates 2039\"  \"Gates 2039\" \n",
              " [991] \"Gates 112\"   \"Gates 7090\"  \"Gates 112\"   \"Gates 112\"   \"Gates 91102\"\n",
              " [996] \"Gates 112\"   \"Gates 91102\" \"Gates 7090\"  \"Gates 112\"   \"Gates 112\"  \n",
              "[1001] \"Gates 112\"   \"Gates 2039\"  \"Gates 5059\"  \"Gates 7090\"  \"Gates 7090\" \n",
              "[1006] \"Gates 2039\"  \"Gates 7090\"  \"Gates 112\"   \"Gates 91102\" \"Gates 112\"  \n",
              "[1011] \"Gates 2039\"  \"Gates 112\"   \"Gates 91102\" \"Gates 7090\"  \"Gates 7090\" \n",
              "[1016] \"Gates 112\"   \"Gates 112\"   \"Gates 4048\"  \"Gates 91102\" \"Gates 91102\"\n",
              "[1021] \"Gates 5059\"  \"Gates 4048\"  \"Gates 112\"   \"Gates 5059\"  \"Gates 7090\" \n",
              "[1026] \"Gates 91102\" \"Gates 5059\"  \"Gates 112\"   \"Gates 91102\" \"Gates 4048\" \n",
              "[1031] \"Gates 112\"   \"Gates 112\"   \"Gates 7090\"  \"Gates 112\"   \"Gates 5059\" \n",
              "[1036] \"Gates 2039\"  \"Gates 4048\"  \"Gates 112\"   \"Gates 7090\"  \"Gates 112\"  \n",
              "[1041] \"Gates 4048\"  \"Gates 4048\"  \"Gates 7090\"  \"Gates 5059\"  \"Gates 5059\" \n",
              "[1046] \"Gates 112\"   \"Gates 2039\"  \"Gates 5059\"  \"Gates 112\"   \"Gates 4048\" \n",
              "[1051] \"Gates 2039\"  \"Gates 6069\"  \"Gates 91102\" \"Gates 5059\"  \"Gates 91102\"\n",
              "[1056] \"Gates 112\"   \"Gates 91102\" \"Gates 6069\"  \"Gates 6069\"  \"Gates 5059\" \n",
              "[1061] \"Gates 91102\" \"Gates 112\"   \"Gates 7090\"  \"Gates 112\"   \"Gates 5059\" \n",
              "[1066] \"Gates 91102\" \"Gates 7090\"  \"Gates 91102\" \"Gates 5059\"  \"Gates 91102\"\n",
              "[1071] \"Gates 7090\"  \"Gates 7090\"  \"Gates 2039\"  \"Gates 7090\"  \"Gates 112\"  \n",
              "[1076] \"Gates 91102\" \"Gates 112\"   \"Gates 5059\"  \"Gates 5059\"  \"Gates 91102\"\n",
              "[1081] \"Gates 112\"   \"Gates 112\"   \"Gates 91102\" \"Gates 91102\" \"Gates 5059\" \n",
              "[1086] \"Gates 6069\"  \"Gates 4048\"  \"Gates 112\"   \"Gates 112\"   \"Gates 112\"  \n",
              "[1091] \"Gates 5059\"  \"Gates 112\"   \"Gates 112\"   \"Gates 112\"   \"Gates 112\"  \n",
              "[1096] \"Gates 7090\"  \"Gates 7090\"  \"Gates 5059\"  \"Gates 91102\" \"Gates 7090\" \n",
              "[1101] \"Gates 5059\"  \"Gates 5059\"  \"Gates 91102\" \"Gates 91102\" \"Gates 91102\"\n",
              "[1106] \"Gates 5059\"  \"Gates 5059\"  \"Gates 112\"   \"Gates 112\"   \"Gates 112\"  \n",
              "[1111] \"Gates 112\"   \"Gates 7090\"  \"Gates 5059\"  \"Gates 112\"   \"Gates 112\"  \n",
              "[1116] \"Gates 112\"   \"Gates 112\"   \"Gates 91102\" \"Gates 2039\"  \"Gates 91102\"\n",
              "[1121] \"Gates 91102\" \"Gates 91102\" \"Gates 112\"   \"Gates 112\"   \"Gates 112\"  \n",
              "[1126] \"Gates 91102\" \"Gates 112\"   \"Gates 5059\"  \"Gates 5059\"  \"Gates 5059\" \n",
              "[1131] \"Gates 7090\"  \"Gates 91102\" \"Gates 5059\"  \"Gates 112\"   \"Gates 6069\" \n",
              "[1136] \"Gates 4048\"  \"Gates 4048\"  \"Gates 5059\"  \"Gates 91102\" \"Gates 5059\" \n",
              "[1141] \"Gates 5059\"  \"Gates 2039\"  \"Gates 112\"   \"Gates 91102\" \"Gates 6069\" \n",
              "[1146] \"Gates 112\"   \"Gates 112\"   \"Gates 2039\"  \"Gates 91102\" \"Gates 112\"  \n",
              "[1151] \"Gates 112\"   \"Gates 112\"   \"Gates 2039\"  \"Gates 5059\"  \"Gates 91102\"\n",
              "[1156] \"Gates 91102\" \"Gates 2039\"  \"Gates 4048\"  \"Gates 6069\"  \"Gates 2039\" \n",
              "[1161] \"Gates 91102\" \"Gates 7090\"  \"Gates 2039\"  \"Gates 7090\"  \"Gates 4048\" \n",
              "[1166] \"Gates 5059\"  \"Gates 4048\"  \"Gates 4048\"  \"Gates 5059\"  \"Gates 7090\" \n",
              "[1171] \"Gates 91102\" \"Gates 6069\"  \"Gates 7090\"  \"Gates 4048\"  \"Gates 112\"  \n",
              "[1176] \"Gates 112\"   \"Gates 112\"   \"Gates 7090\"  \"Gates 6069\"  \"Gates 112\"  \n",
              "[1181] \"Gates 2039\"  \"Gates 7090\"  \"Gates 4048\"  \"Gates 2039\"  \"Gates 5059\" \n",
              "[1186] \"Gates 5059\"  \"Gates 112\"   \"Gates 5059\"  \"Gates 112\"   \"Gates 91102\"\n",
              "[1191] \"Gates 6069\"  \"Gates 91102\" \"Gates 91102\" \"Gates 91102\" \"Gates 5059\" \n",
              "[1196] \"Gates 112\"   \"Gates 5059\"  \"Gates 5059\"  \"Gates 7090\"  \"Gates 5059\" \n",
              "[1201] \"Gates 7090\"  \"Gates 7090\"  \"Gates 5059\"  \"Gates 112\"   \"Gates 112\"  \n",
              "[1206] \"Gates 112\"   \"Gates 2039\"  \"Gates 5059\"  \"Gates 5059\"  \"Gates 91102\"\n",
              "[1211] \"Gates 112\"   \"Gates 91102\" \"Gates 4048\"  \"Gates 112\"   \"Gates 7090\" \n",
              "[1216] \"Gates 7090\"  \"Gates 4048\"  \"Gates 2039\"  \"Gates 7090\"  \"Gates 91102\"\n",
              "[1221] \"Gates 7090\"  \"Gates 5059\"  \"Gates 5059\"  \"Gates 7090\"  \"Gates 6069\" \n",
              "[1226] \"Gates 112\"   \"Gates 112\"   \"Gates 6069\"  \"Gates 112\"   \"Gates 112\"  \n",
              "[1231] \"Gates 112\"   \"Gates 6069\"  \"Gates 7090\"  \"Gates 7090\"  \"Gates 6069\" \n",
              "[1236] \"Gates 4048\"  \"Gates 5059\"  \"Gates 4048\"  \"Gates 5059\"  \"Gates 7090\" \n",
              "[1241] \"Gates 7090\"  \"Gates 5059\"  \"Gates 5059\"  \"Gates 5059\"  \"Gates 5059\" \n",
              "[1246] \"Gates 91102\" \"Gates 112\"   \"Gates 5059\"  \"Gates 2039\"  \"Gates 112\"  \n",
              "[1251] \"Gates 7090\"  \"Gates 4048\"  \"Gates 91102\" \"Gates 4048\"  \"Gates 5059\" \n",
              "[1256] \"Gates 2039\"  \"Gates 5059\"  \"Gates 4048\"  \"Gates 7090\"  \"Gates 91102\"\n",
              "[1261] \"Gates 7090\"  \"Gates 7090\"  \"Gates 7090\"  \"Gates 91102\" \"Gates 6069\" \n",
              "[1266] \"Gates 7090\"  \"Gates 91102\" \"Gates 112\"   \"Gates 5059\"  \"Gates 112\"  \n",
              "[1271] \"Gates 5059\"  \"Gates 2039\"  \"Gates 112\"   \"Gates 2039\"  \"Gates 7090\" \n",
              "[1276] \"Gates 4048\"  \"Gates 5059\"  \"Gates 91102\" \"Gates 5059\"  \"Gates 112\"  \n",
              "[1281] \"Gates 5059\"  \"Gates 5059\"  \"Gates 5059\"  \"Gates 4048\"  \"Gates 112\"  \n",
              "[1286] \"Gates 7090\"  \"Gates 112\"   \"Gates 4048\"  \"Gates 7090\"  \"Gates 112\"  \n",
              "[1291] \"Gates 112\"   \"Gates 91102\" \"Gates 91102\" \"Gates 112\"   \"Gates 5059\" \n",
              "[1296] \"Gates 7090\"  \"Gates 5059\"  \"Gates 91102\" \"Gates 112\"   \"Gates 112\"  \n",
              "[1301] \"Gates 5059\"  \"Gates 5059\"  \"Gates 6069\"  \"Gates 5059\"  \"Gates 91102\"\n",
              "[1306] \"Gates 7090\"  \"Gates 7090\"  \"Gates 5059\"  \"Gates 7090\"  \"Gates 112\"  \n",
              "[1311] \"Gates 5059\"  \"Gates 112\"   \"Gates 91102\" \"Gates 6069\"  \"Gates 112\"  \n",
              "[1316] \"Gates 2039\"  \"Gates 2039\"  \"Gates 112\"   \"Gates 2039\"  \"Gates 112\"  \n",
              "[1321] \"Gates 91102\" \"Gates 112\"   \"Gates 4048\"  \"Gates 112\"   \"Gates 91102\"\n",
              "[1326] \"Gates 112\"   \"Gates 6069\"  \"Gates 2039\"  \"Gates 91102\" \"Gates 7090\" \n",
              "[1331] \"Gates 112\"   \"Gates 2039\"  \"Gates 112\"   \"Gates 2039\"  \"Gates 2039\" \n",
              "[1336] \"Gates 112\"   \"Gates 91102\" \"Gates 91102\" \"Gates 112\"   \"Gates 112\"  \n",
              "[1341] \"Gates 91102\" \"Gates 112\"   \"Gates 5059\"  \"Gates 4048\"  \"Gates 91102\"\n",
              "[1346] \"Gates 5059\"  \"Gates 2039\"  \"Gates 4048\"  \"Gates 112\"   \"Gates 112\"  \n",
              "[1351] \"Gates 7090\"  \"Gates 2039\"  \"Gates 91102\" \"Gates 112\"   \"Gates 91102\"\n",
              "[1356] \"Gates 112\"   \"Gates 112\"   \"Gates 5059\"  \"Gates 7090\"  \"Gates 91102\"\n",
              "[1361] \"Gates 7090\"  \"Gates 112\"   \"Gates 91102\" \"Gates 112\"   \"Gates 4048\" \n",
              "[1366] \"Gates 112\"   \"Gates 91102\" \"Gates 91102\" \"Gates 4048\"  \"Gates 5059\" \n",
              "[1371] \"Gates 91102\" \"Gates 5059\"  \"Gates 7090\"  \"Gates 91102\" \"Gates 112\"  \n",
              "[1376] \"Gates 91102\" \"Gates 5059\"  \"Gates 7090\"  \"Gates 4048\"  \"Gates 112\"  \n",
              "[1381] \"Gates 7090\"  \"Gates 2039\"  \"Gates 7090\"  \"Gates 5059\"  \"Gates 112\"  \n",
              "[1386] \"Gates 5059\"  \"Gates 112\"   \"Gates 112\"   \"Gates 112\"   \"Gates 112\"  \n",
              "[1391] \"Gates 112\"   \"Gates 5059\"  \"Gates 4048\"  \"Gates 112\"   \"Gates 5059\" \n",
              "[1396] \"Gates 112\"   \"Gates 91102\" \"Gates 7090\"  \"Gates 112\"   \"Gates 4048\" \n",
              "[1401] \"Gates 112\"   \"Gates 91102\" \"Gates 2039\"  \"Gates 91102\" \"Gates 112\"  \n",
              "[1406] \"Gates 112\"   \"Gates 4048\"  \"Gates 112\"   \"Gates 7090\"  \"Gates 7090\" \n",
              "[1411] \"Gates 7090\"  \"Gates 5059\"  \"Gates 91102\" \"Gates 91102\" \"Gates 4048\" \n",
              "[1416] \"Gates 112\"   \"Gates 112\"   \"Gates 112\"   \"Gates 112\"   \"Gates 7090\" \n",
              "[1421] \"Gates 112\"   \"Gates 112\"   \"Gates 112\"   \"Gates 112\"   \"Gates 6069\" \n",
              "[1426] \"Gates 7090\"  \"Gates 91102\" \"Gates 112\"   \"Gates 5059\"  \"Gates 7090\" \n",
              "[1431] \"Gates 7090\"  \"Gates 7090\"  \"Gates 7090\"  \"Gates 91102\" \"Gates 7090\" \n",
              "[1436] \"Gates 5059\"  \"Gates 91102\" \"Gates 112\"   \"Gates 112\"   \"Gates 112\"  \n",
              "[1441] \"Gates 112\"   \"Gates 7090\"  \"Gates 112\"   \"Gates 112\"   \"Gates 7090\" \n",
              "[1446] \"Gates 7090\"  \"Gates 2039\"  \"Gates 4048\"  \"Gates 112\"   \"Gates 4048\" \n",
              "[1451] \"Gates 5059\"  \"Gates 112\"   \"Gates 112\"   \"Gates 5059\"  \"Gates 112\"  \n",
              "[1456] \"Gates 5059\"  \"Gates 5059\"  \"Gates 5059\"  \"Gates 5059\"  \"Gates 7090\" \n",
              "[1461] \"Gates 2039\"  \"Gates 2039\"  \"Gates 2039\"  \"Gates 91102\" \"Gates 7090\" \n",
              "[1466] \"Gates 112\"   \"Gates 5059\"  \"Gates 91102\" \"Gates 112\"   \"Gates 112\"  \n",
              "[1471] \"Gates 2039\"  \"Gates 7090\"  \"Gates 112\"   \"Gates 112\"   \"Gates 91102\"\n",
              "[1476] \"Gates 7090\"  \"Gates 112\"   \"Gates 112\"   \"Gates 91102\" \"Gates 112\"  \n",
              "[1481] \"Gates 91102\" \"Gates 112\"   \"Gates 6069\"  \"Gates 91102\" \"Gates 112\"  \n",
              "[1486] \"Gates 2039\"  \"Gates 2039\"  \"Gates 112\"   \"Gates 112\"   \"Gates 112\"  \n",
              "[1491] \"Gates 2039\"  \"Gates 91102\" \"Gates 91102\" \"Gates 91102\" \"Gates 7090\" \n",
              "[1496] \"Gates 2039\"  \"Gates 91102\" \"Gates 112\"   \"Gates 5059\"  \"Gates 112\"  \n",
              "[1501] \"Gates 112\"   \"Gates 5059\"  \"Gates 5059\"  \"Gates 112\"   \"Gates 2039\" \n",
              "[1506] \"Gates 4048\"  \"Gates 5059\"  \"Gates 4048\"  \"Gates 112\"   \"Gates 5059\" \n",
              "[1511] \"Gates 112\"   \"Gates 2039\"  \"Gates 5059\"  \"Gates 91102\" \"Gates 2039\" \n",
              "[1516] \"Gates 5059\"  \"Gates 6069\"  \"Gates 112\"   \"Gates 112\"   \"Gates 112\"  \n",
              "[1521] \"Gates 112\"   \"Gates 7090\"  \"Gates 4048\"  \"Gates 2039\"  \"Gates 6069\" \n",
              "[1526] \"Gates 7090\"  \"Gates 112\"   \"Gates 5059\"  \"Gates 91102\" \"Gates 5059\" \n",
              "[1531] \"Gates 5059\"  \"Gates 91102\" \"Gates 91102\" \"Gates 91102\" \"Gates 5059\" \n",
              "[1536] \"Gates 112\"   \"Gates 7090\"  \"Gates 112\"   \"Gates 2039\"  \"Gates 5059\" \n",
              "[1541] \"Gates 112\"   \"Gates 91102\" \"Gates 2039\"  \"Gates 91102\" \"Gates 112\"  \n",
              "[1546] \"Gates 91102\" \"Gates 112\"   \"Gates 6069\"  \"Gates 4048\"  \"Gates 91102\"\n",
              "[1551] \"Gates 6069\"  \"Gates 5059\"  \"Gates 112\"   \"Gates 2039\"  \"Gates 7090\" \n",
              "[1556] \"Gates 6069\"  \"Gates 5059\"  \"Gates 112\"   \"Gates 5059\"  \"Gates 5059\" \n",
              "[1561] \"Gates 112\"   \"Gates 91102\" \"Gates 7090\"  \"Gates 112\"   \"Gates 2039\" \n",
              "[1566] \"Gates 91102\" \"Gates 91102\" \"Gates 2039\"  \"Gates 5059\"  \"Gates 5059\" \n",
              "[1571] \"Gates 91102\" \"Gates 5059\"  \"Gates 112\"   \"Gates 112\"   \"Gates 5059\" \n",
              "[1576] \"Gates 112\"   \"Gates 7090\"  \"Gates 91102\" \"Gates 5059\"  \"Gates 6069\" \n",
              "[1581] \"Gates 91102\" \"Gates 5059\"  \"Gates 2039\"  \"Gates 5059\"  \"Gates 112\"  \n",
              "[1586] \"Gates 112\"   \"Gates 112\"   \"Gates 112\"   \"Gates 5059\"  \"Gates 91102\"\n",
              "[1591] \"Gates 5059\"  \"Gates 6069\"  \"Gates 112\"   \"Gates 5059\"  \"Gates 91102\"\n",
              "[1596] \"Gates 5059\"  \"Gates 5059\"  \"Gates 91102\" \"Gates 7090\"  \"Gates 91102\"\n",
              "[1601] \"Gates 112\"   \"Gates 91102\" \"Gates 91102\" \"Gates 112\"   \"Gates 91102\"\n",
              "[1606] \"Gates 112\"   \"Gates 5059\"  \"Gates 112\"   \"Gates 7090\"  \"Gates 7090\" \n",
              "[1611] \"Gates 112\"   \"Gates 112\"   \"Gates 91102\" \"Gates 5059\"  \"Gates 112\"  \n",
              "[1616] \"Gates 91102\" \"Gates 4048\"  \"Gates 112\"   \"Gates 5059\"  \"Gates 91102\"\n",
              "[1621] \"Gates 91102\" \"Gates 7090\"  \"Gates 91102\" \"Gates 112\"   \"Gates 6069\" \n",
              "[1626] \"Gates 91102\" \"Gates 7090\"  \"Gates 91102\" \"Gates 112\"   \"Gates 5059\" \n",
              "[1631] \"Gates 7090\"  \"Gates 2039\"  \"Gates 112\"   \"Gates 112\"   \"Gates 91102\"\n",
              "[1636] \"Gates 112\"   \"Gates 7090\"  \"Gates 91102\" \"Gates 112\"   \"Gates 6069\" \n",
              "[1641] \"Gates 7090\"  \"Gates 6069\"  \"Gates 91102\" \"Gates 91102\" \"Gates 4048\" \n",
              "[1646] \"Gates 5059\"  \"Gates 5059\"  \"Gates 6069\"  \"Gates 112\"   \"Gates 2039\" \n",
              "[1651] \"Gates 5059\"  \"Gates 91102\" \"Gates 5059\"  \"Gates 5059\"  \"Gates 5059\" \n",
              "[1656] \"Gates 7090\"  \"Gates 91102\" \"Gates 91102\" \"Gates 5059\"  \"Gates 5059\" \n",
              "[1661] \"Gates 91102\" \"Gates 4048\"  \"Gates 4048\"  \"Gates 4048\"  \"Gates 5059\" \n",
              "[1666] \"Gates 5059\"  \"Gates 5059\"  \"Gates 91102\" \"Gates 7090\"  \"Gates 7090\" \n",
              "[1671] \"Gates 7090\"  \"Gates 7090\"  \"Gates 91102\" \"Gates 5059\"  \"Gates 7090\" \n",
              "[1676] \"Gates 2039\"  \"Gates 2039\"  \"Gates 5059\"  \"Gates 112\"   \"Gates 7090\" \n",
              "[1681] \"Gates 6069\"  \"Gates 2039\"  \"Gates 5059\"  \"Gates 5059\"  \"Gates 7090\" \n",
              "[1686] \"Gates 112\"   \"Gates 7090\"  \"Gates 4048\"  \"Gates 112\"   \"Gates 7090\" \n",
              "[1691] \"Gates 91102\" \"Gates 112\"   \"Gates 91102\" \"Gates 5059\"  \"Gates 5059\" \n",
              "[1696] \"Gates 91102\" \"Gates 91102\" \"Gates 112\"   \"Gates 4048\"  \"Gates 7090\" \n",
              "[1701] \"Gates 4048\"  \"Gates 7090\"  \"Gates 6069\"  \"Gates 112\"   \"Gates 6069\" \n",
              "[1706] \"Gates 91102\" \"Gates 6069\"  \"Gates 6069\"  \"Gates 6069\"  \"Gates 7090\" \n",
              "[1711] \"Gates 7090\"  \"Gates 5059\"  \"Gates 112\"   \"Gates 6069\"  \"Gates 6069\" \n",
              "[1716] \"Gates 91102\" \"Gates 112\"   \"Gates 112\"   \"Gates 112\"   \"Gates 112\"  \n",
              "[1721] \"Gates 112\"   \"Gates 5059\"  \"Gates 7090\"  \"Gates 91102\" \"Gates 4048\" \n",
              "[1726] \"Gates 6069\"  \"Gates 112\"   \"Gates 112\"   \"Gates 112\"   \"Gates 7090\" \n",
              "[1731] \"Gates 112\"   \"Gates 7090\"  \"Gates 91102\" \"Gates 5059\"  \"Gates 91102\"\n",
              "[1736] \"Gates 6069\"  \"Gates 7090\"  \"Gates 6069\"  \"Gates 112\"   \"Gates 91102\"\n",
              "[1741] \"Gates 4048\"  \"Gates 2039\"  \"Gates 6069\"  \"Gates 7090\"  \"Gates 91102\"\n",
              "[1746] \"Gates 6069\"  \"Gates 91102\" \"Gates 2039\"  \"Gates 5059\"  \"Gates 5059\" \n",
              "[1751] \"Gates 91102\" \"Gates 5059\"  \"Gates 112\"   \"Gates 6069\"  \"Gates 7090\" \n",
              "[1756] \"Gates 5059\"  \"Gates 7090\"  \"Gates 7090\"  \"Gates 91102\" \"Gates 6069\" \n",
              "[1761] \"Gates 5059\"  \"Gates 2039\"  \"Gates 5059\"  \"Gates 112\"   \"Gates 91102\"\n",
              "[1766] \"Gates 7090\"  \"Gates 91102\" \"Gates 7090\"  \"Gates 6069\"  \"Gates 2039\" \n",
              "[1771] \"Gates 5059\"  \"Gates 112\"   \"Gates 6069\"  \"Gates 7090\"  \"Gates 5059\" \n",
              "[1776] \"Gates 2039\"  \"Gates 7090\"  \"Gates 112\"   \"Gates 7090\"  \"Gates 5059\" \n",
              "[1781] \"Gates 5059\"  \"Gates 2039\"  \"Gates 6069\"  \"Gates 5059\"  \"Gates 4048\" \n",
              "[1786] \"Gates 5059\"  \"Gates 5059\"  \"Gates 2039\"  \"Gates 91102\" \"Gates 5059\" \n",
              "[1791] \"Gates 112\"   \"Gates 91102\" \"Gates 91102\" \"Gates 112\"   \"Gates 91102\"\n",
              "[1796] \"Gates 112\"   \"Gates 2039\"  \"Gates 91102\" \"Gates 112\"   \"Gates 112\"  \n",
              "[1801] \"Gates 91102\" \"Gates 5059\"  \"Gates 91102\" \"Gates 112\"   \"Gates 6069\" \n",
              "[1806] \"Gates 112\"   \"Gates 7090\"  \"Gates 5059\"  \"Gates 112\"   \"Gates 7090\" \n",
              "[1811] \"Gates 5059\"  \"Gates 112\"   \"Gates 91102\" \"Gates 112\"   \"Gates 5059\" \n",
              "[1816] \"Gates 7090\"  \"Gates 5059\"  \"Gates 91102\" \"Gates 112\"   \"Gates 112\"  \n",
              "[1821] \"Gates 91102\" \"Gates 2039\"  \"Gates 6069\"  \"Gates 112\"   \"Gates 112\"  \n",
              "[1826] \"Gates 5059\"  \"Gates 5059\"  \"Gates 112\"   \"Gates 91102\" \"Gates 5059\" \n",
              "[1831] \"Gates 91102\" \"Gates 7090\"  \"Gates 4048\"  \"Gates 7090\"  \"Gates 91102\"\n",
              "[1836] \"Gates 91102\" \"Gates 5059\"  \"Gates 112\"   \"Gates 112\"   \"Gates 91102\"\n",
              "[1841] \"Gates 5059\"  \"Gates 5059\"  \"Gates 112\"   \"Gates 112\"   \"Gates 112\"  \n",
              "[1846] \"Gates 5059\"  \"Gates 7090\"  \"Gates 91102\" \"Gates 4048\"  \"Gates 91102\"\n",
              "[1851] \"Gates 112\"   \"Gates 2039\"  \"Gates 112\"   \"Gates 4048\"  \"Gates 91102\"\n",
              "[1856] \"Gates 112\"   \"Gates 7090\"  \"Gates 112\"   \"Gates 2039\"  \"Gates 5059\" \n",
              "[1861] \"Gates 112\"   \"Gates 4048\"  \"Gates 7090\"  \"Gates 112\"   \"Gates 112\"  \n",
              "[1866] \"Gates 6069\"  \"Gates 5059\"  \"Gates 112\"   \"Gates 91102\" \"Gates 5059\" \n",
              "[1871] \"Gates 4048\"  \"Gates 91102\" \"Gates 112\"   \"Gates 2039\"  \"Gates 91102\"\n",
              "[1876] \"Gates 6069\"  \"Gates 5059\"  \"Gates 5059\"  \"Gates 91102\" \"Gates 91102\"\n",
              "[1881] \"Gates 7090\"  \"Gates 112\"   \"Gates 5059\"  \"Gates 4048\"  \"Gates 5059\" \n",
              "[1886] \"Gates 91102\" \"Gates 5059\"  \"Gates 112\"   \"Gates 112\"   \"Gates 112\"  \n",
              "[1891] \"Gates 112\"   \"Gates 5059\"  \"Gates 6069\"  \"Gates 91102\" \"Gates 91102\"\n",
              "[1896] \"Gates 7090\"  \"Gates 7090\"  \"Gates 7090\"  \"Gates 7090\"  \"Gates 5059\" \n",
              "[1901] \"Gates 91102\" \"Gates 5059\"  \"Gates 6069\"  \"Gates 112\"   \"Gates 112\"  \n",
              "[1906] \"Gates 91102\" \"Gates 112\"   \"Gates 112\"   \"Gates 6069\"  \"Gates 112\"  \n",
              "[1911] \"Gates 5059\"  \"Gates 112\"   \"Gates 91102\" \"Gates 2039\"  \"Gates 91102\"\n",
              "[1916] \"Gates 6069\"  \"Gates 91102\" \"Gates 7090\"  \"Gates 4048\"  \"Gates 2039\" \n",
              "[1921] \"Gates 91102\" \"Gates 112\"   \"Gates 91102\" \"Gates 91102\" \"Gates 91102\"\n",
              "[1926] \"Gates 5059\"  \"Gates 7090\"  \"Gates 91102\" \"Gates 112\"   \"Gates 112\"  \n",
              "[1931] \"Gates 112\"   \"Gates 112\"   \"Gates 112\"   \"Gates 112\"   \"Gates 6069\" \n",
              "[1936] \"Gates 6069\"  \"Gates 7090\"  \"Gates 6069\"  \"Gates 91102\" \"Gates 7090\" \n",
              "[1941] \"Gates 112\"   \"Gates 112\"   \"Gates 7090\"  \"Gates 5059\"  \"Gates 7090\" \n",
              "[1946] \"Gates 2039\"  \"Gates 2039\"  \"Gates 5059\"  \"Gates 91102\" \"Gates 7090\" \n",
              "[1951] \"Gates 112\"   \"Gates 2039\"  \"Gates 91102\" \"Gates 7090\"  \"Gates 6069\" \n",
              "[1956] \"Gates 7090\"  \"Gates 7090\"  \"Gates 112\"   \"Gates 112\"   \"Gates 5059\" \n",
              "[1961] \"Gates 112\"   \"Gates 5059\"  \"Gates 112\"   \"Gates 2039\"  \"Gates 112\"  \n",
              "[1966] \"Gates 5059\"  \"Gates 7090\"  \"Gates 4048\"  \"Gates 5059\"  \"Gates 91102\"\n",
              "[1971] \"Gates 91102\" \"Gates 112\"   \"Gates 112\"   \"Gates 7090\"  \"Gates 2039\" \n",
              "[1976] \"Gates 7090\"  \"Gates 112\"   \"Gates 5059\"  \"Gates 5059\"  \"Gates 5059\" \n",
              "[1981] \"Gates 2039\"  \"Gates 91102\" \"Gates 91102\" \"Gates 5059\"  \"Gates 6069\" \n",
              "[1986] \"Gates 5059\"  \"Gates 91102\" \"Gates 91102\" \"Gates 112\"   \"Gates 4048\" \n",
              "[1991] \"Gates 91102\" \"Gates 112\"   \"Gates 4048\"  \"Gates 5059\"  \"Gates 5059\" \n",
              "[1996] \"Gates 5059\"  \"Gates 91102\" \"Gates 91102\" \"Gates 7090\"  \"Gates 7090\" \n",
              "[2001] \"Gates 5059\"  \"Gates 91102\" \"Gates 7090\"  \"Gates 7090\"  \"Gates 5059\" \n",
              "[2006] \"Gates 7090\"  \"Gates 91102\" \"Gates 112\"   \"Gates 2039\"  \"Gates 4048\" \n",
              "[2011] \"Gates 6069\"  \"Gates 112\"   \"Gates 5059\"  \"Gates 112\"   \"Gates 112\"  \n",
              "[2016] \"Gates 7090\"  \"Gates 112\"   \"Gates 5059\"  \"Gates 5059\"  \"Gates 112\"  \n",
              "[2021] \"Gates 112\"   \"Gates 112\"   \"Gates 5059\"  \"Gates 91102\" \"Gates 112\"  \n",
              "[2026] \"Gates 5059\"  \"Gates 5059\"  \"Gates 112\"   \"Gates 6069\"  \"Gates 5059\" \n",
              "[2031] \"Gates 91102\" \"Gates 5059\"  \"Gates 112\"   \"Gates 91102\" \"Gates 4048\" \n",
              "[2036] \"Gates 7090\"  \"Gates 2039\"  \"Gates 4048\"  \"Gates 7090\"  \"Gates 112\"  \n",
              "[2041] \"Gates 112\"   \"Gates 2039\"  \"Gates 112\"   \"Gates 112\"   \"Gates 91102\"\n",
              "[2046] \"Gates 5059\"  \"Gates 5059\"  \"Gates 5059\"  \"Gates 7090\"  \"Gates 5059\" \n",
              "[2051] \"Gates 7090\"  \"Gates 112\"   \"Gates 4048\"  \"Gates 4048\"  \"Gates 112\"  \n",
              "[2056] \"Gates 112\"   \"Gates 112\"   \"Gates 7090\"  \"Gates 91102\" \"Gates 112\"  \n",
              "[2061] \"Gates 7090\"  \"Gates 6069\"  \"Gates 91102\" \"Gates 112\"   \"Gates 7090\" \n",
              "[2066] \"Gates 4048\"  \"Gates 7090\"  \"Gates 7090\"  \"Gates 7090\"  \"Gates 7090\" \n",
              "[2071] \"Gates 112\"   \"Gates 2039\"  \"Gates 6069\"  \"Gates 2039\"  \"Gates 5059\" \n",
              "[2076] \"Gates 91102\" \"Gates 7090\"  \"Gates 6069\"  \"Gates 91102\" \"Gates 91102\"\n",
              "[2081] \"Gates 6069\"  \"Gates 7090\"  \"Gates 7090\"  \"Gates 7090\"  \"Gates 5059\" \n",
              "[2086] \"Gates 5059\"  \"Gates 112\"   \"Gates 91102\" \"Gates 5059\"  \"Gates 112\"  \n",
              "[2091] \"Gates 5059\"  \"Gates 5059\"  \"Gates 2039\"  \"Gates 2039\"  \"Gates 4048\" \n",
              "[2096] \"Gates 4048\"  \"Gates 5059\"  \"Gates 5059\"  \"Gates 5059\"  \"Gates 7090\" \n",
              "[2101] \"Gates 6069\"  \"Gates 112\"   \"Gates 6069\"  \"Gates 5059\"  \"Gates 5059\" \n",
              "[2106] \"Gates 7090\"  \"Gates 6069\"  \"Gates 5059\"  \"Gates 6069\"  \"Gates 6069\" \n",
              "[2111] \"Gates 7090\"  \"Gates 5059\"  \"Gates 7090\"  \"Gates 4048\"  \"Gates 5059\" \n",
              "[2116] \"Gates 4048\"  \"Gates 6069\"  \"Gates 5059\"  \"Gates 7090\"  \"Gates 91102\"\n",
              "[2121] \"Gates 2039\"  \"Gates 4048\"  \"Gates 7090\"  \"Gates 91102\" \"Gates 4048\" \n",
              "[2126] \"Gates 2039\"  \"Gates 2039\"  \"Gates 6069\"  \"Gates 112\"   \"Gates 7090\" \n",
              "[2131] \"Gates 5059\"  \"Gates 6069\"  \"Gates 7090\"  \"Gates 7090\"  \"Gates 91102\"\n",
              "[2136] \"Gates 7090\"  \"Gates 5059\"  \"Gates 7090\"  \"Gates 2039\"  \"Gates 6069\" \n",
              "[2141] \"Gates 7090\"  \"Gates 7090\"  \"Gates 4048\"  \"Gates 6069\"  \"Gates 5059\" \n",
              "[2146] \"Gates 7090\"  \"Gates 112\"   \"Gates 4048\"  \"Gates 4048\"  \"Gates 91102\"\n",
              "[2151] \"Gates 91102\" \"Gates 7090\"  \"Gates 4048\"  \"Gates 7090\"  \"Gates 7090\" \n",
              "[2156] \"Gates 7090\"  \"Gates 2039\"  \"Gates 91102\" \"Gates 2039\"  \"Gates 112\"  \n",
              "[2161] \"Gates 6069\"  \"Gates 112\"   \"Gates 2039\"  \"Gates 112\"   \"Gates 6069\" \n",
              "[2166] \"Gates 2039\"  \"Gates 112\"   \"Gates 7090\"  \"Gates 5059\"  \"Gates 4048\" \n",
              "[2171] \"Gates 4048\"  \"Gates 5059\"  \"Gates 7090\"  \"Gates 6069\"  \"Gates 5059\" \n",
              "[2176] \"Gates 5059\"  \"Gates 4048\"  \"Gates 7090\"  \"Gates 5059\"  \"Gates 7090\" \n",
              "[2181] \"Gates 7090\"  \"Gates 7090\"  \"Gates 5059\"  \"Gates 5059\"  \"Gates 91102\"\n",
              "[2186] \"Gates 112\"   \"Gates 91102\" \"Gates 7090\"  \"Gates 91102\" \"Gates 91102\"\n",
              "[2191] \"Gates 7090\"  \"Gates 5059\"  \"Gates 91102\" \"Gates 5059\"  \"Gates 91102\"\n",
              "[2196] \"Gates 5059\"  \"Gates 5059\"  \"Gates 5059\"  \"Gates 4048\"  \"Gates 112\"  \n",
              "[2201] \"Gates 5059\"  \"Gates 112\"   \"Gates 112\"   \"Gates 5059\"  \"Gates 2039\" \n",
              "[2206] \"Gates 2039\"  \"Gates 91102\" \"Gates 91102\" \"Gates 7090\"  \"Gates 91102\"\n",
              "[2211] \"Gates 7090\"  \"Gates 5059\"  \"Gates 2039\"  \"Gates 5059\"  \"Gates 112\"  \n",
              "[2216] \"Gates 91102\" \"Gates 112\"   \"Gates 112\"   \"Gates 5059\"  \"Gates 5059\" \n",
              "[2221] \"Gates 6069\"  \"Gates 6069\"  \"Gates 112\"   \"Gates 5059\"  \"Gates 91102\"\n",
              "[2226] \"Gates 91102\" \"Gates 91102\" \"Gates 5059\"  \"Gates 91102\" \"Gates 7090\" \n",
              "[2231] \"Gates 91102\" \"Gates 7090\"  \"Gates 7090\"  \"Gates 91102\" \"Gates 112\"  \n",
              "[2236] \"Gates 7090\"  \"Gates 112\"   \"Gates 91102\" \"Gates 6069\"  \"Gates 6069\" \n",
              "[2241] \"Gates 7090\"  \"Gates 112\"   \"Gates 5059\"  \"Gates 112\"   \"Gates 91102\"\n",
              "[2246] \"Gates 91102\" \"Gates 6069\"  \"Gates 112\"   \"Gates 5059\"  \"Gates 91102\"\n",
              "[2251] \"Gates 91102\" \"Gates 112\"   \"Gates 5059\"  \"Gates 5059\"  \"Gates 91102\"\n",
              "[2256] \"Gates 5059\"  \"Gates 5059\"  \"Gates 2039\"  \"Gates 112\"   \"Gates 5059\" \n",
              "[2261] \"Gates 112\"   \"Gates 5059\"  \"Gates 91102\" \"Gates 5059\"  \"Gates 91102\"\n",
              "[2266] \"Gates 91102\" \"Gates 91102\" \"Gates 5059\"  \"Gates 91102\" \"Gates 2039\" \n",
              "[2271] \"Gates 4048\"  \"Gates 91102\" \"Gates 112\"   \"Gates 5059\"  \"Gates 7090\" \n",
              "[2276] \"Gates 2039\"  \"Gates 5059\"  \"Gates 5059\"  \"Gates 91102\" \"Gates 6069\" \n",
              "[2281] \"Gates 5059\"  \"Gates 112\"   \"Gates 7090\"  \"Gates 112\"   \"Gates 91102\"\n",
              "[2286] \"Gates 112\"   \"Gates 112\"   \"Gates 91102\" \"Gates 2039\"  \"Gates 112\"  \n",
              "[2291] \"Gates 2039\"  \"Gates 112\"   \"Gates 91102\" \"Gates 91102\" \"Gates 112\"  \n",
              "[2296] \"Gates 7090\"  \"Gates 112\"   \"Gates 91102\" \"Gates 6069\"  \"Gates 91102\"\n",
              "[2301] \"Gates 2039\"  \"Gates 112\"   \"Gates 4048\"  \"Gates 112\"   \"Gates 112\"  \n",
              "[2306] \"Gates 2039\"  \"Gates 2039\"  \"Gates 91102\" \"Gates 2039\"  \"Gates 6069\" \n",
              "[2311] \"Gates 2039\"  \"Gates 112\"   \"Gates 112\"   \"Gates 5059\"  \"Gates 5059\" \n",
              "[2316] \"Gates 5059\"  \"Gates 6069\"  \"Gates 91102\" \"Gates 7090\"  \"Gates 7090\" \n",
              "[2321] \"Gates 112\"   \"Gates 5059\"  \"Gates 91102\" \"Gates 112\"   \"Gates 7090\" \n",
              "[2326] \"Gates 7090\"  \"Gates 5059\"  \"Gates 5059\"  \"Gates 112\"   \"Gates 6069\" \n",
              "[2331] \"Gates 7090\"  \"Gates 5059\"  \"Gates 5059\"  \"Gates 5059\"  \"Gates 2039\" \n",
              "[2336] \"Gates 4048\"  \"Gates 2039\"  \"Gates 112\"   \"Gates 91102\" \"Gates 6069\" \n",
              "[2341] \"Gates 112\"   \"Gates 5059\"  \"Gates 7090\"  \"Gates 7090\"  \"Gates 7090\" \n",
              "[2346] \"Gates 91102\" \"Gates 112\"   \"Gates 112\"   \"Gates 112\"   \"Gates 112\"  \n",
              "[2351] \"Gates 5059\"  \"Gates 5059\"  \"Gates 5059\"  \"Gates 5059\"  \"Gates 91102\"\n",
              "[2356] \"Gates 5059\"  \"Gates 4048\"  \"Gates 7090\"  \"Gates 2039\"  \"Gates 5059\" \n",
              "[2361] \"Gates 2039\"  \"Gates 112\"   \"Gates 112\"   \"Gates 91102\" \"Gates 5059\" \n",
              "[2366] \"Gates 5059\"  \"Gates 112\"   \"Gates 5059\"  \"Gates 7090\"  \"Gates 5059\" \n",
              "[2371] \"Gates 91102\" \"Gates 7090\"  \"Gates 4048\"  \"Gates 112\"   \"Gates 4048\" \n",
              "[2376] \"Gates 5059\"  \"Gates 6069\"  \"Gates 5059\"  \"Gates 6069\"  \"Gates 91102\"\n",
              "[2381] \"Gates 7090\"  \"Gates 5059\"  \"Gates 91102\" \"Gates 112\"   \"Gates 112\"  \n",
              "[2386] \"Gates 112\"   \"Gates 112\"   \"Gates 91102\" \"Gates 91102\" \"Gates 4048\" \n",
              "[2391] \"Gates 5059\"  \"Gates 5059\"  \"Gates 7090\"  \"Gates 91102\" \"Gates 91102\"\n",
              "[2396] \"Gates 91102\" \"Gates 6069\"  \"Gates 5059\"  \"Gates 112\"   \"Gates 112\"  \n",
              "[2401] \"Gates 112\"   \"Gates 91102\" \"Gates 5059\"  \"Gates 112\"   \"Gates 112\"  \n",
              "[2406] \"Gates 2039\"  \"Gates 91102\" \"Gates 91102\" \"Gates 7090\"  \"Gates 112\"  \n",
              "[2411] \"Gates 112\"   \"Gates 4048\"  \"Gates 4048\"  \"Gates 4048\"  \"Gates 5059\" \n",
              "[2416] \"Gates 112\"   \"Gates 4048\"  \"Gates 5059\"  \"Gates 112\"   \"Gates 112\"  \n",
              "[2421] \"Gates 91102\" \"Gates 5059\"  \"Gates 91102\" \"Gates 112\"   \"Gates 5059\" \n",
              "[2426] \"Gates 91102\" \"Gates 4048\"  \"Gates 6069\"  \"Gates 7090\"  \"Gates 91102\"\n",
              "[2431] \"Gates 7090\"  \"Gates 5059\"  \"Gates 91102\" \"Gates 7090\"  \"Gates 6069\" \n",
              "[2436] \"Gates 5059\"  \"Gates 7090\"  \"Gates 91102\" \"Gates 5059\"  \"Gates 7090\" \n",
              "[2441] \"Gates 7090\"  \"Gates 91102\" \"Gates 5059\"  \"Gates 91102\" \"Gates 4048\" \n",
              "[2446] \"Gates 7090\"  \"Gates 6069\"  \"Gates 6069\"  \"Gates 7090\"  \"Gates 5059\" \n",
              "[2451] \"Gates 7090\"  \"Gates 7090\"  \"Gates 6069\"  \"Gates 6069\"  \"Gates 6069\" \n",
              "[2456] \"Gates 112\"   \"Gates 4048\"  \"Gates 2039\"  \"Gates 2039\"  \"Gates 7090\" \n",
              "[2461] \"Gates 112\"   \"Gates 91102\" \"Gates 5059\"  \"Gates 91102\" \"Gates 7090\" \n",
              "[2466] \"Gates 7090\"  \"Gates 7090\"  \"Gates 6069\"  \"Gates 7090\"  \"Gates 2039\" \n",
              "[2471] \"Gates 112\"   \"Gates 91102\" \"Gates 5059\"  \"Gates 112\"   \"Gates 112\"  \n",
              "[2476] \"Gates 5059\"  \"Gates 112\"   \"Gates 112\"   \"Gates 112\"   \"Gates 4048\" \n",
              "[2481] \"Gates 91102\" \"Gates 5059\"  \"Gates 2039\"  \"Gates 4048\"  \"Gates 2039\" \n",
              "[2486] \"Gates 5059\"  \"Gates 112\"   \"Gates 5059\"  \"Gates 7090\"  \"Gates 91102\"\n",
              "[2491] \"Gates 4048\"  \"Gates 112\"   \"Gates 112\"   \"Gates 91102\" \"Gates 2039\" \n",
              "[2496] \"Gates 5059\"  \"Gates 5059\"  \"Gates 2039\"  \"Gates 112\"   \"Gates 112\"  \n",
              "[2501] \"Gates 5059\"  \"Gates 2039\"  \"Gates 5059\"  \"Gates 112\"   \"Gates 91102\"\n",
              "[2506] \"Gates 4048\"  \"Gates 91102\" \"Gates 5059\"  \"Gates 5059\"  \"Gates 91102\"\n",
              "[2511] \"Gates 112\"   \"Gates 112\"   \"Gates 2039\"  \"Gates 112\"   \"Gates 7090\" \n",
              "[2516] \"Gates 112\"   \"Gates 112\"   \"Gates 5059\"  \"Gates 5059\"  \"Gates 4048\" \n",
              "[2521] \"Gates 6069\"  \"Gates 5059\"  \"Gates 2039\"  \"Gates 4048\"  \"Gates 5059\" \n",
              "[2526] \"Gates 5059\"  \"Gates 91102\" \"Gates 112\"   \"Gates 4048\"  \"Gates 7090\" \n",
              "[2531] \"Gates 7090\"  \"Gates 112\"   \"Gates 5059\"  \"Gates 2039\"  \"Gates 5059\" \n",
              "[2536] \"Gates 112\"   \"Gates 2039\"  \"Gates 112\"   \"Gates 112\"   \"Gates 4048\" \n",
              "[2541] \"Gates 5059\"  \"Gates 7090\"  \"Gates 4048\"  \"Gates 5059\"  \"Gates 5059\" \n",
              "[2546] \"Gates 2039\"  \"Gates 4048\"  \"Gates 2039\"  \"Gates 2039\"  \"Gates 91102\"\n",
              "[2551] \"Gates 112\"   \"Gates 112\"   \"Gates 112\"   \"Gates 7090\"  \"Gates 112\"  \n",
              "[2556] \"Gates 112\"   \"Gates 4048\"  \"Gates 6069\"  \"Gates 7090\"  \"Gates 7090\" \n",
              "[2561] \"Gates 112\"   \"Gates 5059\"  \"Gates 4048\"  \"Gates 112\"   \"Gates 5059\" \n",
              "[2566] \"Gates 5059\"  \"Gates 112\"   \"Gates 5059\"  \"Gates 112\"   \"Gates 112\"  \n",
              "[2571] \"Gates 112\"   \"Gates 5059\"  \"Gates 2039\"  \"Gates 2039\"  \"Gates 2039\" \n",
              "[2576] \"Gates 5059\"  \"Gates 7090\"  \"Gates 91102\" \"Gates 91102\" \"Gates 5059\" \n",
              "[2581] \"Gates 6069\"  \"Gates 2039\"  \"Gates 112\"   \"Gates 112\"   \"Gates 5059\" \n",
              "[2586] \"Gates 5059\"  \"Gates 112\"   \"Gates 91102\" \"Gates 112\"   \"Gates 91102\"\n",
              "[2591] \"Gates 7090\"  \"Gates 6069\"  \"Gates 91102\" \"Gates 6069\"  \"Gates 112\"  \n",
              "[2596] \"Gates 7090\"  \"Gates 6069\"  \"Gates 112\"   \"Gates 91102\" \"Gates 91102\"\n",
              "[2601] \"Gates 91102\" \"Gates 7090\"  \"Gates 2039\"  \"Gates 7090\"  \"Gates 4048\" \n",
              "[2606] \"Gates 112\"   \"Gates 5059\"  \"Gates 5059\"  \"Gates 7090\"  \"Gates 7090\" \n",
              "[2611] \"Gates 4048\"  \"Gates 91102\" \"Gates 2039\"  \"Gates 5059\"  \"Gates 4048\" \n",
              "[2616] \"Gates 5059\"  \"Gates 2039\"  \"Gates 112\"   \"Gates 112\"   \"Gates 7090\" \n",
              "[2621] \"Gates 2039\"  \"Gates 112\"   \"Gates 6069\"  \"Gates 112\"   \"Gates 5059\" \n",
              "[2626] \"Gates 5059\"  \"Gates 112\"   \"Gates 6069\"  \"Gates 2039\"  \"Gates 5059\" \n",
              "[2631] \"Gates 5059\"  \"Gates 112\"   \"Gates 5059\"  \"Gates 112\"   \"Gates 6069\" \n",
              "[2636] \"Gates 7090\"  \"Gates 112\"   \"Gates 112\"   \"Gates 7090\"  \"Gates 7090\" \n",
              "[2641] \"Gates 5059\"  \"Gates 91102\" \"Gates 6069\"  \"Gates 112\"   \"Gates 5059\" \n",
              "[2646] \"Gates 7090\"  \"Gates 5059\"  \"Gates 112\"   \"Gates 5059\"  \"Gates 112\"  \n",
              "[2651] \"Gates 112\"   \"Gates 5059\"  \"Gates 4048\"  \"Gates 112\"   \"Gates 112\"  \n",
              "[2656] \"Gates 5059\"  \"Gates 91102\" \"Gates 6069\"  \"Gates 2039\"  \"Gates 91102\"\n",
              "[2661] \"Gates 2039\"  \"Gates 6069\"  \"Gates 112\"   \"Gates 112\"   \"Gates 112\"  \n",
              "[2666] \"Gates 6069\"  \"Gates 7090\"  \"Gates 5059\"  \"Gates 5059\"  \"Gates 112\"  \n",
              "[2671] \"Gates 4048\"  \"Gates 4048\"  \"Gates 112\"   \"Gates 112\"   \"Gates 7090\" \n",
              "[2676] \"Gates 6069\"  \"Gates 91102\" \"Gates 112\"   \"Gates 2039\"  \"Gates 5059\" \n",
              "[2681] \"Gates 91102\" \"Gates 6069\"  \"Gates 7090\"  \"Gates 112\"   \"Gates 112\"  \n",
              "[2686] \"Gates 7090\"  \"Gates 112\"   \"Gates 91102\" \"Gates 5059\"  \"Gates 91102\"\n",
              "[2691] \"Gates 91102\" \"Gates 112\"   \"Gates 112\"   \"Gates 7090\"  \"Gates 7090\" \n",
              "[2696] \"Gates 4048\"  \"Gates 112\"   \"Gates 5059\"  \"Gates 6069\"  \"Gates 6069\" \n",
              "[2701] \"Gates 91102\" \"Gates 112\"   \"Gates 7090\"  \"Gates 2039\"  \"Gates 2039\" \n",
              "[2706] \"Gates 112\"   \"Gates 2039\"  \"Gates 6069\"  \"Gates 7090\"  \"Gates 5059\" \n",
              "[2711] \"Gates 91102\" \"Gates 91102\" \"Gates 112\"   \"Gates 112\"   \"Gates 112\"  \n",
              "[2716] \"Gates 2039\"  \"Gates 5059\"  \"Gates 7090\"  \"Gates 4048\"  \"Gates 112\"  \n",
              "[2721] \"Gates 6069\"  \"Gates 112\"   \"Gates 7090\"  \"Gates 91102\" \"Gates 91102\"\n",
              "[2726] \"Gates 112\"   \"Gates 5059\"  \"Gates 2039\"  \"Gates 91102\" \"Gates 112\"  \n",
              "[2731] \"Gates 4048\"  \"Gates 112\"   \"Gates 112\"   \"Gates 91102\" \"Gates 5059\" \n",
              "[2736] \"Gates 112\"   \"Gates 6069\"  \"Gates 112\"   \"Gates 7090\"  \"Gates 112\"  \n",
              "[2741] \"Gates 91102\" \"Gates 5059\"  \"Gates 91102\" \"Gates 5059\"  \"Gates 4048\" \n",
              "[2746] \"Gates 7090\"  \"Gates 7090\"  \"Gates 112\"   \"Gates 112\"   \"Gates 112\"  \n",
              "[2751] \"Gates 5059\"  \"Gates 112\"   \"Gates 5059\"  \"Gates 91102\" \"Gates 91102\"\n",
              "[2756] \"Gates 5059\"  \"Gates 7090\"  \"Gates 7090\"  \"Gates 5059\"  \"Gates 112\"  \n",
              "[2761] \"Gates 7090\"  \"Gates 6069\"  \"Gates 112\"   \"Gates 91102\" \"Gates 5059\" \n",
              "[2766] \"Gates 2039\"  \"Gates 4048\"  \"Gates 91102\" \"Gates 112\"   \"Gates 6069\" \n",
              "[2771] \"Gates 4048\"  \"Gates 2039\"  \"Gates 5059\"  \"Gates 7090\"  \"Gates 91102\"\n",
              "[2776] \"Gates 5059\"  \"Gates 2039\"  \"Gates 91102\" \"Gates 7090\"  \"Gates 7090\" \n",
              "[2781] \"Gates 6069\"  \"Gates 5059\"  \"Gates 7090\"  \"Gates 7090\"  \"Gates 7090\" \n",
              "[2786] \"Gates 5059\"  \"Gates 4048\"  \"Gates 7090\"  \"Gates 5059\"  \"Gates 5059\" \n",
              "[2791] \"Gates 7090\"  \"Gates 7090\"  \"Gates 2039\"  \"Gates 7090\"  \"Gates 7090\" \n",
              "[2796] \"Gates 4048\"  \"Gates 6069\"  \"Gates 7090\"  \"Gates 5059\"  \"Gates 2039\" \n",
              "[2801] \"Gates 5059\"  \"Gates 4048\"  \"Gates 2039\"  \"Gates 5059\"  \"Gates 7090\" \n",
              "[2806] \"Gates 7090\"  \"Gates 7090\"  \"Gates 91102\" \"Gates 5059\" "
            ],
            "text/latex": "\\begin{enumerate*}\n\\item 'Gates 91102'\n\\item 'Gates 91102'\n\\item 'Gates 91102'\n\\item 'Gates 91102'\n\\item 'Gates 91102'\n\\item 'Gates 5059'\n\\item 'Gates 91102'\n\\item 'Gates 91102'\n\\item 'Gates 91102'\n\\item 'Gates 91102'\n\\item 'Gates 91102'\n\\item 'Gates 91102'\n\\item 'Gates 91102'\n\\item 'Gates 91102'\n\\item 'Gates 91102'\n\\item 'Gates 112'\n\\item 'Gates 91102'\n\\item 'Gates 7090'\n\\item 'Gates 112'\n\\item 'Gates 91102'\n\\item 'Gates 7090'\n\\item 'Gates 5059'\n\\item 'Gates 7090'\n\\item 'Gates 6069'\n\\item 'Gates 112'\n\\item 'Gates 91102'\n\\item 'Gates 6069'\n\\item 'Gates 7090'\n\\item 'Gates 2039'\n\\item 'Gates 2039'\n\\item 'Gates 91102'\n\\item 'Gates 91102'\n\\item 'Gates 5059'\n\\item 'Gates 2039'\n\\item 'Gates 91102'\n\\item 'Gates 91102'\n\\item 'Gates 91102'\n\\item 'Gates 5059'\n\\item 'Gates 112'\n\\item 'Gates 2039'\n\\item 'Gates 91102'\n\\item 'Gates 91102'\n\\item 'Gates 4048'\n\\item 'Gates 112'\n\\item 'Gates 7090'\n\\item 'Gates 112'\n\\item 'Gates 7090'\n\\item 'Gates 91102'\n\\item 'Gates 5059'\n\\item 'Gates 91102'\n\\item 'Gates 91102'\n\\item 'Gates 112'\n\\item 'Gates 112'\n\\item 'Gates 112'\n\\item 'Gates 5059'\n\\item 'Gates 112'\n\\item 'Gates 7090'\n\\item 'Gates 7090'\n\\item 'Gates 2039'\n\\item 'Gates 7090'\n\\item 'Gates 2039'\n\\item 'Gates 4048'\n\\item 'Gates 6069'\n\\item 'Gates 5059'\n\\item 'Gates 5059'\n\\item 'Gates 5059'\n\\item 'Gates 91102'\n\\item 'Gates 2039'\n\\item 'Gates 112'\n\\item 'Gates 91102'\n\\item 'Gates 91102'\n\\item 'Gates 91102'\n\\item 'Gates 112'\n\\item 'Gates 5059'\n\\item 'Gates 5059'\n\\item 'Gates 5059'\n\\item 'Gates 91102'\n\\item 'Gates 4048'\n\\item 'Gates 2039'\n\\item 'Gates 91102'\n\\item 'Gates 5059'\n\\item 'Gates 91102'\n\\item 'Gates 7090'\n\\item 'Gates 7090'\n\\item 'Gates 91102'\n\\item 'Gates 91102'\n\\item 'Gates 7090'\n\\item 'Gates 4048'\n\\item 'Gates 2039'\n\\item 'Gates 4048'\n\\item 'Gates 7090'\n\\item 'Gates 5059'\n\\item 'Gates 5059'\n\\item 'Gates 5059'\n\\item 'Gates 2039'\n\\item 'Gates 7090'\n\\item 'Gates 91102'\n\\item 'Gates 4048'\n\\item 'Gates 7090'\n\\item 'Gates 7090'\n\\item 'Gates 4048'\n\\item 'Gates 7090'\n\\item 'Gates 2039'\n\\item 'Gates 5059'\n\\item 'Gates 7090'\n\\item 'Gates 7090'\n\\item 'Gates 91102'\n\\item 'Gates 91102'\n\\item 'Gates 4048'\n\\item 'Gates 91102'\n\\item 'Gates 112'\n\\item 'Gates 7090'\n\\item 'Gates 91102'\n\\item 'Gates 5059'\n\\item 'Gates 5059'\n\\item 'Gates 112'\n\\item 'Gates 112'\n\\item 'Gates 6069'\n\\item 'Gates 112'\n\\item 'Gates 91102'\n\\item 'Gates 91102'\n\\item 'Gates 112'\n\\item 'Gates 7090'\n\\item 'Gates 2039'\n\\item 'Gates 2039'\n\\item 'Gates 7090'\n\\item 'Gates 112'\n\\item 'Gates 112'\n\\item 'Gates 4048'\n\\item 'Gates 7090'\n\\item 'Gates 5059'\n\\item 'Gates 2039'\n\\item 'Gates 91102'\n\\item 'Gates 112'\n\\item 'Gates 6069'\n\\item 'Gates 112'\n\\item 'Gates 6069'\n\\item 'Gates 91102'\n\\item 'Gates 5059'\n\\item 'Gates 6069'\n\\item 'Gates 112'\n\\item 'Gates 2039'\n\\item 'Gates 112'\n\\item 'Gates 5059'\n\\item 'Gates 112'\n\\item 'Gates 6069'\n\\item 'Gates 112'\n\\item 'Gates 91102'\n\\item 'Gates 5059'\n\\item 'Gates 2039'\n\\item 'Gates 91102'\n\\item 'Gates 5059'\n\\item 'Gates 7090'\n\\item 'Gates 112'\n\\item 'Gates 91102'\n\\item 'Gates 7090'\n\\item 'Gates 112'\n\\item 'Gates 5059'\n\\item 'Gates 5059'\n\\item 'Gates 112'\n\\item 'Gates 91102'\n\\item 'Gates 7090'\n\\item 'Gates 2039'\n\\item 'Gates 112'\n\\item 'Gates 112'\n\\item 'Gates 112'\n\\item 'Gates 7090'\n\\item 'Gates 7090'\n\\item 'Gates 91102'\n\\item 'Gates 112'\n\\item 'Gates 7090'\n\\item 'Gates 91102'\n\\item 'Gates 7090'\n\\item 'Gates 2039'\n\\item 'Gates 7090'\n\\item 'Gates 5059'\n\\item 'Gates 2039'\n\\item 'Gates 91102'\n\\item 'Gates 91102'\n\\item 'Gates 112'\n\\item 'Gates 7090'\n\\item 'Gates 2039'\n\\item 'Gates 112'\n\\item 'Gates 91102'\n\\item 'Gates 91102'\n\\item 'Gates 5059'\n\\item 'Gates 2039'\n\\item 'Gates 6069'\n\\item 'Gates 5059'\n\\item 'Gates 7090'\n\\item 'Gates 112'\n\\item 'Gates 112'\n\\item 'Gates 7090'\n\\item 'Gates 91102'\n\\item 'Gates 5059'\n\\item 'Gates 7090'\n\\item 'Gates 112'\n\\item 'Gates 112'\n\\item 'Gates 112'\n\\item 'Gates 112'\n\\item ⋯\n\\item 'Gates 7090'\n\\item 'Gates 4048'\n\\item 'Gates 91102'\n\\item 'Gates 2039'\n\\item 'Gates 5059'\n\\item 'Gates 4048'\n\\item 'Gates 5059'\n\\item 'Gates 2039'\n\\item 'Gates 112'\n\\item 'Gates 112'\n\\item 'Gates 7090'\n\\item 'Gates 2039'\n\\item 'Gates 112'\n\\item 'Gates 6069'\n\\item 'Gates 112'\n\\item 'Gates 5059'\n\\item 'Gates 5059'\n\\item 'Gates 112'\n\\item 'Gates 6069'\n\\item 'Gates 2039'\n\\item 'Gates 5059'\n\\item 'Gates 5059'\n\\item 'Gates 112'\n\\item 'Gates 5059'\n\\item 'Gates 112'\n\\item 'Gates 6069'\n\\item 'Gates 7090'\n\\item 'Gates 112'\n\\item 'Gates 112'\n\\item 'Gates 7090'\n\\item 'Gates 7090'\n\\item 'Gates 5059'\n\\item 'Gates 91102'\n\\item 'Gates 6069'\n\\item 'Gates 112'\n\\item 'Gates 5059'\n\\item 'Gates 7090'\n\\item 'Gates 5059'\n\\item 'Gates 112'\n\\item 'Gates 5059'\n\\item 'Gates 112'\n\\item 'Gates 112'\n\\item 'Gates 5059'\n\\item 'Gates 4048'\n\\item 'Gates 112'\n\\item 'Gates 112'\n\\item 'Gates 5059'\n\\item 'Gates 91102'\n\\item 'Gates 6069'\n\\item 'Gates 2039'\n\\item 'Gates 91102'\n\\item 'Gates 2039'\n\\item 'Gates 6069'\n\\item 'Gates 112'\n\\item 'Gates 112'\n\\item 'Gates 112'\n\\item 'Gates 6069'\n\\item 'Gates 7090'\n\\item 'Gates 5059'\n\\item 'Gates 5059'\n\\item 'Gates 112'\n\\item 'Gates 4048'\n\\item 'Gates 4048'\n\\item 'Gates 112'\n\\item 'Gates 112'\n\\item 'Gates 7090'\n\\item 'Gates 6069'\n\\item 'Gates 91102'\n\\item 'Gates 112'\n\\item 'Gates 2039'\n\\item 'Gates 5059'\n\\item 'Gates 91102'\n\\item 'Gates 6069'\n\\item 'Gates 7090'\n\\item 'Gates 112'\n\\item 'Gates 112'\n\\item 'Gates 7090'\n\\item 'Gates 112'\n\\item 'Gates 91102'\n\\item 'Gates 5059'\n\\item 'Gates 91102'\n\\item 'Gates 91102'\n\\item 'Gates 112'\n\\item 'Gates 112'\n\\item 'Gates 7090'\n\\item 'Gates 7090'\n\\item 'Gates 4048'\n\\item 'Gates 112'\n\\item 'Gates 5059'\n\\item 'Gates 6069'\n\\item 'Gates 6069'\n\\item 'Gates 91102'\n\\item 'Gates 112'\n\\item 'Gates 7090'\n\\item 'Gates 2039'\n\\item 'Gates 2039'\n\\item 'Gates 112'\n\\item 'Gates 2039'\n\\item 'Gates 6069'\n\\item 'Gates 7090'\n\\item 'Gates 5059'\n\\item 'Gates 91102'\n\\item 'Gates 91102'\n\\item 'Gates 112'\n\\item 'Gates 112'\n\\item 'Gates 112'\n\\item 'Gates 2039'\n\\item 'Gates 5059'\n\\item 'Gates 7090'\n\\item 'Gates 4048'\n\\item 'Gates 112'\n\\item 'Gates 6069'\n\\item 'Gates 112'\n\\item 'Gates 7090'\n\\item 'Gates 91102'\n\\item 'Gates 91102'\n\\item 'Gates 112'\n\\item 'Gates 5059'\n\\item 'Gates 2039'\n\\item 'Gates 91102'\n\\item 'Gates 112'\n\\item 'Gates 4048'\n\\item 'Gates 112'\n\\item 'Gates 112'\n\\item 'Gates 91102'\n\\item 'Gates 5059'\n\\item 'Gates 112'\n\\item 'Gates 6069'\n\\item 'Gates 112'\n\\item 'Gates 7090'\n\\item 'Gates 112'\n\\item 'Gates 91102'\n\\item 'Gates 5059'\n\\item 'Gates 91102'\n\\item 'Gates 5059'\n\\item 'Gates 4048'\n\\item 'Gates 7090'\n\\item 'Gates 7090'\n\\item 'Gates 112'\n\\item 'Gates 112'\n\\item 'Gates 112'\n\\item 'Gates 5059'\n\\item 'Gates 112'\n\\item 'Gates 5059'\n\\item 'Gates 91102'\n\\item 'Gates 91102'\n\\item 'Gates 5059'\n\\item 'Gates 7090'\n\\item 'Gates 7090'\n\\item 'Gates 5059'\n\\item 'Gates 112'\n\\item 'Gates 7090'\n\\item 'Gates 6069'\n\\item 'Gates 112'\n\\item 'Gates 91102'\n\\item 'Gates 5059'\n\\item 'Gates 2039'\n\\item 'Gates 4048'\n\\item 'Gates 91102'\n\\item 'Gates 112'\n\\item 'Gates 6069'\n\\item 'Gates 4048'\n\\item 'Gates 2039'\n\\item 'Gates 5059'\n\\item 'Gates 7090'\n\\item 'Gates 91102'\n\\item 'Gates 5059'\n\\item 'Gates 2039'\n\\item 'Gates 91102'\n\\item 'Gates 7090'\n\\item 'Gates 7090'\n\\item 'Gates 6069'\n\\item 'Gates 5059'\n\\item 'Gates 7090'\n\\item 'Gates 7090'\n\\item 'Gates 7090'\n\\item 'Gates 5059'\n\\item 'Gates 4048'\n\\item 'Gates 7090'\n\\item 'Gates 5059'\n\\item 'Gates 5059'\n\\item 'Gates 7090'\n\\item 'Gates 7090'\n\\item 'Gates 2039'\n\\item 'Gates 7090'\n\\item 'Gates 7090'\n\\item 'Gates 4048'\n\\item 'Gates 6069'\n\\item 'Gates 7090'\n\\item 'Gates 5059'\n\\item 'Gates 2039'\n\\item 'Gates 5059'\n\\item 'Gates 4048'\n\\item 'Gates 2039'\n\\item 'Gates 5059'\n\\item 'Gates 7090'\n\\item 'Gates 7090'\n\\item 'Gates 7090'\n\\item 'Gates 91102'\n\\item 'Gates 5059'\n\\end{enumerate*}\n",
            "text/markdown": "1. 'Gates 91102'\n2. 'Gates 91102'\n3. 'Gates 91102'\n4. 'Gates 91102'\n5. 'Gates 91102'\n6. 'Gates 5059'\n7. 'Gates 91102'\n8. 'Gates 91102'\n9. 'Gates 91102'\n10. 'Gates 91102'\n11. 'Gates 91102'\n12. 'Gates 91102'\n13. 'Gates 91102'\n14. 'Gates 91102'\n15. 'Gates 91102'\n16. 'Gates 112'\n17. 'Gates 91102'\n18. 'Gates 7090'\n19. 'Gates 112'\n20. 'Gates 91102'\n21. 'Gates 7090'\n22. 'Gates 5059'\n23. 'Gates 7090'\n24. 'Gates 6069'\n25. 'Gates 112'\n26. 'Gates 91102'\n27. 'Gates 6069'\n28. 'Gates 7090'\n29. 'Gates 2039'\n30. 'Gates 2039'\n31. 'Gates 91102'\n32. 'Gates 91102'\n33. 'Gates 5059'\n34. 'Gates 2039'\n35. 'Gates 91102'\n36. 'Gates 91102'\n37. 'Gates 91102'\n38. 'Gates 5059'\n39. 'Gates 112'\n40. 'Gates 2039'\n41. 'Gates 91102'\n42. 'Gates 91102'\n43. 'Gates 4048'\n44. 'Gates 112'\n45. 'Gates 7090'\n46. 'Gates 112'\n47. 'Gates 7090'\n48. 'Gates 91102'\n49. 'Gates 5059'\n50. 'Gates 91102'\n51. 'Gates 91102'\n52. 'Gates 112'\n53. 'Gates 112'\n54. 'Gates 112'\n55. 'Gates 5059'\n56. 'Gates 112'\n57. 'Gates 7090'\n58. 'Gates 7090'\n59. 'Gates 2039'\n60. 'Gates 7090'\n61. 'Gates 2039'\n62. 'Gates 4048'\n63. 'Gates 6069'\n64. 'Gates 5059'\n65. 'Gates 5059'\n66. 'Gates 5059'\n67. 'Gates 91102'\n68. 'Gates 2039'\n69. 'Gates 112'\n70. 'Gates 91102'\n71. 'Gates 91102'\n72. 'Gates 91102'\n73. 'Gates 112'\n74. 'Gates 5059'\n75. 'Gates 5059'\n76. 'Gates 5059'\n77. 'Gates 91102'\n78. 'Gates 4048'\n79. 'Gates 2039'\n80. 'Gates 91102'\n81. 'Gates 5059'\n82. 'Gates 91102'\n83. 'Gates 7090'\n84. 'Gates 7090'\n85. 'Gates 91102'\n86. 'Gates 91102'\n87. 'Gates 7090'\n88. 'Gates 4048'\n89. 'Gates 2039'\n90. 'Gates 4048'\n91. 'Gates 7090'\n92. 'Gates 5059'\n93. 'Gates 5059'\n94. 'Gates 5059'\n95. 'Gates 2039'\n96. 'Gates 7090'\n97. 'Gates 91102'\n98. 'Gates 4048'\n99. 'Gates 7090'\n100. 'Gates 7090'\n101. 'Gates 4048'\n102. 'Gates 7090'\n103. 'Gates 2039'\n104. 'Gates 5059'\n105. 'Gates 7090'\n106. 'Gates 7090'\n107. 'Gates 91102'\n108. 'Gates 91102'\n109. 'Gates 4048'\n110. 'Gates 91102'\n111. 'Gates 112'\n112. 'Gates 7090'\n113. 'Gates 91102'\n114. 'Gates 5059'\n115. 'Gates 5059'\n116. 'Gates 112'\n117. 'Gates 112'\n118. 'Gates 6069'\n119. 'Gates 112'\n120. 'Gates 91102'\n121. 'Gates 91102'\n122. 'Gates 112'\n123. 'Gates 7090'\n124. 'Gates 2039'\n125. 'Gates 2039'\n126. 'Gates 7090'\n127. 'Gates 112'\n128. 'Gates 112'\n129. 'Gates 4048'\n130. 'Gates 7090'\n131. 'Gates 5059'\n132. 'Gates 2039'\n133. 'Gates 91102'\n134. 'Gates 112'\n135. 'Gates 6069'\n136. 'Gates 112'\n137. 'Gates 6069'\n138. 'Gates 91102'\n139. 'Gates 5059'\n140. 'Gates 6069'\n141. 'Gates 112'\n142. 'Gates 2039'\n143. 'Gates 112'\n144. 'Gates 5059'\n145. 'Gates 112'\n146. 'Gates 6069'\n147. 'Gates 112'\n148. 'Gates 91102'\n149. 'Gates 5059'\n150. 'Gates 2039'\n151. 'Gates 91102'\n152. 'Gates 5059'\n153. 'Gates 7090'\n154. 'Gates 112'\n155. 'Gates 91102'\n156. 'Gates 7090'\n157. 'Gates 112'\n158. 'Gates 5059'\n159. 'Gates 5059'\n160. 'Gates 112'\n161. 'Gates 91102'\n162. 'Gates 7090'\n163. 'Gates 2039'\n164. 'Gates 112'\n165. 'Gates 112'\n166. 'Gates 112'\n167. 'Gates 7090'\n168. 'Gates 7090'\n169. 'Gates 91102'\n170. 'Gates 112'\n171. 'Gates 7090'\n172. 'Gates 91102'\n173. 'Gates 7090'\n174. 'Gates 2039'\n175. 'Gates 7090'\n176. 'Gates 5059'\n177. 'Gates 2039'\n178. 'Gates 91102'\n179. 'Gates 91102'\n180. 'Gates 112'\n181. 'Gates 7090'\n182. 'Gates 2039'\n183. 'Gates 112'\n184. 'Gates 91102'\n185. 'Gates 91102'\n186. 'Gates 5059'\n187. 'Gates 2039'\n188. 'Gates 6069'\n189. 'Gates 5059'\n190. 'Gates 7090'\n191. 'Gates 112'\n192. 'Gates 112'\n193. 'Gates 7090'\n194. 'Gates 91102'\n195. 'Gates 5059'\n196. 'Gates 7090'\n197. 'Gates 112'\n198. 'Gates 112'\n199. 'Gates 112'\n200. 'Gates 112'\n201. ⋯\n202. 'Gates 7090'\n203. 'Gates 4048'\n204. 'Gates 91102'\n205. 'Gates 2039'\n206. 'Gates 5059'\n207. 'Gates 4048'\n208. 'Gates 5059'\n209. 'Gates 2039'\n210. 'Gates 112'\n211. 'Gates 112'\n212. 'Gates 7090'\n213. 'Gates 2039'\n214. 'Gates 112'\n215. 'Gates 6069'\n216. 'Gates 112'\n217. 'Gates 5059'\n218. 'Gates 5059'\n219. 'Gates 112'\n220. 'Gates 6069'\n221. 'Gates 2039'\n222. 'Gates 5059'\n223. 'Gates 5059'\n224. 'Gates 112'\n225. 'Gates 5059'\n226. 'Gates 112'\n227. 'Gates 6069'\n228. 'Gates 7090'\n229. 'Gates 112'\n230. 'Gates 112'\n231. 'Gates 7090'\n232. 'Gates 7090'\n233. 'Gates 5059'\n234. 'Gates 91102'\n235. 'Gates 6069'\n236. 'Gates 112'\n237. 'Gates 5059'\n238. 'Gates 7090'\n239. 'Gates 5059'\n240. 'Gates 112'\n241. 'Gates 5059'\n242. 'Gates 112'\n243. 'Gates 112'\n244. 'Gates 5059'\n245. 'Gates 4048'\n246. 'Gates 112'\n247. 'Gates 112'\n248. 'Gates 5059'\n249. 'Gates 91102'\n250. 'Gates 6069'\n251. 'Gates 2039'\n252. 'Gates 91102'\n253. 'Gates 2039'\n254. 'Gates 6069'\n255. 'Gates 112'\n256. 'Gates 112'\n257. 'Gates 112'\n258. 'Gates 6069'\n259. 'Gates 7090'\n260. 'Gates 5059'\n261. 'Gates 5059'\n262. 'Gates 112'\n263. 'Gates 4048'\n264. 'Gates 4048'\n265. 'Gates 112'\n266. 'Gates 112'\n267. 'Gates 7090'\n268. 'Gates 6069'\n269. 'Gates 91102'\n270. 'Gates 112'\n271. 'Gates 2039'\n272. 'Gates 5059'\n273. 'Gates 91102'\n274. 'Gates 6069'\n275. 'Gates 7090'\n276. 'Gates 112'\n277. 'Gates 112'\n278. 'Gates 7090'\n279. 'Gates 112'\n280. 'Gates 91102'\n281. 'Gates 5059'\n282. 'Gates 91102'\n283. 'Gates 91102'\n284. 'Gates 112'\n285. 'Gates 112'\n286. 'Gates 7090'\n287. 'Gates 7090'\n288. 'Gates 4048'\n289. 'Gates 112'\n290. 'Gates 5059'\n291. 'Gates 6069'\n292. 'Gates 6069'\n293. 'Gates 91102'\n294. 'Gates 112'\n295. 'Gates 7090'\n296. 'Gates 2039'\n297. 'Gates 2039'\n298. 'Gates 112'\n299. 'Gates 2039'\n300. 'Gates 6069'\n301. 'Gates 7090'\n302. 'Gates 5059'\n303. 'Gates 91102'\n304. 'Gates 91102'\n305. 'Gates 112'\n306. 'Gates 112'\n307. 'Gates 112'\n308. 'Gates 2039'\n309. 'Gates 5059'\n310. 'Gates 7090'\n311. 'Gates 4048'\n312. 'Gates 112'\n313. 'Gates 6069'\n314. 'Gates 112'\n315. 'Gates 7090'\n316. 'Gates 91102'\n317. 'Gates 91102'\n318. 'Gates 112'\n319. 'Gates 5059'\n320. 'Gates 2039'\n321. 'Gates 91102'\n322. 'Gates 112'\n323. 'Gates 4048'\n324. 'Gates 112'\n325. 'Gates 112'\n326. 'Gates 91102'\n327. 'Gates 5059'\n328. 'Gates 112'\n329. 'Gates 6069'\n330. 'Gates 112'\n331. 'Gates 7090'\n332. 'Gates 112'\n333. 'Gates 91102'\n334. 'Gates 5059'\n335. 'Gates 91102'\n336. 'Gates 5059'\n337. 'Gates 4048'\n338. 'Gates 7090'\n339. 'Gates 7090'\n340. 'Gates 112'\n341. 'Gates 112'\n342. 'Gates 112'\n343. 'Gates 5059'\n344. 'Gates 112'\n345. 'Gates 5059'\n346. 'Gates 91102'\n347. 'Gates 91102'\n348. 'Gates 5059'\n349. 'Gates 7090'\n350. 'Gates 7090'\n351. 'Gates 5059'\n352. 'Gates 112'\n353. 'Gates 7090'\n354. 'Gates 6069'\n355. 'Gates 112'\n356. 'Gates 91102'\n357. 'Gates 5059'\n358. 'Gates 2039'\n359. 'Gates 4048'\n360. 'Gates 91102'\n361. 'Gates 112'\n362. 'Gates 6069'\n363. 'Gates 4048'\n364. 'Gates 2039'\n365. 'Gates 5059'\n366. 'Gates 7090'\n367. 'Gates 91102'\n368. 'Gates 5059'\n369. 'Gates 2039'\n370. 'Gates 91102'\n371. 'Gates 7090'\n372. 'Gates 7090'\n373. 'Gates 6069'\n374. 'Gates 5059'\n375. 'Gates 7090'\n376. 'Gates 7090'\n377. 'Gates 7090'\n378. 'Gates 5059'\n379. 'Gates 4048'\n380. 'Gates 7090'\n381. 'Gates 5059'\n382. 'Gates 5059'\n383. 'Gates 7090'\n384. 'Gates 7090'\n385. 'Gates 2039'\n386. 'Gates 7090'\n387. 'Gates 7090'\n388. 'Gates 4048'\n389. 'Gates 6069'\n390. 'Gates 7090'\n391. 'Gates 5059'\n392. 'Gates 2039'\n393. 'Gates 5059'\n394. 'Gates 4048'\n395. 'Gates 2039'\n396. 'Gates 5059'\n397. 'Gates 7090'\n398. 'Gates 7090'\n399. 'Gates 7090'\n400. 'Gates 91102'\n401. 'Gates 5059'\n\n\n",
            "text/html": [
              "<style>\n",
              ".list-inline {list-style: none; margin:0; padding: 0}\n",
              ".list-inline>li {display: inline-block}\n",
              ".list-inline>li:not(:last-child)::after {content: \"\\00b7\"; padding: 0 .5ex}\n",
              "</style>\n",
              "<ol class=list-inline><li>'Gates 91102'</li><li>'Gates 91102'</li><li>'Gates 91102'</li><li>'Gates 91102'</li><li>'Gates 91102'</li><li>'Gates 5059'</li><li>'Gates 91102'</li><li>'Gates 91102'</li><li>'Gates 91102'</li><li>'Gates 91102'</li><li>'Gates 91102'</li><li>'Gates 91102'</li><li>'Gates 91102'</li><li>'Gates 91102'</li><li>'Gates 91102'</li><li>'Gates 112'</li><li>'Gates 91102'</li><li>'Gates 7090'</li><li>'Gates 112'</li><li>'Gates 91102'</li><li>'Gates 7090'</li><li>'Gates 5059'</li><li>'Gates 7090'</li><li>'Gates 6069'</li><li>'Gates 112'</li><li>'Gates 91102'</li><li>'Gates 6069'</li><li>'Gates 7090'</li><li>'Gates 2039'</li><li>'Gates 2039'</li><li>'Gates 91102'</li><li>'Gates 91102'</li><li>'Gates 5059'</li><li>'Gates 2039'</li><li>'Gates 91102'</li><li>'Gates 91102'</li><li>'Gates 91102'</li><li>'Gates 5059'</li><li>'Gates 112'</li><li>'Gates 2039'</li><li>'Gates 91102'</li><li>'Gates 91102'</li><li>'Gates 4048'</li><li>'Gates 112'</li><li>'Gates 7090'</li><li>'Gates 112'</li><li>'Gates 7090'</li><li>'Gates 91102'</li><li>'Gates 5059'</li><li>'Gates 91102'</li><li>'Gates 91102'</li><li>'Gates 112'</li><li>'Gates 112'</li><li>'Gates 112'</li><li>'Gates 5059'</li><li>'Gates 112'</li><li>'Gates 7090'</li><li>'Gates 7090'</li><li>'Gates 2039'</li><li>'Gates 7090'</li><li>'Gates 2039'</li><li>'Gates 4048'</li><li>'Gates 6069'</li><li>'Gates 5059'</li><li>'Gates 5059'</li><li>'Gates 5059'</li><li>'Gates 91102'</li><li>'Gates 2039'</li><li>'Gates 112'</li><li>'Gates 91102'</li><li>'Gates 91102'</li><li>'Gates 91102'</li><li>'Gates 112'</li><li>'Gates 5059'</li><li>'Gates 5059'</li><li>'Gates 5059'</li><li>'Gates 91102'</li><li>'Gates 4048'</li><li>'Gates 2039'</li><li>'Gates 91102'</li><li>'Gates 5059'</li><li>'Gates 91102'</li><li>'Gates 7090'</li><li>'Gates 7090'</li><li>'Gates 91102'</li><li>'Gates 91102'</li><li>'Gates 7090'</li><li>'Gates 4048'</li><li>'Gates 2039'</li><li>'Gates 4048'</li><li>'Gates 7090'</li><li>'Gates 5059'</li><li>'Gates 5059'</li><li>'Gates 5059'</li><li>'Gates 2039'</li><li>'Gates 7090'</li><li>'Gates 91102'</li><li>'Gates 4048'</li><li>'Gates 7090'</li><li>'Gates 7090'</li><li>'Gates 4048'</li><li>'Gates 7090'</li><li>'Gates 2039'</li><li>'Gates 5059'</li><li>'Gates 7090'</li><li>'Gates 7090'</li><li>'Gates 91102'</li><li>'Gates 91102'</li><li>'Gates 4048'</li><li>'Gates 91102'</li><li>'Gates 112'</li><li>'Gates 7090'</li><li>'Gates 91102'</li><li>'Gates 5059'</li><li>'Gates 5059'</li><li>'Gates 112'</li><li>'Gates 112'</li><li>'Gates 6069'</li><li>'Gates 112'</li><li>'Gates 91102'</li><li>'Gates 91102'</li><li>'Gates 112'</li><li>'Gates 7090'</li><li>'Gates 2039'</li><li>'Gates 2039'</li><li>'Gates 7090'</li><li>'Gates 112'</li><li>'Gates 112'</li><li>'Gates 4048'</li><li>'Gates 7090'</li><li>'Gates 5059'</li><li>'Gates 2039'</li><li>'Gates 91102'</li><li>'Gates 112'</li><li>'Gates 6069'</li><li>'Gates 112'</li><li>'Gates 6069'</li><li>'Gates 91102'</li><li>'Gates 5059'</li><li>'Gates 6069'</li><li>'Gates 112'</li><li>'Gates 2039'</li><li>'Gates 112'</li><li>'Gates 5059'</li><li>'Gates 112'</li><li>'Gates 6069'</li><li>'Gates 112'</li><li>'Gates 91102'</li><li>'Gates 5059'</li><li>'Gates 2039'</li><li>'Gates 91102'</li><li>'Gates 5059'</li><li>'Gates 7090'</li><li>'Gates 112'</li><li>'Gates 91102'</li><li>'Gates 7090'</li><li>'Gates 112'</li><li>'Gates 5059'</li><li>'Gates 5059'</li><li>'Gates 112'</li><li>'Gates 91102'</li><li>'Gates 7090'</li><li>'Gates 2039'</li><li>'Gates 112'</li><li>'Gates 112'</li><li>'Gates 112'</li><li>'Gates 7090'</li><li>'Gates 7090'</li><li>'Gates 91102'</li><li>'Gates 112'</li><li>'Gates 7090'</li><li>'Gates 91102'</li><li>'Gates 7090'</li><li>'Gates 2039'</li><li>'Gates 7090'</li><li>'Gates 5059'</li><li>'Gates 2039'</li><li>'Gates 91102'</li><li>'Gates 91102'</li><li>'Gates 112'</li><li>'Gates 7090'</li><li>'Gates 2039'</li><li>'Gates 112'</li><li>'Gates 91102'</li><li>'Gates 91102'</li><li>'Gates 5059'</li><li>'Gates 2039'</li><li>'Gates 6069'</li><li>'Gates 5059'</li><li>'Gates 7090'</li><li>'Gates 112'</li><li>'Gates 112'</li><li>'Gates 7090'</li><li>'Gates 91102'</li><li>'Gates 5059'</li><li>'Gates 7090'</li><li>'Gates 112'</li><li>'Gates 112'</li><li>'Gates 112'</li><li>'Gates 112'</li><li>⋯</li><li>'Gates 7090'</li><li>'Gates 4048'</li><li>'Gates 91102'</li><li>'Gates 2039'</li><li>'Gates 5059'</li><li>'Gates 4048'</li><li>'Gates 5059'</li><li>'Gates 2039'</li><li>'Gates 112'</li><li>'Gates 112'</li><li>'Gates 7090'</li><li>'Gates 2039'</li><li>'Gates 112'</li><li>'Gates 6069'</li><li>'Gates 112'</li><li>'Gates 5059'</li><li>'Gates 5059'</li><li>'Gates 112'</li><li>'Gates 6069'</li><li>'Gates 2039'</li><li>'Gates 5059'</li><li>'Gates 5059'</li><li>'Gates 112'</li><li>'Gates 5059'</li><li>'Gates 112'</li><li>'Gates 6069'</li><li>'Gates 7090'</li><li>'Gates 112'</li><li>'Gates 112'</li><li>'Gates 7090'</li><li>'Gates 7090'</li><li>'Gates 5059'</li><li>'Gates 91102'</li><li>'Gates 6069'</li><li>'Gates 112'</li><li>'Gates 5059'</li><li>'Gates 7090'</li><li>'Gates 5059'</li><li>'Gates 112'</li><li>'Gates 5059'</li><li>'Gates 112'</li><li>'Gates 112'</li><li>'Gates 5059'</li><li>'Gates 4048'</li><li>'Gates 112'</li><li>'Gates 112'</li><li>'Gates 5059'</li><li>'Gates 91102'</li><li>'Gates 6069'</li><li>'Gates 2039'</li><li>'Gates 91102'</li><li>'Gates 2039'</li><li>'Gates 6069'</li><li>'Gates 112'</li><li>'Gates 112'</li><li>'Gates 112'</li><li>'Gates 6069'</li><li>'Gates 7090'</li><li>'Gates 5059'</li><li>'Gates 5059'</li><li>'Gates 112'</li><li>'Gates 4048'</li><li>'Gates 4048'</li><li>'Gates 112'</li><li>'Gates 112'</li><li>'Gates 7090'</li><li>'Gates 6069'</li><li>'Gates 91102'</li><li>'Gates 112'</li><li>'Gates 2039'</li><li>'Gates 5059'</li><li>'Gates 91102'</li><li>'Gates 6069'</li><li>'Gates 7090'</li><li>'Gates 112'</li><li>'Gates 112'</li><li>'Gates 7090'</li><li>'Gates 112'</li><li>'Gates 91102'</li><li>'Gates 5059'</li><li>'Gates 91102'</li><li>'Gates 91102'</li><li>'Gates 112'</li><li>'Gates 112'</li><li>'Gates 7090'</li><li>'Gates 7090'</li><li>'Gates 4048'</li><li>'Gates 112'</li><li>'Gates 5059'</li><li>'Gates 6069'</li><li>'Gates 6069'</li><li>'Gates 91102'</li><li>'Gates 112'</li><li>'Gates 7090'</li><li>'Gates 2039'</li><li>'Gates 2039'</li><li>'Gates 112'</li><li>'Gates 2039'</li><li>'Gates 6069'</li><li>'Gates 7090'</li><li>'Gates 5059'</li><li>'Gates 91102'</li><li>'Gates 91102'</li><li>'Gates 112'</li><li>'Gates 112'</li><li>'Gates 112'</li><li>'Gates 2039'</li><li>'Gates 5059'</li><li>'Gates 7090'</li><li>'Gates 4048'</li><li>'Gates 112'</li><li>'Gates 6069'</li><li>'Gates 112'</li><li>'Gates 7090'</li><li>'Gates 91102'</li><li>'Gates 91102'</li><li>'Gates 112'</li><li>'Gates 5059'</li><li>'Gates 2039'</li><li>'Gates 91102'</li><li>'Gates 112'</li><li>'Gates 4048'</li><li>'Gates 112'</li><li>'Gates 112'</li><li>'Gates 91102'</li><li>'Gates 5059'</li><li>'Gates 112'</li><li>'Gates 6069'</li><li>'Gates 112'</li><li>'Gates 7090'</li><li>'Gates 112'</li><li>'Gates 91102'</li><li>'Gates 5059'</li><li>'Gates 91102'</li><li>'Gates 5059'</li><li>'Gates 4048'</li><li>'Gates 7090'</li><li>'Gates 7090'</li><li>'Gates 112'</li><li>'Gates 112'</li><li>'Gates 112'</li><li>'Gates 5059'</li><li>'Gates 112'</li><li>'Gates 5059'</li><li>'Gates 91102'</li><li>'Gates 91102'</li><li>'Gates 5059'</li><li>'Gates 7090'</li><li>'Gates 7090'</li><li>'Gates 5059'</li><li>'Gates 112'</li><li>'Gates 7090'</li><li>'Gates 6069'</li><li>'Gates 112'</li><li>'Gates 91102'</li><li>'Gates 5059'</li><li>'Gates 2039'</li><li>'Gates 4048'</li><li>'Gates 91102'</li><li>'Gates 112'</li><li>'Gates 6069'</li><li>'Gates 4048'</li><li>'Gates 2039'</li><li>'Gates 5059'</li><li>'Gates 7090'</li><li>'Gates 91102'</li><li>'Gates 5059'</li><li>'Gates 2039'</li><li>'Gates 91102'</li><li>'Gates 7090'</li><li>'Gates 7090'</li><li>'Gates 6069'</li><li>'Gates 5059'</li><li>'Gates 7090'</li><li>'Gates 7090'</li><li>'Gates 7090'</li><li>'Gates 5059'</li><li>'Gates 4048'</li><li>'Gates 7090'</li><li>'Gates 5059'</li><li>'Gates 5059'</li><li>'Gates 7090'</li><li>'Gates 7090'</li><li>'Gates 2039'</li><li>'Gates 7090'</li><li>'Gates 7090'</li><li>'Gates 4048'</li><li>'Gates 6069'</li><li>'Gates 7090'</li><li>'Gates 5059'</li><li>'Gates 2039'</li><li>'Gates 5059'</li><li>'Gates 4048'</li><li>'Gates 2039'</li><li>'Gates 5059'</li><li>'Gates 7090'</li><li>'Gates 7090'</li><li>'Gates 7090'</li><li>'Gates 91102'</li><li>'Gates 5059'</li></ol>\n"
            ]
          },
          "metadata": {
            "tags": []
          }
        }
      ]
    },
    {
      "cell_type": "markdown",
      "metadata": {
        "id": "jYQtmrJBC0QE"
      },
      "source": [
        "### Replacing symbols"
      ]
    },
    {
      "cell_type": "code",
      "metadata": {
        "colab": {
          "base_uri": "https://localhost:8080/",
          "height": 158
        },
        "id": "nj0xUmOsC1-d",
        "outputId": "df9a72a2-1d91-4ad6-ada5-888bce7d5180"
      },
      "source": [
        "# Add phone_no_parens as column\n",
        "sfo_survey %>%\n",
        "  mutate(boarding_area = str_replace_all(boarding_area, \"-\", \" \")) %>%\n",
        "  select(boarding_area, id) %>%\n",
        "  head(2)"
      ],
      "execution_count": null,
      "outputs": [
        {
          "output_type": "display_data",
          "data": {
            "text/plain": [
              "  boarding_area id  \n",
              "1 Gates 91 102  1842\n",
              "2 Gates 91 102  1844"
            ],
            "text/latex": "A data.frame: 2 × 2\n\\begin{tabular}{r|ll}\n  & boarding\\_area & id\\\\\n  & <chr> & <int>\\\\\n\\hline\n\t1 & Gates 91 102 & 1842\\\\\n\t2 & Gates 91 102 & 1844\\\\\n\\end{tabular}\n",
            "text/markdown": "\nA data.frame: 2 × 2\n\n| <!--/--> | boarding_area &lt;chr&gt; | id &lt;int&gt; |\n|---|---|---|\n| 1 | Gates 91 102 | 1842 |\n| 2 | Gates 91 102 | 1844 |\n\n",
            "text/html": [
              "<table class=\"dataframe\">\n",
              "<caption>A data.frame: 2 × 2</caption>\n",
              "<thead>\n",
              "\t<tr><th></th><th scope=col>boarding_area</th><th scope=col>id</th></tr>\n",
              "\t<tr><th></th><th scope=col>&lt;chr&gt;</th><th scope=col>&lt;int&gt;</th></tr>\n",
              "</thead>\n",
              "<tbody>\n",
              "\t<tr><th scope=row>1</th><td>Gates 91 102</td><td>1842</td></tr>\n",
              "\t<tr><th scope=row>2</th><td>Gates 91 102</td><td>1844</td></tr>\n",
              "</tbody>\n",
              "</table>\n"
            ]
          },
          "metadata": {
            "tags": []
          }
        }
      ]
    },
    {
      "cell_type": "markdown",
      "metadata": {
        "id": "N44sTzTUC0La"
      },
      "source": [
        "### Checking id length (important with phones, zip codes, and others)"
      ]
    },
    {
      "cell_type": "code",
      "metadata": {
        "colab": {
          "base_uri": "https://localhost:8080/",
          "height": 52
        },
        "id": "iLZ5fM_TDqvf",
        "outputId": "9f9c1693-d31d-4582-d621-fd55b7670fb6"
      },
      "source": [
        "# Check out the invalid numbers\n",
        "sfo_survey %>%\n",
        "  filter(str_length(id) != 4) %>%\n",
        "  dim()\n",
        "\n",
        "# Remove rows with invalid numbers\n",
        "sfo_survey %>%\n",
        "  filter(str_length(id) == 4) %>%\n",
        "  dim()"
      ],
      "execution_count": null,
      "outputs": [
        {
          "output_type": "display_data",
          "data": {
            "text/plain": [
              "[1] 674  14"
            ],
            "text/latex": "\\begin{enumerate*}\n\\item 674\n\\item 14\n\\end{enumerate*}\n",
            "text/markdown": "1. 674\n2. 14\n\n\n",
            "text/html": [
              "<style>\n",
              ".list-inline {list-style: none; margin:0; padding: 0}\n",
              ".list-inline>li {display: inline-block}\n",
              ".list-inline>li:not(:last-child)::after {content: \"\\00b7\"; padding: 0 .5ex}\n",
              "</style>\n",
              "<ol class=list-inline><li>674</li><li>14</li></ol>\n"
            ]
          },
          "metadata": {
            "tags": []
          }
        },
        {
          "output_type": "display_data",
          "data": {
            "text/plain": [
              "[1] 2135   14"
            ],
            "text/latex": "\\begin{enumerate*}\n\\item 2135\n\\item 14\n\\end{enumerate*}\n",
            "text/markdown": "1. 2135\n2. 14\n\n\n",
            "text/html": [
              "<style>\n",
              ".list-inline {list-style: none; margin:0; padding: 0}\n",
              ".list-inline>li {display: inline-block}\n",
              ".list-inline>li:not(:last-child)::after {content: \"\\00b7\"; padding: 0 .5ex}\n",
              "</style>\n",
              "<ol class=list-inline><li>2135</li><li>14</li></ol>\n"
            ]
          },
          "metadata": {
            "tags": []
          }
        }
      ]
    },
    {
      "cell_type": "markdown",
      "metadata": {
        "id": "uplzrNP6FFHH"
      },
      "source": [
        "# 6) Uniformity"
      ]
    },
    {
      "cell_type": "markdown",
      "metadata": {
        "id": "xor5bhnrF0cv"
      },
      "source": [
        "All values in the same unit of measure. We can use if else method"
      ]
    },
    {
      "cell_type": "markdown",
      "metadata": {
        "id": "cME61wStJC_z"
      },
      "source": [
        "## Date Uniformity (parsing different formats)"
      ]
    },
    {
      "cell_type": "code",
      "metadata": {
        "colab": {
          "base_uri": "https://localhost:8080/"
        },
        "id": "2wQvYkcVFHb5",
        "outputId": "0720c20a-8210-45b2-e241-a579dffc6b09"
      },
      "source": [
        "str(sfo_survey)"
      ],
      "execution_count": null,
      "outputs": [
        {
          "output_type": "stream",
          "text": [
            "'data.frame':\t2809 obs. of  14 variables:\n",
            " $ id               : int  1842 1844 1840 1837 1833 3010 1838 1845 2097 1846 ...\n",
            " $ day              : chr  \"Monday\" \"Monday\" \"Monday\" \"Monday\" ...\n",
            " $ airline          : chr  \"TURKISH AIRLINES\" \"TURKISH AIRLINES\" \"TURKISH AIRLINES\" \"TURKISH AIRLINES\" ...\n",
            " $ destination      : chr  \"ISTANBUL\" \"ISTANBUL\" \"ISTANBUL\" \"ISTANBUL\" ...\n",
            " $ dest_region      : chr  \"Middle East\" \"Middle East\" \"Middle East\" \"Middle East\" ...\n",
            " $ dest_size        : chr  \"Hub\" \"Hub\" \"Hub\" \"Hub\" ...\n",
            " $ boarding_area    : chr  \"Gates 91-102\" \"Gates 91-102\" \"Gates 91-102\" \"Gates 91-102\" ...\n",
            " $ dept_time        : chr  \"2018-12-31\" \"2018-12-31\" \"2018-12-31\" \"2018-12-31\" ...\n",
            " $ wait_min         : num  255 315 165 225 175 ...\n",
            " $ cleanliness      : chr  \"Average\" \"Somewhat clean\" \"Average\" \"Somewhat clean\" ...\n",
            " $ safety           : chr  \"Neutral\" \"Somewhat safe\" \"Somewhat safe\" \"Somewhat safe\" ...\n",
            " $ satisfaction     : chr  \"Somewhat satsified\" \"Somewhat satsified\" \"Somewhat satsified\" \"Somewhat satsified\" ...\n",
            " $ dest_size_trimmed: chr  \"Hub\" \"Hub\" \"Hub\" \"Hub\" ...\n",
            " $ cleanliness_lower: chr  \"average\" \"somewhat clean\" \"average\" \"somewhat clean\" ...\n"
          ],
          "name": "stdout"
        }
      ]
    },
    {
      "cell_type": "code",
      "metadata": {
        "id": "7KybQMylIed0"
      },
      "source": [
        "sfo_survey %>%\n",
        "  mutate(date = as.Date(dept_time))"
      ],
      "execution_count": null,
      "outputs": []
    },
    {
      "cell_type": "markdown",
      "metadata": {
        "id": "-HEwUPEZMIYw"
      },
      "source": [
        "### accounts dataset"
      ]
    },
    {
      "cell_type": "code",
      "metadata": {
        "colab": {
          "base_uri": "https://localhost:8080/",
          "height": 158
        },
        "id": "lH_Skk6iLq2a",
        "outputId": "fece849c-6e7f-456d-9b28-4189ae629897"
      },
      "source": [
        "accounts = readRDS(\"/content/ch3_1_accounts.rds\")\n",
        "head(accounts,2)"
      ],
      "execution_count": null,
      "outputs": [
        {
          "output_type": "display_data",
          "data": {
            "text/plain": [
              "  id       date_opened      total \n",
              "1 A880C79F 2003-10-19       169305\n",
              "2 BE8222DF October 05, 2018 107460"
            ],
            "text/latex": "A data.frame: 2 × 3\n\\begin{tabular}{r|lll}\n  & id & date\\_opened & total\\\\\n  & <fct> & <chr> & <dbl>\\\\\n\\hline\n\t1 & A880C79F & 2003-10-19       & 169305\\\\\n\t2 & BE8222DF & October 05, 2018 & 107460\\\\\n\\end{tabular}\n",
            "text/markdown": "\nA data.frame: 2 × 3\n\n| <!--/--> | id &lt;fct&gt; | date_opened &lt;chr&gt; | total &lt;dbl&gt; |\n|---|---|---|---|\n| 1 | A880C79F | 2003-10-19       | 169305 |\n| 2 | BE8222DF | October 05, 2018 | 107460 |\n\n",
            "text/html": [
              "<table class=\"dataframe\">\n",
              "<caption>A data.frame: 2 × 3</caption>\n",
              "<thead>\n",
              "\t<tr><th></th><th scope=col>id</th><th scope=col>date_opened</th><th scope=col>total</th></tr>\n",
              "\t<tr><th></th><th scope=col>&lt;fct&gt;</th><th scope=col>&lt;chr&gt;</th><th scope=col>&lt;dbl&gt;</th></tr>\n",
              "</thead>\n",
              "<tbody>\n",
              "\t<tr><th scope=row>1</th><td>A880C79F</td><td>2003-10-19      </td><td>169305</td></tr>\n",
              "\t<tr><th scope=row>2</th><td>BE8222DF</td><td>October 05, 2018</td><td>107460</td></tr>\n",
              "</tbody>\n",
              "</table>\n"
            ]
          },
          "metadata": {
            "tags": []
          }
        }
      ]
    },
    {
      "cell_type": "markdown",
      "metadata": {
        "id": "geh2SKXDI0cv"
      },
      "source": [
        "To parse dates we need 2 different formats"
      ]
    },
    {
      "cell_type": "code",
      "metadata": {
        "id": "IOkPOMJfItbA"
      },
      "source": [
        "# Define the date formats\n",
        "formats <- c(\"%Y-%m-%d\", \"%B %d, %Y\")\n",
        "\n",
        "# Convert dates to the same format\n",
        "accounts = accounts %>%\n",
        "  mutate(date_opened_clean = parse_date_time(date_opened, orders = formats))"
      ],
      "execution_count": null,
      "outputs": []
    },
    {
      "cell_type": "code",
      "metadata": {
        "colab": {
          "base_uri": "https://localhost:8080/"
        },
        "id": "Xjl2Kuy1Mh-G",
        "outputId": "35a2153f-4962-4746-f2b6-34205b21fd91"
      },
      "source": [
        "str(accounts)"
      ],
      "execution_count": null,
      "outputs": [
        {
          "output_type": "stream",
          "text": [
            "'data.frame':\t98 obs. of  4 variables:\n",
            " $ id               : Factor w/ 100 levels \"0128D2D0\",\"02E63545\",..: 67 76 13 64 96 84 39 26 35 16 ...\n",
            " $ date_opened      : chr  \"2003-10-19\" \"October 05, 2018\" \"2008-07-29\" \"2005-06-09\" ...\n",
            " $ total            : num  169305 107460 15297152 14897272 124568 ...\n",
            " $ date_opened_clean: POSIXct, format: \"2003-10-19\" \"2018-10-05\" ...\n"
          ],
          "name": "stdout"
        }
      ]
    },
    {
      "cell_type": "markdown",
      "metadata": {
        "id": "i_eGCr-GJGKh"
      },
      "source": [
        "# 7) Cross field validation\n"
      ]
    },
    {
      "cell_type": "markdown",
      "metadata": {
        "id": "ND7o8yG8LcNa"
      },
      "source": [
        "## validating age of account with open date - today's date"
      ]
    },
    {
      "cell_type": "code",
      "metadata": {
        "colab": {
          "base_uri": "https://localhost:8080/",
          "height": 35
        },
        "id": "1x9SDWHRMXEq",
        "outputId": "932a11e7-9f2d-4cf3-95aa-dd068cbb583e"
      },
      "source": [
        "today()"
      ],
      "execution_count": null,
      "outputs": [
        {
          "output_type": "display_data",
          "data": {
            "text/plain": [
              "[1] \"2021-04-05\""
            ],
            "text/latex": "2021-04-05",
            "text/markdown": "2021-04-05",
            "text/html": [
              "<time datetime=\"2021-04-05\">2021-04-05</time>"
            ]
          },
          "metadata": {
            "tags": []
          }
        }
      ]
    },
    {
      "cell_type": "code",
      "metadata": {
        "colab": {
          "base_uri": "https://localhost:8080/",
          "height": 158
        },
        "id": "C8vQYBymJ7E6",
        "outputId": "2400b10e-b1b4-4447-892c-e1a1dfd6ec73"
      },
      "source": [
        "# Find invalid acct_age\n",
        "accounts %>%\n",
        "  # theoretical_age: age of acct based on date_opened\n",
        "  mutate(theoretical_age = floor(as.numeric(date_opened_clean %--% today(), \"years\"))) %>%\n",
        "  head(2)"
      ],
      "execution_count": null,
      "outputs": [
        {
          "output_type": "display_data",
          "data": {
            "text/plain": [
              "  id       date_opened      total  date_opened_clean theoretical_age\n",
              "1 A880C79F 2003-10-19       169305 2003-10-19        17             \n",
              "2 BE8222DF October 05, 2018 107460 2018-10-05         2             "
            ],
            "text/latex": "A data.frame: 2 × 5\n\\begin{tabular}{r|lllll}\n  & id & date\\_opened & total & date\\_opened\\_clean & theoretical\\_age\\\\\n  & <fct> & <chr> & <dbl> & <dttm> & <dbl>\\\\\n\\hline\n\t1 & A880C79F & 2003-10-19       & 169305 & 2003-10-19 & 17\\\\\n\t2 & BE8222DF & October 05, 2018 & 107460 & 2018-10-05 &  2\\\\\n\\end{tabular}\n",
            "text/markdown": "\nA data.frame: 2 × 5\n\n| <!--/--> | id &lt;fct&gt; | date_opened &lt;chr&gt; | total &lt;dbl&gt; | date_opened_clean &lt;dttm&gt; | theoretical_age &lt;dbl&gt; |\n|---|---|---|---|---|---|\n| 1 | A880C79F | 2003-10-19       | 169305 | 2003-10-19 | 17 |\n| 2 | BE8222DF | October 05, 2018 | 107460 | 2018-10-05 |  2 |\n\n",
            "text/html": [
              "<table class=\"dataframe\">\n",
              "<caption>A data.frame: 2 × 5</caption>\n",
              "<thead>\n",
              "\t<tr><th></th><th scope=col>id</th><th scope=col>date_opened</th><th scope=col>total</th><th scope=col>date_opened_clean</th><th scope=col>theoretical_age</th></tr>\n",
              "\t<tr><th></th><th scope=col>&lt;fct&gt;</th><th scope=col>&lt;chr&gt;</th><th scope=col>&lt;dbl&gt;</th><th scope=col>&lt;dttm&gt;</th><th scope=col>&lt;dbl&gt;</th></tr>\n",
              "</thead>\n",
              "<tbody>\n",
              "\t<tr><th scope=row>1</th><td>A880C79F</td><td>2003-10-19      </td><td>169305</td><td>2003-10-19</td><td>17</td></tr>\n",
              "\t<tr><th scope=row>2</th><td>BE8222DF</td><td>October 05, 2018</td><td>107460</td><td>2018-10-05</td><td> 2</td></tr>\n",
              "</tbody>\n",
              "</table>\n"
            ]
          },
          "metadata": {
            "tags": []
          }
        }
      ]
    },
    {
      "cell_type": "markdown",
      "metadata": {
        "id": "JcQZr66tNM3U"
      },
      "source": [
        "# 8) Missing data"
      ]
    },
    {
      "cell_type": "code",
      "metadata": {
        "colab": {
          "base_uri": "https://localhost:8080/",
          "height": 35
        },
        "id": "XRpOhd2HNV5H",
        "outputId": "619cbfef-dc64-4c58-f7ec-07c6977a94da"
      },
      "source": [
        "sum(is.na(sfo_survey))"
      ],
      "execution_count": null,
      "outputs": [
        {
          "output_type": "display_data",
          "data": {
            "text/plain": [
              "[1] 572"
            ],
            "text/latex": "572",
            "text/markdown": "572",
            "text/html": [
              "572"
            ]
          },
          "metadata": {
            "tags": []
          }
        }
      ]
    },
    {
      "cell_type": "code",
      "metadata": {
        "colab": {
          "base_uri": "https://localhost:8080/"
        },
        "id": "7O5hNLIuPRVC",
        "outputId": "0190fe5b-4f44-43a5-998c-3f742c8997f9"
      },
      "source": [
        "install.packages(\"visdat\")"
      ],
      "execution_count": null,
      "outputs": [
        {
          "output_type": "stream",
          "text": [
            "Installing package into ‘/usr/local/lib/R/site-library’\n",
            "(as ‘lib’ is unspecified)\n",
            "\n"
          ],
          "name": "stderr"
        }
      ]
    },
    {
      "cell_type": "code",
      "metadata": {
        "colab": {
          "base_uri": "https://localhost:8080/",
          "height": 437
        },
        "id": "hoYFFKAFPMnx",
        "outputId": "aa98b045-58cb-4056-b25f-bc78ddb43a35"
      },
      "source": [
        "library(visdat)\n",
        "vis_miss(sfo_survey)"
      ],
      "execution_count": null,
      "outputs": [
        {
          "output_type": "display_data",
          "data": {
            "image/png": "[encoded data removed]",
            "text/plain": [
              "plot without title"
            ]
          },
          "metadata": {
            "tags": [],
            "image/png": {
              "width": 420,
              "height": 420
            }
          }
        }
      ]
    },
    {
      "cell_type": "markdown",
      "metadata": {
        "id": "pKmNrmhRQERE"
      },
      "source": [
        ""
      ]
    },
    {
      "cell_type": "markdown",
      "metadata": {
        "id": "CCP7cRMaVGrE"
      },
      "source": [
        "## Analyze: Missing ar random, Not ar random, completely at random?\n",
        "\n",
        "- Missing completely at random: No systematic relationship between missing data and other values\n",
        "\n",
        "- Missing at random: Systematic relationship between missing data and other OBSERVED variables.\n",
        "\n",
        "- Missing Not at random: Systematic relationship between missing data and other UNOBSERVED variables."
      ]
    },
    {
      "cell_type": "code",
      "metadata": {
        "colab": {
          "base_uri": "https://localhost:8080/",
          "height": 437
        },
        "id": "zQ28o7OsTDy3",
        "outputId": "e25131d5-4ade-4750-ae66-6c51acd1e88d"
      },
      "source": [
        "# Sort by age and visualize missing vals\n",
        "sfo_survey %>%\n",
        "  arrange(satisfaction) %>%\n",
        "  vis_miss()"
      ],
      "execution_count": null,
      "outputs": [
        {
          "output_type": "display_data",
          "data": {
            "image/png": "[encoded data removed]",
            "text/plain": [
              "plot without title"
            ]
          },
          "metadata": {
            "tags": [],
            "image/png": {
              "width": 420,
              "height": 420
            }
          }
        }
      ]
    },
    {
      "cell_type": "markdown",
      "metadata": {
        "id": "gFAHSbPwTN5Z"
      },
      "source": [
        "There might be some relationship between observed values and NA values satisfaction.\n",
        "\n",
        "Investigating summary statistics based on missingness is a great way to determine if data is missing completely at random or missing at random."
      ]
    },
    {
      "cell_type": "code",
      "metadata": {
        "colab": {
          "base_uri": "https://localhost:8080/",
          "height": 158
        },
        "id": "PGHMMwOfTq-3",
        "outputId": "2c95eaac-d202-4c61-d1de-e7e980e6bec2"
      },
      "source": [
        "# For example here I classify between satisfaction if NA and mean of waiting time\n",
        "# There might be something to keep analyzing here:\n",
        "sfo_survey %>%\n",
        "  filter(!is.na(wait_min)) %>%\n",
        "  mutate(sats = is.na(satisfaction)) %>%\n",
        "  group_by(sats) %>% \n",
        "  summarize(mean_wait = mean(wait_min), sd_wait = sd(wait_min))"
      ],
      "execution_count": null,
      "outputs": [
        {
          "output_type": "display_data",
          "data": {
            "text/plain": [
              "  sats  mean_wait sd_wait \n",
              "1 FALSE 166.6088  108.3544\n",
              "2  TRUE 199.9360  186.5975"
            ],
            "text/latex": "A tibble: 2 × 3\n\\begin{tabular}{lll}\n sats & mean\\_wait & sd\\_wait\\\\\n <lgl> & <dbl> & <dbl>\\\\\n\\hline\n\t FALSE & 166.6088 & 108.3544\\\\\n\t  TRUE & 199.9360 & 186.5975\\\\\n\\end{tabular}\n",
            "text/markdown": "\nA tibble: 2 × 3\n\n| sats &lt;lgl&gt; | mean_wait &lt;dbl&gt; | sd_wait &lt;dbl&gt; |\n|---|---|---|\n| FALSE | 166.6088 | 108.3544 |\n|  TRUE | 199.9360 | 186.5975 |\n\n",
            "text/html": [
              "<table class=\"dataframe\">\n",
              "<caption>A tibble: 2 × 3</caption>\n",
              "<thead>\n",
              "\t<tr><th scope=col>sats</th><th scope=col>mean_wait</th><th scope=col>sd_wait</th></tr>\n",
              "\t<tr><th scope=col>&lt;lgl&gt;</th><th scope=col>&lt;dbl&gt;</th><th scope=col>&lt;dbl&gt;</th></tr>\n",
              "</thead>\n",
              "<tbody>\n",
              "\t<tr><td>FALSE</td><td>166.6088</td><td>108.3544</td></tr>\n",
              "\t<tr><td> TRUE</td><td>199.9360</td><td>186.5975</td></tr>\n",
              "</tbody>\n",
              "</table>\n"
            ]
          },
          "metadata": {
            "tags": []
          }
        }
      ]
    },
    {
      "cell_type": "markdown",
      "metadata": {
        "id": "PXC0KhONQbx2"
      },
      "source": [
        "## Drop (Filter to drop NAs)"
      ]
    },
    {
      "cell_type": "code",
      "metadata": {
        "colab": {
          "base_uri": "https://localhost:8080/",
          "height": 213
        },
        "id": "CUwWhIuQValR",
        "outputId": "114d924c-cbe8-4d62-a837-eb4d44b559b7"
      },
      "source": [
        "# Create accounts_clean\n",
        "sfo_survey_na <- sfo_survey %>%\n",
        "  # Filter to remove rows with missing cust_id\n",
        "  filter(!is.na(satisfaction))\n",
        "\n",
        "head(sfo_survey_na,2)"
      ],
      "execution_count": null,
      "outputs": [
        {
          "output_type": "display_data",
          "data": {
            "text/plain": [
              "  id   day    airline          destination dest_region dest_size boarding_area\n",
              "1 1842 Monday TURKISH AIRLINES ISTANBUL    Middle East Hub       Gates 91-102 \n",
              "2 1844 Monday TURKISH AIRLINES ISTANBUL    Middle East Hub       Gates 91-102 \n",
              "  dept_time  wait_min cleanliness    safety        satisfaction      \n",
              "1 2018-12-31 255      Average        Neutral       Somewhat satsified\n",
              "2 2018-12-31 315      Somewhat clean Somewhat safe Somewhat satsified\n",
              "  dest_size_trimmed cleanliness_lower\n",
              "1 Hub               average          \n",
              "2 Hub               somewhat clean   "
            ],
            "text/latex": "A data.frame: 2 × 14\n\\begin{tabular}{r|llllllllllllll}\n  & id & day & airline & destination & dest\\_region & dest\\_size & boarding\\_area & dept\\_time & wait\\_min & cleanliness & safety & satisfaction & dest\\_size\\_trimmed & cleanliness\\_lower\\\\\n  & <int> & <chr> & <chr> & <chr> & <chr> & <chr> & <chr> & <chr> & <dbl> & <chr> & <chr> & <chr> & <chr> & <chr>\\\\\n\\hline\n\t1 & 1842 & Monday & TURKISH AIRLINES & ISTANBUL & Middle East & Hub & Gates 91-102 & 2018-12-31 & 255 & Average        & Neutral       & Somewhat satsified & Hub & average       \\\\\n\t2 & 1844 & Monday & TURKISH AIRLINES & ISTANBUL & Middle East & Hub & Gates 91-102 & 2018-12-31 & 315 & Somewhat clean & Somewhat safe & Somewhat satsified & Hub & somewhat clean\\\\\n\\end{tabular}\n",
            "text/markdown": "\nA data.frame: 2 × 14\n\n| <!--/--> | id &lt;int&gt; | day &lt;chr&gt; | airline &lt;chr&gt; | destination &lt;chr&gt; | dest_region &lt;chr&gt; | dest_size &lt;chr&gt; | boarding_area &lt;chr&gt; | dept_time &lt;chr&gt; | wait_min &lt;dbl&gt; | cleanliness &lt;chr&gt; | safety &lt;chr&gt; | satisfaction &lt;chr&gt; | dest_size_trimmed &lt;chr&gt; | cleanliness_lower &lt;chr&gt; |\n|---|---|---|---|---|---|---|---|---|---|---|---|---|---|---|\n| 1 | 1842 | Monday | TURKISH AIRLINES | ISTANBUL | Middle East | Hub | Gates 91-102 | 2018-12-31 | 255 | Average        | Neutral       | Somewhat satsified | Hub | average        |\n| 2 | 1844 | Monday | TURKISH AIRLINES | ISTANBUL | Middle East | Hub | Gates 91-102 | 2018-12-31 | 315 | Somewhat clean | Somewhat safe | Somewhat satsified | Hub | somewhat clean |\n\n",
            "text/html": [
              "<table class=\"dataframe\">\n",
              "<caption>A data.frame: 2 × 14</caption>\n",
              "<thead>\n",
              "\t<tr><th></th><th scope=col>id</th><th scope=col>day</th><th scope=col>airline</th><th scope=col>destination</th><th scope=col>dest_region</th><th scope=col>dest_size</th><th scope=col>boarding_area</th><th scope=col>dept_time</th><th scope=col>wait_min</th><th scope=col>cleanliness</th><th scope=col>safety</th><th scope=col>satisfaction</th><th scope=col>dest_size_trimmed</th><th scope=col>cleanliness_lower</th></tr>\n",
              "\t<tr><th></th><th scope=col>&lt;int&gt;</th><th scope=col>&lt;chr&gt;</th><th scope=col>&lt;chr&gt;</th><th scope=col>&lt;chr&gt;</th><th scope=col>&lt;chr&gt;</th><th scope=col>&lt;chr&gt;</th><th scope=col>&lt;chr&gt;</th><th scope=col>&lt;chr&gt;</th><th scope=col>&lt;dbl&gt;</th><th scope=col>&lt;chr&gt;</th><th scope=col>&lt;chr&gt;</th><th scope=col>&lt;chr&gt;</th><th scope=col>&lt;chr&gt;</th><th scope=col>&lt;chr&gt;</th></tr>\n",
              "</thead>\n",
              "<tbody>\n",
              "\t<tr><th scope=row>1</th><td>1842</td><td>Monday</td><td>TURKISH AIRLINES</td><td>ISTANBUL</td><td>Middle East</td><td>Hub</td><td>Gates 91-102</td><td>2018-12-31</td><td>255</td><td>Average       </td><td>Neutral      </td><td>Somewhat satsified</td><td>Hub</td><td>average       </td></tr>\n",
              "\t<tr><th scope=row>2</th><td>1844</td><td>Monday</td><td>TURKISH AIRLINES</td><td>ISTANBUL</td><td>Middle East</td><td>Hub</td><td>Gates 91-102</td><td>2018-12-31</td><td>315</td><td>Somewhat clean</td><td>Somewhat safe</td><td>Somewhat satsified</td><td>Hub</td><td>somewhat clean</td></tr>\n",
              "</tbody>\n",
              "</table>\n"
            ]
          },
          "metadata": {
            "tags": []
          }
        }
      ]
    },
    {
      "cell_type": "markdown",
      "metadata": {
        "id": "-CRJfwZWQc07"
      },
      "source": [
        "### Dropping and Impute with aggregated measure"
      ]
    },
    {
      "cell_type": "markdown",
      "metadata": {
        "id": "G01_lT3wV7FR"
      },
      "source": [
        "ifelse(condition, val_if_true, val_if_false)"
      ]
    },
    {
      "cell_type": "code",
      "metadata": {
        "id": "CjG0MMgWWGFN"
      },
      "source": [
        "# In this case impute with mean.\n",
        "sfo_survey_na <- sfo_survey %>%\n",
        "  filter(!is.na(satisfaction)) %>%\n",
        "  mutate(mutated_mean = ifelse(is.na(wait_min), mean(wait_min, rm=TRUE), wait_min))"
      ],
      "execution_count": null,
      "outputs": []
    },
    {
      "cell_type": "markdown",
      "metadata": {
        "id": "4edW020xsIGk"
      },
      "source": [
        "# 9) Membership problem in strings: Comparing Strings. Remaping using string distance"
      ]
    },
    {
      "cell_type": "markdown",
      "metadata": {
        "id": "6KArDptPspez"
      },
      "source": [
        "Damerau-Levenshtein distance is the minimum number of steps needed to get from String A to String B, using these operations:\n",
        "\n",
        "Insertion of a new character.\n",
        "Deletion of an existing character.\n",
        "Substitution of an existing character.\n",
        "Transposition of two existing consecutive characters."
      ]
    },
    {
      "cell_type": "code",
      "metadata": {
        "colab": {
          "base_uri": "https://localhost:8080/"
        },
        "id": "xTv8lGx1t14L",
        "outputId": "d195ba80-fc48-4528-c98b-b0ed1d90ed5f"
      },
      "source": [
        "install.packages(\"fuzzyjoin\")"
      ],
      "execution_count": 5,
      "outputs": [
        {
          "output_type": "stream",
          "text": [
            "Installing package into ‘/usr/local/lib/R/site-library’\n",
            "(as ‘lib’ is unspecified)\n",
            "\n",
            "also installing the dependencies ‘sp’, ‘stringdist’, ‘geosphere’\n",
            "\n",
            "\n"
          ],
          "name": "stderr"
        }
      ]
    },
    {
      "cell_type": "code",
      "metadata": {
        "id": "aGA2Y5GXsaAR"
      },
      "source": [
        "library(fuzzyjoin)"
      ],
      "execution_count": 6,
      "outputs": []
    },
    {
      "cell_type": "markdown",
      "metadata": {
        "id": "OhZelsQqufcC"
      },
      "source": [
        "## Zagat databse"
      ]
    },
    {
      "cell_type": "markdown",
      "metadata": {
        "id": "Qj4vcgXluv5V"
      },
      "source": [
        "The city column contains the name of the city that the restaurant is located in. However, there are a number of typos throughout the column. Your task is to map each city to one of the five correctly-spelled cities contained in the cities data frame."
      ]
    },
    {
      "cell_type": "code",
      "metadata": {
        "colab": {
          "base_uri": "https://localhost:8080/"
        },
        "id": "Wxj93ladtIhn",
        "outputId": "56277e28-2bae-477c-c253-8ae9a6b5efbf"
      },
      "source": [
        "zagat = readRDS(\"/content/zagat.rds\")\n",
        "str(zagat)"
      ],
      "execution_count": 8,
      "outputs": [
        {
          "output_type": "stream",
          "text": [
            "'data.frame':\t310 obs. of  7 variables:\n",
            " $ id   : int  0 1 2 3 4 5 6 8 9 11 ...\n",
            " $ name : chr  \"apple pan the\" \"asahi ramen\" \"baja fresh\" \"belvedere the\" ...\n",
            " $ addr : chr  \"10801 w. pico blvd.\" \"2027 sawtelle blvd.\" \"3345 kimber dr.\" \"9882 little santa monica blvd.\" ...\n",
            " $ city : Factor w/ 26 levels \"atlanta\",\"los angeles\",..: 2 2 2 2 2 2 2 2 2 2 ...\n",
            " $ phone: Factor w/ 329 levels \"100-813-8212\",..: 143 145 312 155 139 96 323 125 150 132 ...\n",
            " $ type : chr  \"american\" \"noodle shops\" \"mexican\" \"pacific new wave\" ...\n",
            " $ class: int  534 535 536 537 538 539 540 542 543 545 ...\n"
          ],
          "name": "stdout"
        }
      ]
    },
    {
      "cell_type": "code",
      "metadata": {
        "colab": {
          "base_uri": "https://localhost:8080/",
          "height": 267
        },
        "id": "8lOAHHAIvOHo",
        "outputId": "f5edf728-32e7-4a57-c257-c0e36ace3f4b"
      },
      "source": [
        "city_actual = c(\"new york\",\"los angeles\",\"atlanta\",\"san francisco\",\"las vegas\")\n",
        "cities = data.frame(city_actual)\n",
        "cities"
      ],
      "execution_count": 16,
      "outputs": [
        {
          "output_type": "display_data",
          "data": {
            "text/plain": [
              "  city_actual  \n",
              "1 new york     \n",
              "2 los angeles  \n",
              "3 atlanta      \n",
              "4 san francisco\n",
              "5 las vegas    "
            ],
            "text/latex": "A data.frame: 5 × 1\n\\begin{tabular}{l}\n city\\_actual\\\\\n <chr>\\\\\n\\hline\n\t new york     \\\\\n\t los angeles  \\\\\n\t atlanta      \\\\\n\t san francisco\\\\\n\t las vegas    \\\\\n\\end{tabular}\n",
            "text/markdown": "\nA data.frame: 5 × 1\n\n| city_actual &lt;chr&gt; |\n|---|\n| new york      |\n| los angeles   |\n| atlanta       |\n| san francisco |\n| las vegas     |\n\n",
            "text/html": [
              "<table class=\"dataframe\">\n",
              "<caption>A data.frame: 5 × 1</caption>\n",
              "<thead>\n",
              "\t<tr><th scope=col>city_actual</th></tr>\n",
              "\t<tr><th scope=col>&lt;chr&gt;</th></tr>\n",
              "</thead>\n",
              "<tbody>\n",
              "\t<tr><td>new york     </td></tr>\n",
              "\t<tr><td>los angeles  </td></tr>\n",
              "\t<tr><td>atlanta      </td></tr>\n",
              "\t<tr><td>san francisco</td></tr>\n",
              "\t<tr><td>las vegas    </td></tr>\n",
              "</tbody>\n",
              "</table>\n"
            ]
          },
          "metadata": {
            "tags": []
          }
        }
      ]
    },
    {
      "cell_type": "markdown",
      "metadata": {
        "id": "-NMAOeokv_RB"
      },
      "source": [
        "## Fixing typos with string distance"
      ]
    },
    {
      "cell_type": "code",
      "metadata": {
        "colab": {
          "base_uri": "https://localhost:8080/",
          "height": 1000
        },
        "id": "iLk3CtwFuzAR",
        "outputId": "d509d851-6ab4-44fa-9441-57736efa84a4"
      },
      "source": [
        "# Count the number of each city variation\n",
        "zagat %>%\n",
        "  count(city)\n",
        "\n",
        "# Join and look at results\n",
        "zagat %>%\n",
        "  # Left join based on stringdist using city and city_actual cols\n",
        "  stringdist_left_join(cities, by = c(\"city\" = \"city_actual\")) %>%\n",
        "  # Select the name, city, and city_actual cols\n",
        "  select(name, city, city_actual)"
      ],
      "execution_count": 17,
      "outputs": [
        {
          "output_type": "display_data",
          "data": {
            "text/plain": [
              "  city          n \n",
              "1 atlanta       64\n",
              "2 los angeles   72\n",
              "3 new york      98\n",
              "4 las vegas     26\n",
              "5 san francisco 50"
            ],
            "text/latex": "A data.frame: 5 × 2\n\\begin{tabular}{ll}\n city & n\\\\\n <fct> & <int>\\\\\n\\hline\n\t atlanta       & 64\\\\\n\t los angeles   & 72\\\\\n\t new york      & 98\\\\\n\t las vegas     & 26\\\\\n\t san francisco & 50\\\\\n\\end{tabular}\n",
            "text/markdown": "\nA data.frame: 5 × 2\n\n| city &lt;fct&gt; | n &lt;int&gt; |\n|---|---|\n| atlanta       | 64 |\n| los angeles   | 72 |\n| new york      | 98 |\n| las vegas     | 26 |\n| san francisco | 50 |\n\n",
            "text/html": [
              "<table class=\"dataframe\">\n",
              "<caption>A data.frame: 5 × 2</caption>\n",
              "<thead>\n",
              "\t<tr><th scope=col>city</th><th scope=col>n</th></tr>\n",
              "\t<tr><th scope=col>&lt;fct&gt;</th><th scope=col>&lt;int&gt;</th></tr>\n",
              "</thead>\n",
              "<tbody>\n",
              "\t<tr><td>atlanta      </td><td>64</td></tr>\n",
              "\t<tr><td>los angeles  </td><td>72</td></tr>\n",
              "\t<tr><td>new york     </td><td>98</td></tr>\n",
              "\t<tr><td>las vegas    </td><td>26</td></tr>\n",
              "\t<tr><td>san francisco</td><td>50</td></tr>\n",
              "</tbody>\n",
              "</table>\n"
            ]
          },
          "metadata": {
            "tags": []
          }
        },
        {
          "output_type": "display_data",
          "data": {
            "text/plain": [
              "    name                                       city          city_actual  \n",
              "1   apple pan the                              los angeles   los angeles  \n",
              "2   asahi ramen                                los angeles   los angeles  \n",
              "3   baja fresh                                 los angeles   los angeles  \n",
              "4   belvedere the                              los angeles   los angeles  \n",
              "5   benita's frites                            los angeles   los angeles  \n",
              "6   bernard's                                  los angeles   los angeles  \n",
              "7   bistro 45                                  los angeles   los angeles  \n",
              "8   brighton coffee shop                       los angeles   los angeles  \n",
              "9   bristol farms market cafe                  los angeles   los angeles  \n",
              "10  cafe'50s                                   los angeles   los angeles  \n",
              "11  cafe blanc                                 los angeles   los angeles  \n",
              "12  cassell's                                  los angeles   los angeles  \n",
              "13  diaghilev                                  los angeles   los angeles  \n",
              "14  don antonio's                              los angeles   los angeles  \n",
              "15  duke's                                     los angeles   los angeles  \n",
              "16  falafel king                               los angeles   los angeles  \n",
              "17  feast from the east                        los angeles   los angeles  \n",
              "18  gumbo pot the                              los angeles   los angeles  \n",
              "19  indo cafe                                  los angeles   los angeles  \n",
              "20  jan's family restaurant                    los angeles   los angeles  \n",
              "21  jiraffe                                    los angeles   los angeles  \n",
              "22  jody maroni's sausage kingdom              los angeles   los angeles  \n",
              "23  joe's                                      los angeles   los angeles  \n",
              "24  john o  ` groats                           los angeles   los angeles  \n",
              "25  johnny rockets ( la )                      los angeles   los angeles  \n",
              "26  killer shrimp                              los angeles   los angeles  \n",
              "27  kokomo cafe                                los angeles   los angeles  \n",
              "28  koo koo roo                                los angeles   los angeles  \n",
              "29  la salsa ( la )                            los angeles   los angeles  \n",
              "30  langer's                                   los angeles   los angeles  \n",
              "⋮   ⋮                                          ⋮             ⋮            \n",
              "281 heera of india                             atlanta       atlanta      \n",
              "282 indigo coastal grill                       atlanta       atlanta      \n",
              "283 la grotta                                  atlanta       atlanta      \n",
              "284 mary mac's tea room                        atlanta       atlanta      \n",
              "285 nikolai's roof                             atlanta       atlanta      \n",
              "286 pano's & paul  's                          atlanta       atlanta      \n",
              "287 ritz-carlton cafe ( buckhead )             atlanta       atlanta      \n",
              "288 ritz-carlton dining room ( buckhead )      atlanta       atlanta      \n",
              "289 ritz-carlton restaurant                    atlanta       atlanta      \n",
              "290 toulouse                                   atlanta       atlanta      \n",
              "291 veni vidi vici                             atlanta       atlanta      \n",
              "292 alain rondelli                             san francisco san francisco\n",
              "293 aqua                                       san francisco san francisco\n",
              "294 boulevard                                  san francisco san francisco\n",
              "295 cafe claude                                san francisco san francisco\n",
              "296 campton place                              san francisco san francisco\n",
              "297 chez michel                                san francisco san francisco\n",
              "298 fleur de lys                               san francisco san francisco\n",
              "299 fringale                                   san francisco san francisco\n",
              "300 hawthorne lane                             san francisco san francisco\n",
              "301 khan toke thai house                       san francisco san francisco\n",
              "302 la folie                                   san francisco san francisco\n",
              "303 lulu restaurant-bis-cafe                   san francisco san francisco\n",
              "304 masa's                                     san francisco san francisco\n",
              "305 mifune                                     san francisco san francisco\n",
              "306 plumpjack cafe                             san francisco san francisco\n",
              "307 postrio                                    san francisco san francisco\n",
              "308 ritz-carlton dining room ( san francisco ) san francisco san francisco\n",
              "309 rose pistola                               san francisco san francisco\n",
              "310 ritz-carlton cafe ( atlanta )              atlanta       atlanta      "
            ],
            "text/latex": "A data.frame: 310 × 3\n\\begin{tabular}{lll}\n name & city & city\\_actual\\\\\n <chr> & <fct> & <chr>\\\\\n\\hline\n\t apple pan the                 & los angeles & los angeles\\\\\n\t asahi ramen                   & los angeles & los angeles\\\\\n\t baja fresh                    & los angeles & los angeles\\\\\n\t belvedere the                 & los angeles & los angeles\\\\\n\t benita's frites               & los angeles & los angeles\\\\\n\t bernard's                     & los angeles & los angeles\\\\\n\t bistro 45                     & los angeles & los angeles\\\\\n\t brighton coffee shop          & los angeles & los angeles\\\\\n\t bristol farms market cafe     & los angeles & los angeles\\\\\n\t cafe'50s                      & los angeles & los angeles\\\\\n\t cafe blanc                    & los angeles & los angeles\\\\\n\t cassell's                     & los angeles & los angeles\\\\\n\t diaghilev                     & los angeles & los angeles\\\\\n\t don antonio's                 & los angeles & los angeles\\\\\n\t duke's                        & los angeles & los angeles\\\\\n\t falafel king                  & los angeles & los angeles\\\\\n\t feast from the east           & los angeles & los angeles\\\\\n\t gumbo pot the                 & los angeles & los angeles\\\\\n\t indo cafe                     & los angeles & los angeles\\\\\n\t jan's family restaurant       & los angeles & los angeles\\\\\n\t jiraffe                       & los angeles & los angeles\\\\\n\t jody maroni's sausage kingdom & los angeles & los angeles\\\\\n\t joe's                         & los angeles & los angeles\\\\\n\t john o  ` groats              & los angeles & los angeles\\\\\n\t johnny rockets ( la )         & los angeles & los angeles\\\\\n\t killer shrimp                 & los angeles & los angeles\\\\\n\t kokomo cafe                   & los angeles & los angeles\\\\\n\t koo koo roo                   & los angeles & los angeles\\\\\n\t la salsa ( la )               & los angeles & los angeles\\\\\n\t langer's                      & los angeles & los angeles\\\\\n\t ⋮ & ⋮ & ⋮\\\\\n\t heera of india                             & atlanta       & atlanta      \\\\\n\t indigo coastal grill                       & atlanta       & atlanta      \\\\\n\t la grotta                                  & atlanta       & atlanta      \\\\\n\t mary mac's tea room                        & atlanta       & atlanta      \\\\\n\t nikolai's roof                             & atlanta       & atlanta      \\\\\n\t pano's \\& paul  's                          & atlanta       & atlanta      \\\\\n\t ritz-carlton cafe ( buckhead )             & atlanta       & atlanta      \\\\\n\t ritz-carlton dining room ( buckhead )      & atlanta       & atlanta      \\\\\n\t ritz-carlton restaurant                    & atlanta       & atlanta      \\\\\n\t toulouse                                   & atlanta       & atlanta      \\\\\n\t veni vidi vici                             & atlanta       & atlanta      \\\\\n\t alain rondelli                             & san francisco & san francisco\\\\\n\t aqua                                       & san francisco & san francisco\\\\\n\t boulevard                                  & san francisco & san francisco\\\\\n\t cafe claude                                & san francisco & san francisco\\\\\n\t campton place                              & san francisco & san francisco\\\\\n\t chez michel                                & san francisco & san francisco\\\\\n\t fleur de lys                               & san francisco & san francisco\\\\\n\t fringale                                   & san francisco & san francisco\\\\\n\t hawthorne lane                             & san francisco & san francisco\\\\\n\t khan toke thai house                       & san francisco & san francisco\\\\\n\t la folie                                   & san francisco & san francisco\\\\\n\t lulu restaurant-bis-cafe                   & san francisco & san francisco\\\\\n\t masa's                                     & san francisco & san francisco\\\\\n\t mifune                                     & san francisco & san francisco\\\\\n\t plumpjack cafe                             & san francisco & san francisco\\\\\n\t postrio                                    & san francisco & san francisco\\\\\n\t ritz-carlton dining room ( san francisco ) & san francisco & san francisco\\\\\n\t rose pistola                               & san francisco & san francisco\\\\\n\t ritz-carlton cafe ( atlanta )              & atlanta       & atlanta      \\\\\n\\end{tabular}\n",
            "text/markdown": "\nA data.frame: 310 × 3\n\n| name &lt;chr&gt; | city &lt;fct&gt; | city_actual &lt;chr&gt; |\n|---|---|---|\n| apple pan the                 | los angeles | los angeles |\n| asahi ramen                   | los angeles | los angeles |\n| baja fresh                    | los angeles | los angeles |\n| belvedere the                 | los angeles | los angeles |\n| benita's frites               | los angeles | los angeles |\n| bernard's                     | los angeles | los angeles |\n| bistro 45                     | los angeles | los angeles |\n| brighton coffee shop          | los angeles | los angeles |\n| bristol farms market cafe     | los angeles | los angeles |\n| cafe'50s                      | los angeles | los angeles |\n| cafe blanc                    | los angeles | los angeles |\n| cassell's                     | los angeles | los angeles |\n| diaghilev                     | los angeles | los angeles |\n| don antonio's                 | los angeles | los angeles |\n| duke's                        | los angeles | los angeles |\n| falafel king                  | los angeles | los angeles |\n| feast from the east           | los angeles | los angeles |\n| gumbo pot the                 | los angeles | los angeles |\n| indo cafe                     | los angeles | los angeles |\n| jan's family restaurant       | los angeles | los angeles |\n| jiraffe                       | los angeles | los angeles |\n| jody maroni's sausage kingdom | los angeles | los angeles |\n| joe's                         | los angeles | los angeles |\n| john o  ` groats              | los angeles | los angeles |\n| johnny rockets ( la )         | los angeles | los angeles |\n| killer shrimp                 | los angeles | los angeles |\n| kokomo cafe                   | los angeles | los angeles |\n| koo koo roo                   | los angeles | los angeles |\n| la salsa ( la )               | los angeles | los angeles |\n| langer's                      | los angeles | los angeles |\n| ⋮ | ⋮ | ⋮ |\n| heera of india                             | atlanta       | atlanta       |\n| indigo coastal grill                       | atlanta       | atlanta       |\n| la grotta                                  | atlanta       | atlanta       |\n| mary mac's tea room                        | atlanta       | atlanta       |\n| nikolai's roof                             | atlanta       | atlanta       |\n| pano's &amp; paul  's                          | atlanta       | atlanta       |\n| ritz-carlton cafe ( buckhead )             | atlanta       | atlanta       |\n| ritz-carlton dining room ( buckhead )      | atlanta       | atlanta       |\n| ritz-carlton restaurant                    | atlanta       | atlanta       |\n| toulouse                                   | atlanta       | atlanta       |\n| veni vidi vici                             | atlanta       | atlanta       |\n| alain rondelli                             | san francisco | san francisco |\n| aqua                                       | san francisco | san francisco |\n| boulevard                                  | san francisco | san francisco |\n| cafe claude                                | san francisco | san francisco |\n| campton place                              | san francisco | san francisco |\n| chez michel                                | san francisco | san francisco |\n| fleur de lys                               | san francisco | san francisco |\n| fringale                                   | san francisco | san francisco |\n| hawthorne lane                             | san francisco | san francisco |\n| khan toke thai house                       | san francisco | san francisco |\n| la folie                                   | san francisco | san francisco |\n| lulu restaurant-bis-cafe                   | san francisco | san francisco |\n| masa's                                     | san francisco | san francisco |\n| mifune                                     | san francisco | san francisco |\n| plumpjack cafe                             | san francisco | san francisco |\n| postrio                                    | san francisco | san francisco |\n| ritz-carlton dining room ( san francisco ) | san francisco | san francisco |\n| rose pistola                               | san francisco | san francisco |\n| ritz-carlton cafe ( atlanta )              | atlanta       | atlanta       |\n\n",
            "text/html": [
              "<table class=\"dataframe\">\n",
              "<caption>A data.frame: 310 × 3</caption>\n",
              "<thead>\n",
              "\t<tr><th scope=col>name</th><th scope=col>city</th><th scope=col>city_actual</th></tr>\n",
              "\t<tr><th scope=col>&lt;chr&gt;</th><th scope=col>&lt;fct&gt;</th><th scope=col>&lt;chr&gt;</th></tr>\n",
              "</thead>\n",
              "<tbody>\n",
              "\t<tr><td>apple pan the                </td><td>los angeles</td><td>los angeles</td></tr>\n",
              "\t<tr><td>asahi ramen                  </td><td>los angeles</td><td>los angeles</td></tr>\n",
              "\t<tr><td>baja fresh                   </td><td>los angeles</td><td>los angeles</td></tr>\n",
              "\t<tr><td>belvedere the                </td><td>los angeles</td><td>los angeles</td></tr>\n",
              "\t<tr><td>benita's frites              </td><td>los angeles</td><td>los angeles</td></tr>\n",
              "\t<tr><td>bernard's                    </td><td>los angeles</td><td>los angeles</td></tr>\n",
              "\t<tr><td>bistro 45                    </td><td>los angeles</td><td>los angeles</td></tr>\n",
              "\t<tr><td>brighton coffee shop         </td><td>los angeles</td><td>los angeles</td></tr>\n",
              "\t<tr><td>bristol farms market cafe    </td><td>los angeles</td><td>los angeles</td></tr>\n",
              "\t<tr><td>cafe'50s                     </td><td>los angeles</td><td>los angeles</td></tr>\n",
              "\t<tr><td>cafe blanc                   </td><td>los angeles</td><td>los angeles</td></tr>\n",
              "\t<tr><td>cassell's                    </td><td>los angeles</td><td>los angeles</td></tr>\n",
              "\t<tr><td>diaghilev                    </td><td>los angeles</td><td>los angeles</td></tr>\n",
              "\t<tr><td>don antonio's                </td><td>los angeles</td><td>los angeles</td></tr>\n",
              "\t<tr><td>duke's                       </td><td>los angeles</td><td>los angeles</td></tr>\n",
              "\t<tr><td>falafel king                 </td><td>los angeles</td><td>los angeles</td></tr>\n",
              "\t<tr><td>feast from the east          </td><td>los angeles</td><td>los angeles</td></tr>\n",
              "\t<tr><td>gumbo pot the                </td><td>los angeles</td><td>los angeles</td></tr>\n",
              "\t<tr><td>indo cafe                    </td><td>los angeles</td><td>los angeles</td></tr>\n",
              "\t<tr><td>jan's family restaurant      </td><td>los angeles</td><td>los angeles</td></tr>\n",
              "\t<tr><td>jiraffe                      </td><td>los angeles</td><td>los angeles</td></tr>\n",
              "\t<tr><td>jody maroni's sausage kingdom</td><td>los angeles</td><td>los angeles</td></tr>\n",
              "\t<tr><td>joe's                        </td><td>los angeles</td><td>los angeles</td></tr>\n",
              "\t<tr><td>john o  ` groats             </td><td>los angeles</td><td>los angeles</td></tr>\n",
              "\t<tr><td>johnny rockets ( la )        </td><td>los angeles</td><td>los angeles</td></tr>\n",
              "\t<tr><td>killer shrimp                </td><td>los angeles</td><td>los angeles</td></tr>\n",
              "\t<tr><td>kokomo cafe                  </td><td>los angeles</td><td>los angeles</td></tr>\n",
              "\t<tr><td>koo koo roo                  </td><td>los angeles</td><td>los angeles</td></tr>\n",
              "\t<tr><td>la salsa ( la )              </td><td>los angeles</td><td>los angeles</td></tr>\n",
              "\t<tr><td>langer's                     </td><td>los angeles</td><td>los angeles</td></tr>\n",
              "\t<tr><td>⋮</td><td>⋮</td><td>⋮</td></tr>\n",
              "\t<tr><td>heera of india                            </td><td>atlanta      </td><td>atlanta      </td></tr>\n",
              "\t<tr><td>indigo coastal grill                      </td><td>atlanta      </td><td>atlanta      </td></tr>\n",
              "\t<tr><td>la grotta                                 </td><td>atlanta      </td><td>atlanta      </td></tr>\n",
              "\t<tr><td>mary mac's tea room                       </td><td>atlanta      </td><td>atlanta      </td></tr>\n",
              "\t<tr><td>nikolai's roof                            </td><td>atlanta      </td><td>atlanta      </td></tr>\n",
              "\t<tr><td><span style=white-space:pre-wrap>pano's &amp; paul  's                         </span></td><td><span style=white-space:pre-wrap>atlanta      </span></td><td><span style=white-space:pre-wrap>atlanta      </span></td></tr>\n",
              "\t<tr><td>ritz-carlton cafe ( buckhead )            </td><td>atlanta      </td><td>atlanta      </td></tr>\n",
              "\t<tr><td>ritz-carlton dining room ( buckhead )     </td><td>atlanta      </td><td>atlanta      </td></tr>\n",
              "\t<tr><td>ritz-carlton restaurant                   </td><td>atlanta      </td><td>atlanta      </td></tr>\n",
              "\t<tr><td>toulouse                                  </td><td>atlanta      </td><td>atlanta      </td></tr>\n",
              "\t<tr><td>veni vidi vici                            </td><td>atlanta      </td><td>atlanta      </td></tr>\n",
              "\t<tr><td>alain rondelli                            </td><td>san francisco</td><td>san francisco</td></tr>\n",
              "\t<tr><td>aqua                                      </td><td>san francisco</td><td>san francisco</td></tr>\n",
              "\t<tr><td>boulevard                                 </td><td>san francisco</td><td>san francisco</td></tr>\n",
              "\t<tr><td>cafe claude                               </td><td>san francisco</td><td>san francisco</td></tr>\n",
              "\t<tr><td>campton place                             </td><td>san francisco</td><td>san francisco</td></tr>\n",
              "\t<tr><td>chez michel                               </td><td>san francisco</td><td>san francisco</td></tr>\n",
              "\t<tr><td>fleur de lys                              </td><td>san francisco</td><td>san francisco</td></tr>\n",
              "\t<tr><td>fringale                                  </td><td>san francisco</td><td>san francisco</td></tr>\n",
              "\t<tr><td>hawthorne lane                            </td><td>san francisco</td><td>san francisco</td></tr>\n",
              "\t<tr><td>khan toke thai house                      </td><td>san francisco</td><td>san francisco</td></tr>\n",
              "\t<tr><td>la folie                                  </td><td>san francisco</td><td>san francisco</td></tr>\n",
              "\t<tr><td>lulu restaurant-bis-cafe                  </td><td>san francisco</td><td>san francisco</td></tr>\n",
              "\t<tr><td>masa's                                    </td><td>san francisco</td><td>san francisco</td></tr>\n",
              "\t<tr><td>mifune                                    </td><td>san francisco</td><td>san francisco</td></tr>\n",
              "\t<tr><td>plumpjack cafe                            </td><td>san francisco</td><td>san francisco</td></tr>\n",
              "\t<tr><td>postrio                                   </td><td>san francisco</td><td>san francisco</td></tr>\n",
              "\t<tr><td>ritz-carlton dining room ( san francisco )</td><td>san francisco</td><td>san francisco</td></tr>\n",
              "\t<tr><td>rose pistola                              </td><td>san francisco</td><td>san francisco</td></tr>\n",
              "\t<tr><td>ritz-carlton cafe ( atlanta )             </td><td>atlanta      </td><td>atlanta      </td></tr>\n",
              "</tbody>\n",
              "</table>\n"
            ]
          },
          "metadata": {
            "tags": []
          }
        }
      ]
    },
    {
      "cell_type": "markdown",
      "metadata": {
        "id": "k4U6y90qwZIi"
      },
      "source": [
        "# 10) When joins don't work because of difference in strings on keys."
      ]
    },
    {
      "cell_type": "markdown",
      "metadata": {
        "id": "5GX35jTo75cN"
      },
      "source": [
        "#RECLIN library"
      ]
    },
    {
      "cell_type": "markdown",
      "metadata": {
        "id": "gscjvPywwo7R"
      },
      "source": [
        "Many times is needed to join data from multiple sources, but the key columns are written in different ways.\n",
        "\n",
        "First we clean each dataset separately then we generate pairs, compare pairs of how similar they are, then we score each and complete the join."
      ]
    },
    {
      "cell_type": "markdown",
      "metadata": {
        "id": "Nk8EduNTzaV5"
      },
      "source": [
        "Link or join?\n",
        "Similar to joins, record linkage is the act of linking data from different sources regarding the same entity. But unlike joins, record linkage does not require exact matches between different pairs of data, and instead can find close matches using string similarity. This is why record linkage is effective when there are no common unique keys between the data sources you can rely upon when linking data sources such as a unique identifier."
      ]
    },
    {
      "cell_type": "markdown",
      "metadata": {
        "id": "P3gtUIw0xe9-"
      },
      "source": [
        "## a) Generate pairs.\n",
        "\n",
        "1- all row A with all rows B. But this technique is memory intensive.\n",
        "\n",
        "2- Using \"blocking\". We only consider pairs when they agree on the blocking variable."
      ]
    },
    {
      "cell_type": "markdown",
      "metadata": {
        "id": "MkXFfZMM0FCs"
      },
      "source": [
        "Zagat and Fodor's are both companies that gather restaurant reviews. The zagat and fodors datasets both contain information about various restaurants, including addresses, phone numbers, and cuisine types. Some restaurants appear in both datasets, but don't necessarily have the same exact name or phone number written down. In this chapter, you'll work towards figuring out which restaurants appear in both datasets."
      ]
    },
    {
      "cell_type": "code",
      "metadata": {
        "colab": {
          "base_uri": "https://localhost:8080/"
        },
        "id": "MDcEOhenz30Y",
        "outputId": "9b6086fe-d65d-4262-bbd8-542dd5acdde1"
      },
      "source": [
        "fodors = readRDS(\"/content/fodors.rds\")\n",
        "\n",
        "str(fodors)"
      ],
      "execution_count": 24,
      "outputs": [
        {
          "output_type": "stream",
          "text": [
            "'data.frame':\t533 obs. of  7 variables:\n",
            " $ id   : int  0 1 2 3 4 5 6 7 8 9 ...\n",
            " $ name : chr  \"arnie morton's of chicago\" \"art's delicatessen\" \"hotel bel-air\" \"cafe bizou\" ...\n",
            " $ addr : chr  \"435 s. la cienega blv .\" \"12224 ventura blvd.\" \"701 stone canyon rd.\" \"14016 ventura blvd.\" ...\n",
            " $ city : Factor w/ 5 levels \"atlanta\",\"los angeles\",..: 2 2 2 2 2 2 2 2 2 2 ...\n",
            " $ phone: chr  \"310-246-1501\" \"818-762-1221\" \"310-472-1211\" \"818-788-3536\" ...\n",
            " $ type : chr  \"american\" \"american\" \"californian\" \"french\" ...\n",
            " $ class: int  0 1 2 3 4 5 6 7 8 9 ...\n"
          ],
          "name": "stdout"
        }
      ]
    },
    {
      "cell_type": "code",
      "metadata": {
        "colab": {
          "base_uri": "https://localhost:8080/"
        },
        "id": "Kl4KaaRAxns4",
        "outputId": "1883921d-2c01-4fe9-dbed-b722e315e2e2"
      },
      "source": [
        "install.packages(\"reclin\")"
      ],
      "execution_count": 19,
      "outputs": [
        {
          "output_type": "stream",
          "text": [
            "Installing package into ‘/usr/local/lib/R/site-library’\n",
            "(as ‘lib’ is unspecified)\n",
            "\n",
            "also installing the dependencies ‘lvec’, ‘ldat’, ‘lpSolve’\n",
            "\n",
            "\n"
          ],
          "name": "stderr"
        }
      ]
    },
    {
      "cell_type": "markdown",
      "metadata": {
        "id": "a8eZrOY20leF"
      },
      "source": [
        "### All pairs"
      ]
    },
    {
      "cell_type": "code",
      "metadata": {
        "colab": {
          "base_uri": "https://localhost:8080/",
          "height": 520
        },
        "id": "odr9_KIiwjHE",
        "outputId": "0e4539a6-4c6c-45ff-ae1c-a58a05cbfbdb"
      },
      "source": [
        "# Load reclin\n",
        "library(reclin)\n",
        "\n",
        "# Generate all possible pairs\n",
        "pair_blocking(zagat, fodors)"
      ],
      "execution_count": 25,
      "outputs": [
        {
          "output_type": "display_data",
          "data": {
            "text/plain": [
              "Simple blocking\n",
              "  No blocking used.\n",
              "  First data set:  310 records\n",
              "  Second data set: 533 records\n",
              "  Total number of pairs: 165 230 pairs\n",
              "\n",
              "ldat with 165 230 rows and 2 columns\n",
              "         x   y\n",
              "1        1   1\n",
              "2        2   1\n",
              "3        3   1\n",
              "4        4   1\n",
              "5        5   1\n",
              "6        6   1\n",
              "7        7   1\n",
              "8        8   1\n",
              "9        9   1\n",
              "10      10   1\n",
              ":        :   :\n",
              "165221 301 533\n",
              "165222 302 533\n",
              "165223 303 533\n",
              "165224 304 533\n",
              "165225 305 533\n",
              "165226 306 533\n",
              "165227 307 533\n",
              "165228 308 533\n",
              "165229 309 533\n",
              "165230 310 533"
            ]
          },
          "metadata": {
            "tags": []
          }
        }
      ]
    },
    {
      "cell_type": "markdown",
      "metadata": {
        "id": "9bQ8kCPi0hPn"
      },
      "source": [
        "### Blocking by city"
      ]
    },
    {
      "cell_type": "code",
      "metadata": {
        "id": "9nIpEiKU0fqt"
      },
      "source": [
        "# Generate pairs with same city\n",
        "pair_blocking(zagat, fodors, blocking_var = \"city\")"
      ],
      "execution_count": null,
      "outputs": []
    },
    {
      "cell_type": "markdown",
      "metadata": {
        "id": "2JqX-cAG0ySy"
      },
      "source": [
        "## b) Comparing pairs"
      ]
    },
    {
      "cell_type": "markdown",
      "metadata": {
        "id": "cwKClkFt2Fgu"
      },
      "source": [
        "Choosing a comparator and the columns to compare is highly dataset-dependent, so it's best to try out different combinations to see which works best on the dataset you're working with."
      ]
    },
    {
      "cell_type": "code",
      "metadata": {
        "colab": {
          "base_uri": "https://localhost:8080/",
          "height": 572
        },
        "id": "8ACjZp-h044t",
        "outputId": "760f715b-efc3-4f78-cd8e-42ebe8800ac4"
      },
      "source": [
        "# Generate pairs\n",
        "pair_blocking(zagat, fodors, blocking_var = \"city\") %>%\n",
        "  # Compare pairs by name using lcs()\n",
        "  compare_pairs(by = \"name\",\n",
        "                default_comparator = lcs())"
      ],
      "execution_count": 26,
      "outputs": [
        {
          "output_type": "display_data",
          "data": {
            "text/plain": [
              "Compare\n",
              "  By: name\n",
              "\n",
              "Simple blocking\n",
              "  Blocking variable(s): city\n",
              "  First data set:  310 records\n",
              "  Second data set: 533 records\n",
              "  Total number of pairs: 40 532 pairs\n",
              "\n",
              "ldat with 40 532 rows and 3 columns\n",
              "        x   y      name\n",
              "1       1   1 0.3157895\n",
              "2       1   2 0.3225806\n",
              "3       1   3 0.2307692\n",
              "4       1   4 0.2608696\n",
              "5       1   5 0.4545455\n",
              "6       1   6 0.2142857\n",
              "7       1   7 0.1052632\n",
              "8       1   8 0.2222222\n",
              "9       1   9 0.3000000\n",
              "10      1  10 0.4516129\n",
              ":       :   :         :\n",
              "40523 310 414 0.3606557\n",
              "40524 310 415 0.2631579\n",
              "40525 310 416 0.2105263\n",
              "40526 310 417 0.3750000\n",
              "40527 310 418 0.2978723\n",
              "40528 310 419 0.2727273\n",
              "40529 310 420 0.3437500\n",
              "40530 310 421 0.3414634\n",
              "40531 310 422 0.4081633\n",
              "40532 310 423 0.1714286"
            ]
          },
          "metadata": {
            "tags": []
          }
        }
      ]
    },
    {
      "cell_type": "code",
      "metadata": {
        "colab": {
          "base_uri": "https://localhost:8080/",
          "height": 572
        },
        "id": "sRHUyLc73DDO",
        "outputId": "a6beef1d-1a9b-437a-d585-f7b1c85f0e63"
      },
      "source": [
        "# Create pairs\n",
        "pair_blocking(zagat, fodors, blocking_var = \"city\") %>%\n",
        "  # Compare pairs. Here I add more variables\n",
        "  compare_pairs(by = c(\"name\", \"addr\", \"type\", \"phone\"), default_comparator = jaro_winkler()) %>%\n",
        "  # Score pairs\n",
        "  score_problink()"
      ],
      "execution_count": 36,
      "outputs": [
        {
          "output_type": "display_data",
          "data": {
            "text/plain": [
              "Compare\n",
              "  By: name, addr, type, phone\n",
              "\n",
              "Simple blocking\n",
              "  Blocking variable(s): city\n",
              "  First data set:  310 records\n",
              "  Second data set: 533 records\n",
              "  Total number of pairs: 40 532 pairs\n",
              "\n",
              "ldat with 40 532 rows and 7 columns\n",
              "        x   y      name      addr      type     phone     weight\n",
              "1       1   1 0.4871062 0.5703661 1.0000000 0.6746032  2.9228878\n",
              "2       1   2 0.5234025 0.6140351 1.0000000 0.5555556  2.6782262\n",
              "3       1   3 0.4564103 0.5486355 0.5598485 0.7222222  0.9767931\n",
              "4       1   4 0.5102564 0.6842105 0.5138889 0.6746032  1.3157859\n",
              "5       1   5 0.5982906 0.5515351 1.0000000 0.5793651  2.8068054\n",
              "6       1   6 0.3581197 0.4825911 0.5138889 0.6746032  0.2843276\n",
              "7       1   7 0.0000000 0.5457762 0.5598485 0.6269841 -0.5482499\n",
              "8       1   8 0.4256410 0.4979621 1.0000000 0.6269841  2.3494218\n",
              "9       1   9 0.5013736 0.6342105 0.5598485 0.7777778  1.6582539\n",
              "10      1  10 0.6011396 0.4654971 1.0000000 0.6746032  2.9709863\n",
              ":       :   :         :         :         :         :          :\n",
              "40523 310 414 0.4972291 0.5158263 0.8333333 0.6666667  1.1905749\n",
              "40524 310 415 0.5778143 0.5065359 0.5791667 0.6746032  1.0057341\n",
              "40525 310 416 0.4426564 0.4294118 0.6833333 0.6666667  0.4997547\n",
              "40526 310 417 0.5315404 0.7070387 0.6833333 0.7152778  1.8240782\n",
              "40527 310 418 0.5271102 0.7135914 0.5208333 0.6111111  1.2189042\n",
              "40528 310 419 0.5204981 0.5683007 0.4722222 0.6944444  1.0167154\n",
              "40529 310 420 0.5635103 0.4928843 0.5208333 0.5833333  0.4991452\n",
              "40530 310 421 0.4891899 0.6108883 0.8333333 0.6111111  1.2202748\n",
              "40531 310 422 0.6204433 0.7774510 0.5208333 0.6746032  2.0667305\n",
              "40532 310 423 0.4233716 0.7908497 0.4734848 0.6746032  1.5272011"
            ]
          },
          "metadata": {
            "tags": []
          }
        }
      ]
    },
    {
      "cell_type": "markdown",
      "metadata": {
        "id": "OYgCjCfD3USv"
      },
      "source": [
        "## c) Select pairs"
      ]
    },
    {
      "cell_type": "markdown",
      "metadata": {
        "id": "kt-ae7ls6Bhb"
      },
      "source": [
        "Here we use more variables \"name\", \"addr\", \"type\", \"phone\" to compare and\n",
        "jaro_winkler(0.9)"
      ]
    },
    {
      "cell_type": "code",
      "metadata": {
        "colab": {
          "base_uri": "https://localhost:8080/",
          "height": 572
        },
        "id": "i7lWEjko3T7f",
        "outputId": "08131a9a-dc7d-4375-e206-6a9f695677dc"
      },
      "source": [
        "# Create pairs\n",
        "pair_blocking(zagat, fodors, blocking_var = \"city\") %>%\n",
        "  # Compare pairs\n",
        "  compare_pairs(by = c(\"name\", \"addr\", \"type\", \"phone\"), default_comparator = jaro_winkler(0.9)) %>%\n",
        "  # Score pairs\n",
        "  score_problink() %>%\n",
        "  # Select pairs\n",
        "  select_n_to_m()"
      ],
      "execution_count": 41,
      "outputs": [
        {
          "output_type": "display_data",
          "data": {
            "text/plain": [
              "Compare\n",
              "  By: name, addr, type, phone\n",
              "\n",
              "Simple blocking\n",
              "  Blocking variable(s): city\n",
              "  First data set:  310 records\n",
              "  Second data set: 533 records\n",
              "  Total number of pairs: 40 532 pairs\n",
              "\n",
              "ldat with 40 532 rows and 8 columns\n",
              "        x   y      name      addr      type     phone     weight select\n",
              "1       1   1 0.4871062 0.5703661 1.0000000 0.6746032  2.9158846  FALSE\n",
              "2       1   2 0.5234025 0.6140351 1.0000000 0.5555556  2.6626411  FALSE\n",
              "3       1   3 0.4564103 0.5486355 0.5598485 0.7222222  1.0030760  FALSE\n",
              "4       1   4 0.5102564 0.6842105 0.5138889 0.6746032  1.3486138  FALSE\n",
              "5       1   5 0.5982906 0.5515351 1.0000000 0.5793651  2.7880263  FALSE\n",
              "6       1   6 0.3581197 0.4825911 0.5138889 0.6746032  0.3026781  FALSE\n",
              "7       1   7 0.0000000 0.5457762 0.5598485 0.6269841 -0.5212833  FALSE\n",
              "8       1   8 0.4256410 0.4979621 1.0000000 0.6269841  2.3317791  FALSE\n",
              "9       1   9 0.5013736 0.6342105 0.5598485 0.7777778  1.6941027  FALSE\n",
              "10      1  10 0.6011396 0.4654971 1.0000000 0.6746032  2.9517365  FALSE\n",
              ":       :   :         :         :         :         :          :      :\n",
              "40523 310 414 0.4972291 0.5158263 0.8333333 0.6666667  1.1960194  FALSE\n",
              "40524 310 415 0.5778143 0.5065359 0.5791667 0.6746032  1.0223383  FALSE\n",
              "40525 310 416 0.4426564 0.4294118 0.6833333 0.6666667  0.5038320  FALSE\n",
              "40526 310 417 0.5315404 0.7070387 0.6833333 0.7152778  1.8545342  FALSE\n",
              "40527 310 418 0.5271102 0.7135914 0.5208333 0.6111111  1.2465496  FALSE\n",
              "40528 310 419 0.5204981 0.5683007 0.4722222 0.6944444  1.0445524  FALSE\n",
              "40529 310 420 0.5635103 0.4928843 0.5208333 0.5833333  0.5076110  FALSE\n",
              "40530 310 421 0.4891899 0.6108883 0.8333333 0.6111111  1.2293564  FALSE\n",
              "40531 310 422 0.6204433 0.7774510 0.5208333 0.6746032  2.0984362  FALSE\n",
              "40532 310 423 0.4233716 0.7908497 0.4734848 0.6746032  1.5615113  FALSE"
            ]
          },
          "metadata": {
            "tags": []
          }
        }
      ]
    },
    {
      "cell_type": "markdown",
      "metadata": {
        "id": "itT0DGqU3jgz"
      },
      "source": [
        "## d) Link"
      ]
    },
    {
      "cell_type": "markdown",
      "metadata": {
        "id": "co-jDdr74M7N"
      },
      "source": [
        "Here I try a higher threshold inside select_n_to_m"
      ]
    },
    {
      "cell_type": "code",
      "metadata": {
        "colab": {
          "base_uri": "https://localhost:8080/",
          "height": 1000
        },
        "id": "CV7uf_HS3irz",
        "outputId": "83cc765c-de5a-44f9-f189-ef33c7e45639"
      },
      "source": [
        "# Create pairs\n",
        "pair_blocking(zagat, fodors, blocking_var = \"city\") %>%\n",
        "  # Compare pairs\n",
        "  compare_pairs(by = c(\"name\", \"addr\", \"type\", \"phone\"), default_comparator = jaro_winkler(0.9)) %>%\n",
        "  # Score pairs\n",
        "  score_problink() %>%\n",
        "  # Select pairs\n",
        "  select_n_to_m(threshold = 8) %>%\n",
        "  link()"
      ],
      "execution_count": 45,
      "outputs": [
        {
          "output_type": "display_data",
          "data": {
            "text/plain": [
              "    id.x name.x                        addr.x                  city.x     \n",
              "1   113  teresa's                      80 montague st.         new york   \n",
              "2   137  steakhouse the                128 e. fremont st.      las vegas  \n",
              "3   138  stefano's                     129 fremont st.         las vegas  \n",
              "4   218  arnie morton's of chicago     435 s. la cienega blvd. los angeles\n",
              "5   219  art's deli                    12224 ventura blvd.     los angeles\n",
              "6   220  bel-air hotel                 701 stone canyon rd.    los angeles\n",
              "7   222  campanile                     624 s. la brea ave.     los angeles\n",
              "8   223  chinois on main               2709 main st.           los angeles\n",
              "9   224  citrus                        6703 melrose ave.       los angeles\n",
              "10  225  fenix at the argyle           8358 sunset blvd.       los angeles\n",
              "11  226  granita                       23725 w. malibu rd.     los angeles\n",
              "12  227  grill the                     9560 dayton way         los angeles\n",
              "13  229  l  ` orangerie                903 n. la cienega blvd. los angeles\n",
              "14  230  le chardonnay ( los angeles ) 8284 melrose ave.       los angeles\n",
              "15  231  locanda veneta                8638 w. third st.       los angeles\n",
              "16  232  matsuhisa                     129 n. la cienega blvd. los angeles\n",
              "17  233  palm the ( los angeles )      9001 santa monica blvd. los angeles\n",
              "18  234  patina                        5955 melrose ave.       los angeles\n",
              "19  235  philippe the original         1001 n. alameda st.     los angeles\n",
              "20  236  pinot bistro                  12969 ventura blvd.     los angeles\n",
              "21  237  rex il ristorante             617 s. olive st.        los angeles\n",
              "22  238  spago ( los angeles )         8795 sunset blvd.       los angeles\n",
              "23  239  valentino                     3115 pico blvd.         los angeles\n",
              "24  240  yujean kang's                 67 n. raymond ave.      los angeles\n",
              "25  241  '21 club                      21 w. 52nd st.          new york   \n",
              "26  242  aquavit                       13 w. 54th st.          new york   \n",
              "27  243  aureole                       34 e. 61st st.          new york   \n",
              "28  244  cafe lalo                     201 w. 83rd st.         new york   \n",
              "29  245  cafe des artistes             1 w. 67th st.           new york   \n",
              "30  246  carmine's                     2450 broadway           new york   \n",
              "⋮   ⋮    ⋮                             ⋮                       ⋮          \n",
              "703 NA   NA                            NA                      NA         \n",
              "704 NA   NA                            NA                      NA         \n",
              "705 NA   NA                            NA                      NA         \n",
              "706 NA   NA                            NA                      NA         \n",
              "707 NA   NA                            NA                      NA         \n",
              "708 NA   NA                            NA                      NA         \n",
              "709 NA   NA                            NA                      NA         \n",
              "710 NA   NA                            NA                      NA         \n",
              "711 NA   NA                            NA                      NA         \n",
              "712 NA   NA                            NA                      NA         \n",
              "713 NA   NA                            NA                      NA         \n",
              "714 NA   NA                            NA                      NA         \n",
              "715 NA   NA                            NA                      NA         \n",
              "716 NA   NA                            NA                      NA         \n",
              "717 NA   NA                            NA                      NA         \n",
              "718 NA   NA                            NA                      NA         \n",
              "719 NA   NA                            NA                      NA         \n",
              "720 NA   NA                            NA                      NA         \n",
              "721 NA   NA                            NA                      NA         \n",
              "722 NA   NA                            NA                      NA         \n",
              "723 NA   NA                            NA                      NA         \n",
              "724 NA   NA                            NA                      NA         \n",
              "725 NA   NA                            NA                      NA         \n",
              "726 NA   NA                            NA                      NA         \n",
              "727 NA   NA                            NA                      NA         \n",
              "728 NA   NA                            NA                      NA         \n",
              "729 NA   NA                            NA                      NA         \n",
              "730 NA   NA                            NA                      NA         \n",
              "731 NA   NA                            NA                      NA         \n",
              "732 NA   NA                            NA                      NA         \n",
              "    phone.x      type.x                   class.x id.y\n",
              "1   718-520-2910 polish                   647     358 \n",
              "2   702-382-1600 steakhouses              671     428 \n",
              "3   702-385-7111 italian                  672     442 \n",
              "4   310-246-1501 steakhouses                0       0 \n",
              "5   818-762-1221 delis                      1       1 \n",
              "6   310-472-1211 californian                2       2 \n",
              "7   213-938-1447 californian                4       4 \n",
              "8   310-392-9025 pacific new wave           5       5 \n",
              "9   213-857-0034 californian                6       6 \n",
              "10  213-848-6677 french ( new )             7       7 \n",
              "11  310-456-0488 californian                8       8 \n",
              "12  310-276-0615 american ( traditional )   9       9 \n",
              "13  310-652-9770 french ( classic )        11      11 \n",
              "14  213-655-8880 french bistro             12      12 \n",
              "15  310-274-1893 italian                   13      13 \n",
              "16  310-659-9639 seafood                   14      14 \n",
              "17  310-550-8811 steakhouses               15      15 \n",
              "18  213-467-1108 californian               16      16 \n",
              "19  213-628-3781 cafeterias                17      17 \n",
              "20  818-990-0500 french bistro             18      18 \n",
              "21  213-627-2300 nuova cucina italian      19      19 \n",
              "22  310-652-4025 californian               20      20 \n",
              "23  310-829-4313 italian                   21      21 \n",
              "24  818-585-0855 chinese                   22      22 \n",
              "25  212-582-7200 american ( new )          23      23 \n",
              "26  212-307-7311 scandinavian              24      24 \n",
              "27  212-319-1660 american ( new )          25      25 \n",
              "28  212-496-6031 coffeehouses              26      26 \n",
              "29  212-877-3500 french ( classic )        27      27 \n",
              "30  212-362-2200 italian                   28      28 \n",
              "⋮   ⋮            ⋮                        ⋮       ⋮   \n",
              "703 NA           NA                       NA      503 \n",
              "704 NA           NA                       NA      504 \n",
              "705 NA           NA                       NA      505 \n",
              "706 NA           NA                       NA      506 \n",
              "707 NA           NA                       NA      507 \n",
              "708 NA           NA                       NA      508 \n",
              "709 NA           NA                       NA      509 \n",
              "710 NA           NA                       NA      510 \n",
              "711 NA           NA                       NA      511 \n",
              "712 NA           NA                       NA      512 \n",
              "713 NA           NA                       NA      513 \n",
              "714 NA           NA                       NA      514 \n",
              "715 NA           NA                       NA      515 \n",
              "716 NA           NA                       NA      516 \n",
              "717 NA           NA                       NA      517 \n",
              "718 NA           NA                       NA      518 \n",
              "719 NA           NA                       NA      519 \n",
              "720 NA           NA                       NA      520 \n",
              "721 NA           NA                       NA      521 \n",
              "722 NA           NA                       NA      522 \n",
              "723 NA           NA                       NA      523 \n",
              "724 NA           NA                       NA      524 \n",
              "725 NA           NA                       NA      525 \n",
              "726 NA           NA                       NA      526 \n",
              "727 NA           NA                       NA      527 \n",
              "728 NA           NA                       NA      528 \n",
              "729 NA           NA                       NA      529 \n",
              "730 NA           NA                       NA      530 \n",
              "731 NA           NA                       NA      531 \n",
              "732 NA           NA                       NA      532 \n",
              "    name.y                               \n",
              "1   teresa's                             \n",
              "2   binion's coffee shop                 \n",
              "3   lillie langtry's                     \n",
              "4   arnie morton's of chicago            \n",
              "5   art's delicatessen                   \n",
              "6   hotel bel-air                        \n",
              "7   campanile                            \n",
              "8   chinois on main                      \n",
              "9   citrus                               \n",
              "10  fenix                                \n",
              "11  granita                              \n",
              "12  grill on the alley                   \n",
              "13  l  ` orangerie                       \n",
              "14  le chardonnay                        \n",
              "15  locanda veneta                       \n",
              "16  matsuhisa                            \n",
              "17  the palm                             \n",
              "18  patina                               \n",
              "19  philippe's the original              \n",
              "20  pinot bistro                         \n",
              "21  rex il ristorante                    \n",
              "22  spago                                \n",
              "23  valentino                            \n",
              "24  yujean kang's gourmet chinese cuisine\n",
              "25  '21 club                             \n",
              "26  aquavit                              \n",
              "27  aureole                              \n",
              "28  cafe lalo                            \n",
              "29  cafe des artistes                    \n",
              "30  carmine's                            \n",
              "⋮   ⋮                                    \n",
              "703 palio d  ` asti                      \n",
              "704 pane e vino                          \n",
              "705 pastis                               \n",
              "706 perry's                              \n",
              "707 r & g lounge                         \n",
              "708 rubicon                              \n",
              "709 rumpus                               \n",
              "710 sanppo                               \n",
              "711 scala's bistro                       \n",
              "712 south park cafe                      \n",
              "713 splendido embarcadero                \n",
              "714 stars                                \n",
              "715 stars cafe                           \n",
              "716 stoyanof's cafe                      \n",
              "717 straits cafe                         \n",
              "718 suppenkuche                          \n",
              "719 tadich grill                         \n",
              "720 the heights                          \n",
              "721 thepin                               \n",
              "722 ton kiang                            \n",
              "723 vertigo                              \n",
              "724 vivande porta via                    \n",
              "725 vivande ristorante                   \n",
              "726 world wrapps                         \n",
              "727 wu kong                              \n",
              "728 yank sing                            \n",
              "729 yaya cuisine                         \n",
              "730 yoyo tsumami bistro                  \n",
              "731 zarzuela                             \n",
              "732 zuni cafe & grill                    \n",
              "    addr.y                                    city.y        phone.y          \n",
              "1   103 1st ave. between 6th and 7th sts .    new york      212-228-0604     \n",
              "2   128 fremont st.                           las vegas     702-382-1600     \n",
              "3   129 e. fremont st.                        las vegas     702-385-7111     \n",
              "4   435 s. la cienega blv .                   los angeles   310-246-1501     \n",
              "5   12224 ventura blvd.                       los angeles   818-762-1221     \n",
              "6   701 stone canyon rd.                      los angeles   310-472-1211     \n",
              "7   624 s. la brea ave.                       los angeles   213-938-1447     \n",
              "8   2709 main st.                             los angeles   310-392-9025     \n",
              "9   6703 melrose ave.                         los angeles   213-857-0034     \n",
              "10  8358 sunset blvd. west                    los angeles   213-848-6677     \n",
              "11  23725 w. malibu rd.                       los angeles   310-456-0488     \n",
              "12  9560 dayton way                           los angeles   310-276-0615     \n",
              "13  903 n. la cienega blvd.                   los angeles   310-652-9770     \n",
              "14  8284 melrose ave.                         los angeles   213-655-8880     \n",
              "15  3rd st.                                   los angeles   310-274-1893     \n",
              "16  129 n. la cienega blvd.                   los angeles   310-659-9639     \n",
              "17  9001 santa monica blvd.                   los angeles   310-550-8811     \n",
              "18  5955 melrose ave.                         los angeles   213-467-1108     \n",
              "19  1001 n. alameda st.                       los angeles   213-628-3781     \n",
              "20  12969 ventura blvd.                       los angeles   818-990-0500     \n",
              "21  617 s. olive st.                          los angeles   213-627-2300     \n",
              "22  1114 horn ave.                            los angeles   310-652-4025     \n",
              "23  3115 pico blvd.                           los angeles   310-829-4313     \n",
              "24  67 n. raymond ave.                        los angeles   818-585-0855     \n",
              "25  21 w. 52nd st.                            new york      212-582-7200     \n",
              "26  13 w. 54th st.                            new york      212-307-7311     \n",
              "27  34 e. 61st st.                            new york      ' 212- 319-1660 '\n",
              "28  201 w. 83rd st.                           new york      212-496-6031     \n",
              "29  1 w. 67th st.                             new york      212-877-3500     \n",
              "30  2450 broadway between 90th and 91st sts . new york      212-362-2200     \n",
              "⋮   ⋮                                         ⋮             ⋮                \n",
              "703 640 sacramento st.                        san francisco 415-395-9800     \n",
              "704 3011 steiner st.                          san francisco 415-346-2111     \n",
              "705 1015 battery st.                          san francisco 415-391-2555     \n",
              "706 1944 union st.                            san francisco 415-922-9022     \n",
              "707 631 b kearny st.                          san francisco 415-982-7877     \n",
              "708 558 sacramento st.                        san francisco 415-434-4100     \n",
              "709 1 tillman pl .                            san francisco 415-421-2300     \n",
              "710 1702 post st.                             san francisco 415-346-3486     \n",
              "711 432 powell st.                            san francisco 415-395-8555     \n",
              "712 108 south park                            san francisco 415-495-7275     \n",
              "713 4                                         san francisco 415-986-3222     \n",
              "714 150 redwood alley                         san francisco 415-861-7827     \n",
              "715 500 van ness ave.                         san francisco 415-861-4344     \n",
              "716 1240 9th ave.                             san francisco 415-664-3664     \n",
              "717 3300 geary blvd.                          san francisco 415-668-1783     \n",
              "718 601 hayes st.                             san francisco 415-252-9289     \n",
              "719 240 california st.                        san francisco 415-391-2373     \n",
              "720 3235 sacramento st.                       san francisco 415-474-8890     \n",
              "721 298 gough st.                             san francisco 415-863-9335     \n",
              "722 3148 geary blvd.                          san francisco 415-752-4440     \n",
              "723 600 montgomery st.                        san francisco 415-433-7250     \n",
              "724 2125 fillmore st.                         san francisco 415-346-4430     \n",
              "725 670 golden gate ave.                      san francisco 415-673-9245     \n",
              "726 2257 chestnut st.                         san francisco 415-563-9727     \n",
              "727 101 spear st.                             san francisco 415-957-9300     \n",
              "728 427 battery st.                           san francisco 415-541-4949     \n",
              "729 1220 9th ave.                             san francisco 415-566-6966     \n",
              "730 1611 post st.                             san francisco 415-922-7788     \n",
              "731 2000 hyde st.                             san francisco 415-346-0800     \n",
              "732 1658 market st.                           san francisco 415-552-2522     \n",
              "    type.y                         class.y\n",
              "1   east european                  358    \n",
              "2   coffee shops/diners            428    \n",
              "3   asian                          442    \n",
              "4   american                         0    \n",
              "5   american                         1    \n",
              "6   californian                      2    \n",
              "7   american                         4    \n",
              "8   french                           5    \n",
              "9   californian                      6    \n",
              "10  american                         7    \n",
              "11  californian                      8    \n",
              "12  american                         9    \n",
              "13  french                          11    \n",
              "14  french                          12    \n",
              "15  italian                         13    \n",
              "16  asian                           14    \n",
              "17  american                        15    \n",
              "18  californian                     16    \n",
              "19  american                        17    \n",
              "20  french                          18    \n",
              "21  italian                         19    \n",
              "22  californian                     20    \n",
              "23  italian                         21    \n",
              "24  asian                           22    \n",
              "25  american                        23    \n",
              "26  continental                     24    \n",
              "27  american                        25    \n",
              "28  coffee bar                      26    \n",
              "29  continental                     27    \n",
              "30  italian                         28    \n",
              "⋮   ⋮                              ⋮      \n",
              "703 italian                        503    \n",
              "704 italian                        504    \n",
              "705 french                         505    \n",
              "706 american                       506    \n",
              "707 asian                          507    \n",
              "708 american                       508    \n",
              "709 american                       509    \n",
              "710 asian                          510    \n",
              "711 italian                        511    \n",
              "712 french                         512    \n",
              "713 mediterranean                  513    \n",
              "714 american                       514    \n",
              "715 american                       515    \n",
              "716 greek and middle eastern       516    \n",
              "717 asian                          517    \n",
              "718 russian/german                 518    \n",
              "719 seafood                        519    \n",
              "720 french                         520    \n",
              "721 asian                          521    \n",
              "722 asian                          522    \n",
              "723 mediterranean                  523    \n",
              "724 italian                        524    \n",
              "725 italian                        525    \n",
              "726 american                       526    \n",
              "727 asian                          527    \n",
              "728 asian                          528    \n",
              "729 greek and middle eastern       529    \n",
              "730 french                         530    \n",
              "731 mexican/latin american/spanish 531    \n",
              "732 mediterranean                  532    "
            ],
            "text/latex": "A data.frame: 732 × 14\n\\begin{tabular}{llllllllllllll}\n id.x & name.x & addr.x & city.x & phone.x & type.x & class.x & id.y & name.y & addr.y & city.y & phone.y & type.y & class.y\\\\\n <int> & <chr> & <chr> & <fct> & <fct> & <chr> & <int> & <int> & <chr> & <chr> & <fct> & <chr> & <chr> & <int>\\\\\n\\hline\n\t 113 & teresa's                      & 80 montague st.         & new york    & 718-520-2910 & polish                   & 647 & 358 & teresa's                              & 103 1st ave. between 6th and 7th sts .    & new york    & 212-228-0604      & east european       & 358\\\\\n\t 137 & steakhouse the                & 128 e. fremont st.      & las vegas   & 702-382-1600 & steakhouses              & 671 & 428 & binion's coffee shop                  & 128 fremont st.                           & las vegas   & 702-382-1600      & coffee shops/diners & 428\\\\\n\t 138 & stefano's                     & 129 fremont st.         & las vegas   & 702-385-7111 & italian                  & 672 & 442 & lillie langtry's                      & 129 e. fremont st.                        & las vegas   & 702-385-7111      & asian               & 442\\\\\n\t 218 & arnie morton's of chicago     & 435 s. la cienega blvd. & los angeles & 310-246-1501 & steakhouses              &   0 &   0 & arnie morton's of chicago             & 435 s. la cienega blv .                   & los angeles & 310-246-1501      & american            &   0\\\\\n\t 219 & art's deli                    & 12224 ventura blvd.     & los angeles & 818-762-1221 & delis                    &   1 &   1 & art's delicatessen                    & 12224 ventura blvd.                       & los angeles & 818-762-1221      & american            &   1\\\\\n\t 220 & bel-air hotel                 & 701 stone canyon rd.    & los angeles & 310-472-1211 & californian              &   2 &   2 & hotel bel-air                         & 701 stone canyon rd.                      & los angeles & 310-472-1211      & californian         &   2\\\\\n\t 222 & campanile                     & 624 s. la brea ave.     & los angeles & 213-938-1447 & californian              &   4 &   4 & campanile                             & 624 s. la brea ave.                       & los angeles & 213-938-1447      & american            &   4\\\\\n\t 223 & chinois on main               & 2709 main st.           & los angeles & 310-392-9025 & pacific new wave         &   5 &   5 & chinois on main                       & 2709 main st.                             & los angeles & 310-392-9025      & french              &   5\\\\\n\t 224 & citrus                        & 6703 melrose ave.       & los angeles & 213-857-0034 & californian              &   6 &   6 & citrus                                & 6703 melrose ave.                         & los angeles & 213-857-0034      & californian         &   6\\\\\n\t 225 & fenix at the argyle           & 8358 sunset blvd.       & los angeles & 213-848-6677 & french ( new )           &   7 &   7 & fenix                                 & 8358 sunset blvd. west                    & los angeles & 213-848-6677      & american            &   7\\\\\n\t 226 & granita                       & 23725 w. malibu rd.     & los angeles & 310-456-0488 & californian              &   8 &   8 & granita                               & 23725 w. malibu rd.                       & los angeles & 310-456-0488      & californian         &   8\\\\\n\t 227 & grill the                     & 9560 dayton way         & los angeles & 310-276-0615 & american ( traditional ) &   9 &   9 & grill on the alley                    & 9560 dayton way                           & los angeles & 310-276-0615      & american            &   9\\\\\n\t 229 & l  ` orangerie                & 903 n. la cienega blvd. & los angeles & 310-652-9770 & french ( classic )       &  11 &  11 & l  ` orangerie                        & 903 n. la cienega blvd.                   & los angeles & 310-652-9770      & french              &  11\\\\\n\t 230 & le chardonnay ( los angeles ) & 8284 melrose ave.       & los angeles & 213-655-8880 & french bistro            &  12 &  12 & le chardonnay                         & 8284 melrose ave.                         & los angeles & 213-655-8880      & french              &  12\\\\\n\t 231 & locanda veneta                & 8638 w. third st.       & los angeles & 310-274-1893 & italian                  &  13 &  13 & locanda veneta                        & 3rd st.                                   & los angeles & 310-274-1893      & italian             &  13\\\\\n\t 232 & matsuhisa                     & 129 n. la cienega blvd. & los angeles & 310-659-9639 & seafood                  &  14 &  14 & matsuhisa                             & 129 n. la cienega blvd.                   & los angeles & 310-659-9639      & asian               &  14\\\\\n\t 233 & palm the ( los angeles )      & 9001 santa monica blvd. & los angeles & 310-550-8811 & steakhouses              &  15 &  15 & the palm                              & 9001 santa monica blvd.                   & los angeles & 310-550-8811      & american            &  15\\\\\n\t 234 & patina                        & 5955 melrose ave.       & los angeles & 213-467-1108 & californian              &  16 &  16 & patina                                & 5955 melrose ave.                         & los angeles & 213-467-1108      & californian         &  16\\\\\n\t 235 & philippe the original         & 1001 n. alameda st.     & los angeles & 213-628-3781 & cafeterias               &  17 &  17 & philippe's the original               & 1001 n. alameda st.                       & los angeles & 213-628-3781      & american            &  17\\\\\n\t 236 & pinot bistro                  & 12969 ventura blvd.     & los angeles & 818-990-0500 & french bistro            &  18 &  18 & pinot bistro                          & 12969 ventura blvd.                       & los angeles & 818-990-0500      & french              &  18\\\\\n\t 237 & rex il ristorante             & 617 s. olive st.        & los angeles & 213-627-2300 & nuova cucina italian     &  19 &  19 & rex il ristorante                     & 617 s. olive st.                          & los angeles & 213-627-2300      & italian             &  19\\\\\n\t 238 & spago ( los angeles )         & 8795 sunset blvd.       & los angeles & 310-652-4025 & californian              &  20 &  20 & spago                                 & 1114 horn ave.                            & los angeles & 310-652-4025      & californian         &  20\\\\\n\t 239 & valentino                     & 3115 pico blvd.         & los angeles & 310-829-4313 & italian                  &  21 &  21 & valentino                             & 3115 pico blvd.                           & los angeles & 310-829-4313      & italian             &  21\\\\\n\t 240 & yujean kang's                 & 67 n. raymond ave.      & los angeles & 818-585-0855 & chinese                  &  22 &  22 & yujean kang's gourmet chinese cuisine & 67 n. raymond ave.                        & los angeles & 818-585-0855      & asian               &  22\\\\\n\t 241 & '21 club                      & 21 w. 52nd st.          & new york    & 212-582-7200 & american ( new )         &  23 &  23 & '21 club                              & 21 w. 52nd st.                            & new york    & 212-582-7200      & american            &  23\\\\\n\t 242 & aquavit                       & 13 w. 54th st.          & new york    & 212-307-7311 & scandinavian             &  24 &  24 & aquavit                               & 13 w. 54th st.                            & new york    & 212-307-7311      & continental         &  24\\\\\n\t 243 & aureole                       & 34 e. 61st st.          & new york    & 212-319-1660 & american ( new )         &  25 &  25 & aureole                               & 34 e. 61st st.                            & new york    & ' 212- 319-1660 ' & american            &  25\\\\\n\t 244 & cafe lalo                     & 201 w. 83rd st.         & new york    & 212-496-6031 & coffeehouses             &  26 &  26 & cafe lalo                             & 201 w. 83rd st.                           & new york    & 212-496-6031      & coffee bar          &  26\\\\\n\t 245 & cafe des artistes             & 1 w. 67th st.           & new york    & 212-877-3500 & french ( classic )       &  27 &  27 & cafe des artistes                     & 1 w. 67th st.                             & new york    & 212-877-3500      & continental         &  27\\\\\n\t 246 & carmine's                     & 2450 broadway           & new york    & 212-362-2200 & italian                  &  28 &  28 & carmine's                             & 2450 broadway between 90th and 91st sts . & new york    & 212-362-2200      & italian             &  28\\\\\n\t ⋮ & ⋮ & ⋮ & ⋮ & ⋮ & ⋮ & ⋮ & ⋮ & ⋮ & ⋮ & ⋮ & ⋮ & ⋮ & ⋮\\\\\n\t NA & NA & NA & NA & NA & NA & NA & 503 & palio d  ` asti       & 640 sacramento st.   & san francisco & 415-395-9800 & italian                        & 503\\\\\n\t NA & NA & NA & NA & NA & NA & NA & 504 & pane e vino           & 3011 steiner st.     & san francisco & 415-346-2111 & italian                        & 504\\\\\n\t NA & NA & NA & NA & NA & NA & NA & 505 & pastis                & 1015 battery st.     & san francisco & 415-391-2555 & french                         & 505\\\\\n\t NA & NA & NA & NA & NA & NA & NA & 506 & perry's               & 1944 union st.       & san francisco & 415-922-9022 & american                       & 506\\\\\n\t NA & NA & NA & NA & NA & NA & NA & 507 & r \\& g lounge          & 631 b kearny st.     & san francisco & 415-982-7877 & asian                          & 507\\\\\n\t NA & NA & NA & NA & NA & NA & NA & 508 & rubicon               & 558 sacramento st.   & san francisco & 415-434-4100 & american                       & 508\\\\\n\t NA & NA & NA & NA & NA & NA & NA & 509 & rumpus                & 1 tillman pl .       & san francisco & 415-421-2300 & american                       & 509\\\\\n\t NA & NA & NA & NA & NA & NA & NA & 510 & sanppo                & 1702 post st.        & san francisco & 415-346-3486 & asian                          & 510\\\\\n\t NA & NA & NA & NA & NA & NA & NA & 511 & scala's bistro        & 432 powell st.       & san francisco & 415-395-8555 & italian                        & 511\\\\\n\t NA & NA & NA & NA & NA & NA & NA & 512 & south park cafe       & 108 south park       & san francisco & 415-495-7275 & french                         & 512\\\\\n\t NA & NA & NA & NA & NA & NA & NA & 513 & splendido embarcadero & 4                    & san francisco & 415-986-3222 & mediterranean                  & 513\\\\\n\t NA & NA & NA & NA & NA & NA & NA & 514 & stars                 & 150 redwood alley    & san francisco & 415-861-7827 & american                       & 514\\\\\n\t NA & NA & NA & NA & NA & NA & NA & 515 & stars cafe            & 500 van ness ave.    & san francisco & 415-861-4344 & american                       & 515\\\\\n\t NA & NA & NA & NA & NA & NA & NA & 516 & stoyanof's cafe       & 1240 9th ave.        & san francisco & 415-664-3664 & greek and middle eastern       & 516\\\\\n\t NA & NA & NA & NA & NA & NA & NA & 517 & straits cafe          & 3300 geary blvd.     & san francisco & 415-668-1783 & asian                          & 517\\\\\n\t NA & NA & NA & NA & NA & NA & NA & 518 & suppenkuche           & 601 hayes st.        & san francisco & 415-252-9289 & russian/german                 & 518\\\\\n\t NA & NA & NA & NA & NA & NA & NA & 519 & tadich grill          & 240 california st.   & san francisco & 415-391-2373 & seafood                        & 519\\\\\n\t NA & NA & NA & NA & NA & NA & NA & 520 & the heights           & 3235 sacramento st.  & san francisco & 415-474-8890 & french                         & 520\\\\\n\t NA & NA & NA & NA & NA & NA & NA & 521 & thepin                & 298 gough st.        & san francisco & 415-863-9335 & asian                          & 521\\\\\n\t NA & NA & NA & NA & NA & NA & NA & 522 & ton kiang             & 3148 geary blvd.     & san francisco & 415-752-4440 & asian                          & 522\\\\\n\t NA & NA & NA & NA & NA & NA & NA & 523 & vertigo               & 600 montgomery st.   & san francisco & 415-433-7250 & mediterranean                  & 523\\\\\n\t NA & NA & NA & NA & NA & NA & NA & 524 & vivande porta via     & 2125 fillmore st.    & san francisco & 415-346-4430 & italian                        & 524\\\\\n\t NA & NA & NA & NA & NA & NA & NA & 525 & vivande ristorante    & 670 golden gate ave. & san francisco & 415-673-9245 & italian                        & 525\\\\\n\t NA & NA & NA & NA & NA & NA & NA & 526 & world wrapps          & 2257 chestnut st.    & san francisco & 415-563-9727 & american                       & 526\\\\\n\t NA & NA & NA & NA & NA & NA & NA & 527 & wu kong               & 101 spear st.        & san francisco & 415-957-9300 & asian                          & 527\\\\\n\t NA & NA & NA & NA & NA & NA & NA & 528 & yank sing             & 427 battery st.      & san francisco & 415-541-4949 & asian                          & 528\\\\\n\t NA & NA & NA & NA & NA & NA & NA & 529 & yaya cuisine          & 1220 9th ave.        & san francisco & 415-566-6966 & greek and middle eastern       & 529\\\\\n\t NA & NA & NA & NA & NA & NA & NA & 530 & yoyo tsumami bistro   & 1611 post st.        & san francisco & 415-922-7788 & french                         & 530\\\\\n\t NA & NA & NA & NA & NA & NA & NA & 531 & zarzuela              & 2000 hyde st.        & san francisco & 415-346-0800 & mexican/latin american/spanish & 531\\\\\n\t NA & NA & NA & NA & NA & NA & NA & 532 & zuni cafe \\& grill     & 1658 market st.      & san francisco & 415-552-2522 & mediterranean                  & 532\\\\\n\\end{tabular}\n",
            "text/markdown": "\nA data.frame: 732 × 14\n\n| id.x &lt;int&gt; | name.x &lt;chr&gt; | addr.x &lt;chr&gt; | city.x &lt;fct&gt; | phone.x &lt;fct&gt; | type.x &lt;chr&gt; | class.x &lt;int&gt; | id.y &lt;int&gt; | name.y &lt;chr&gt; | addr.y &lt;chr&gt; | city.y &lt;fct&gt; | phone.y &lt;chr&gt; | type.y &lt;chr&gt; | class.y &lt;int&gt; |\n|---|---|---|---|---|---|---|---|---|---|---|---|---|---|\n| 113 | teresa's                      | 80 montague st.         | new york    | 718-520-2910 | polish                   | 647 | 358 | teresa's                              | 103 1st ave. between 6th and 7th sts .    | new york    | 212-228-0604      | east european       | 358 |\n| 137 | steakhouse the                | 128 e. fremont st.      | las vegas   | 702-382-1600 | steakhouses              | 671 | 428 | binion's coffee shop                  | 128 fremont st.                           | las vegas   | 702-382-1600      | coffee shops/diners | 428 |\n| 138 | stefano's                     | 129 fremont st.         | las vegas   | 702-385-7111 | italian                  | 672 | 442 | lillie langtry's                      | 129 e. fremont st.                        | las vegas   | 702-385-7111      | asian               | 442 |\n| 218 | arnie morton's of chicago     | 435 s. la cienega blvd. | los angeles | 310-246-1501 | steakhouses              |   0 |   0 | arnie morton's of chicago             | 435 s. la cienega blv .                   | los angeles | 310-246-1501      | american            |   0 |\n| 219 | art's deli                    | 12224 ventura blvd.     | los angeles | 818-762-1221 | delis                    |   1 |   1 | art's delicatessen                    | 12224 ventura blvd.                       | los angeles | 818-762-1221      | american            |   1 |\n| 220 | bel-air hotel                 | 701 stone canyon rd.    | los angeles | 310-472-1211 | californian              |   2 |   2 | hotel bel-air                         | 701 stone canyon rd.                      | los angeles | 310-472-1211      | californian         |   2 |\n| 222 | campanile                     | 624 s. la brea ave.     | los angeles | 213-938-1447 | californian              |   4 |   4 | campanile                             | 624 s. la brea ave.                       | los angeles | 213-938-1447      | american            |   4 |\n| 223 | chinois on main               | 2709 main st.           | los angeles | 310-392-9025 | pacific new wave         |   5 |   5 | chinois on main                       | 2709 main st.                             | los angeles | 310-392-9025      | french              |   5 |\n| 224 | citrus                        | 6703 melrose ave.       | los angeles | 213-857-0034 | californian              |   6 |   6 | citrus                                | 6703 melrose ave.                         | los angeles | 213-857-0034      | californian         |   6 |\n| 225 | fenix at the argyle           | 8358 sunset blvd.       | los angeles | 213-848-6677 | french ( new )           |   7 |   7 | fenix                                 | 8358 sunset blvd. west                    | los angeles | 213-848-6677      | american            |   7 |\n| 226 | granita                       | 23725 w. malibu rd.     | los angeles | 310-456-0488 | californian              |   8 |   8 | granita                               | 23725 w. malibu rd.                       | los angeles | 310-456-0488      | californian         |   8 |\n| 227 | grill the                     | 9560 dayton way         | los angeles | 310-276-0615 | american ( traditional ) |   9 |   9 | grill on the alley                    | 9560 dayton way                           | los angeles | 310-276-0615      | american            |   9 |\n| 229 | l  ` orangerie                | 903 n. la cienega blvd. | los angeles | 310-652-9770 | french ( classic )       |  11 |  11 | l  ` orangerie                        | 903 n. la cienega blvd.                   | los angeles | 310-652-9770      | french              |  11 |\n| 230 | le chardonnay ( los angeles ) | 8284 melrose ave.       | los angeles | 213-655-8880 | french bistro            |  12 |  12 | le chardonnay                         | 8284 melrose ave.                         | los angeles | 213-655-8880      | french              |  12 |\n| 231 | locanda veneta                | 8638 w. third st.       | los angeles | 310-274-1893 | italian                  |  13 |  13 | locanda veneta                        | 3rd st.                                   | los angeles | 310-274-1893      | italian             |  13 |\n| 232 | matsuhisa                     | 129 n. la cienega blvd. | los angeles | 310-659-9639 | seafood                  |  14 |  14 | matsuhisa                             | 129 n. la cienega blvd.                   | los angeles | 310-659-9639      | asian               |  14 |\n| 233 | palm the ( los angeles )      | 9001 santa monica blvd. | los angeles | 310-550-8811 | steakhouses              |  15 |  15 | the palm                              | 9001 santa monica blvd.                   | los angeles | 310-550-8811      | american            |  15 |\n| 234 | patina                        | 5955 melrose ave.       | los angeles | 213-467-1108 | californian              |  16 |  16 | patina                                | 5955 melrose ave.                         | los angeles | 213-467-1108      | californian         |  16 |\n| 235 | philippe the original         | 1001 n. alameda st.     | los angeles | 213-628-3781 | cafeterias               |  17 |  17 | philippe's the original               | 1001 n. alameda st.                       | los angeles | 213-628-3781      | american            |  17 |\n| 236 | pinot bistro                  | 12969 ventura blvd.     | los angeles | 818-990-0500 | french bistro            |  18 |  18 | pinot bistro                          | 12969 ventura blvd.                       | los angeles | 818-990-0500      | french              |  18 |\n| 237 | rex il ristorante             | 617 s. olive st.        | los angeles | 213-627-2300 | nuova cucina italian     |  19 |  19 | rex il ristorante                     | 617 s. olive st.                          | los angeles | 213-627-2300      | italian             |  19 |\n| 238 | spago ( los angeles )         | 8795 sunset blvd.       | los angeles | 310-652-4025 | californian              |  20 |  20 | spago                                 | 1114 horn ave.                            | los angeles | 310-652-4025      | californian         |  20 |\n| 239 | valentino                     | 3115 pico blvd.         | los angeles | 310-829-4313 | italian                  |  21 |  21 | valentino                             | 3115 pico blvd.                           | los angeles | 310-829-4313      | italian             |  21 |\n| 240 | yujean kang's                 | 67 n. raymond ave.      | los angeles | 818-585-0855 | chinese                  |  22 |  22 | yujean kang's gourmet chinese cuisine | 67 n. raymond ave.                        | los angeles | 818-585-0855      | asian               |  22 |\n| 241 | '21 club                      | 21 w. 52nd st.          | new york    | 212-582-7200 | american ( new )         |  23 |  23 | '21 club                              | 21 w. 52nd st.                            | new york    | 212-582-7200      | american            |  23 |\n| 242 | aquavit                       | 13 w. 54th st.          | new york    | 212-307-7311 | scandinavian             |  24 |  24 | aquavit                               | 13 w. 54th st.                            | new york    | 212-307-7311      | continental         |  24 |\n| 243 | aureole                       | 34 e. 61st st.          | new york    | 212-319-1660 | american ( new )         |  25 |  25 | aureole                               | 34 e. 61st st.                            | new york    | ' 212- 319-1660 ' | american            |  25 |\n| 244 | cafe lalo                     | 201 w. 83rd st.         | new york    | 212-496-6031 | coffeehouses             |  26 |  26 | cafe lalo                             | 201 w. 83rd st.                           | new york    | 212-496-6031      | coffee bar          |  26 |\n| 245 | cafe des artistes             | 1 w. 67th st.           | new york    | 212-877-3500 | french ( classic )       |  27 |  27 | cafe des artistes                     | 1 w. 67th st.                             | new york    | 212-877-3500      | continental         |  27 |\n| 246 | carmine's                     | 2450 broadway           | new york    | 212-362-2200 | italian                  |  28 |  28 | carmine's                             | 2450 broadway between 90th and 91st sts . | new york    | 212-362-2200      | italian             |  28 |\n| ⋮ | ⋮ | ⋮ | ⋮ | ⋮ | ⋮ | ⋮ | ⋮ | ⋮ | ⋮ | ⋮ | ⋮ | ⋮ | ⋮ |\n| NA | NA | NA | NA | NA | NA | NA | 503 | palio d  ` asti       | 640 sacramento st.   | san francisco | 415-395-9800 | italian                        | 503 |\n| NA | NA | NA | NA | NA | NA | NA | 504 | pane e vino           | 3011 steiner st.     | san francisco | 415-346-2111 | italian                        | 504 |\n| NA | NA | NA | NA | NA | NA | NA | 505 | pastis                | 1015 battery st.     | san francisco | 415-391-2555 | french                         | 505 |\n| NA | NA | NA | NA | NA | NA | NA | 506 | perry's               | 1944 union st.       | san francisco | 415-922-9022 | american                       | 506 |\n| NA | NA | NA | NA | NA | NA | NA | 507 | r &amp; g lounge          | 631 b kearny st.     | san francisco | 415-982-7877 | asian                          | 507 |\n| NA | NA | NA | NA | NA | NA | NA | 508 | rubicon               | 558 sacramento st.   | san francisco | 415-434-4100 | american                       | 508 |\n| NA | NA | NA | NA | NA | NA | NA | 509 | rumpus                | 1 tillman pl .       | san francisco | 415-421-2300 | american                       | 509 |\n| NA | NA | NA | NA | NA | NA | NA | 510 | sanppo                | 1702 post st.        | san francisco | 415-346-3486 | asian                          | 510 |\n| NA | NA | NA | NA | NA | NA | NA | 511 | scala's bistro        | 432 powell st.       | san francisco | 415-395-8555 | italian                        | 511 |\n| NA | NA | NA | NA | NA | NA | NA | 512 | south park cafe       | 108 south park       | san francisco | 415-495-7275 | french                         | 512 |\n| NA | NA | NA | NA | NA | NA | NA | 513 | splendido embarcadero | 4                    | san francisco | 415-986-3222 | mediterranean                  | 513 |\n| NA | NA | NA | NA | NA | NA | NA | 514 | stars                 | 150 redwood alley    | san francisco | 415-861-7827 | american                       | 514 |\n| NA | NA | NA | NA | NA | NA | NA | 515 | stars cafe            | 500 van ness ave.    | san francisco | 415-861-4344 | american                       | 515 |\n| NA | NA | NA | NA | NA | NA | NA | 516 | stoyanof's cafe       | 1240 9th ave.        | san francisco | 415-664-3664 | greek and middle eastern       | 516 |\n| NA | NA | NA | NA | NA | NA | NA | 517 | straits cafe          | 3300 geary blvd.     | san francisco | 415-668-1783 | asian                          | 517 |\n| NA | NA | NA | NA | NA | NA | NA | 518 | suppenkuche           | 601 hayes st.        | san francisco | 415-252-9289 | russian/german                 | 518 |\n| NA | NA | NA | NA | NA | NA | NA | 519 | tadich grill          | 240 california st.   | san francisco | 415-391-2373 | seafood                        | 519 |\n| NA | NA | NA | NA | NA | NA | NA | 520 | the heights           | 3235 sacramento st.  | san francisco | 415-474-8890 | french                         | 520 |\n| NA | NA | NA | NA | NA | NA | NA | 521 | thepin                | 298 gough st.        | san francisco | 415-863-9335 | asian                          | 521 |\n| NA | NA | NA | NA | NA | NA | NA | 522 | ton kiang             | 3148 geary blvd.     | san francisco | 415-752-4440 | asian                          | 522 |\n| NA | NA | NA | NA | NA | NA | NA | 523 | vertigo               | 600 montgomery st.   | san francisco | 415-433-7250 | mediterranean                  | 523 |\n| NA | NA | NA | NA | NA | NA | NA | 524 | vivande porta via     | 2125 fillmore st.    | san francisco | 415-346-4430 | italian                        | 524 |\n| NA | NA | NA | NA | NA | NA | NA | 525 | vivande ristorante    | 670 golden gate ave. | san francisco | 415-673-9245 | italian                        | 525 |\n| NA | NA | NA | NA | NA | NA | NA | 526 | world wrapps          | 2257 chestnut st.    | san francisco | 415-563-9727 | american                       | 526 |\n| NA | NA | NA | NA | NA | NA | NA | 527 | wu kong               | 101 spear st.        | san francisco | 415-957-9300 | asian                          | 527 |\n| NA | NA | NA | NA | NA | NA | NA | 528 | yank sing             | 427 battery st.      | san francisco | 415-541-4949 | asian                          | 528 |\n| NA | NA | NA | NA | NA | NA | NA | 529 | yaya cuisine          | 1220 9th ave.        | san francisco | 415-566-6966 | greek and middle eastern       | 529 |\n| NA | NA | NA | NA | NA | NA | NA | 530 | yoyo tsumami bistro   | 1611 post st.        | san francisco | 415-922-7788 | french                         | 530 |\n| NA | NA | NA | NA | NA | NA | NA | 531 | zarzuela              | 2000 hyde st.        | san francisco | 415-346-0800 | mexican/latin american/spanish | 531 |\n| NA | NA | NA | NA | NA | NA | NA | 532 | zuni cafe &amp; grill     | 1658 market st.      | san francisco | 415-552-2522 | mediterranean                  | 532 |\n\n",
            "text/html": [
              "<table class=\"dataframe\">\n",
              "<caption>A data.frame: 732 × 14</caption>\n",
              "<thead>\n",
              "\t<tr><th scope=col>id.x</th><th scope=col>name.x</th><th scope=col>addr.x</th><th scope=col>city.x</th><th scope=col>phone.x</th><th scope=col>type.x</th><th scope=col>class.x</th><th scope=col>id.y</th><th scope=col>name.y</th><th scope=col>addr.y</th><th scope=col>city.y</th><th scope=col>phone.y</th><th scope=col>type.y</th><th scope=col>class.y</th></tr>\n",
              "\t<tr><th scope=col>&lt;int&gt;</th><th scope=col>&lt;chr&gt;</th><th scope=col>&lt;chr&gt;</th><th scope=col>&lt;fct&gt;</th><th scope=col>&lt;fct&gt;</th><th scope=col>&lt;chr&gt;</th><th scope=col>&lt;int&gt;</th><th scope=col>&lt;int&gt;</th><th scope=col>&lt;chr&gt;</th><th scope=col>&lt;chr&gt;</th><th scope=col>&lt;fct&gt;</th><th scope=col>&lt;chr&gt;</th><th scope=col>&lt;chr&gt;</th><th scope=col>&lt;int&gt;</th></tr>\n",
              "</thead>\n",
              "<tbody>\n",
              "\t<tr><td>113</td><td>teresa's                     </td><td>80 montague st.        </td><td>new york   </td><td>718-520-2910</td><td>polish                  </td><td>647</td><td>358</td><td>teresa's                             </td><td>103 1st ave. between 6th and 7th sts .   </td><td>new york   </td><td>212-228-0604     </td><td>east european      </td><td>358</td></tr>\n",
              "\t<tr><td>137</td><td>steakhouse the               </td><td>128 e. fremont st.     </td><td>las vegas  </td><td>702-382-1600</td><td>steakhouses             </td><td>671</td><td>428</td><td>binion's coffee shop                 </td><td>128 fremont st.                          </td><td>las vegas  </td><td>702-382-1600     </td><td>coffee shops/diners</td><td>428</td></tr>\n",
              "\t<tr><td>138</td><td>stefano's                    </td><td>129 fremont st.        </td><td>las vegas  </td><td>702-385-7111</td><td>italian                 </td><td>672</td><td>442</td><td>lillie langtry's                     </td><td>129 e. fremont st.                       </td><td>las vegas  </td><td>702-385-7111     </td><td>asian              </td><td>442</td></tr>\n",
              "\t<tr><td>218</td><td>arnie morton's of chicago    </td><td>435 s. la cienega blvd.</td><td>los angeles</td><td>310-246-1501</td><td>steakhouses             </td><td>  0</td><td>  0</td><td>arnie morton's of chicago            </td><td>435 s. la cienega blv .                  </td><td>los angeles</td><td>310-246-1501     </td><td>american           </td><td>  0</td></tr>\n",
              "\t<tr><td>219</td><td>art's deli                   </td><td>12224 ventura blvd.    </td><td>los angeles</td><td>818-762-1221</td><td>delis                   </td><td>  1</td><td>  1</td><td>art's delicatessen                   </td><td>12224 ventura blvd.                      </td><td>los angeles</td><td>818-762-1221     </td><td>american           </td><td>  1</td></tr>\n",
              "\t<tr><td>220</td><td>bel-air hotel                </td><td>701 stone canyon rd.   </td><td>los angeles</td><td>310-472-1211</td><td>californian             </td><td>  2</td><td>  2</td><td>hotel bel-air                        </td><td>701 stone canyon rd.                     </td><td>los angeles</td><td>310-472-1211     </td><td>californian        </td><td>  2</td></tr>\n",
              "\t<tr><td>222</td><td>campanile                    </td><td>624 s. la brea ave.    </td><td>los angeles</td><td>213-938-1447</td><td>californian             </td><td>  4</td><td>  4</td><td>campanile                            </td><td>624 s. la brea ave.                      </td><td>los angeles</td><td>213-938-1447     </td><td>american           </td><td>  4</td></tr>\n",
              "\t<tr><td>223</td><td>chinois on main              </td><td>2709 main st.          </td><td>los angeles</td><td>310-392-9025</td><td>pacific new wave        </td><td>  5</td><td>  5</td><td>chinois on main                      </td><td>2709 main st.                            </td><td>los angeles</td><td>310-392-9025     </td><td>french             </td><td>  5</td></tr>\n",
              "\t<tr><td>224</td><td>citrus                       </td><td>6703 melrose ave.      </td><td>los angeles</td><td>213-857-0034</td><td>californian             </td><td>  6</td><td>  6</td><td>citrus                               </td><td>6703 melrose ave.                        </td><td>los angeles</td><td>213-857-0034     </td><td>californian        </td><td>  6</td></tr>\n",
              "\t<tr><td>225</td><td>fenix at the argyle          </td><td>8358 sunset blvd.      </td><td>los angeles</td><td>213-848-6677</td><td>french ( new )          </td><td>  7</td><td>  7</td><td>fenix                                </td><td>8358 sunset blvd. west                   </td><td>los angeles</td><td>213-848-6677     </td><td>american           </td><td>  7</td></tr>\n",
              "\t<tr><td>226</td><td>granita                      </td><td>23725 w. malibu rd.    </td><td>los angeles</td><td>310-456-0488</td><td>californian             </td><td>  8</td><td>  8</td><td>granita                              </td><td>23725 w. malibu rd.                      </td><td>los angeles</td><td>310-456-0488     </td><td>californian        </td><td>  8</td></tr>\n",
              "\t<tr><td>227</td><td>grill the                    </td><td>9560 dayton way        </td><td>los angeles</td><td>310-276-0615</td><td>american ( traditional )</td><td>  9</td><td>  9</td><td>grill on the alley                   </td><td>9560 dayton way                          </td><td>los angeles</td><td>310-276-0615     </td><td>american           </td><td>  9</td></tr>\n",
              "\t<tr><td>229</td><td>l  ` orangerie               </td><td>903 n. la cienega blvd.</td><td>los angeles</td><td>310-652-9770</td><td>french ( classic )      </td><td> 11</td><td> 11</td><td>l  ` orangerie                       </td><td>903 n. la cienega blvd.                  </td><td>los angeles</td><td>310-652-9770     </td><td>french             </td><td> 11</td></tr>\n",
              "\t<tr><td>230</td><td>le chardonnay ( los angeles )</td><td>8284 melrose ave.      </td><td>los angeles</td><td>213-655-8880</td><td>french bistro           </td><td> 12</td><td> 12</td><td>le chardonnay                        </td><td>8284 melrose ave.                        </td><td>los angeles</td><td>213-655-8880     </td><td>french             </td><td> 12</td></tr>\n",
              "\t<tr><td>231</td><td>locanda veneta               </td><td>8638 w. third st.      </td><td>los angeles</td><td>310-274-1893</td><td>italian                 </td><td> 13</td><td> 13</td><td>locanda veneta                       </td><td>3rd st.                                  </td><td>los angeles</td><td>310-274-1893     </td><td>italian            </td><td> 13</td></tr>\n",
              "\t<tr><td>232</td><td>matsuhisa                    </td><td>129 n. la cienega blvd.</td><td>los angeles</td><td>310-659-9639</td><td>seafood                 </td><td> 14</td><td> 14</td><td>matsuhisa                            </td><td>129 n. la cienega blvd.                  </td><td>los angeles</td><td>310-659-9639     </td><td>asian              </td><td> 14</td></tr>\n",
              "\t<tr><td>233</td><td>palm the ( los angeles )     </td><td>9001 santa monica blvd.</td><td>los angeles</td><td>310-550-8811</td><td>steakhouses             </td><td> 15</td><td> 15</td><td>the palm                             </td><td>9001 santa monica blvd.                  </td><td>los angeles</td><td>310-550-8811     </td><td>american           </td><td> 15</td></tr>\n",
              "\t<tr><td>234</td><td>patina                       </td><td>5955 melrose ave.      </td><td>los angeles</td><td>213-467-1108</td><td>californian             </td><td> 16</td><td> 16</td><td>patina                               </td><td>5955 melrose ave.                        </td><td>los angeles</td><td>213-467-1108     </td><td>californian        </td><td> 16</td></tr>\n",
              "\t<tr><td>235</td><td>philippe the original        </td><td>1001 n. alameda st.    </td><td>los angeles</td><td>213-628-3781</td><td>cafeterias              </td><td> 17</td><td> 17</td><td>philippe's the original              </td><td>1001 n. alameda st.                      </td><td>los angeles</td><td>213-628-3781     </td><td>american           </td><td> 17</td></tr>\n",
              "\t<tr><td>236</td><td>pinot bistro                 </td><td>12969 ventura blvd.    </td><td>los angeles</td><td>818-990-0500</td><td>french bistro           </td><td> 18</td><td> 18</td><td>pinot bistro                         </td><td>12969 ventura blvd.                      </td><td>los angeles</td><td>818-990-0500     </td><td>french             </td><td> 18</td></tr>\n",
              "\t<tr><td>237</td><td>rex il ristorante            </td><td>617 s. olive st.       </td><td>los angeles</td><td>213-627-2300</td><td>nuova cucina italian    </td><td> 19</td><td> 19</td><td>rex il ristorante                    </td><td>617 s. olive st.                         </td><td>los angeles</td><td>213-627-2300     </td><td>italian            </td><td> 19</td></tr>\n",
              "\t<tr><td>238</td><td>spago ( los angeles )        </td><td>8795 sunset blvd.      </td><td>los angeles</td><td>310-652-4025</td><td>californian             </td><td> 20</td><td> 20</td><td>spago                                </td><td>1114 horn ave.                           </td><td>los angeles</td><td>310-652-4025     </td><td>californian        </td><td> 20</td></tr>\n",
              "\t<tr><td>239</td><td>valentino                    </td><td>3115 pico blvd.        </td><td>los angeles</td><td>310-829-4313</td><td>italian                 </td><td> 21</td><td> 21</td><td>valentino                            </td><td>3115 pico blvd.                          </td><td>los angeles</td><td>310-829-4313     </td><td>italian            </td><td> 21</td></tr>\n",
              "\t<tr><td>240</td><td>yujean kang's                </td><td>67 n. raymond ave.     </td><td>los angeles</td><td>818-585-0855</td><td>chinese                 </td><td> 22</td><td> 22</td><td>yujean kang's gourmet chinese cuisine</td><td>67 n. raymond ave.                       </td><td>los angeles</td><td>818-585-0855     </td><td>asian              </td><td> 22</td></tr>\n",
              "\t<tr><td>241</td><td>'21 club                     </td><td>21 w. 52nd st.         </td><td>new york   </td><td>212-582-7200</td><td>american ( new )        </td><td> 23</td><td> 23</td><td>'21 club                             </td><td>21 w. 52nd st.                           </td><td>new york   </td><td>212-582-7200     </td><td>american           </td><td> 23</td></tr>\n",
              "\t<tr><td>242</td><td>aquavit                      </td><td>13 w. 54th st.         </td><td>new york   </td><td>212-307-7311</td><td>scandinavian            </td><td> 24</td><td> 24</td><td>aquavit                              </td><td>13 w. 54th st.                           </td><td>new york   </td><td>212-307-7311     </td><td>continental        </td><td> 24</td></tr>\n",
              "\t<tr><td>243</td><td>aureole                      </td><td>34 e. 61st st.         </td><td>new york   </td><td>212-319-1660</td><td>american ( new )        </td><td> 25</td><td> 25</td><td>aureole                              </td><td>34 e. 61st st.                           </td><td>new york   </td><td>' 212- 319-1660 '</td><td>american           </td><td> 25</td></tr>\n",
              "\t<tr><td>244</td><td>cafe lalo                    </td><td>201 w. 83rd st.        </td><td>new york   </td><td>212-496-6031</td><td>coffeehouses            </td><td> 26</td><td> 26</td><td>cafe lalo                            </td><td>201 w. 83rd st.                          </td><td>new york   </td><td>212-496-6031     </td><td>coffee bar         </td><td> 26</td></tr>\n",
              "\t<tr><td>245</td><td>cafe des artistes            </td><td>1 w. 67th st.          </td><td>new york   </td><td>212-877-3500</td><td>french ( classic )      </td><td> 27</td><td> 27</td><td>cafe des artistes                    </td><td>1 w. 67th st.                            </td><td>new york   </td><td>212-877-3500     </td><td>continental        </td><td> 27</td></tr>\n",
              "\t<tr><td>246</td><td>carmine's                    </td><td>2450 broadway          </td><td>new york   </td><td>212-362-2200</td><td>italian                 </td><td> 28</td><td> 28</td><td>carmine's                            </td><td>2450 broadway between 90th and 91st sts .</td><td>new york   </td><td>212-362-2200     </td><td>italian            </td><td> 28</td></tr>\n",
              "\t<tr><td>⋮</td><td>⋮</td><td>⋮</td><td>⋮</td><td>⋮</td><td>⋮</td><td>⋮</td><td>⋮</td><td>⋮</td><td>⋮</td><td>⋮</td><td>⋮</td><td>⋮</td><td>⋮</td></tr>\n",
              "\t<tr><td>NA</td><td>NA</td><td>NA</td><td>NA</td><td>NA</td><td>NA</td><td>NA</td><td>503</td><td>palio d  ` asti      </td><td>640 sacramento st.  </td><td>san francisco</td><td>415-395-9800</td><td>italian                       </td><td>503</td></tr>\n",
              "\t<tr><td>NA</td><td>NA</td><td>NA</td><td>NA</td><td>NA</td><td>NA</td><td>NA</td><td>504</td><td>pane e vino          </td><td>3011 steiner st.    </td><td>san francisco</td><td>415-346-2111</td><td>italian                       </td><td>504</td></tr>\n",
              "\t<tr><td>NA</td><td>NA</td><td>NA</td><td>NA</td><td>NA</td><td>NA</td><td>NA</td><td>505</td><td>pastis               </td><td>1015 battery st.    </td><td>san francisco</td><td>415-391-2555</td><td>french                        </td><td>505</td></tr>\n",
              "\t<tr><td>NA</td><td>NA</td><td>NA</td><td>NA</td><td>NA</td><td>NA</td><td>NA</td><td>506</td><td>perry's              </td><td>1944 union st.      </td><td>san francisco</td><td>415-922-9022</td><td>american                      </td><td>506</td></tr>\n",
              "\t<tr><td>NA</td><td>NA</td><td>NA</td><td>NA</td><td>NA</td><td>NA</td><td>NA</td><td>507</td><td><span style=white-space:pre-wrap>r &amp; g lounge         </span></td><td><span style=white-space:pre-wrap>631 b kearny st.    </span></td><td>san francisco</td><td>415-982-7877</td><td><span style=white-space:pre-wrap>asian                         </span></td><td>507</td></tr>\n",
              "\t<tr><td>NA</td><td>NA</td><td>NA</td><td>NA</td><td>NA</td><td>NA</td><td>NA</td><td>508</td><td>rubicon              </td><td>558 sacramento st.  </td><td>san francisco</td><td>415-434-4100</td><td>american                      </td><td>508</td></tr>\n",
              "\t<tr><td>NA</td><td>NA</td><td>NA</td><td>NA</td><td>NA</td><td>NA</td><td>NA</td><td>509</td><td>rumpus               </td><td>1 tillman pl .      </td><td>san francisco</td><td>415-421-2300</td><td>american                      </td><td>509</td></tr>\n",
              "\t<tr><td>NA</td><td>NA</td><td>NA</td><td>NA</td><td>NA</td><td>NA</td><td>NA</td><td>510</td><td>sanppo               </td><td>1702 post st.       </td><td>san francisco</td><td>415-346-3486</td><td>asian                         </td><td>510</td></tr>\n",
              "\t<tr><td>NA</td><td>NA</td><td>NA</td><td>NA</td><td>NA</td><td>NA</td><td>NA</td><td>511</td><td>scala's bistro       </td><td>432 powell st.      </td><td>san francisco</td><td>415-395-8555</td><td>italian                       </td><td>511</td></tr>\n",
              "\t<tr><td>NA</td><td>NA</td><td>NA</td><td>NA</td><td>NA</td><td>NA</td><td>NA</td><td>512</td><td>south park cafe      </td><td>108 south park      </td><td>san francisco</td><td>415-495-7275</td><td>french                        </td><td>512</td></tr>\n",
              "\t<tr><td>NA</td><td>NA</td><td>NA</td><td>NA</td><td>NA</td><td>NA</td><td>NA</td><td>513</td><td>splendido embarcadero</td><td>4                   </td><td>san francisco</td><td>415-986-3222</td><td>mediterranean                 </td><td>513</td></tr>\n",
              "\t<tr><td>NA</td><td>NA</td><td>NA</td><td>NA</td><td>NA</td><td>NA</td><td>NA</td><td>514</td><td>stars                </td><td>150 redwood alley   </td><td>san francisco</td><td>415-861-7827</td><td>american                      </td><td>514</td></tr>\n",
              "\t<tr><td>NA</td><td>NA</td><td>NA</td><td>NA</td><td>NA</td><td>NA</td><td>NA</td><td>515</td><td>stars cafe           </td><td>500 van ness ave.   </td><td>san francisco</td><td>415-861-4344</td><td>american                      </td><td>515</td></tr>\n",
              "\t<tr><td>NA</td><td>NA</td><td>NA</td><td>NA</td><td>NA</td><td>NA</td><td>NA</td><td>516</td><td>stoyanof's cafe      </td><td>1240 9th ave.       </td><td>san francisco</td><td>415-664-3664</td><td>greek and middle eastern      </td><td>516</td></tr>\n",
              "\t<tr><td>NA</td><td>NA</td><td>NA</td><td>NA</td><td>NA</td><td>NA</td><td>NA</td><td>517</td><td>straits cafe         </td><td>3300 geary blvd.    </td><td>san francisco</td><td>415-668-1783</td><td>asian                         </td><td>517</td></tr>\n",
              "\t<tr><td>NA</td><td>NA</td><td>NA</td><td>NA</td><td>NA</td><td>NA</td><td>NA</td><td>518</td><td>suppenkuche          </td><td>601 hayes st.       </td><td>san francisco</td><td>415-252-9289</td><td>russian/german                </td><td>518</td></tr>\n",
              "\t<tr><td>NA</td><td>NA</td><td>NA</td><td>NA</td><td>NA</td><td>NA</td><td>NA</td><td>519</td><td>tadich grill         </td><td>240 california st.  </td><td>san francisco</td><td>415-391-2373</td><td>seafood                       </td><td>519</td></tr>\n",
              "\t<tr><td>NA</td><td>NA</td><td>NA</td><td>NA</td><td>NA</td><td>NA</td><td>NA</td><td>520</td><td>the heights          </td><td>3235 sacramento st. </td><td>san francisco</td><td>415-474-8890</td><td>french                        </td><td>520</td></tr>\n",
              "\t<tr><td>NA</td><td>NA</td><td>NA</td><td>NA</td><td>NA</td><td>NA</td><td>NA</td><td>521</td><td>thepin               </td><td>298 gough st.       </td><td>san francisco</td><td>415-863-9335</td><td>asian                         </td><td>521</td></tr>\n",
              "\t<tr><td>NA</td><td>NA</td><td>NA</td><td>NA</td><td>NA</td><td>NA</td><td>NA</td><td>522</td><td>ton kiang            </td><td>3148 geary blvd.    </td><td>san francisco</td><td>415-752-4440</td><td>asian                         </td><td>522</td></tr>\n",
              "\t<tr><td>NA</td><td>NA</td><td>NA</td><td>NA</td><td>NA</td><td>NA</td><td>NA</td><td>523</td><td>vertigo              </td><td>600 montgomery st.  </td><td>san francisco</td><td>415-433-7250</td><td>mediterranean                 </td><td>523</td></tr>\n",
              "\t<tr><td>NA</td><td>NA</td><td>NA</td><td>NA</td><td>NA</td><td>NA</td><td>NA</td><td>524</td><td>vivande porta via    </td><td>2125 fillmore st.   </td><td>san francisco</td><td>415-346-4430</td><td>italian                       </td><td>524</td></tr>\n",
              "\t<tr><td>NA</td><td>NA</td><td>NA</td><td>NA</td><td>NA</td><td>NA</td><td>NA</td><td>525</td><td>vivande ristorante   </td><td>670 golden gate ave.</td><td>san francisco</td><td>415-673-9245</td><td>italian                       </td><td>525</td></tr>\n",
              "\t<tr><td>NA</td><td>NA</td><td>NA</td><td>NA</td><td>NA</td><td>NA</td><td>NA</td><td>526</td><td>world wrapps         </td><td>2257 chestnut st.   </td><td>san francisco</td><td>415-563-9727</td><td>american                      </td><td>526</td></tr>\n",
              "\t<tr><td>NA</td><td>NA</td><td>NA</td><td>NA</td><td>NA</td><td>NA</td><td>NA</td><td>527</td><td>wu kong              </td><td>101 spear st.       </td><td>san francisco</td><td>415-957-9300</td><td>asian                         </td><td>527</td></tr>\n",
              "\t<tr><td>NA</td><td>NA</td><td>NA</td><td>NA</td><td>NA</td><td>NA</td><td>NA</td><td>528</td><td>yank sing            </td><td>427 battery st.     </td><td>san francisco</td><td>415-541-4949</td><td>asian                         </td><td>528</td></tr>\n",
              "\t<tr><td>NA</td><td>NA</td><td>NA</td><td>NA</td><td>NA</td><td>NA</td><td>NA</td><td>529</td><td>yaya cuisine         </td><td>1220 9th ave.       </td><td>san francisco</td><td>415-566-6966</td><td>greek and middle eastern      </td><td>529</td></tr>\n",
              "\t<tr><td>NA</td><td>NA</td><td>NA</td><td>NA</td><td>NA</td><td>NA</td><td>NA</td><td>530</td><td>yoyo tsumami bistro  </td><td>1611 post st.       </td><td>san francisco</td><td>415-922-7788</td><td>french                        </td><td>530</td></tr>\n",
              "\t<tr><td>NA</td><td>NA</td><td>NA</td><td>NA</td><td>NA</td><td>NA</td><td>NA</td><td>531</td><td>zarzuela             </td><td>2000 hyde st.       </td><td>san francisco</td><td>415-346-0800</td><td>mexican/latin american/spanish</td><td>531</td></tr>\n",
              "\t<tr><td>NA</td><td>NA</td><td>NA</td><td>NA</td><td>NA</td><td>NA</td><td>NA</td><td>532</td><td><span style=white-space:pre-wrap>zuni cafe &amp; grill    </span></td><td><span style=white-space:pre-wrap>1658 market st.     </span></td><td>san francisco</td><td>415-552-2522</td><td><span style=white-space:pre-wrap>mediterranean                 </span></td><td>532</td></tr>\n",
              "</tbody>\n",
              "</table>\n"
            ]
          },
          "metadata": {
            "tags": []
          }
        }
      ]
    }
  ]
}